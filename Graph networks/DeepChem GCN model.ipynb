{
 "cells": [
  {
   "cell_type": "code",
   "execution_count": 3,
   "id": "60ab48ab",
   "metadata": {},
   "outputs": [],
   "source": [
    "import deepchem as dc\n",
    "from deepchem.models import GCNModel\n",
    "import pandas as pd\n",
    "import numpy as np\n",
    "import warnings\n",
    "warnings.filterwarnings(\"ignore\")"
   ]
  },
  {
   "cell_type": "markdown",
   "id": "e30f8e08",
   "metadata": {},
   "source": [
    "### Cleaning Dataset"
   ]
  },
  {
   "cell_type": "code",
   "execution_count": 4,
   "id": "d47d92b7",
   "metadata": {},
   "outputs": [],
   "source": [
    "data_ = pd.read_csv(\"../../data/FilteredData.csv\")"
   ]
  },
  {
   "cell_type": "code",
   "execution_count": 5,
   "id": "98a820ab",
   "metadata": {},
   "outputs": [],
   "source": [
    "def SingleAtomRemover(x):\n",
    "    singleAtom = [\"[Kr]\",\"[Ne]\",\"C\",\"[Li]\",\"O\",\"[Ar]\",'[Xe]']\n",
    "    if x in singleAtom:\n",
    "        return 1\n",
    "    else: \n",
    "        return 0  "
   ]
  },
  {
   "cell_type": "code",
   "execution_count": 6,
   "id": "b4ed1060",
   "metadata": {},
   "outputs": [],
   "source": [
    "data = data_[[\"Structure\",\"BBB+/BBB-\"]]\n",
    "data.replace({\"BBB+\":1,\"BBB-\":0},inplace=True)"
   ]
  },
  {
   "cell_type": "code",
   "execution_count": 7,
   "id": "d411f945",
   "metadata": {},
   "outputs": [],
   "source": [
    "data.rename(columns={\"Structure\":\"SMILES\",\"BBB+/BBB-\":\"LABELS\"},inplace=True)\n",
    "data[\"Isit\"] = data[\"SMILES\"].apply(SingleAtomRemover)\n",
    "### Remove single element\n",
    "data.drop(data[data[\"Isit\"] == 1].index,inplace=True)"
   ]
  },
  {
   "cell_type": "code",
   "execution_count": 8,
   "id": "dd1590b4",
   "metadata": {},
   "outputs": [],
   "source": [
    "data.to_csv(r\"data.csv\")"
   ]
  },
  {
   "cell_type": "code",
   "execution_count": 9,
   "id": "a02b38b0",
   "metadata": {},
   "outputs": [],
   "source": [
    "clean_data = pd.read_csv(r\"data.csv\")"
   ]
  },
  {
   "cell_type": "markdown",
   "id": "d3c60082",
   "metadata": {},
   "source": [
    "### Converting in DeepChem Format"
   ]
  },
  {
   "cell_type": "code",
   "execution_count": 10,
   "id": "090f4b16",
   "metadata": {},
   "outputs": [],
   "source": [
    "smiles = clean_data.SMILES.to_list()"
   ]
  },
  {
   "cell_type": "code",
   "execution_count": 11,
   "id": "f9d03472",
   "metadata": {},
   "outputs": [],
   "source": [
    "labels = clean_data.LABELS.to_list()"
   ]
  },
  {
   "cell_type": "markdown",
   "id": "8a92884c",
   "metadata": {},
   "source": [
    "#### Featurizing the node"
   ]
  },
  {
   "cell_type": "code",
   "execution_count": 12,
   "id": "0bb8ea1d",
   "metadata": {},
   "outputs": [],
   "source": [
    "featurizer = dc.feat.MolGraphConvFeaturizer()"
   ]
  },
  {
   "cell_type": "code",
   "execution_count": 13,
   "id": "0895e05c",
   "metadata": {},
   "outputs": [],
   "source": [
    "X = featurizer.featurize(smiles)"
   ]
  },
  {
   "cell_type": "markdown",
   "id": "526c7935",
   "metadata": {},
   "source": [
    "### converting into numpy datset"
   ]
  },
  {
   "cell_type": "code",
   "execution_count": 54,
   "id": "b9f8b8ba",
   "metadata": {},
   "outputs": [],
   "source": [
    "dataset = dc.data.NumpyDataset(X=X, y=labels)"
   ]
  },
  {
   "cell_type": "code",
   "execution_count": 55,
   "id": "073f7c86",
   "metadata": {},
   "outputs": [],
   "source": [
    "splitter = dc.splits.RandomStratifiedSplitter()"
   ]
  },
  {
   "cell_type": "code",
   "execution_count": 56,
   "id": "40a3e007",
   "metadata": {},
   "outputs": [],
   "source": [
    "train_dataset, test_dataset = splitter.train_test_split(dataset,)"
   ]
  },
  {
   "cell_type": "markdown",
   "id": "24886544",
   "metadata": {},
   "source": [
    "### Model implementation"
   ]
  },
  {
   "cell_type": "code",
   "execution_count": 87,
   "id": "a03ab3ca",
   "metadata": {},
   "outputs": [],
   "source": [
    "# training model\n",
    "model = GCNModel(mode='classification',\n",
    "                 graph_conv_layers = [64,32],\n",
    "                 n_tasks=1,batch_size=256, learning_rate=0.001,model_dir=(\"DeepGCN\"))"
   ]
  },
  {
   "cell_type": "code",
   "execution_count": 88,
   "id": "021d09f8",
   "metadata": {},
   "outputs": [],
   "source": [
    "metrics1 = dc.metrics.Metric(dc.metrics.accuracy_score)\n",
    "metrics2 = dc.metrics.Metric(dc.metrics.f1_score)\n",
    "metrics3 = dc.metrics.Metric(dc.metrics.roc_auc_score)"
   ]
  },
  {
   "cell_type": "code",
   "execution_count": 89,
   "id": "abfb4806",
   "metadata": {},
   "outputs": [],
   "source": [
    "from deepchem.models.callbacks import ValidationCallback\n",
    "vc_valid = ValidationCallback(test_dataset, interval=100, metrics=[metrics1,metrics2,metrics3],)\n",
    "vc_valid2 = ValidationCallback(train_dataset, interval=100, metrics=[metrics1,metrics2,metrics3],)"
   ]
  },
  {
   "cell_type": "code",
   "execution_count": 90,
   "id": "ace97676",
   "metadata": {},
   "outputs": [
    {
     "name": "stdout",
     "output_type": "stream",
     "text": [
      "Step 100 validation: accuracy_score=0.726727 f1_score=0.805139 roc_auc_score=0.8319\n",
      "Step 100 validation: accuracy_score=0.756381 f1_score=0.827072 roc_auc_score=0.859379\n",
      "Step 200 validation: accuracy_score=0.767267 f1_score=0.822857 roc_auc_score=0.844227\n",
      "Step 200 validation: accuracy_score=0.810435 f1_score=0.851689 roc_auc_score=0.886435\n",
      "Step 300 validation: accuracy_score=0.755255 f1_score=0.822633 roc_auc_score=0.850896\n",
      "Step 300 validation: accuracy_score=0.79542 f1_score=0.850562 roc_auc_score=0.903628\n",
      "Step 400 validation: accuracy_score=0.75976 f1_score=0.821826 roc_auc_score=0.849439\n",
      "Step 400 validation: accuracy_score=0.823198 f1_score=0.866534 roc_auc_score=0.917966\n",
      "Step 500 validation: accuracy_score=0.785285 f1_score=0.824969 roc_auc_score=0.85434\n",
      "Step 500 validation: accuracy_score=0.849474 f1_score=0.872739 roc_auc_score=0.928609\n",
      "Step 600 validation: accuracy_score=0.776276 f1_score=0.808729 roc_auc_score=0.848446\n",
      "Step 600 validation: accuracy_score=0.847598 f1_score=0.865027 roc_auc_score=0.9355\n",
      "Step 700 validation: accuracy_score=0.783784 f1_score=0.835616 roc_auc_score=0.844454\n",
      "Step 700 validation: accuracy_score=0.871246 f1_score=0.898551 roc_auc_score=0.946073\n",
      "Step 800 validation: accuracy_score=0.792793 f1_score=0.831707 roc_auc_score=0.846138\n",
      "Step 800 validation: accuracy_score=0.881757 f1_score=0.900032 roc_auc_score=0.953052\n",
      "Step 900 validation: accuracy_score=0.782282 f1_score=0.830409 roc_auc_score=0.847964\n",
      "Step 900 validation: accuracy_score=0.88476 f1_score=0.906545 roc_auc_score=0.952398\n",
      "Step 1000 validation: accuracy_score=0.804805 f1_score=0.845606 roc_auc_score=0.849518\n",
      "Step 1000 validation: accuracy_score=0.90015 f1_score=0.917749 roc_auc_score=0.966022\n",
      "Step 1100 validation: accuracy_score=0.807808 f1_score=0.849412 roc_auc_score=0.851324\n",
      "Step 1100 validation: accuracy_score=0.910661 f1_score=0.92801 roc_auc_score=0.971201\n",
      "Step 1200 validation: accuracy_score=0.794294 f1_score=0.838253 roc_auc_score=0.838423\n",
      "Step 1200 validation: accuracy_score=0.914039 f1_score=0.930416 roc_auc_score=0.972851\n",
      "Step 1300 validation: accuracy_score=0.758258 f1_score=0.826695 roc_auc_score=0.847869\n",
      "Step 1300 validation: accuracy_score=0.832583 f1_score=0.877741 roc_auc_score=0.96117\n",
      "Step 1400 validation: accuracy_score=0.804805 f1_score=0.843373 roc_auc_score=0.841384\n",
      "Step 1400 validation: accuracy_score=0.926426 f1_score=0.938596 roc_auc_score=0.980825\n",
      "Step 1500 validation: accuracy_score=0.797297 f1_score=0.843931 roc_auc_score=0.836403\n",
      "Step 1500 validation: accuracy_score=0.931306 f1_score=0.94473 roc_auc_score=0.983909\n",
      "Step 1600 validation: accuracy_score=0.78979 f1_score=0.839817 roc_auc_score=0.83782\n",
      "Step 1600 validation: accuracy_score=0.91479 f1_score=0.932781 roc_auc_score=0.981998\n",
      "Step 1700 validation: accuracy_score=0.794294 f1_score=0.839766 roc_auc_score=0.840185\n",
      "Step 1700 validation: accuracy_score=0.948949 f1_score=0.958637 roc_auc_score=0.989989\n",
      "Step 1800 validation: accuracy_score=0.8003 f1_score=0.841855 roc_auc_score=0.840426\n",
      "Step 1800 validation: accuracy_score=0.951952 f1_score=0.960518 roc_auc_score=0.990304\n",
      "Step 1900 validation: accuracy_score=0.78979 f1_score=0.832536 roc_auc_score=0.837061\n",
      "Step 1900 validation: accuracy_score=0.96021 f1_score=0.967162 roc_auc_score=0.993213\n",
      "Step 2000 validation: accuracy_score=0.797297 f1_score=0.845714 roc_auc_score=0.831451\n",
      "Step 2000 validation: accuracy_score=0.939565 f1_score=0.952012 roc_auc_score=0.992448\n",
      "Step 2100 validation: accuracy_score=0.795796 f1_score=0.83848 roc_auc_score=0.830223\n",
      "Step 2100 validation: accuracy_score=0.968093 f1_score=0.973774 roc_auc_score=0.995546\n",
      "Step 2200 validation: accuracy_score=0.779279 f1_score=0.820513 roc_auc_score=0.825443\n",
      "Step 2200 validation: accuracy_score=0.951577 f1_score=0.959267 roc_auc_score=0.993405\n",
      "Step 2300 validation: accuracy_score=0.803303 f1_score=0.845336 roc_auc_score=0.829036\n",
      "Step 2300 validation: accuracy_score=0.971471 f1_score=0.976543 roc_auc_score=0.996848\n",
      "Step 2400 validation: accuracy_score=0.768769 f1_score=0.808933 roc_auc_score=0.823707\n",
      "Step 2400 validation: accuracy_score=0.957583 f1_score=0.964024 roc_auc_score=0.997677\n",
      "Step 2500 validation: accuracy_score=0.791291 f1_score=0.834721 roc_auc_score=0.822435\n",
      "Step 2500 validation: accuracy_score=0.976727 f1_score=0.980709 roc_auc_score=0.998001\n",
      "Step 2600 validation: accuracy_score=0.782282 f1_score=0.821648 roc_auc_score=0.828156\n",
      "Step 2600 validation: accuracy_score=0.96997 f1_score=0.974811 roc_auc_score=0.998201\n",
      "Step 2700 validation: accuracy_score=0.788288 f1_score=0.842105 roc_auc_score=0.818743\n",
      "Step 2700 validation: accuracy_score=0.9253 f1_score=0.941898 roc_auc_score=0.995887\n",
      "Step 2800 validation: accuracy_score=0.794294 f1_score=0.840883 roc_auc_score=0.828565\n",
      "Step 2800 validation: accuracy_score=0.978979 f1_score=0.982906 roc_auc_score=0.998873\n",
      "Step 2900 validation: accuracy_score=0.792793 f1_score=0.838028 roc_auc_score=0.826886\n",
      "Step 2900 validation: accuracy_score=0.987988 f1_score=0.99016 roc_auc_score=0.999392\n",
      "Step 3000 validation: accuracy_score=0.777778 f1_score=0.821256 roc_auc_score=0.819831\n",
      "Step 3000 validation: accuracy_score=0.981982 f1_score=0.985009 roc_auc_score=0.99908\n",
      "Step 3100 validation: accuracy_score=0.768769 f1_score=0.809406 roc_auc_score=0.8217\n",
      "Step 3100 validation: accuracy_score=0.978228 f1_score=0.981784 roc_auc_score=0.999574\n",
      "Step 3200 validation: accuracy_score=0.773273 f1_score=0.817853 roc_auc_score=0.825415\n",
      "Step 3200 validation: accuracy_score=0.98461 f1_score=0.987239 roc_auc_score=0.999583\n",
      "Step 3300 validation: accuracy_score=0.783784 f1_score=0.837472 roc_auc_score=0.819964\n",
      "Step 3300 validation: accuracy_score=0.954955 f1_score=0.964264 roc_auc_score=0.998744\n"
     ]
    },
    {
     "data": {
      "text/plain": [
       "0.060903925895690915"
      ]
     },
     "execution_count": 90,
     "metadata": {},
     "output_type": "execute_result"
    }
   ],
   "source": [
    "model.fit(train_dataset, nb_epoch=300,callbacks=[vc_valid,vc_valid2])"
   ]
  },
  {
   "cell_type": "code",
   "execution_count": 91,
   "id": "eba81757",
   "metadata": {},
   "outputs": [
    {
     "name": "stdout",
     "output_type": "stream",
     "text": [
      "Training set score: {'accuracy_score': 0.954954954954955, 'f1_score': 0.9642644431209053, 'roc_auc_score': 0.9987441464452959}\n",
      "Test set score: {'accuracy_score': 0.7837837837837838, 'f1_score': 0.837471783295711, 'roc_auc_score': 0.819963577881841}\n"
     ]
    }
   ],
   "source": [
    "train_score = model.evaluate(train_dataset, [metrics1,metrics2,metrics3],)\n",
    "test_score = model.evaluate(test_dataset, [metrics1,metrics2,metrics3],)\n",
    "\n",
    "print('Training set score:', train_score)\n",
    "print('Test set score:', test_score)\n",
    "\n"
   ]
  },
  {
   "cell_type": "code",
   "execution_count": 92,
   "id": "b50024ba",
   "metadata": {},
   "outputs": [],
   "source": [
    "train_preds = model.predict(train_dataset)"
   ]
  },
  {
   "cell_type": "code",
   "execution_count": 93,
   "id": "3aee5c3e",
   "metadata": {},
   "outputs": [],
   "source": [
    "test_preds = model.predict(test_dataset)"
   ]
  },
  {
   "cell_type": "code",
   "execution_count": 94,
   "id": "7ed35f3d",
   "metadata": {},
   "outputs": [],
   "source": [
    "from sklearn.metrics import accuracy_score\n",
    "def accuracy_counter(y_prob,y_true):\n",
    "    \n",
    "    y_prob = np.array(y_prob)\n",
    "    y_prob = np.where(y_prob <= 0.5, 0, y_prob)\n",
    "    y_prob = np.where(y_prob > 0.5, 1, y_prob)\n",
    "    \n",
    "    binary =  [np.argmax(i) for i in y_prob]\n",
    "    accuracy = accuracy_score(np.array(y_true),np.array(binary)) \n",
    "    \n",
    "    return accuracy"
   ]
  },
  {
   "cell_type": "code",
   "execution_count": 95,
   "id": "20a9a165",
   "metadata": {},
   "outputs": [
    {
     "name": "stdout",
     "output_type": "stream",
     "text": [
      "Training accuracy: 0.954954954954955  Test accuracy: 0.7837837837837838 \n"
     ]
    }
   ],
   "source": [
    "print(f\"Training accuracy: {accuracy_counter(train_preds,train_dataset.y)}  Test accuracy: {accuracy_counter(test_preds,test_dataset.y)} \",)"
   ]
  },
  {
   "cell_type": "code",
   "execution_count": null,
   "id": "29c84f98",
   "metadata": {},
   "outputs": [],
   "source": []
  }
 ],
 "metadata": {
  "kernelspec": {
   "display_name": "Python 3 (ipykernel)",
   "language": "python",
   "name": "python3"
  },
  "language_info": {
   "codemirror_mode": {
    "name": "ipython",
    "version": 3
   },
   "file_extension": ".py",
   "mimetype": "text/x-python",
   "name": "python",
   "nbconvert_exporter": "python",
   "pygments_lexer": "ipython3",
   "version": "3.9.7"
  }
 },
 "nbformat": 4,
 "nbformat_minor": 5
}
