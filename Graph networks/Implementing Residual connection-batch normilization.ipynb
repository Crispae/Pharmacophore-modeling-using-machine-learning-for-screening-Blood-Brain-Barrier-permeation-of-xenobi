{
 "cells": [
  {
   "cell_type": "code",
   "execution_count": 3,
   "id": "b017141b",
   "metadata": {},
   "outputs": [
    {
     "name": "stderr",
     "output_type": "stream",
     "text": [
      "C:\\Users\\Y-8874903-E.ESTUDIANT\\Anaconda3\\envs\\MLenv\\lib\\site-packages\\tqdm\\auto.py:22: TqdmWarning: IProgress not found. Please update jupyter and ipywidgets. See https://ipywidgets.readthedocs.io/en/stable/user_install.html\n",
      "  from .autonotebook import tqdm as notebook_tqdm\n"
     ]
    }
   ],
   "source": [
    "import torch\n",
    "import torch.nn as nn\n",
    "from torch.nn import functional as F\n",
    "import pandas as pd\n",
    "import deepchem as dc\n",
    "import os\n",
    "from tqdm import tqdm\n",
    "from torch_geometric.nn import GCNConv\n",
    "from torch_geometric.nn import global_mean_pool\n",
    "from torch.nn import BatchNorm1d"
   ]
  },
  {
   "cell_type": "code",
   "execution_count": 23,
   "id": "34d46e43",
   "metadata": {},
   "outputs": [],
   "source": [
    "class GCNLayer(nn.Module):\n",
    "    \n",
    "    def __init__(self,in_feats,out_feats,):\n",
    "        \n",
    "        super().__init__()\n",
    "        \n",
    "        self.graph_conv = GCNConv(in_channels=in_feats,out_channels=out_feats)\n",
    "        self.dropout = nn.Dropout(p=0.6)\n",
    "        \n",
    "        ## implementing residual\n",
    "        self.res_connection = nn.Linear(in_feats,out_feats)\n",
    "        \n",
    "        ## implementing batch normalization layer\n",
    "        self.bn = BatchNorm1d(out_feats,)\n",
    "            \n",
    "    def reset_parameters(self):\n",
    "        \"\"\"Reinitialize model parameters.\"\"\"\n",
    "        self.graph_conv.reset_parameters()\n",
    "        self.res_connection.reset_parameters()\n",
    "            \n",
    "    def forward(self,x,edge_index):\n",
    "        \n",
    "        ### Extracting data from batch\n",
    "        new_feats = self.graph_conv(x,edge_index)\n",
    "        res_feats = F.relu(self.res_connection(x))\n",
    "        new_feats = new_feats + res_feats ### residual added\n",
    "        \n",
    "        new_feats = self.dropout(new_feats)\n",
    "        \n",
    "        return self.bn(new_feats)\n",
    "        "
   ]
  },
  {
   "cell_type": "code",
   "execution_count": 8,
   "id": "6fb6b970",
   "metadata": {},
   "outputs": [],
   "source": [
    "class GCNNetwork(nn.Module):\n",
    "    \n",
    "    def __init__(self,):\n",
    "        \n",
    "        super().__init__()\n",
    "        \n",
    "        ## GCN layers\n",
    "        self.GCNConv1 = GCNLayer(30,32)\n",
    "        self.GCNConv2 = GCNLayer(32,64)\n",
    "#         self.GCNConv3 = GCNLayer(64,32)\n",
    "#         self.GCNConv4 = GCNLayer(32,16)\n",
    "        \n",
    "        \n",
    "        ### Predictor layers\n",
    "        self.lin1 = nn.Linear(16,128)\n",
    "        self.lin2 = nn.Linear(128,1)\n",
    "        \n",
    "        \n",
    "    def forward(self,data):\n",
    "        \n",
    "        batch, x, edge_index, edge_attr = (data.batch, data.x, data.edge_index, data.edge_attr)\n",
    "        \n",
    "        x = F.relu(self.GCNConv1(x,edge_index))\n",
    "        x = F.relu(self.GCNConv2(x,edge_index))\n",
    "        x = F.dropout(x, p=0.6, training=self.training)\n",
    "        x = F.relu(self.GCNConv3(x,edge_index))\n",
    "        x = F.dropout(x, p=0.6, training=self.training)\n",
    "        x = F.relu(self.GCNConv4(x,edge_index))\n",
    "        x = global_mean_pool(x,batch)\n",
    "        \n",
    "        x = F.relu(self.lin1(x))\n",
    "        x = F.dropout(x, p=0.6, training=self.training)\n",
    "        x = torch.sigmoid(self.lin2(x))\n",
    "        \n",
    "        return x      "
   ]
  },
  {
   "cell_type": "code",
   "execution_count": 9,
   "id": "9bce6feb",
   "metadata": {},
   "outputs": [],
   "source": [
    "clean_data = pd.read_csv(r\"Data.csv\")"
   ]
  },
  {
   "cell_type": "code",
   "execution_count": 10,
   "id": "ed714731",
   "metadata": {},
   "outputs": [],
   "source": [
    "data = clean_data"
   ]
  },
  {
   "cell_type": "code",
   "execution_count": 11,
   "id": "39ebbb11",
   "metadata": {},
   "outputs": [],
   "source": [
    "from torch_geometric.data import Dataset, Data\n",
    "from torch_geometric.loader import DataLoader"
   ]
  },
  {
   "cell_type": "code",
   "execution_count": 12,
   "id": "62baa916",
   "metadata": {},
   "outputs": [],
   "source": [
    "class BBBDataset(Dataset):\n",
    "    \n",
    "    def __init__(self,root,transform=None,pre_transform=None,pre_filter=None):\n",
    "        \n",
    "        super().__init__(root, transform, pre_transform, pre_filter)\n",
    "        \n",
    "        \n",
    "        \n",
    "    @property\n",
    "    def raw_file_names(self):\n",
    "        \n",
    "        \"\"\"\n",
    "        If this file exists in raw_dir, the download is not triggered\n",
    "        \"\"\"\n",
    "        return \"data.csv\"\n",
    "        \n",
    "    def download(self):\n",
    "        pass\n",
    "    \n",
    "    @property\n",
    "    def processed_file_names(self):\n",
    "        return ['data.pt']\n",
    "    \n",
    "    \n",
    "    def process(self):\n",
    "        \n",
    "        self.data = pd.read_csv(self.raw_paths[0])\n",
    "        smiles = self.data.SMILES.to_list()\n",
    "        labels = self.data.LABELS.to_list()\n",
    "        \n",
    "        featurizer = dc.feat.MolGraphConvFeaturizer() ## Feature calculator\n",
    "        \n",
    "        X = featurizer.featurize(smiles)\n",
    "        \n",
    "        j=0\n",
    "        for idx, Gdata in tqdm(enumerate(X)):\n",
    "            \n",
    "            pyG_data = Gdata\n",
    "            \n",
    "            nodes = torch.tensor(pyG_data.node_features,dtype= torch.float32)\n",
    "            \n",
    "            Edge_index = torch.tensor(pyG_data.edge_index,dtype= torch.int64 )\n",
    "            #Edge_feats = torch.tensor(pyG_data.edge_features,dtype=torch.float32)\n",
    "            y = torch.tensor([labels[idx]],dtype= torch.float32 )\n",
    "            ### create data object\n",
    "            data = Data(x=nodes,edge_index=Edge_index,y=y,smiles=smiles[idx])\n",
    "            torch.save(data,os.path.join(self.processed_dir,f\"data_{j}.pt\"))\n",
    "            j+=1\n",
    "            \n",
    "    def len (self):\n",
    "        return self.data.shape[0]\n",
    "    \n",
    "    def get(self,idx):\n",
    "        data = torch.load(os.path.join(self.processed_dir,f'data_{idx}.pt'))\n",
    "        return data\n"
   ]
  },
  {
   "cell_type": "code",
   "execution_count": 13,
   "id": "da462749",
   "metadata": {},
   "outputs": [
    {
     "name": "stderr",
     "output_type": "stream",
     "text": [
      "Processing...\n",
      "3330it [00:02, 1357.58it/s]\n",
      "Done!\n"
     ]
    }
   ],
   "source": [
    "dataset = BBBDataset(root=\".\",)"
   ]
  },
  {
   "cell_type": "code",
   "execution_count": 14,
   "id": "40e2c2c1",
   "metadata": {},
   "outputs": [],
   "source": [
    "### Splitting of data\n",
    "from torch.utils.data import random_split\n",
    "\n",
    "train_set, valid_set, test_set = random_split(dataset,[2331,666,333])\n",
    "\n",
    "trainloader = DataLoader(train_set,shuffle=True,batch_size=256,)\n",
    "\n",
    "validloader = DataLoader(valid_set, shuffle=True,batch_size=256,)\n",
    "\n",
    "testloader = DataLoader(test_set, shuffle=True,batch_size=256,)"
   ]
  },
  {
   "cell_type": "code",
   "execution_count": 15,
   "id": "c1f14f3d",
   "metadata": {},
   "outputs": [
    {
     "data": {
      "text/plain": [
       "GCNNetwork(\n",
       "  (GCNConv1): GCNLayer(\n",
       "    (graph_conv): GCNConv(30, 128)\n",
       "    (dropout): Dropout(p=0.6, inplace=False)\n",
       "    (res_connection): Linear(in_features=30, out_features=128, bias=True)\n",
       "    (bn): BatchNorm1d(128, eps=1e-05, momentum=0.1, affine=True, track_running_stats=True)\n",
       "  )\n",
       "  (GCNConv2): GCNLayer(\n",
       "    (graph_conv): GCNConv(128, 64)\n",
       "    (dropout): Dropout(p=0.6, inplace=False)\n",
       "    (res_connection): Linear(in_features=128, out_features=64, bias=True)\n",
       "    (bn): BatchNorm1d(64, eps=1e-05, momentum=0.1, affine=True, track_running_stats=True)\n",
       "  )\n",
       "  (GCNConv3): GCNLayer(\n",
       "    (graph_conv): GCNConv(64, 32)\n",
       "    (dropout): Dropout(p=0.6, inplace=False)\n",
       "    (res_connection): Linear(in_features=64, out_features=32, bias=True)\n",
       "    (bn): BatchNorm1d(32, eps=1e-05, momentum=0.1, affine=True, track_running_stats=True)\n",
       "  )\n",
       "  (GCNConv4): GCNLayer(\n",
       "    (graph_conv): GCNConv(32, 16)\n",
       "    (dropout): Dropout(p=0.6, inplace=False)\n",
       "    (res_connection): Linear(in_features=32, out_features=16, bias=True)\n",
       "    (bn): BatchNorm1d(16, eps=1e-05, momentum=0.1, affine=True, track_running_stats=True)\n",
       "  )\n",
       "  (lin1): Linear(in_features=16, out_features=128, bias=True)\n",
       "  (lin2): Linear(in_features=128, out_features=1, bias=True)\n",
       ")"
      ]
     },
     "execution_count": 15,
     "metadata": {},
     "output_type": "execute_result"
    }
   ],
   "source": [
    "from torch.nn import BCEWithLogitsLoss, BCELoss,CrossEntropyLoss, Softmax\n",
    "\n",
    "## Intilaize Network\n",
    "net = GCNNetwork()\n",
    "\n",
    "### initialize an optimizer with someparameters\n",
    "optimizer = torch.optim.Adam(net.parameters(), lr=0.001,weight_decay=0.00001)\n",
    "\n",
    "### Defining loss\n",
    "criterion = BCELoss()\n",
    "\n",
    "### criterion\n",
    "criterion.cuda()\n",
    "\n",
    "## shifting to GPU\n",
    "device = \"cuda\" if torch.cuda.is_available() else \"cpu\"\n",
    "net.to(device)"
   ]
  },
  {
   "cell_type": "code",
   "execution_count": 16,
   "id": "4a5598f8",
   "metadata": {},
   "outputs": [],
   "source": [
    "from sklearn.metrics import accuracy_score"
   ]
  },
  {
   "cell_type": "code",
   "execution_count": 17,
   "id": "bd89376b",
   "metadata": {},
   "outputs": [],
   "source": [
    "def accuracy_counter(y_prob,y_true):\n",
    "    \n",
    "    y_prob = np.array(y_prob)\n",
    "    y_prob = np.where(y_prob <= 0.5, 0, y_prob)\n",
    "    y_prob = np.where(y_prob > 0.5, 1, y_prob)\n",
    "    accuracy = accuracy_score(np.array(y_true),y_prob)\n",
    "    \n",
    "    return (accuracy,)"
   ]
  },
  {
   "cell_type": "code",
   "execution_count": 18,
   "id": "e79265c8",
   "metadata": {},
   "outputs": [],
   "source": [
    "def train():\n",
    "    \n",
    "    net.train() ### training mode\n",
    "    \n",
    "    y_true = []\n",
    "    proab = []\n",
    "    train_loss = []\n",
    "    for data in trainloader:## Iterate in batches over training dataset\n",
    "        data.to(device)\n",
    "        \n",
    "        optimizer.zero_grad() ## clear gradients\n",
    "        out = net(data).squeeze(0) ## single forward pass\n",
    "        \n",
    "        proab.extend(out.detach().cpu().numpy().squeeze().tolist()) ## appending to list each batch\n",
    "        y_true.extend(data.y.unsqueeze(1).squeeze().tolist()) ## appending true value of each batch\n",
    "        \n",
    "        loss = criterion(out,data.y.unsqueeze(1)) ## compute the loss\n",
    "        \n",
    "        train_loss.append(loss)\n",
    "        \n",
    "        loss.backward() ## Derive gradients\n",
    "        optimizer.step()## update parameters based on gradients\n",
    "        \n",
    "    av_loss = torch.sum(torch.tensor(train_loss))/len(trainloader)\n",
    "    \n",
    "    accuracy = accuracy_counter(proab,y_true)\n",
    "    \n",
    "    return (av_loss,accuracy)\n",
    "        "
   ]
  },
  {
   "cell_type": "code",
   "execution_count": 19,
   "id": "4ef95c75",
   "metadata": {},
   "outputs": [],
   "source": [
    "@torch.no_grad()\n",
    "def test(loader):\n",
    "    \n",
    "    net.eval() #### evaluation mode\n",
    "    \n",
    "    y_true = []\n",
    "    proab = []\n",
    "    val_loss = []\n",
    "    for data in loader:## Iterate in batches over training dataset\n",
    "        data.to(device)\n",
    "        out = net(data).squeeze(0) ## single forward pass\n",
    "        \n",
    "        proab.extend(out.detach().cpu().numpy().squeeze().tolist()) ## appending to list each batch\n",
    "        y_true.extend(data.y.unsqueeze(1).squeeze().tolist()) ## appending true value of each batch\n",
    "    \n",
    "        loss = criterion(out,data.y.unsqueeze(1))\n",
    "        val_loss.append(loss)\n",
    "        \n",
    "    val = torch.sum(torch.tensor(val_loss))/len(loader)\n",
    "    accuracy = accuracy_counter(proab,y_true)\n",
    "    return (val,accuracy)"
   ]
  },
  {
   "cell_type": "code",
   "execution_count": 20,
   "id": "98d50d27",
   "metadata": {},
   "outputs": [
    {
     "name": "stdout",
     "output_type": "stream",
     "text": [
      "Epoch: 001, Train loss: 0.7059, Train accuracy: 0.4487, val loss: 0.6896, val accuracy: 0.6066\n",
      "Epoch: 002, Train loss: 0.6805, Train accuracy: 0.5877, val loss: 0.6792, val accuracy: 0.6066\n",
      "Epoch: 003, Train loss: 0.6725, Train accuracy: 0.6122, val loss: 0.6730, val accuracy: 0.6066\n",
      "Epoch: 004, Train loss: 0.6625, Train accuracy: 0.6139, val loss: 0.6732, val accuracy: 0.6066\n",
      "Epoch: 005, Train loss: 0.6643, Train accuracy: 0.6135, val loss: 0.6707, val accuracy: 0.6066\n",
      "Epoch: 006, Train loss: 0.6619, Train accuracy: 0.6135, val loss: 0.6721, val accuracy: 0.6066\n",
      "Epoch: 007, Train loss: 0.6633, Train accuracy: 0.6139, val loss: 0.6730, val accuracy: 0.6066\n",
      "Epoch: 008, Train loss: 0.6570, Train accuracy: 0.6135, val loss: 0.6734, val accuracy: 0.6066\n",
      "Epoch: 009, Train loss: 0.6580, Train accuracy: 0.6126, val loss: 0.6744, val accuracy: 0.6066\n",
      "Epoch: 010, Train loss: 0.6561, Train accuracy: 0.6135, val loss: 0.6764, val accuracy: 0.6066\n",
      "Epoch: 011, Train loss: 0.6493, Train accuracy: 0.6135, val loss: 0.6783, val accuracy: 0.6066\n",
      "Epoch: 012, Train loss: 0.6506, Train accuracy: 0.6156, val loss: 0.6807, val accuracy: 0.6066\n",
      "Epoch: 013, Train loss: 0.6446, Train accuracy: 0.6148, val loss: 0.6836, val accuracy: 0.6066\n",
      "Epoch: 014, Train loss: 0.6441, Train accuracy: 0.6169, val loss: 0.6872, val accuracy: 0.6066\n",
      "Epoch: 015, Train loss: 0.6411, Train accuracy: 0.6160, val loss: 0.6904, val accuracy: 0.6456\n",
      "Epoch: 016, Train loss: 0.6283, Train accuracy: 0.6221, val loss: 0.6939, val accuracy: 0.4084\n",
      "Epoch: 017, Train loss: 0.6481, Train accuracy: 0.6246, val loss: 0.6962, val accuracy: 0.4024\n",
      "Epoch: 018, Train loss: 0.6317, Train accuracy: 0.6332, val loss: 0.7012, val accuracy: 0.3964\n",
      "Epoch: 019, Train loss: 0.6375, Train accuracy: 0.6431, val loss: 0.7064, val accuracy: 0.3964\n",
      "Epoch: 020, Train loss: 0.6366, Train accuracy: 0.6491, val loss: 0.7123, val accuracy: 0.3964\n",
      "Epoch: 021, Train loss: 0.6284, Train accuracy: 0.6534, val loss: 0.7144, val accuracy: 0.3949\n",
      "Epoch: 022, Train loss: 0.6241, Train accuracy: 0.6577, val loss: 0.7151, val accuracy: 0.3949\n",
      "Epoch: 023, Train loss: 0.6211, Train accuracy: 0.6542, val loss: 0.7207, val accuracy: 0.3934\n",
      "Epoch: 024, Train loss: 0.6107, Train accuracy: 0.6645, val loss: 0.7307, val accuracy: 0.3934\n",
      "Epoch: 025, Train loss: 0.6298, Train accuracy: 0.6641, val loss: 0.7380, val accuracy: 0.3934\n",
      "Epoch: 026, Train loss: 0.6061, Train accuracy: 0.6744, val loss: 0.7387, val accuracy: 0.3934\n",
      "Epoch: 027, Train loss: 0.6023, Train accuracy: 0.6697, val loss: 0.7449, val accuracy: 0.3934\n",
      "Epoch: 028, Train loss: 0.6077, Train accuracy: 0.6718, val loss: 0.7495, val accuracy: 0.3934\n",
      "Epoch: 029, Train loss: 0.6275, Train accuracy: 0.6752, val loss: 0.7504, val accuracy: 0.3934\n",
      "Epoch: 030, Train loss: 0.5988, Train accuracy: 0.6795, val loss: 0.7684, val accuracy: 0.3934\n",
      "Epoch: 031, Train loss: 0.6145, Train accuracy: 0.6697, val loss: 0.7734, val accuracy: 0.3934\n",
      "Epoch: 032, Train loss: 0.5913, Train accuracy: 0.6834, val loss: 0.7743, val accuracy: 0.3934\n",
      "Epoch: 033, Train loss: 0.5998, Train accuracy: 0.6787, val loss: 0.7750, val accuracy: 0.3934\n",
      "Epoch: 034, Train loss: 0.6135, Train accuracy: 0.6817, val loss: 0.7778, val accuracy: 0.3934\n",
      "Epoch: 035, Train loss: 0.5919, Train accuracy: 0.6976, val loss: 0.7935, val accuracy: 0.3934\n",
      "Epoch: 036, Train loss: 0.5915, Train accuracy: 0.6907, val loss: 0.7953, val accuracy: 0.3934\n",
      "Epoch: 037, Train loss: 0.5870, Train accuracy: 0.6817, val loss: 0.7983, val accuracy: 0.3934\n",
      "Epoch: 038, Train loss: 0.5904, Train accuracy: 0.6860, val loss: 0.8138, val accuracy: 0.3934\n",
      "Epoch: 039, Train loss: 0.5830, Train accuracy: 0.6868, val loss: 0.8208, val accuracy: 0.3934\n",
      "Epoch: 040, Train loss: 0.5952, Train accuracy: 0.6843, val loss: 0.8307, val accuracy: 0.3934\n",
      "Epoch: 041, Train loss: 0.5975, Train accuracy: 0.6873, val loss: 0.8363, val accuracy: 0.3934\n",
      "Epoch: 042, Train loss: 0.5858, Train accuracy: 0.6993, val loss: 0.8470, val accuracy: 0.3934\n",
      "Epoch: 043, Train loss: 0.5910, Train accuracy: 0.6980, val loss: 0.8539, val accuracy: 0.3934\n",
      "Epoch: 044, Train loss: 0.5946, Train accuracy: 0.6881, val loss: 0.8448, val accuracy: 0.3934\n",
      "Epoch: 045, Train loss: 0.5850, Train accuracy: 0.6954, val loss: 0.8618, val accuracy: 0.3934\n",
      "Epoch: 046, Train loss: 0.5969, Train accuracy: 0.6988, val loss: 0.8696, val accuracy: 0.3934\n",
      "Epoch: 047, Train loss: 0.5836, Train accuracy: 0.7036, val loss: 0.8620, val accuracy: 0.3934\n",
      "Epoch: 048, Train loss: 0.5878, Train accuracy: 0.7048, val loss: 0.8483, val accuracy: 0.3934\n",
      "Epoch: 049, Train loss: 0.5864, Train accuracy: 0.7070, val loss: 0.8707, val accuracy: 0.3934\n",
      "Epoch: 050, Train loss: 0.5816, Train accuracy: 0.7109, val loss: 0.8827, val accuracy: 0.3934\n",
      "Epoch: 051, Train loss: 0.5837, Train accuracy: 0.6903, val loss: 0.8695, val accuracy: 0.3934\n",
      "Epoch: 052, Train loss: 0.5820, Train accuracy: 0.7006, val loss: 0.8902, val accuracy: 0.3934\n",
      "Epoch: 053, Train loss: 0.5829, Train accuracy: 0.6984, val loss: 0.8894, val accuracy: 0.3934\n",
      "Epoch: 054, Train loss: 0.5723, Train accuracy: 0.7053, val loss: 0.8741, val accuracy: 0.3934\n",
      "Epoch: 055, Train loss: 0.5687, Train accuracy: 0.7096, val loss: 0.8881, val accuracy: 0.3934\n",
      "Epoch: 056, Train loss: 0.5829, Train accuracy: 0.7040, val loss: 0.9053, val accuracy: 0.3934\n",
      "Epoch: 057, Train loss: 0.5830, Train accuracy: 0.7109, val loss: 0.9025, val accuracy: 0.3934\n",
      "Epoch: 058, Train loss: 0.5717, Train accuracy: 0.7113, val loss: 0.9042, val accuracy: 0.3934\n",
      "Epoch: 059, Train loss: 0.5679, Train accuracy: 0.7242, val loss: 0.9134, val accuracy: 0.3934\n",
      "Epoch: 060, Train loss: 0.5672, Train accuracy: 0.7100, val loss: 0.9126, val accuracy: 0.3934\n",
      "Epoch: 061, Train loss: 0.5716, Train accuracy: 0.7130, val loss: 0.9190, val accuracy: 0.3934\n",
      "Epoch: 062, Train loss: 0.5747, Train accuracy: 0.7083, val loss: 0.9200, val accuracy: 0.3934\n",
      "Epoch: 063, Train loss: 0.5596, Train accuracy: 0.7233, val loss: 0.9168, val accuracy: 0.3934\n",
      "Epoch: 064, Train loss: 0.5850, Train accuracy: 0.6971, val loss: 0.9166, val accuracy: 0.3934\n",
      "Epoch: 065, Train loss: 0.5526, Train accuracy: 0.7121, val loss: 0.9154, val accuracy: 0.3934\n",
      "Epoch: 066, Train loss: 0.5801, Train accuracy: 0.7121, val loss: 0.9304, val accuracy: 0.3934\n",
      "Epoch: 067, Train loss: 0.5581, Train accuracy: 0.7143, val loss: 0.9264, val accuracy: 0.3934\n",
      "Epoch: 068, Train loss: 0.5690, Train accuracy: 0.7079, val loss: 0.9167, val accuracy: 0.3949\n",
      "Epoch: 069, Train loss: 0.5527, Train accuracy: 0.7233, val loss: 0.9023, val accuracy: 0.3949\n",
      "Epoch: 070, Train loss: 0.5517, Train accuracy: 0.7233, val loss: 0.9175, val accuracy: 0.3964\n",
      "Epoch: 071, Train loss: 0.5805, Train accuracy: 0.7134, val loss: 0.9359, val accuracy: 0.3949\n",
      "Epoch: 072, Train loss: 0.5619, Train accuracy: 0.7186, val loss: 0.9563, val accuracy: 0.3934\n",
      "Epoch: 073, Train loss: 0.5692, Train accuracy: 0.7177, val loss: 0.9445, val accuracy: 0.3934\n",
      "Epoch: 074, Train loss: 0.5652, Train accuracy: 0.7302, val loss: 0.9437, val accuracy: 0.3934\n",
      "Epoch: 075, Train loss: 0.5689, Train accuracy: 0.7263, val loss: 0.9407, val accuracy: 0.3949\n",
      "Epoch: 076, Train loss: 0.5635, Train accuracy: 0.7186, val loss: 0.9550, val accuracy: 0.3949\n",
      "Epoch: 077, Train loss: 0.5508, Train accuracy: 0.7181, val loss: 0.9443, val accuracy: 0.3949\n",
      "Epoch: 078, Train loss: 0.5605, Train accuracy: 0.7190, val loss: 0.9490, val accuracy: 0.3949\n",
      "Epoch: 079, Train loss: 0.5421, Train accuracy: 0.7302, val loss: 0.9500, val accuracy: 0.3934\n",
      "Epoch: 080, Train loss: 0.5760, Train accuracy: 0.7173, val loss: 0.9261, val accuracy: 0.3934\n",
      "Epoch: 081, Train loss: 0.5470, Train accuracy: 0.7250, val loss: 0.9462, val accuracy: 0.3934\n",
      "Epoch: 082, Train loss: 0.5508, Train accuracy: 0.7233, val loss: 0.9510, val accuracy: 0.3934\n",
      "Epoch: 083, Train loss: 0.5656, Train accuracy: 0.7280, val loss: 0.9706, val accuracy: 0.3934\n",
      "Epoch: 084, Train loss: 0.5569, Train accuracy: 0.7216, val loss: 0.9689, val accuracy: 0.3949\n",
      "Epoch: 085, Train loss: 0.5698, Train accuracy: 0.7190, val loss: 0.9753, val accuracy: 0.3949\n",
      "Epoch: 086, Train loss: 0.5433, Train accuracy: 0.7237, val loss: 0.9695, val accuracy: 0.3949\n",
      "Epoch: 087, Train loss: 0.5590, Train accuracy: 0.7087, val loss: 0.9554, val accuracy: 0.3949\n"
     ]
    },
    {
     "name": "stdout",
     "output_type": "stream",
     "text": [
      "Epoch: 088, Train loss: 0.5681, Train accuracy: 0.7293, val loss: 0.9237, val accuracy: 0.3949\n",
      "Epoch: 089, Train loss: 0.5586, Train accuracy: 0.7237, val loss: 0.9602, val accuracy: 0.3949\n",
      "Epoch: 090, Train loss: 0.5350, Train accuracy: 0.7314, val loss: 0.9591, val accuracy: 0.3949\n",
      "Epoch: 091, Train loss: 0.5389, Train accuracy: 0.7362, val loss: 0.9722, val accuracy: 0.3949\n",
      "Epoch: 092, Train loss: 0.5502, Train accuracy: 0.7203, val loss: 0.9834, val accuracy: 0.3949\n",
      "Epoch: 093, Train loss: 0.5684, Train accuracy: 0.7220, val loss: 0.9979, val accuracy: 0.3949\n",
      "Epoch: 094, Train loss: 0.5507, Train accuracy: 0.7302, val loss: 0.9898, val accuracy: 0.3949\n",
      "Epoch: 095, Train loss: 0.5488, Train accuracy: 0.7263, val loss: 0.9755, val accuracy: 0.3949\n",
      "Epoch: 096, Train loss: 0.5520, Train accuracy: 0.7233, val loss: 0.9638, val accuracy: 0.3949\n",
      "Epoch: 097, Train loss: 0.5524, Train accuracy: 0.7259, val loss: 0.9477, val accuracy: 0.3964\n",
      "Epoch: 098, Train loss: 0.5436, Train accuracy: 0.7237, val loss: 0.9917, val accuracy: 0.3949\n",
      "Epoch: 099, Train loss: 0.5591, Train accuracy: 0.7280, val loss: 0.9990, val accuracy: 0.3949\n"
     ]
    }
   ],
   "source": [
    "\n",
    "import numpy as np\n",
    "epochs = 100\n",
    "\n",
    "## Accuracy\n",
    "traine_accuracy = []\n",
    "vale_accuracy = []\n",
    "teste_accuracy = []\n",
    "\n",
    "## Loss\n",
    "epoch_loss = []\n",
    "valida_loss = []\n",
    "test_loss_full = []\n",
    "\n",
    "for epoch in range(1,epochs):\n",
    "    \n",
    "    train_loss1,train_accuracy1 = train()\n",
    "    \n",
    "    train_loss2,train_accuracy2 = test(trainloader)\n",
    "    \n",
    "    val_loss,val_accuracy = test(validloader)\n",
    "    \n",
    "    test_loss,test_accuracy = test(testloader)\n",
    "    \n",
    "    ##losses\n",
    "    epoch_loss.append(train_loss1)\n",
    "    valida_loss.append(val_loss)\n",
    "    test_loss_full.append(test_loss)\n",
    "    \n",
    "    ## accuracy\n",
    "    traine_accuracy.append(train_accuracy1[0])\n",
    "    vale_accuracy.append(val_accuracy[0])\n",
    "    teste_accuracy.append(test_accuracy[0])\n",
    "    \n",
    "    print(f'Epoch: {epoch:03d}, Train loss: {train_loss1:.4f}, Train accuracy: {train_accuracy1[0]:.4f}, val loss: {val_loss:.4f}, val accuracy: {val_accuracy[0]:.4f}')"
   ]
  },
  {
   "cell_type": "code",
   "execution_count": 21,
   "id": "3718c2a6",
   "metadata": {},
   "outputs": [
    {
     "data": {
      "image/png": "[encoded data removed]",
      "text/plain": [
       "<Figure size 432x288 with 1 Axes>"
      ]
     },
     "metadata": {
      "needs_background": "light"
     },
     "output_type": "display_data"
    }
   ],
   "source": [
    "import matplotlib.pyplot as plt\n",
    "\n",
    "plt.plot([i for i in range(1,epochs)],[i.cpu().detach().numpy() for i  in epoch_loss],label=\"Train loss\",color=\"Red\",)\n",
    "plt.plot([i for i in range(1,epochs)],[j.cpu().detach().numpy() for j in valida_loss],label=\"valid loss\",color=\"Green\")\n",
    "#plt.plot([i for i in range(1,epochs)],[i.cpu().detach().numpy() for i in test_loss],label=\"Test loss\",color=\"Blue\")\n",
    "plt.legend()\n",
    "plt.xlabel(\"Epochs\")\n",
    "plt.ylabel(\"Loss\")\n",
    "plt.show()"
   ]
  },
  {
   "cell_type": "code",
   "execution_count": 22,
   "id": "90b81fbe",
   "metadata": {},
   "outputs": [
    {
     "data": {
      "image/png": "[encoded data removed]",
      "text/plain": [
       "<Figure size 432x288 with 1 Axes>"
      ]
     },
     "metadata": {
      "needs_background": "light"
     },
     "output_type": "display_data"
    }
   ],
   "source": [
    "plt.plot([i for i in range(1,epochs)],[i  for i  in traine_accuracy],label=\"Train accuracy\",color=\"Red\",)\n",
    "plt.plot([i for i in range(1,epochs)],[j for j in vale_accuracy],label=\"valid accuracy\",color=\"Green\")\n",
    "#plt.plot([i for i in range(1,epochs)],[i.cpu().detach().numpy() for i in test_loss],label=\"Test loss\",color=\"Blue\")\n",
    "plt.legend()\n",
    "plt.xlabel(\"Epochs\")\n",
    "plt.ylabel(\"accuracy\")\n",
    "plt.show()"
   ]
  },
  {
   "cell_type": "code",
   "execution_count": 86,
   "id": "a859af27",
   "metadata": {},
   "outputs": [
    {
     "name": "stdout",
     "output_type": "stream",
     "text": [
      "Training loss|   Mean: 0.58771812915802   std: 0.03894892334938049\n",
      "validation loss| Mean: 0.60456383228302  std: 0.038489241153001785\n",
      "Test loss|       Mean: 0.5889618396759033   std: nan\n"
     ]
    },
    {
     "name": "stderr",
     "output_type": "stream",
     "text": [
      "C:\\Users\\Y-8874~1.EST\\AppData\\Local\\Temp/ipykernel_8700/2757444226.py:3: UserWarning: To copy construct from a tensor, it is recommended to use sourceTensor.clone().detach() or sourceTensor.clone().detach().requires_grad_(True), rather than torch.tensor(sourceTensor).\n",
      "  print(f\"Test loss|       Mean: {torch.tensor(test_loss).mean()}   std: {torch.tensor(test_loss).std()}\")\n"
     ]
    }
   ],
   "source": [
    "print(f\"Training loss|   Mean: {torch.tensor(epoch_loss).mean()}   std: {torch.tensor(epoch_loss).std()}\")\n",
    "print(f\"validation loss| Mean: {torch.tensor(valida_loss).mean()}  std: {torch.tensor(valida_loss).std()}\")\n",
    "print(f\"Test loss|       Mean: {torch.tensor(test_loss).mean()}   std: {torch.tensor(test_loss).std()}\")"
   ]
  },
  {
   "cell_type": "code",
   "execution_count": null,
   "id": "119f3d97",
   "metadata": {},
   "outputs": [],
   "source": []
  }
 ],
 "metadata": {
  "kernelspec": {
   "display_name": "Python 3 (ipykernel)",
   "language": "python",
   "name": "python3"
  },
  "language_info": {
   "codemirror_mode": {
    "name": "ipython",
    "version": 3
   },
   "file_extension": ".py",
   "mimetype": "text/x-python",
   "name": "python",
   "nbconvert_exporter": "python",
   "pygments_lexer": "ipython3",
   "version": "3.9.7"
  }
 },
 "nbformat": 4,
 "nbformat_minor": 5
}
