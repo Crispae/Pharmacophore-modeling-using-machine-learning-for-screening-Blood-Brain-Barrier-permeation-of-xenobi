{
 "cells": [
  {
   "cell_type": "code",
   "execution_count": 83,
   "id": "754f6ce3",
   "metadata": {},
   "outputs": [],
   "source": [
    "import torch\n",
    "from torch_geometric.loader import DataLoader\n",
    "from torch_geometric.nn import NNConv, global_add_pool\n",
    "import torch.nn.functional as F\n",
    "from rdkit.Chem.rdmolops import GetAdjacencyMatrix\n",
    "import torch.nn as nn\n",
    "import numpy as np\n",
    "import pandas as pd\n",
    "from tqdm import tqdm\n",
    "import warnings\n",
    "import os\n",
    "warnings.filterwarnings(\"ignore\")"
   ]
  },
  {
   "cell_type": "markdown",
   "id": "44a34335",
   "metadata": {},
   "source": [
    "### Data Loading"
   ]
  },
  {
   "cell_type": "code",
   "execution_count": 84,
   "id": "ef52e062",
   "metadata": {},
   "outputs": [],
   "source": [
    "data_ = pd.read_csv(\"../data/FilteredData.csv\")"
   ]
  },
  {
   "cell_type": "code",
   "execution_count": 85,
   "id": "92e5e3b5",
   "metadata": {},
   "outputs": [],
   "source": [
    "def SingleAtomRemover(x):\n",
    "    singleAtom = [\"[Kr]\",\"[Ne]\",\"C\",\"[Li]\",\"O\",\"[Ar]\",'[Xe]']\n",
    "    if x in singleAtom:\n",
    "        return 1\n",
    "    else: \n",
    "        return 0  "
   ]
  },
  {
   "cell_type": "code",
   "execution_count": 86,
   "id": "b82f73a1",
   "metadata": {},
   "outputs": [],
   "source": [
    "data = data_[[\"Structure\",\"BBB+/BBB-\"]]"
   ]
  },
  {
   "cell_type": "code",
   "execution_count": 87,
   "id": "842faa2c",
   "metadata": {},
   "outputs": [],
   "source": [
    "data.replace({\"BBB+\":1,\"BBB-\":0},inplace=True)"
   ]
  },
  {
   "cell_type": "code",
   "execution_count": 88,
   "id": "d9455d92",
   "metadata": {},
   "outputs": [],
   "source": [
    "data.rename(columns={\"Structure\":\"SMILES\",\"BBB+/BBB-\":\"LABELS\"},inplace=True)"
   ]
  },
  {
   "cell_type": "code",
   "execution_count": 89,
   "id": "92490f3f",
   "metadata": {},
   "outputs": [],
   "source": [
    "data[\"Isit\"] = data[\"SMILES\"].apply(SingleAtomRemover)"
   ]
  },
  {
   "cell_type": "code",
   "execution_count": 90,
   "id": "159e6033",
   "metadata": {},
   "outputs": [],
   "source": [
    "### Remove single element\n",
    "data.drop(data[data[\"Isit\"] == 1].index,inplace=True)"
   ]
  },
  {
   "cell_type": "code",
   "execution_count": 91,
   "id": "71e74a4a",
   "metadata": {},
   "outputs": [],
   "source": [
    "data.to_csv(r\"raw/data.csv\")"
   ]
  },
  {
   "cell_type": "code",
   "execution_count": 92,
   "id": "2831b72a",
   "metadata": {},
   "outputs": [],
   "source": [
    "from torch_geometric.data import InMemoryDataset, download_url, Dataset, Data\n",
    "from rdkit import Chem\n",
    "\n",
    "class BBBDataset(Dataset): ### All dataset will store in RAM\n",
    "    \n",
    "    def __init__(self,root,transform = None, pre_transform=None,pre_filter=None):\n",
    "        \n",
    "        \"\"\"\n",
    "        root: where the dataset shoul be stored. The folder will split into raw_dir (downloaded dataset)\n",
    "        and processed_dir (processed data).\n",
    "\n",
    "        \"\"\"\n",
    "        super().__init__(root, transform, pre_transform, pre_filter)\n",
    "    \n",
    "    @property\n",
    "    def raw_file_names(self):\n",
    "        \n",
    "        \"\"\"\n",
    "        If this file exists in raw_dir, the download is not triggered\n",
    "        \"\"\"\n",
    "        return \"data.csv\"\n",
    "        \n",
    "    def download(self):\n",
    "        pass\n",
    "    \n",
    "    @property\n",
    "    def processed_file_names(self):\n",
    "        return ['data.pt']\n",
    "    \n",
    "    \n",
    "    def process(self):\n",
    "        \n",
    "        self.data = pd.read_csv(self.raw_paths[0])\n",
    "        dataArray = self.data[[\"SMILES\",\"LABELS\"]].to_numpy().squeeze()\n",
    "        \n",
    "        j = 0\n",
    "        for i in tqdm(dataArray):\n",
    "            processed_data = self.smiles2graph(*i)\n",
    "            \n",
    "            nodes_feats = processed_data[\"X\"]\n",
    "            label = processed_data[\"Y\"]\n",
    "            edge_feats = processed_data[\"E\"]\n",
    "            adj_mat = processed_data[\"A\"]\n",
    "            smiles = processed_data[\"SMILES\"]\n",
    "            \n",
    "            \n",
    "            ### create data object\n",
    "            data = Data(x=nodes_feats,edge_index=adj_mat,edge_attr=edge_feats,y=label,smiles=smiles)\n",
    "            \n",
    "            torch.save(data,os.path.join(self.processed_dir,f\"data_{j}.pt\"))\n",
    "            j+=1\n",
    "            \n",
    "    def smiles2graph(self, smiles,label):\n",
    "        try:\n",
    "            mol = Chem.MolFromSmiles(smiles)\n",
    "        except:\n",
    "            raise(\"Smiles not parsed by rdkit\")\n",
    "\n",
    "        adj_matrix = GetAdjacencyMatrix(mol) ### Adjacency matrix\n",
    "        row,col = np.where(adj_matrix)\n",
    "        coo = np.array(list(zip(row,col)))\n",
    "        coo = np.reshape(coo,(2,-1))\n",
    "\n",
    "        feature_array = np.zeros((mol.GetNumAtoms(),5),) ### Feature Matrix\n",
    "        for idx,atom in enumerate(mol.GetAtoms()):\n",
    "            feature_array[idx,0] = atom.GetAtomicNum()\n",
    "            feature_array[idx,1] = atom.GetDegree()\n",
    "            #feature_array[idx,2] = atom.GetFormalCharge()\n",
    "            feature_array[idx,2] = atom.GetHybridization()\n",
    "            feature_array[idx,3] = atom.GetExplicitValence()\n",
    "            feature_array[idx,4] = atom.GetMass()\n",
    "           \n",
    "        label_array = torch.tensor([0]) if label == 0 else torch.tensor([1])\n",
    "        \n",
    "#         if label == 0:\n",
    "#             label_array = torch.tensor([0])\n",
    "#         else:\n",
    "#             label_array = torch.tensor([1])\n",
    "\n",
    "        all_edge_feats = []\n",
    "        for bond in mol.GetBonds():\n",
    "            Edge_feature = []\n",
    "            # Feature 1: Bond type (as double)\n",
    "            Edge_feature.append(bond.GetBondTypeAsDouble())\n",
    "            # Feature 2: Rings\n",
    "            Edge_feature.append(bond.IsInRing())\n",
    "            # Append edget features to matrix (twice, per direction)\n",
    "            all_edge_feats += [Edge_feature, Edge_feature]\n",
    "\n",
    "        all_edge_feats = np.asarray(all_edge_feats)\n",
    "\n",
    "        return {\"A\": torch.tensor(coo,dtype=torch.long),\n",
    "               \"X\": torch.tensor(feature_array,dtype=torch.float32),\n",
    "               \"Y\":torch.tensor(label_array,dtype=torch.float32),\n",
    "                \"E\":torch.tensor(all_edge_feats,dtype=torch.float32),\n",
    "                \"SMILES\":smiles}\n",
    "    \n",
    "    def len (self):\n",
    "        return self.data.shape[0]\n",
    "    \n",
    "    def get(self,idx):\n",
    "        data = torch.load(os.path.join(self.processed_dir,f'data_{idx}.pt'))\n",
    "        return data\n"
   ]
  },
  {
   "cell_type": "code",
   "execution_count": 93,
   "id": "08ecb731",
   "metadata": {},
   "outputs": [
    {
     "name": "stderr",
     "output_type": "stream",
     "text": [
      "Processing...\n",
      "100%|█████████████████████████████████████████████████████████████████████████████| 3330/3330 [00:04<00:00, 736.70it/s]\n",
      "Done!\n"
     ]
    }
   ],
   "source": [
    "dataset = BBBDataset(root=\".\")"
   ]
  },
  {
   "cell_type": "markdown",
   "id": "b8492d58",
   "metadata": {},
   "source": [
    "### Applying PyG GCN\n",
    "___"
   ]
  },
  {
   "cell_type": "code",
   "execution_count": 94,
   "id": "2e6ddf4e",
   "metadata": {},
   "outputs": [],
   "source": [
    "torch.backends.cudnn.enabled = True\n",
    "torch.backends.cudnn.benchmark = True"
   ]
  },
  {
   "cell_type": "code",
   "execution_count": 97,
   "id": "7c8aefe3",
   "metadata": {},
   "outputs": [],
   "source": [
    "from torch_geometric.nn import MessagePassing, GCNConv\n",
    "from torch_geometric.utils import add_self_loops, degree\n",
    "from torch.nn import Linear\n",
    "import torch.nn.functional as F\n",
    "from torch_geometric.nn import global_mean_pool\n",
    "\n",
    "class PyGCN(torch.nn.Module):\n",
    "    \n",
    "    def __init__(self,num_node_features):\n",
    "        \n",
    "        super().__init__()\n",
    "        self.num_node_features = num_node_features ### Node input size\n",
    "        \n",
    "        self.conv_1 = GCNConv(self.num_node_features,64,improved=True) ### First layer convulation\n",
    "        self.conv_2 = GCNConv(64,32) ### Second layer convulation\n",
    "        self.conv_3 = GCNConv(32,16) ### Third layer convulation\n",
    "        \n",
    "        ## Two linear layer\n",
    "        self.fc_1  = Linear(16,8)\n",
    "        self.fc_2  = Linear(8,1)\n",
    "       \n",
    "            \n",
    "    def forward(self,data,):\n",
    "        \n",
    "        batch, x,edge_index,edge_attr,y,smiles  = data.batch, data.x, data.edge_index, data.edge_attr,data.y, data.smiles\n",
    "        \n",
    "        ## Graph convulations\n",
    "        x = F.relu(self.conv_1(x,edge_index)) \n",
    "        x = F.relu(self.conv_2(x,edge_index))\n",
    "        x = F.relu(self.conv_3(x,edge_index))\n",
    "        ## Readout layer\n",
    "        x = global_mean_pool(x,batch)\n",
    "        \n",
    "        ### Final classifier\n",
    "        x = F.relu(self.fc_1(x))\n",
    "        x = F.sigmoid(self.fc_2(x))\n",
    "    \n",
    "        \n",
    "        return x        "
   ]
  },
  {
   "cell_type": "code",
   "execution_count": 98,
   "id": "5aeabbc9",
   "metadata": {},
   "outputs": [],
   "source": [
    "from torch.utils.data import random_split\n",
    "### Splitting of data\n",
    "train_set, valid_set, test_set = random_split(dataset,[2800,300,230])\n",
    "trainloader = DataLoader(train_set,shuffle=True,batch_size=32)\n",
    "validloader = DataLoader(valid_set, shuffle=True,batch_size=32)\n",
    "testloader = DataLoader(test_set, shuffle=True,batch_size=32)"
   ]
  },
  {
   "cell_type": "code",
   "execution_count": 99,
   "id": "036a5182",
   "metadata": {},
   "outputs": [
    {
     "data": {
      "text/plain": [
       "PyGCN(\n",
       "  (conv_1): GCNConv(5, 64)\n",
       "  (conv_2): GCNConv(64, 32)\n",
       "  (conv_3): GCNConv(32, 16)\n",
       "  (fc_1): Linear(in_features=16, out_features=8, bias=True)\n",
       "  (fc_2): Linear(in_features=8, out_features=1, bias=True)\n",
       ")"
      ]
     },
     "execution_count": 99,
     "metadata": {},
     "output_type": "execute_result"
    }
   ],
   "source": [
    "from torch.nn import BCEWithLogitsLoss, BCELoss,CrossEntropyLoss, Softmax\n",
    "\n",
    "## Intilaize Network\n",
    "net = PyGCN(num_node_features=5)\n",
    "\n",
    "### initialize an optimizer with someparameters\n",
    "optimizer = torch.optim.RMSprop(net.parameters(), lr=0.001,momentum=0.9,)\n",
    "\n",
    "### Defining loss\n",
    "criterion = BCELoss()\n",
    "\n",
    "### criterion\n",
    "criterion.cuda()\n",
    "\n",
    "## shifting to GPU\n",
    "device = \"cuda\" if torch.cuda.is_available() else \"cpu\"\n",
    "net.to(device)"
   ]
  },
  {
   "cell_type": "code",
   "execution_count": 100,
   "id": "8630ed50",
   "metadata": {},
   "outputs": [],
   "source": [
    "def train():\n",
    "    net.train()\n",
    "    train_loss = []\n",
    "    for data in trainloader:## Iterate in batches over training dataset\n",
    "        data.to(device)\n",
    "        optimizer.zero_grad() ## clear gradients\n",
    "        out = net(data).squeeze(0) ## single forward pass\n",
    "        loss = criterion(out,data.y.unsqueeze(1)) ## compute the loss\n",
    "        train_loss.append(loss)\n",
    "        loss.backward() ## Derive gradients\n",
    "        optimizer.step()## update parameters based on gradients\n",
    "    return torch.sum(torch.tensor(train_loss))/len(trainloader)\n",
    "        \n",
    "        "
   ]
  },
  {
   "cell_type": "code",
   "execution_count": 101,
   "id": "542e758a",
   "metadata": {},
   "outputs": [],
   "source": [
    "def test(loader):\n",
    "    net.eval()\n",
    "    val_loss = []\n",
    "    for data in loader:## Iterate in batches over training dataset\n",
    "        data.to(device)\n",
    "        out = net(data).squeeze(0) ## single forward pass\n",
    "        loss = criterion(out,data.y.unsqueeze(1))\n",
    "        val_loss.append(loss)\n",
    "    return torch.sum(torch.tensor(val_loss))/len(loader)"
   ]
  },
  {
   "cell_type": "code",
   "execution_count": 102,
   "id": "3122c5cd",
   "metadata": {},
   "outputs": [
    {
     "name": "stdout",
     "output_type": "stream",
     "text": [
      "Epoch: 001, Train loss: 0.6686, val loss: 0.6657,test loss: 0.6753\n",
      "Epoch: 002, Train loss: 0.6684, val loss: 0.6658,test loss: 0.6748\n",
      "Epoch: 003, Train loss: 0.6681, val loss: 0.6659,test loss: 0.6747\n",
      "Epoch: 004, Train loss: 0.6682, val loss: 0.6633,test loss: 0.6828\n",
      "Epoch: 005, Train loss: 0.6687, val loss: 0.6634,test loss: 0.6750\n",
      "Epoch: 006, Train loss: 0.6685, val loss: 0.6705,test loss: 0.6883\n",
      "Epoch: 007, Train loss: 0.6684, val loss: 0.6704,test loss: 0.6817\n",
      "Epoch: 008, Train loss: 0.6686, val loss: 0.6682,test loss: 0.6746\n",
      "Epoch: 009, Train loss: 0.6683, val loss: 0.6681,test loss: 0.6910\n",
      "Epoch: 010, Train loss: 0.6684, val loss: 0.6634,test loss: 0.6826\n",
      "Epoch: 011, Train loss: 0.6690, val loss: 0.6573,test loss: 0.6817\n",
      "Epoch: 012, Train loss: 0.6686, val loss: 0.6633,test loss: 0.6909\n",
      "Epoch: 013, Train loss: 0.6681, val loss: 0.6657,test loss: 0.6904\n",
      "Epoch: 014, Train loss: 0.6690, val loss: 0.6657,test loss: 0.6827\n",
      "Epoch: 015, Train loss: 0.6684, val loss: 0.6681,test loss: 0.6982\n",
      "Epoch: 016, Train loss: 0.6686, val loss: 0.6614,test loss: 0.6892\n",
      "Epoch: 017, Train loss: 0.6687, val loss: 0.6631,test loss: 0.6927\n",
      "Epoch: 018, Train loss: 0.6684, val loss: 0.6753,test loss: 0.6829\n",
      "Epoch: 019, Train loss: 0.6687, val loss: 0.6657,test loss: 0.6902\n",
      "Epoch: 020, Train loss: 0.6681, val loss: 0.6657,test loss: 0.6914\n",
      "Epoch: 021, Train loss: 0.6684, val loss: 0.6659,test loss: 0.6895\n",
      "Epoch: 022, Train loss: 0.6690, val loss: 0.6732,test loss: 0.6917\n",
      "Epoch: 023, Train loss: 0.6684, val loss: 0.6657,test loss: 0.6988\n",
      "Epoch: 024, Train loss: 0.6686, val loss: 0.6751,test loss: 0.6977\n",
      "Epoch: 025, Train loss: 0.6689, val loss: 0.6681,test loss: 0.6897\n",
      "Epoch: 026, Train loss: 0.6687, val loss: 0.6657,test loss: 0.7001\n",
      "Epoch: 027, Train loss: 0.6682, val loss: 0.6620,test loss: 0.6814\n",
      "Epoch: 028, Train loss: 0.6692, val loss: 0.6708,test loss: 0.6838\n",
      "Epoch: 029, Train loss: 0.6686, val loss: 0.6728,test loss: 0.6825\n",
      "Epoch: 030, Train loss: 0.6687, val loss: 0.6657,test loss: 0.6999\n",
      "Epoch: 031, Train loss: 0.6685, val loss: 0.6632,test loss: 0.6753\n",
      "Epoch: 032, Train loss: 0.6686, val loss: 0.6681,test loss: 0.6826\n",
      "Epoch: 033, Train loss: 0.6687, val loss: 0.6704,test loss: 0.6900\n",
      "Epoch: 034, Train loss: 0.6691, val loss: 0.6708,test loss: 0.7086\n",
      "Epoch: 035, Train loss: 0.6685, val loss: 0.6731,test loss: 0.6753\n",
      "Epoch: 036, Train loss: 0.6679, val loss: 0.6681,test loss: 0.6828\n",
      "Epoch: 037, Train loss: 0.6680, val loss: 0.6660,test loss: 0.6818\n",
      "Epoch: 038, Train loss: 0.6681, val loss: 0.6728,test loss: 0.6825\n",
      "Epoch: 039, Train loss: 0.6686, val loss: 0.6635,test loss: 0.6896\n",
      "Epoch: 040, Train loss: 0.6684, val loss: 0.6704,test loss: 0.6820\n",
      "Epoch: 041, Train loss: 0.6679, val loss: 0.6681,test loss: 0.6899\n",
      "Epoch: 042, Train loss: 0.6686, val loss: 0.6634,test loss: 0.6824\n",
      "Epoch: 043, Train loss: 0.6684, val loss: 0.6633,test loss: 0.6905\n",
      "Epoch: 044, Train loss: 0.6681, val loss: 0.6633,test loss: 0.6829\n",
      "Epoch: 045, Train loss: 0.6679, val loss: 0.6681,test loss: 0.6897\n",
      "Epoch: 046, Train loss: 0.6685, val loss: 0.6726,test loss: 0.7031\n",
      "Epoch: 047, Train loss: 0.6689, val loss: 0.6633,test loss: 0.6907\n",
      "Epoch: 048, Train loss: 0.6688, val loss: 0.6682,test loss: 0.6746\n",
      "Epoch: 049, Train loss: 0.6689, val loss: 0.6682,test loss: 0.6818\n"
     ]
    }
   ],
   "source": [
    "epochs = 50\n",
    "epoch_loss = []\n",
    "valida_loss = []\n",
    "test_loss = []\n",
    "for epoch in range(1,epochs):\n",
    "    train_loss = train()\n",
    "    train_acc = test(trainloader)\n",
    "    val_acc = test(validloader)\n",
    "    test_acc = test(testloader)\n",
    "    epoch_loss.append(train_loss)\n",
    "    valida_loss.append(val_acc)\n",
    "    test_loss.append(test_acc)\n",
    "    #print(train_loss)\n",
    "    print(f'Epoch: {epoch:03d}, Train loss: {train_acc:.4f}, val loss: {val_acc:.4f},test loss: {test_acc:.4f}')"
   ]
  },
  {
   "cell_type": "code",
   "execution_count": 105,
   "id": "100f1d15",
   "metadata": {},
   "outputs": [
    {
     "data": {
      "image/png": "[encoded data removed]",
      "text/plain": [
       "<Figure size 432x288 with 1 Axes>"
      ]
     },
     "metadata": {
      "needs_background": "light"
     },
     "output_type": "display_data"
    }
   ],
   "source": [
    "import matplotlib.pyplot as plt\n",
    "\n",
    "plt.plot([i for i in range(1,50)],[i.cpu().detach().numpy() for i  in epoch_loss],label=\"Train loss\",color=\"Red\",)\n",
    "plt.plot([i for i in range(1,50)],[i.cpu().detach().numpy() for i in valida_loss],label=\"valid loss\",color=\"Green\")\n",
    "plt.plot([i for i in range(1,50)],[i.cpu().detach().numpy() for i in test_loss],label=\"Test loss\",color=\"Blue\")\n",
    "plt.legend()\n",
    "plt.xlabel(\"Epochs\")\n",
    "plt.ylabel(\"Loss\")\n",
    "plt.show()\n"
   ]
  },
  {
   "cell_type": "code",
   "execution_count": 106,
   "id": "b5bf1fa9",
   "metadata": {},
   "outputs": [
    {
     "name": "stdout",
     "output_type": "stream",
     "text": [
      "Training loss:   Mean: 0.6687827110290527   std: 0.0005876418435946107\n",
      "validation loss: Mean: 0.6670528054237366   std: 0.003856704570353031\n",
      "Test loss:       Mean: 0.6865770816802979   std: 0.008122407831251621\n"
     ]
    }
   ],
   "source": [
    "print(f\"Training loss:   Mean: {torch.tensor(epoch_loss).mean()}   std: {torch.tensor(epoch_loss).std()}\")\n",
    "print(f\"validation loss: Mean: {torch.tensor(valida_loss).mean()}   std: {torch.tensor(valida_loss).std()}\")\n",
    "print(f\"Test loss:       Mean: {torch.tensor(test_loss).mean()}   std: {torch.tensor(test_loss).std()}\")"
   ]
  },
  {
   "cell_type": "code",
   "execution_count": null,
   "id": "d34d426c",
   "metadata": {},
   "outputs": [],
   "source": []
  }
 ],
 "metadata": {
  "kernelspec": {
   "display_name": "Python 3 (ipykernel)",
   "language": "python",
   "name": "python3"
  },
  "language_info": {
   "codemirror_mode": {
    "name": "ipython",
    "version": 3
   },
   "file_extension": ".py",
   "mimetype": "text/x-python",
   "name": "python",
   "nbconvert_exporter": "python",
   "pygments_lexer": "ipython3",
   "version": "3.9.7"
  }
 },
 "nbformat": 4,
 "nbformat_minor": 5
}
