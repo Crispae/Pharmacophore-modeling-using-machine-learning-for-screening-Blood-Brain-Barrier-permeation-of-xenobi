{
 "cells": [
  {
   "cell_type": "code",
   "execution_count": 3,
   "id": "b1ea4d8a",
   "metadata": {},
   "outputs": [],
   "source": [
    "import ray\n",
    "from ray import tune\n",
    "from ray.tune.schedulers import ASHAScheduler"
   ]
  },
  {
   "cell_type": "code",
   "execution_count": null,
   "id": "b4fc4a71",
   "metadata": {},
   "outputs": [],
   "source": [
    "class GCNTrain(tune.Trainable):\n",
    "    \n",
    "    def setup(self,model,loaders,config):\n",
    "        use_cuda = config.get(\"use_gpu\") and torch.cuda.is_available()\n",
    "        self.device = torch.device(\"cuda\" if use_cuda else \"cpu\")\n",
    "        self.train_loader, self.test_loader = loaders\n",
    "        self.model = Net().to(self.device)\n",
    "        self.optimizer = optim.SGD(\n",
    "            self.model.parameters(),\n",
    "            lr=config.get(\"lr\", 0.01),\n",
    "            momentum=config.get(\"momentum\", 0.9))\n",
    "        \n",
    "        \n",
    "    def step(self):\n",
    "        train(self.model, self.optimizer,self.train_loader,device=self.device)\n",
    "        acc = test(self.model, self.test_loader, self.device)\n",
    "        return {\"mean_accuracy\": acc}\n",
    "        "
   ]
  }
 ],
 "metadata": {
  "kernelspec": {
   "display_name": "Python 3 (ipykernel)",
   "language": "python",
   "name": "python3"
  },
  "language_info": {
   "codemirror_mode": {
    "name": "ipython",
    "version": 3
   },
   "file_extension": ".py",
   "mimetype": "text/x-python",
   "name": "python",
   "nbconvert_exporter": "python",
   "pygments_lexer": "ipython3",
   "version": "3.9.7"
  }
 },
 "nbformat": 4,
 "nbformat_minor": 5
}
