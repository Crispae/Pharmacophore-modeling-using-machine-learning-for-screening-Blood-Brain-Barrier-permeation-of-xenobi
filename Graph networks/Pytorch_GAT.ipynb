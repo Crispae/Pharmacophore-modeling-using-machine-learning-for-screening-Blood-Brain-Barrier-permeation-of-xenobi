{
 "cells": [
  {
   "cell_type": "code",
   "execution_count": 59,
   "id": "9d7ea002",
   "metadata": {},
   "outputs": [],
   "source": [
    "import numpy as np \n",
    "import torch\n",
    "import torch.nn as nn\n",
    "import torch.nn.functional as F"
   ]
  },
  {
   "cell_type": "markdown",
   "id": "51cda78a",
   "metadata": {},
   "source": [
    "### Structure"
   ]
  },
  {
   "cell_type": "code",
   "execution_count": 30,
   "id": "af4e4ea4",
   "metadata": {},
   "outputs": [],
   "source": [
    "class GATLayer(nn.Module):\n",
    "    \n",
    "    \"\"\"\n",
    "    Basic implem\n",
    "    \"\"\"\n",
    "    \n",
    "    def __init__(self):\n",
    "        \n",
    "        super().__init__()\n",
    "        \n",
    "    def forward(self):\n",
    "        "
   ]
  },
  {
   "cell_type": "code",
   "execution_count": 35,
   "id": "609cd6ca",
   "metadata": {},
   "outputs": [
    {
     "name": "stdout",
     "output_type": "stream",
     "text": [
      "torch.Size([3, 2])\n"
     ]
    }
   ],
   "source": [
    "in_features = 5\n",
    "out_features = 2\n",
    "n_nodes = 3\n",
    "\n",
    "W = nn.Parameter(torch.zeros(size=(in_features,out_features)))\n",
    "nn.init.xavier_uniform_(W.data,gain=1.414)\n",
    "\n",
    "\n",
    "input_f = torch.rand(n_nodes,in_features)\n",
    "\n",
    "### Linear transformation\n",
    "h = torch.mm(input_f,W)\n",
    "N = h.size()[0]\n",
    "\n",
    "print(h.shape)"
   ]
  },
  {
   "cell_type": "code",
   "execution_count": 36,
   "id": "1b3d70b0",
   "metadata": {},
   "outputs": [],
   "source": [
    "a = nn.Parameter(torch.zeros(size=(2*out_features,1)))\n",
    "nn.init.xavier_uniform_(a.data,gain=1.414)\n",
    "\n",
    "leakyrelu = nn.LeakyReLU(0.2)  ## LeakyReLU"
   ]
  },
  {
   "cell_type": "code",
   "execution_count": 38,
   "id": "ce956a30",
   "metadata": {},
   "outputs": [],
   "source": [
    "a_input = torch.cat([h.repeat(1,N).view(N*N,-1),h.repeat(N,1)],dim=1).view(N,-1,2*out_features)"
   ]
  },
  {
   "cell_type": "code",
   "execution_count": 40,
   "id": "ae29f398",
   "metadata": {},
   "outputs": [
    {
     "name": "stdout",
     "output_type": "stream",
     "text": [
      "a_input:  torch.Size([3, 3, 4])\n",
      "a:  torch.Size([4, 1])\n"
     ]
    }
   ],
   "source": [
    "print(\"a_input: \",a_input.shape)\n",
    "print(\"a: \",a.shape)"
   ]
  },
  {
   "cell_type": "code",
   "execution_count": 41,
   "id": "5c2487e3",
   "metadata": {},
   "outputs": [],
   "source": [
    "e = leakyrelu(torch.matmul(a_input,a))"
   ]
  },
  {
   "cell_type": "code",
   "execution_count": 45,
   "id": "5f8c20ec",
   "metadata": {},
   "outputs": [],
   "source": [
    "e = e.squeeze(2)"
   ]
  },
  {
   "cell_type": "code",
   "execution_count": 47,
   "id": "37c1338c",
   "metadata": {},
   "outputs": [
    {
     "data": {
      "text/plain": [
       "tensor([[ 0.2906,  1.3567,  0.4243],\n",
       "        [-0.0079,  1.0264,  0.0939],\n",
       "        [-0.0379,  0.8764, -0.0112]], grad_fn=<SqueezeBackward1>)"
      ]
     },
     "execution_count": 47,
     "metadata": {},
     "output_type": "execute_result"
    }
   ],
   "source": [
    "e ## attention coefficent"
   ]
  },
  {
   "cell_type": "markdown",
   "id": "bdd4540a",
   "metadata": {},
   "source": [
    "### Masked Attention"
   ]
  },
  {
   "cell_type": "code",
   "execution_count": 49,
   "id": "cd62370b",
   "metadata": {},
   "outputs": [
    {
     "name": "stdout",
     "output_type": "stream",
     "text": [
      "torch.Size([3, 3])\n"
     ]
    }
   ],
   "source": [
    "adj = torch.randint(2,(3,3))\n",
    "\n",
    "zero_vec = -9e15*torch.ones_like(e)\n",
    "print(zero_vec.shape)"
   ]
  },
  {
   "cell_type": "code",
   "execution_count": 50,
   "id": "f7620770",
   "metadata": {},
   "outputs": [],
   "source": [
    "attention = torch.where(adj>0,e,zero_vec)"
   ]
  },
  {
   "cell_type": "code",
   "execution_count": 51,
   "id": "43570efa",
   "metadata": {},
   "outputs": [
    {
     "data": {
      "text/plain": [
       "tensor([[-9.0000e+15,  1.3567e+00,  4.2427e-01],\n",
       "        [-7.9421e-03,  1.0264e+00, -9.0000e+15],\n",
       "        [-3.7944e-02,  8.7637e-01, -9.0000e+15]], grad_fn=<SWhereBackward0>)"
      ]
     },
     "execution_count": 51,
     "metadata": {},
     "output_type": "execute_result"
    }
   ],
   "source": [
    "attention"
   ]
  },
  {
   "cell_type": "code",
   "execution_count": 52,
   "id": "7ade8a4b",
   "metadata": {},
   "outputs": [],
   "source": [
    "attention = F.softmax(attention,dim=1)"
   ]
  },
  {
   "cell_type": "code",
   "execution_count": 53,
   "id": "0ef7c9e3",
   "metadata": {},
   "outputs": [
    {
     "data": {
      "text/plain": [
       "tensor([[0.0000, 0.7176, 0.2824],\n",
       "        [0.2622, 0.7378, 0.0000],\n",
       "        [0.2861, 0.7139, 0.0000]], grad_fn=<SoftmaxBackward0>)"
      ]
     },
     "execution_count": 53,
     "metadata": {},
     "output_type": "execute_result"
    }
   ],
   "source": [
    "attention"
   ]
  },
  {
   "cell_type": "code",
   "execution_count": 56,
   "id": "e119ba16",
   "metadata": {},
   "outputs": [
    {
     "name": "stdout",
     "output_type": "stream",
     "text": [
      "torch.Size([3, 3])\n",
      "torch.Size([3, 2])\n"
     ]
    }
   ],
   "source": [
    "print(attention.shape)\n",
    "print(h.shape)"
   ]
  },
  {
   "cell_type": "code",
   "execution_count": 57,
   "id": "ca463e88",
   "metadata": {},
   "outputs": [],
   "source": [
    "h_prime = torch.matmul(attention,h)"
   ]
  },
  {
   "cell_type": "code",
   "execution_count": 58,
   "id": "eabb7841",
   "metadata": {},
   "outputs": [
    {
     "data": {
      "text/plain": [
       "tensor([[0.5526, 0.4340],\n",
       "        [0.5899, 0.2061],\n",
       "        [0.5745, 0.1837]], grad_fn=<MmBackward0>)"
      ]
     },
     "execution_count": 58,
     "metadata": {},
     "output_type": "execute_result"
    }
   ],
   "source": [
    "h_prime"
   ]
  },
  {
   "cell_type": "code",
   "execution_count": null,
   "id": "1e98da3e",
   "metadata": {},
   "outputs": [],
   "source": []
  }
 ],
 "metadata": {
  "kernelspec": {
   "display_name": "Python 3 (ipykernel)",
   "language": "python",
   "name": "python3"
  },
  "language_info": {
   "codemirror_mode": {
    "name": "ipython",
    "version": 3
   },
   "file_extension": ".py",
   "mimetype": "text/x-python",
   "name": "python",
   "nbconvert_exporter": "python",
   "pygments_lexer": "ipython3",
   "version": "3.9.7"
  }
 },
 "nbformat": 4,
 "nbformat_minor": 5
}
