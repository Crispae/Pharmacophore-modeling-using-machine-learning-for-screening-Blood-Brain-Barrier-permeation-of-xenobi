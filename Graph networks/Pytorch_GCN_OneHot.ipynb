{
 "cells": [
  {
   "cell_type": "code",
   "execution_count": 110,
   "id": "754f6ce3",
   "metadata": {},
   "outputs": [],
   "source": [
    "import torch\n",
    "from torch_geometric.loader import DataLoader\n",
    "from torch_geometric.nn import NNConv, global_add_pool\n",
    "import torch.nn.functional as F\n",
    "from rdkit.Chem.rdmolops import GetAdjacencyMatrix\n",
    "import torch.nn as nn\n",
    "import numpy as np\n",
    "import pandas as pd\n",
    "from tqdm import tqdm\n",
    "import warnings\n",
    "import os\n",
    "warnings.filterwarnings(\"ignore\")"
   ]
  },
  {
   "cell_type": "markdown",
   "id": "44a34335",
   "metadata": {},
   "source": [
    "### Data Loading"
   ]
  },
  {
   "cell_type": "code",
   "execution_count": 111,
   "id": "ef52e062",
   "metadata": {},
   "outputs": [],
   "source": [
    "data_ = pd.read_csv(\"../data/FilteredData.csv\")"
   ]
  },
  {
   "cell_type": "code",
   "execution_count": 112,
   "id": "92e5e3b5",
   "metadata": {},
   "outputs": [],
   "source": [
    "def SingleAtomRemover(x):\n",
    "    singleAtom = [\"[Kr]\",\"[Ne]\",\"C\",\"[Li]\",\"O\",\"[Ar]\",'[Xe]']\n",
    "    if x in singleAtom:\n",
    "        return 1\n",
    "    else: \n",
    "        return 0  "
   ]
  },
  {
   "cell_type": "code",
   "execution_count": 113,
   "id": "b82f73a1",
   "metadata": {},
   "outputs": [],
   "source": [
    "data = data_[[\"Structure\",\"BBB+/BBB-\"]]"
   ]
  },
  {
   "cell_type": "code",
   "execution_count": 114,
   "id": "842faa2c",
   "metadata": {},
   "outputs": [],
   "source": [
    "data.replace({\"BBB+\":1,\"BBB-\":0},inplace=True)"
   ]
  },
  {
   "cell_type": "code",
   "execution_count": 115,
   "id": "d9455d92",
   "metadata": {},
   "outputs": [],
   "source": [
    "data.rename(columns={\"Structure\":\"SMILES\",\"BBB+/BBB-\":\"LABELS\"},inplace=True)"
   ]
  },
  {
   "cell_type": "code",
   "execution_count": 116,
   "id": "92490f3f",
   "metadata": {},
   "outputs": [],
   "source": [
    "data[\"Isit\"] = data[\"SMILES\"].apply(SingleAtomRemover)"
   ]
  },
  {
   "cell_type": "code",
   "execution_count": 117,
   "id": "159e6033",
   "metadata": {},
   "outputs": [],
   "source": [
    "### Remove single element\n",
    "data.drop(data[data[\"Isit\"] == 1].index,inplace=True)"
   ]
  },
  {
   "cell_type": "code",
   "execution_count": 118,
   "id": "71e74a4a",
   "metadata": {},
   "outputs": [],
   "source": [
    "data.to_csv(r\"raw/data.csv\")"
   ]
  },
  {
   "cell_type": "code",
   "execution_count": 137,
   "id": "2831b72a",
   "metadata": {},
   "outputs": [],
   "source": [
    "from torch_geometric.data import InMemoryDataset, download_url, Dataset, Data\n",
    "from dgllife.utils import (CanonicalAtomFeaturizer,\n",
    "                           one_hot_encoding,\n",
    "                           atom_implicit_valence_one_hot,\n",
    "                           atom_total_degree_one_hot,\n",
    "                           atomic_number_one_hot,\n",
    "                           atom_hybridization_one_hot,\n",
    "                           atom_is_in_ring_one_hot,\n",
    "                           atom_is_aromatic_one_hot,\n",
    "                          )\n",
    "from rdkit import Chem\n",
    "\n",
    "class BBBDataset(Dataset): ### All dataset will store in RAM\n",
    "    \n",
    "    def __init__(self,root,transform = None, pre_transform=None,pre_filter=None,one_hot=False):\n",
    "        \n",
    "        \"\"\"\n",
    "        root: where the dataset shoul be stored. The folder will split into raw_dir (downloaded dataset)\n",
    "        and processed_dir (processed data).\n",
    "\n",
    "        \"\"\"\n",
    "        self.one_hot = one_hot\n",
    "        super().__init__(root, transform, pre_transform, pre_filter)\n",
    "        \n",
    "    \n",
    "    @property\n",
    "    def raw_file_names(self):\n",
    "        \n",
    "        \"\"\"\n",
    "        If this file exists in raw_dir, the download is not triggered\n",
    "        \"\"\"\n",
    "        return \"data.csv\"\n",
    "        \n",
    "    def download(self):\n",
    "        pass\n",
    "    \n",
    "    @property\n",
    "    def processed_file_names(self):\n",
    "        return ['data.pt']\n",
    "    \n",
    "    \n",
    "    def process(self):\n",
    "        \n",
    "        self.data = pd.read_csv(self.raw_paths[0])\n",
    "        dataArray = self.data[[\"SMILES\",\"LABELS\"]].to_numpy().squeeze()\n",
    "        \n",
    "        j = 0\n",
    "        for i in tqdm(dataArray):\n",
    "            processed_data = self.smiles2graph(*i,one_hot=self.one_hot)\n",
    "            \n",
    "            nodes_feats = processed_data[\"X\"]\n",
    "            label = processed_data[\"Y\"]\n",
    "            edge_feats = processed_data[\"E\"]\n",
    "            adj_mat = processed_data[\"A\"]\n",
    "            smiles = processed_data[\"SMILES\"]\n",
    "            \n",
    "            \n",
    "            ### create data object\n",
    "            data = Data(x=nodes_feats,edge_index=adj_mat,edge_attr=edge_feats,y=label,smiles=smiles)\n",
    "            \n",
    "            torch.save(data,os.path.join(self.processed_dir,f\"data_{j}.pt\"))\n",
    "            j+=1\n",
    "            \n",
    "    def smiles2graph(self, smiles,label,one_hot=False):\n",
    "        try:\n",
    "            mol = Chem.MolFromSmiles(smiles)\n",
    "        except:\n",
    "            raise(\"Smiles not parsed by rdkit\")\n",
    "\n",
    "        adj_matrix = GetAdjacencyMatrix(mol) ### Adjacency matrix\n",
    "        row,col = np.where(adj_matrix)\n",
    "        coo = np.array(list(zip(row,col)))\n",
    "        coo = np.reshape(coo,(2,-1))\n",
    "        \n",
    "        if one_hot:\n",
    "            valence =[]\n",
    "            degree = []\n",
    "            atoms =  []\n",
    "            hybrid = []\n",
    "            mass =   []\n",
    "            aromatic = []\n",
    "            for idx,atom in enumerate(mol.GetAtoms()):\n",
    "                valence.append(atom_implicit_valence_one_hot(atom))## Implicit valence\n",
    "                degree.append(atom_total_degree_one_hot(atom))## total degree\n",
    "                atoms.append(atomic_number_one_hot(atom))## atomic Number\n",
    "                hybrid.append(atom_hybridization_one_hot(atom))## Hybridization\n",
    "                mass.append([atom.GetMass()])## Mass(scalar)\n",
    "                aromatic.append(atom_is_aromatic_one_hot(atom)) ## aromatic\n",
    "                \n",
    "            features  = torch.cat([torch.tensor(valence),\n",
    "                                  torch.tensor(degree),\n",
    "                                  torch.tensor(atoms),\n",
    "                                  torch.tensor(hybrid),\n",
    "                                  torch.tensor(aromatic),\n",
    "                                  torch.tensor(mass)],axis=1)\n",
    "            \n",
    "        else:\n",
    "            \n",
    "            features = np.zeros((mol.GetNumAtoms(),5),) ### Feature Matrix\n",
    "            for idx,atom in enumerate(mol.GetAtoms()):\n",
    "                features[idx,0] = atom.GetAtomicNum()\n",
    "                features[idx,1] = atom.GetDegree()\n",
    "                #feature_array[idx,2] = atom.GetFormalCharge()\n",
    "                features[idx,2] = atom.GetHybridization()\n",
    "                features[idx,3] = atom.GetExplicitValence()\n",
    "                features[idx,4] = atom.GetMass()\n",
    "           \n",
    "        label_array = torch.tensor([0]) if label == 0 else torch.tensor([1])\n",
    "        \n",
    "#         if label == 0:\n",
    "#             label_array = torch.tensor([0])\n",
    "#         else:\n",
    "#             label_array = torch.tensor([1])\n",
    "\n",
    "        all_edge_feats = []\n",
    "        for bond in mol.GetBonds():\n",
    "            Edge_feature = []\n",
    "            # Feature 1: Bond type (as double)\n",
    "            Edge_feature.append(bond.GetBondTypeAsDouble())\n",
    "            # Feature 2: Rings\n",
    "            Edge_feature.append(bond.IsInRing())\n",
    "            # Append edget features to matrix (twice, per direction)\n",
    "            all_edge_feats += [Edge_feature, Edge_feature]\n",
    "\n",
    "        all_edge_feats = np.asarray(all_edge_feats)\n",
    "\n",
    "        return {\"A\": torch.tensor(coo,dtype=torch.long),\n",
    "               \"X\": torch.tensor(features,dtype=torch.float32),\n",
    "               \"Y\":torch.tensor(label_array,dtype=torch.float32),\n",
    "                \"E\":torch.tensor(all_edge_feats,dtype=torch.float32),\n",
    "                \"SMILES\":smiles}\n",
    "    \n",
    "    def len (self):\n",
    "        return self.data.shape[0]\n",
    "    \n",
    "    def get(self,idx):\n",
    "        data = torch.load(os.path.join(self.processed_dir,f'data_{idx}.pt'))\n",
    "        return data\n"
   ]
  },
  {
   "cell_type": "code",
   "execution_count": 138,
   "id": "08ecb731",
   "metadata": {},
   "outputs": [
    {
     "name": "stderr",
     "output_type": "stream",
     "text": [
      "Processing...\n",
      "100%|█████████████████████████████████████████████████████████████████████████████| 3330/3330 [00:07<00:00, 462.35it/s]\n",
      "Done!\n"
     ]
    }
   ],
   "source": [
    "dataset = BBBDataset(root=\".\",one_hot=True)"
   ]
  },
  {
   "cell_type": "markdown",
   "id": "b8492d58",
   "metadata": {},
   "source": [
    "### Applying PyG GCN With One-Hot encoded Features\n",
    "___"
   ]
  },
  {
   "cell_type": "code",
   "execution_count": 139,
   "id": "2e6ddf4e",
   "metadata": {},
   "outputs": [],
   "source": [
    "torch.backends.cudnn.enabled = True\n",
    "torch.backends.cudnn.benchmark = True"
   ]
  },
  {
   "cell_type": "code",
   "execution_count": 140,
   "id": "7c8aefe3",
   "metadata": {},
   "outputs": [],
   "source": [
    "from torch_geometric.nn import MessagePassing, GCNConv\n",
    "from torch_geometric.utils import add_self_loops, degree\n",
    "from torch.nn import Linear\n",
    "import torch.nn.functional as F\n",
    "from torch_geometric.nn import global_mean_pool\n",
    "\n",
    "class PyGCN(torch.nn.Module):\n",
    "    \n",
    "    def __init__(self,num_node_features):\n",
    "        \n",
    "        super().__init__()\n",
    "        self.num_node_features = num_node_features ### Node input size\n",
    "        \n",
    "        self.conv_1 = GCNConv(-1,64,improved=True) ### First layer convulation\n",
    "        self.conv_2 = GCNConv(64,32) ### Second layer convulation\n",
    "        self.conv_3 = GCNConv(32,16) ### Third layer convulation\n",
    "        \n",
    "        ## Two linear layer\n",
    "        self.fc_1  = Linear(16,8)\n",
    "        self.fc_2  = Linear(8,1)\n",
    "       \n",
    "            \n",
    "    def forward(self,data,):\n",
    "        \n",
    "        batch, x,edge_index,edge_attr,y,smiles  = data.batch, data.x, data.edge_index, data.edge_attr,data.y, data.smiles\n",
    "        \n",
    "        ## Graph convulations\n",
    "        x = F.relu(self.conv_1(x,edge_index)) \n",
    "        x = F.relu(self.conv_2(x,edge_index))\n",
    "        x = F.relu(self.conv_3(x,edge_index))\n",
    "        ## Readout layer\n",
    "        x = global_mean_pool(x,batch)\n",
    "        \n",
    "        ### Final classifier\n",
    "        x = F.relu(self.fc_1(x))\n",
    "        x = F.sigmoid(self.fc_2(x))\n",
    "    \n",
    "        \n",
    "        return x        "
   ]
  },
  {
   "cell_type": "code",
   "execution_count": 141,
   "id": "5aeabbc9",
   "metadata": {},
   "outputs": [],
   "source": [
    "from torch.utils.data import random_split\n",
    "### Splitting of data\n",
    "train_set, valid_set, test_set = random_split(dataset,[2000,1000,330]) ## 60% train, 30% valid, 10 % test\n",
    "trainloader = DataLoader(train_set,shuffle=True,batch_size=32)\n",
    "validloader = DataLoader(valid_set, shuffle=True,batch_size=32)\n",
    "testloader = DataLoader(test_set, shuffle=True,batch_size=32)"
   ]
  },
  {
   "cell_type": "code",
   "execution_count": 142,
   "id": "036a5182",
   "metadata": {},
   "outputs": [
    {
     "data": {
      "text/plain": [
       "PyGCN(\n",
       "  (conv_1): GCNConv(-1, 64)\n",
       "  (conv_2): GCNConv(64, 32)\n",
       "  (conv_3): GCNConv(32, 16)\n",
       "  (fc_1): Linear(in_features=16, out_features=8, bias=True)\n",
       "  (fc_2): Linear(in_features=8, out_features=1, bias=True)\n",
       ")"
      ]
     },
     "execution_count": 142,
     "metadata": {},
     "output_type": "execute_result"
    }
   ],
   "source": [
    "from torch.nn import BCEWithLogitsLoss, BCELoss,CrossEntropyLoss, Softmax\n",
    "\n",
    "## Intilaize Network\n",
    "net = PyGCN(num_node_features=5)\n",
    "\n",
    "### initialize an optimizer with someparameters\n",
    "optimizer = torch.optim.RMSprop(net.parameters(), lr=0.001,momentum=0.9,)\n",
    "\n",
    "### Defining loss\n",
    "criterion = BCELoss()\n",
    "\n",
    "### criterion\n",
    "criterion.cuda()\n",
    "\n",
    "## shifting to GPU\n",
    "device = \"cuda\" if torch.cuda.is_available() else \"cpu\"\n",
    "net.to(device)"
   ]
  },
  {
   "cell_type": "code",
   "execution_count": 143,
   "id": "8630ed50",
   "metadata": {},
   "outputs": [],
   "source": [
    "def train():\n",
    "    net.train()\n",
    "    train_loss = []\n",
    "    for data in trainloader:## Iterate in batches over training dataset\n",
    "        data.to(device)\n",
    "        optimizer.zero_grad() ## clear gradients\n",
    "        out = net(data).squeeze(0) ## single forward pass\n",
    "        loss = criterion(out,data.y.unsqueeze(1)) ## compute the loss\n",
    "        train_loss.append(loss)\n",
    "        loss.backward() ## Derive gradients\n",
    "        optimizer.step()## update parameters based on gradients\n",
    "    return torch.sum(torch.tensor(train_loss))/len(trainloader)\n",
    "        \n",
    "        "
   ]
  },
  {
   "cell_type": "code",
   "execution_count": 144,
   "id": "542e758a",
   "metadata": {},
   "outputs": [],
   "source": [
    "def test(loader):\n",
    "    net.eval()\n",
    "    val_loss = []\n",
    "    for data in loader:## Iterate in batches over training dataset\n",
    "        data.to(device)\n",
    "        out = net(data).squeeze(0) ## single forward pass\n",
    "        loss = criterion(out,data.y.unsqueeze(1))\n",
    "        val_loss.append(loss)\n",
    "    return torch.sum(torch.tensor(val_loss))/len(loader)"
   ]
  },
  {
   "cell_type": "code",
   "execution_count": 145,
   "id": "3122c5cd",
   "metadata": {},
   "outputs": [
    {
     "name": "stdout",
     "output_type": "stream",
     "text": [
      "Epoch: 001, Train loss: 0.6651, val loss: 0.6582,test loss: 0.6990\n",
      "Epoch: 002, Train loss: 0.6507, val loss: 0.6470,test loss: 0.6898\n",
      "Epoch: 003, Train loss: 0.6473, val loss: 0.6518,test loss: 0.6651\n",
      "Epoch: 004, Train loss: 0.6362, val loss: 0.6354,test loss: 0.6658\n"
     ]
    },
    {
     "ename": "KeyboardInterrupt",
     "evalue": "",
     "output_type": "error",
     "traceback": [
      "\u001b[1;31m---------------------------------------------------------------------------\u001b[0m",
      "\u001b[1;31mKeyboardInterrupt\u001b[0m                         Traceback (most recent call last)",
      "\u001b[1;32mC:\\Users\\Y-8874~1.EST\\AppData\\Local\\Temp/ipykernel_24708/2813469701.py\u001b[0m in \u001b[0;36m<module>\u001b[1;34m\u001b[0m\n\u001b[0;32m      3\u001b[0m \u001b[0mtest_loss\u001b[0m \u001b[1;33m=\u001b[0m \u001b[1;33m[\u001b[0m\u001b[1;33m]\u001b[0m\u001b[1;33m\u001b[0m\u001b[1;33m\u001b[0m\u001b[0m\n\u001b[0;32m      4\u001b[0m \u001b[1;32mfor\u001b[0m \u001b[0mepoch\u001b[0m \u001b[1;32min\u001b[0m \u001b[0mrange\u001b[0m\u001b[1;33m(\u001b[0m\u001b[1;36m1\u001b[0m\u001b[1;33m,\u001b[0m\u001b[1;36m50\u001b[0m\u001b[1;33m)\u001b[0m\u001b[1;33m:\u001b[0m\u001b[1;33m\u001b[0m\u001b[1;33m\u001b[0m\u001b[0m\n\u001b[1;32m----> 5\u001b[1;33m     \u001b[0mtrain_loss\u001b[0m \u001b[1;33m=\u001b[0m \u001b[0mtrain\u001b[0m\u001b[1;33m(\u001b[0m\u001b[1;33m)\u001b[0m\u001b[1;33m\u001b[0m\u001b[1;33m\u001b[0m\u001b[0m\n\u001b[0m\u001b[0;32m      6\u001b[0m     \u001b[0mtrain_acc\u001b[0m \u001b[1;33m=\u001b[0m \u001b[0mtest\u001b[0m\u001b[1;33m(\u001b[0m\u001b[0mtrainloader\u001b[0m\u001b[1;33m)\u001b[0m\u001b[1;33m\u001b[0m\u001b[1;33m\u001b[0m\u001b[0m\n\u001b[0;32m      7\u001b[0m     \u001b[0mval_acc\u001b[0m \u001b[1;33m=\u001b[0m \u001b[0mtest\u001b[0m\u001b[1;33m(\u001b[0m\u001b[0mvalidloader\u001b[0m\u001b[1;33m)\u001b[0m\u001b[1;33m\u001b[0m\u001b[1;33m\u001b[0m\u001b[0m\n",
      "\u001b[1;32mC:\\Users\\Y-8874~1.EST\\AppData\\Local\\Temp/ipykernel_24708/1509237290.py\u001b[0m in \u001b[0;36mtrain\u001b[1;34m()\u001b[0m\n\u001b[0;32m      6\u001b[0m         \u001b[0moptimizer\u001b[0m\u001b[1;33m.\u001b[0m\u001b[0mzero_grad\u001b[0m\u001b[1;33m(\u001b[0m\u001b[1;33m)\u001b[0m \u001b[1;31m## clear gradients\u001b[0m\u001b[1;33m\u001b[0m\u001b[1;33m\u001b[0m\u001b[0m\n\u001b[0;32m      7\u001b[0m         \u001b[0mout\u001b[0m \u001b[1;33m=\u001b[0m \u001b[0mnet\u001b[0m\u001b[1;33m(\u001b[0m\u001b[0mdata\u001b[0m\u001b[1;33m)\u001b[0m\u001b[1;33m.\u001b[0m\u001b[0msqueeze\u001b[0m\u001b[1;33m(\u001b[0m\u001b[1;36m0\u001b[0m\u001b[1;33m)\u001b[0m \u001b[1;31m## single forward pass\u001b[0m\u001b[1;33m\u001b[0m\u001b[1;33m\u001b[0m\u001b[0m\n\u001b[1;32m----> 8\u001b[1;33m         \u001b[0mloss\u001b[0m \u001b[1;33m=\u001b[0m \u001b[0mcriterion\u001b[0m\u001b[1;33m(\u001b[0m\u001b[0mout\u001b[0m\u001b[1;33m,\u001b[0m\u001b[0mdata\u001b[0m\u001b[1;33m.\u001b[0m\u001b[0my\u001b[0m\u001b[1;33m.\u001b[0m\u001b[0munsqueeze\u001b[0m\u001b[1;33m(\u001b[0m\u001b[1;36m1\u001b[0m\u001b[1;33m)\u001b[0m\u001b[1;33m)\u001b[0m \u001b[1;31m## compute the loss\u001b[0m\u001b[1;33m\u001b[0m\u001b[1;33m\u001b[0m\u001b[0m\n\u001b[0m\u001b[0;32m      9\u001b[0m         \u001b[0mtrain_loss\u001b[0m\u001b[1;33m.\u001b[0m\u001b[0mappend\u001b[0m\u001b[1;33m(\u001b[0m\u001b[0mloss\u001b[0m\u001b[1;33m)\u001b[0m\u001b[1;33m\u001b[0m\u001b[1;33m\u001b[0m\u001b[0m\n\u001b[0;32m     10\u001b[0m         \u001b[0mloss\u001b[0m\u001b[1;33m.\u001b[0m\u001b[0mbackward\u001b[0m\u001b[1;33m(\u001b[0m\u001b[1;33m)\u001b[0m \u001b[1;31m## Derive gradients\u001b[0m\u001b[1;33m\u001b[0m\u001b[1;33m\u001b[0m\u001b[0m\n",
      "\u001b[1;32m~\\Anaconda3\\envs\\MLenv\\lib\\site-packages\\torch\\nn\\modules\\module.py\u001b[0m in \u001b[0;36m_call_impl\u001b[1;34m(self, *input, **kwargs)\u001b[0m\n\u001b[0;32m   1100\u001b[0m         if not (self._backward_hooks or self._forward_hooks or self._forward_pre_hooks or _global_backward_hooks\n\u001b[0;32m   1101\u001b[0m                 or _global_forward_hooks or _global_forward_pre_hooks):\n\u001b[1;32m-> 1102\u001b[1;33m             \u001b[1;32mreturn\u001b[0m \u001b[0mforward_call\u001b[0m\u001b[1;33m(\u001b[0m\u001b[1;33m*\u001b[0m\u001b[0minput\u001b[0m\u001b[1;33m,\u001b[0m \u001b[1;33m**\u001b[0m\u001b[0mkwargs\u001b[0m\u001b[1;33m)\u001b[0m\u001b[1;33m\u001b[0m\u001b[1;33m\u001b[0m\u001b[0m\n\u001b[0m\u001b[0;32m   1103\u001b[0m         \u001b[1;31m# Do not call functions when jit is used\u001b[0m\u001b[1;33m\u001b[0m\u001b[1;33m\u001b[0m\u001b[0m\n\u001b[0;32m   1104\u001b[0m         \u001b[0mfull_backward_hooks\u001b[0m\u001b[1;33m,\u001b[0m \u001b[0mnon_full_backward_hooks\u001b[0m \u001b[1;33m=\u001b[0m \u001b[1;33m[\u001b[0m\u001b[1;33m]\u001b[0m\u001b[1;33m,\u001b[0m \u001b[1;33m[\u001b[0m\u001b[1;33m]\u001b[0m\u001b[1;33m\u001b[0m\u001b[1;33m\u001b[0m\u001b[0m\n",
      "\u001b[1;32m~\\Anaconda3\\envs\\MLenv\\lib\\site-packages\\torch\\nn\\modules\\loss.py\u001b[0m in \u001b[0;36mforward\u001b[1;34m(self, input, target)\u001b[0m\n\u001b[0;32m    601\u001b[0m \u001b[1;33m\u001b[0m\u001b[0m\n\u001b[0;32m    602\u001b[0m     \u001b[1;32mdef\u001b[0m \u001b[0mforward\u001b[0m\u001b[1;33m(\u001b[0m\u001b[0mself\u001b[0m\u001b[1;33m,\u001b[0m \u001b[0minput\u001b[0m\u001b[1;33m:\u001b[0m \u001b[0mTensor\u001b[0m\u001b[1;33m,\u001b[0m \u001b[0mtarget\u001b[0m\u001b[1;33m:\u001b[0m \u001b[0mTensor\u001b[0m\u001b[1;33m)\u001b[0m \u001b[1;33m->\u001b[0m \u001b[0mTensor\u001b[0m\u001b[1;33m:\u001b[0m\u001b[1;33m\u001b[0m\u001b[1;33m\u001b[0m\u001b[0m\n\u001b[1;32m--> 603\u001b[1;33m         \u001b[1;32mreturn\u001b[0m \u001b[0mF\u001b[0m\u001b[1;33m.\u001b[0m\u001b[0mbinary_cross_entropy\u001b[0m\u001b[1;33m(\u001b[0m\u001b[0minput\u001b[0m\u001b[1;33m,\u001b[0m \u001b[0mtarget\u001b[0m\u001b[1;33m,\u001b[0m \u001b[0mweight\u001b[0m\u001b[1;33m=\u001b[0m\u001b[0mself\u001b[0m\u001b[1;33m.\u001b[0m\u001b[0mweight\u001b[0m\u001b[1;33m,\u001b[0m \u001b[0mreduction\u001b[0m\u001b[1;33m=\u001b[0m\u001b[0mself\u001b[0m\u001b[1;33m.\u001b[0m\u001b[0mreduction\u001b[0m\u001b[1;33m)\u001b[0m\u001b[1;33m\u001b[0m\u001b[1;33m\u001b[0m\u001b[0m\n\u001b[0m\u001b[0;32m    604\u001b[0m \u001b[1;33m\u001b[0m\u001b[0m\n\u001b[0;32m    605\u001b[0m \u001b[1;33m\u001b[0m\u001b[0m\n",
      "\u001b[1;32m~\\Anaconda3\\envs\\MLenv\\lib\\site-packages\\torch\\nn\\functional.py\u001b[0m in \u001b[0;36mbinary_cross_entropy\u001b[1;34m(input, target, weight, size_average, reduce, reduction)\u001b[0m\n\u001b[0;32m   2913\u001b[0m         \u001b[0mweight\u001b[0m \u001b[1;33m=\u001b[0m \u001b[0mweight\u001b[0m\u001b[1;33m.\u001b[0m\u001b[0mexpand\u001b[0m\u001b[1;33m(\u001b[0m\u001b[0mnew_size\u001b[0m\u001b[1;33m)\u001b[0m\u001b[1;33m\u001b[0m\u001b[1;33m\u001b[0m\u001b[0m\n\u001b[0;32m   2914\u001b[0m \u001b[1;33m\u001b[0m\u001b[0m\n\u001b[1;32m-> 2915\u001b[1;33m     \u001b[1;32mreturn\u001b[0m \u001b[0mtorch\u001b[0m\u001b[1;33m.\u001b[0m\u001b[0m_C\u001b[0m\u001b[1;33m.\u001b[0m\u001b[0m_nn\u001b[0m\u001b[1;33m.\u001b[0m\u001b[0mbinary_cross_entropy\u001b[0m\u001b[1;33m(\u001b[0m\u001b[0minput\u001b[0m\u001b[1;33m,\u001b[0m \u001b[0mtarget\u001b[0m\u001b[1;33m,\u001b[0m \u001b[0mweight\u001b[0m\u001b[1;33m,\u001b[0m \u001b[0mreduction_enum\u001b[0m\u001b[1;33m)\u001b[0m\u001b[1;33m\u001b[0m\u001b[1;33m\u001b[0m\u001b[0m\n\u001b[0m\u001b[0;32m   2916\u001b[0m \u001b[1;33m\u001b[0m\u001b[0m\n\u001b[0;32m   2917\u001b[0m \u001b[1;33m\u001b[0m\u001b[0m\n",
      "\u001b[1;31mKeyboardInterrupt\u001b[0m: "
     ]
    }
   ],
   "source": [
    "epoch_loss = []\n",
    "valida_loss = []\n",
    "test_loss = []\n",
    "for epoch in range(1,50):\n",
    "    train_loss = train()\n",
    "    train_acc = test(trainloader)\n",
    "    val_acc = test(validloader)\n",
    "    test_acc = test(testloader)\n",
    "    epoch_loss.append(train_loss)\n",
    "    valida_loss.append(val_acc)\n",
    "    test_loss.append(test_acc)\n",
    "    #print(train_loss)\n",
    "    print(f'Epoch: {epoch:03d}, Train loss: {train_acc:.4f}, val loss: {val_acc:.4f},test loss: {test_acc:.4f}')"
   ]
  },
  {
   "cell_type": "code",
   "execution_count": 135,
   "id": "100f1d15",
   "metadata": {},
   "outputs": [
    {
     "data": {
      "image/png": "[encoded data removed]",
      "text/plain": [
       "<Figure size 432x288 with 1 Axes>"
      ]
     },
     "metadata": {
      "needs_background": "light"
     },
     "output_type": "display_data"
    }
   ],
   "source": [
    "import matplotlib.pyplot as plt\n",
    "\n",
    "plt.plot([i for i in range(1,50)],[i.cpu().detach().numpy() for i  in epoch_loss],label=\"Train loss\",color=\"Red\",)\n",
    "plt.plot([i for i in range(1,50)],[i.cpu().detach().numpy() for i in valida_loss],label=\"valid loss\",color=\"Green\")\n",
    "plt.plot([i for i in range(1,50)],[i.cpu().detach().numpy() for i in test_loss],label=\"Test loss\",color=\"Blue\")\n",
    "plt.legend()\n",
    "plt.xlabel(\"Epochs\")\n",
    "plt.ylabel(\"Loss\")\n",
    "plt.show()\n"
   ]
  },
  {
   "cell_type": "code",
   "execution_count": 136,
   "id": "22aeba97",
   "metadata": {},
   "outputs": [
    {
     "name": "stdout",
     "output_type": "stream",
     "text": [
      "Training loss:   Mean: 0.6112170219421387   std: 0.019360549747943878\n",
      "validation loss: Mean: 0.6355429887771606   std: 0.011122460477054119\n",
      "Test loss:       Mean: 0.6054069995880127   std: 0.02176579274237156\n"
     ]
    }
   ],
   "source": [
    "print(f\"Training loss:   Mean: {torch.tensor(epoch_loss).mean()}   std: {torch.tensor(epoch_loss).std()}\")\n",
    "print(f\"validation loss: Mean: {torch.tensor(valida_loss).mean()}   std: {torch.tensor(valida_loss).std()}\")\n",
    "print(f\"Test loss:       Mean: {torch.tensor(test_loss).mean()}   std: {torch.tensor(test_loss).std()}\")"
   ]
  },
  {
   "cell_type": "code",
   "execution_count": null,
   "id": "b11cef23",
   "metadata": {},
   "outputs": [],
   "source": []
  }
 ],
 "metadata": {
  "kernelspec": {
   "display_name": "Python 3 (ipykernel)",
   "language": "python",
   "name": "python3"
  },
  "language_info": {
   "codemirror_mode": {
    "name": "ipython",
    "version": 3
   },
   "file_extension": ".py",
   "mimetype": "text/x-python",
   "name": "python",
   "nbconvert_exporter": "python",
   "pygments_lexer": "ipython3",
   "version": "3.9.7"
  }
 },
 "nbformat": 4,
 "nbformat_minor": 5
}
