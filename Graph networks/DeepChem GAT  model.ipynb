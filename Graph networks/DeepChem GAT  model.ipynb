{
 "cells": [
  {
   "cell_type": "code",
   "execution_count": 47,
   "id": "60ab48ab",
   "metadata": {},
   "outputs": [],
   "source": [
    "import deepchem as dc\n",
    "from deepchem.models import GATModel\n",
    "import pandas as pd\n",
    "import numpy as np\n",
    "import warnings\n",
    "warnings.filterwarnings(\"ignore\")"
   ]
  },
  {
   "cell_type": "markdown",
   "id": "e30f8e08",
   "metadata": {},
   "source": [
    "### Cleaning Dataset"
   ]
  },
  {
   "cell_type": "code",
   "execution_count": 48,
   "id": "d47d92b7",
   "metadata": {},
   "outputs": [],
   "source": [
    "data_ = pd.read_csv(\"../../data/FilteredData.csv\")"
   ]
  },
  {
   "cell_type": "code",
   "execution_count": 49,
   "id": "98a820ab",
   "metadata": {},
   "outputs": [],
   "source": [
    "def SingleAtomRemover(x):\n",
    "    singleAtom = [\"[Kr]\",\"[Ne]\",\"C\",\"[Li]\",\"O\",\"[Ar]\",'[Xe]']\n",
    "    if x in singleAtom:\n",
    "        return 1\n",
    "    else: \n",
    "        return 0  "
   ]
  },
  {
   "cell_type": "code",
   "execution_count": 50,
   "id": "b4ed1060",
   "metadata": {},
   "outputs": [],
   "source": [
    "data = data_[[\"Structure\",\"BBB+/BBB-\"]]\n",
    "data.replace({\"BBB+\":1,\"BBB-\":0},inplace=True)"
   ]
  },
  {
   "cell_type": "code",
   "execution_count": 51,
   "id": "d411f945",
   "metadata": {},
   "outputs": [],
   "source": [
    "data.rename(columns={\"Structure\":\"SMILES\",\"BBB+/BBB-\":\"LABELS\"},inplace=True)\n",
    "data[\"Isit\"] = data[\"SMILES\"].apply(SingleAtomRemover)\n",
    "### Remove single element\n",
    "data.drop(data[data[\"Isit\"] == 1].index,inplace=True)"
   ]
  },
  {
   "cell_type": "code",
   "execution_count": 52,
   "id": "dd1590b4",
   "metadata": {},
   "outputs": [],
   "source": [
    "data.to_csv(r\"data.csv\")"
   ]
  },
  {
   "cell_type": "code",
   "execution_count": 53,
   "id": "a02b38b0",
   "metadata": {},
   "outputs": [],
   "source": [
    "clean_data = pd.read_csv(r\"data.csv\")"
   ]
  },
  {
   "cell_type": "markdown",
   "id": "d3c60082",
   "metadata": {},
   "source": [
    "### Converting in DeepChem Format"
   ]
  },
  {
   "cell_type": "code",
   "execution_count": 54,
   "id": "090f4b16",
   "metadata": {},
   "outputs": [],
   "source": [
    "smiles = clean_data.SMILES.to_list()"
   ]
  },
  {
   "cell_type": "code",
   "execution_count": 55,
   "id": "f9d03472",
   "metadata": {},
   "outputs": [],
   "source": [
    "labels = clean_data.LABELS.to_list()"
   ]
  },
  {
   "cell_type": "markdown",
   "id": "8a92884c",
   "metadata": {},
   "source": [
    "#### Featurizing the node"
   ]
  },
  {
   "cell_type": "code",
   "execution_count": 56,
   "id": "0bb8ea1d",
   "metadata": {},
   "outputs": [],
   "source": [
    "featurizer = dc.feat.MolGraphConvFeaturizer()"
   ]
  },
  {
   "cell_type": "code",
   "execution_count": 57,
   "id": "0895e05c",
   "metadata": {},
   "outputs": [],
   "source": [
    "X = featurizer.featurize(smiles)"
   ]
  },
  {
   "cell_type": "markdown",
   "id": "526c7935",
   "metadata": {},
   "source": [
    "### convering into numpy datset"
   ]
  },
  {
   "cell_type": "code",
   "execution_count": 40,
   "id": "b9f8b8ba",
   "metadata": {},
   "outputs": [],
   "source": [
    "dataset = dc.data.NumpyDataset(X=X, y=labels)"
   ]
  },
  {
   "cell_type": "code",
   "execution_count": 41,
   "id": "073f7c86",
   "metadata": {},
   "outputs": [],
   "source": [
    "splitter = dc.splits.RandomStratifiedSplitter()"
   ]
  },
  {
   "cell_type": "code",
   "execution_count": 42,
   "id": "40a3e007",
   "metadata": {},
   "outputs": [],
   "source": [
    "train_dataset, test_dataset = splitter.train_test_split(dataset)"
   ]
  },
  {
   "cell_type": "code",
   "execution_count": 63,
   "id": "a03ab3ca",
   "metadata": {},
   "outputs": [],
   "source": [
    "# training model\n",
    "model = GATModel(mode='classification\n",
    "                 graph_attention_layers = [64,32],\n",
    "                 n_tasks=1,batch_size=256, learning_rate=0.001,)"
   ]
  },
  {
   "cell_type": "code",
   "execution_count": 64,
   "id": "72d807a2",
   "metadata": {},
   "outputs": [],
   "source": [
    "from deepchem.models.callbacks import ValidationCallback\n",
    "metrics1 = dc.metrics.Metric(dc.metrics.accuracy_score)\n",
    "metrics2 = dc.metrics.Metric(dc.metrics.f1_score)\n",
    "metrics3 = dc.metrics.Metric(dc.metrics.roc_auc_score)"
   ]
  },
  {
   "cell_type": "code",
   "execution_count": 65,
   "id": "46d5fee8",
   "metadata": {},
   "outputs": [],
   "source": [
    "vc_valid = ValidationCallback(train_dataset, interval=100, metrics=[metrics1,metrics2,metrics3],)\n",
    "vc_valid2 = ValidationCallback(test_dataset, interval=100, metrics=[metrics1,metrics2,metrics3],)"
   ]
  },
  {
   "cell_type": "code",
   "execution_count": 66,
   "id": "ace97676",
   "metadata": {},
   "outputs": [
    {
     "name": "stdout",
     "output_type": "stream",
     "text": [
      "Step 100 validation: accuracy_score=0.765015 f1_score=0.829521 roc_auc_score=0.848891\n",
      "Step 100 validation: accuracy_score=0.732733 f1_score=0.805677 roc_auc_score=0.8128\n",
      "Step 200 validation: accuracy_score=0.798048 f1_score=0.827675 roc_auc_score=0.876008\n",
      "Step 200 validation: accuracy_score=0.752252 f1_score=0.780293 roc_auc_score=0.830708\n",
      "Step 300 validation: accuracy_score=0.814565 f1_score=0.847153 roc_auc_score=0.898662\n",
      "Step 300 validation: accuracy_score=0.753754 f1_score=0.795511 roc_auc_score=0.836261\n",
      "Step 400 validation: accuracy_score=0.836712 f1_score=0.869173 roc_auc_score=0.922087\n",
      "Step 400 validation: accuracy_score=0.768769 f1_score=0.810811 roc_auc_score=0.845485\n",
      "Step 500 validation: accuracy_score=0.820946 f1_score=0.86297 roc_auc_score=0.892703\n",
      "Step 500 validation: accuracy_score=0.741742 f1_score=0.800464 roc_auc_score=0.785769\n",
      "Step 600 validation: accuracy_score=0.859985 f1_score=0.882668 roc_auc_score=0.941591\n",
      "Step 600 validation: accuracy_score=0.755255 f1_score=0.793932 roc_auc_score=0.824237\n",
      "Step 700 validation: accuracy_score=0.866742 f1_score=0.89469 roc_auc_score=0.948751\n",
      "Step 700 validation: accuracy_score=0.764264 f1_score=0.813317 roc_auc_score=0.83663\n",
      "Step 800 validation: accuracy_score=0.886261 f1_score=0.910961 roc_auc_score=0.964915\n",
      "Step 800 validation: accuracy_score=0.761261 f1_score=0.813599 roc_auc_score=0.827142\n",
      "Step 900 validation: accuracy_score=0.910285 f1_score=0.927245 roc_auc_score=0.973823\n",
      "Step 900 validation: accuracy_score=0.771772 f1_score=0.812808 roc_auc_score=0.833357\n",
      "Step 1000 validation: accuracy_score=0.921547 f1_score=0.936027 roc_auc_score=0.978284\n",
      "Step 1000 validation: accuracy_score=0.77027 f1_score=0.813187 roc_auc_score=0.821148\n",
      "Step 1100 validation: accuracy_score=0.918168 f1_score=0.931056 roc_auc_score=0.977529\n",
      "Step 1100 validation: accuracy_score=0.75976 f1_score=0.79798 roc_auc_score=0.819784\n",
      "Step 1200 validation: accuracy_score=0.933934 f1_score=0.947147 roc_auc_score=0.986923\n",
      "Step 1200 validation: accuracy_score=0.755255 f1_score=0.808461 roc_auc_score=0.813817\n",
      "Step 1300 validation: accuracy_score=0.948198 f1_score=0.957009 roc_auc_score=0.988638\n",
      "Step 1300 validation: accuracy_score=0.777778 f1_score=0.816832 roc_auc_score=0.823478\n",
      "Step 1400 validation: accuracy_score=0.964715 f1_score=0.971041 roc_auc_score=0.994565\n",
      "Step 1400 validation: accuracy_score=0.777778 f1_score=0.822542 roc_auc_score=0.814011\n",
      "Step 1500 validation: accuracy_score=0.971847 f1_score=0.977155 roc_auc_score=0.996655\n",
      "Step 1500 validation: accuracy_score=0.768769 f1_score=0.817536 roc_auc_score=0.816485\n",
      "Step 1600 validation: accuracy_score=0.971847 f1_score=0.976541 roc_auc_score=0.997327\n",
      "Step 1600 validation: accuracy_score=0.774775 f1_score=0.815271 roc_auc_score=0.816648\n",
      "Step 1700 validation: accuracy_score=0.97973 f1_score=0.983209 roc_auc_score=0.998203\n",
      "Step 1700 validation: accuracy_score=0.764264 f1_score=0.804483 roc_auc_score=0.814228\n",
      "Step 1800 validation: accuracy_score=0.97485 f1_score=0.979134 roc_auc_score=0.996469\n",
      "Step 1800 validation: accuracy_score=0.755255 f1_score=0.797011 roc_auc_score=0.810707\n",
      "Step 1900 validation: accuracy_score=0.980105 f1_score=0.983837 roc_auc_score=0.998896\n",
      "Step 1900 validation: accuracy_score=0.774775 f1_score=0.822695 roc_auc_score=0.816747\n",
      "Step 2000 validation: accuracy_score=0.977477 f1_score=0.981308 roc_auc_score=0.99634\n",
      "Step 2000 validation: accuracy_score=0.771772 f1_score=0.816425 roc_auc_score=0.820023\n",
      "Step 2100 validation: accuracy_score=0.990616 f1_score=0.992262 roc_auc_score=0.999462\n",
      "Step 2100 validation: accuracy_score=0.764264 f1_score=0.808303 roc_auc_score=0.819959\n",
      "Step 2200 validation: accuracy_score=0.992117 f1_score=0.993496 roc_auc_score=0.999817\n",
      "Step 2200 validation: accuracy_score=0.774775 f1_score=0.813433 roc_auc_score=0.821908\n",
      "Step 2300 validation: accuracy_score=0.989489 f1_score=0.991363 roc_auc_score=0.998214\n",
      "Step 2300 validation: accuracy_score=0.767267 f1_score=0.811206 roc_auc_score=0.81332\n",
      "Step 2400 validation: accuracy_score=0.981231 f1_score=0.984784 roc_auc_score=0.999548\n",
      "Step 2400 validation: accuracy_score=0.774775 f1_score=0.824356 roc_auc_score=0.828187\n",
      "Step 2500 validation: accuracy_score=0.99512 f1_score=0.995976 roc_auc_score=0.999723\n",
      "Step 2500 validation: accuracy_score=0.786787 f1_score=0.826406 roc_auc_score=0.826404\n",
      "Step 2600 validation: accuracy_score=0.997372 f1_score=0.997836 roc_auc_score=0.999954\n",
      "Step 2600 validation: accuracy_score=0.776276 f1_score=0.813983 roc_auc_score=0.823797\n",
      "Step 2700 validation: accuracy_score=0.996997 f1_score=0.997525 roc_auc_score=0.999904\n",
      "Step 2700 validation: accuracy_score=0.780781 f1_score=0.821951 roc_auc_score=0.822542\n",
      "Step 2800 validation: accuracy_score=0.996997 f1_score=0.997526 roc_auc_score=0.999888\n",
      "Step 2800 validation: accuracy_score=0.774775 f1_score=0.817518 roc_auc_score=0.828194\n",
      "Step 2900 validation: accuracy_score=0.997748 f1_score=0.99815 roc_auc_score=0.999965\n",
      "Step 2900 validation: accuracy_score=0.774775 f1_score=0.820574 roc_auc_score=0.821345\n",
      "Step 3000 validation: accuracy_score=0.998123 f1_score=0.998456 roc_auc_score=0.999758\n",
      "Step 3000 validation: accuracy_score=0.782282 f1_score=0.823386 roc_auc_score=0.822305\n",
      "Step 3100 validation: accuracy_score=0.933559 f1_score=0.948139 roc_auc_score=0.998473\n",
      "Step 3100 validation: accuracy_score=0.765766 f1_score=0.823529 roc_auc_score=0.819966\n",
      "Step 3200 validation: accuracy_score=0.995495 f1_score=0.996296 roc_auc_score=0.999824\n",
      "Step 3200 validation: accuracy_score=0.77027 f1_score=0.814095 roc_auc_score=0.818493\n",
      "Step 3300 validation: accuracy_score=0.997372 f1_score=0.997838 roc_auc_score=0.99998\n",
      "Step 3300 validation: accuracy_score=0.774775 f1_score=0.817518 roc_auc_score=0.823341\n"
     ]
    },
    {
     "data": {
      "text/plain": [
       "0.03386830568313599"
      ]
     },
     "execution_count": 66,
     "metadata": {},
     "output_type": "execute_result"
    }
   ],
   "source": [
    "model.fit(train_dataset, nb_epoch=300,callbacks=[vc_valid,vc_valid2])"
   ]
  },
  {
   "cell_type": "code",
   "execution_count": 58,
   "id": "b50024ba",
   "metadata": {},
   "outputs": [],
   "source": [
    "train_preds = model.predict(train_dataset)"
   ]
  },
  {
   "cell_type": "code",
   "execution_count": 59,
   "id": "3aee5c3e",
   "metadata": {},
   "outputs": [],
   "source": [
    "test_preds = model.predict(test_dataset)"
   ]
  },
  {
   "cell_type": "code",
   "execution_count": 62,
   "id": "80da9cf4",
   "metadata": {},
   "outputs": [
    {
     "name": "stdout",
     "output_type": "stream",
     "text": [
      "Training set score: {'accuracy_score': 0.9557057057057057, 'f1_score': 0.9626818469323214, 'roc_auc_score': 0.9952846364883402}\n",
      "Test set score: {'accuracy_score': 0.7642642642642643, 'f1_score': 0.8010139416983524, 'roc_auc_score': 0.8357528026110401}\n"
     ]
    }
   ],
   "source": [
    "train_score = model.evaluate(train_dataset, [metrics1,metrics2,metrics3],)\n",
    "test_score = model.evaluate(test_dataset, [metrics1,metrics2,metrics3],)\n",
    "\n",
    "print('Training set score:', train_score)\n",
    "print('Test set score:', test_score)\n"
   ]
  },
  {
   "cell_type": "code",
   "execution_count": 60,
   "id": "7ed35f3d",
   "metadata": {},
   "outputs": [],
   "source": [
    "from sklearn.metrics import accuracy_score\n",
    "def accuracy_counter(y_prob,y_true):\n",
    "    \n",
    "    y_prob = np.array(y_prob)\n",
    "    y_prob = np.where(y_prob <= 0.5, 0, y_prob)\n",
    "    y_prob = np.where(y_prob > 0.5, 1, y_prob)\n",
    "    \n",
    "    binary =  [np.argmax(i) for i in y_prob]\n",
    "    accuracy = accuracy_score(np.array(y_true),np.array(binary)) \n",
    "    \n",
    "    return accuracy"
   ]
  },
  {
   "cell_type": "code",
   "execution_count": 61,
   "id": "20a9a165",
   "metadata": {},
   "outputs": [
    {
     "name": "stdout",
     "output_type": "stream",
     "text": [
      "Training accuracy: 0.9557057057057057  Test accuracy: 0.7642642642642643 \n"
     ]
    }
   ],
   "source": [
    "print(f\"Training accuracy: {accuracy_counter(train_preds,train_dataset.y)}  Test accuracy: {accuracy_counter(test_preds,test_dataset.y)} \",)"
   ]
  },
  {
   "cell_type": "code",
   "execution_count": null,
   "id": "ac960c15",
   "metadata": {},
   "outputs": [],
   "source": []
  }
 ],
 "metadata": {
  "kernelspec": {
   "display_name": "Python 3 (ipykernel)",
   "language": "python",
   "name": "python3"
  },
  "language_info": {
   "codemirror_mode": {
    "name": "ipython",
    "version": 3
   },
   "file_extension": ".py",
   "mimetype": "text/x-python",
   "name": "python",
   "nbconvert_exporter": "python",
   "pygments_lexer": "ipython3",
   "version": "3.9.7"
  }
 },
 "nbformat": 4,
 "nbformat_minor": 5
}
