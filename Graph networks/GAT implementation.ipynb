{
 "cells": [
  {
   "cell_type": "code",
   "execution_count": 550,
   "id": "5efe12f7",
   "metadata": {},
   "outputs": [],
   "source": [
    "import torch\n",
    "import torch.nn as nn\n",
    "from torch_geometric.nn import GATConv"
   ]
  },
  {
   "cell_type": "code",
   "execution_count": 551,
   "id": "983db349",
   "metadata": {},
   "outputs": [],
   "source": [
    "import torch\n",
    "from torch_geometric.loader import DataLoader\n",
    "from torch_geometric.nn import NNConv, global_add_pool\n",
    "import torch.nn.functional as F\n",
    "from rdkit.Chem.rdmolops import GetAdjacencyMatrix\n",
    "import torch.nn as nn\n",
    "import numpy as np\n",
    "import pandas as pd\n",
    "from tqdm import tqdm\n",
    "import warnings\n",
    "import os\n",
    "warnings.filterwarnings(\"ignore\")"
   ]
  },
  {
   "cell_type": "code",
   "execution_count": 552,
   "id": "56f1de1c",
   "metadata": {},
   "outputs": [],
   "source": [
    "data_ = pd.read_csv(\"../data/FilteredData.csv\")"
   ]
  },
  {
   "cell_type": "code",
   "execution_count": 553,
   "id": "c0478bcd",
   "metadata": {},
   "outputs": [],
   "source": [
    "def SingleAtomRemover(x):\n",
    "    singleAtom = [\"[Kr]\",\"[Ne]\",\"C\",\"[Li]\",\"O\",\"[Ar]\",'[Xe]']\n",
    "    if x in singleAtom:\n",
    "        return 1\n",
    "    else: \n",
    "        return 0  "
   ]
  },
  {
   "cell_type": "code",
   "execution_count": 554,
   "id": "e485959e",
   "metadata": {},
   "outputs": [],
   "source": [
    "data = data_[[\"Structure\",\"BBB+/BBB-\"]]"
   ]
  },
  {
   "cell_type": "code",
   "execution_count": 555,
   "id": "da97b49f",
   "metadata": {},
   "outputs": [],
   "source": [
    "data.replace({\"BBB+\":1,\"BBB-\":0},inplace=True)"
   ]
  },
  {
   "cell_type": "code",
   "execution_count": 556,
   "id": "28772ff0",
   "metadata": {},
   "outputs": [],
   "source": [
    "data.rename(columns={\"Structure\":\"SMILES\",\"BBB+/BBB-\":\"LABELS\"},inplace=True)"
   ]
  },
  {
   "cell_type": "code",
   "execution_count": 557,
   "id": "c4c621ea",
   "metadata": {},
   "outputs": [],
   "source": [
    "data[\"Isit\"] = data[\"SMILES\"].apply(SingleAtomRemover)"
   ]
  },
  {
   "cell_type": "code",
   "execution_count": 558,
   "id": "658f3bfb",
   "metadata": {},
   "outputs": [],
   "source": [
    "### Remove single element\n",
    "data.drop(data[data[\"Isit\"] == 1].index,inplace=True)"
   ]
  },
  {
   "cell_type": "code",
   "execution_count": 559,
   "id": "0bbee8b9",
   "metadata": {},
   "outputs": [],
   "source": [
    "data.to_csv(r\"raw/data.csv\")"
   ]
  },
  {
   "cell_type": "code",
   "execution_count": 560,
   "id": "4b468457",
   "metadata": {},
   "outputs": [],
   "source": [
    "from torch_geometric.data import InMemoryDataset, download_url, Dataset, Data\n",
    "from dgllife.utils import (CanonicalAtomFeaturizer,\n",
    "                           one_hot_encoding,\n",
    "                           atom_implicit_valence_one_hot,\n",
    "                           atom_total_degree_one_hot,\n",
    "                           atomic_number_one_hot,\n",
    "                           atom_hybridization_one_hot,\n",
    "                           atom_is_in_ring_one_hot,\n",
    "                           atom_is_aromatic_one_hot\n",
    "                          )\n",
    "from rdkit import Chem\n",
    "\n",
    "class BBBDataset(Dataset): ### All dataset will store in RAM\n",
    "    \n",
    "    def __init__(self,root,transform = None, pre_transform=None,pre_filter=None,one_hot=False):\n",
    "        \n",
    "        \"\"\"\n",
    "        root: where the dataset shoul be stored. The folder will split into raw_dir (downloaded dataset)\n",
    "        and processed_dir (processed data).\n",
    "\n",
    "        \"\"\"\n",
    "        self.one_hot = one_hot\n",
    "        super().__init__(root, transform, pre_transform, pre_filter)\n",
    "        \n",
    "    \n",
    "    @property\n",
    "    def raw_file_names(self):\n",
    "        \n",
    "        \"\"\"\n",
    "        If this file exists in raw_dir, the download is not triggered\n",
    "        \"\"\"\n",
    "        return \"data.csv\"\n",
    "        \n",
    "    def download(self):\n",
    "        pass\n",
    "    \n",
    "    @property\n",
    "    def processed_file_names(self):\n",
    "        return ['data.pt']\n",
    "    \n",
    "    \n",
    "    def process(self):\n",
    "        \n",
    "        self.data = pd.read_csv(self.raw_paths[0])\n",
    "        dataArray = self.data[[\"SMILES\",\"LABELS\"]].to_numpy().squeeze()\n",
    "        \n",
    "        j = 0\n",
    "        for i in tqdm(dataArray):\n",
    "            processed_data = self.smiles2graph(*i,one_hot=self.one_hot)\n",
    "            \n",
    "            nodes_feats = processed_data[\"X\"]\n",
    "            label = processed_data[\"Y\"]\n",
    "            edge_feats = processed_data[\"E\"]\n",
    "            adj_mat = processed_data[\"A\"]\n",
    "            smiles = processed_data[\"SMILES\"]\n",
    "            \n",
    "            \n",
    "            ### create data object\n",
    "            data = Data(x=nodes_feats,edge_index=adj_mat,edge_attr=edge_feats,y=label,smiles=smiles)\n",
    "            \n",
    "            torch.save(data,os.path.join(self.processed_dir,f\"data_{j}.pt\"))\n",
    "            j+=1\n",
    "            \n",
    "    def smiles2graph(self, smiles,label,one_hot=False):\n",
    "        try:\n",
    "            mol = Chem.MolFromSmiles(smiles)\n",
    "        except:\n",
    "            raise(\"Smiles not parsed by rdkit\")\n",
    "\n",
    "        adj_matrix = GetAdjacencyMatrix(mol) ### Adjacency matrix\n",
    "        row,col = np.where(adj_matrix)\n",
    "        coo = np.array(list(zip(row,col)))\n",
    "        coo = np.reshape(coo,(2,-1))\n",
    "        \n",
    "        if one_hot:\n",
    "            valence =[]\n",
    "            degree = []\n",
    "            atoms =  []\n",
    "            hybrid = []\n",
    "            mass =   []\n",
    "            aromatic = []\n",
    "            for idx,atom in enumerate(mol.GetAtoms()):\n",
    "                valence.append(atom_implicit_valence_one_hot(atom))## Implicit valence\n",
    "                degree.append(atom_total_degree_one_hot(atom))## total degree\n",
    "                atoms.append(atomic_number_one_hot(atom))## total degree\n",
    "                hybrid.append(atom_hybridization_one_hot(atom))## total degree\n",
    "                aromatic.append(atom_is_aromatic_one_hot(atom)) ## aromatic\n",
    "                mass.append([atom.GetMass()])## total degree\n",
    "                \n",
    "            features  = torch.cat([torch.tensor(valence),\n",
    "                                  torch.tensor(degree),\n",
    "                                  torch.tensor(atoms),\n",
    "                                  torch.tensor(hybrid),\n",
    "                                  torch.tensor(aromatic),],\n",
    "                                  axis=1)\n",
    "            ##torch.tensor(mass)],\n",
    "            \n",
    "        else:\n",
    "            \n",
    "            features = np.zeros((mol.GetNumAtoms(),5),) ### Feature Matrix\n",
    "            for idx,atom in enumerate(mol.GetAtoms()):\n",
    "                features[idx,0] = atom.GetAtomicNum()\n",
    "                features[idx,1] = atom.GetDegree()\n",
    "                #feature_array[idx,2] = atom.GetFormalCharge()\n",
    "                features[idx,2] = atom.GetHybridization()\n",
    "                features[idx,3] = atom.GetExplicitValence()\n",
    "                features[idx,4] = atom.GetMass()\n",
    "           \n",
    "        label_array = torch.tensor([0]) if label == 0 else torch.tensor([1])\n",
    "        \n",
    "#         if label == 0:\n",
    "#             label_array = torch.tensor([0])\n",
    "#         else:\n",
    "#             label_array = torch.tensor([1])\n",
    "\n",
    "        all_edge_feats = []\n",
    "        for bond in mol.GetBonds():\n",
    "            Edge_feature = []\n",
    "            # Feature 1: Bond type (as double)\n",
    "            Edge_feature.append(bond.GetBondTypeAsDouble())\n",
    "            # Feature 2: Rings\n",
    "            Edge_feature.append(bond.IsInRing())\n",
    "            # Append edget features to matrix (twice, per direction)\n",
    "            all_edge_feats += [Edge_feature, Edge_feature]\n",
    "\n",
    "        all_edge_feats = np.asarray(all_edge_feats)\n",
    "\n",
    "        return {\"A\": torch.tensor(coo,dtype=torch.long),\n",
    "               \"X\": torch.tensor(features,dtype=torch.float32),\n",
    "               \"Y\":torch.tensor(label_array,dtype=torch.float32),\n",
    "                \"E\":torch.tensor(all_edge_feats,dtype=torch.float32),\n",
    "                \"SMILES\":smiles}\n",
    "    \n",
    "    def len (self):\n",
    "        return self.data.shape[0]\n",
    "    \n",
    "    def get(self,idx):\n",
    "        data = torch.load(os.path.join(self.processed_dir,f'data_{idx}.pt'))\n",
    "        return data\n"
   ]
  },
  {
   "cell_type": "code",
   "execution_count": 561,
   "id": "0d6e7277",
   "metadata": {},
   "outputs": [
    {
     "name": "stderr",
     "output_type": "stream",
     "text": [
      "Processing...\n",
      "100%|█████████████████████████████████████████████████████████████████████████████| 3330/3330 [00:07<00:00, 453.07it/s]\n",
      "Done!\n"
     ]
    }
   ],
   "source": [
    "dataset = BBBDataset(root=\".\",one_hot=True)"
   ]
  },
  {
   "cell_type": "code",
   "execution_count": 562,
   "id": "7d035bb2",
   "metadata": {},
   "outputs": [],
   "source": [
    "from dgl.nn import WeightAndSum\n",
    "from torch_geometric.nn import GlobalAttention\n",
    "from torch.nn import Sequential"
   ]
  },
  {
   "cell_type": "code",
   "execution_count": 563,
   "id": "6f18e309",
   "metadata": {},
   "outputs": [],
   "source": [
    "from torch_geometric.nn import global_mean_pool\n",
    "\n",
    "\n",
    "class PyGAT(nn.Module):\n",
    "    \n",
    "    def __init__(self,):\n",
    "        \n",
    "        super().__init__()\n",
    "        \n",
    "        \"\"\"\n",
    "        First GAT layer with 3 attention head for each node\n",
    "        \"\"\"\n",
    "        self.GAT_Conv1 = GATConv(in_channels= -1, \n",
    "                                 out_channels= 8,\n",
    "                                 heads = 3,\n",
    "                                 concat=True)\n",
    "        \n",
    "        self.GAT_Conv2 = GATConv(in_channels= 24, \n",
    "                                 out_channels= 16,\n",
    "                                 heads = 1,)\n",
    "        \n",
    "        self.GateNN = Sequential(nn.Linear(in_features=(16),out_features=1),)\n",
    "        \n",
    "        self.fC_layer = nn.Linear(16,8)\n",
    "        \n",
    "        self.GlobalAtt = GlobalAttention(self.GateNN,)\n",
    "        \n",
    "        self.fc_1 = nn.Linear(16,1)\n",
    "                 \n",
    "    def forward(self,data):\n",
    "        \n",
    "        ### Extracting data from batch\n",
    "        batch, x, edge_index, edge_attr = (data.batch, data.x, data.edge_index, data.edge_attr)\n",
    "        \n",
    "        x = F.dropout(x, p=0.5, training=self.training)\n",
    "        \n",
    "        x = self.GAT_Conv1(x=x,edge_index=edge_index)\n",
    "        \n",
    "        x = F.elu(x)\n",
    "        \n",
    "         ##x = F.dropout(x, p=0.5, training=self.training) \n",
    "        \n",
    "        x = self.GAT_Conv2(x,edge_index)\n",
    "        \n",
    "        x = self.GlobalAtt(x,batch)\n",
    "        \n",
    "        x = F.sigmoid(self.fc_1(x))\n",
    "        \n",
    "        return x\n",
    "        \n",
    "        \n",
    "        "
   ]
  },
  {
   "cell_type": "code",
   "execution_count": 564,
   "id": "ae3b73eb",
   "metadata": {},
   "outputs": [],
   "source": [
    "smallData = dataset[:500:]"
   ]
  },
  {
   "cell_type": "code",
   "execution_count": 565,
   "id": "bed2b1d9",
   "metadata": {},
   "outputs": [
    {
     "data": {
      "text/plain": [
       "BBBDataset(500)"
      ]
     },
     "execution_count": 565,
     "metadata": {},
     "output_type": "execute_result"
    }
   ],
   "source": [
    "smallData"
   ]
  },
  {
   "cell_type": "code",
   "execution_count": 578,
   "id": "fc775efb",
   "metadata": {},
   "outputs": [],
   "source": [
    "### Splitting of data\n",
    "from torch.utils.data import random_split\n",
    "\n",
    "train_set, valid_set, test_set = random_split(dataset,[2331,666,333])\n",
    "\n",
    "trainloader = DataLoader(train_set,shuffle=True,batch_size=256,num_workers=4)\n",
    "\n",
    "validloader = DataLoader(valid_set, shuffle=True,batch_size=256,num_workers=4)\n",
    "\n",
    "testloader = DataLoader(test_set, shuffle=True,batch_size=256,num_workers=4)"
   ]
  },
  {
   "cell_type": "code",
   "execution_count": 579,
   "id": "6f3ad092",
   "metadata": {},
   "outputs": [
    {
     "data": {
      "text/plain": [
       "PyGAT(\n",
       "  (GAT_Conv1): GATConv(-1, 8, heads=3)\n",
       "  (GAT_Conv2): GATConv(24, 16, heads=1)\n",
       "  (GateNN): Sequential(\n",
       "    (0): Linear(in_features=16, out_features=1, bias=True)\n",
       "  )\n",
       "  (fC_layer): Linear(in_features=16, out_features=8, bias=True)\n",
       "  (GlobalAtt): GlobalAttention(gate_nn=Sequential(\n",
       "    (0): Linear(in_features=16, out_features=1, bias=True)\n",
       "  ), nn=None)\n",
       "  (fc_1): Linear(in_features=16, out_features=1, bias=True)\n",
       ")"
      ]
     },
     "execution_count": 579,
     "metadata": {},
     "output_type": "execute_result"
    }
   ],
   "source": [
    "from torch.nn import BCEWithLogitsLoss, BCELoss,CrossEntropyLoss, Softmax\n",
    "\n",
    "## Intilaize Network\n",
    "net = PyGAT()\n",
    "\n",
    "### initialize an optimizer with someparameters\n",
    "optimizer = torch.optim.Adam(net.parameters(), lr=0.001,weight_decay=0.00001)\n",
    "\n",
    "### Defining loss\n",
    "criterion = BCELoss()\n",
    "\n",
    "### criterion\n",
    "criterion.cuda()\n",
    "\n",
    "## shifting to GPU\n",
    "device = \"cuda\" if torch.cuda.is_available() else \"cpu\"\n",
    "net.to(device)"
   ]
  },
  {
   "cell_type": "code",
   "execution_count": 580,
   "id": "445ecc7a",
   "metadata": {},
   "outputs": [],
   "source": [
    "from sklearn.metrics import accuracy_score"
   ]
  },
  {
   "cell_type": "code",
   "execution_count": 581,
   "id": "b3913b27",
   "metadata": {},
   "outputs": [],
   "source": [
    "def accuracy_counter(y_prob,y_true):\n",
    "    \n",
    "    y_prob = np.array(y_prob)\n",
    "    y_prob = np.where(y_prob <= 0.5, 0, y_prob)\n",
    "    y_prob = np.where(y_prob > 0.5, 1, y_prob)\n",
    "    accuracy = accuracy_score(np.array(y_true),y_prob)\n",
    "    \n",
    "    return (accuracy,)"
   ]
  },
  {
   "cell_type": "code",
   "execution_count": 583,
   "id": "cfe4d69c",
   "metadata": {},
   "outputs": [],
   "source": [
    "def train():\n",
    "    \n",
    "    net.train() ### training mode\n",
    "    \n",
    "    y_true = []\n",
    "    proab = []\n",
    "    train_loss = []\n",
    "    for data in trainloader:## Iterate in batches over training dataset\n",
    "        data.to(device)\n",
    "        \n",
    "        optimizer.zero_grad() ## clear gradients\n",
    "        out = net(data).squeeze(0) ## single forward pass\n",
    "        \n",
    "        proab.extend(out.detach().cpu().numpy().squeeze().tolist()) ## appending to list each batch\n",
    "        y_true.extend(data.y.unsqueeze(1).squeeze().tolist()) ## appending true value of each batch\n",
    "        \n",
    "        loss = criterion(out,data.y.unsqueeze(1)) ## compute the loss\n",
    "        \n",
    "        train_loss.append(loss)\n",
    "        \n",
    "        loss.backward() ## Derive gradients\n",
    "        optimizer.step()## update parameters based on gradients\n",
    "        \n",
    "    av_loss = torch.sum(torch.tensor(train_loss))/len(trainloader)\n",
    "    \n",
    "    accuracy = accuracy_counter(proab,y_true)\n",
    "    \n",
    "    return (av_loss,accuracy)\n",
    "        "
   ]
  },
  {
   "cell_type": "code",
   "execution_count": 584,
   "id": "2e48c7a1",
   "metadata": {},
   "outputs": [],
   "source": [
    "@torch.no_grad()\n",
    "def test(loader):\n",
    "    \n",
    "    net.eval() #### evaluation mode\n",
    "    \n",
    "    y_true = []\n",
    "    proab = []\n",
    "    val_loss = []\n",
    "    for data in loader:## Iterate in batches over training dataset\n",
    "        data.to(device)\n",
    "        out = net(data).squeeze(0) ## single forward pass\n",
    "        \n",
    "        proab.extend(out.detach().cpu().numpy().squeeze().tolist()) ## appending to list each batch\n",
    "        y_true.extend(data.y.unsqueeze(1).squeeze().tolist()) ## appending true value of each batch\n",
    "    \n",
    "        loss = criterion(out,data.y.unsqueeze(1))\n",
    "        val_loss.append(loss)\n",
    "        \n",
    "    val = torch.sum(torch.tensor(val_loss))/len(loader)\n",
    "    accuracy = accuracy_counter(proab,y_true)\n",
    "    return (val,accuracy)"
   ]
  },
  {
   "cell_type": "code",
   "execution_count": null,
   "id": "b2dadf28",
   "metadata": {},
   "outputs": [],
   "source": [
    "epochs = 100\n",
    "\n",
    "## Accuracy\n",
    "traine_accuracy = []\n",
    "vale_accuracy = []\n",
    "teste_accuracy = []\n",
    "\n",
    "## Loss\n",
    "epoch_loss = []\n",
    "valida_loss = []\n",
    "test_loss_full = []\n",
    "\n",
    "for epoch in range(1,epochs):\n",
    "    \n",
    "    train_loss1,train_accuracy1 = train()\n",
    "    \n",
    "    train_loss2,train_accuracy2 = test(trainloader)\n",
    "    \n",
    "    val_loss,val_accuracy = test(validloader)\n",
    "    \n",
    "    test_loss,test_accuracy = test(testloader)\n",
    "    \n",
    "    ##losses\n",
    "    epoch_loss.append(train_loss1)\n",
    "    valida_loss.append(val_loss)\n",
    "    test_loss_full.append(test_loss)\n",
    "    \n",
    "    ## accuracy\n",
    "    traine_accuracy.append(train_accuracy1[0])\n",
    "    vale_accuracy.append(val_accuracy[0])\n",
    "    teste_accuracy.append(test_accuracy[0])\n",
    "    \n",
    "    print(f'Epoch: {epoch:03d}, Train loss: {train_loss1:.4f}, Train accuracy: {train_accuracy1[0]:.4f}, val loss: {val_loss:.4f}, val accuracy: {val_accuracy[0]:.4f}')"
   ]
  },
  {
   "cell_type": "code",
   "execution_count": 574,
   "id": "f5480233",
   "metadata": {},
   "outputs": [
    {
     "data": {
      "image/png": "[encoded data removed]",
      "text/plain": [
       "<Figure size 432x288 with 1 Axes>"
      ]
     },
     "metadata": {
      "needs_background": "light"
     },
     "output_type": "display_data"
    }
   ],
   "source": [
    "import matplotlib.pyplot as plt\n",
    "\n",
    "plt.plot([i for i in range(1,epochs)],[i.cpu().detach().numpy() for i  in epoch_loss],label=\"Train loss\",color=\"Red\",)\n",
    "plt.plot([i for i in range(1,epochs)],[j.cpu().detach().numpy() for j in valida_loss],label=\"valid loss\",color=\"Green\")\n",
    "#plt.plot([i for i in range(1,epochs)],[i.cpu().detach().numpy() for i in test_loss],label=\"Test loss\",color=\"Blue\")\n",
    "plt.legend()\n",
    "plt.xlabel(\"Epochs\")\n",
    "plt.ylabel(\"Loss\")\n",
    "plt.show()"
   ]
  },
  {
   "cell_type": "code",
   "execution_count": 575,
   "id": "1befdb3a",
   "metadata": {},
   "outputs": [
    {
     "data": {
      "image/png": "[encoded data removed]",
      "text/plain": [
       "<Figure size 432x288 with 1 Axes>"
      ]
     },
     "metadata": {
      "needs_background": "light"
     },
     "output_type": "display_data"
    }
   ],
   "source": [
    "plt.plot([i for i in range(1,epochs)],[i  for i  in traine_accuracy],label=\"Train accuracy\",color=\"Red\",)\n",
    "plt.plot([i for i in range(1,epochs)],[j for j in vale_accuracy],label=\"valid accuracy\",color=\"Green\")\n",
    "#plt.plot([i for i in range(1,epochs)],[i.cpu().detach().numpy() for i in test_loss],label=\"Test loss\",color=\"Blue\")\n",
    "plt.legend()\n",
    "plt.xlabel(\"Epochs\")\n",
    "plt.ylabel(\"accuracy\")\n",
    "plt.show()"
   ]
  },
  {
   "cell_type": "code",
   "execution_count": 234,
   "id": "eacfd843",
   "metadata": {},
   "outputs": [
    {
     "name": "stdout",
     "output_type": "stream",
     "text": [
      "Training loss|   Mean: 0.6113587021827698   std: 0.016530267894268036\n",
      "validation loss| Mean: 0.6173926591873169  std: 0.013263992965221405\n",
      "Test loss|       Mean: 0.6082834601402283   std: 0.01942029781639576\n"
     ]
    }
   ],
   "source": [
    "print(f\"Training loss|   Mean: {torch.tensor(epoch_loss).mean()}   std: {torch.tensor(epoch_loss).std()}\")\n",
    "print(f\"validation loss| Mean: {torch.tensor(valida_loss).mean()}  std: {torch.tensor(valida_loss).std()}\")\n",
    "print(f\"Test loss|       Mean: {torch.tensor(test_loss).mean()}   std: {torch.tensor(test_loss).std()}\")"
   ]
  },
  {
   "cell_type": "code",
   "execution_count": null,
   "id": "0d76d9a6",
   "metadata": {},
   "outputs": [],
   "source": [
    "print(f\"Training accuracy  |   Mean: {torch.tensor(epoch_loss).mean()} \")\n",
    "print(f\"validation accuracy| Mean: {torch.tensor(valida_loss).mean()}  \")\n",
    "print(f\"Test loss accuracy |       Mean: {torch.tensor(test_loss).mean()} \")"
   ]
  },
  {
   "cell_type": "code",
   "execution_count": null,
   "id": "ef8483b6",
   "metadata": {},
   "outputs": [],
   "source": []
  }
 ],
 "metadata": {
  "kernelspec": {
   "display_name": "Python 3 (ipykernel)",
   "language": "python",
   "name": "python3"
  },
  "language_info": {
   "codemirror_mode": {
    "name": "ipython",
    "version": 3
   },
   "file_extension": ".py",
   "mimetype": "text/x-python",
   "name": "python",
   "nbconvert_exporter": "python",
   "pygments_lexer": "ipython3",
   "version": "3.9.7"
  }
 },
 "nbformat": 4,
 "nbformat_minor": 5
}
