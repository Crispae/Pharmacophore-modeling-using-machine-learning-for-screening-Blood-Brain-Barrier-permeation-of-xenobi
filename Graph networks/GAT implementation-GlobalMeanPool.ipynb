{
 "cells": [
  {
   "cell_type": "code",
   "execution_count": 1,
   "id": "5efe12f7",
   "metadata": {},
   "outputs": [
    {
     "name": "stderr",
     "output_type": "stream",
     "text": [
      "C:\\Users\\Y-8874903-E.ESTUDIANT\\Anaconda3\\envs\\MLenv\\lib\\site-packages\\tqdm\\auto.py:22: TqdmWarning: IProgress not found. Please update jupyter and ipywidgets. See https://ipywidgets.readthedocs.io/en/stable/user_install.html\n",
      "  from .autonotebook import tqdm as notebook_tqdm\n"
     ]
    }
   ],
   "source": [
    "import torch\n",
    "import torch.nn as nn\n",
    "from torch_geometric.nn import GATConv\n",
    "from torch_geometric.nn import global_add_pool"
   ]
  },
  {
   "cell_type": "code",
   "execution_count": 2,
   "id": "983db349",
   "metadata": {},
   "outputs": [],
   "source": [
    "import torch\n",
    "from torch_geometric.loader import DataLoader\n",
    "from torch_geometric.nn import NNConv, global_add_pool\n",
    "import torch.nn.functional as F\n",
    "from rdkit.Chem.rdmolops import GetAdjacencyMatrix\n",
    "import torch.nn as nn\n",
    "import numpy as np\n",
    "import pandas as pd\n",
    "from tqdm import tqdm\n",
    "import warnings\n",
    "import os\n",
    "warnings.filterwarnings(\"ignore\")"
   ]
  },
  {
   "cell_type": "code",
   "execution_count": 3,
   "id": "56f1de1c",
   "metadata": {},
   "outputs": [],
   "source": [
    "data_ = pd.read_csv(\"../data/FilteredData.csv\")"
   ]
  },
  {
   "cell_type": "code",
   "execution_count": 4,
   "id": "c0478bcd",
   "metadata": {},
   "outputs": [],
   "source": [
    "def SingleAtomRemover(x):\n",
    "    singleAtom = [\"[Kr]\",\"[Ne]\",\"C\",\"[Li]\",\"O\",\"[Ar]\",'[Xe]']\n",
    "    if x in singleAtom:\n",
    "        return 1\n",
    "    else: \n",
    "        return 0  "
   ]
  },
  {
   "cell_type": "code",
   "execution_count": 5,
   "id": "e485959e",
   "metadata": {},
   "outputs": [],
   "source": [
    "data = data_[[\"Structure\",\"BBB+/BBB-\"]]"
   ]
  },
  {
   "cell_type": "code",
   "execution_count": 6,
   "id": "da97b49f",
   "metadata": {},
   "outputs": [],
   "source": [
    "data.replace({\"BBB+\":1,\"BBB-\":0},inplace=True)"
   ]
  },
  {
   "cell_type": "code",
   "execution_count": 7,
   "id": "28772ff0",
   "metadata": {},
   "outputs": [],
   "source": [
    "data.rename(columns={\"Structure\":\"SMILES\",\"BBB+/BBB-\":\"LABELS\"},inplace=True)"
   ]
  },
  {
   "cell_type": "code",
   "execution_count": 8,
   "id": "c4c621ea",
   "metadata": {},
   "outputs": [],
   "source": [
    "data[\"Isit\"] = data[\"SMILES\"].apply(SingleAtomRemover)"
   ]
  },
  {
   "cell_type": "code",
   "execution_count": 9,
   "id": "658f3bfb",
   "metadata": {},
   "outputs": [],
   "source": [
    "### Remove single element\n",
    "data.drop(data[data[\"Isit\"] == 1].index,inplace=True)"
   ]
  },
  {
   "cell_type": "code",
   "execution_count": 10,
   "id": "0bbee8b9",
   "metadata": {},
   "outputs": [],
   "source": [
    "data.to_csv(r\"raw/data.csv\")"
   ]
  },
  {
   "cell_type": "code",
   "execution_count": 11,
   "id": "4b468457",
   "metadata": {},
   "outputs": [],
   "source": [
    "from torch_geometric.data import InMemoryDataset, download_url, Dataset, Data\n",
    "from dgllife.utils import (CanonicalAtomFeaturizer,\n",
    "                           one_hot_encoding,\n",
    "                           atom_implicit_valence_one_hot,\n",
    "                           atom_total_degree_one_hot,\n",
    "                           atomic_number_one_hot,\n",
    "                           atom_hybridization_one_hot,\n",
    "                           atom_is_in_ring_one_hot,\n",
    "                           atom_is_aromatic_one_hot\n",
    "                          )\n",
    "from rdkit import Chem\n",
    "\n",
    "class BBBDataset(Dataset): ### All dataset will store in RAM\n",
    "    \n",
    "    def __init__(self,root,transform = None, pre_transform=None,pre_filter=None,one_hot=False):\n",
    "        \n",
    "        \"\"\"\n",
    "        root: where the dataset shoul be stored. The folder will split into raw_dir (downloaded dataset)\n",
    "        and processed_dir (processed data).\n",
    "\n",
    "        \"\"\"\n",
    "        self.one_hot = one_hot\n",
    "        super().__init__(root, transform, pre_transform, pre_filter)\n",
    "        \n",
    "    \n",
    "    @property\n",
    "    def raw_file_names(self):\n",
    "        \n",
    "        \"\"\"\n",
    "        If this file exists in raw_dir, the download is not triggered\n",
    "        \"\"\"\n",
    "        return \"data.csv\"\n",
    "        \n",
    "    def download(self):\n",
    "        pass\n",
    "    \n",
    "    @property\n",
    "    def processed_file_names(self):\n",
    "        return ['data.pt']\n",
    "    \n",
    "    \n",
    "    def process(self):\n",
    "        \n",
    "        self.data = pd.read_csv(self.raw_paths[0])\n",
    "        dataArray = self.data[[\"SMILES\",\"LABELS\"]].to_numpy().squeeze()\n",
    "        \n",
    "        j = 0\n",
    "        for i in tqdm(dataArray):\n",
    "            processed_data = self.smiles2graph(*i,one_hot=self.one_hot)\n",
    "            \n",
    "            nodes_feats = processed_data[\"X\"]\n",
    "            label = processed_data[\"Y\"]\n",
    "            edge_feats = processed_data[\"E\"]\n",
    "            adj_mat = processed_data[\"A\"]\n",
    "            smiles = processed_data[\"SMILES\"]\n",
    "            \n",
    "            \n",
    "            ### create data object\n",
    "            data = Data(x=nodes_feats,edge_index=adj_mat,edge_attr=edge_feats,y=label,smiles=smiles)\n",
    "            \n",
    "            torch.save(data,os.path.join(self.processed_dir,f\"data_{j}.pt\"))\n",
    "            j+=1\n",
    "            \n",
    "    def smiles2graph(self, smiles,label,one_hot=False):\n",
    "        try:\n",
    "            mol = Chem.MolFromSmiles(smiles)\n",
    "        except:\n",
    "            raise(\"Smiles not parsed by rdkit\")\n",
    "\n",
    "        adj_matrix = GetAdjacencyMatrix(mol) ### Adjacency matrix\n",
    "        row,col = np.where(adj_matrix)\n",
    "        coo = np.array(list(zip(row,col)))\n",
    "        coo = np.reshape(coo,(2,-1))\n",
    "        \n",
    "        if one_hot:\n",
    "            valence =[]\n",
    "            degree = []\n",
    "            atoms =  []\n",
    "            hybrid = []\n",
    "            mass =   []\n",
    "            aromatic = []\n",
    "            for idx,atom in enumerate(mol.GetAtoms()):\n",
    "                valence.append(atom_implicit_valence_one_hot(atom))## Implicit valence\n",
    "                degree.append(atom_total_degree_one_hot(atom))## total degree\n",
    "                atoms.append(atomic_number_one_hot(atom))## total degree\n",
    "                hybrid.append(atom_hybridization_one_hot(atom))## total degree\n",
    "                aromatic.append(atom_is_aromatic_one_hot(atom)) ## aromatic\n",
    "                mass.append([atom.GetMass()])## total degree\n",
    "                \n",
    "            features  = torch.cat([torch.tensor(valence),\n",
    "                                  torch.tensor(degree),\n",
    "                                  torch.tensor(atoms),\n",
    "                                  torch.tensor(hybrid),\n",
    "                                  torch.tensor(aromatic),],\n",
    "                                  axis=1)\n",
    "            ##torch.tensor(mass)],\n",
    "            \n",
    "        else:\n",
    "            \n",
    "            features = np.zeros((mol.GetNumAtoms(),5),) ### Feature Matrix\n",
    "            for idx,atom in enumerate(mol.GetAtoms()):\n",
    "                features[idx,0] = atom.GetAtomicNum()\n",
    "                features[idx,1] = atom.GetDegree()\n",
    "                #feature_array[idx,2] = atom.GetFormalCharge()\n",
    "                features[idx,2] = atom.GetHybridization()\n",
    "                features[idx,3] = atom.GetExplicitValence()\n",
    "                features[idx,4] = atom.GetMass()\n",
    "           \n",
    "        label_array = torch.tensor([0]) if label == 0 else torch.tensor([1])\n",
    "        \n",
    "#         if label == 0:\n",
    "#             label_array = torch.tensor([0])\n",
    "#         else:\n",
    "#             label_array = torch.tensor([1])\n",
    "\n",
    "        all_edge_feats = []\n",
    "        for bond in mol.GetBonds():\n",
    "            Edge_feature = []\n",
    "            # Feature 1: Bond type (as double)\n",
    "            Edge_feature.append(bond.GetBondTypeAsDouble())\n",
    "            # Feature 2: Rings\n",
    "            Edge_feature.append(bond.IsInRing())\n",
    "            # Append edget features to matrix (twice, per direction)\n",
    "            all_edge_feats += [Edge_feature, Edge_feature]\n",
    "\n",
    "        all_edge_feats = np.asarray(all_edge_feats)\n",
    "\n",
    "        return {\"A\": torch.tensor(coo,dtype=torch.long),\n",
    "               \"X\": torch.tensor(features,dtype=torch.float32),\n",
    "               \"Y\":torch.tensor(label_array,dtype=torch.float32),\n",
    "                \"E\":torch.tensor(all_edge_feats,dtype=torch.float32),\n",
    "                \"SMILES\":smiles}\n",
    "    \n",
    "    def len (self):\n",
    "        return self.data.shape[0]\n",
    "    \n",
    "    def get(self,idx):\n",
    "        data = torch.load(os.path.join(self.processed_dir,f'data_{idx}.pt'))\n",
    "        return data\n"
   ]
  },
  {
   "cell_type": "code",
   "execution_count": 12,
   "id": "0d6e7277",
   "metadata": {},
   "outputs": [
    {
     "name": "stderr",
     "output_type": "stream",
     "text": [
      "Processing...\n",
      "100%|█████████████████████████████████████████████████████████████████████████████| 3330/3330 [00:07<00:00, 463.20it/s]\n",
      "Done!\n"
     ]
    }
   ],
   "source": [
    "dataset = BBBDataset(root=\".\",one_hot=True)"
   ]
  },
  {
   "cell_type": "code",
   "execution_count": 13,
   "id": "7d035bb2",
   "metadata": {},
   "outputs": [],
   "source": [
    "from dgl.nn import WeightAndSum\n",
    "from torch_geometric.nn import GlobalAttention\n",
    "from torch_geometric.nn import global_add_pool\n",
    "from torch.nn import Sequential"
   ]
  },
  {
   "cell_type": "code",
   "execution_count": 21,
   "id": "6f18e309",
   "metadata": {},
   "outputs": [],
   "source": [
    "from torch_geometric.nn import global_mean_pool\n",
    "\n",
    "\n",
    "class PyGAT(nn.Module):\n",
    "    \n",
    "    def __init__(self,):\n",
    "        \n",
    "        super().__init__()\n",
    "        \n",
    "        \"\"\"\n",
    "        First GAT layer with 3 attention head for each node\n",
    "        \"\"\"\n",
    "        self.GAT_Conv1 = GATConv(in_channels= -1, \n",
    "                                 out_channels= 8,\n",
    "                                 heads = 3,\n",
    "                                 concat=True)\n",
    "        \n",
    "        self.GAT_Conv2 = GATConv(in_channels= 24, \n",
    "                                 out_channels= 16,\n",
    "                                 heads = 1,)\n",
    "        \n",
    "        self.GateNN = Sequential(nn.Linear(in_features=(16),out_features=1),)\n",
    "        \n",
    "        self.fC_layer = nn.Linear(16,8)\n",
    "        \n",
    "        self.GlobalAtt = GlobalAttention(self.GateNN,)\n",
    "        \n",
    "        self.fc_1 = nn.Linear(16,1)\n",
    "                 \n",
    "    def forward(self,data):\n",
    "        \n",
    "        ### Extracting data from batch\n",
    "        batch, x, edge_index, edge_attr = (data.batch, data.x, data.edge_index, data.edge_attr)\n",
    "        \n",
    "        x = F.dropout(x, p=0.5, training=self.training)\n",
    "        \n",
    "        x = self.GAT_Conv1(x=x,edge_index=edge_index)\n",
    "        \n",
    "        x = F.elu(x)\n",
    "        \n",
    "         ##x = F.dropout(x, p=0.5, training=self.training) \n",
    "        \n",
    "        x = self.GAT_Conv2(x,edge_index)\n",
    "        \n",
    "        x = global_mean_pool(x,batch) ## Changed\n",
    "        \n",
    "        #x = self.GlobalAtt(x,batch)\n",
    "        \n",
    "        x = F.sigmoid(self.fc_1(x))\n",
    "        \n",
    "        return x\n",
    "        \n",
    "        \n",
    "        "
   ]
  },
  {
   "cell_type": "code",
   "execution_count": 22,
   "id": "ae3b73eb",
   "metadata": {},
   "outputs": [],
   "source": [
    "smallData = dataset[:500:]"
   ]
  },
  {
   "cell_type": "code",
   "execution_count": 23,
   "id": "bed2b1d9",
   "metadata": {},
   "outputs": [
    {
     "data": {
      "text/plain": [
       "BBBDataset(500)"
      ]
     },
     "execution_count": 23,
     "metadata": {},
     "output_type": "execute_result"
    }
   ],
   "source": [
    "smallData"
   ]
  },
  {
   "cell_type": "code",
   "execution_count": 24,
   "id": "fc775efb",
   "metadata": {},
   "outputs": [],
   "source": [
    "### Splitting of data\n",
    "from torch.utils.data import random_split\n",
    "\n",
    "train_set, valid_set, test_set = random_split(dataset,[2331,666,333])\n",
    "\n",
    "trainloader = DataLoader(train_set,shuffle=True,batch_size=256,)\n",
    "\n",
    "validloader = DataLoader(valid_set, shuffle=True,batch_size=256,)\n",
    "\n",
    "testloader = DataLoader(test_set, shuffle=True,batch_size=256,)"
   ]
  },
  {
   "cell_type": "code",
   "execution_count": 25,
   "id": "6f3ad092",
   "metadata": {},
   "outputs": [
    {
     "data": {
      "text/plain": [
       "PyGAT(\n",
       "  (GAT_Conv1): GATConv(-1, 8, heads=3)\n",
       "  (GAT_Conv2): GATConv(24, 16, heads=1)\n",
       "  (GateNN): Sequential(\n",
       "    (0): Linear(in_features=16, out_features=1, bias=True)\n",
       "  )\n",
       "  (fC_layer): Linear(in_features=16, out_features=8, bias=True)\n",
       "  (GlobalAtt): GlobalAttention(gate_nn=Sequential(\n",
       "    (0): Linear(in_features=16, out_features=1, bias=True)\n",
       "  ), nn=None)\n",
       "  (fc_1): Linear(in_features=16, out_features=1, bias=True)\n",
       ")"
      ]
     },
     "execution_count": 25,
     "metadata": {},
     "output_type": "execute_result"
    }
   ],
   "source": [
    "from torch.nn import BCEWithLogitsLoss, BCELoss,CrossEntropyLoss, Softmax\n",
    "\n",
    "## Intilaize Network\n",
    "net = PyGAT()\n",
    "\n",
    "### initialize an optimizer with someparameters\n",
    "optimizer = torch.optim.Adam(net.parameters(), lr=0.001,weight_decay=0.00001)\n",
    "\n",
    "### Defining loss\n",
    "criterion = BCELoss()\n",
    "\n",
    "### criterion\n",
    "criterion.cuda()\n",
    "\n",
    "## shifting to GPU\n",
    "device = \"cuda\" if torch.cuda.is_available() else \"cpu\"\n",
    "net.to(device)"
   ]
  },
  {
   "cell_type": "code",
   "execution_count": 26,
   "id": "445ecc7a",
   "metadata": {},
   "outputs": [],
   "source": [
    "from sklearn.metrics import accuracy_score"
   ]
  },
  {
   "cell_type": "code",
   "execution_count": 27,
   "id": "b3913b27",
   "metadata": {},
   "outputs": [],
   "source": [
    "def accuracy_counter(y_prob,y_true):\n",
    "    \n",
    "    y_prob = np.array(y_prob)\n",
    "    y_prob = np.where(y_prob <= 0.5, 0, y_prob)\n",
    "    y_prob = np.where(y_prob > 0.5, 1, y_prob)\n",
    "    accuracy = accuracy_score(np.array(y_true),y_prob)\n",
    "    \n",
    "    return (accuracy,)"
   ]
  },
  {
   "cell_type": "code",
   "execution_count": 28,
   "id": "cfe4d69c",
   "metadata": {},
   "outputs": [],
   "source": [
    "def train():\n",
    "    \n",
    "    net.train() ### training mode\n",
    "    \n",
    "    y_true = []\n",
    "    proab = []\n",
    "    train_loss = []\n",
    "    for data in trainloader:## Iterate in batches over training dataset\n",
    "        data.to(device)\n",
    "        \n",
    "        optimizer.zero_grad() ## clear gradients\n",
    "        out = net(data).squeeze(0) ## single forward pass\n",
    "        \n",
    "        proab.extend(out.detach().cpu().numpy().squeeze().tolist()) ## appending to list each batch\n",
    "        y_true.extend(data.y.unsqueeze(1).squeeze().tolist()) ## appending true value of each batch\n",
    "        \n",
    "        loss = criterion(out,data.y.unsqueeze(1)) ## compute the loss\n",
    "        \n",
    "        train_loss.append(loss)\n",
    "        \n",
    "        loss.backward() ## Derive gradients\n",
    "        optimizer.step()## update parameters based on gradients\n",
    "        \n",
    "    av_loss = torch.sum(torch.tensor(train_loss))/len(trainloader)\n",
    "    \n",
    "    accuracy = accuracy_counter(proab,y_true)\n",
    "    \n",
    "    return (av_loss,accuracy)\n",
    "        "
   ]
  },
  {
   "cell_type": "code",
   "execution_count": 29,
   "id": "2e48c7a1",
   "metadata": {},
   "outputs": [],
   "source": [
    "@torch.no_grad()\n",
    "def test(loader):\n",
    "    \n",
    "    net.eval() #### evaluation mode\n",
    "    \n",
    "    y_true = []\n",
    "    proab = []\n",
    "    val_loss = []\n",
    "    for data in loader:## Iterate in batches over training dataset\n",
    "        data.to(device)\n",
    "        out = net(data).squeeze(0) ## single forward pass\n",
    "        \n",
    "        proab.extend(out.detach().cpu().numpy().squeeze().tolist()) ## appending to list each batch\n",
    "        y_true.extend(data.y.unsqueeze(1).squeeze().tolist()) ## appending true value of each batch\n",
    "    \n",
    "        loss = criterion(out,data.y.unsqueeze(1))\n",
    "        val_loss.append(loss)\n",
    "        \n",
    "    val = torch.sum(torch.tensor(val_loss))/len(loader)\n",
    "    accuracy = accuracy_counter(proab,y_true)\n",
    "    return (val,accuracy)"
   ]
  },
  {
   "cell_type": "code",
   "execution_count": 30,
   "id": "b2dadf28",
   "metadata": {},
   "outputs": [
    {
     "name": "stdout",
     "output_type": "stream",
     "text": [
      "Epoch: 001, Train loss: 0.6720, Train accuracy: 0.5993, val loss: 0.6599, val accuracy: 0.6231\n",
      "Epoch: 002, Train loss: 0.6751, Train accuracy: 0.5993, val loss: 0.6557, val accuracy: 0.6231\n",
      "Epoch: 003, Train loss: 0.6675, Train accuracy: 0.5993, val loss: 0.6563, val accuracy: 0.6231\n",
      "Epoch: 004, Train loss: 0.6685, Train accuracy: 0.5993, val loss: 0.6577, val accuracy: 0.6231\n",
      "Epoch: 005, Train loss: 0.6605, Train accuracy: 0.5980, val loss: 0.6577, val accuracy: 0.6231\n",
      "Epoch: 006, Train loss: 0.6596, Train accuracy: 0.5980, val loss: 0.6537, val accuracy: 0.6216\n",
      "Epoch: 007, Train loss: 0.6597, Train accuracy: 0.5985, val loss: 0.6508, val accuracy: 0.6216\n",
      "Epoch: 008, Train loss: 0.6558, Train accuracy: 0.5997, val loss: 0.6532, val accuracy: 0.6216\n",
      "Epoch: 009, Train loss: 0.6543, Train accuracy: 0.6023, val loss: 0.6499, val accuracy: 0.6261\n",
      "Epoch: 010, Train loss: 0.6592, Train accuracy: 0.6066, val loss: 0.6469, val accuracy: 0.6336\n",
      "Epoch: 011, Train loss: 0.6537, Train accuracy: 0.6053, val loss: 0.6445, val accuracy: 0.6336\n",
      "Epoch: 012, Train loss: 0.6423, Train accuracy: 0.6263, val loss: 0.6477, val accuracy: 0.6396\n",
      "Epoch: 013, Train loss: 0.6530, Train accuracy: 0.6212, val loss: 0.6436, val accuracy: 0.6336\n",
      "Epoch: 014, Train loss: 0.6503, Train accuracy: 0.6221, val loss: 0.6371, val accuracy: 0.6381\n",
      "Epoch: 015, Train loss: 0.6454, Train accuracy: 0.6349, val loss: 0.6383, val accuracy: 0.6396\n",
      "Epoch: 016, Train loss: 0.6471, Train accuracy: 0.6311, val loss: 0.6362, val accuracy: 0.6381\n",
      "Epoch: 017, Train loss: 0.6435, Train accuracy: 0.6298, val loss: 0.6387, val accuracy: 0.6381\n",
      "Epoch: 018, Train loss: 0.6462, Train accuracy: 0.6221, val loss: 0.6383, val accuracy: 0.6366\n",
      "Epoch: 019, Train loss: 0.6488, Train accuracy: 0.6251, val loss: 0.6384, val accuracy: 0.6381\n",
      "Epoch: 020, Train loss: 0.6464, Train accuracy: 0.6418, val loss: 0.6355, val accuracy: 0.6456\n",
      "Epoch: 021, Train loss: 0.6418, Train accuracy: 0.6366, val loss: 0.6379, val accuracy: 0.6441\n",
      "Epoch: 022, Train loss: 0.6397, Train accuracy: 0.6392, val loss: 0.6383, val accuracy: 0.6532\n",
      "Epoch: 023, Train loss: 0.6519, Train accuracy: 0.6375, val loss: 0.6398, val accuracy: 0.6532\n",
      "Epoch: 024, Train loss: 0.6357, Train accuracy: 0.6353, val loss: 0.6368, val accuracy: 0.6441\n",
      "Epoch: 025, Train loss: 0.6360, Train accuracy: 0.6426, val loss: 0.6339, val accuracy: 0.6396\n",
      "Epoch: 026, Train loss: 0.6396, Train accuracy: 0.6328, val loss: 0.6379, val accuracy: 0.6517\n",
      "Epoch: 027, Train loss: 0.6507, Train accuracy: 0.6315, val loss: 0.6283, val accuracy: 0.6486\n",
      "Epoch: 028, Train loss: 0.6496, Train accuracy: 0.6392, val loss: 0.6349, val accuracy: 0.6441\n",
      "Epoch: 029, Train loss: 0.6457, Train accuracy: 0.6323, val loss: 0.6366, val accuracy: 0.6532\n",
      "Epoch: 030, Train loss: 0.6392, Train accuracy: 0.6328, val loss: 0.6378, val accuracy: 0.6471\n",
      "Epoch: 031, Train loss: 0.6440, Train accuracy: 0.6358, val loss: 0.6390, val accuracy: 0.6532\n",
      "Epoch: 032, Train loss: 0.6427, Train accuracy: 0.6263, val loss: 0.6318, val accuracy: 0.6441\n",
      "Epoch: 033, Train loss: 0.6471, Train accuracy: 0.6186, val loss: 0.6350, val accuracy: 0.6441\n",
      "Epoch: 034, Train loss: 0.6482, Train accuracy: 0.6388, val loss: 0.6317, val accuracy: 0.6456\n",
      "Epoch: 035, Train loss: 0.6349, Train accuracy: 0.6349, val loss: 0.6350, val accuracy: 0.6502\n",
      "Epoch: 036, Train loss: 0.6443, Train accuracy: 0.6285, val loss: 0.6352, val accuracy: 0.6411\n",
      "Epoch: 037, Train loss: 0.6565, Train accuracy: 0.6362, val loss: 0.6323, val accuracy: 0.6471\n",
      "Epoch: 038, Train loss: 0.6473, Train accuracy: 0.6405, val loss: 0.6314, val accuracy: 0.6532\n",
      "Epoch: 039, Train loss: 0.6482, Train accuracy: 0.6353, val loss: 0.6340, val accuracy: 0.6517\n",
      "Epoch: 040, Train loss: 0.6465, Train accuracy: 0.6405, val loss: 0.6330, val accuracy: 0.6517\n",
      "Epoch: 041, Train loss: 0.6451, Train accuracy: 0.6229, val loss: 0.6327, val accuracy: 0.6441\n",
      "Epoch: 042, Train loss: 0.6434, Train accuracy: 0.6276, val loss: 0.6326, val accuracy: 0.6456\n",
      "Epoch: 043, Train loss: 0.6410, Train accuracy: 0.6315, val loss: 0.6302, val accuracy: 0.6486\n",
      "Epoch: 044, Train loss: 0.6388, Train accuracy: 0.6414, val loss: 0.6292, val accuracy: 0.6547\n",
      "Epoch: 045, Train loss: 0.6499, Train accuracy: 0.6302, val loss: 0.6288, val accuracy: 0.6486\n",
      "Epoch: 046, Train loss: 0.6429, Train accuracy: 0.6332, val loss: 0.6347, val accuracy: 0.6562\n",
      "Epoch: 047, Train loss: 0.6431, Train accuracy: 0.6178, val loss: 0.6312, val accuracy: 0.6532\n",
      "Epoch: 048, Train loss: 0.6360, Train accuracy: 0.6439, val loss: 0.6261, val accuracy: 0.6547\n",
      "Epoch: 049, Train loss: 0.6269, Train accuracy: 0.6302, val loss: 0.6296, val accuracy: 0.6486\n",
      "Epoch: 050, Train loss: 0.6467, Train accuracy: 0.6405, val loss: 0.6276, val accuracy: 0.6486\n",
      "Epoch: 051, Train loss: 0.6398, Train accuracy: 0.6341, val loss: 0.6254, val accuracy: 0.6562\n",
      "Epoch: 052, Train loss: 0.6319, Train accuracy: 0.6396, val loss: 0.6310, val accuracy: 0.6517\n",
      "Epoch: 053, Train loss: 0.6468, Train accuracy: 0.6293, val loss: 0.6246, val accuracy: 0.6562\n",
      "Epoch: 054, Train loss: 0.6490, Train accuracy: 0.6448, val loss: 0.6323, val accuracy: 0.6517\n",
      "Epoch: 055, Train loss: 0.6344, Train accuracy: 0.6384, val loss: 0.6279, val accuracy: 0.6486\n",
      "Epoch: 056, Train loss: 0.6472, Train accuracy: 0.6345, val loss: 0.6282, val accuracy: 0.6547\n",
      "Epoch: 057, Train loss: 0.6439, Train accuracy: 0.6242, val loss: 0.6304, val accuracy: 0.6562\n",
      "Epoch: 058, Train loss: 0.6402, Train accuracy: 0.6384, val loss: 0.6328, val accuracy: 0.6517\n",
      "Epoch: 059, Train loss: 0.6348, Train accuracy: 0.6328, val loss: 0.6249, val accuracy: 0.6592\n",
      "Epoch: 060, Train loss: 0.6442, Train accuracy: 0.6341, val loss: 0.6245, val accuracy: 0.6577\n",
      "Epoch: 061, Train loss: 0.6359, Train accuracy: 0.6461, val loss: 0.6244, val accuracy: 0.6562\n",
      "Epoch: 062, Train loss: 0.6454, Train accuracy: 0.6302, val loss: 0.6252, val accuracy: 0.6577\n",
      "Epoch: 063, Train loss: 0.6299, Train accuracy: 0.6388, val loss: 0.6259, val accuracy: 0.6637\n",
      "Epoch: 064, Train loss: 0.6357, Train accuracy: 0.6401, val loss: 0.6275, val accuracy: 0.6517\n",
      "Epoch: 065, Train loss: 0.6332, Train accuracy: 0.6375, val loss: 0.6233, val accuracy: 0.6577\n",
      "Epoch: 066, Train loss: 0.6372, Train accuracy: 0.6345, val loss: 0.6210, val accuracy: 0.6577\n",
      "Epoch: 067, Train loss: 0.6377, Train accuracy: 0.6336, val loss: 0.6228, val accuracy: 0.6547\n",
      "Epoch: 068, Train loss: 0.6332, Train accuracy: 0.6336, val loss: 0.6274, val accuracy: 0.6532\n",
      "Epoch: 069, Train loss: 0.6390, Train accuracy: 0.6384, val loss: 0.6228, val accuracy: 0.6517\n",
      "Epoch: 070, Train loss: 0.6454, Train accuracy: 0.6452, val loss: 0.6208, val accuracy: 0.6532\n",
      "Epoch: 071, Train loss: 0.6378, Train accuracy: 0.6461, val loss: 0.6245, val accuracy: 0.6547\n",
      "Epoch: 072, Train loss: 0.6416, Train accuracy: 0.6289, val loss: 0.6288, val accuracy: 0.6577\n",
      "Epoch: 073, Train loss: 0.6316, Train accuracy: 0.6384, val loss: 0.6234, val accuracy: 0.6547\n",
      "Epoch: 074, Train loss: 0.6385, Train accuracy: 0.6474, val loss: 0.6212, val accuracy: 0.6652\n",
      "Epoch: 075, Train loss: 0.6254, Train accuracy: 0.6461, val loss: 0.6156, val accuracy: 0.6682\n",
      "Epoch: 076, Train loss: 0.6387, Train accuracy: 0.6444, val loss: 0.6216, val accuracy: 0.6622\n",
      "Epoch: 077, Train loss: 0.6332, Train accuracy: 0.6418, val loss: 0.6215, val accuracy: 0.6562\n",
      "Epoch: 078, Train loss: 0.6365, Train accuracy: 0.6392, val loss: 0.6188, val accuracy: 0.6577\n",
      "Epoch: 079, Train loss: 0.6390, Train accuracy: 0.6396, val loss: 0.6193, val accuracy: 0.6592\n",
      "Epoch: 080, Train loss: 0.6261, Train accuracy: 0.6401, val loss: 0.6191, val accuracy: 0.6667\n",
      "Epoch: 081, Train loss: 0.6391, Train accuracy: 0.6362, val loss: 0.6226, val accuracy: 0.6607\n",
      "Epoch: 082, Train loss: 0.6382, Train accuracy: 0.6409, val loss: 0.6280, val accuracy: 0.6532\n",
      "Epoch: 083, Train loss: 0.6487, Train accuracy: 0.6499, val loss: 0.6243, val accuracy: 0.6532\n",
      "Epoch: 084, Train loss: 0.6394, Train accuracy: 0.6396, val loss: 0.6225, val accuracy: 0.6667\n",
      "Epoch: 085, Train loss: 0.6341, Train accuracy: 0.6465, val loss: 0.6192, val accuracy: 0.6697\n",
      "Epoch: 086, Train loss: 0.6333, Train accuracy: 0.6607, val loss: 0.6265, val accuracy: 0.6562\n",
      "Epoch: 087, Train loss: 0.6321, Train accuracy: 0.6409, val loss: 0.6259, val accuracy: 0.6682\n"
     ]
    },
    {
     "name": "stdout",
     "output_type": "stream",
     "text": [
      "Epoch: 088, Train loss: 0.6314, Train accuracy: 0.6375, val loss: 0.6201, val accuracy: 0.6577\n",
      "Epoch: 089, Train loss: 0.6201, Train accuracy: 0.6452, val loss: 0.6197, val accuracy: 0.6562\n",
      "Epoch: 090, Train loss: 0.6357, Train accuracy: 0.6384, val loss: 0.6198, val accuracy: 0.6592\n",
      "Epoch: 091, Train loss: 0.6383, Train accuracy: 0.6414, val loss: 0.6219, val accuracy: 0.6577\n",
      "Epoch: 092, Train loss: 0.6369, Train accuracy: 0.6456, val loss: 0.6212, val accuracy: 0.6592\n",
      "Epoch: 093, Train loss: 0.6349, Train accuracy: 0.6293, val loss: 0.6213, val accuracy: 0.6592\n",
      "Epoch: 094, Train loss: 0.6261, Train accuracy: 0.6392, val loss: 0.6224, val accuracy: 0.6637\n",
      "Epoch: 095, Train loss: 0.6495, Train accuracy: 0.6439, val loss: 0.6200, val accuracy: 0.6592\n",
      "Epoch: 096, Train loss: 0.6309, Train accuracy: 0.6375, val loss: 0.6197, val accuracy: 0.6607\n",
      "Epoch: 097, Train loss: 0.6291, Train accuracy: 0.6547, val loss: 0.6165, val accuracy: 0.6637\n",
      "Epoch: 098, Train loss: 0.6366, Train accuracy: 0.6375, val loss: 0.6141, val accuracy: 0.6667\n",
      "Epoch: 099, Train loss: 0.6295, Train accuracy: 0.6422, val loss: 0.6200, val accuracy: 0.6682\n"
     ]
    }
   ],
   "source": [
    "epochs = 100\n",
    "\n",
    "## Accuracy\n",
    "traine_accuracy = []\n",
    "vale_accuracy = []\n",
    "teste_accuracy = []\n",
    "\n",
    "## Loss\n",
    "epoch_loss = []\n",
    "valida_loss = []\n",
    "test_loss_full = []\n",
    "\n",
    "for epoch in range(1,epochs):\n",
    "    \n",
    "    train_loss1,train_accuracy1 = train()\n",
    "    \n",
    "    train_loss2,train_accuracy2 = test(trainloader)\n",
    "    \n",
    "    val_loss,val_accuracy = test(validloader)\n",
    "    \n",
    "    test_loss,test_accuracy = test(testloader)\n",
    "    \n",
    "    ##losses\n",
    "    epoch_loss.append(train_loss1)\n",
    "    valida_loss.append(val_loss)\n",
    "    test_loss_full.append(test_loss)\n",
    "    \n",
    "    ## accuracy\n",
    "    traine_accuracy.append(train_accuracy1[0])\n",
    "    vale_accuracy.append(val_accuracy[0])\n",
    "    teste_accuracy.append(test_accuracy[0])\n",
    "    \n",
    "    print(f'Epoch: {epoch:03d}, Train loss: {train_loss1:.4f}, Train accuracy: {train_accuracy1[0]:.4f}, val loss: {val_loss:.4f}, val accuracy: {val_accuracy[0]:.4f}')"
   ]
  },
  {
   "cell_type": "code",
   "execution_count": 31,
   "id": "f5480233",
   "metadata": {},
   "outputs": [
    {
     "data": {
      "image/png": "[encoded data removed]",
      "text/plain": [
       "<Figure size 432x288 with 1 Axes>"
      ]
     },
     "metadata": {
      "needs_background": "light"
     },
     "output_type": "display_data"
    }
   ],
   "source": [
    "import matplotlib.pyplot as plt\n",
    "\n",
    "plt.plot([i for i in range(1,epochs)],[i.cpu().detach().numpy() for i  in epoch_loss],label=\"Train loss\",color=\"Red\",)\n",
    "plt.plot([i for i in range(1,epochs)],[j.cpu().detach().numpy() for j in valida_loss],label=\"valid loss\",color=\"Green\")\n",
    "#plt.plot([i for i in range(1,epochs)],[i.cpu().detach().numpy() for i in test_loss],label=\"Test loss\",color=\"Blue\")\n",
    "plt.legend()\n",
    "plt.xlabel(\"Epochs\")\n",
    "plt.ylabel(\"Loss\")\n",
    "plt.show()"
   ]
  },
  {
   "cell_type": "code",
   "execution_count": 32,
   "id": "1befdb3a",
   "metadata": {},
   "outputs": [
    {
     "data": {
      "image/png": "[encoded data removed]",
      "text/plain": [
       "<Figure size 432x288 with 1 Axes>"
      ]
     },
     "metadata": {
      "needs_background": "light"
     },
     "output_type": "display_data"
    }
   ],
   "source": [
    "plt.plot([i for i in range(1,epochs)],[i  for i  in traine_accuracy],label=\"Train accuracy\",color=\"Red\",)\n",
    "plt.plot([i for i in range(1,epochs)],[j for j in vale_accuracy],label=\"valid accuracy\",color=\"Green\")\n",
    "#plt.plot([i for i in range(1,epochs)],[i.cpu().detach().numpy() for i in test_loss],label=\"Test loss\",color=\"Blue\")\n",
    "plt.legend()\n",
    "plt.xlabel(\"Epochs\")\n",
    "plt.ylabel(\"accuracy\")\n",
    "plt.show()"
   ]
  },
  {
   "cell_type": "code",
   "execution_count": 33,
   "id": "eacfd843",
   "metadata": {},
   "outputs": [
    {
     "name": "stdout",
     "output_type": "stream",
     "text": [
      "Training loss|   Mean: 0.6425186991691589   std: 0.010051487945020199\n",
      "validation loss| Mean: 0.6311704516410828  std: 0.010455223731696606\n",
      "Test loss|       Mean: 0.6342248916625977   std: nan\n"
     ]
    }
   ],
   "source": [
    "print(f\"Training loss|   Mean: {torch.tensor(epoch_loss).mean()}   std: {torch.tensor(epoch_loss).std()}\")\n",
    "print(f\"validation loss| Mean: {torch.tensor(valida_loss).mean()}  std: {torch.tensor(valida_loss).std()}\")\n",
    "print(f\"Test loss|       Mean: {torch.tensor(test_loss).mean()}   std: {torch.tensor(test_loss).std()}\")"
   ]
  },
  {
   "cell_type": "code",
   "execution_count": null,
   "id": "0d76d9a6",
   "metadata": {},
   "outputs": [],
   "source": [
    "print(f\"Training accuracy  |   Mean: {torch.tensor(epoch_loss).mean()} \")\n",
    "print(f\"validation accuracy| Mean: {torch.tensor(valida_loss).mean()}  \")\n",
    "print(f\"Test loss accuracy |       Mean: {torch.tensor(test_loss).mean()} \")"
   ]
  },
  {
   "cell_type": "code",
   "execution_count": null,
   "id": "ef8483b6",
   "metadata": {},
   "outputs": [],
   "source": []
  }
 ],
 "metadata": {
  "kernelspec": {
   "display_name": "Python 3 (ipykernel)",
   "language": "python",
   "name": "python3"
  },
  "language_info": {
   "codemirror_mode": {
    "name": "ipython",
    "version": 3
   },
   "file_extension": ".py",
   "mimetype": "text/x-python",
   "name": "python",
   "nbconvert_exporter": "python",
   "pygments_lexer": "ipython3",
   "version": "3.9.7"
  }
 },
 "nbformat": 4,
 "nbformat_minor": 5
}
