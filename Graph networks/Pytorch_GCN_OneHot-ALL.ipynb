{
 "cells": [
  {
   "cell_type": "code",
   "execution_count": 132,
   "id": "754f6ce3",
   "metadata": {},
   "outputs": [],
   "source": [
    "import torch\n",
    "from torch_geometric.loader import DataLoader\n",
    "from torch_geometric.nn import NNConv, global_add_pool\n",
    "import torch.nn.functional as F\n",
    "from rdkit.Chem.rdmolops import GetAdjacencyMatrix\n",
    "import torch.nn as nn\n",
    "import numpy as np\n",
    "import pandas as pd\n",
    "from tqdm import tqdm\n",
    "import warnings\n",
    "import os\n",
    "warnings.filterwarnings(\"ignore\")"
   ]
  },
  {
   "cell_type": "markdown",
   "id": "44a34335",
   "metadata": {},
   "source": [
    "### Data Loading"
   ]
  },
  {
   "cell_type": "code",
   "execution_count": 133,
   "id": "ef52e062",
   "metadata": {},
   "outputs": [],
   "source": [
    "data_ = pd.read_csv(\"../data/FilteredData.csv\")"
   ]
  },
  {
   "cell_type": "code",
   "execution_count": 134,
   "id": "92e5e3b5",
   "metadata": {},
   "outputs": [],
   "source": [
    "def SingleAtomRemover(x):\n",
    "    singleAtom = [\"[Kr]\",\"[Ne]\",\"C\",\"[Li]\",\"O\",\"[Ar]\",'[Xe]']\n",
    "    if x in singleAtom:\n",
    "        return 1\n",
    "    else: \n",
    "        return 0  "
   ]
  },
  {
   "cell_type": "code",
   "execution_count": 135,
   "id": "b82f73a1",
   "metadata": {},
   "outputs": [],
   "source": [
    "data = data_[[\"Structure\",\"BBB+/BBB-\"]]"
   ]
  },
  {
   "cell_type": "code",
   "execution_count": 136,
   "id": "842faa2c",
   "metadata": {},
   "outputs": [],
   "source": [
    "data.replace({\"BBB+\":1,\"BBB-\":0},inplace=True)"
   ]
  },
  {
   "cell_type": "code",
   "execution_count": 137,
   "id": "d9455d92",
   "metadata": {},
   "outputs": [],
   "source": [
    "data.rename(columns={\"Structure\":\"SMILES\",\"BBB+/BBB-\":\"LABELS\"},inplace=True)"
   ]
  },
  {
   "cell_type": "code",
   "execution_count": 138,
   "id": "92490f3f",
   "metadata": {},
   "outputs": [],
   "source": [
    "data[\"Isit\"] = data[\"SMILES\"].apply(SingleAtomRemover)"
   ]
  },
  {
   "cell_type": "code",
   "execution_count": 139,
   "id": "159e6033",
   "metadata": {},
   "outputs": [],
   "source": [
    "### Remove single element\n",
    "data.drop(data[data[\"Isit\"] == 1].index,inplace=True)"
   ]
  },
  {
   "cell_type": "code",
   "execution_count": 140,
   "id": "71e74a4a",
   "metadata": {},
   "outputs": [],
   "source": [
    "data.to_csv(r\"raw/data.csv\")"
   ]
  },
  {
   "cell_type": "code",
   "execution_count": 141,
   "id": "2831b72a",
   "metadata": {},
   "outputs": [],
   "source": [
    "from torch_geometric.data import InMemoryDataset, download_url, Dataset, Data\n",
    "from dgllife.utils import (CanonicalAtomFeaturizer,\n",
    "                           one_hot_encoding,\n",
    "                           atom_implicit_valence_one_hot,\n",
    "                           atom_total_degree_one_hot,\n",
    "                           atomic_number_one_hot,\n",
    "                           atom_hybridization_one_hot,\n",
    "                           atom_is_in_ring_one_hot,\n",
    "                           atom_is_aromatic_one_hot\n",
    "                          )\n",
    "from rdkit import Chem\n",
    "\n",
    "class BBBDataset(Dataset): ### All dataset will store in RAM\n",
    "    \n",
    "    def __init__(self,root,transform = None, pre_transform=None,pre_filter=None,one_hot=False):\n",
    "        \n",
    "        \"\"\"\n",
    "        root: where the dataset shoul be stored. The folder will split into raw_dir (downloaded dataset)\n",
    "        and processed_dir (processed data).\n",
    "\n",
    "        \"\"\"\n",
    "        self.one_hot = one_hot\n",
    "        super().__init__(root, transform, pre_transform, pre_filter)\n",
    "        \n",
    "    \n",
    "    @property\n",
    "    def raw_file_names(self):\n",
    "        \n",
    "        \"\"\"\n",
    "        If this file exists in raw_dir, the download is not triggered\n",
    "        \"\"\"\n",
    "        return \"data.csv\"\n",
    "        \n",
    "    def download(self):\n",
    "        pass\n",
    "    \n",
    "    @property\n",
    "    def processed_file_names(self):\n",
    "        return ['data.pt']\n",
    "    \n",
    "    \n",
    "    def process(self):\n",
    "        \n",
    "        self.data = pd.read_csv(self.raw_paths[0])\n",
    "        dataArray = self.data[[\"SMILES\",\"LABELS\"]].to_numpy().squeeze()\n",
    "        \n",
    "        j = 0\n",
    "        for i in tqdm(dataArray):\n",
    "            processed_data = self.smiles2graph(*i,one_hot=self.one_hot)\n",
    "            \n",
    "            ### Inputs to Graph\n",
    "            nodes_feats = processed_data[\"X\"] ## Node Features\n",
    "            label = processed_data[\"Y\"]       ## Labels\n",
    "            edge_feats = processed_data[\"E\"]  ### Edge features if any\n",
    "            adj_mat = processed_data[\"A\"] ## Adjacency matrix of Molecular graph\n",
    "            smiles = processed_data[\"SMILES\"] ## SMILES \n",
    "            \n",
    "            \n",
    "            ### create data object\n",
    "            data = Data(x=nodes_feats,edge_index=adj_mat,edge_attr=edge_feats,y=label,smiles=smiles) ## Creating data\n",
    "            torch.save(data,os.path.join(self.processed_dir,f\"data_{j}.pt\"))\n",
    "            j+=1\n",
    "     \n",
    "    ### Function to convert smilesInGraph Input\n",
    "    def smiles2graph(self, smiles,label,one_hot=False,):\n",
    "        try:\n",
    "            mol = Chem.MolFromSmiles(smiles,)\n",
    "        except:\n",
    "            raise(\"Smiles not parsed by rdkit\")\n",
    "        \n",
    "        ## Adjacency matrix get converted into Coo format for PyTorch Layer\n",
    "        adj_matrix = GetAdjacencyMatrix(mol) ### Adjacency matrix\n",
    "        row,col = np.where(adj_matrix)\n",
    "        coo = np.array(list(zip(row,col)))\n",
    "        coo = np.reshape(coo,(2,-1))\n",
    "        \n",
    "        if one_hot:\n",
    "            valence =[]\n",
    "            degree = []\n",
    "            atoms =  []\n",
    "            hybrid = []\n",
    "            mass =   []\n",
    "            aromatic = []\n",
    "            for idx,atom in enumerate(mol.GetAtoms()):\n",
    "                valence.append(atom_implicit_valence_one_hot(atom))## Implicit valence\n",
    "                degree.append(atom_total_degree_one_hot(atom))## total degree\n",
    "                atoms.append(atomic_number_one_hot(atom))## Atomic Number \n",
    "                hybrid.append(atom_hybridization_one_hot(atom))## Number of Hybridization\n",
    "                aromatic.append(atom_is_aromatic_one_hot(atom)) ## IsAromatic\n",
    "                mass.append([atom.GetMass()])## total Mass of molecule\n",
    "                \n",
    "            features  = torch.cat([torch.tensor(valence),\n",
    "                                  torch.tensor(degree),\n",
    "                                  torch.tensor(atoms),\n",
    "                                  torch.tensor(hybrid),\n",
    "                                  torch.tensor(aromatic),], ### Mass not included to make it one discrete data\n",
    "                                  axis=1)\n",
    "            ##torch.tensor(mass)],\n",
    "            \n",
    "        else:\n",
    "            \n",
    "            features = np.zeros((mol.GetNumAtoms(),5),) ### Feature Matrix\n",
    "            for idx,atom in enumerate(mol.GetAtoms()):\n",
    "                features[idx,0] = atom.GetAtomicNum()\n",
    "                features[idx,1] = atom.GetDegree()\n",
    "                #feature_array[idx,2] = atom.GetFormalCharge()\n",
    "                features[idx,2] = atom.GetHybridization()\n",
    "                features[idx,3] = atom.GetExplicitValence()\n",
    "                features[idx,4] = atom.GetMass()\n",
    "           \n",
    "        ##label_array = torch.tensor([0]) if label == 0 else torch.tensor([1])\n",
    "        label_array = torch.tensor([1,0]) if label == 0 else torch.tensor([0,1])\n",
    "        \n",
    "#         if label == 0:\n",
    "#             label_array = torch.tensor([0])\n",
    "#         else:\n",
    "#             label_array = torch.tensor([1])\n",
    "\n",
    "        all_edge_feats = []\n",
    "        for bond in mol.GetBonds():\n",
    "            Edge_feature = []\n",
    "            # Feature 1: Bond type (as double)\n",
    "            Edge_feature.append(bond.GetBondTypeAsDouble())\n",
    "            # Feature 2: Rings\n",
    "            Edge_feature.append(bond.IsInRing())\n",
    "            # Append edget features to matrix (twice, per direction)\n",
    "            all_edge_feats += [Edge_feature, Edge_feature]\n",
    "\n",
    "        all_edge_feats = np.asarray(all_edge_feats)\n",
    "\n",
    "        return {\"A\": torch.tensor(coo,dtype=torch.long),\n",
    "               \"X\": torch.tensor(features,dtype=torch.float32),\n",
    "               \"Y\":torch.tensor(label_array,dtype=torch.float32),\n",
    "                \"E\":torch.tensor(all_edge_feats,dtype=torch.float32),\n",
    "                \"SMILES\":smiles}\n",
    "    \n",
    "    def len (self):\n",
    "        return self.data.shape[0]\n",
    "    \n",
    "    def get(self,idx):\n",
    "        data = torch.load(os.path.join(self.processed_dir,f'data_{idx}.pt'))\n",
    "        return data\n"
   ]
  },
  {
   "cell_type": "code",
   "execution_count": 142,
   "id": "08ecb731",
   "metadata": {},
   "outputs": [
    {
     "name": "stderr",
     "output_type": "stream",
     "text": [
      "Processing...\n",
      "100%|█████████████████████████████████████████████████████████████████████████████| 3330/3330 [00:07<00:00, 468.52it/s]\n",
      "Done!\n"
     ]
    }
   ],
   "source": [
    "dataset = BBBDataset(root=\".\",one_hot=True)"
   ]
  },
  {
   "cell_type": "markdown",
   "id": "b8492d58",
   "metadata": {},
   "source": [
    "### Applying PyG GCN With One-Hot encoded Features\n",
    "___"
   ]
  },
  {
   "cell_type": "code",
   "execution_count": 143,
   "id": "2e6ddf4e",
   "metadata": {},
   "outputs": [],
   "source": [
    "torch.backends.cudnn.enabled = True\n",
    "torch.backends.cudnn.benchmark = True"
   ]
  },
  {
   "cell_type": "code",
   "execution_count": 145,
   "id": "7c8aefe3",
   "metadata": {},
   "outputs": [],
   "source": [
    "from torch_geometric.nn import GCNConv\n",
    "#from torch_geometric.utils import add_self_loops, degree\n",
    "from torch.nn import Linear\n",
    "import torch.nn.functional as F\n",
    "from torch import nn\n",
    "from torch_geometric.nn import global_mean_pool\n",
    "\n",
    "class PyGCN(torch.nn.Module):\n",
    "    \n",
    "    def __init__(self,num_node_features):\n",
    "        \n",
    "        super().__init__()\n",
    "        self.num_node_features = num_node_features ### Node input size\n",
    "        \n",
    "        self.conv_1 = GCNConv(-1,64,improved=True,) ### First layer convulation\n",
    "        self.conv_2 = GCNConv(64,32) ### Second layer convulation\n",
    "        \n",
    "        ## Two linear layer\n",
    "        self.fc_1  = Linear(32,16)\n",
    "        self.fc_2  = Linear(16,2)\n",
    "       \n",
    "            \n",
    "    def forward(self,data,):\n",
    "        \n",
    "        batch, x,edge_index,edge_attr,y,smiles  = data.batch, data.x, data.edge_index, data.edge_attr,data.y, data.smiles\n",
    "        \n",
    "        ## Graph convulations\n",
    "        x = F.relu(self.conv_1(x,edge_index))\n",
    "        x = F.dropout(x, p=0.6, training=self.training)\n",
    "        x = F.relu(self.conv_2(x,edge_index))\n",
    "       \n",
    "        ## Readout layer\n",
    "        x = global_mean_pool(x,batch)\n",
    "        \n",
    "        ### Final classifier\n",
    "        x = F.relu(self.fc_1(x))\n",
    "       ## x = F.sigmoid(self.fc_1(x)) #### sigmoid output\n",
    "        x = self.fc_2(x)\n",
    "        return x        "
   ]
  },
  {
   "cell_type": "markdown",
   "id": "0697589e",
   "metadata": {},
   "source": [
    "### Testing phase"
   ]
  },
  {
   "cell_type": "code",
   "execution_count": 146,
   "id": "5aeabbc9",
   "metadata": {},
   "outputs": [],
   "source": [
    "from torch.utils.data import random_split\n",
    "### Splitting of data\n",
    "train_set, valid_set, test_set = random_split(dataset,[2331,666,333])\n",
    "trainloader = DataLoader(train_set,shuffle=True,batch_size=256)\n",
    "validloader = DataLoader(valid_set, shuffle=True,batch_size=256)\n",
    "testloader = DataLoader(test_set, shuffle=True,batch_size=256)"
   ]
  },
  {
   "cell_type": "code",
   "execution_count": 147,
   "id": "036a5182",
   "metadata": {},
   "outputs": [
    {
     "data": {
      "text/plain": [
       "PyGCN(\n",
       "  (conv_1): GCNConv(-1, 64)\n",
       "  (conv_2): GCNConv(64, 32)\n",
       "  (fc_1): Linear(in_features=32, out_features=16, bias=True)\n",
       "  (fc_2): Linear(in_features=16, out_features=2, bias=True)\n",
       ")"
      ]
     },
     "execution_count": 147,
     "metadata": {},
     "output_type": "execute_result"
    }
   ],
   "source": [
    "from torch.nn import BCEWithLogitsLoss, BCELoss,CrossEntropyLoss, Softmax, NLLLoss\n",
    "\n",
    "## Intilaize Network\n",
    "net = PyGCN(num_node_features=5)\n",
    "\n",
    "### initialize an optimizer with someparameters\n",
    "optimizer = torch.optim.Adam(net.parameters(), lr=0.001,weight_decay=0.00001)\n",
    "\n",
    "### Defining loss\n",
    "##criterion = BCELoss()\n",
    "criterion = CrossEntropyLoss()\n",
    "\n",
    "\n",
    "### criterion\n",
    "criterion.cuda()\n",
    "\n",
    "## shifting to GPU\n",
    "device = \"cuda\" if torch.cuda.is_available() else \"cpu\"\n",
    "net.to(device)"
   ]
  },
  {
   "cell_type": "code",
   "execution_count": 148,
   "id": "cff2d453",
   "metadata": {},
   "outputs": [],
   "source": [
    "from sklearn.metrics import accuracy_score\n",
    "def accuracy_counter(y_prob,y_true):\n",
    "    \n",
    "    \"\"\"\n",
    "    Deals with BCEloss\n",
    "    \"\"\"\n",
    "    y_prob = np.array(y_prob)\n",
    "    y_prob = np.where(y_prob <= 0.5, 0, y_prob)\n",
    "    y_prob = np.where(y_prob > 0.5, 1, y_prob)\n",
    "    accuracy = accuracy_score(np.array(y_true),y_prob)\n",
    "    \n",
    "    return (accuracy,)"
   ]
  },
  {
   "cell_type": "code",
   "execution_count": 149,
   "id": "125c0299",
   "metadata": {},
   "outputs": [],
   "source": [
    "def accuracy_counter2(y_prob,y_true):\n",
    "    \n",
    "    \"\"\" Deals with CrossEntropyLoss Function\"\"\"\n",
    "    \n",
    "    y_proab = torch.tensor(y_prob).view(-1,2)\n",
    "    y_true = torch.tensor(y_true).view(-1,2)\n",
    "    assert y_proab.shape == y_true.shape\n",
    "    y_proab = torch.argmax(y_proab,dim=1)\n",
    "    y_true = torch.argmax(y_true,dim=1)\n",
    "    accuracy = accuracy_score(y_true,y_proab)\n",
    "    return (accuracy,)"
   ]
  },
  {
   "cell_type": "code",
   "execution_count": 150,
   "id": "d48bb63b",
   "metadata": {},
   "outputs": [],
   "source": [
    "### Training loop\n",
    "def train(loader):\n",
    "    \n",
    "    ### In training mode (Hence it wiill update all the weight coeffiicents)\n",
    "    net.train()\n",
    "\n",
    "    for data in loader: #Iterate in batches over training datase\n",
    "        data.to(device)\n",
    "        optimizer.zero_grad() ## clear gradients\n",
    "        out = net(data) ## single forward pass\n",
    "        loss = criterion(out,data.y.view(-1,2)) ## compute the loss\n",
    "        loss.backward() ## Derive gradients\n",
    "        optimizer.step()## update parameters based on gradients\n",
    "        \n",
    "#     av_loss = torch.sum(torch.tensor(train_loss))/len(loader)\n",
    "    \n",
    "#     accuracy = accuracy_counter2(proab,y_true)\n",
    "    \n",
    "#     return (av_loss,accuracy)"
   ]
  },
  {
   "cell_type": "code",
   "execution_count": 151,
   "id": "320b0fcf",
   "metadata": {},
   "outputs": [],
   "source": [
    "@torch.no_grad() ## Not to calculate gradient while evaluation\n",
    "def test(loader):\n",
    "    \n",
    "    ## Putting in evaluation mode\n",
    "    net.eval()\n",
    "    \n",
    "    y_true = []\n",
    "    proab = []\n",
    "    val_loss = []\n",
    "    \n",
    "    ## Iterate in batches over validation/test dataset\n",
    "    for data in loader:\n",
    "        \n",
    "        data.to(device) ## passing Data to GPU\n",
    "        \n",
    "        #out = net(data).squeeze() ## single forward pass\n",
    "        out = net(data) ## only predicition on trained data\n",
    "        \n",
    "        proab.extend(out.detach().cpu().numpy().squeeze().tolist()) ## appending to list each batch\n",
    "        y_true.extend(data.y.unsqueeze(1).squeeze().tolist()) ## appending true value of each batch\n",
    "    \n",
    "        loss = criterion(out,data.y.view(-1,2))\n",
    "        val_loss.append(loss)\n",
    "        \n",
    "    av_loss = torch.sum(torch.tensor(val_loss))/len(loader)\n",
    "    accuracy = accuracy_counter2(proab,y_true)\n",
    "    return (av_loss,accuracy)"
   ]
  },
  {
   "cell_type": "code",
   "execution_count": 152,
   "id": "667544fd",
   "metadata": {},
   "outputs": [
    {
     "name": "stdout",
     "output_type": "stream",
     "text": [
      "Epoch: 001, Train loss: 0.6860, Train accuracy: 0.5663, val loss: 0.6747, val accuracy: 0.5961\n",
      "Epoch: 002, Train loss: 0.6691, Train accuracy: 0.6139, val loss: 0.6736, val accuracy: 0.5961\n",
      "Epoch: 003, Train loss: 0.6690, Train accuracy: 0.6139, val loss: 0.6726, val accuracy: 0.5961\n",
      "Epoch: 004, Train loss: 0.6631, Train accuracy: 0.6139, val loss: 0.6713, val accuracy: 0.5961\n",
      "Epoch: 005, Train loss: 0.6647, Train accuracy: 0.6139, val loss: 0.6725, val accuracy: 0.5961\n",
      "Epoch: 006, Train loss: 0.6644, Train accuracy: 0.6139, val loss: 0.6711, val accuracy: 0.5961\n",
      "Epoch: 007, Train loss: 0.6624, Train accuracy: 0.6139, val loss: 0.6662, val accuracy: 0.5961\n",
      "Epoch: 008, Train loss: 0.6592, Train accuracy: 0.6139, val loss: 0.6654, val accuracy: 0.5961\n",
      "Epoch: 009, Train loss: 0.6534, Train accuracy: 0.6139, val loss: 0.6675, val accuracy: 0.5961\n",
      "Epoch: 010, Train loss: 0.6554, Train accuracy: 0.6139, val loss: 0.6570, val accuracy: 0.5946\n",
      "Epoch: 011, Train loss: 0.6550, Train accuracy: 0.6139, val loss: 0.6554, val accuracy: 0.5946\n",
      "Epoch: 012, Train loss: 0.6479, Train accuracy: 0.6152, val loss: 0.6473, val accuracy: 0.5976\n",
      "Epoch: 013, Train loss: 0.6655, Train accuracy: 0.6139, val loss: 0.6464, val accuracy: 0.6051\n",
      "Epoch: 014, Train loss: 0.6488, Train accuracy: 0.6332, val loss: 0.6509, val accuracy: 0.6441\n",
      "Epoch: 015, Train loss: 0.6405, Train accuracy: 0.6285, val loss: 0.6447, val accuracy: 0.6126\n",
      "Epoch: 016, Train loss: 0.6349, Train accuracy: 0.6255, val loss: 0.6417, val accuracy: 0.6426\n",
      "Epoch: 017, Train loss: 0.6414, Train accuracy: 0.6362, val loss: 0.6401, val accuracy: 0.6471\n",
      "Epoch: 018, Train loss: 0.6383, Train accuracy: 0.6478, val loss: 0.6368, val accuracy: 0.6411\n",
      "Epoch: 019, Train loss: 0.6462, Train accuracy: 0.6418, val loss: 0.6350, val accuracy: 0.6456\n",
      "Epoch: 020, Train loss: 0.6237, Train accuracy: 0.6465, val loss: 0.6331, val accuracy: 0.6441\n",
      "Epoch: 021, Train loss: 0.6348, Train accuracy: 0.6538, val loss: 0.6349, val accuracy: 0.6486\n",
      "Epoch: 022, Train loss: 0.6290, Train accuracy: 0.6598, val loss: 0.6332, val accuracy: 0.6486\n",
      "Epoch: 023, Train loss: 0.6242, Train accuracy: 0.6521, val loss: 0.6231, val accuracy: 0.6471\n",
      "Epoch: 024, Train loss: 0.6246, Train accuracy: 0.6572, val loss: 0.6254, val accuracy: 0.6426\n",
      "Epoch: 025, Train loss: 0.6303, Train accuracy: 0.6414, val loss: 0.6337, val accuracy: 0.6486\n",
      "Epoch: 026, Train loss: 0.6276, Train accuracy: 0.6495, val loss: 0.6267, val accuracy: 0.6456\n",
      "Epoch: 027, Train loss: 0.6341, Train accuracy: 0.6551, val loss: 0.6271, val accuracy: 0.6456\n",
      "Epoch: 028, Train loss: 0.6307, Train accuracy: 0.6671, val loss: 0.6320, val accuracy: 0.6441\n",
      "Epoch: 029, Train loss: 0.6223, Train accuracy: 0.6585, val loss: 0.6200, val accuracy: 0.6471\n",
      "Epoch: 030, Train loss: 0.6293, Train accuracy: 0.6538, val loss: 0.6210, val accuracy: 0.6532\n",
      "Epoch: 031, Train loss: 0.6336, Train accuracy: 0.6589, val loss: 0.6226, val accuracy: 0.6547\n",
      "Epoch: 032, Train loss: 0.6249, Train accuracy: 0.6542, val loss: 0.6241, val accuracy: 0.6562\n",
      "Epoch: 033, Train loss: 0.6278, Train accuracy: 0.6478, val loss: 0.6284, val accuracy: 0.6486\n",
      "Epoch: 034, Train loss: 0.6229, Train accuracy: 0.6615, val loss: 0.6357, val accuracy: 0.6532\n",
      "Epoch: 035, Train loss: 0.6299, Train accuracy: 0.6551, val loss: 0.6266, val accuracy: 0.6547\n",
      "Epoch: 036, Train loss: 0.6167, Train accuracy: 0.6594, val loss: 0.6248, val accuracy: 0.6517\n",
      "Epoch: 037, Train loss: 0.6155, Train accuracy: 0.6585, val loss: 0.6230, val accuracy: 0.6547\n",
      "Epoch: 038, Train loss: 0.6188, Train accuracy: 0.6667, val loss: 0.6203, val accuracy: 0.6532\n",
      "Epoch: 039, Train loss: 0.6113, Train accuracy: 0.6615, val loss: 0.6165, val accuracy: 0.6532\n",
      "Epoch: 040, Train loss: 0.6150, Train accuracy: 0.6632, val loss: 0.6218, val accuracy: 0.6592\n",
      "Epoch: 041, Train loss: 0.6233, Train accuracy: 0.6551, val loss: 0.6170, val accuracy: 0.6562\n",
      "Epoch: 042, Train loss: 0.6202, Train accuracy: 0.6680, val loss: 0.6214, val accuracy: 0.6607\n",
      "Epoch: 043, Train loss: 0.6190, Train accuracy: 0.6585, val loss: 0.6239, val accuracy: 0.6577\n",
      "Epoch: 044, Train loss: 0.6221, Train accuracy: 0.6607, val loss: 0.6224, val accuracy: 0.6562\n",
      "Epoch: 045, Train loss: 0.6297, Train accuracy: 0.6611, val loss: 0.6253, val accuracy: 0.6532\n",
      "Epoch: 046, Train loss: 0.6208, Train accuracy: 0.6658, val loss: 0.6172, val accuracy: 0.6577\n",
      "Epoch: 047, Train loss: 0.6096, Train accuracy: 0.6624, val loss: 0.6211, val accuracy: 0.6547\n",
      "Epoch: 048, Train loss: 0.6154, Train accuracy: 0.6637, val loss: 0.6218, val accuracy: 0.6592\n",
      "Epoch: 049, Train loss: 0.6249, Train accuracy: 0.6671, val loss: 0.6161, val accuracy: 0.6592\n"
     ]
    }
   ],
   "source": [
    "epochs = 50\n",
    "\n",
    "## Accuracy\n",
    "traine_accuracy = []\n",
    "vale_accuracy = []\n",
    "teste_accuracy = []\n",
    "\n",
    "## Loss\n",
    "epoch_loss = []\n",
    "valida_loss = []\n",
    "test_loss_full = []\n",
    "\n",
    "for epoch in range(1,epochs):\n",
    "    \n",
    "    train_loss1,train_accuracy1 = train(trainloader)\n",
    "\n",
    "    \n",
    "    #train_loss2,train_accuracy2 = test(trainloader)\n",
    "    #train_loss2 = test(trainloader)[0]\n",
    "    \n",
    "    val_loss,val_accuracy = test(validloader)\n",
    "#     val_loss = test(validloader)[0]\n",
    "    \n",
    "    test_loss,test_accuracy = test(testloader)\n",
    "#     test_loss = test(testloader)[0]\n",
    "    \n",
    "     ##losses\n",
    "    epoch_loss.append(train_loss1)\n",
    "    valida_loss.append(val_loss)\n",
    "    test_loss_full.append(test_loss)\n",
    "    \n",
    "     ## accuracy\n",
    "    traine_accuracy.append(train_accuracy1[0])\n",
    "    vale_accuracy.append(val_accuracy[0])\n",
    "    teste_accuracy.append(test_accuracy[0])\n",
    "    \n",
    "    print(f'Epoch: {epoch:03d}, Train loss: {train_loss1:.4f}, Train accuracy: {train_accuracy1[0]:.4f}, val loss: {val_loss:.4f}, val accuracy: {val_accuracy[0]:.4f}')\n",
    "    \n",
    "#     print(f'Epoch: {epoch:03d}, Train loss: {train_loss1:.4f}',)"
   ]
  },
  {
   "cell_type": "code",
   "execution_count": 153,
   "id": "100f1d15",
   "metadata": {},
   "outputs": [
    {
     "data": {
      "image/png": "[encoded data removed]",
      "text/plain": [
       "<Figure size 432x288 with 1 Axes>"
      ]
     },
     "metadata": {
      "needs_background": "light"
     },
     "output_type": "display_data"
    }
   ],
   "source": [
    "import matplotlib.pyplot as plt\n",
    "\n",
    "plt.plot([i for i in range(1,epochs)],[i.cpu().detach().numpy() for i  in epoch_loss],label=\"Train loss\",color=\"Red\",)\n",
    "plt.plot([i for i in range(1,epochs)],[i.cpu().detach().numpy() for i in valida_loss],label=\"valid loss\",color=\"Green\")\n",
    "#plt.plot([i for i in range(1,epochs)],[i.cpu().detach().numpy() for i in test_loss],label=\"Test loss\",color=\"Blue\")\n",
    "plt.legend()\n",
    "plt.xlabel(\"Epochs\")\n",
    "plt.ylabel(\"Loss\")\n",
    "plt.show()\n"
   ]
  },
  {
   "cell_type": "code",
   "execution_count": 154,
   "id": "322d79a9",
   "metadata": {},
   "outputs": [
    {
     "data": {
      "image/png": "[encoded data removed]",
      "text/plain": [
       "<Figure size 432x288 with 1 Axes>"
      ]
     },
     "metadata": {
      "needs_background": "light"
     },
     "output_type": "display_data"
    }
   ],
   "source": [
    "plt.plot([i for i in range(1,epochs)],[i for i  in teste_accuracy],label=\"Train accuracy\",color=\"Red\",)\n",
    "plt.plot([i for i in range(1,epochs)],[i  for i in vale_accuracy],label=\"valid accuracy\",color=\"Green\")\n",
    "#plt.plot([i for i in range(1,epochs)],[i.cpu().detach().numpy() for i in test_loss],label=\"Test loss\",color=\"Blue\")\n",
    "plt.legend()\n",
    "plt.xlabel(\"Epochs\")\n",
    "plt.ylabel(\"Accuracy\")\n",
    "plt.show()\n"
   ]
  },
  {
   "cell_type": "code",
   "execution_count": 155,
   "id": "5e7261bc",
   "metadata": {},
   "outputs": [
    {
     "name": "stdout",
     "output_type": "stream",
     "text": [
      "Training loss|   Mean: 0.636268138885498   std: 0.01850801147520542\n",
      "validation loss| Mean: 0.6373651027679443  std: 0.018760930746793747\n",
      "Test loss|       Mean: 0.6135731935501099   std: nan\n"
     ]
    }
   ],
   "source": [
    "print(f\"Training loss|   Mean: {torch.tensor(epoch_loss).mean()}   std: {torch.tensor(epoch_loss).std()}\")\n",
    "print(f\"validation loss| Mean: {torch.tensor(valida_loss).mean()}  std: {torch.tensor(valida_loss).std()}\")\n",
    "print(f\"Test loss|       Mean: {torch.tensor(test_loss).mean()}   std: {torch.tensor(test_loss).std()}\")"
   ]
  },
  {
   "cell_type": "code",
   "execution_count": null,
   "id": "93c112d1",
   "metadata": {},
   "outputs": [],
   "source": []
  },
  {
   "cell_type": "code",
   "execution_count": null,
   "id": "f17f6898",
   "metadata": {},
   "outputs": [],
   "source": []
  }
 ],
 "metadata": {
  "kernelspec": {
   "display_name": "Python 3 (ipykernel)",
   "language": "python",
   "name": "python3"
  },
  "language_info": {
   "codemirror_mode": {
    "name": "ipython",
    "version": 3
   },
   "file_extension": ".py",
   "mimetype": "text/x-python",
   "name": "python",
   "nbconvert_exporter": "python",
   "pygments_lexer": "ipython3",
   "version": "3.9.7"
  }
 },
 "nbformat": 4,
 "nbformat_minor": 5
}
