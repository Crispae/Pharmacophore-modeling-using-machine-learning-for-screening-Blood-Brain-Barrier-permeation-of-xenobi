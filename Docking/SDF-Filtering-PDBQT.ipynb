{
 "cells": [
  {
   "cell_type": "code",
   "execution_count": 3,
   "id": "673f19dc",
   "metadata": {},
   "outputs": [],
   "source": [
    "from rdkit.Chem import SDMolSupplier\n",
    "from rdkit import Chem"
   ]
  },
  {
   "cell_type": "code",
   "execution_count": 24,
   "id": "e88b09ff",
   "metadata": {},
   "outputs": [],
   "source": [
    "def is_3D(file): ## IF true then it has all zero coridnates\n",
    "    \n",
    "    ## Checking file data\n",
    "    mol = SDMolSupplier(f\"{file}_out.sdf\",sanitize=True,)\n",
    "    \n",
    "\n",
    "    \n",
    "    ## checking isisntance or not\n",
    "    if isinstance(mol[0],Chem.rdchem.Mol):\n",
    "        pos  = mol[0].GetConformer().GetPositions()\n",
    "        return pos.any()\n",
    "    \n",
    "    else:\n",
    "        \n",
    "        return None  "
   ]
  },
  {
   "cell_type": "code",
   "execution_count": 25,
   "id": "a99a99cd",
   "metadata": {},
   "outputs": [
    {
     "name": "stderr",
     "output_type": "stream",
     "text": [
      "[12:18:40] Warning: molecule is tagged as 3D, but all Z coords are zero\n",
      "[12:18:40] Warning: molecule is tagged as 3D, but all Z coords are zero\n",
      "[12:18:40] Warning: molecule is tagged as 3D, but all Z coords are zero\n",
      "[12:18:40] Warning: molecule is tagged as 3D, but all Z coords are zero\n",
      "[12:18:40] Warning: molecule is tagged as 3D, but all Z coords are zero\n",
      "[12:18:40] Warning: molecule is tagged as 3D, but all Z coords are zero\n",
      "[12:18:40] Warning: molecule is tagged as 3D, but all Z coords are zero\n",
      "[12:18:40] Warning: molecule is tagged as 3D, but all Z coords are zero\n",
      "[12:18:40] Warning: molecule is tagged as 3D, but all Z coords are zero\n",
      "[12:18:40] Warning: molecule is tagged as 3D, but all Z coords are zero\n",
      "[12:18:40] Warning: molecule is tagged as 3D, but all Z coords are zero\n",
      "[12:18:40] Warning: molecule is tagged as 3D, but all Z coords are zero\n",
      "[12:18:40] Warning: molecule is tagged as 3D, but all Z coords are zero\n",
      "[12:18:40] Warning: molecule is tagged as 3D, but all Z coords are zero\n",
      "[12:18:40] Warning: molecule is tagged as 3D, but all Z coords are zero\n",
      "[12:18:40] Warning: molecule is tagged as 3D, but all Z coords are zero\n",
      "[12:18:40] Warning: molecule is tagged as 3D, but all Z coords are zero\n",
      "[12:18:40] Warning: molecule is tagged as 3D, but all Z coords are zero\n",
      "[12:18:40] Warning: molecule is tagged as 3D, but all Z coords are zero\n",
      "[12:18:40] Warning: molecule is tagged as 3D, but all Z coords are zero\n",
      "[12:18:40] Warning: molecule is tagged as 3D, but all Z coords are zero\n",
      "[12:18:40] Warning: molecule is tagged as 3D, but all Z coords are zero\n",
      "[12:18:40] Warning: molecule is tagged as 3D, but all Z coords are zero\n",
      "[12:18:40] Warning: molecule is tagged as 3D, but all Z coords are zero\n",
      "[12:18:40] Warning: molecule is tagged as 3D, but all Z coords are zero\n",
      "[12:18:40] Warning: molecule is tagged as 3D, but all Z coords are zero\n",
      "[12:18:40] Warning: molecule is tagged as 3D, but all Z coords are zero\n",
      "[12:18:40] Warning: molecule is tagged as 3D, but all Z coords are zero\n",
      "[12:18:40] Warning: molecule is tagged as 3D, but all Z coords are zero\n",
      "[12:18:40] Warning: molecule is tagged as 3D, but all Z coords are zero\n",
      "[12:18:40] Warning: molecule is tagged as 3D, but all Z coords are zero\n",
      "[12:18:40] Warning: molecule is tagged as 3D, but all Z coords are zero\n",
      "[12:18:40] Warning: molecule is tagged as 3D, but all Z coords are zero\n",
      "[12:18:40] Warning: molecule is tagged as 3D, but all Z coords are zero\n",
      "[12:18:40] Warning: molecule is tagged as 3D, but all Z coords are zero\n",
      "[12:18:40] Warning: molecule is tagged as 3D, but all Z coords are zero\n",
      "[12:18:40] Warning: molecule is tagged as 3D, but all Z coords are zero\n",
      "[12:18:40] Warning: molecule is tagged as 3D, but all Z coords are zero\n",
      "[12:18:40] Warning: molecule is tagged as 3D, but all Z coords are zero\n",
      "[12:18:40] Warning: molecule is tagged as 3D, but all Z coords are zero\n",
      "[12:18:40] Warning: molecule is tagged as 3D, but all Z coords are zero\n",
      "[12:18:40] Warning: molecule is tagged as 3D, but all Z coords are zero\n",
      "[12:18:40] Warning: molecule is tagged as 3D, but all Z coords are zero\n",
      "[12:18:40] Warning: molecule is tagged as 3D, but all Z coords are zero\n",
      "[12:18:40] Warning: molecule is tagged as 3D, but all Z coords are zero\n",
      "[12:18:40] Warning: molecule is tagged as 3D, but all Z coords are zero\n",
      "[12:18:40] Warning: molecule is tagged as 3D, but all Z coords are zero\n",
      "[12:18:40] Warning: molecule is tagged as 3D, but all Z coords are zero\n",
      "[12:18:40] Warning: molecule is tagged as 3D, but all Z coords are zero\n",
      "[12:18:40] Warning: molecule is tagged as 3D, but all Z coords are zero\n",
      "[12:18:40] Warning: molecule is tagged as 3D, but all Z coords are zero\n",
      "[12:18:40] Warning: molecule is tagged as 3D, but all Z coords are zero\n",
      "[12:18:40] Warning: molecule is tagged as 3D, but all Z coords are zero\n",
      "[12:18:40] Warning: molecule is tagged as 3D, but all Z coords are zero\n",
      "[12:18:40] Warning: molecule is tagged as 3D, but all Z coords are zero\n",
      "[12:18:40] Warning: molecule is tagged as 3D, but all Z coords are zero\n",
      "[12:18:40] Warning: molecule is tagged as 3D, but all Z coords are zero\n",
      "[12:18:41] Warning: molecule is tagged as 3D, but all Z coords are zero\n",
      "[12:18:41] Warning: molecule is tagged as 3D, but all Z coords are zero\n",
      "[12:18:41] Warning: molecule is tagged as 3D, but all Z coords are zero\n",
      "[12:18:41] Warning: molecule is tagged as 3D, but all Z coords are zero\n",
      "[12:18:41] Warning: molecule is tagged as 3D, but all Z coords are zero\n",
      "[12:18:41] Warning: molecule is tagged as 3D, but all Z coords are zero\n",
      "[12:18:41] Warning: molecule is tagged as 3D, but all Z coords are zero\n",
      "[12:18:41] Warning: molecule is tagged as 3D, but all Z coords are zero\n",
      "[12:18:41] Warning: molecule is tagged as 3D, but all Z coords are zero\n",
      "[12:18:41] Warning: molecule is tagged as 3D, but all Z coords are zero\n",
      "[12:18:41] Warning: molecule is tagged as 3D, but all Z coords are zero\n",
      "[12:18:41] Warning: molecule is tagged as 3D, but all Z coords are zero\n",
      "[12:18:41] Warning: molecule is tagged as 3D, but all Z coords are zero\n",
      "[12:18:41] Warning: molecule is tagged as 3D, but all Z coords are zero\n",
      "[12:18:41] Warning: molecule is tagged as 3D, but all Z coords are zero\n",
      "[12:18:41] Warning: molecule is tagged as 3D, but all Z coords are zero\n",
      "[12:18:41] Warning: molecule is tagged as 3D, but all Z coords are zero\n",
      "[12:18:41] Warning: molecule is tagged as 3D, but all Z coords are zero\n",
      "[12:18:41] Warning: molecule is tagged as 3D, but all Z coords are zero\n",
      "[12:18:41] Warning: molecule is tagged as 3D, but all Z coords are zero\n",
      "[12:18:41] Warning: molecule is tagged as 3D, but all Z coords are zero\n",
      "[12:18:41] Warning: molecule is tagged as 3D, but all Z coords are zero\n",
      "[12:18:41] Warning: molecule is tagged as 3D, but all Z coords are zero\n",
      "[12:18:41] Warning: molecule is tagged as 3D, but all Z coords are zero\n",
      "[12:18:41] Warning: molecule is tagged as 3D, but all Z coords are zero\n",
      "[12:18:41] Warning: molecule is tagged as 3D, but all Z coords are zero\n",
      "[12:18:41] Warning: molecule is tagged as 3D, but all Z coords are zero\n",
      "[12:18:41] Warning: molecule is tagged as 3D, but all Z coords are zero\n",
      "[12:18:41] Warning: molecule is tagged as 3D, but all Z coords are zero\n",
      "[12:18:41] Warning: molecule is tagged as 3D, but all Z coords are zero\n",
      "[12:18:41] Warning: molecule is tagged as 3D, but all Z coords are zero\n",
      "[12:18:41] Warning: molecule is tagged as 3D, but all Z coords are zero\n",
      "[12:18:41] Warning: molecule is tagged as 3D, but all Z coords are zero\n",
      "[12:18:41] Warning: molecule is tagged as 3D, but all Z coords are zero\n",
      "[12:18:41] Warning: molecule is tagged as 3D, but all Z coords are zero\n",
      "[12:18:41] Warning: molecule is tagged as 3D, but all Z coords are zero\n",
      "[12:18:41] Warning: molecule is tagged as 3D, but all Z coords are zero\n",
      "[12:18:41] Warning: molecule is tagged as 3D, but all Z coords are zero\n",
      "[12:18:41] Warning: molecule is tagged as 3D, but all Z coords are zero\n"
     ]
    }
   ],
   "source": [
    "## checking previous stablized molecule\n",
    "Not3D= []\n",
    "Error = []\n",
    "Empty =  []\n",
    "for i in range(358):\n",
    "    try:\n",
    "        for m in SDMolSupplier(f\"{i}_out.sdf\",sanitize=True,strictParsing=True):\n",
    "            if m == None:\n",
    "                Empty.append(i)\n",
    "                continue\n",
    "            if not is_3D(i):\n",
    "                Not3D.append(i)\n",
    "            \n",
    "    except OSError:\n",
    "        Error.append(i)   "
   ]
  },
  {
   "cell_type": "code",
   "execution_count": 30,
   "id": "b53acb11",
   "metadata": {},
   "outputs": [
    {
     "data": {
      "text/plain": [
       "51"
      ]
     },
     "execution_count": 30,
     "metadata": {},
     "output_type": "execute_result"
    }
   ],
   "source": [
    "len(Not3D)"
   ]
  },
  {
   "cell_type": "code",
   "execution_count": 27,
   "id": "1e45cb5b",
   "metadata": {},
   "outputs": [
    {
     "data": {
      "text/plain": [
       "[13, 37, 144, 177, 297, 317]"
      ]
     },
     "execution_count": 27,
     "metadata": {},
     "output_type": "execute_result"
    }
   ],
   "source": [
    "Error"
   ]
  },
  {
   "cell_type": "code",
   "execution_count": 29,
   "id": "63154557",
   "metadata": {},
   "outputs": [
    {
     "data": {
      "text/plain": [
       "51"
      ]
     },
     "execution_count": 29,
     "metadata": {},
     "output_type": "execute_result"
    }
   ],
   "source": [
    "len(Not3D) ## 51 molecules are doesnot possed a stablized structure."
   ]
  },
  {
   "cell_type": "code",
   "execution_count": 34,
   "id": "bb6d5399",
   "metadata": {},
   "outputs": [
    {
     "data": {
      "text/plain": [
       "57"
      ]
     },
     "execution_count": 34,
     "metadata": {},
     "output_type": "execute_result"
    }
   ],
   "source": [
    "### Error molecule\n",
    "ErrorMolecule = set(Not3D+Error)\n",
    "len(ErrorMolecule)"
   ]
  },
  {
   "cell_type": "code",
   "execution_count": 49,
   "id": "824b7784",
   "metadata": {},
   "outputs": [
    {
     "data": {
      "text/plain": [
       "{1,\n",
       " 2,\n",
       " 4,\n",
       " 8,\n",
       " 9,\n",
       " 10,\n",
       " 13,\n",
       " 15,\n",
       " 26,\n",
       " 37,\n",
       " 38,\n",
       " 43,\n",
       " 53,\n",
       " 55,\n",
       " 60,\n",
       " 67,\n",
       " 76,\n",
       " 78,\n",
       " 88,\n",
       " 89,\n",
       " 91,\n",
       " 92,\n",
       " 102,\n",
       " 115,\n",
       " 127,\n",
       " 143,\n",
       " 144,\n",
       " 149,\n",
       " 168,\n",
       " 177,\n",
       " 178,\n",
       " 182,\n",
       " 190,\n",
       " 202,\n",
       " 203,\n",
       " 213,\n",
       " 218,\n",
       " 220,\n",
       " 225,\n",
       " 262,\n",
       " 263,\n",
       " 274,\n",
       " 285,\n",
       " 294,\n",
       " 297,\n",
       " 298,\n",
       " 300,\n",
       " 302,\n",
       " 314,\n",
       " 317,\n",
       " 319,\n",
       " 320,\n",
       " 329,\n",
       " 330,\n",
       " 334,\n",
       " 335,\n",
       " 347}"
      ]
     },
     "execution_count": 49,
     "metadata": {},
     "output_type": "execute_result"
    }
   ],
   "source": [
    "ErrorMolecule"
   ]
  },
  {
   "cell_type": "markdown",
   "id": "c48ae224",
   "metadata": {},
   "source": [
    "### Deleting Excluded ligand"
   ]
  },
  {
   "cell_type": "code",
   "execution_count": 36,
   "id": "b73ca627",
   "metadata": {},
   "outputs": [],
   "source": [
    "import os\n",
    "for i in ErrorMolecule:\n",
    "    os.system(f\"\"\"rm -rf stablizedMol/{i}_out.sdf\"\"\")"
   ]
  },
  {
   "cell_type": "markdown",
   "id": "edb06d50",
   "metadata": {},
   "source": [
    "### converting stablized molecule to PDBQT form"
   ]
  },
  {
   "cell_type": "code",
   "execution_count": 47,
   "id": "4c360f93",
   "metadata": {},
   "outputs": [],
   "source": [
    "import concurrent\n",
    "from tqdm import tqdm\n",
    "import os\n",
    "from collections import Counter"
   ]
  },
  {
   "cell_type": "code",
   "execution_count": 44,
   "id": "2fed70b8",
   "metadata": {},
   "outputs": [],
   "source": [
    "def PdbqtConverter(i):\n",
    "    if os.path.isfile(f\"stablizedMol/{i}_out.sdf\"):\n",
    "        os.system(f\"\"\"mk_prepare_ligand.py -i stablizedMol/{i}_out.sdf -o meekoPDBQT/{i}_out.pdbqt\"\"\")\n",
    "        return i\n",
    "    else:\n",
    "        return None"
   ]
  },
  {
   "cell_type": "code",
   "execution_count": 45,
   "id": "cc04eef6",
   "metadata": {},
   "outputs": [
    {
     "name": "stderr",
     "output_type": "stream",
     "text": [
      "\r",
      "0it [00:00, ?it/s]"
     ]
    },
    {
     "name": "stdout",
     "output_type": "stream",
     "text": [
      "None\n",
      "None\n",
      "None\n",
      "None\n",
      "None\n",
      "None\n",
      "None\n",
      "None\n",
      "None\n",
      "None\n",
      "None\n"
     ]
    },
    {
     "name": "stderr",
     "output_type": "stream",
     "text": [
      "15it [00:00, 26.22it/s]"
     ]
    },
    {
     "name": "stdout",
     "output_type": "stream",
     "text": [
      "5\n",
      "None\n",
      "24\n",
      "0\n",
      "12\n",
      "14\n",
      "6\n"
     ]
    },
    {
     "name": "stderr",
     "output_type": "stream",
     "text": [
      "\r",
      "26it [00:00, 42.95it/s]"
     ]
    },
    {
     "name": "stdout",
     "output_type": "stream",
     "text": [
      "19\n",
      "17\n",
      "20\n",
      "11\n",
      "None\n",
      "25\n",
      "None\n",
      "7\n",
      "31\n",
      "29\n",
      "18\n",
      "None\n"
     ]
    },
    {
     "name": "stderr",
     "output_type": "stream",
     "text": [
      "\r",
      "31it [00:00, 37.67it/s]"
     ]
    },
    {
     "name": "stdout",
     "output_type": "stream",
     "text": [
      "28\n",
      "16\n",
      "34\n",
      "32\n",
      "21\n"
     ]
    },
    {
     "name": "stderr",
     "output_type": "stream",
     "text": [
      "44it [00:01, 33.57it/s]"
     ]
    },
    {
     "name": "stdout",
     "output_type": "stream",
     "text": [
      "22\n",
      "None\n",
      "39\n",
      "23\n",
      "3\n",
      "40\n",
      "27\n",
      "33\n",
      "35\n",
      "36\n",
      "None\n"
     ]
    },
    {
     "name": "stderr",
     "output_type": "stream",
     "text": [
      "\r",
      "49it [00:01, 31.15it/s]"
     ]
    },
    {
     "name": "stdout",
     "output_type": "stream",
     "text": [
      "41\n",
      "None\n",
      "46\n",
      "51\n",
      "45\n",
      "52\n",
      "48\n"
     ]
    },
    {
     "name": "stderr",
     "output_type": "stream",
     "text": [
      "60it [00:01, 39.04it/s]"
     ]
    },
    {
     "name": "stdout",
     "output_type": "stream",
     "text": [
      "62\n",
      "42\n",
      "58\n",
      "30\n",
      "None\n",
      "None\n",
      "57\n",
      "None\n",
      "None\n",
      "50\n",
      "59\n"
     ]
    },
    {
     "name": "stderr",
     "output_type": "stream",
     "text": [
      "69it [00:02, 34.63it/s]"
     ]
    },
    {
     "name": "stdout",
     "output_type": "stream",
     "text": [
      "47\n",
      "63\n",
      "56\n",
      "61\n",
      "54\n",
      "44\n"
     ]
    },
    {
     "name": "stderr",
     "output_type": "stream",
     "text": [
      "\r",
      "73it [00:02, 34.84it/s]"
     ]
    },
    {
     "name": "stdout",
     "output_type": "stream",
     "text": [
      "49\n",
      "None\n",
      "74\n",
      "69\n",
      "71\n"
     ]
    },
    {
     "name": "stderr",
     "output_type": "stream",
     "text": [
      "\r",
      "77it [00:02, 21.78it/s]"
     ]
    },
    {
     "name": "stdout",
     "output_type": "stream",
     "text": [
      "65\n",
      "70\n",
      "77\n",
      "75\n"
     ]
    },
    {
     "name": "stderr",
     "output_type": "stream",
     "text": [
      "89it [00:02, 33.03it/s]"
     ]
    },
    {
     "name": "stdout",
     "output_type": "stream",
     "text": [
      "66\n",
      "64\n",
      "79\n",
      "83\n",
      "72\n",
      "None\n",
      "94\n",
      "68\n",
      "87\n",
      "73\n",
      "81\n"
     ]
    },
    {
     "name": "stderr",
     "output_type": "stream",
     "text": [
      "\r",
      "94it [00:02, 32.15it/s]"
     ]
    },
    {
     "name": "stdout",
     "output_type": "stream",
     "text": [
      "96\n",
      "90\n",
      "93\n",
      "97\n",
      "84\n",
      "82\n",
      "None\n"
     ]
    },
    {
     "name": "stderr",
     "output_type": "stream",
     "text": [
      "\r",
      "98it [00:03, 30.23it/s]"
     ]
    },
    {
     "name": "stdout",
     "output_type": "stream",
     "text": [
      "80\n",
      "99\n",
      "85\n",
      "100\n"
     ]
    },
    {
     "name": "stderr",
     "output_type": "stream",
     "text": [
      "105it [00:03, 23.84it/s]"
     ]
    },
    {
     "name": "stdout",
     "output_type": "stream",
     "text": [
      "86\n",
      "101\n",
      "95\n",
      "109\n",
      "106\n"
     ]
    },
    {
     "name": "stderr",
     "output_type": "stream",
     "text": [
      "\r",
      "109it [00:03, 23.54it/s]"
     ]
    },
    {
     "name": "stdout",
     "output_type": "stream",
     "text": [
      "112\n",
      "98\n",
      "113\n",
      "103\n"
     ]
    },
    {
     "name": "stderr",
     "output_type": "stream",
     "text": [
      "121it [00:03, 32.95it/s]"
     ]
    },
    {
     "name": "stdout",
     "output_type": "stream",
     "text": [
      "105\n",
      "107\n",
      "None\n",
      "None\n",
      "104\n",
      "119\n",
      "108\n",
      "121\n",
      "None\n",
      "123\n",
      "116\n"
     ]
    },
    {
     "name": "stderr",
     "output_type": "stream",
     "text": [
      "129it [00:04, 33.81it/s]"
     ]
    },
    {
     "name": "stdout",
     "output_type": "stream",
     "text": [
      "126\n",
      "124\n",
      "125\n",
      "117\n",
      "128\n",
      "110\n",
      "114\n",
      "111\n",
      "129\n",
      "134\n",
      "120\n"
     ]
    },
    {
     "name": "stderr",
     "output_type": "stream",
     "text": [
      "139it [00:04, 27.57it/s]"
     ]
    },
    {
     "name": "stdout",
     "output_type": "stream",
     "text": [
      "122\n",
      "118\n",
      "130\n",
      "132\n",
      "131\n",
      "None\n",
      "133\n",
      "138\n",
      "135\n",
      "148\n",
      "136\n"
     ]
    },
    {
     "name": "stderr",
     "output_type": "stream",
     "text": [
      "\r",
      "144it [00:04, 29.35it/s]"
     ]
    },
    {
     "name": "stdout",
     "output_type": "stream",
     "text": [
      "137\n",
      "141\n",
      "152\n",
      "None\n",
      "None\n",
      "150\n",
      "139\n"
     ]
    },
    {
     "name": "stderr",
     "output_type": "stream",
     "text": [
      "157it [00:05, 35.58it/s]"
     ]
    },
    {
     "name": "stdout",
     "output_type": "stream",
     "text": [
      "145\n",
      "None\n",
      "142\n",
      "146\n",
      "140\n",
      "156\n",
      "155\n",
      "151\n"
     ]
    },
    {
     "name": "stderr",
     "output_type": "stream",
     "text": [
      "\r",
      "162it [00:05, 27.41it/s]"
     ]
    },
    {
     "name": "stdout",
     "output_type": "stream",
     "text": [
      "157\n",
      "None\n",
      "154\n",
      "164\n",
      "153\n",
      "147\n",
      "160\n",
      "162\n"
     ]
    },
    {
     "name": "stderr",
     "output_type": "stream",
     "text": [
      "\r",
      "167it [00:05, 25.61it/s]"
     ]
    },
    {
     "name": "stdout",
     "output_type": "stream",
     "text": [
      "173\n",
      "165\n",
      "169\n",
      "163\n"
     ]
    },
    {
     "name": "stderr",
     "output_type": "stream",
     "text": [
      "180it [00:05, 33.67it/s]"
     ]
    },
    {
     "name": "stdout",
     "output_type": "stream",
     "text": [
      "159\n",
      "None\n",
      "None\n",
      "183\n",
      "174\n",
      "158\n",
      "161\n",
      "167\n",
      "170\n",
      "166\n",
      "186\n"
     ]
    },
    {
     "name": "stderr",
     "output_type": "stream",
     "text": [
      "189it [00:06, 29.36it/s]"
     ]
    },
    {
     "name": "stdout",
     "output_type": "stream",
     "text": [
      "189\n",
      "None\n",
      "179\n",
      "181\n",
      "171\n",
      "195\n",
      "None\n",
      "176\n",
      "None\n",
      "192\n",
      "196\n"
     ]
    },
    {
     "name": "stderr",
     "output_type": "stream",
     "text": [
      "\r",
      "198it [00:06, 34.98it/s]"
     ]
    },
    {
     "name": "stdout",
     "output_type": "stream",
     "text": [
      "194\n",
      "197\n",
      "None\n",
      "175\n",
      "180\n",
      "184\n"
     ]
    },
    {
     "name": "stderr",
     "output_type": "stream",
     "text": [
      "\r",
      "202it [00:06, 32.19it/s]"
     ]
    },
    {
     "name": "stdout",
     "output_type": "stream",
     "text": [
      "172\n",
      "188\n",
      "187\n",
      "191\n",
      "185\n"
     ]
    },
    {
     "name": "stderr",
     "output_type": "stream",
     "text": [
      "209it [00:07, 23.92it/s]"
     ]
    },
    {
     "name": "stdout",
     "output_type": "stream",
     "text": [
      "193\n",
      "199\n",
      "198\n",
      "216\n",
      "208\n",
      "206\n"
     ]
    },
    {
     "name": "stderr",
     "output_type": "stream",
     "text": [
      "218it [00:07, 31.80it/s]"
     ]
    },
    {
     "name": "stdout",
     "output_type": "stream",
     "text": [
      "205\n",
      "215\n",
      "211\n",
      "222\n",
      "204\n",
      "209\n",
      "201\n",
      "212\n",
      "214\n"
     ]
    },
    {
     "name": "stderr",
     "output_type": "stream",
     "text": [
      "\r",
      "222it [00:07, 28.07it/s]"
     ]
    },
    {
     "name": "stdout",
     "output_type": "stream",
     "text": [
      "217\n",
      "227\n",
      "224\n",
      "221\n",
      "223\n",
      "207\n"
     ]
    },
    {
     "name": "stderr",
     "output_type": "stream",
     "text": [
      "230it [00:07, 30.89it/s]"
     ]
    },
    {
     "name": "stdout",
     "output_type": "stream",
     "text": [
      "200\n",
      "219\n",
      "210\n",
      "228\n",
      "229\n",
      "232\n",
      "231\n",
      "None\n",
      "None\n"
     ]
    },
    {
     "name": "stderr",
     "output_type": "stream",
     "text": [
      "\r",
      "234it [00:07, 30.49it/s]"
     ]
    },
    {
     "name": "stdout",
     "output_type": "stream",
     "text": [
      "233\n",
      "238\n",
      "226\n"
     ]
    },
    {
     "name": "stderr",
     "output_type": "stream",
     "text": [
      "\r",
      "238it [00:08, 24.17it/s]"
     ]
    },
    {
     "name": "stdout",
     "output_type": "stream",
     "text": [
      "239\n",
      "236\n",
      "234\n",
      "230\n"
     ]
    },
    {
     "name": "stderr",
     "output_type": "stream",
     "text": [
      "248it [00:08, 28.23it/s]"
     ]
    },
    {
     "name": "stdout",
     "output_type": "stream",
     "text": [
      "237\n",
      "243\n",
      "245\n",
      "None\n",
      "241\n",
      "246\n",
      "247\n",
      "240\n"
     ]
    },
    {
     "name": "stderr",
     "output_type": "stream",
     "text": [
      "\r",
      "252it [00:08, 26.63it/s]"
     ]
    },
    {
     "name": "stdout",
     "output_type": "stream",
     "text": [
      "249\n",
      "253\n",
      "250\n",
      "242\n",
      "255\n",
      "244\n",
      "None\n"
     ]
    },
    {
     "name": "stderr",
     "output_type": "stream",
     "text": [
      "260it [00:09, 25.46it/s]"
     ]
    },
    {
     "name": "stdout",
     "output_type": "stream",
     "text": [
      "251\n",
      "257\n",
      "261\n",
      "267\n",
      "264\n"
     ]
    },
    {
     "name": "stderr",
     "output_type": "stream",
     "text": [
      "\r",
      "265it [00:09, 30.23it/s]"
     ]
    },
    {
     "name": "stdout",
     "output_type": "stream",
     "text": [
      "265\n",
      "252\n",
      "260\n",
      "None\n",
      "259\n",
      "258\n",
      "None\n",
      "None\n",
      "235\n",
      "None\n",
      "254\n",
      "256\n",
      "None\n",
      "270\n",
      "248\n",
      "275\n"
     ]
    },
    {
     "name": "stderr",
     "output_type": "stream",
     "text": [
      "\r",
      "277it [00:09, 35.88it/s]"
     ]
    },
    {
     "name": "stdout",
     "output_type": "stream",
     "text": [
      "269\n",
      "266\n",
      "271\n",
      "268\n"
     ]
    },
    {
     "name": "stderr",
     "output_type": "stream",
     "text": [
      "288it [00:09, 31.84it/s]"
     ]
    },
    {
     "name": "stdout",
     "output_type": "stream",
     "text": [
      "282\n",
      "272\n",
      "273\n",
      "None\n",
      "276\n",
      "284\n",
      "None\n",
      "289\n",
      "None\n",
      "None\n"
     ]
    },
    {
     "name": "stderr",
     "output_type": "stream",
     "text": [
      "301it [00:10, 42.78it/s]"
     ]
    },
    {
     "name": "stdout",
     "output_type": "stream",
     "text": [
      "278\n",
      "287\n",
      "279\n",
      "290\n",
      "281\n",
      "277\n",
      "280\n",
      "283\n",
      "None\n",
      "None\n",
      "291\n",
      "286\n",
      "293\n",
      "None\n",
      "None\n",
      "288\n"
     ]
    },
    {
     "name": "stderr",
     "output_type": "stream",
     "text": [
      "311it [00:10, 30.31it/s]"
     ]
    },
    {
     "name": "stdout",
     "output_type": "stream",
     "text": [
      "296\n",
      "308\n",
      "311\n",
      "292\n",
      "301\n",
      "310\n",
      "299\n",
      "305\n",
      "306\n",
      "304\n",
      "None\n"
     ]
    },
    {
     "name": "stderr",
     "output_type": "stream",
     "text": [
      "\r",
      "319it [00:10, 39.10it/s]"
     ]
    },
    {
     "name": "stdout",
     "output_type": "stream",
     "text": [
      "307\n",
      "309\n",
      "295\n",
      "318\n",
      "303\n",
      "316\n"
     ]
    },
    {
     "name": "stderr",
     "output_type": "stream",
     "text": [
      "\r",
      "324it [00:10, 33.37it/s]"
     ]
    },
    {
     "name": "stdout",
     "output_type": "stream",
     "text": [
      "326\n",
      "325\n",
      "315\n"
     ]
    },
    {
     "name": "stderr",
     "output_type": "stream",
     "text": [
      "333it [00:11, 27.94it/s]"
     ]
    },
    {
     "name": "stdout",
     "output_type": "stream",
     "text": [
      "312\n",
      "313\n",
      "327\n",
      "336\n",
      "323\n",
      "321\n",
      "324\n",
      "332\n"
     ]
    },
    {
     "name": "stderr",
     "output_type": "stream",
     "text": [
      "\r",
      "339it [00:11, 30.62it/s]"
     ]
    },
    {
     "name": "stdout",
     "output_type": "stream",
     "text": [
      "322\n",
      "333\n",
      "328\n",
      "331\n",
      "351\n",
      "344\n",
      "337\n",
      "352\n",
      "338\n",
      "349\n",
      "346\n",
      "340\n",
      "339\n"
     ]
    },
    {
     "name": "stderr",
     "output_type": "stream",
     "text": [
      "358it [00:11, 30.66it/s]"
     ]
    },
    {
     "name": "stdout",
     "output_type": "stream",
     "text": [
      "348\n",
      "354\n",
      "343\n",
      "341\n",
      "353\n",
      "356\n",
      "342\n",
      "355\n",
      "350\n",
      "345\n",
      "357\n"
     ]
    },
    {
     "name": "stderr",
     "output_type": "stream",
     "text": [
      "\n"
     ]
    }
   ],
   "source": [
    "PdbqtArray = []\n",
    "with concurrent.futures.ProcessPoolExecutor() as executor:\n",
    "    out = {executor.submit(PdbqtConverter,i): i for i in range(358)}\n",
    "    for future in tqdm(concurrent.futures.as_completed(out)):\n",
    "        fp = future.result()\n",
    "        print(fp)\n",
    "        PdbqtArray.append(fp)  "
   ]
  },
  {
   "cell_type": "code",
   "execution_count": 48,
   "id": "fa335f9c",
   "metadata": {},
   "outputs": [
    {
     "data": {
      "text/plain": [
       "Counter({None: 57,\n",
       "         5: 1,\n",
       "         24: 1,\n",
       "         0: 1,\n",
       "         12: 1,\n",
       "         14: 1,\n",
       "         6: 1,\n",
       "         19: 1,\n",
       "         17: 1,\n",
       "         20: 1,\n",
       "         11: 1,\n",
       "         25: 1,\n",
       "         7: 1,\n",
       "         31: 1,\n",
       "         29: 1,\n",
       "         18: 1,\n",
       "         28: 1,\n",
       "         16: 1,\n",
       "         34: 1,\n",
       "         32: 1,\n",
       "         21: 1,\n",
       "         22: 1,\n",
       "         39: 1,\n",
       "         23: 1,\n",
       "         3: 1,\n",
       "         40: 1,\n",
       "         27: 1,\n",
       "         33: 1,\n",
       "         35: 1,\n",
       "         36: 1,\n",
       "         41: 1,\n",
       "         46: 1,\n",
       "         51: 1,\n",
       "         45: 1,\n",
       "         52: 1,\n",
       "         48: 1,\n",
       "         62: 1,\n",
       "         42: 1,\n",
       "         58: 1,\n",
       "         30: 1,\n",
       "         57: 1,\n",
       "         50: 1,\n",
       "         59: 1,\n",
       "         47: 1,\n",
       "         63: 1,\n",
       "         56: 1,\n",
       "         61: 1,\n",
       "         54: 1,\n",
       "         44: 1,\n",
       "         49: 1,\n",
       "         74: 1,\n",
       "         69: 1,\n",
       "         71: 1,\n",
       "         65: 1,\n",
       "         70: 1,\n",
       "         77: 1,\n",
       "         75: 1,\n",
       "         66: 1,\n",
       "         64: 1,\n",
       "         79: 1,\n",
       "         83: 1,\n",
       "         72: 1,\n",
       "         94: 1,\n",
       "         68: 1,\n",
       "         87: 1,\n",
       "         73: 1,\n",
       "         81: 1,\n",
       "         96: 1,\n",
       "         90: 1,\n",
       "         93: 1,\n",
       "         97: 1,\n",
       "         84: 1,\n",
       "         82: 1,\n",
       "         80: 1,\n",
       "         99: 1,\n",
       "         85: 1,\n",
       "         100: 1,\n",
       "         86: 1,\n",
       "         101: 1,\n",
       "         95: 1,\n",
       "         109: 1,\n",
       "         106: 1,\n",
       "         112: 1,\n",
       "         98: 1,\n",
       "         113: 1,\n",
       "         103: 1,\n",
       "         105: 1,\n",
       "         107: 1,\n",
       "         104: 1,\n",
       "         119: 1,\n",
       "         108: 1,\n",
       "         121: 1,\n",
       "         123: 1,\n",
       "         116: 1,\n",
       "         126: 1,\n",
       "         124: 1,\n",
       "         125: 1,\n",
       "         117: 1,\n",
       "         128: 1,\n",
       "         110: 1,\n",
       "         114: 1,\n",
       "         111: 1,\n",
       "         129: 1,\n",
       "         134: 1,\n",
       "         120: 1,\n",
       "         122: 1,\n",
       "         118: 1,\n",
       "         130: 1,\n",
       "         132: 1,\n",
       "         131: 1,\n",
       "         133: 1,\n",
       "         138: 1,\n",
       "         135: 1,\n",
       "         148: 1,\n",
       "         136: 1,\n",
       "         137: 1,\n",
       "         141: 1,\n",
       "         152: 1,\n",
       "         150: 1,\n",
       "         139: 1,\n",
       "         145: 1,\n",
       "         142: 1,\n",
       "         146: 1,\n",
       "         140: 1,\n",
       "         156: 1,\n",
       "         155: 1,\n",
       "         151: 1,\n",
       "         157: 1,\n",
       "         154: 1,\n",
       "         164: 1,\n",
       "         153: 1,\n",
       "         147: 1,\n",
       "         160: 1,\n",
       "         162: 1,\n",
       "         173: 1,\n",
       "         165: 1,\n",
       "         169: 1,\n",
       "         163: 1,\n",
       "         159: 1,\n",
       "         183: 1,\n",
       "         174: 1,\n",
       "         158: 1,\n",
       "         161: 1,\n",
       "         167: 1,\n",
       "         170: 1,\n",
       "         166: 1,\n",
       "         186: 1,\n",
       "         189: 1,\n",
       "         179: 1,\n",
       "         181: 1,\n",
       "         171: 1,\n",
       "         195: 1,\n",
       "         176: 1,\n",
       "         192: 1,\n",
       "         196: 1,\n",
       "         194: 1,\n",
       "         197: 1,\n",
       "         175: 1,\n",
       "         180: 1,\n",
       "         184: 1,\n",
       "         172: 1,\n",
       "         188: 1,\n",
       "         187: 1,\n",
       "         191: 1,\n",
       "         185: 1,\n",
       "         193: 1,\n",
       "         199: 1,\n",
       "         198: 1,\n",
       "         216: 1,\n",
       "         208: 1,\n",
       "         206: 1,\n",
       "         205: 1,\n",
       "         215: 1,\n",
       "         211: 1,\n",
       "         222: 1,\n",
       "         204: 1,\n",
       "         209: 1,\n",
       "         201: 1,\n",
       "         212: 1,\n",
       "         214: 1,\n",
       "         217: 1,\n",
       "         227: 1,\n",
       "         224: 1,\n",
       "         221: 1,\n",
       "         223: 1,\n",
       "         207: 1,\n",
       "         200: 1,\n",
       "         219: 1,\n",
       "         210: 1,\n",
       "         228: 1,\n",
       "         229: 1,\n",
       "         232: 1,\n",
       "         231: 1,\n",
       "         233: 1,\n",
       "         238: 1,\n",
       "         226: 1,\n",
       "         239: 1,\n",
       "         236: 1,\n",
       "         234: 1,\n",
       "         230: 1,\n",
       "         237: 1,\n",
       "         243: 1,\n",
       "         245: 1,\n",
       "         241: 1,\n",
       "         246: 1,\n",
       "         247: 1,\n",
       "         240: 1,\n",
       "         249: 1,\n",
       "         253: 1,\n",
       "         250: 1,\n",
       "         242: 1,\n",
       "         255: 1,\n",
       "         244: 1,\n",
       "         251: 1,\n",
       "         257: 1,\n",
       "         261: 1,\n",
       "         267: 1,\n",
       "         264: 1,\n",
       "         265: 1,\n",
       "         252: 1,\n",
       "         260: 1,\n",
       "         259: 1,\n",
       "         258: 1,\n",
       "         235: 1,\n",
       "         254: 1,\n",
       "         256: 1,\n",
       "         270: 1,\n",
       "         248: 1,\n",
       "         275: 1,\n",
       "         269: 1,\n",
       "         266: 1,\n",
       "         271: 1,\n",
       "         268: 1,\n",
       "         282: 1,\n",
       "         272: 1,\n",
       "         273: 1,\n",
       "         276: 1,\n",
       "         284: 1,\n",
       "         289: 1,\n",
       "         278: 1,\n",
       "         287: 1,\n",
       "         279: 1,\n",
       "         290: 1,\n",
       "         281: 1,\n",
       "         277: 1,\n",
       "         280: 1,\n",
       "         283: 1,\n",
       "         291: 1,\n",
       "         286: 1,\n",
       "         293: 1,\n",
       "         288: 1,\n",
       "         296: 1,\n",
       "         308: 1,\n",
       "         311: 1,\n",
       "         292: 1,\n",
       "         301: 1,\n",
       "         310: 1,\n",
       "         299: 1,\n",
       "         305: 1,\n",
       "         306: 1,\n",
       "         304: 1,\n",
       "         307: 1,\n",
       "         309: 1,\n",
       "         295: 1,\n",
       "         318: 1,\n",
       "         303: 1,\n",
       "         316: 1,\n",
       "         326: 1,\n",
       "         325: 1,\n",
       "         315: 1,\n",
       "         312: 1,\n",
       "         313: 1,\n",
       "         327: 1,\n",
       "         336: 1,\n",
       "         323: 1,\n",
       "         321: 1,\n",
       "         324: 1,\n",
       "         332: 1,\n",
       "         322: 1,\n",
       "         333: 1,\n",
       "         328: 1,\n",
       "         331: 1,\n",
       "         351: 1,\n",
       "         344: 1,\n",
       "         337: 1,\n",
       "         352: 1,\n",
       "         338: 1,\n",
       "         349: 1,\n",
       "         346: 1,\n",
       "         340: 1,\n",
       "         339: 1,\n",
       "         348: 1,\n",
       "         354: 1,\n",
       "         343: 1,\n",
       "         341: 1,\n",
       "         353: 1,\n",
       "         356: 1,\n",
       "         342: 1,\n",
       "         355: 1,\n",
       "         350: 1,\n",
       "         345: 1,\n",
       "         357: 1})"
      ]
     },
     "execution_count": 48,
     "metadata": {},
     "output_type": "execute_result"
    }
   ],
   "source": [
    "Counter(PdbqtArray)"
   ]
  },
  {
   "cell_type": "code",
   "execution_count": null,
   "id": "25a2c70a",
   "metadata": {},
   "outputs": [],
   "source": []
  }
 ],
 "metadata": {
  "kernelspec": {
   "display_name": "Python 3 (ipykernel)",
   "language": "python",
   "name": "python3"
  },
  "language_info": {
   "codemirror_mode": {
    "name": "ipython",
    "version": 3
   },
   "file_extension": ".py",
   "mimetype": "text/x-python",
   "name": "python",
   "nbconvert_exporter": "python",
   "pygments_lexer": "ipython3",
   "version": "3.10.4"
  }
 },
 "nbformat": 4,
 "nbformat_minor": 5
}
