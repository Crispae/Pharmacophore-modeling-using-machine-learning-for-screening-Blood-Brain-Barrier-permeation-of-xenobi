{
 "cells": [
  {
   "cell_type": "markdown",
   "id": "c03e041b",
   "metadata": {},
   "source": [
    "#### Creating loop to capture residues bind with the drug"
   ]
  },
  {
   "cell_type": "code",
   "execution_count": 1,
   "id": "ddc0dcf5",
   "metadata": {},
   "outputs": [],
   "source": [
    "import subprocess\n",
    "from tqdm import tqdm\n",
    "import sys\n",
    "import os\n",
    "import concurrent\n",
    "from tqdm import tqdm"
   ]
  },
  {
   "cell_type": "code",
   "execution_count": 2,
   "id": "4a501b41",
   "metadata": {},
   "outputs": [
    {
     "data": {
      "text/plain": [
       "'C:\\\\Users\\\\Y-8874903-E.ESTUDIANT\\\\Anaconda3\\\\python.exe'"
      ]
     },
     "execution_count": 2,
     "metadata": {},
     "output_type": "execute_result"
    }
   ],
   "source": [
    "sys.executable"
   ]
  },
  {
   "cell_type": "code",
   "execution_count": 3,
   "id": "74b85c17",
   "metadata": {},
   "outputs": [
    {
     "name": "stderr",
     "output_type": "stream",
     "text": [
      "'pwd' is not recognized as an internal or external command,\n",
      "operable program or batch file.\n"
     ]
    }
   ],
   "source": [
    "!pwd"
   ]
  },
  {
   "cell_type": "code",
   "execution_count": 4,
   "id": "6d4bf61e",
   "metadata": {},
   "outputs": [],
   "source": [
    "def VinaResult(file):\n",
    "    if os.path.isfile(f\"DockedPDBQT/{file}_out_out.pdbqt\"):\n",
    "        os.system(f\"\"\"process_VinaResult.py -f DockedPDBQT/{file}_out_out.pdbqt -r protein/6fn1_minimized.pdbqt -B -x 1 -p\"\"\")\n",
    "        return file\n",
    "    else:\n",
    "        return None"
   ]
  },
  {
   "cell_type": "code",
   "execution_count": 5,
   "id": "65965657",
   "metadata": {},
   "outputs": [
    {
     "name": "stderr",
     "output_type": "stream",
     "text": [
      "0it [00:00, ?it/s]\n"
     ]
    },
    {
     "ename": "BrokenProcessPool",
     "evalue": "A process in the process pool was terminated abruptly while the future was running or pending.",
     "output_type": "error",
     "traceback": [
      "\u001b[1;31m---------------------------------------------------------------------------\u001b[0m",
      "\u001b[1;31mBrokenProcessPool\u001b[0m                         Traceback (most recent call last)",
      "\u001b[1;32mC:\\Users\\Y-8874~1.EST\\AppData\\Local\\Temp/ipykernel_14168/3451719547.py\u001b[0m in \u001b[0;36m<module>\u001b[1;34m\u001b[0m\n\u001b[0;32m      3\u001b[0m     \u001b[0mout\u001b[0m \u001b[1;33m=\u001b[0m \u001b[1;33m{\u001b[0m\u001b[0mexecutor\u001b[0m\u001b[1;33m.\u001b[0m\u001b[0msubmit\u001b[0m\u001b[1;33m(\u001b[0m\u001b[0mVinaResult\u001b[0m\u001b[1;33m,\u001b[0m\u001b[0mi\u001b[0m\u001b[1;33m)\u001b[0m\u001b[1;33m:\u001b[0m \u001b[0mi\u001b[0m \u001b[1;32mfor\u001b[0m \u001b[0mi\u001b[0m \u001b[1;32min\u001b[0m \u001b[0mrange\u001b[0m\u001b[1;33m(\u001b[0m\u001b[1;36m358\u001b[0m\u001b[1;33m)\u001b[0m\u001b[1;33m}\u001b[0m\u001b[1;33m\u001b[0m\u001b[1;33m\u001b[0m\u001b[0m\n\u001b[0;32m      4\u001b[0m     \u001b[1;32mfor\u001b[0m \u001b[0mfuture\u001b[0m \u001b[1;32min\u001b[0m \u001b[0mtqdm\u001b[0m\u001b[1;33m(\u001b[0m\u001b[0mconcurrent\u001b[0m\u001b[1;33m.\u001b[0m\u001b[0mfutures\u001b[0m\u001b[1;33m.\u001b[0m\u001b[0mas_completed\u001b[0m\u001b[1;33m(\u001b[0m\u001b[0mout\u001b[0m\u001b[1;33m)\u001b[0m\u001b[1;33m)\u001b[0m\u001b[1;33m:\u001b[0m\u001b[1;33m\u001b[0m\u001b[1;33m\u001b[0m\u001b[0m\n\u001b[1;32m----> 5\u001b[1;33m         \u001b[0mfp\u001b[0m \u001b[1;33m=\u001b[0m \u001b[0mfuture\u001b[0m\u001b[1;33m.\u001b[0m\u001b[0mresult\u001b[0m\u001b[1;33m(\u001b[0m\u001b[1;33m)\u001b[0m\u001b[1;33m\u001b[0m\u001b[1;33m\u001b[0m\u001b[0m\n\u001b[0m\u001b[0;32m      6\u001b[0m         \u001b[0mprint\u001b[0m\u001b[1;33m(\u001b[0m\u001b[0mfp\u001b[0m\u001b[1;33m)\u001b[0m\u001b[1;33m\u001b[0m\u001b[1;33m\u001b[0m\u001b[0m\n\u001b[0;32m      7\u001b[0m         \u001b[0mResArray\u001b[0m\u001b[1;33m.\u001b[0m\u001b[0mappend\u001b[0m\u001b[1;33m(\u001b[0m\u001b[0mfp\u001b[0m\u001b[1;33m)\u001b[0m\u001b[1;33m\u001b[0m\u001b[1;33m\u001b[0m\u001b[0m\n",
      "\u001b[1;32m~\\Anaconda3\\lib\\concurrent\\futures\\_base.py\u001b[0m in \u001b[0;36mresult\u001b[1;34m(self, timeout)\u001b[0m\n\u001b[0;32m    436\u001b[0m                     \u001b[1;32mraise\u001b[0m \u001b[0mCancelledError\u001b[0m\u001b[1;33m(\u001b[0m\u001b[1;33m)\u001b[0m\u001b[1;33m\u001b[0m\u001b[1;33m\u001b[0m\u001b[0m\n\u001b[0;32m    437\u001b[0m                 \u001b[1;32melif\u001b[0m \u001b[0mself\u001b[0m\u001b[1;33m.\u001b[0m\u001b[0m_state\u001b[0m \u001b[1;33m==\u001b[0m \u001b[0mFINISHED\u001b[0m\u001b[1;33m:\u001b[0m\u001b[1;33m\u001b[0m\u001b[1;33m\u001b[0m\u001b[0m\n\u001b[1;32m--> 438\u001b[1;33m                     \u001b[1;32mreturn\u001b[0m \u001b[0mself\u001b[0m\u001b[1;33m.\u001b[0m\u001b[0m__get_result\u001b[0m\u001b[1;33m(\u001b[0m\u001b[1;33m)\u001b[0m\u001b[1;33m\u001b[0m\u001b[1;33m\u001b[0m\u001b[0m\n\u001b[0m\u001b[0;32m    439\u001b[0m \u001b[1;33m\u001b[0m\u001b[0m\n\u001b[0;32m    440\u001b[0m                 \u001b[0mself\u001b[0m\u001b[1;33m.\u001b[0m\u001b[0m_condition\u001b[0m\u001b[1;33m.\u001b[0m\u001b[0mwait\u001b[0m\u001b[1;33m(\u001b[0m\u001b[0mtimeout\u001b[0m\u001b[1;33m)\u001b[0m\u001b[1;33m\u001b[0m\u001b[1;33m\u001b[0m\u001b[0m\n",
      "\u001b[1;32m~\\Anaconda3\\lib\\concurrent\\futures\\_base.py\u001b[0m in \u001b[0;36m__get_result\u001b[1;34m(self)\u001b[0m\n\u001b[0;32m    388\u001b[0m         \u001b[1;32mif\u001b[0m \u001b[0mself\u001b[0m\u001b[1;33m.\u001b[0m\u001b[0m_exception\u001b[0m\u001b[1;33m:\u001b[0m\u001b[1;33m\u001b[0m\u001b[1;33m\u001b[0m\u001b[0m\n\u001b[0;32m    389\u001b[0m             \u001b[1;32mtry\u001b[0m\u001b[1;33m:\u001b[0m\u001b[1;33m\u001b[0m\u001b[1;33m\u001b[0m\u001b[0m\n\u001b[1;32m--> 390\u001b[1;33m                 \u001b[1;32mraise\u001b[0m \u001b[0mself\u001b[0m\u001b[1;33m.\u001b[0m\u001b[0m_exception\u001b[0m\u001b[1;33m\u001b[0m\u001b[1;33m\u001b[0m\u001b[0m\n\u001b[0m\u001b[0;32m    391\u001b[0m             \u001b[1;32mfinally\u001b[0m\u001b[1;33m:\u001b[0m\u001b[1;33m\u001b[0m\u001b[1;33m\u001b[0m\u001b[0m\n\u001b[0;32m    392\u001b[0m                 \u001b[1;31m# Break a reference cycle with the exception in self._exception\u001b[0m\u001b[1;33m\u001b[0m\u001b[1;33m\u001b[0m\u001b[0m\n",
      "\u001b[1;31mBrokenProcessPool\u001b[0m: A process in the process pool was terminated abruptly while the future was running or pending."
     ]
    }
   ],
   "source": [
    "ResArray = []\n",
    "with concurrent.futures.ProcessPoolExecutor() as executor:\n",
    "    out = {executor.submit(VinaResult,i): i for i in range(358)}\n",
    "    for future in tqdm(concurrent.futures.as_completed(out)):\n",
    "        fp = future.result()\n",
    "        print(fp)\n",
    "        ResArray.append(fp)  "
   ]
  },
  {
   "cell_type": "code",
   "execution_count": 4,
   "id": "4df92930",
   "metadata": {},
   "outputs": [],
   "source": [
    "### Exrtact Data\n",
    "import re"
   ]
  },
  {
   "cell_type": "code",
   "execution_count": 5,
   "id": "eb2c631f",
   "metadata": {},
   "outputs": [
    {
     "name": "stdout",
     "output_type": "stream",
     "text": [
      "/home/saurav/Desktop/P-gp data\r\n"
     ]
    }
   ],
   "source": [
    "!pwd"
   ]
  },
  {
   "cell_type": "code",
   "execution_count": 6,
   "id": "49759bfe",
   "metadata": {},
   "outputs": [],
   "source": [
    "def interactionMapper(file_num):\n",
    "    efficiency = []\n",
    "    nInteraction = []\n",
    "    Iresidues= []\n",
    "    LigandAtomNum = []\n",
    "    \n",
    "    if os.path.isfile(f\"vinaRes/{file_num}_out_out_model1.pdbqt\"):\n",
    "        \n",
    "        with open(f\"vinaRes/{file_num}_out_out_model1.pdbqt\",\"r\") as file:\n",
    "            lines = file.readlines()\n",
    "\n",
    "        for i in lines:\n",
    "            if re.findall(\"ligand efficiency\",i):\n",
    "                efficiency.append(float(i.strip(\"USER  AD>  ligand efficiency  \",).strip(\"\\n\")))\n",
    "\n",
    "            if re.findall(\"macro_close_ats\",i):\n",
    "                Iresidues.append(int(i.strip(\"USER  AD> macro_close_ats: \",).strip(\"\\n\")))\n",
    "\n",
    "            if re.findall(\"AD> 6fn1_minimized:\",i):\n",
    "                nInteraction.append(i.strip(\"USER  AD> 6fn1_minimized: :\",).strip(\"\\n\"))\n",
    "\n",
    "            if re.findall(\"lig_close_ats\",i):\n",
    "                LigandAtomNum.append(int(i.strip(\"USER  AD> lig_close_ats: \",).strip(\"\\n\")))\n",
    "\n",
    "        return (efficiency,nInteraction,Iresidues,LigandAtomNum,file_num)\n",
    "    else:\n",
    "        return (None,file_num)"
   ]
  },
  {
   "cell_type": "code",
   "execution_count": 7,
   "id": "b7cb2edd",
   "metadata": {},
   "outputs": [
    {
     "name": "stderr",
     "output_type": "stream",
     "text": [
      "358it [00:00, 2093.46it/s]\n"
     ]
    },
    {
     "name": "stdout",
     "output_type": "stream",
     "text": [
      "1\n",
      "0\n",
      "2\n",
      "4\n",
      "3\n",
      "8\n",
      "9\n",
      "10\n",
      "13\n",
      "15\n",
      "5\n",
      "16\n",
      "7\n",
      "6\n",
      "26\n",
      "11\n",
      "14\n",
      "28\n",
      "12\n",
      "29\n",
      "35\n",
      "30\n",
      "21\n",
      "37\n",
      "17\n",
      "36\n",
      "19\n",
      "18\n",
      "23\n",
      "33\n",
      "32\n",
      "20\n",
      "22\n",
      "24\n",
      "25\n",
      "27\n",
      "34\n",
      "31\n",
      "38\n",
      "39\n",
      "40\n",
      "42\n",
      "41\n",
      "43\n",
      "44\n",
      "52\n",
      "53\n",
      "55\n",
      "47\n",
      "49\n",
      "60\n",
      "45\n",
      "64\n",
      "54\n",
      "67\n",
      "58\n",
      "59\n",
      "62\n",
      "66\n",
      "61\n",
      "71\n",
      "73\n",
      "65\n",
      "46\n",
      "51\n",
      "63\n",
      "74\n",
      "69\n",
      "75\n",
      "72\n",
      "48\n",
      "56\n",
      "68\n",
      "50\n",
      "57\n",
      "70\n",
      "76\n",
      "78\n",
      "77\n",
      "79\n",
      "81\n",
      "80\n",
      "88\n",
      "89\n",
      "83\n",
      "90\n",
      "85\n",
      "91\n",
      "92\n",
      "82\n",
      "84\n",
      "98\n",
      "102\n",
      "104\n",
      "94\n",
      "87\n",
      "96\n",
      "93\n",
      "101\n",
      "100\n",
      "103\n",
      "95\n",
      "99\n",
      "108\n",
      "110\n",
      "106\n",
      "86\n",
      "107\n",
      "97\n",
      "109\n",
      "105\n",
      "111\n",
      "112\n",
      "115\n",
      "116\n",
      "114\n",
      "117\n",
      "127\n",
      "113\n",
      "118\n",
      "119\n",
      "122\n",
      "121\n",
      "120\n",
      "124\n",
      "130\n",
      "143\n",
      "123\n",
      "144\n",
      "129\n",
      "128\n",
      "126\n",
      "132\n",
      "135\n",
      "125\n",
      "134\n",
      "133\n",
      "131\n",
      "137\n",
      "139\n",
      "142\n",
      "140\n",
      "136\n",
      "145\n",
      "141\n",
      "138\n",
      "146\n",
      "147\n",
      "148\n",
      "149\n",
      "151\n",
      "156\n",
      "152\n",
      "155\n",
      "154\n",
      "168\n",
      "153\n",
      "169\n",
      "150\n",
      "157\n",
      "172\n",
      "163\n",
      "161\n",
      "166\n",
      "160\n",
      "165\n",
      "178\n",
      "177\n",
      "162\n",
      "159\n",
      "173\n",
      "167\n",
      "175\n",
      "164\n",
      "176\n",
      "158\n",
      "171\n",
      "174\n",
      "170\n",
      "180\n",
      "182\n",
      "179\n",
      "190\n",
      "183\n",
      "184\n",
      "192\n",
      "189\n",
      "187\n",
      "186\n",
      "202\n",
      "203\n",
      "198\n",
      "195\n",
      "185\n",
      "188\n",
      "191\n",
      "200\n",
      "193\n",
      "199\n",
      "196\n",
      "197\n",
      "204\n",
      "194\n",
      "210\n",
      "201\n",
      "205\n",
      "207\n",
      "206\n",
      "211\n",
      "208\n",
      "212\n",
      "209\n",
      "181\n",
      "213\n",
      "215\n",
      "214\n",
      "218\n",
      "220\n",
      "225\n",
      "227\n",
      "216\n",
      "217\n",
      "224\n",
      "221\n",
      "223\n",
      "219\n",
      "226\n",
      "222\n",
      "229\n",
      "244\n",
      "239\n",
      "237\n",
      "230\n",
      "234\n",
      "228\n",
      "243\n",
      "232\n",
      "246\n",
      "235\n",
      "236\n",
      "240\n",
      "233\n",
      "241\n",
      "231\n",
      "242\n",
      "238\n",
      "245\n",
      "247\n",
      "248\n",
      "249\n",
      "250\n",
      "252\n",
      "256\n",
      "262\n",
      "251\n",
      "255\n",
      "263\n",
      "266\n",
      "267\n",
      "258\n",
      "264\n",
      "253\n",
      "274\n",
      "254\n",
      "265\n",
      "261\n",
      "259\n",
      "257\n",
      "268\n",
      "260\n",
      "270\n",
      "271\n",
      "273\n",
      "276\n",
      "269\n",
      "272\n",
      "281\n",
      "278\n",
      "279\n",
      "280\n",
      "277\n",
      "275\n",
      "282\n",
      "283\n",
      "284\n",
      "285\n",
      "288\n",
      "286\n",
      "294\n",
      "295\n",
      "297\n",
      "300\n",
      "299\n",
      "298\n",
      "289\n",
      "304\n",
      "302\n",
      "291\n",
      "292\n",
      "296\n",
      "309\n",
      "287\n",
      "314\n",
      "305\n",
      "301\n",
      "306\n",
      "308\n",
      "311\n",
      "290\n",
      "293\n",
      "303\n",
      "310\n",
      "307\n",
      "312\n",
      "313\n",
      "315\n",
      "316\n",
      "317\n",
      "319\n",
      "320\n",
      "321\n",
      "326\n",
      "330\n",
      "329\n",
      "334\n",
      "335\n",
      "318\n",
      "323\n",
      "322\n",
      "325\n",
      "343\n",
      "324\n",
      "340\n",
      "332\n",
      "338\n",
      "336\n",
      "331\n",
      "333\n",
      "327\n",
      "344\n",
      "345\n",
      "339\n",
      "328\n",
      "337\n",
      "342\n",
      "341\n",
      "346\n",
      "347\n",
      "348\n",
      "349\n",
      "350\n",
      "352\n",
      "354\n",
      "356\n",
      "357\n",
      "355\n",
      "353\n",
      "351\n"
     ]
    }
   ],
   "source": [
    "FPArray = []\n",
    "with concurrent.futures.ProcessPoolExecutor() as executor:\n",
    "    out = {executor.submit(interactionMapper,i): i for i in range(358)}\n",
    "    for future in tqdm(concurrent.futures.as_completed(out)):\n",
    "        fp = future.result()\n",
    "        print(fp[-1])\n",
    "        FPArray.append(fp)  "
   ]
  },
  {
   "cell_type": "code",
   "execution_count": 8,
   "id": "70a0b474",
   "metadata": {},
   "outputs": [],
   "source": [
    "SortedFP= sorted(FPArray,key=lambda x:x[-1])"
   ]
  },
  {
   "cell_type": "code",
   "execution_count": 9,
   "id": "2f26627e",
   "metadata": {},
   "outputs": [
    {
     "data": {
      "text/plain": [
       "[([-0.2091],\n",
       "  ['GLN346:CG',\n",
       "   'LEU878:CD1',\n",
       "   'PHE342:CD1',\n",
       "   'TRP231:CG',\n",
       "   'PHE342:CB',\n",
       "   'LA301:CB'],\n",
       "  [6],\n",
       "  [5],\n",
       "  0),\n",
       " (None, 1),\n",
       " (None, 2),\n",
       " ([-0.2333],\n",
       "  ['PHE335:CE2',\n",
       "   'ILE305:CG2',\n",
       "   'TYR952:CE2',\n",
       "   '343:CA',\n",
       "   'LEU338:CG',\n",
       "   'PHE71:CG',\n",
       "   'TYR309:OH',\n",
       "   'TYR952:OH',\n",
       "   'ILE305:CD1',\n",
       "   'LEU338:CD2',\n",
       "   'TYR309:CE1',\n",
       "   'LEU64:CD2',\n",
       "   'PHE982:CZ',\n",
       "   'PHE71:CD1',\n",
       "   'MET68:SD',\n",
       "   'PHE342:CD1'],\n",
       "  [16],\n",
       "  [13],\n",
       "  3),\n",
       " (None, 4),\n",
       " ([-0.26],\n",
       "  ['PHE342:CE1', 'TYR309:OH', 'ILE339:CG2', 'PHE342:CD1', 'ILE305:CD1'],\n",
       "  [5],\n",
       "  [4],\n",
       "  5),\n",
       " ([-0.3214],\n",
       "  ['PHE302:CE2',\n",
       "   'LEU64:CD1',\n",
       "   'LEU338:CG',\n",
       "   'ILE339:CG2',\n",
       "   'PHE727:CD2',\n",
       "   'LEU338:CD2',\n",
       "   'PHE982:CD2',\n",
       "   'MET985:CG',\n",
       "   'ILE305:CD1',\n",
       "   '343:CA'],\n",
       "  [10],\n",
       "  [6],\n",
       "  6),\n",
       " ([-0.405],\n",
       "  ['TRP231:CE3',\n",
       "   'ILE305:CG2',\n",
       "   'LA228:CA',\n",
       "   'PHE342:C',\n",
       "   'PHE342:CD2',\n",
       "   'LA228:CB'],\n",
       "  [6],\n",
       "  [5],\n",
       "  7),\n",
       " (None, 8),\n",
       " (None, 9),\n",
       " (None, 10),\n",
       " ([-0.3529],\n",
       "  ['N720:O', 'MET298:CE', 'GLN772:CG', 'N720:CB', 'N720:C'],\n",
       "  [5],\n",
       "  [4],\n",
       "  11),\n",
       " ([0.2038],\n",
       "  ['ILE339:CG2',\n",
       "   'TYR309:CE2',\n",
       "   'PHE727:CG',\n",
       "   'PHE731:CE2',\n",
       "   'PHE982:CB',\n",
       "   'PHE335:CD2',\n",
       "   'PHE335:CZ',\n",
       "   'TYR309:CZ',\n",
       "   '978:CB',\n",
       "   'MET985:CA',\n",
       "   'MET985:CG',\n",
       "   'PHE727:CE2',\n",
       "   'PHE731:CZ',\n",
       "   'TYR309:OH',\n",
       "   'PHE982:CA',\n",
       "   'PHE335:CE1',\n",
       "   'PHE727:CD2',\n",
       "   'MET948:CE',\n",
       "   'PHE982:CE1',\n",
       "   'PHE727:CZ',\n",
       "   'GLN989:OE1',\n",
       "   'PHE982:CD2',\n",
       "   'PHE982:CG',\n",
       "   'PHE982:CZ',\n",
       "   'PHE335:CE2',\n",
       "   '728:CA',\n",
       "   'PHE982:CD1',\n",
       "   'MET985:CB',\n",
       "   '728:CB'],\n",
       "  [29],\n",
       "  [20],\n",
       "  12),\n",
       " (None, 13),\n",
       " ([-0.4529],\n",
       "  ['PHE769:CB',\n",
       "   'PHE302:CD2',\n",
       "   'N720:CA',\n",
       "   'GLN724:NE2',\n",
       "   'N720:CB',\n",
       "   'PHE769:CG',\n",
       "   'PHE302:CG',\n",
       "   'PHE769:CE2',\n",
       "   'PHE302:CD1',\n",
       "   'N720:C',\n",
       "   'VAL990:CG2',\n",
       "   'PHE769:CD2',\n",
       "   'PHE302:CE1',\n",
       "   'MET298:CE',\n",
       "   'TYR306:OH'],\n",
       "  [15],\n",
       "  [10],\n",
       "  14),\n",
       " (None, 15),\n",
       " (None, 16),\n",
       " ([-0.3107],\n",
       "  ['GLN346:CA',\n",
       "   'PHE342:CD1',\n",
       "   'GLN346:CB',\n",
       "   'TRP231:CZ3',\n",
       "   'LEU878:CD1',\n",
       "   'PHE342:CB',\n",
       "   'GLN346:CG'],\n",
       "  [7],\n",
       "  [11],\n",
       "  17),\n",
       " ([-0.2344],\n",
       "  ['LEU64:CD2',\n",
       "   'N350:OD1',\n",
       "   'PRO349:CG',\n",
       "   'PHE342:CD1',\n",
       "   'TRP231:CE3',\n",
       "   'LEU878:CD2',\n",
       "   'N350:CG',\n",
       "   'LEU878:CD1',\n",
       "   'TRP231:CZ3',\n",
       "   'LA232:CB',\n",
       "   'N350:ND2',\n",
       "   'PHE342:C',\n",
       "   'GLN346:CA',\n",
       "   'PHE342:CB'],\n",
       "  [14],\n",
       "  [14],\n",
       "  18),\n",
       " ([-0.2205],\n",
       "  ['LEU64:CD2',\n",
       "   'LA228:CB',\n",
       "   'PHE342:CE1',\n",
       "   'PHE342:CB',\n",
       "   'ILE339:CG2',\n",
       "   'PHE342:CD1',\n",
       "   'ILE305:CG2',\n",
       "   'PHE342:O',\n",
       "   'TRP231:CE3',\n",
       "   'MET68:CE'],\n",
       "  [10],\n",
       "  [9],\n",
       "  19),\n",
       " ([-0.2368],\n",
       "  ['PHE342:O',\n",
       "   'PHE342:CB',\n",
       "   'ILE305:CG2',\n",
       "   'LA228:CB',\n",
       "   'TRP231:CE3',\n",
       "   'LEU64:CD2',\n",
       "   'PHE342:CD1'],\n",
       "  [7],\n",
       "  [7],\n",
       "  20),\n",
       " ([-0.3333],\n",
       "  ['TRP231:CE2',\n",
       "   'ILE305:CG2',\n",
       "   'TRP231:CD2',\n",
       "   'TRP231:CE3',\n",
       "   'GLN346:CB',\n",
       "   'ILE339:CG2',\n",
       "   'LA301:CB',\n",
       "   'TRP231:CZ3',\n",
       "   'PHE342:CD2',\n",
       "   'PHE342:CD1',\n",
       "   'PHE302:CZ',\n",
       "   'TRP231:CZ2',\n",
       "   'PHE342:CB'],\n",
       "  [13],\n",
       "  [12],\n",
       "  21),\n",
       " ([-0.2528],\n",
       "  ['VAL990:CG2',\n",
       "   'MET298:CE',\n",
       "   'PHE302:CE2',\n",
       "   'PHE727:CE2',\n",
       "   'PHE982:CD2',\n",
       "   'PHE769:CB',\n",
       "   'PHE982:CE2'],\n",
       "  [7],\n",
       "  [7],\n",
       "  22),\n",
       " ([-0.2429],\n",
       "  ['PHE302:CZ',\n",
       "   'PHE342:CE2',\n",
       "   'PHE342:CB',\n",
       "   'TRP231:CZ3',\n",
       "   'PHE727:CD2',\n",
       "   'PHE302:CE2',\n",
       "   'LA301:CB',\n",
       "   'TRP231:CH2',\n",
       "   'ILE305:CD1'],\n",
       "  [9],\n",
       "  [9],\n",
       "  23),\n",
       " ([-0.2905],\n",
       "  ['MET298:CE',\n",
       "   'N720:CB',\n",
       "   'VAL990:CA',\n",
       "   'PHE993:CD2',\n",
       "   'VAL990:CG2',\n",
       "   'PHE302:CZ'],\n",
       "  [6],\n",
       "  [6],\n",
       "  24),\n",
       " ([-0.2381],\n",
       "  ['GLN945:NE2',\n",
       "   'GLN945:CG',\n",
       "   'LEU64:CD2',\n",
       "   'PHE342:O',\n",
       "   'LA301:CB',\n",
       "   'PHE342:CG',\n",
       "   'LA228:CB',\n",
       "   'PHE342:CD1',\n",
       "   'LA228:CA',\n",
       "   'TRP231:CE3',\n",
       "   'PHE342:CB',\n",
       "   'TRP231:CZ3'],\n",
       "  [12],\n",
       "  [9],\n",
       "  25),\n",
       " (None, 26),\n",
       " ([-0.2857],\n",
       "  ['ILE305:CD1',\n",
       "   'PHE342:O',\n",
       "   'PHE727:CG',\n",
       "   'PHE342:CB',\n",
       "   'PHE727:CD2',\n",
       "   'PHE342:CD1',\n",
       "   'TRP231:CE3',\n",
       "   'LA228:CB',\n",
       "   'LA301:CB',\n",
       "   'PHE342:CE2'],\n",
       "  [10],\n",
       "  [8],\n",
       "  27),\n",
       " (None, 28),\n",
       " (None, 29),\n",
       " (None, 30),\n",
       " ([-0.3417],\n",
       "  ['GLN772:CG',\n",
       "   'N720:CB',\n",
       "   'GLN989:CD',\n",
       "   'GLN989:OE1',\n",
       "   'GLN772:CD',\n",
       "   'VAL990:CG2',\n",
       "   'PHE302:CZ',\n",
       "   'PHE993:CD2',\n",
       "   'PHE769:CD2',\n",
       "   'GLY773:CA'],\n",
       "  [10],\n",
       "  [12],\n",
       "  31),\n",
       " ([-0.348],\n",
       "  ['PHE769:CE2',\n",
       "   'PHE769:CB',\n",
       "   'VAL990:CG2',\n",
       "   'MET298:CE',\n",
       "   'GLN724:NE2',\n",
       "   'GLY773:CA',\n",
       "   'N720:OD1',\n",
       "   'PHE769:CD2',\n",
       "   'LA833:CB',\n",
       "   'LEU723:CB',\n",
       "   'PHE302:CZ',\n",
       "   'VAL990:CG1',\n",
       "   'GLN772:CG'],\n",
       "  [13],\n",
       "  [9],\n",
       "  32),\n",
       " ([-0.2933],\n",
       "  ['TRP231:CE3',\n",
       "   'PHE342:CD2',\n",
       "   'LEU338:CB',\n",
       "   'PHE342:O',\n",
       "   'PHE335:CG',\n",
       "   'TRP231:CZ3',\n",
       "   'LA301:CB',\n",
       "   'PHE335:CD2',\n",
       "   'LEU338:CD2',\n",
       "   'LEU338:CG',\n",
       "   'ILE339:CG2'],\n",
       "  [11],\n",
       "  [9],\n",
       "  33),\n",
       " ([-0.2706],\n",
       "  ['LA301:CB',\n",
       "   'ILE305:CG2',\n",
       "   'PHE342:CD1',\n",
       "   'LEU64:CD2',\n",
       "   'GLU874:CD',\n",
       "   'LA228:CB',\n",
       "   'LA228:CA',\n",
       "   'MET191:CE',\n",
       "   'ILE339:CB',\n",
       "   'LEU878:CD2',\n",
       "   'TRP231:CZ3',\n",
       "   'PHE342:CD2'],\n",
       "  [12],\n",
       "  [10],\n",
       "  34),\n",
       " (None, 35),\n",
       " (None, 36),\n",
       " (None, 37),\n",
       " (None, 38),\n",
       " ([-0.3292],\n",
       "  ['PHE342:O',\n",
       "   'LEU878:CD1',\n",
       "   'PHE342:CE2',\n",
       "   'TRP231:CE3',\n",
       "   'ILE339:CB',\n",
       "   'PHE342:CD2',\n",
       "   'LA228:CB',\n",
       "   '343:CA',\n",
       "   'TRP231:CZ3'],\n",
       "  [9],\n",
       "  [8],\n",
       "  39),\n",
       " ([-0.2543],\n",
       "  ['PHE302:CE2',\n",
       "   'TYR309:OH',\n",
       "   'PHE727:CE2',\n",
       "   'PHE727:CD2',\n",
       "   'PHE342:CB',\n",
       "   '343:CA',\n",
       "   'GLN724:OE1',\n",
       "   'PHE982:CB'],\n",
       "  [8],\n",
       "  [7],\n",
       "  40),\n",
       " ([-0.3038],\n",
       "  ['PHE302:CE2',\n",
       "   'VAL990:CA',\n",
       "   'VAL990:CG2',\n",
       "   'PHE302:CZ',\n",
       "   'GLN724:NE2',\n",
       "   'N295:ND2',\n",
       "   'PHE769:CB',\n",
       "   'PHE993:CB'],\n",
       "  [8],\n",
       "  [9],\n",
       "  41),\n",
       " ([-0.273],\n",
       "  ['GLN837:OE1',\n",
       "   'GLN989:OE1',\n",
       "   'PHE727:CD2',\n",
       "   'PHE982:CE1',\n",
       "   'PHE982:CZ',\n",
       "   'GLN772:OE1',\n",
       "   'TYR306:CZ',\n",
       "   'TYR306:CE2',\n",
       "   'PHE727:CG',\n",
       "   'PHE993:CD2',\n",
       "   'PHE302:CE2',\n",
       "   'MET298:CE',\n",
       "   'VAL990:CG2',\n",
       "   'PHE982:CB',\n",
       "   'TYR309:CE1',\n",
       "   'PHE993:CE2',\n",
       "   'PHE302:CZ',\n",
       "   'LA986:CB',\n",
       "   'PHE982:CE2',\n",
       "   'GLN989:CB',\n",
       "   'ILE305:CD1'],\n",
       "  [21],\n",
       "  [17],\n",
       "  42),\n",
       " (None, 43),\n",
       " ([-0.2733],\n",
       "  ['TYR306:CE2',\n",
       "   'PHE302:CZ',\n",
       "   'GLN724:CD',\n",
       "   'PHE769:CG',\n",
       "   'GLN724:OE1',\n",
       "   'PHE769:CB',\n",
       "   'TYR306:CZ',\n",
       "   'GLN724:NE2',\n",
       "   'TYR306:OH',\n",
       "   'PHE769:CD1',\n",
       "   'VAL990:CA',\n",
       "   'PHE302:CE2',\n",
       "   'GLN989:C',\n",
       "   'GLN989:OE1',\n",
       "   'N720:OD1',\n",
       "   'PHE993:CB',\n",
       "   'VAL990:CG2',\n",
       "   'PHE993:CD2'],\n",
       "  [18],\n",
       "  [10],\n",
       "  44),\n",
       " ([-0.2811],\n",
       "  ['GLN772:CG',\n",
       "   'LA986:CA',\n",
       "   'PHE302:CZ',\n",
       "   'GLN724:OE1',\n",
       "   'PHE302:CE2',\n",
       "   'MET298:CE',\n",
       "   'ILE305:CD1',\n",
       "   'PHE342:CD1',\n",
       "   'VAL990:CG2',\n",
       "   'LA986:CB'],\n",
       "  [10],\n",
       "  [12],\n",
       "  45),\n",
       " ([-0.3],\n",
       "  ['VAL990:CG2',\n",
       "   'LA986:CB',\n",
       "   'PHE302:CZ',\n",
       "   'PHE335:CA',\n",
       "   'GLN724:CD',\n",
       "   'PHE982:CD2',\n",
       "   'PHE302:CE1',\n",
       "   'MET298:CE',\n",
       "   'GLN724:OE1',\n",
       "   'GLN724:NE2',\n",
       "   'LEU338:CD2'],\n",
       "  [11],\n",
       "  [11],\n",
       "  46),\n",
       " ([-0.2697],\n",
       "  ['TRP231:CH2',\n",
       "   'TRP231:CE2',\n",
       "   'PHE342:CG',\n",
       "   'VAL990:CG2',\n",
       "   'GLN989:C',\n",
       "   'GLN989:CD',\n",
       "   'GLN989:CB',\n",
       "   'PHE302:CZ',\n",
       "   'PHE993:CD2',\n",
       "   'GLY773:CA',\n",
       "   'TRP231:CZ2',\n",
       "   'LA301:CB',\n",
       "   'VAL990:N'],\n",
       "  [13],\n",
       "  [14],\n",
       "  47),\n",
       " ([-0.2548],\n",
       "  ['PHE302:CZ',\n",
       "   'PHE342:CG',\n",
       "   'LA301:CB',\n",
       "   'PHE342:CE1',\n",
       "   'TRP231:CE3',\n",
       "   'ILE305:CG2',\n",
       "   'TRP231:CZ2',\n",
       "   'PHE342:CD2',\n",
       "   'GLY345:C',\n",
       "   'PHE342:CB',\n",
       "   'TRP231:CZ3',\n",
       "   'GLN346:CA',\n",
       "   'TRP231:CE2',\n",
       "   'ILE339:CG2',\n",
       "   'GLN346:N'],\n",
       "  [15],\n",
       "  [12],\n",
       "  48),\n",
       " ([-0.2821],\n",
       "  ['PHE302:CE2',\n",
       "   'PHE993:CB',\n",
       "   'GLN989:NE2',\n",
       "   'TRP231:CZ2',\n",
       "   'GLN989:O',\n",
       "   'PHE769:CD2',\n",
       "   'PHE769:CB',\n",
       "   'TRP231:CB',\n",
       "   'MET298:CE',\n",
       "   'GLN989:C',\n",
       "   'VAL990:CA',\n",
       "   'PHE302:CZ',\n",
       "   'PHE769:CG',\n",
       "   'PHE302:CE1',\n",
       "   'ILE339:CG2'],\n",
       "  [15],\n",
       "  [15],\n",
       "  49),\n",
       " ([-0.445],\n",
       "  ['PHE342:CD1',\n",
       "   'ILE339:CA',\n",
       "   'PHE342:CE2',\n",
       "   'ILE339:CB',\n",
       "   'PHE342:CB',\n",
       "   'PHE302:CE2',\n",
       "   'PHE342:CD2',\n",
       "   'TRP231:CZ3',\n",
       "   'PHE342:CG',\n",
       "   '343:CA',\n",
       "   'TRP231:CD2',\n",
       "   'ILE305:CD1',\n",
       "   'TRP231:CE3'],\n",
       "  [13],\n",
       "  [10],\n",
       "  50),\n",
       " ([-0.3346],\n",
       "  ['PHE342:O',\n",
       "   'ILE339:CB',\n",
       "   'PHE342:CD1',\n",
       "   'TYR309:OH',\n",
       "   'TRP231:CZ3',\n",
       "   'PHE342:CB'],\n",
       "  [6],\n",
       "  [8],\n",
       "  51),\n",
       " (None, 52),\n",
       " (None, 53),\n",
       " ([-0.3107],\n",
       "  ['N720:OD1',\n",
       "   'VAL990:CG2',\n",
       "   'PHE993:CE2',\n",
       "   'PHE302:CZ',\n",
       "   'PHE993:CD2',\n",
       "   'GLN989:CB',\n",
       "   'LA986:CB',\n",
       "   'PHE993:CG',\n",
       "   'LA986:CA',\n",
       "   'MET298:CE',\n",
       "   'N295:ND2',\n",
       "   'PHE302:CE2',\n",
       "   'LA833:CB'],\n",
       "  [13],\n",
       "  [14],\n",
       "  54),\n",
       " (None, 55),\n",
       " ([-0.3074],\n",
       "  ['PHE342:CD2',\n",
       "   'PHE342:CE2',\n",
       "   'PHE342:CE1',\n",
       "   'PHE342:CB',\n",
       "   'PHE342:CD1',\n",
       "   'ILE305:CG2',\n",
       "   'ILE339:CA',\n",
       "   'GLN724:OE1',\n",
       "   'TRP231:CE3',\n",
       "   'ILE339:CB',\n",
       "   'TRP231:CZ3'],\n",
       "  [11],\n",
       "  [6],\n",
       "  56),\n",
       " ([-0.3909],\n",
       "  ['PHE342:CB', 'PHE342:CD1', 'TRP231:CE3', 'ILE305:CG2', 'PHE342:CG'],\n",
       "  [5],\n",
       "  [6],\n",
       "  57),\n",
       " ([-0.3913],\n",
       "  ['PHE342:CG',\n",
       "   'PHE342:CD1',\n",
       "   'TRP231:CZ3',\n",
       "   'ILE339:CB',\n",
       "   'ILE339:O',\n",
       "   'PHE342:CB',\n",
       "   'TRP231:CE3',\n",
       "   'PHE342:CE1',\n",
       "   'ILE305:CG2'],\n",
       "  [9],\n",
       "  [8],\n",
       "  58),\n",
       " ([-0.3731],\n",
       "  ['PHE342:CD1', 'TYR306:CE2', 'ILE305:CD1', 'PHE727:CD2', 'TRP231:CD2'],\n",
       "  [5],\n",
       "  [8],\n",
       "  59),\n",
       " (None, 60),\n",
       " ([-0.3042],\n",
       "  ['GLN837:OE1', 'LA986:CA', 'GLN837:CD', 'PHE982:CB'],\n",
       "  [4],\n",
       "  [3],\n",
       "  61),\n",
       " ([-0.4385], ['GLN772:OE1', 'GLN837:CD', 'GLN837:OE1'], [3], [1], 62),\n",
       " ([-0.3167],\n",
       "  ['PHE342:CD2',\n",
       "   'LA228:CA',\n",
       "   'LEU64:CB',\n",
       "   'LA301:CB',\n",
       "   'ILE305:CG2',\n",
       "   'THR198:CG2',\n",
       "   'LEU64:CD2',\n",
       "   'PHE342:CD1',\n",
       "   'LA228:CB',\n",
       "   'PHE342:CB',\n",
       "   'TYR949:OH'],\n",
       "  [11],\n",
       "  [12],\n",
       "  63),\n",
       " (None, 64),\n",
       " ([-0.415],\n",
       "  ['PHE769:CG',\n",
       "   'MET298:CE',\n",
       "   'LEU723:CB',\n",
       "   'VAL990:CG2',\n",
       "   'VAL990:C',\n",
       "   'PHE993:CD2',\n",
       "   'LEU723:CD1',\n",
       "   'PHE302:CE1',\n",
       "   'N720:CB',\n",
       "   '765:OG',\n",
       "   'PHE769:CE2',\n",
       "   'GLN837:OE1',\n",
       "   'LA994:H',\n",
       "   'VAL990:O',\n",
       "   'LA994:N',\n",
       "   'PHE302:CD2',\n",
       "   'PHE769:CD2',\n",
       "   'VAL990:CA',\n",
       "   'VAL990:CG1'],\n",
       "  [19],\n",
       "  [15],\n",
       "  65),\n",
       " ([-0.425],\n",
       "  ['LA301:CB',\n",
       "   'PHE342:O',\n",
       "   'TRP231:CB',\n",
       "   'ILE305:CG2',\n",
       "   'LA228:CA',\n",
       "   'PHE342:CB',\n",
       "   'TRP231:CZ3',\n",
       "   'TRP231:CE3'],\n",
       "  [8],\n",
       "  [7],\n",
       "  66),\n",
       " (None, 67),\n",
       " ([-0.2455],\n",
       "  ['PHE335:CD2',\n",
       "   'PHE982:CG',\n",
       "   'PHE982:CB',\n",
       "   'GLN724:OE1',\n",
       "   'PHE727:CD2',\n",
       "   'PHE982:C',\n",
       "   'TYR309:OH',\n",
       "   'PHE302:CD2',\n",
       "   'PHE982:CE2',\n",
       "   'PHE727:CG',\n",
       "   'ILE305:CD1',\n",
       "   'ILE339:CG2',\n",
       "   'PHE727:CE2',\n",
       "   'PHE982:CD2'],\n",
       "  [14],\n",
       "  [15],\n",
       "  68),\n",
       " ([-0.3095],\n",
       "  ['MET298:CE',\n",
       "   'GLN772:CD',\n",
       "   'VAL990:CG2',\n",
       "   'PHE302:CZ',\n",
       "   'LA994:CB',\n",
       "   'GLN724:NE2',\n",
       "   'GLN837:OE1',\n",
       "   'GLN837:NE2',\n",
       "   'N720:CB',\n",
       "   'GLN837:CD',\n",
       "   'GLN772:OE1',\n",
       "   'PHE769:CE2'],\n",
       "  [12],\n",
       "  [8],\n",
       "  69),\n",
       " ([-0.3318],\n",
       "  ['GLN772:OE1',\n",
       "   'PHE993:CD2',\n",
       "   'VAL990:CG2',\n",
       "   'PHE302:CZ',\n",
       "   'N295:ND2',\n",
       "   'N720:CB',\n",
       "   'N720:CG',\n",
       "   'MET298:CE',\n",
       "   'N720:OD1'],\n",
       "  [9],\n",
       "  [8],\n",
       "  70),\n",
       " ([-0.4227],\n",
       "  ['GLN346:CB',\n",
       "   'LA228:CB',\n",
       "   'PHE342:CG',\n",
       "   'LEU878:CD1',\n",
       "   'TRP231:CD2',\n",
       "   'TRP231:CZ2',\n",
       "   'LA232:CB',\n",
       "   'ILE305:CG2',\n",
       "   'GLN346:CA',\n",
       "   'LEU878:CD2',\n",
       "   'GLN346:C',\n",
       "   'TRP231:CZ3',\n",
       "   'GLN346:O',\n",
       "   'TRP231:CE3',\n",
       "   'TRP231:CE2',\n",
       "   'TRP231:CG',\n",
       "   'PHE302:CZ',\n",
       "   'LA301:CB'],\n",
       "  [18],\n",
       "  [12],\n",
       "  71),\n",
       " ([-0.2425],\n",
       "  ['LEU64:CD2',\n",
       "   'TRP231:CD2',\n",
       "   'PHE302:CE2',\n",
       "   'GLU874:CB',\n",
       "   'ILE305:CD1',\n",
       "   'THR198:CG2',\n",
       "   'LA228:CB',\n",
       "   'PHE941:CZ',\n",
       "   'LEU64:CB',\n",
       "   'TRP231:CZ3',\n",
       "   'TRP231:CE2',\n",
       "   'PHE302:CZ',\n",
       "   'LA228:CA',\n",
       "   'PHE302:CE1',\n",
       "   'THR198:OG1',\n",
       "   'ILE305:CG2',\n",
       "   'GLN945:NE2',\n",
       "   'TRP231:CH2'],\n",
       "  [18],\n",
       "  [17],\n",
       "  72),\n",
       " ([-0.5385],\n",
       "  ['PHE302:CD2',\n",
       "   'VAL990:CG2',\n",
       "   'TYR306:OH',\n",
       "   'PHE302:CG',\n",
       "   'GLN837:OE1',\n",
       "   'PHE302:CZ',\n",
       "   'N720:CB',\n",
       "   'N720:CA',\n",
       "   'PHE302:CE1',\n",
       "   'PHE769:CE2',\n",
       "   'TYR306:CE1',\n",
       "   'TYR306:CZ'],\n",
       "  [12],\n",
       "  [7],\n",
       "  73),\n",
       " ([-0.35], ['PHE302:CE1', 'N720:CB', 'MET298:CE', 'PHE993:CD2'], [4], [5], 74),\n",
       " ([-0.3],\n",
       "  ['GLN346:CB',\n",
       "   'TYR306:CZ',\n",
       "   'TYR309:CE1',\n",
       "   'PHE342:CG',\n",
       "   'PHE727:CE1',\n",
       "   'TYR306:OH',\n",
       "   'PHE727:CE2',\n",
       "   'ILE305:CG2',\n",
       "   'LA228:CB',\n",
       "   'TRP231:CZ3',\n",
       "   'TYR306:CE2',\n",
       "   'PHE342:CD2',\n",
       "   'ILE305:CD1',\n",
       "   'PHE727:CZ'],\n",
       "  [14],\n",
       "  [9],\n",
       "  75),\n",
       " (None, 76),\n",
       " ([-0.4842],\n",
       "  ['PHE342:CB',\n",
       "   'GLY345:CA',\n",
       "   'LA228:CB',\n",
       "   'TRP231:CZ3',\n",
       "   'GLY345:C',\n",
       "   'TRP231:CE3',\n",
       "   'PHE342:O',\n",
       "   'ILE305:CG2',\n",
       "   'PHE342:CD1',\n",
       "   'ILE339:CA',\n",
       "   'ILE339:CB'],\n",
       "  [11],\n",
       "  [11],\n",
       "  77),\n",
       " (None, 78),\n",
       " ([-0.2857],\n",
       "  ['N720:CB',\n",
       "   'VAL990:CA',\n",
       "   'PHE302:CE1',\n",
       "   'MET298:CE',\n",
       "   'VAL990:CG1',\n",
       "   'GLN837:OE1',\n",
       "   'PHE993:CD2',\n",
       "   'PHE769:CB',\n",
       "   'PHE993:CE2',\n",
       "   'PHE769:CD2',\n",
       "   'PHE769:CG'],\n",
       "  [11],\n",
       "  [10],\n",
       "  79),\n",
       " ([-0.2364],\n",
       "  ['PHE727:CE2',\n",
       "   'ILE305:CD1',\n",
       "   'PHE342:CB',\n",
       "   'PHE302:CE2',\n",
       "   'PHE335:CG',\n",
       "   'ILE339:CG2',\n",
       "   'PHE342:CD1',\n",
       "   'GLN724:OE1',\n",
       "   'TYR309:OH',\n",
       "   'ILE305:CG2',\n",
       "   'LEU338:CD2',\n",
       "   'PHE727:CD2',\n",
       "   'PHE342:CE1'],\n",
       "  [13],\n",
       "  [15],\n",
       "  80),\n",
       " ([-0.4917],\n",
       "  ['N720:CG', 'N720:CB', 'PHE302:CD2', 'PHE769:CE2', 'N720:OD1'],\n",
       "  [5],\n",
       "  [5],\n",
       "  81),\n",
       " ([-0.4579],\n",
       "  ['VAL990:CG2',\n",
       "   'N720:CA',\n",
       "   'MET298:CE',\n",
       "   '765:CB',\n",
       "   '765:OG',\n",
       "   'N720:CB',\n",
       "   'PHE769:CE2',\n",
       "   'PHE302:CD2',\n",
       "   'TYR306:CE1',\n",
       "   'PHE302:CG'],\n",
       "  [10],\n",
       "  [10],\n",
       "  82),\n",
       " ([-0.2762],\n",
       "  ['VAL990:CG2',\n",
       "   'GLN724:NE2',\n",
       "   'N720:CB',\n",
       "   'GLN837:OE1',\n",
       "   'N720:O',\n",
       "   'VAL990:CA',\n",
       "   'MET298:CE',\n",
       "   'PHE993:CD2'],\n",
       "  [8],\n",
       "  [7],\n",
       "  83),\n",
       " ([-0.2655],\n",
       "  ['THR198:CG2',\n",
       "   'LA228:CA',\n",
       "   'TRP231:CZ3',\n",
       "   'LA301:CB',\n",
       "   'GLN346:CB',\n",
       "   'TRP231:CE2',\n",
       "   'PHE302:CZ',\n",
       "   'PHE342:CE2',\n",
       "   'PHE342:CB'],\n",
       "  [9],\n",
       "  [6],\n",
       "  84),\n",
       " ([-0.4375],\n",
       "  ['VAL990:CG2',\n",
       "   'MET298:CE',\n",
       "   'PHE769:CE2',\n",
       "   '765:CB',\n",
       "   'GLN989:CB',\n",
       "   '765:OG',\n",
       "   'LEU723:CD1'],\n",
       "  [7],\n",
       "  [7],\n",
       "  85),\n",
       " ([-0.3321],\n",
       "  ['N720:CA',\n",
       "   'PHE769:CB',\n",
       "   'GLN772:CG',\n",
       "   'N720:CB',\n",
       "   'PHE302:CE2',\n",
       "   'GLY773:CA',\n",
       "   'TYR306:CE1',\n",
       "   'MET298:CE',\n",
       "   'PHE769:CE2',\n",
       "   'VAL990:CG2'],\n",
       "  [10],\n",
       "  [11],\n",
       "  86),\n",
       " ([-0.1863],\n",
       "  ['ILE305:CG2',\n",
       "   'PHE71:CD1',\n",
       "   'ILE305:CD1',\n",
       "   'PHE727:CG',\n",
       "   'PHE71:CG',\n",
       "   'MET68:SD',\n",
       "   'TRP231:CH2',\n",
       "   'TRP231:CZ3',\n",
       "   'PHE335:CE2',\n",
       "   'TYR952:CE2',\n",
       "   'TYR309:CE1',\n",
       "   'PHE982:CZ',\n",
       "   'TRP231:CD2',\n",
       "   'PHE727:CD2',\n",
       "   'PHE342:CE1',\n",
       "   'ILE305:CB',\n",
       "   'TRP231:CG',\n",
       "   'PHE71:CB',\n",
       "   'ILE339:CG2'],\n",
       "  [19],\n",
       "  [15],\n",
       "  87),\n",
       " (None, 88),\n",
       " (None, 89),\n",
       " (None, 90),\n",
       " (None, 91),\n",
       " (None, 92),\n",
       " ([-0.26],\n",
       "  ['GLY773:N',\n",
       "   'N720:OD1',\n",
       "   'LA301:CB',\n",
       "   'TRP231:CZ2',\n",
       "   'VAL990:CG2',\n",
       "   'PHE302:CZ',\n",
       "   'GLN989:CB',\n",
       "   'GLY773:CA',\n",
       "   'TRP231:CZ3',\n",
       "   'PHE769:CD2',\n",
       "   'VAL990:CA',\n",
       "   'GLN989:CD',\n",
       "   'PHE993:CD2'],\n",
       "  [13],\n",
       "  [14],\n",
       "  93),\n",
       " ([-0.3207],\n",
       "  ['PHE302:CZ',\n",
       "   'GLY773:CA',\n",
       "   'VAL990:CG2',\n",
       "   'PHE302:CE2',\n",
       "   'GLN772:CD',\n",
       "   'TYR306:CE2',\n",
       "   'PHE727:CD2',\n",
       "   'PHE727:CE2',\n",
       "   'PHE727:CE1'],\n",
       "  [9],\n",
       "  [7],\n",
       "  94),\n",
       " ([-0.1804],\n",
       "  ['TRP231:CE2',\n",
       "   'PHE342:CD1',\n",
       "   'PHE342:CD2',\n",
       "   'TRP231:CZ3',\n",
       "   'TYR309:OH',\n",
       "   'ILE305:CD1',\n",
       "   'ILE305:CG2',\n",
       "   'PHE982:CB',\n",
       "   'TRP231:CH2',\n",
       "   'PHE982:CD2',\n",
       "   'ILE339:CG2',\n",
       "   'PHE727:CE2',\n",
       "   'PHE342:CG',\n",
       "   'GLN724:O',\n",
       "   'PHE982:CG',\n",
       "   'PHE727:CD2',\n",
       "   'GLN724:C',\n",
       "   'LA228:CB',\n",
       "   'PHE302:CZ'],\n",
       "  [19],\n",
       "  [20],\n",
       "  95),\n",
       " ([-0.28],\n",
       "  ['TYR306:OH',\n",
       "   'PHE302:CE2',\n",
       "   'PHE982:CB',\n",
       "   'ILE305:CG2',\n",
       "   'PHE727:CE2',\n",
       "   'TYR306:CZ',\n",
       "   'ILE305:CD1'],\n",
       "  [7],\n",
       "  [7],\n",
       "  96),\n",
       " ([-0.2567],\n",
       "  ['LA228:CB',\n",
       "   'PHE342:CB',\n",
       "   'ILE305:CD1',\n",
       "   'PHE342:O',\n",
       "   'TRP231:CG',\n",
       "   'PHE342:CD1',\n",
       "   'TRP231:CZ3',\n",
       "   'PHE342:CE1',\n",
       "   'LA301:CB',\n",
       "   'ILE339:CG2',\n",
       "   'PHE302:CE2',\n",
       "   'TRP231:CD1',\n",
       "   'GLN346:N',\n",
       "   'GLN346:H',\n",
       "   'ILE305:CG2'],\n",
       "  [15],\n",
       "  [12],\n",
       "  97),\n",
       " (None, 98),\n",
       " ([-0.2871],\n",
       "  ['PHE342:CB',\n",
       "   '343:N',\n",
       "   'LEU878:CD1',\n",
       "   'ILE339:CB',\n",
       "   'PHE342:CD1',\n",
       "   '343:CA',\n",
       "   'TRP231:CZ3',\n",
       "   'THR198:OG1',\n",
       "   'TRP231:CE3',\n",
       "   'LEU64:CD2'],\n",
       "  [10],\n",
       "  [9],\n",
       "  99),\n",
       " ([-0.2903],\n",
       "  ['GLN989:OE1',\n",
       "   'PHE342:CD1',\n",
       "   'GLN989:CD',\n",
       "   'PHE982:CB',\n",
       "   'PHE982:CD1',\n",
       "   'PHE727:CE2',\n",
       "   'ILE339:CG2',\n",
       "   'PHE982:CG',\n",
       "   'LA301:CB',\n",
       "   'ILE305:CD1',\n",
       "   'LA228:CA'],\n",
       "  [11],\n",
       "  [10],\n",
       "  100),\n",
       " ([-0.2],\n",
       "  ['TRP231:CG',\n",
       "   'GLN724:OE1',\n",
       "   'ILE339:CG2',\n",
       "   'PHE342:CG',\n",
       "   'PHE982:CB',\n",
       "   'GLN724:CD',\n",
       "   '343:CA',\n",
       "   'PHE342:CD1',\n",
       "   'PHE727:CE2',\n",
       "   'LA301:CB',\n",
       "   'PHE342:CD2',\n",
       "   'VAL990:CG2',\n",
       "   'TRP231:CD2',\n",
       "   'PHE982:CE2',\n",
       "   'PHE982:CZ',\n",
       "   'PHE342:CB',\n",
       "   'TYR309:OH',\n",
       "   'PHE727:CD2',\n",
       "   'PHE727:CZ',\n",
       "   'LA986:CB'],\n",
       "  [20],\n",
       "  [16],\n",
       "  101),\n",
       " (None, 102),\n",
       " ([-0.3379],\n",
       "  ['PHE302:CE2',\n",
       "   'ILE339:O',\n",
       "   'ILE339:C',\n",
       "   'TRP231:CZ3',\n",
       "   'LA301:CB',\n",
       "   'PHE342:CE2',\n",
       "   'PHE342:CB',\n",
       "   'LA228:CA',\n",
       "   'PHE302:CD2',\n",
       "   'LEU64:CD2',\n",
       "   'ILE339:CA',\n",
       "   'TRP231:CD2'],\n",
       "  [12],\n",
       "  [12],\n",
       "  103),\n",
       " (None, 104),\n",
       " ([-0.2886],\n",
       "  ['LEU64:CD2',\n",
       "   'LEU878:CD1',\n",
       "   'LEU878:CG',\n",
       "   'MET948:CE',\n",
       "   'LA228:CB',\n",
       "   'TRP231:CE3',\n",
       "   'ILE305:CG2',\n",
       "   'PHE342:CD1',\n",
       "   'ILE339:CB',\n",
       "   'LA228:CA',\n",
       "   'PHE941:CE1',\n",
       "   'LEU64:CD1',\n",
       "   'GLU874:CB',\n",
       "   'PHE342:C'],\n",
       "  [14],\n",
       "  [13],\n",
       "  105),\n",
       " ([-0.2472],\n",
       "  ['PHE727:CG',\n",
       "   'GLN346:OE1',\n",
       "   'ILE305:CG2',\n",
       "   'LEU64:CD2',\n",
       "   'PHE342:CB',\n",
       "   'TYR309:OH',\n",
       "   'PHE727:CD2',\n",
       "   'PHE727:CE2',\n",
       "   'PHE342:CE2'],\n",
       "  [9],\n",
       "  [10],\n",
       "  106),\n",
       " ([-0.29],\n",
       "  ['TRP231:CZ2',\n",
       "   'PHE302:CE1',\n",
       "   'LA301:CB',\n",
       "   'PHE342:CD2',\n",
       "   'TRP231:CE2',\n",
       "   'TRP231:CZ3',\n",
       "   'LA228:CB',\n",
       "   'PHE302:CZ',\n",
       "   'TRP231:CH2',\n",
       "   'PHE342:CG',\n",
       "   'PHE342:O',\n",
       "   'PHE342:CD1',\n",
       "   'LEU878:CD1',\n",
       "   'PHE342:CE2'],\n",
       "  [14],\n",
       "  [11],\n",
       "  107),\n",
       " ([-0.2794],\n",
       "  ['PHE342:CE1',\n",
       "   'PHE982:CG',\n",
       "   'PHE982:CB',\n",
       "   'PHE302:CE2',\n",
       "   'ILE305:CG2',\n",
       "   'GLN724:OE1',\n",
       "   'TRP231:CB',\n",
       "   'PHE335:CE2',\n",
       "   'TRP231:CE3',\n",
       "   'PHE982:CE2',\n",
       "   'PHE727:CD2',\n",
       "   'LA228:CA',\n",
       "   'LA228:CB',\n",
       "   'PHE982:CZ',\n",
       "   'ILE305:CD1'],\n",
       "  [15],\n",
       "  [17],\n",
       "  108),\n",
       " ([-0.3214],\n",
       "  ['LEU64:CD2',\n",
       "   'TRP231:CZ2',\n",
       "   'PHE342:CB',\n",
       "   'THR198:CG2',\n",
       "   'TRP231:CG',\n",
       "   'PHE342:CG',\n",
       "   'PHE302:CZ',\n",
       "   'PHE342:CD2',\n",
       "   'TRP231:CD2',\n",
       "   'TRP231:CE3',\n",
       "   'ILE305:CG2',\n",
       "   'PHE342:CD1',\n",
       "   'LA301:CB'],\n",
       "  [13],\n",
       "  [9],\n",
       "  109),\n",
       " ([-0.3296],\n",
       "  ['THR198:CG2',\n",
       "   'ILE305:CG2',\n",
       "   'PHE342:O',\n",
       "   'PHE342:CB',\n",
       "   'TRP231:CE3',\n",
       "   'LEU64:CD2',\n",
       "   'TRP231:CZ3'],\n",
       "  [7],\n",
       "  [7],\n",
       "  110),\n",
       " ([-0.1712],\n",
       "  ['PHE302:CZ',\n",
       "   'LEU878:CD1',\n",
       "   'PHE727:CE2',\n",
       "   'PHE335:CE2',\n",
       "   'ILE305:CD1',\n",
       "   'PHE982:CB',\n",
       "   'ILE305:CG2',\n",
       "   'TRP231:CH2',\n",
       "   'TYR309:OH',\n",
       "   'MET985:CE',\n",
       "   'PHE335:CD2',\n",
       "   'TYR309:CE1',\n",
       "   'PHE727:CZ',\n",
       "   'PHE342:CE2',\n",
       "   'PHE342:CD2'],\n",
       "  [15],\n",
       "  [15],\n",
       "  111),\n",
       " ([-0.2607],\n",
       "  ['PHE342:CD1',\n",
       "   'PHE302:CZ',\n",
       "   'TRP231:CZ2',\n",
       "   'PHE342:CB',\n",
       "   'PHE342:CD2',\n",
       "   'TRP231:CH2',\n",
       "   'TRP231:CE3',\n",
       "   'LA228:CB',\n",
       "   'GLN724:CD',\n",
       "   'TRP231:CZ3',\n",
       "   'GLN724:NE2',\n",
       "   'PHE302:CE2',\n",
       "   'PHE342:CG',\n",
       "   'GLN989:OE1',\n",
       "   'LA301:CB'],\n",
       "  [15],\n",
       "  [11],\n",
       "  112),\n",
       " ([-0.2278],\n",
       "  ['PHE342:CE1',\n",
       "   'LEU338:CD2',\n",
       "   'TRP231:CE3',\n",
       "   'PHE982:CB',\n",
       "   'PHE342:CD1',\n",
       "   'GLY345:C',\n",
       "   'PHE982:CE2',\n",
       "   'ILE305:CD1',\n",
       "   'PHE302:CE2',\n",
       "   'LEU338:CG',\n",
       "   'PHE342:CB',\n",
       "   'LA228:CA',\n",
       "   'LA228:CB',\n",
       "   'TRP231:CZ3',\n",
       "   'ILE339:CG2',\n",
       "   'PHE342:CG',\n",
       "   'PHE727:CE2',\n",
       "   'GLN346:N'],\n",
       "  [18],\n",
       "  [13],\n",
       "  113),\n",
       " ([-0.2821],\n",
       "  ['PHE993:CB',\n",
       "   'GLN724:NE2',\n",
       "   'PHE302:CE2',\n",
       "   'N720:CB',\n",
       "   'PHE993:CD2',\n",
       "   'PHE769:CE2',\n",
       "   'TRP231:CE2',\n",
       "   'GLN989:CD',\n",
       "   'ILE339:O',\n",
       "   'PHE302:CZ',\n",
       "   'PHE342:CB',\n",
       "   'TRP231:CZ2',\n",
       "   'PHE993:CD1',\n",
       "   'TRP231:CE3',\n",
       "   'PHE993:CG'],\n",
       "  [15],\n",
       "  [17],\n",
       "  114),\n",
       " (None, 115),\n",
       " ([-0.3097],\n",
       "  ['PHE982:CA',\n",
       "   'MET985:C',\n",
       "   'PHE982:CB',\n",
       "   'TRP231:CE3',\n",
       "   'ILE305:CG2',\n",
       "   'LA986:N',\n",
       "   'PHE982:C',\n",
       "   'GLN989:OE1',\n",
       "   'PHE342:CD1',\n",
       "   'PHE335:CE2',\n",
       "   'LA986:CA',\n",
       "   'LA986:CB',\n",
       "   'ILE305:CD1',\n",
       "   'PHE982:O'],\n",
       "  [14],\n",
       "  [10],\n",
       "  116),\n",
       " ([-0.42],\n",
       "  ['N720:CB',\n",
       "   'GLN989:OE1',\n",
       "   'GLN989:C',\n",
       "   'PHE302:CZ',\n",
       "   'PHE769:CE2',\n",
       "   'N720:C',\n",
       "   'LEU723:CB',\n",
       "   'LEU723:CD1',\n",
       "   'VAL990:CG2',\n",
       "   'PHE993:CB',\n",
       "   'N720:O',\n",
       "   'PHE769:CD2',\n",
       "   'MET298:CE',\n",
       "   'PHE993:CD2',\n",
       "   'GLN989:CD',\n",
       "   'PHE302:CD2',\n",
       "   'GLN989:CB'],\n",
       "  [17],\n",
       "  [14],\n",
       "  117),\n",
       " ([-0.4105],\n",
       "  ['N720:CA',\n",
       "   'N720:CB',\n",
       "   'PHE302:CE2',\n",
       "   'PHE993:CD2',\n",
       "   'N720:C',\n",
       "   'GLN724:NE2',\n",
       "   'GLN772:OE1',\n",
       "   'VAL990:CG2',\n",
       "   'PHE769:CD2',\n",
       "   'PHE769:CE2',\n",
       "   'N720:O'],\n",
       "  [11],\n",
       "  [10],\n",
       "  118),\n",
       " ([-0.2771],\n",
       "  ['TYR309:CE1',\n",
       "   'TRP231:CE3',\n",
       "   'PHE982:CZ',\n",
       "   'ILE305:CG2',\n",
       "   'PHE335:CE2',\n",
       "   'PHE302:CE2',\n",
       "   'PHE727:CD2',\n",
       "   'PHE342:CE1',\n",
       "   'ILE305:CD1',\n",
       "   'TRP231:CD2',\n",
       "   'TRP231:CG'],\n",
       "  [11],\n",
       "  [8],\n",
       "  119),\n",
       " ([-0.3737],\n",
       "  ['PHE993:CD2',\n",
       "   'N720:CB',\n",
       "   'VAL990:CG2',\n",
       "   'PHE993:CB',\n",
       "   'VAL990:CA',\n",
       "   'PHE769:CD2',\n",
       "   'PHE302:CE1',\n",
       "   'GLN989:C'],\n",
       "  [8],\n",
       "  [7],\n",
       "  120),\n",
       " ([-0.3619],\n",
       "  ['PHE302:CE2',\n",
       "   'N720:CB',\n",
       "   'PHE769:CB',\n",
       "   'VAL990:CG1',\n",
       "   'PHE302:CD2',\n",
       "   'MET298:CE',\n",
       "   'VAL990:CG2',\n",
       "   'PHE769:CE2',\n",
       "   'N720:CA',\n",
       "   'PHE302:CE1',\n",
       "   'VAL990:CA',\n",
       "   'PHE302:CZ'],\n",
       "  [12],\n",
       "  [11],\n",
       "  121),\n",
       " ([-0.2647],\n",
       "  ['PHE342:CG',\n",
       "   'PHE342:CB',\n",
       "   'THR198:CG2',\n",
       "   'GLN346:CB',\n",
       "   'LEU64:CB',\n",
       "   'TRP231:CE3',\n",
       "   'LEU64:CD2',\n",
       "   'TRP231:CZ3',\n",
       "   'LEU878:CD1',\n",
       "   'PHE342:CA',\n",
       "   'GLN346:CA',\n",
       "   'LA228:CA',\n",
       "   'PHE342:O',\n",
       "   'LA228:CB',\n",
       "   'ILE305:CG2',\n",
       "   'PHE342:C'],\n",
       "  [16],\n",
       "  [15],\n",
       "  122),\n",
       " ([-0.2279],\n",
       "  ['LEU64:CD2',\n",
       "   'TYR306:CE2',\n",
       "   'PHE982:CB',\n",
       "   'GLN989:NE2',\n",
       "   'PHE727:CE2',\n",
       "   'ILE305:CD1',\n",
       "   'THR198:CG2',\n",
       "   'GLN346:OE1',\n",
       "   'PHE727:CD2',\n",
       "   'TYR306:CZ',\n",
       "   'PHE727:CZ',\n",
       "   'TYR309:CE1'],\n",
       "  [12],\n",
       "  [7],\n",
       "  123),\n",
       " ([-0.4],\n",
       "  ['VAL990:CG2',\n",
       "   'PHE302:CD2',\n",
       "   'PHE302:CZ',\n",
       "   'N720:CB',\n",
       "   'LEU723:CD1',\n",
       "   'PHE302:CE2',\n",
       "   'PHE769:CE2',\n",
       "   '765:OG'],\n",
       "  [8],\n",
       "  [6],\n",
       "  124),\n",
       " ([-0.2548],\n",
       "  ['THR198:CG2',\n",
       "   'TRP231:CZ3',\n",
       "   'PHE302:CE2',\n",
       "   'LEU64:CD2',\n",
       "   'LA228:CA',\n",
       "   'ILE305:CG2',\n",
       "   'ILE305:CD1',\n",
       "   'LA228:CB',\n",
       "   'TRP231:CB',\n",
       "   'PHE302:CZ',\n",
       "   'PHE342:CG',\n",
       "   'ILE305:CB',\n",
       "   '343:CA',\n",
       "   'TRP231:CE3'],\n",
       "  [14],\n",
       "  [12],\n",
       "  125),\n",
       " ([-0.3778],\n",
       "  ['PHE769:CE2',\n",
       "   'GLN724:NE2',\n",
       "   'PHE302:CD2',\n",
       "   'PHE302:CE1',\n",
       "   'TYR306:OH',\n",
       "   'GLN989:CB',\n",
       "   'GLN837:CD',\n",
       "   'GLN837:OE1',\n",
       "   'PHE769:CD2',\n",
       "   'PHE302:CG',\n",
       "   'PHE302:CE2',\n",
       "   'PHE769:CB',\n",
       "   'GLN772:OE1'],\n",
       "  [13],\n",
       "  [7],\n",
       "  126),\n",
       " (None, 127),\n",
       " ([-0.2361],\n",
       "  ['GLN989:NE2',\n",
       "   'PHE302:CD2',\n",
       "   'PHE302:CE2',\n",
       "   'ILE305:CD1',\n",
       "   'PHE342:C',\n",
       "   'PHE342:O',\n",
       "   'PHE342:CD1',\n",
       "   'MET985:CB',\n",
       "   'PHE302:CZ',\n",
       "   'GLN989:CD',\n",
       "   'PHE982:CG'],\n",
       "  [11],\n",
       "  [11],\n",
       "  128),\n",
       " ([-0.2964],\n",
       "  ['PHE302:CZ',\n",
       "   'LEU878:CD1',\n",
       "   'LA301:C',\n",
       "   'PHE342:CB',\n",
       "   'ILE305:CD1',\n",
       "   'TRP231:CD2',\n",
       "   'PHE302:CD2',\n",
       "   'GLY345:C',\n",
       "   'PHE342:CG',\n",
       "   'PHE302:CE2',\n",
       "   'TRP231:CZ3',\n",
       "   'TRP231:CE3',\n",
       "   'GLN346:N',\n",
       "   'GLN346:CB',\n",
       "   'ILE305:CG2'],\n",
       "  [15],\n",
       "  [12],\n",
       "  129),\n",
       " ([-0.3031],\n",
       "  ['LA228:CB',\n",
       "   'PHE342:CG',\n",
       "   'TRP231:CZ3',\n",
       "   'TRP231:CG',\n",
       "   'PHE727:CG',\n",
       "   'TYR309:CE1',\n",
       "   'PHE727:CD2',\n",
       "   'PHE342:CD2',\n",
       "   'LA301:CB',\n",
       "   'TRP231:CD2'],\n",
       "  [10],\n",
       "  [9],\n",
       "  130),\n",
       " ([-0.2432],\n",
       "  ['PHE727:CE2',\n",
       "   'PHE71:CB',\n",
       "   'PHE342:CB',\n",
       "   'PHE982:CG',\n",
       "   'TYR952:CD2',\n",
       "   'TYR952:CZ',\n",
       "   'PHE335:CD2',\n",
       "   'PHE71:CD1',\n",
       "   'PHE71:CG',\n",
       "   'MET68:SD',\n",
       "   'PHE335:CE2',\n",
       "   'MET67:CG',\n",
       "   'ILE339:CA',\n",
       "   'TYR952:CE2'],\n",
       "  [14],\n",
       "  [11],\n",
       "  131),\n",
       " ([-0.2263],\n",
       "  ['TRP231:CZ3',\n",
       "   'PHE342:CB',\n",
       "   'GLU874:CB',\n",
       "   'LEU64:CD2',\n",
       "   'LEU878:CD1',\n",
       "   'THR198:CG2',\n",
       "   'PHE941:CZ',\n",
       "   'PHE342:CG'],\n",
       "  [8],\n",
       "  [13],\n",
       "  132),\n",
       " ([-0.29],\n",
       "  ['PHE342:O',\n",
       "   'LA228:CB',\n",
       "   'TRP231:CZ3',\n",
       "   'PHE982:CZ',\n",
       "   'PHE302:CE2',\n",
       "   'LA301:CB',\n",
       "   'PHE342:C',\n",
       "   'TRP231:CE3',\n",
       "   'PHE727:CE2',\n",
       "   'PHE727:CZ',\n",
       "   'PHE335:CZ',\n",
       "   'TYR309:OH',\n",
       "   'LA301:C',\n",
       "   'PHE342:CB',\n",
       "   'GLY345:C',\n",
       "   'PHE335:CE2',\n",
       "   'ILE305:CG2'],\n",
       "  [17],\n",
       "  [13],\n",
       "  133),\n",
       " ([-0.225],\n",
       "  ['PHE342:CG',\n",
       "   'PHE342:CD1',\n",
       "   'ILE305:CG2',\n",
       "   'PHE982:CD2',\n",
       "   'TRP231:CD2',\n",
       "   'ILE305:CD1',\n",
       "   'ILE339:CG2',\n",
       "   'MET985:CB',\n",
       "   'PHE342:CB',\n",
       "   'MET985:CG',\n",
       "   'TRP231:CE3'],\n",
       "  [11],\n",
       "  [10],\n",
       "  134),\n",
       " ([-0.2968],\n",
       "  ['GLN724:OE1',\n",
       "   'GLN724:CD',\n",
       "   'TYR309:CE1',\n",
       "   'PHE727:CG',\n",
       "   'MET985:CB',\n",
       "   'LA986:CB',\n",
       "   'ILE305:CD1',\n",
       "   'PHE335:CD2',\n",
       "   'PHE727:CD2',\n",
       "   'PHE982:CZ',\n",
       "   'PHE302:CE2'],\n",
       "  [11],\n",
       "  [9],\n",
       "  135),\n",
       " ([-0.3615],\n",
       "  ['LA228:CA',\n",
       "   'GLN346:CA',\n",
       "   'LA228:CB',\n",
       "   'TRP231:CZ3',\n",
       "   'LA301:CB',\n",
       "   'LEU878:CD1',\n",
       "   'GLN346:CB',\n",
       "   'TRP231:CH2',\n",
       "   'PHE302:CZ',\n",
       "   'LEU878:CD2',\n",
       "   'LEU235:CD2',\n",
       "   'TRP231:CZ2',\n",
       "   'TRP231:CD2'],\n",
       "  [13],\n",
       "  [14],\n",
       "  136),\n",
       " ([-0.3033],\n",
       "  ['MET191:CE',\n",
       "   'LEU235:CD2',\n",
       "   'GLN346:CB',\n",
       "   'TRP231:CZ3',\n",
       "   'TRP231:CE3',\n",
       "   'PHE342:O',\n",
       "   'PHE941:CZ',\n",
       "   'LA232:CB',\n",
       "   'GLN346:CG',\n",
       "   'GLN346:N',\n",
       "   'PHE342:C',\n",
       "   'GLU874:CB',\n",
       "   'LEU878:CD1',\n",
       "   'GLN346:CA',\n",
       "   'GLY345:C',\n",
       "   'PHE342:CB',\n",
       "   'LEU878:CB'],\n",
       "  [17],\n",
       "  [13],\n",
       "  137),\n",
       " ([-0.2378],\n",
       "  ['PHE342:CD1',\n",
       "   'TRP231:CZ2',\n",
       "   'PHE342:CB',\n",
       "   'TRP231:CZ3',\n",
       "   'LA228:CA',\n",
       "   'TRP231:CB',\n",
       "   'PHE302:CZ',\n",
       "   'TRP231:CH2',\n",
       "   'LA301:CB',\n",
       "   'PHE342:CE1',\n",
       "   'TRP231:CD2',\n",
       "   'TRP231:CE3',\n",
       "   'ILE305:CG2'],\n",
       "  [13],\n",
       "  [10],\n",
       "  138),\n",
       " ([-0.2314],\n",
       "  ['PHE342:CD1',\n",
       "   'LEU878:CD1',\n",
       "   'ILE339:CG2',\n",
       "   'ILE305:CD1',\n",
       "   'LEU338:CD2',\n",
       "   'ILE339:CB',\n",
       "   'LEU64:CD2',\n",
       "   'TRP231:CE3',\n",
       "   'PHE342:CB',\n",
       "   'ILE305:CG2'],\n",
       "  [10],\n",
       "  [11],\n",
       "  139),\n",
       " ([-0.2893],\n",
       "  ['PHE342:CD1',\n",
       "   'ILE305:CG2',\n",
       "   'LEU338:CB',\n",
       "   'LEU338:CD2',\n",
       "   'LEU64:CD2',\n",
       "   'PHE342:CB',\n",
       "   'PHE342:CE2',\n",
       "   'ILE339:CG2',\n",
       "   'LEU338:CG'],\n",
       "  [9],\n",
       "  [7],\n",
       "  140),\n",
       " ([-0.1723],\n",
       "  ['N720:CB',\n",
       "   'GLN724:CD',\n",
       "   'GLU874:CB',\n",
       "   'ILE305:CG2',\n",
       "   'GLN989:CB',\n",
       "   'LEU878:CD1',\n",
       "   'PHE302:CZ',\n",
       "   'GLN989:OE1',\n",
       "   'LA986:CB',\n",
       "   'PHE769:CD2',\n",
       "   'GLN837:OE1',\n",
       "   'PHE302:CE2',\n",
       "   'GLN724:OE1',\n",
       "   'TRP231:CE2',\n",
       "   'ILE305:CD1',\n",
       "   'GLU874:CG',\n",
       "   'MET298:CE',\n",
       "   'THR198:CG2',\n",
       "   'LA301:CB',\n",
       "   'PHE769:CG',\n",
       "   'PHE302:CD2',\n",
       "   'GLN724:CG',\n",
       "   'TRP231:CD2',\n",
       "   'LEU64:CD2',\n",
       "   'GLU874:CD'],\n",
       "  [25],\n",
       "  [18],\n",
       "  141),\n",
       " ([-0.1708],\n",
       "  ['PHE993:CE2',\n",
       "   'PHE993:CD2',\n",
       "   'VAL990:CG2',\n",
       "   'TRP231:CZ2',\n",
       "   'GLN772:CG',\n",
       "   'PHE302:CE1',\n",
       "   'LA301:C',\n",
       "   'TRP231:CH2',\n",
       "   'THR198:CG2',\n",
       "   'PHE769:CD2',\n",
       "   'ILE305:CG2',\n",
       "   'GLN989:NE2',\n",
       "   'PHE302:CE2',\n",
       "   'GLN989:CD',\n",
       "   'GLU874:CD',\n",
       "   'PHE769:CB',\n",
       "   'ILE339:CB',\n",
       "   'PHE941:CZ',\n",
       "   'PHE302:CZ',\n",
       "   'GLN837:OE1',\n",
       "   'LA301:CB',\n",
       "   'LEU64:CD2'],\n",
       "  [22],\n",
       "  [27],\n",
       "  142),\n",
       " (None, 143),\n",
       " (None, 144),\n",
       " ([-0.2016],\n",
       "  ['ILE305:CD1',\n",
       "   'TRP231:CE3',\n",
       "   'PHE982:CB',\n",
       "   'PHE982:CD2',\n",
       "   'GLN346:CB',\n",
       "   'PHE727:CZ',\n",
       "   'MET985:CB',\n",
       "   'TYR306:CE2',\n",
       "   'TYR306:CD2',\n",
       "   'PHE727:CE1',\n",
       "   'GLN346:CA',\n",
       "   'GLN346:OE1',\n",
       "   'PHE982:CG',\n",
       "   'LEU878:CD2',\n",
       "   'TYR309:CE1',\n",
       "   'PHE727:CG',\n",
       "   'GLN346:CG',\n",
       "   'ILE305:CG2',\n",
       "   'PHE342:CE2',\n",
       "   'PHE727:CD2',\n",
       "   'LA228:CA',\n",
       "   'TYR306:CZ',\n",
       "   'GLY345:C',\n",
       "   'TRP231:CZ3',\n",
       "   'PHE727:CE2',\n",
       "   'PRO349:CG',\n",
       "   'PHE982:CZ',\n",
       "   'LEU878:CD1',\n",
       "   'GLN346:CD',\n",
       "   'TRP231:CD2',\n",
       "   'LEU235:CD2'],\n",
       "  [31],\n",
       "  [23],\n",
       "  145),\n",
       " ([-0.3955],\n",
       "  ['PHE993:CD2',\n",
       "   'N720:CB',\n",
       "   'LA833:CB',\n",
       "   'VAL990:CG2',\n",
       "   'TYR306:CE1',\n",
       "   'PHE769:CE2',\n",
       "   'LA994:CB',\n",
       "   'PHE993:CB',\n",
       "   'PHE302:CD2',\n",
       "   'VAL990:CA',\n",
       "   'N720:CA',\n",
       "   'TYR306:OH'],\n",
       "  [12],\n",
       "  [8],\n",
       "  146),\n",
       " ([-0.1492],\n",
       "  ['GLN772:CG',\n",
       "   'GLN772:CD',\n",
       "   'ILE339:CA',\n",
       "   'PHE727:CE2',\n",
       "   'PHE982:CZ',\n",
       "   'GLY773:CA',\n",
       "   'VAL990:CG2',\n",
       "   'TYR309:OH',\n",
       "   'PHE769:CE2',\n",
       "   'VAL990:CA',\n",
       "   'PHE335:CE2',\n",
       "   'PHE993:CB',\n",
       "   'PHE335:CD2',\n",
       "   'GLY773:N',\n",
       "   'PHE993:CE2',\n",
       "   'LA986:CA',\n",
       "   'LA994:CB',\n",
       "   'LA994:CA',\n",
       "   'GLN724:NE2',\n",
       "   'PHE342:CB',\n",
       "   'PHE993:CD2',\n",
       "   'PHE302:CE2',\n",
       "   'LA986:CB',\n",
       "   'VAL990:CG1',\n",
       "   'PHE302:CD2',\n",
       "   'GLN989:OE1',\n",
       "   'GLN772:C',\n",
       "   'PHE302:CZ'],\n",
       "  [28],\n",
       "  [24],\n",
       "  147),\n",
       " ([-0.2306],\n",
       "  ['PHE302:CZ',\n",
       "   'GLN724:NE2',\n",
       "   'PHE727:CE2',\n",
       "   'PHE727:CD2',\n",
       "   'GLN989:OE1',\n",
       "   'LA986:CB',\n",
       "   'PHE982:CE1',\n",
       "   'MET298:CE',\n",
       "   'TYR309:OH',\n",
       "   'PHE342:CD1',\n",
       "   'PHE982:CZ',\n",
       "   'PHE982:CE2',\n",
       "   'PHE302:CE2',\n",
       "   'VAL990:CG2'],\n",
       "  [14],\n",
       "  [14],\n",
       "  148),\n",
       " (None, 149),\n",
       " ([-0.1263],\n",
       "  ['GLU874:OE2',\n",
       "   'GLN989:C',\n",
       "   'LEU878:CD1',\n",
       "   'PHE342:CD1',\n",
       "   'LEU64:CD1',\n",
       "   'GLN989:OE1',\n",
       "   'GLN346:CA',\n",
       "   'GLN346:CG',\n",
       "   'PHE993:CD2',\n",
       "   'PHE993:CG',\n",
       "   'LA986:CA',\n",
       "   'MET948:SD',\n",
       "   'MET948:CE',\n",
       "   'PHE982:CE2',\n",
       "   'PHE302:CE2',\n",
       "   'MET875:CE',\n",
       "   'TRP231:CZ3',\n",
       "   'GLU874:CB',\n",
       "   'LEU64:CD2',\n",
       "   'GLN989:CD',\n",
       "   'PHE342:CB',\n",
       "   'PHE993:CD1',\n",
       "   'TYR949:CE2',\n",
       "   'GLN724:NE2',\n",
       "   'MET298:CE',\n",
       "   'TRP231:CE3',\n",
       "   'VAL990:CG2',\n",
       "   'PHE302:CZ',\n",
       "   'LA986:CB',\n",
       "   'PHE982:CZ',\n",
       "   'PHE982:CD2',\n",
       "   'GLN989:NE2',\n",
       "   'TRP231:NE1',\n",
       "   'GLN346:CB',\n",
       "   'PHE342:C',\n",
       "   'GLN724:CD',\n",
       "   'TRP231:CZ2',\n",
       "   'VAL990:CA',\n",
       "   'GLN989:CB'],\n",
       "  [39],\n",
       "  [37],\n",
       "  150),\n",
       " (None, 151),\n",
       " ([-0.2343],\n",
       "  ['ILE305:CD1',\n",
       "   'LA232:CB',\n",
       "   'LEU235:CD2',\n",
       "   'LEU878:CD2',\n",
       "   'GLN346:O',\n",
       "   'TYR952:CZ',\n",
       "   'GLN346:CA',\n",
       "   'PHE342:CB',\n",
       "   'TRP231:CZ3',\n",
       "   'GLN346:CB',\n",
       "   'GLN346:CG',\n",
       "   'LA232:CA',\n",
       "   'ILE305:CG2',\n",
       "   'PHE342:CD1',\n",
       "   'PRO349:CG',\n",
       "   'LEU878:CD1',\n",
       "   'MET68:CE',\n",
       "   'TYR952:OH',\n",
       "   'LEU64:CD1'],\n",
       "  [19],\n",
       "  [17],\n",
       "  152),\n",
       " ([-0.2703],\n",
       "  ['PHE302:CZ',\n",
       "   'LA301:CB',\n",
       "   'GLN989:CB',\n",
       "   'TRP231:CE2',\n",
       "   'PHE302:CE2',\n",
       "   'VAL990:CG2',\n",
       "   'LA301:C',\n",
       "   'ILE305:CD1',\n",
       "   'ILE305:CG2',\n",
       "   'PHE769:CB'],\n",
       "  [10],\n",
       "  [9],\n",
       "  153),\n",
       " ([-0.2366],\n",
       "  ['LA228:CA',\n",
       "   'PHE982:CD2',\n",
       "   '227:OG',\n",
       "   'LA301:CB',\n",
       "   'PHE342:CE2',\n",
       "   'PHE727:CE2',\n",
       "   'PHE335:CE2',\n",
       "   'PHE727:CZ',\n",
       "   'ILE305:CG2',\n",
       "   'LA228:CB',\n",
       "   'GLN989:OE1',\n",
       "   'GLN989:CD',\n",
       "   'MET985:CB',\n",
       "   'MET985:CG',\n",
       "   'MET948:CE',\n",
       "   'PHE342:CD1',\n",
       "   'TYR309:OH',\n",
       "   'TRP231:CE3'],\n",
       "  [18],\n",
       "  [14],\n",
       "  154),\n",
       " ([-0.3167],\n",
       "  ['GLU874:CD',\n",
       "   'LEU878:CD1',\n",
       "   'LA301:CB',\n",
       "   'ILE305:CG2',\n",
       "   'PHE941:CZ',\n",
       "   'TRP231:CE3',\n",
       "   'LA228:CB',\n",
       "   'TRP231:CD2',\n",
       "   'PHE342:CD2'],\n",
       "  [9],\n",
       "  [5],\n",
       "  155),\n",
       " (None, 156),\n",
       " ([-0.3],\n",
       "  ['N720:CB',\n",
       "   'N720:OD1',\n",
       "   'VAL990:CG2',\n",
       "   'GLN989:CB',\n",
       "   'LA986:CB',\n",
       "   'N720:CG',\n",
       "   'PHE769:CG',\n",
       "   'PHE302:CZ',\n",
       "   'PHE769:CB',\n",
       "   'MET298:CE',\n",
       "   'PHE769:CE2'],\n",
       "  [11],\n",
       "  [9],\n",
       "  157),\n",
       " ([-0.1587],\n",
       "  ['ILE305:CG2',\n",
       "   'PHE727:CD2',\n",
       "   'TYR952:CE2',\n",
       "   'MET985:CB',\n",
       "   'PHE335:CE2',\n",
       "   'PHE71:CD1',\n",
       "   'PHE982:CG',\n",
       "   'ILE339:CG2',\n",
       "   'TRP231:CE3',\n",
       "   'PHE982:CD2',\n",
       "   'PHE335:CD2',\n",
       "   'TYR309:OH',\n",
       "   'PHE71:CG',\n",
       "   'PHE302:CE2',\n",
       "   'PHE342:CB',\n",
       "   'MET985:CE',\n",
       "   'ILE305:CD1'],\n",
       "  [17],\n",
       "  [22],\n",
       "  158),\n",
       " ([-0.2867],\n",
       "  ['LA228:CB',\n",
       "   'LEU878:CD1',\n",
       "   'LA301:C',\n",
       "   'TRP231:CZ3',\n",
       "   'PHE941:CE1',\n",
       "   'PHE302:CE2',\n",
       "   'GLU874:CG',\n",
       "   'ILE305:CD1',\n",
       "   'PHE302:CE1',\n",
       "   'PHE302:CZ',\n",
       "   'ILE305:CG2',\n",
       "   'GLN346:CB',\n",
       "   'GLU874:CD',\n",
       "   'PHE302:CD2',\n",
       "   'GLY345:C',\n",
       "   'TRP231:CE3',\n",
       "   'PHE342:CB',\n",
       "   'TRP231:CD2'],\n",
       "  [18],\n",
       "  [12],\n",
       "  159),\n",
       " ([-0.3958],\n",
       "  ['PHE302:CD1',\n",
       "   'VAL990:CA',\n",
       "   'PHE769:CE2',\n",
       "   'LA994:CB',\n",
       "   'VAL990:CG2',\n",
       "   'N720:OD1',\n",
       "   'GLN837:NE2',\n",
       "   'MET298:CE',\n",
       "   'PHE769:CD2',\n",
       "   'GLN772:CD',\n",
       "   'PHE302:CZ',\n",
       "   'PHE993:CD2',\n",
       "   'PHE302:CE1',\n",
       "   'PHE769:CB'],\n",
       "  [14],\n",
       "  [11],\n",
       "  160),\n",
       " ([-0.3696],\n",
       "  ['PHE302:CZ',\n",
       "   'GLN346:OE1',\n",
       "   'PHE342:CD1',\n",
       "   'LA301:CB',\n",
       "   'PHE342:CB',\n",
       "   'TRP231:CE3',\n",
       "   'TRP231:CD1'],\n",
       "  [7],\n",
       "  [8],\n",
       "  161),\n",
       " ([-0.3643],\n",
       "  ['LEU64:CB',\n",
       "   'PHE342:CB',\n",
       "   'LA301:CB',\n",
       "   'TRP231:CE3',\n",
       "   'LEU64:CD2',\n",
       "   'PHE342:CG',\n",
       "   'ILE305:CG2',\n",
       "   'LA301:C',\n",
       "   'TRP231:CD2',\n",
       "   'LA301:CA',\n",
       "   'THR198:CG2'],\n",
       "  [11],\n",
       "  [10],\n",
       "  162),\n",
       " ([-0.3517],\n",
       "  ['ILE305:CD1',\n",
       "   'PHE335:CD2',\n",
       "   'TYR952:CE2',\n",
       "   'TYR309:OH',\n",
       "   'PHE982:CE2',\n",
       "   'PHE71:CZ',\n",
       "   'PHE335:CE2',\n",
       "   'PHE982:CZ',\n",
       "   'ILE339:CG2',\n",
       "   'PHE731:CE2',\n",
       "   'PHE977:CE2',\n",
       "   'PHE727:CB',\n",
       "   'PHE982:CD2',\n",
       "   'PHE727:CD2',\n",
       "   'PHE71:CE1',\n",
       "   'PHE977:CD2'],\n",
       "  [16],\n",
       "  [15],\n",
       "  163),\n",
       " ([-0.2361],\n",
       "  ['PHE342:CG',\n",
       "   'PHE302:CZ',\n",
       "   'PHE302:CE2',\n",
       "   'PHE982:CE1',\n",
       "   'LA228:CB',\n",
       "   'LA301:CB',\n",
       "   'PHE342:CD1',\n",
       "   'PHE335:CZ',\n",
       "   'PHE982:CD1',\n",
       "   'LA228:CA',\n",
       "   'TRP231:CE3',\n",
       "   'PHE982:CB',\n",
       "   'PHE727:CD2',\n",
       "   'PHE342:CB',\n",
       "   'PHE335:CE2',\n",
       "   'PHE982:CG',\n",
       "   'ILE305:CG2',\n",
       "   'PHE727:CE2',\n",
       "   'GLN989:OE1'],\n",
       "  [19],\n",
       "  [12],\n",
       "  164),\n",
       " ([-0.3423],\n",
       "  ['TYR952:CE2',\n",
       "   'PHE982:CD2',\n",
       "   'PHE982:CZ',\n",
       "   'ILE339:CG2',\n",
       "   'ILE305:CD1',\n",
       "   'PHE982:CG',\n",
       "   'PHE727:CE2',\n",
       "   'PHE982:CE2',\n",
       "   'PHE727:CD2',\n",
       "   'PHE335:CE2',\n",
       "   'PHE71:CZ'],\n",
       "  [11],\n",
       "  [11],\n",
       "  165),\n",
       " ([-0.376],\n",
       "  ['PHE342:CB', 'LA228:CA', 'PHE342:CD1', 'ILE305:CG2', 'TRP231:CZ3'],\n",
       "  [5],\n",
       "  [5],\n",
       "  166),\n",
       " ([-0.1902],\n",
       "  ['GLN989:CD',\n",
       "   'LA228:CB',\n",
       "   'TRP231:CE3',\n",
       "   'PHE335:CA',\n",
       "   'TRP231:CE2',\n",
       "   'TRP231:CH2',\n",
       "   'PHE982:CZ',\n",
       "   'GLU874:CB',\n",
       "   'PHE335:CG',\n",
       "   'PHE941:CZ',\n",
       "   'MET948:CE',\n",
       "   'TRP231:CZ2',\n",
       "   'PHE982:CE1',\n",
       "   'PHE727:CE2',\n",
       "   'GLU874:CD',\n",
       "   'PHE302:CZ',\n",
       "   'TYR309:OH',\n",
       "   'MET191:CE',\n",
       "   'LEU878:CG',\n",
       "   'PHE941:CE1',\n",
       "   'TRP231:CZ3',\n",
       "   'LA301:CB',\n",
       "   'LA228:CA',\n",
       "   'PHE335:CE2',\n",
       "   'ILE339:CG2',\n",
       "   'TRP231:CD2'],\n",
       "  [26],\n",
       "  [19],\n",
       "  167),\n",
       " (None, 168),\n",
       " (None, 169),\n",
       " ([-0.2119],\n",
       "  ['VAL990:CG1',\n",
       "   'VAL990:CA',\n",
       "   'TRP231:CZ2',\n",
       "   'PHE302:CE2',\n",
       "   'ILE339:CG2',\n",
       "   'GLN346:CB',\n",
       "   'PHE993:CD2',\n",
       "   'MET298:CE',\n",
       "   'TYR309:OH',\n",
       "   'GLN989:CD',\n",
       "   'PHE302:CZ',\n",
       "   'TRP231:CZ3',\n",
       "   'LEU338:CD2',\n",
       "   'LA994:CB',\n",
       "   'VAL990:CG2',\n",
       "   'TRP231:CH2',\n",
       "   'LEU338:CG'],\n",
       "  [17],\n",
       "  [16],\n",
       "  170),\n",
       " ([-0.335],\n",
       "  ['PHE302:CE2',\n",
       "   'GLN989:CB',\n",
       "   'PHE769:CB',\n",
       "   'PHE993:CG',\n",
       "   'PHE769:CE2',\n",
       "   'VAL990:CG2',\n",
       "   'GLN724:NE2',\n",
       "   'GLN837:OE1',\n",
       "   'PHE302:CZ',\n",
       "   'PHE302:CD2',\n",
       "   'MET298:CE',\n",
       "   'PHE769:CD2'],\n",
       "  [12],\n",
       "  [12],\n",
       "  171),\n",
       " (None, 172),\n",
       " ([-0.5133],\n",
       "  ['GLN346:CB',\n",
       "   'TRP231:CZ3',\n",
       "   'LA228:CB',\n",
       "   'PHE342:CB',\n",
       "   'ILE305:CG2',\n",
       "   'PHE342:CD2'],\n",
       "  [6],\n",
       "  [8],\n",
       "  173),\n",
       " ([-0.2931],\n",
       "  ['GLN194:NE2',\n",
       "   'TRP231:CZ3',\n",
       "   'GLN346:OE1',\n",
       "   'LEU878:CD1',\n",
       "   'PHE342:CD2',\n",
       "   'LA301:CB',\n",
       "   'PHE342:CB',\n",
       "   'TRP231:CH2'],\n",
       "  [8],\n",
       "  [8],\n",
       "  174),\n",
       " ([-0.363],\n",
       "  ['PHE302:CZ',\n",
       "   'GLN724:NE2',\n",
       "   'PHE302:CG',\n",
       "   'GLN989:OE1',\n",
       "   'PHE302:CD2',\n",
       "   'GLN989:CB',\n",
       "   'PHE993:CD2',\n",
       "   'PHE993:CB',\n",
       "   'GLN989:C',\n",
       "   'GLN772:CG',\n",
       "   'PHE769:CE2',\n",
       "   'N720:CB',\n",
       "   'VAL990:CG2',\n",
       "   'MET298:CE',\n",
       "   'GLN989:CD'],\n",
       "  [15],\n",
       "  [14],\n",
       "  175),\n",
       " ([-0.35],\n",
       "  ['GLN772:CD', 'PHE302:CE1', 'PHE776:CD1', 'PHE769:CD2'],\n",
       "  [4],\n",
       "  [3],\n",
       "  176),\n",
       " (None, 177),\n",
       " (None, 178),\n",
       " ([-0.2657],\n",
       "  ['ILE339:CA',\n",
       "   'PHE342:CB',\n",
       "   'LA301:C',\n",
       "   'TRP231:CZ3',\n",
       "   'ILE339:CG2',\n",
       "   'PHE302:CD2',\n",
       "   'ILE339:CB',\n",
       "   'PHE342:CD1',\n",
       "   'ILE305:CG2',\n",
       "   'ILE305:CD1',\n",
       "   'TRP231:CD2',\n",
       "   'THR198:CG2',\n",
       "   'TRP231:CG'],\n",
       "  [13],\n",
       "  [8],\n",
       "  179),\n",
       " (None, 180),\n",
       " ([-0.0679],\n",
       "  ['TYR952:OH',\n",
       "   'PHE982:CE2',\n",
       "   'PHE335:CG',\n",
       "   'GLN989:CD',\n",
       "   'VAL834:CG2',\n",
       "   'GLN945:NE2',\n",
       "   'PHE727:CD2',\n",
       "   'LA228:CA',\n",
       "   'LEU878:CD1',\n",
       "   'MET985:CE',\n",
       "   'GLN945:CD',\n",
       "   'LEU64:CD2',\n",
       "   'N295:ND2',\n",
       "   'VAL990:CG1',\n",
       "   'TRP231:CE3',\n",
       "   '236:CB',\n",
       "   'TRP231:CZ2',\n",
       "   'MET298:SD',\n",
       "   'LEU878:CB',\n",
       "   'MET875:CE',\n",
       "   'PHE342:CB',\n",
       "   'LA833:CB',\n",
       "   'LEU64:CD1',\n",
       "   'TRP231:CE2',\n",
       "   'THR198:CG2',\n",
       "   'VAL990:CG2',\n",
       "   'PHE769:CG',\n",
       "   'PRO349:CG',\n",
       "   'PHE993:CG',\n",
       "   'PHE769:CD1',\n",
       "   'GLU874:OE1',\n",
       "   'LEU878:O',\n",
       "   'GLU874:OE2',\n",
       "   'PHE769:CE2',\n",
       "   'PHE342:O',\n",
       "   'ILE339:CG2',\n",
       "   'N720:CB',\n",
       "   'LA232:O',\n",
       "   'TRP231:CZ3',\n",
       "   'PHE993:CD1',\n",
       "   'LEU878:C',\n",
       "   'PHE335:CE2',\n",
       "   'N350:OD1',\n",
       "   'PHE941:CE1',\n",
       "   'GLN724:CD',\n",
       "   'GLN724:OE1',\n",
       "   'PHE302:CZ',\n",
       "   'LEU64:CB',\n",
       "   'N350:CG',\n",
       "   'PHE941:CZ',\n",
       "   'GLU874:CD',\n",
       "   'PHE769:CB',\n",
       "   'PHE335:CD2',\n",
       "   'LEU878:CA',\n",
       "   'N720:OD1',\n",
       "   'GLN346:CG',\n",
       "   'LEU878:CD2',\n",
       "   'GLN724:NE2',\n",
       "   'GLN346:OE1',\n",
       "   'GLN346:CA',\n",
       "   'GLN989:CB',\n",
       "   'PHE982:CZ',\n",
       "   'GLN989:NE2',\n",
       "   'PHE302:CE2',\n",
       "   'PHE993:CB',\n",
       "   'MET298:CE',\n",
       "   'GLN837:OE1',\n",
       "   '343:CA',\n",
       "   'LEU235:CD2',\n",
       "   'ILE339:O',\n",
       "   'LA228:CB',\n",
       "   'TRP231:CH2',\n",
       "   'LEU235:CG',\n",
       "   '343:CB'],\n",
       "  [74],\n",
       "  [66],\n",
       "  181),\n",
       " (None, 182),\n",
       " ([-0.3136],\n",
       "  ['LA301:CB',\n",
       "   'TRP231:CG',\n",
       "   'GLN346:CA',\n",
       "   'TRP231:CZ3',\n",
       "   'GLN346:N',\n",
       "   'PHE342:CE2',\n",
       "   'TRP231:CE3',\n",
       "   'PHE342:CD1',\n",
       "   'ILE305:CG2',\n",
       "   'LA228:CA',\n",
       "   'TRP231:CB'],\n",
       "  [11],\n",
       "  [6],\n",
       "  183),\n",
       " ([-0.2943],\n",
       "  ['PHE982:CB',\n",
       "   'GLN989:CB',\n",
       "   'TYR306:CZ',\n",
       "   'PHE727:CG',\n",
       "   'PHE982:CZ',\n",
       "   'PHE993:CE2',\n",
       "   'PHE302:CZ',\n",
       "   'PHE727:CD2',\n",
       "   'PHE982:CE1',\n",
       "   'LA986:CB',\n",
       "   'ILE305:CD1',\n",
       "   'TYR306:CE2',\n",
       "   'VAL990:CG2',\n",
       "   'TYR309:CZ',\n",
       "   'LA994:CB',\n",
       "   'PHE993:CD2',\n",
       "   'TYR309:CE1',\n",
       "   'PHE727:CE2'],\n",
       "  [18],\n",
       "  [16],\n",
       "  184),\n",
       " ([-0.2286],\n",
       "  ['GLN724:CD',\n",
       "   'GLN724:NE2',\n",
       "   'ILE305:CD1',\n",
       "   'PHE727:CD2',\n",
       "   'PHE727:CG',\n",
       "   'TYR306:OH',\n",
       "   'ILE305:CG2',\n",
       "   'PHE727:CB',\n",
       "   'GLN724:OE1'],\n",
       "  [9],\n",
       "  [7],\n",
       "  185),\n",
       " ([-0.3269],\n",
       "  ['PHE302:CZ',\n",
       "   'LA986:CB',\n",
       "   'GLN724:CD',\n",
       "   'GLN772:OE1',\n",
       "   'VAL990:CG2',\n",
       "   'PHE769:CB',\n",
       "   'GLN772:CD',\n",
       "   'N720:OD1',\n",
       "   'PHE982:CG',\n",
       "   'PHE727:CE2',\n",
       "   'PHE982:CB',\n",
       "   'GLN724:OE1'],\n",
       "  [12],\n",
       "  [11],\n",
       "  186),\n",
       " ([-0.3143],\n",
       "  ['PHE342:CE2',\n",
       "   'PHE342:CG',\n",
       "   'ILE305:CG2',\n",
       "   'ILE339:CG2',\n",
       "   'ILE305:CD1',\n",
       "   'PHE342:CD1',\n",
       "   'LA301:CB'],\n",
       "  [7],\n",
       "  [6],\n",
       "  187),\n",
       " ([-0.2788],\n",
       "  ['PHE342:CD1',\n",
       "   'TYR309:OH',\n",
       "   'PHE342:CB',\n",
       "   'ILE305:CD1',\n",
       "   'TRP231:CG',\n",
       "   'GLN346:OE1',\n",
       "   'PHE342:CE1',\n",
       "   'TRP231:CZ3',\n",
       "   'GLN346:CD',\n",
       "   'PHE342:CG',\n",
       "   'TRP231:CD2'],\n",
       "  [11],\n",
       "  [11],\n",
       "  188),\n",
       " ([-0.3],\n",
       "  ['GLN346:CB',\n",
       "   'TRP231:CZ3',\n",
       "   'PHE342:CG',\n",
       "   'PHE342:CD2',\n",
       "   'TRP231:CE3',\n",
       "   'PHE342:O',\n",
       "   'PHE302:CE2',\n",
       "   'TRP231:CH2',\n",
       "   'PHE302:CZ',\n",
       "   'TRP231:CZ2',\n",
       "   'LA228:CB',\n",
       "   'PHE342:CB',\n",
       "   'TRP231:CE2'],\n",
       "  [13],\n",
       "  [11],\n",
       "  189),\n",
       " (None, 190),\n",
       " ([-0.3481],\n",
       "  ['PRO349:CG',\n",
       "   'LYS188:NZ',\n",
       "   'LA228:CA',\n",
       "   'GLN346:CA',\n",
       "   '227:OG',\n",
       "   'LEU878:CD2',\n",
       "   'TRP231:CZ3',\n",
       "   'LEU878:CD1',\n",
       "   'GLN346:CG',\n",
       "   'LA232:CB',\n",
       "   'LEU235:CD2',\n",
       "   'LA301:CB',\n",
       "   'GLN346:CB',\n",
       "   'TRP231:CE3',\n",
       "   'ILE305:CG2',\n",
       "   'PHE342:CE2'],\n",
       "  [16],\n",
       "  [13],\n",
       "  191),\n",
       " ([-0.3286],\n",
       "  ['PHE342:CB',\n",
       "   'ILE339:CB',\n",
       "   'TRP231:CZ3',\n",
       "   'TRP231:CB',\n",
       "   '343:CA',\n",
       "   'LEU878:CD1',\n",
       "   'LA228:CA'],\n",
       "  [7],\n",
       "  [9],\n",
       "  192),\n",
       " ([-0.3],\n",
       "  ['PHE302:CZ',\n",
       "   'PHE982:CD2',\n",
       "   'PHE342:CE1',\n",
       "   'PHE982:CZ',\n",
       "   'PHE302:CE1',\n",
       "   'LA986:CB',\n",
       "   'LA986:CA',\n",
       "   'GLN724:OE1',\n",
       "   'PHE982:CG',\n",
       "   'TYR309:OH',\n",
       "   'GLN724:NE2',\n",
       "   'MET298:CE',\n",
       "   'VAL990:CG2'],\n",
       "  [13],\n",
       "  [15],\n",
       "  193),\n",
       " ([-0.2366],\n",
       "  ['GLN346:OE1',\n",
       "   'LEU64:CB',\n",
       "   'TRP231:CZ3',\n",
       "   'ILE339:CB',\n",
       "   'THR198:CG2',\n",
       "   'PHE342:O',\n",
       "   'PHE342:CD1',\n",
       "   'TRP231:CE2',\n",
       "   'TRP231:CZ2',\n",
       "   'PHE342:CB',\n",
       "   'GLN346:CA',\n",
       "   'ILE305:CD1',\n",
       "   'ILE339:CG2'],\n",
       "  [13],\n",
       "  [14],\n",
       "  194),\n",
       " ([-0.4],\n",
       "  ['ILE305:CG2',\n",
       "   'TRP231:CH2',\n",
       "   'ILE305:CD1',\n",
       "   'PHE342:C',\n",
       "   'PHE342:CB',\n",
       "   'TRP231:CZ3',\n",
       "   'PHE342:CD2',\n",
       "   'PHE342:CE1',\n",
       "   'TRP231:CE3',\n",
       "   'PHE342:CD1'],\n",
       "  [10],\n",
       "  [10],\n",
       "  195),\n",
       " ([-0.325],\n",
       "  ['LA301:CB',\n",
       "   'LA228:CB',\n",
       "   'PHE342:CB',\n",
       "   'LA228:CA',\n",
       "   'PHE342:CE2',\n",
       "   'THR198:CG2'],\n",
       "  [6],\n",
       "  [5],\n",
       "  196),\n",
       " ([-0.2885], ['PHE342:CB', 'TRP231:CZ3', 'THR198:CG2'], [3], [4], 197),\n",
       " ([-0.4143], ['PHE342:O', 'PHE302:CE2', 'TRP231:CZ3'], [3], [6], 198),\n",
       " ([-0.4053],\n",
       "  ['GLN772:CG',\n",
       "   'LA833:CB',\n",
       "   'PHE769:CD2',\n",
       "   'GLN772:OE1',\n",
       "   'GLY773:CA',\n",
       "   'LA994:CB',\n",
       "   'VAL990:CG1'],\n",
       "  [7],\n",
       "  [7],\n",
       "  199),\n",
       " ([-0.3731],\n",
       "  ['N720:O',\n",
       "   'PHE302:CD2',\n",
       "   'N720:C',\n",
       "   'N720:CA',\n",
       "   'N720:CB',\n",
       "   'LEU723:CB',\n",
       "   'GLN837:OE1',\n",
       "   'GLN724:NE2',\n",
       "   'VAL990:CG2',\n",
       "   'PHE769:CE2',\n",
       "   'GLN989:CB',\n",
       "   'PHE302:CZ',\n",
       "   'MET298:CE',\n",
       "   'PHE993:CB',\n",
       "   'TYR306:CE1',\n",
       "   '765:CB'],\n",
       "  [16],\n",
       "  [17],\n",
       "  200),\n",
       " ([-0.222],\n",
       "  ['PHE342:CG',\n",
       "   'PHE342:CE1',\n",
       "   'PHE342:CD2',\n",
       "   'ILE305:CG2',\n",
       "   'PHE982:CB',\n",
       "   'TRP231:CB',\n",
       "   'PHE342:CD1',\n",
       "   'PHE982:CG'],\n",
       "  [8],\n",
       "  [7],\n",
       "  201),\n",
       " (None, 202),\n",
       " (None, 203),\n",
       " ([-0.2222],\n",
       "  ['GLN346:CB',\n",
       "   'TRP231:CZ3',\n",
       "   'LEU64:CD2',\n",
       "   'PHE342:CB',\n",
       "   'LEU338:CD2',\n",
       "   'TRP231:CE2',\n",
       "   'THR198:CG2',\n",
       "   'PHE302:CZ',\n",
       "   'ILE339:CG2',\n",
       "   'LEU338:CG',\n",
       "   'MET68:CE',\n",
       "   'GLN346:OE1',\n",
       "   'LA301:CB',\n",
       "   'TRP231:CD2',\n",
       "   'TRP231:CE3'],\n",
       "  [15],\n",
       "  [13],\n",
       "  204),\n",
       " ([-0.3364],\n",
       "  ['LEU878:CD2',\n",
       "   'LA228:CB',\n",
       "   'PHE342:CG',\n",
       "   'LA232:CA',\n",
       "   'PRO349:CG',\n",
       "   'LA232:CB',\n",
       "   'GLN346:CA',\n",
       "   'TRP231:CE3',\n",
       "   '236:CB',\n",
       "   'LEU235:CD2',\n",
       "   'GLN346:CB',\n",
       "   'PHE342:CD1',\n",
       "   'PHE342:CB',\n",
       "   'TRP231:CZ3',\n",
       "   'LEU878:CD1',\n",
       "   'PHE342:O',\n",
       "   'GLN346:CG',\n",
       "   'ILE305:CG2'],\n",
       "  [18],\n",
       "  [15],\n",
       "  205),\n",
       " ([-0.3097],\n",
       "  ['TYR306:CE2',\n",
       "   'PHE982:CB',\n",
       "   'TYR309:CZ',\n",
       "   'TYR309:CE1',\n",
       "   'MET985:CB',\n",
       "   'PHE302:CE2',\n",
       "   'ILE305:CG2',\n",
       "   'PHE982:CD2',\n",
       "   'ILE305:CD1',\n",
       "   'PHE982:CG'],\n",
       "  [10],\n",
       "  [7],\n",
       "  206),\n",
       " ([-0.2727],\n",
       "  ['PHE982:CG',\n",
       "   'PHE727:CE2',\n",
       "   'PHE342:CE1',\n",
       "   'PHE727:CD2',\n",
       "   'PHE342:CD1',\n",
       "   'PHE982:CB',\n",
       "   'ILE305:CD1',\n",
       "   'ILE305:CG2',\n",
       "   'PHE982:CD2',\n",
       "   'PHE302:CE2'],\n",
       "  [10],\n",
       "  [7],\n",
       "  207),\n",
       " ([-0.2205],\n",
       "  ['PHE302:CE1',\n",
       "   'LA986:CA',\n",
       "   'PHE71:CG',\n",
       "   'MET298:CE',\n",
       "   'PHE769:CD2',\n",
       "   'PHE982:CZ',\n",
       "   'PHE769:CB',\n",
       "   'GLN724:NE2',\n",
       "   'PHE302:CE2',\n",
       "   'PHE769:CG',\n",
       "   'LA986:CB',\n",
       "   'VAL990:CG2',\n",
       "   'PHE982:CD2',\n",
       "   'PHE302:CZ'],\n",
       "  [14],\n",
       "  [12],\n",
       "  208),\n",
       " ([-0.1902],\n",
       "  ['PHE302:CZ',\n",
       "   'VAL990:CG2',\n",
       "   'PHE982:CD2',\n",
       "   'PHE727:CE2',\n",
       "   'VAL990:CA',\n",
       "   'GLN724:NE2',\n",
       "   'MET298:CE',\n",
       "   'ILE339:CG2',\n",
       "   'PHE982:CG',\n",
       "   'PHE769:CB',\n",
       "   'PHE335:CG',\n",
       "   'PHE769:CG',\n",
       "   'PHE335:CD2',\n",
       "   'GLN772:CG',\n",
       "   'MET68:CE',\n",
       "   'GLN772:CD',\n",
       "   'PHE993:CB',\n",
       "   'PHE982:CZ',\n",
       "   'GLN724:OE1',\n",
       "   'PHE302:CD2',\n",
       "   'GLN989:C',\n",
       "   'LA986:CB',\n",
       "   'PHE302:CE2',\n",
       "   'PHE769:CD2',\n",
       "   'PHE993:CD2',\n",
       "   'PHE335:CE2',\n",
       "   'GLN724:CD',\n",
       "   'GLN837:OE1'],\n",
       "  [28],\n",
       "  [23],\n",
       "  209),\n",
       " ([-0.2967],\n",
       "  ['LEU64:CD2',\n",
       "   'LA228:CB',\n",
       "   'TRP231:CH2',\n",
       "   'GLN346:CB',\n",
       "   'ILE339:CB',\n",
       "   'LEU878:CD1',\n",
       "   'TRP231:CZ3',\n",
       "   'PHE342:CD2'],\n",
       "  [8],\n",
       "  [10],\n",
       "  210),\n",
       " ([-0.4087],\n",
       "  ['PHE342:CD1',\n",
       "   'LA228:CB',\n",
       "   'TRP231:CZ3',\n",
       "   'PHE342:CE1',\n",
       "   'LA228:CA',\n",
       "   'TRP231:CE3',\n",
       "   'PHE342:CB',\n",
       "   'ILE305:CG2',\n",
       "   'PHE342:CE2'],\n",
       "  [9],\n",
       "  [6],\n",
       "  211),\n",
       " ([-0.2],\n",
       "  ['TYR306:OH',\n",
       "   'TRP231:CE2',\n",
       "   'TYR306:CE2',\n",
       "   'ILE305:CG2',\n",
       "   'PHE302:CZ',\n",
       "   'ILE339:CG2',\n",
       "   'ILE339:O',\n",
       "   'TYR306:CZ',\n",
       "   'TYR309:OH',\n",
       "   'ILE339:C'],\n",
       "  [10],\n",
       "  [7],\n",
       "  212),\n",
       " (None, 213),\n",
       " ([-0.332],\n",
       "  ['PHE302:CZ',\n",
       "   'PHE993:CD2',\n",
       "   'PHE769:CD2',\n",
       "   'MET298:CE',\n",
       "   'GLN989:OE1',\n",
       "   'VAL990:CG2',\n",
       "   'GLN989:CB',\n",
       "   'PHE769:CE2',\n",
       "   'VAL990:CG1'],\n",
       "  [9],\n",
       "  [11],\n",
       "  214),\n",
       " ([-0.5455],\n",
       "  ['VAL990:CG2',\n",
       "   '765:CB',\n",
       "   'N720:CB',\n",
       "   'PHE769:CE2',\n",
       "   'PHE302:CD2',\n",
       "   '765:OG',\n",
       "   'TYR306:CE1'],\n",
       "  [7],\n",
       "  [5],\n",
       "  215),\n",
       " ([-0.2302],\n",
       "  ['TRP231:CE3',\n",
       "   'ILE339:CG2',\n",
       "   'PHE342:C',\n",
       "   'ILE305:CG2',\n",
       "   'PHE342:O',\n",
       "   'ILE339:CB',\n",
       "   'GLN346:CA',\n",
       "   'ILE305:CD1',\n",
       "   'GLN346:N',\n",
       "   'PHE342:CB',\n",
       "   'TRP231:CZ3',\n",
       "   'MET985:CG',\n",
       "   'PHE982:CE2'],\n",
       "  [13],\n",
       "  [12],\n",
       "  216),\n",
       " ([-0.3577],\n",
       "  ['MET68:SD',\n",
       "   'PHE335:CE2',\n",
       "   'PHE71:CZ',\n",
       "   'PHE71:CD1',\n",
       "   'PHE977:CE2',\n",
       "   'TYR952:CE2',\n",
       "   'PHE335:CD2',\n",
       "   'PHE977:CD2',\n",
       "   'PHE727:CD2',\n",
       "   'PHE71:CE1',\n",
       "   'PHE982:CE2',\n",
       "   'PHE731:CE2',\n",
       "   'PHE982:CE1',\n",
       "   'PHE727:CE2',\n",
       "   'PHE731:CZ'],\n",
       "  [15],\n",
       "  [12],\n",
       "  217),\n",
       " (None, 218),\n",
       " ([-0.48],\n",
       "  ['GLN989:CB',\n",
       "   'PHE993:CD1',\n",
       "   'PHE302:CZ',\n",
       "   'PHE769:CE2',\n",
       "   'MET875:CE',\n",
       "   'GLN989:CD',\n",
       "   'PHE993:CG',\n",
       "   'PHE993:CB',\n",
       "   'PHE302:CD2'],\n",
       "  [9],\n",
       "  [7],\n",
       "  219),\n",
       " (None, 220),\n",
       " ([-0.3],\n",
       "  ['GLN346:CB',\n",
       "   'PHE342:CD1',\n",
       "   'LEU878:CD1',\n",
       "   'PHE342:CB',\n",
       "   'GLN346:CA',\n",
       "   'GLN346:CG',\n",
       "   'TRP231:CZ3',\n",
       "   'PRO349:CG',\n",
       "   'LEU235:CD2',\n",
       "   'LEU878:CD2',\n",
       "   'PHE342:CG',\n",
       "   'ILE305:CD1'],\n",
       "  [12],\n",
       "  [14],\n",
       "  221),\n",
       " ([-0.3138],\n",
       "  ['GLN346:CB',\n",
       "   'PHE342:CD1',\n",
       "   'LEU64:CD2',\n",
       "   'PHE342:CB',\n",
       "   'LA232:CB',\n",
       "   'GLN346:CG',\n",
       "   'TRP231:CZ3',\n",
       "   'PRO349:CG',\n",
       "   'LEU878:CD2',\n",
       "   'LEU235:CD2',\n",
       "   'ILE339:CB',\n",
       "   'LEU878:CD1',\n",
       "   '236:CB'],\n",
       "  [13],\n",
       "  [13],\n",
       "  222),\n",
       " ([-0.2719],\n",
       "  ['PHE302:CE2',\n",
       "   'TYR306:OH',\n",
       "   'PHE342:CE1',\n",
       "   'PHE982:CB',\n",
       "   'TRP231:CE3',\n",
       "   'PHE342:CD1',\n",
       "   'ILE339:CG2',\n",
       "   'PHE727:CD2',\n",
       "   'ILE305:CD1'],\n",
       "  [9],\n",
       "  [12],\n",
       "  223),\n",
       " ([-0.3643],\n",
       "  ['PHE769:CE2',\n",
       "   'PHE769:CB',\n",
       "   'PHE302:CE1',\n",
       "   'N720:CB',\n",
       "   'MET298:CE',\n",
       "   'GLN724:NE2'],\n",
       "  [6],\n",
       "  [9],\n",
       "  224),\n",
       " (None, 225),\n",
       " ([-0.2971],\n",
       "  ['PHE982:CZ',\n",
       "   'PHE302:CE2',\n",
       "   'PHE335:CZ',\n",
       "   'ILE305:CG2',\n",
       "   'ILE305:CD1',\n",
       "   'PHE982:CE1',\n",
       "   'PHE342:CG',\n",
       "   'PHE342:CD1',\n",
       "   'PHE982:CE2',\n",
       "   'PHE727:CE2',\n",
       "   'PHE731:CZ',\n",
       "   'PHE982:CG',\n",
       "   'PHE335:CE2'],\n",
       "  [13],\n",
       "  [13],\n",
       "  226),\n",
       " (None, 227),\n",
       " ([-0.2939],\n",
       "  ['TRP231:CZ3',\n",
       "   'GLY345:C',\n",
       "   'THR198:CG2',\n",
       "   'LA228:CB',\n",
       "   'TYR309:CE1',\n",
       "   'PHE342:CG',\n",
       "   'PHE727:CD2',\n",
       "   'TRP231:CE3',\n",
       "   'PHE342:O',\n",
       "   'PHE342:CD1',\n",
       "   'GLN346:CA',\n",
       "   'ILE305:CD1',\n",
       "   'PHE727:CE1',\n",
       "   'GLN346:N',\n",
       "   'TYR306:CE2',\n",
       "   'PHE727:CG'],\n",
       "  [16],\n",
       "  [11],\n",
       "  228),\n",
       " ([-0.2175],\n",
       "  ['PHE302:CE1',\n",
       "   'GLN724:NE2',\n",
       "   'PHE302:CG',\n",
       "   'N295:ND2',\n",
       "   'PHE302:CE2',\n",
       "   'GLN989:OE1',\n",
       "   'ILE305:CG2',\n",
       "   'MET298:CE',\n",
       "   'PHE302:CZ',\n",
       "   'PHE302:CD2',\n",
       "   'ILE305:CD1',\n",
       "   'GLN772:CG',\n",
       "   'TRP231:CE2',\n",
       "   'GLN837:OE1',\n",
       "   'GLN837:NE2'],\n",
       "  [15],\n",
       "  [20],\n",
       "  229),\n",
       " ([-0.2968],\n",
       "  ['TYR306:CZ',\n",
       "   'TYR306:OH',\n",
       "   'PHE335:CA',\n",
       "   'LEU338:CD2',\n",
       "   'ILE339:CG2',\n",
       "   'ILE305:CD1',\n",
       "   'PHE335:CD2',\n",
       "   'PHE335:CG',\n",
       "   'PHE727:CD2'],\n",
       "  [9],\n",
       "  [6],\n",
       "  230),\n",
       " ([-0.2386],\n",
       "  ['PHE727:CZ',\n",
       "   'PHE982:CZ',\n",
       "   'PHE302:CZ',\n",
       "   'TRP231:CE3',\n",
       "   '343:CA',\n",
       "   'PHE982:CE1',\n",
       "   'TRP231:CE2',\n",
       "   'LA301:CB',\n",
       "   'PHE727:CE2',\n",
       "   'LA301:C',\n",
       "   'PHE342:CB',\n",
       "   'PHE727:CD2',\n",
       "   'THR198:CG2',\n",
       "   'ILE305:CG2'],\n",
       "  [14],\n",
       "  [14],\n",
       "  231),\n",
       " ([-0.1914],\n",
       "  ['LA228:CA',\n",
       "   'GLN724:CD',\n",
       "   'GLN346:CB',\n",
       "   'GLN724:OE1',\n",
       "   'TYR306:OH',\n",
       "   'PHE342:CE2',\n",
       "   'TRP231:CZ3'],\n",
       "  [7],\n",
       "  [5],\n",
       "  232),\n",
       " ([-0.2242],\n",
       "  ['ILE305:CD1',\n",
       "   'TYR309:CE1',\n",
       "   'PHE982:CB',\n",
       "   'ILE305:CG2',\n",
       "   'GLN724:OE1',\n",
       "   'MET985:CB',\n",
       "   'PHE982:CG',\n",
       "   'PHE342:CE1',\n",
       "   'LA301:CB'],\n",
       "  [9],\n",
       "  [10],\n",
       "  233),\n",
       " ([-0.3316],\n",
       "  ['GLN772:CG', 'PHE776:CD1', 'LA833:CB', 'GLY773:CA'],\n",
       "  [4],\n",
       "  [3],\n",
       "  234),\n",
       " ([-0.1569],\n",
       "  ['PHE302:CE2',\n",
       "   'PHE769:CE2',\n",
       "   'MET298:CE',\n",
       "   'GLN989:NE2',\n",
       "   'GLN724:CD',\n",
       "   'ILE339:CG2',\n",
       "   'VAL990:CA',\n",
       "   'LEU64:CD2',\n",
       "   'LA986:CB',\n",
       "   'PHE993:CD2',\n",
       "   'GLN724:NE2',\n",
       "   'GLN989:OE1',\n",
       "   'GLN194:NE2',\n",
       "   'GLN346:OE1',\n",
       "   'PHE302:CZ',\n",
       "   'LA986:CA',\n",
       "   'VAL990:CG2',\n",
       "   'TYR306:OH',\n",
       "   'LEU878:CD1',\n",
       "   'PHE769:CD2',\n",
       "   'GLU874:CB'],\n",
       "  [21],\n",
       "  [22],\n",
       "  235),\n",
       " ([-0.2606],\n",
       "  ['PHE342:CE2',\n",
       "   'PHE342:CB',\n",
       "   'PHE342:CG',\n",
       "   'LEU338:CD2',\n",
       "   'TRP231:CZ3',\n",
       "   'TRP231:CE3',\n",
       "   'ILE339:CG2'],\n",
       "  [7],\n",
       "  [9],\n",
       "  236),\n",
       " ([-0.2441],\n",
       "  ['PHE342:CB',\n",
       "   'TRP231:CZ2',\n",
       "   'TRP231:CZ3',\n",
       "   'PHE302:CE2',\n",
       "   'GLN346:CB',\n",
       "   'PHE302:CZ',\n",
       "   'GLN989:CD',\n",
       "   'PHE342:CD1',\n",
       "   'ILE305:CG2',\n",
       "   'LEU878:CD1'],\n",
       "  [10],\n",
       "  [10],\n",
       "  237),\n",
       " ([-0.2606],\n",
       "  ['ILE305:CG2',\n",
       "   'LA228:CB',\n",
       "   'TYR309:OH',\n",
       "   'PHE342:CG',\n",
       "   'TRP231:CE3',\n",
       "   'LA301:CB',\n",
       "   'PHE302:CE1',\n",
       "   'PHE342:CD1',\n",
       "   'GLN346:N',\n",
       "   'TRP231:CZ3',\n",
       "   'TRP231:CD1',\n",
       "   'PHE302:CZ',\n",
       "   'GLY345:C',\n",
       "   'PHE342:CB',\n",
       "   'ILE305:CD1',\n",
       "   'GLN346:CA'],\n",
       "  [16],\n",
       "  [12],\n",
       "  238),\n",
       " ([-0.304],\n",
       "  ['LA228:CB',\n",
       "   'LA301:CB',\n",
       "   'TRP231:CH2',\n",
       "   'TRP231:CZ3',\n",
       "   'TRP231:CZ2',\n",
       "   'ILE305:CG2'],\n",
       "  [6],\n",
       "  [6],\n",
       "  239),\n",
       " ([-0.3333],\n",
       "  ['TYR306:CE2',\n",
       "   'PHE342:CD2',\n",
       "   'PHE727:CZ',\n",
       "   'TYR309:CZ',\n",
       "   'TYR309:CE1',\n",
       "   'PHE342:CD1',\n",
       "   'PHE727:CD2',\n",
       "   'PHE982:CD2',\n",
       "   'ILE305:CD1'],\n",
       "  [9],\n",
       "  [7],\n",
       "  240),\n",
       " ([-0.3214],\n",
       "  ['TRP231:CZ3',\n",
       "   'GLN346:OE1',\n",
       "   'TRP231:CH2',\n",
       "   'LEU64:CB',\n",
       "   'LA228:CB',\n",
       "   'LA228:CA',\n",
       "   'LEU878:CD1',\n",
       "   'PHE342:CB',\n",
       "   'PHE342:CG'],\n",
       "  [9],\n",
       "  [7],\n",
       "  241),\n",
       " ([-0.325],\n",
       "  ['PHE342:CB',\n",
       "   'TRP231:CD1',\n",
       "   'PHE982:CB',\n",
       "   'TRP231:CG',\n",
       "   'ILE339:CG2',\n",
       "   'PHE727:CD2',\n",
       "   'LA228:CA',\n",
       "   'TRP231:CD2',\n",
       "   'TRP231:CE2',\n",
       "   'ILE305:CD1',\n",
       "   'LA228:CB',\n",
       "   'PHE302:CE1',\n",
       "   'PHE302:CZ'],\n",
       "  [13],\n",
       "  [11],\n",
       "  242),\n",
       " ([-0.32],\n",
       "  ['PHE727:CG',\n",
       "   'MET985:CB',\n",
       "   'TYR309:OH',\n",
       "   'TYR306:CE2',\n",
       "   'TYR309:CE1',\n",
       "   'PHE727:CD2',\n",
       "   'PHE727:CD1',\n",
       "   'ILE305:CD1',\n",
       "   'TYR306:CZ',\n",
       "   'PHE335:CE2',\n",
       "   'PHE982:CZ'],\n",
       "  [11],\n",
       "  [7],\n",
       "  243),\n",
       " (None, 244),\n",
       " ([-0.271],\n",
       "  ['LA228:CA',\n",
       "   'THR198:OG1',\n",
       "   'THR198:CG2',\n",
       "   'THR198:CB',\n",
       "   'LA228:CB',\n",
       "   'PHE342:CG',\n",
       "   'TRP231:CE3',\n",
       "   'LEU64:CD2',\n",
       "   'MET948:CE',\n",
       "   'PHE342:CB',\n",
       "   'ILE305:CG2'],\n",
       "  [11],\n",
       "  [10],\n",
       "  245),\n",
       " ([-0.2741],\n",
       "  ['LA301:CB',\n",
       "   'GLN346:CB',\n",
       "   'TRP231:CZ3',\n",
       "   'LEU878:CD1',\n",
       "   'PHE342:CB',\n",
       "   'ILE339:CG2',\n",
       "   'GLN346:CG',\n",
       "   'PHE342:CG',\n",
       "   'TYR309:CE2',\n",
       "   'TRP231:CE2',\n",
       "   'TRP231:CD2',\n",
       "   'TYR309:OH',\n",
       "   'TYR309:CZ'],\n",
       "  [13],\n",
       "  [9],\n",
       "  246),\n",
       " ([-0.2464],\n",
       "  ['TRP231:CZ2',\n",
       "   'ILE305:CD1',\n",
       "   'TRP231:CH2',\n",
       "   'PHE342:CD1',\n",
       "   'PHE342:CB',\n",
       "   'LA228:CB',\n",
       "   'ILE339:CG2',\n",
       "   'PHE342:CE2',\n",
       "   'ILE305:CG2',\n",
       "   'TRP231:CE3',\n",
       "   'GLN346:OE1',\n",
       "   'PHE342:CD2'],\n",
       "  [12],\n",
       "  [12],\n",
       "  247),\n",
       " ([-0.297],\n",
       "  ['PHE342:CB',\n",
       "   'LA232:CA',\n",
       "   'GLN346:CG',\n",
       "   'GLN346:CB',\n",
       "   'LA301:CB',\n",
       "   'ILE305:CG2',\n",
       "   'LEU878:CD1',\n",
       "   'LEU878:CD2',\n",
       "   'GLN346:CA',\n",
       "   'PHE342:O',\n",
       "   'LEU235:CD2',\n",
       "   'LEU878:O',\n",
       "   'LA232:CB',\n",
       "   'TRP231:CZ3',\n",
       "   'TRP231:CE2',\n",
       "   'PHE302:CZ',\n",
       "   'PRO349:CG',\n",
       "   'GLY345:C'],\n",
       "  [18],\n",
       "  [16],\n",
       "  248),\n",
       " ([-0.3545],\n",
       "  ['LA994:H',\n",
       "   'N720:CB',\n",
       "   'LA994:CB',\n",
       "   'GLN837:OE1',\n",
       "   'PHE769:CB',\n",
       "   'PHE302:CE1',\n",
       "   'VAL990:CA',\n",
       "   'MET298:CE',\n",
       "   'GLN837:C',\n",
       "   'VAL990:CG1',\n",
       "   'N841:CB',\n",
       "   'PHE993:CD2',\n",
       "   'GLN724:CG',\n",
       "   'VAL990:O',\n",
       "   'VAL990:CG2'],\n",
       "  [15],\n",
       "  [10],\n",
       "  249),\n",
       " ([-0.2394],\n",
       "  ['PHE342:CE2',\n",
       "   'LA228:CA',\n",
       "   'LA301:CB',\n",
       "   'TRP231:CH2',\n",
       "   'ILE305:CD1',\n",
       "   'PHE342:CE1',\n",
       "   'LA228:CB',\n",
       "   'TRP231:CD2'],\n",
       "  [8],\n",
       "  [8],\n",
       "  250),\n",
       " ([-0.4143],\n",
       "  ['VAL990:CG2',\n",
       "   'PHE769:CD2',\n",
       "   'MET298:CE',\n",
       "   'GLN989:CB',\n",
       "   'PHE302:CE1',\n",
       "   'GLN989:CD',\n",
       "   'TRP231:CZ2',\n",
       "   'PHE993:CG',\n",
       "   'PHE769:CE2',\n",
       "   'PHE302:CZ',\n",
       "   'MET875:CE',\n",
       "   'PHE993:CD1'],\n",
       "  [12],\n",
       "  [11],\n",
       "  251),\n",
       " ([-0.3208],\n",
       "  ['LA301:CB',\n",
       "   'LA228:CB',\n",
       "   'TRP231:CD2',\n",
       "   'TRP231:CE3',\n",
       "   'PHE342:CB',\n",
       "   'TRP231:CZ3',\n",
       "   'THR198:CG2'],\n",
       "  [7],\n",
       "  [7],\n",
       "  252),\n",
       " ([-0.2824],\n",
       "  ['PHE982:CE2',\n",
       "   'LA228:CB',\n",
       "   'PHE982:CB',\n",
       "   'PHE727:CD2',\n",
       "   'PHE727:CE2',\n",
       "   'TYR306:OH',\n",
       "   'PHE727:CB',\n",
       "   'PHE982:CZ'],\n",
       "  [8],\n",
       "  [10],\n",
       "  253),\n",
       " ([-0.2486],\n",
       "  ['THR198:OG1',\n",
       "   'PHE342:CD1',\n",
       "   'TRP231:CB',\n",
       "   'TYR949:OH',\n",
       "   'LEU64:CD1',\n",
       "   'LA228:CA',\n",
       "   'MET948:CE',\n",
       "   'THR198:CG2',\n",
       "   'THR198:CB',\n",
       "   'LA301:CB',\n",
       "   'PHE342:CE1',\n",
       "   'PHE342:CG',\n",
       "   'TRP231:CE3',\n",
       "   'ILE305:CD1',\n",
       "   'ILE305:CG2'],\n",
       "  [15],\n",
       "  [12],\n",
       "  254),\n",
       " ([-0.328],\n",
       "  ['PHE342:CD1',\n",
       "   'TRP231:CD2',\n",
       "   'LEU878:CD1',\n",
       "   'GLN346:CB',\n",
       "   'TRP231:CZ3',\n",
       "   'TRP231:CE2',\n",
       "   'TRP231:CG',\n",
       "   'PHE342:CB',\n",
       "   'PHE342:CG'],\n",
       "  [9],\n",
       "  [10],\n",
       "  255),\n",
       " ([-0.4118], ['PHE302:CE1', 'PHE769:CE2', 'PHE769:CD2'], [3], [2], 256),\n",
       " ([-0.2472],\n",
       "  ['PHE302:CE2',\n",
       "   'PHE727:CE2',\n",
       "   'PHE335:CG',\n",
       "   'ILE305:CD1',\n",
       "   'TRP231:CD2',\n",
       "   'ILE305:CG2',\n",
       "   'PHE335:CD2',\n",
       "   'TRP231:CZ3',\n",
       "   'TRP231:CH2'],\n",
       "  [9],\n",
       "  [8],\n",
       "  257),\n",
       " ([-0.287],\n",
       "  ['VAL990:CG2',\n",
       "   'GLY773:N',\n",
       "   'PHE769:CD2',\n",
       "   'PHE769:CG',\n",
       "   'GLN772:C',\n",
       "   'PHE302:CE1',\n",
       "   'MET298:CE',\n",
       "   'PHE769:CB',\n",
       "   'GLY773:CA',\n",
       "   'PHE302:CD1'],\n",
       "  [10],\n",
       "  [5],\n",
       "  258),\n",
       " ([-0.3538],\n",
       "  ['PHE769:CE2',\n",
       "   'VAL990:CG2',\n",
       "   'VAL990:CG1',\n",
       "   'PHE302:CZ',\n",
       "   'GLN837:OE1',\n",
       "   'PHE769:CD2',\n",
       "   'MET298:CE',\n",
       "   'GLN989:CB',\n",
       "   'GLN989:CD',\n",
       "   'VAL990:CA',\n",
       "   'LEU723:CD1',\n",
       "   'GLN724:NE2',\n",
       "   'PHE993:CD2'],\n",
       "  [13],\n",
       "  [13],\n",
       "  259),\n",
       " ([-0.2732],\n",
       "  ['PHE727:CD2',\n",
       "   'GLN346:CA',\n",
       "   'ILE305:CG2',\n",
       "   'PHE727:CE2',\n",
       "   'PHE335:CE2',\n",
       "   'GLN346:CB',\n",
       "   'PHE342:CG',\n",
       "   'PHE982:CE1',\n",
       "   'TRP231:CZ3',\n",
       "   'GLN346:CG',\n",
       "   'PHE342:CD1',\n",
       "   'PHE335:CG',\n",
       "   'PHE727:CZ',\n",
       "   'LEU878:CD1',\n",
       "   'PHE335:CD2',\n",
       "   'PHE302:CE2'],\n",
       "  [16],\n",
       "  [12],\n",
       "  260),\n",
       " ([-0.2405],\n",
       "  ['GLN989:OE1',\n",
       "   'PHE302:CE2',\n",
       "   'LA301:CB',\n",
       "   'TRP231:CD2',\n",
       "   'PHE302:CZ',\n",
       "   'PHE342:CB',\n",
       "   'GLN989:CD',\n",
       "   'PHE727:CE2',\n",
       "   'PHE982:CE2',\n",
       "   'PHE982:CG',\n",
       "   'PHE335:CD2',\n",
       "   'TYR309:OH',\n",
       "   'PHE982:CZ',\n",
       "   'ILE305:CG2',\n",
       "   'PHE342:CG',\n",
       "   'PHE342:CE1'],\n",
       "  [16],\n",
       "  [14],\n",
       "  261),\n",
       " (None, 262),\n",
       " (None, 263),\n",
       " ([-0.335],\n",
       "  ['LA833:CB',\n",
       "   'PHE776:CD1',\n",
       "   'PHE769:CD2',\n",
       "   'PHE993:CD2',\n",
       "   'PHE769:CE2',\n",
       "   'VAL990:CA',\n",
       "   'GLN837:OE1',\n",
       "   'GLN837:CD',\n",
       "   'LA994:CB'],\n",
       "  [9],\n",
       "  [7],\n",
       "  264),\n",
       " ([-0.3458],\n",
       "  ['LEU338:CG',\n",
       "   'ILE339:CG2',\n",
       "   'PHE982:CD1',\n",
       "   'PHE335:CE2',\n",
       "   'PHE982:CB',\n",
       "   'PHE335:CD2',\n",
       "   'PHE982:CZ',\n",
       "   'PHE982:CG',\n",
       "   'PHE727:CE2',\n",
       "   'PHE335:CG'],\n",
       "  [10],\n",
       "  [9],\n",
       "  265),\n",
       " (None, 266),\n",
       " (None, 267),\n",
       " ([-0.3273],\n",
       "  ['LA228:CA',\n",
       "   'LA228:CB',\n",
       "   'PHE342:CB',\n",
       "   'PHE342:CE1',\n",
       "   'PHE342:CD1',\n",
       "   'TRP231:CD2',\n",
       "   'ILE305:CG2',\n",
       "   'TRP231:CE3',\n",
       "   'ILE305:CD1'],\n",
       "  [9],\n",
       "  [7],\n",
       "  268),\n",
       " ([-0.3107],\n",
       "  ['GLY773:CA',\n",
       "   'GLN772:CG',\n",
       "   'PHE769:CG',\n",
       "   'PHE993:CD2',\n",
       "   'LEU723:CB',\n",
       "   'MET298:CE',\n",
       "   'PHE769:CD2',\n",
       "   'VAL990:CG2',\n",
       "   'PHE769:CB'],\n",
       "  [9],\n",
       "  [13],\n",
       "  269),\n",
       " ([-0.3346],\n",
       "  ['PHE342:C',\n",
       "   'LEU878:CD2',\n",
       "   'TRP231:CZ3',\n",
       "   'TRP231:CH2',\n",
       "   'GLN346:CA',\n",
       "   'PHE342:O',\n",
       "   'LA301:CB',\n",
       "   'PHE342:CB',\n",
       "   'PHE342:CA',\n",
       "   'LEU878:CD1',\n",
       "   'GLN346:CG',\n",
       "   'TRP231:CE3',\n",
       "   'LA232:CB'],\n",
       "  [13],\n",
       "  [13],\n",
       "  270),\n",
       " ([-0.2469],\n",
       "  ['PHE302:CE2',\n",
       "   'PHE342:CG',\n",
       "   'ILE305:CG2',\n",
       "   'TYR306:CE2',\n",
       "   'PHE342:CD2',\n",
       "   'LA228:CB',\n",
       "   'TRP231:CE3',\n",
       "   'PHE727:CE1'],\n",
       "  [8],\n",
       "  [6],\n",
       "  271),\n",
       " ([-0.3148],\n",
       "  ['ILE305:CD1',\n",
       "   'PHE727:CZ',\n",
       "   'PHE342:CE1',\n",
       "   'LA301:CB',\n",
       "   'PHE727:CE2',\n",
       "   'ILE305:CG2',\n",
       "   'PHE342:CB',\n",
       "   'LA228:CA'],\n",
       "  [8],\n",
       "  [7],\n",
       "  272),\n",
       " ([-0.2341],\n",
       "  ['LEU64:CD2',\n",
       "   'PHE302:CZ',\n",
       "   'MET948:CE',\n",
       "   'PHE342:CE1',\n",
       "   'TRP231:CD1',\n",
       "   'TYR949:CZ',\n",
       "   'PHE302:CE1',\n",
       "   'ILE305:CG2',\n",
       "   'ILE339:CG2',\n",
       "   'TYR949:CE2',\n",
       "   'PHE342:CD1',\n",
       "   'LA301:C',\n",
       "   'ILE305:CD1',\n",
       "   'TRP231:NE1',\n",
       "   'LEU878:CD1',\n",
       "   'ILE339:CB',\n",
       "   'TRP231:CE2',\n",
       "   'GLN346:CA',\n",
       "   'MET948:SD',\n",
       "   'GLN346:CB',\n",
       "   'LA301:CB',\n",
       "   'TRP231:CZ3'],\n",
       "  [22],\n",
       "  [10],\n",
       "  273),\n",
       " (None, 274),\n",
       " ([-0.2771],\n",
       "  ['MET68:SD',\n",
       "   'ILE305:CD1',\n",
       "   'PHE982:CE1',\n",
       "   'PHE71:CG',\n",
       "   'PHE335:CE2',\n",
       "   'PHE302:CE2',\n",
       "   'PHE71:CE1',\n",
       "   'PHE342:CD2',\n",
       "   'PHE71:CD1',\n",
       "   'PHE982:CZ',\n",
       "   'TYR952:CE2',\n",
       "   'PHE982:CD1'],\n",
       "  [12],\n",
       "  [9],\n",
       "  275),\n",
       " ([-0.2393],\n",
       "  ['TRP231:CZ2',\n",
       "   'PHE342:CD2',\n",
       "   'TRP231:CZ3',\n",
       "   'LA228:CB',\n",
       "   'TRP231:CH2',\n",
       "   'PHE342:CB',\n",
       "   'TRP231:CE3',\n",
       "   'PHE342:CE2',\n",
       "   'LA228:CA',\n",
       "   'THR198:CG2',\n",
       "   'ILE305:CG2',\n",
       "   'ILE305:CD1',\n",
       "   'GLN346:OE1'],\n",
       "  [13],\n",
       "  [11],\n",
       "  276),\n",
       " ([-0.3],\n",
       "  ['LEU338:CG',\n",
       "   'PHE342:CE1',\n",
       "   'PHE727:CE2',\n",
       "   'ILE305:CD1',\n",
       "   'PHE342:CD2',\n",
       "   'ILE339:CG2',\n",
       "   'PHE982:CB',\n",
       "   'PHE342:CD1',\n",
       "   'PHE342:CG',\n",
       "   'ILE305:CG2',\n",
       "   'LEU338:CD2'],\n",
       "  [11],\n",
       "  [8],\n",
       "  277),\n",
       " ([-0.2786],\n",
       "  ['ILE339:CB',\n",
       "   'ILE305:CG2',\n",
       "   'LA228:CB',\n",
       "   '343:CA',\n",
       "   'TRP231:CE3',\n",
       "   'TRP231:CZ3',\n",
       "   'LA228:CA',\n",
       "   'PHE342:CE2',\n",
       "   'GLN346:CB',\n",
       "   'PHE342:CD2'],\n",
       "  [10],\n",
       "  [8],\n",
       "  278),\n",
       " ([-0.3296],\n",
       "  ['VAL990:CG2',\n",
       "   'VAL990:CG1',\n",
       "   'N295:ND2',\n",
       "   'LA994:CB',\n",
       "   'PHE993:CB',\n",
       "   'PHE769:CE2',\n",
       "   'MET298:CE',\n",
       "   'PHE769:CB',\n",
       "   'PHE769:CD2',\n",
       "   'PHE302:CZ',\n",
       "   'PHE993:CG',\n",
       "   'PHE993:CD2',\n",
       "   'LEU723:CB',\n",
       "   'PHE302:CE1'],\n",
       "  [14],\n",
       "  [13],\n",
       "  279),\n",
       " ([-0.27],\n",
       "  ['PHE727:CE2',\n",
       "   'LEU64:CD2',\n",
       "   'PHE982:CB',\n",
       "   'GLU874:CD',\n",
       "   'PHE982:CD2',\n",
       "   'GLN346:OE1',\n",
       "   'GLN346:CD',\n",
       "   'PHE335:CE2',\n",
       "   'MET948:CE',\n",
       "   'PHE982:CE1',\n",
       "   'GLN724:OE1'],\n",
       "  [11],\n",
       "  [11],\n",
       "  280),\n",
       " ([-0.3421],\n",
       "  ['TRP231:CD2',\n",
       "   'TRP231:CE3',\n",
       "   'PHE302:CZ',\n",
       "   'LA228:CB',\n",
       "   'PHE342:CB',\n",
       "   'TRP231:CZ3',\n",
       "   'TRP231:CE2'],\n",
       "  [7],\n",
       "  [6],\n",
       "  281),\n",
       " ([-0.3038],\n",
       "  ['PHE776:CB',\n",
       "   'GLN989:CB',\n",
       "   'LEU723:CB',\n",
       "   'PHE769:CE2',\n",
       "   'VAL990:CG2',\n",
       "   'PHE302:CZ',\n",
       "   'GLN837:OE1',\n",
       "   'PHE302:CD1',\n",
       "   'N720:CB',\n",
       "   'PHE776:CD1',\n",
       "   'PHE302:CE1',\n",
       "   'MET298:CE',\n",
       "   'LEU723:CD1'],\n",
       "  [13],\n",
       "  [12],\n",
       "  282),\n",
       " ([-0.2262],\n",
       "  ['TRP231:CE3',\n",
       "   'ILE305:CD1',\n",
       "   'PHE982:CB',\n",
       "   'ILE305:CG2',\n",
       "   'PHE342:CD1',\n",
       "   'GLN724:OE1',\n",
       "   'PHE727:CE2',\n",
       "   'PHE302:CE2',\n",
       "   'PHE982:CD2',\n",
       "   'PHE727:CD2',\n",
       "   'TRP231:CE2',\n",
       "   'PHE982:CG',\n",
       "   'PHE982:O',\n",
       "   'LEU64:CD2',\n",
       "   'PHE342:CE1'],\n",
       "  [15],\n",
       "  [13],\n",
       "  283),\n",
       " ([-0.3682],\n",
       "  ['PHE342:O',\n",
       "   'GLN346:CG',\n",
       "   'LA232:CB',\n",
       "   'GLN346:CA',\n",
       "   'LEU878:CD1',\n",
       "   'LEU878:CD2',\n",
       "   'TRP231:CE3',\n",
       "   'GLN346:N',\n",
       "   'TRP231:CZ3',\n",
       "   'PHE342:CB'],\n",
       "  [10],\n",
       "  [9],\n",
       "  284),\n",
       " (None, 285),\n",
       " ([-0.3476],\n",
       "  ['LA301:CB',\n",
       "   'GLN346:N',\n",
       "   'LEU878:CD1',\n",
       "   'PHE342:CE2',\n",
       "   'GLN346:CB',\n",
       "   'GLY345:C',\n",
       "   'TRP231:CE3',\n",
       "   'PHE302:CD2',\n",
       "   'LEU878:CD2',\n",
       "   'GLN346:CG',\n",
       "   'GLN346:CA',\n",
       "   'TRP231:CZ3',\n",
       "   'PHE302:CE2',\n",
       "   'GLY345:CA',\n",
       "   'PHE342:CB'],\n",
       "  [15],\n",
       "  [13],\n",
       "  286),\n",
       " ([-0.2429],\n",
       "  ['PHE727:CE2',\n",
       "   'PHE342:CD1',\n",
       "   'PHE727:CZ',\n",
       "   'TRP231:CH2',\n",
       "   'PHE342:CE2',\n",
       "   'LA301:CB',\n",
       "   'PHE727:CD2',\n",
       "   'ILE305:CG2',\n",
       "   'PHE302:CE2'],\n",
       "  [9],\n",
       "  [11],\n",
       "  287),\n",
       " (None, 288),\n",
       " ([-0.3944],\n",
       "  ['PHE769:CE2',\n",
       "   'PHE769:CG',\n",
       "   'MET298:CE',\n",
       "   'GLN837:NE2',\n",
       "   'PHE769:CD2',\n",
       "   'PHE302:CD1',\n",
       "   'GLN772:OE1',\n",
       "   'LA994:CB',\n",
       "   'PHE302:CE1',\n",
       "   'GLN837:OE1',\n",
       "   'PHE769:CB',\n",
       "   'N720:CB',\n",
       "   'GLN837:CD'],\n",
       "  [13],\n",
       "  [9],\n",
       "  289),\n",
       " ([-0.1704],\n",
       "  ['PHE769:CD2',\n",
       "   'PHE335:CD2',\n",
       "   'PHE993:CD2',\n",
       "   'GLN724:OE1',\n",
       "   'TYR952:OH',\n",
       "   'PHE302:CE2',\n",
       "   'PHE769:CE2',\n",
       "   'ILE339:CG2',\n",
       "   'GLN989:OE1',\n",
       "   'PHE982:CE1',\n",
       "   'PHE302:CZ',\n",
       "   'LA986:CB',\n",
       "   'MET298:CE',\n",
       "   'GLN837:OE1',\n",
       "   'PHE302:CD2',\n",
       "   'PHE982:CZ',\n",
       "   'VAL990:CG2',\n",
       "   'GLN724:CD',\n",
       "   'PHE727:CE2',\n",
       "   'PHE335:CE2',\n",
       "   'GLN989:CB',\n",
       "   'PHE342:CD1',\n",
       "   'N720:CB'],\n",
       "  [23],\n",
       "  [25],\n",
       "  290),\n",
       " ([-0.2583],\n",
       "  ['MET68:SD',\n",
       "   'ILE305:CD1',\n",
       "   'TYR952:CZ',\n",
       "   'ILE339:CG2',\n",
       "   'TRP231:CE2',\n",
       "   'PHE982:CZ',\n",
       "   'PHE71:CB',\n",
       "   'TRP231:CZ2',\n",
       "   'TYR952:CE2',\n",
       "   'PHE727:CE2',\n",
       "   'TYR952:OH',\n",
       "   'PHE335:CE2',\n",
       "   'MET67:CG'],\n",
       "  [13],\n",
       "  [14],\n",
       "  291),\n",
       " ([-0.3061],\n",
       "  ['PHE342:O',\n",
       "   'LA228:CB',\n",
       "   'GLN346:CB',\n",
       "   'LEU878:CD1',\n",
       "   'GLN346:CA',\n",
       "   'LA232:CB',\n",
       "   'PHE342:CB',\n",
       "   'TRP231:CZ3',\n",
       "   'GLN346:CG',\n",
       "   'LEU878:CD2',\n",
       "   'LEU235:CD2',\n",
       "   'PRO349:CG',\n",
       "   'PHE342:CE2'],\n",
       "  [13],\n",
       "  [15],\n",
       "  292),\n",
       " ([-0.2472],\n",
       "  ['PHE342:CB',\n",
       "   'PHE727:CD2',\n",
       "   'ILE305:CG2',\n",
       "   'TYR309:CE1',\n",
       "   'TRP231:CE2',\n",
       "   'PHE727:CG',\n",
       "   'ILE305:CD1',\n",
       "   'PHE342:CE1',\n",
       "   'TRP231:CD2',\n",
       "   'LA301:CB',\n",
       "   'PHE342:CD1',\n",
       "   'TYR306:CE2',\n",
       "   'TRP231:CZ2'],\n",
       "  [13],\n",
       "  [13],\n",
       "  293),\n",
       " (None, 294),\n",
       " (None, 295),\n",
       " ([-0.4222],\n",
       "  ['N720:CB',\n",
       "   'PHE302:CE1',\n",
       "   'GLN724:CG',\n",
       "   'TYR306:CE1',\n",
       "   'VAL990:CG2',\n",
       "   'GLN837:CB',\n",
       "   'PHE302:CD2',\n",
       "   'PHE769:CE2',\n",
       "   'PHE302:CZ',\n",
       "   'TYR306:OH',\n",
       "   'N720:C'],\n",
       "  [11],\n",
       "  [8],\n",
       "  296),\n",
       " (None, 297),\n",
       " (None, 298),\n",
       " (None, 299),\n",
       " (None, 300),\n",
       " ([-0.2867],\n",
       "  ['LA986:CB',\n",
       "   'VAL990:O',\n",
       "   'MET298:CE',\n",
       "   'PHE993:CD2',\n",
       "   'VAL990:CA',\n",
       "   'LA994:H',\n",
       "   'PHE302:CE2',\n",
       "   'LA994:N',\n",
       "   'PHE982:CE1',\n",
       "   'PHE302:CZ',\n",
       "   'VAL990:CG2',\n",
       "   'LA994:CA',\n",
       "   'VAL990:CG1',\n",
       "   'LA994:CB'],\n",
       "  [14],\n",
       "  [11],\n",
       "  301),\n",
       " (None, 302),\n",
       " ([-0.3074],\n",
       "  ['GLN989:CD',\n",
       "   'GLN989:CB',\n",
       "   'PHE302:CZ',\n",
       "   'GLY773:CA',\n",
       "   'N720:CB',\n",
       "   'TRP231:CZ2',\n",
       "   'VAL990:CG2',\n",
       "   'TRP231:CE2',\n",
       "   'PHE993:CB'],\n",
       "  [9],\n",
       "  [11],\n",
       "  303),\n",
       " (None, 304),\n",
       " ([-0.2833],\n",
       "  ['ILE339:CB',\n",
       "   'ILE305:CD1',\n",
       "   'PHE727:CD2',\n",
       "   'ILE339:CG2',\n",
       "   'GLN724:OE1',\n",
       "   'LEU64:CD2',\n",
       "   'TYR309:OH',\n",
       "   'PHE342:CE1',\n",
       "   'TRP231:CE3',\n",
       "   'PHE982:CB',\n",
       "   'LA301:CB'],\n",
       "  [11],\n",
       "  [11],\n",
       "  305),\n",
       " ([-0.2486],\n",
       "  ['LA301:CB',\n",
       "   'PHE342:CD1',\n",
       "   'PHE302:CZ',\n",
       "   'PHE302:CE1',\n",
       "   'ILE339:CG2',\n",
       "   'PHE342:CB',\n",
       "   'TRP231:CE2',\n",
       "   'GLN346:OE1',\n",
       "   'TRP231:CZ2'],\n",
       "  [9],\n",
       "  [7],\n",
       "  306),\n",
       " ([-0.2024],\n",
       "  ['THR198:OG1',\n",
       "   'LEU64:CD2',\n",
       "   'TYR949:OH',\n",
       "   'GLN945:NE2',\n",
       "   'LEU338:CD2',\n",
       "   'PHE342:CD2',\n",
       "   'LA228:CA',\n",
       "   'TRP231:CD2',\n",
       "   'ILE339:CG2',\n",
       "   'GLN346:OE1',\n",
       "   'PHE342:CE2',\n",
       "   'PHE342:CE1',\n",
       "   'LEU338:CB',\n",
       "   'PHE335:CG'],\n",
       "  [14],\n",
       "  [12],\n",
       "  307),\n",
       " ([-0.3323],\n",
       "  ['PHE342:CG',\n",
       "   'LEU878:CD1',\n",
       "   'GLN346:CG',\n",
       "   'ILE339:CG2',\n",
       "   'TRP231:CZ2',\n",
       "   'LA232:CB',\n",
       "   'PHE342:CD2',\n",
       "   'PHE342:CE2',\n",
       "   'GLN346:CA',\n",
       "   'LA301:CB',\n",
       "   'LEU235:CD2',\n",
       "   'GLN346:CB',\n",
       "   'ILE305:CG2',\n",
       "   'TRP231:CD2',\n",
       "   'TRP231:CZ3'],\n",
       "  [15],\n",
       "  [12],\n",
       "  308),\n",
       " (None, 309),\n",
       " ([-0.2385],\n",
       "  ['TYR306:CE2',\n",
       "   'GLN724:NE2',\n",
       "   'ILE339:CB',\n",
       "   'PHE342:CB',\n",
       "   'TRP231:CE3',\n",
       "   'PHE335:CE2',\n",
       "   'PHE335:CD2',\n",
       "   'LA228:CB',\n",
       "   'PHE302:CZ',\n",
       "   'TRP231:CD2',\n",
       "   'GLN724:CD',\n",
       "   'TRP231:CZ3',\n",
       "   'GLN724:OE1',\n",
       "   'ILE339:CG2',\n",
       "   'PHE727:CE2'],\n",
       "  [15],\n",
       "  [13],\n",
       "  310),\n",
       " ([-0.2758],\n",
       "  ['THR198:CG2',\n",
       "   'ILE305:CG2',\n",
       "   'PHE342:CD1',\n",
       "   'TRP231:CZ3',\n",
       "   'PHE342:CB',\n",
       "   'TYR309:CE1',\n",
       "   'ILE305:CD1',\n",
       "   'PHE727:CD2'],\n",
       "  [8],\n",
       "  [8],\n",
       "  311),\n",
       " ([-0.3212],\n",
       "  ['PHE342:CG',\n",
       "   'PHE342:CD1',\n",
       "   'GLN724:OE1',\n",
       "   'PHE727:CB',\n",
       "   'PHE342:CB',\n",
       "   'ILE305:CD1',\n",
       "   'TYR309:CE1',\n",
       "   'PHE727:CD2',\n",
       "   'TYR309:OH'],\n",
       "  [9],\n",
       "  [9],\n",
       "  312),\n",
       " ([-0.2742],\n",
       "  ['PHE342:CB',\n",
       "   'PHE342:CE1',\n",
       "   'TRP231:CZ3',\n",
       "   'PHE342:CD1',\n",
       "   'ILE305:CG2',\n",
       "   'PHE342:CG',\n",
       "   'TRP231:CE3',\n",
       "   'LA228:CA',\n",
       "   'PHE727:CD2',\n",
       "   'ILE305:CD1'],\n",
       "  [10],\n",
       "  [10],\n",
       "  313),\n",
       " (None, 314),\n",
       " ([-0.1974],\n",
       "  ['PHE342:CD1',\n",
       "   'PHE982:O',\n",
       "   'TRP231:CE2',\n",
       "   'GLN989:NE2',\n",
       "   'TRP231:CZ3',\n",
       "   'PHE342:CE1',\n",
       "   'PHE727:CE2',\n",
       "   'GLN989:CD',\n",
       "   'PHE727:CD2',\n",
       "   'LA301:CB',\n",
       "   'PHE342:CB',\n",
       "   'TYR309:OH',\n",
       "   'ILE305:CG2',\n",
       "   'PHE302:CE2',\n",
       "   'PHE342:CG',\n",
       "   'ILE305:CD1',\n",
       "   'GLN989:OE1'],\n",
       "  [17],\n",
       "  [16],\n",
       "  315),\n",
       " (None, 316),\n",
       " (None, 317),\n",
       " ([-0.3125],\n",
       "  ['MET948:CE',\n",
       "   'PHE982:CE2',\n",
       "   'TYR309:CZ',\n",
       "   'MET985:CG',\n",
       "   'PHE727:CZ',\n",
       "   'TYR309:OH',\n",
       "   'ILE339:CG2',\n",
       "   'TYR952:OH',\n",
       "   'PHE342:CD1',\n",
       "   'MET985:CB',\n",
       "   'PHE727:CE2'],\n",
       "  [11],\n",
       "  [11],\n",
       "  318),\n",
       " (None, 319),\n",
       " (None, 320),\n",
       " (None, 321),\n",
       " ([-0.2146],\n",
       "  ['TYR309:OH',\n",
       "   'PHE727:CD2',\n",
       "   'ILE305:CD1',\n",
       "   'LA228:CB',\n",
       "   'PHE982:CB',\n",
       "   'GLN724:OE1'],\n",
       "  [6],\n",
       "  [7],\n",
       "  322),\n",
       " ([-0.3233],\n",
       "  ['VAL990:CG2',\n",
       "   'PHE302:CE2',\n",
       "   'PHE769:CB',\n",
       "   'GLN989:OE1',\n",
       "   'PHE993:CD2',\n",
       "   'PHE302:CD2',\n",
       "   'PHE302:CZ',\n",
       "   'GLN724:NE2',\n",
       "   'PHE982:O'],\n",
       "  [9],\n",
       "  [9],\n",
       "  323),\n",
       " ([-0.2538],\n",
       "  ['TRP231:CE3',\n",
       "   'LEU235:CD2',\n",
       "   'TRP231:CZ3',\n",
       "   'PHE342:C',\n",
       "   'TYR952:CE1',\n",
       "   'LEU878:CD1',\n",
       "   'LA232:CB',\n",
       "   'TYR949:OH',\n",
       "   'TYR952:CZ',\n",
       "   'TYR952:OH',\n",
       "   'GLN346:CA',\n",
       "   'PHE342:CB',\n",
       "   'PRO349:CG',\n",
       "   'ILE339:CG2',\n",
       "   'LEU64:CD2'],\n",
       "  [15],\n",
       "  [14],\n",
       "  324),\n",
       " ([-0.3267],\n",
       "  ['PHE769:CE2',\n",
       "   'PHE302:CZ',\n",
       "   'LEU723:CB',\n",
       "   'GLN989:CD',\n",
       "   'VAL990:CA',\n",
       "   'PHE993:CB',\n",
       "   'PHE993:CD2',\n",
       "   'GLN989:CB',\n",
       "   'TRP231:CZ2',\n",
       "   'PHE993:CG',\n",
       "   'GLN989:OE1',\n",
       "   'GLN724:NE2',\n",
       "   'PHE769:CD2',\n",
       "   'LEU723:CD1',\n",
       "   'TRP231:CE2'],\n",
       "  [15],\n",
       "  [12],\n",
       "  325),\n",
       " (None, 326),\n",
       " ([-0.2512],\n",
       "  ['PHE335:CE2',\n",
       "   'PHE342:CD2',\n",
       "   'ILE339:CG2',\n",
       "   'LA228:CB',\n",
       "   'PHE302:CZ',\n",
       "   'PHE982:CD1',\n",
       "   'TRP231:CE3',\n",
       "   'TYR309:OH',\n",
       "   'PHE982:CE1',\n",
       "   'PHE731:CE1',\n",
       "   'PHE342:CD1',\n",
       "   'PHE335:CZ',\n",
       "   'PHE727:CE2',\n",
       "   'TRP231:CZ2',\n",
       "   'TRP231:CE2'],\n",
       "  [15],\n",
       "  [15],\n",
       "  327),\n",
       " ([-0.2205],\n",
       "  ['PHE727:CD2',\n",
       "   'LEU338:CD2',\n",
       "   'TYR952:CD2',\n",
       "   'PHE335:CE2',\n",
       "   'LA301:CB',\n",
       "   'TYR952:CZ',\n",
       "   'PHE71:CD1',\n",
       "   'PHE342:CD1',\n",
       "   'PHE982:CZ',\n",
       "   'LEU338:CG',\n",
       "   'MET68:SD',\n",
       "   'MET67:CG',\n",
       "   'PHE71:CB',\n",
       "   'PHE982:CB',\n",
       "   'ILE339:CG2',\n",
       "   'LA228:CA',\n",
       "   'TYR952:CE2',\n",
       "   'ILE305:CG2'],\n",
       "  [18],\n",
       "  [12],\n",
       "  328),\n",
       " (None, 329),\n",
       " (None, 330),\n",
       " ([-0.3074],\n",
       "  ['ILE305:CD1', 'PHE302:CE2', 'LA228:CB', 'TRP231:CE3'],\n",
       "  [4],\n",
       "  [4],\n",
       "  331),\n",
       " ([-0.3],\n",
       "  ['PHE342:CB',\n",
       "   '343:CA',\n",
       "   'LA301:CB',\n",
       "   'LEU338:CD2',\n",
       "   'TRP231:CZ3',\n",
       "   'TRP231:CE3',\n",
       "   'ILE339:CB'],\n",
       "  [7],\n",
       "  [7],\n",
       "  332),\n",
       " ([-0.3172],\n",
       "  ['THR198:CG2',\n",
       "   'LA301:CB',\n",
       "   'LEU64:CD2',\n",
       "   '343:CB',\n",
       "   'TRP231:CE2',\n",
       "   'TRP231:CH2',\n",
       "   'TRP231:CD2',\n",
       "   'TRP231:CG'],\n",
       "  [8],\n",
       "  [6],\n",
       "  333),\n",
       " (None, 334),\n",
       " (None, 335),\n",
       " ([-0.2865],\n",
       "  ['LEU338:CD2',\n",
       "   'PHE982:CE2',\n",
       "   'ILE339:CG2',\n",
       "   'PHE342:CE2',\n",
       "   'TRP231:CE3',\n",
       "   'TRP231:CD2',\n",
       "   'PHE982:CD2',\n",
       "   'PHE727:CD2',\n",
       "   'LEU338:CG',\n",
       "   'PHE982:CB',\n",
       "   'LA301:CB',\n",
       "   'ILE305:CG2',\n",
       "   'PHE342:CD1',\n",
       "   'PHE342:CD2',\n",
       "   'PHE335:CG',\n",
       "   'PHE727:CE2',\n",
       "   'TYR306:CE2',\n",
       "   'PHE335:CD2'],\n",
       "  [18],\n",
       "  [18],\n",
       "  336),\n",
       " ([-0.275],\n",
       "  ['PHE769:CD2',\n",
       "   'LA994:CB',\n",
       "   'PHE769:CE2',\n",
       "   'VAL990:CG2',\n",
       "   'MET298:CE',\n",
       "   'GLN989:CB'],\n",
       "  [6],\n",
       "  [7],\n",
       "  337),\n",
       " ([-0.3061],\n",
       "  ['PHE727:CD2',\n",
       "   'TRP231:CZ3',\n",
       "   'GLN724:OE1',\n",
       "   'PHE342:CE1',\n",
       "   'GLN346:OE1',\n",
       "   'ILE305:CD1',\n",
       "   'PHE342:CB',\n",
       "   'PHE342:CD1',\n",
       "   'PHE982:CB',\n",
       "   'TRP231:CE3',\n",
       "   'GLN346:CB'],\n",
       "  [11],\n",
       "  [11],\n",
       "  338),\n",
       " ([-0.3174],\n",
       "  ['PHE769:CE2',\n",
       "   'N720:CB',\n",
       "   'PHE302:CE1',\n",
       "   'VAL990:CG2',\n",
       "   'VAL990:CA',\n",
       "   'PHE993:CB',\n",
       "   'MET298:CE',\n",
       "   'PHE302:CD2',\n",
       "   'PHE993:CD2',\n",
       "   'PHE769:CD2',\n",
       "   'PHE302:CG',\n",
       "   'GLN724:NE2'],\n",
       "  [12],\n",
       "  [8],\n",
       "  339),\n",
       " ([-0.4071],\n",
       "  ['VAL990:CA', 'VAL990:C', 'PHE776:CB', 'PHE993:CD2', 'VAL990:O'],\n",
       "  [5],\n",
       "  [3],\n",
       "  340),\n",
       " ([-0.2765],\n",
       "  ['N350:OD1',\n",
       "   'LEU878:CD1',\n",
       "   'TRP231:CD2',\n",
       "   'PHE302:CE2',\n",
       "   'LEU878:CD2',\n",
       "   'TRP231:CZ3',\n",
       "   'LA301:CB',\n",
       "   'GLN346:CB',\n",
       "   'PHE302:CZ',\n",
       "   'LEU235:CD2',\n",
       "   'LEU64:CD2',\n",
       "   'GLN346:CA',\n",
       "   'TRP231:CZ2',\n",
       "   'LA301:C',\n",
       "   'PHE342:CB',\n",
       "   'PHE302:CD2'],\n",
       "  [16],\n",
       "  [16],\n",
       "  341),\n",
       " ([-0.275],\n",
       "  ['PHE335:CE2',\n",
       "   'LA228:CB',\n",
       "   'PHE302:CD2',\n",
       "   'TRP231:CZ3',\n",
       "   'TRP231:CD2',\n",
       "   'PHE982:CZ',\n",
       "   'PHE335:CZ',\n",
       "   'PHE982:CE1',\n",
       "   'LA301:CB',\n",
       "   'PHE342:CB',\n",
       "   'GLN989:NE2',\n",
       "   'PHE727:CE2',\n",
       "   'PHE342:CE2',\n",
       "   'PHE302:CE2'],\n",
       "  [14],\n",
       "  [11],\n",
       "  342),\n",
       " (None, 343),\n",
       " ([-0.288],\n",
       "  ['PHE342:CB',\n",
       "   'PHE342:CD1',\n",
       "   'ILE305:CG2',\n",
       "   'ILE305:CD1',\n",
       "   'ILE339:CG2',\n",
       "   'PHE727:CD2',\n",
       "   'PHE302:CZ',\n",
       "   'PHE302:CE2',\n",
       "   'PHE727:CE2',\n",
       "   'LA301:CB'],\n",
       "  [10],\n",
       "  [10],\n",
       "  344),\n",
       " ([-0.3455],\n",
       "  ['TRP231:CZ2',\n",
       "   'TRP231:NE1',\n",
       "   'PHE342:CG',\n",
       "   '343:CA',\n",
       "   'ILE305:CG2',\n",
       "   'TRP231:CD1',\n",
       "   'TRP231:CE2',\n",
       "   'PHE342:CD2',\n",
       "   'TRP231:CD2',\n",
       "   'TRP231:CG'],\n",
       "  [10],\n",
       "  [6],\n",
       "  345),\n",
       " ([-0.2474],\n",
       "  ['VAL990:CG2',\n",
       "   'PHE302:CZ',\n",
       "   'TRP231:CZ3',\n",
       "   'ILE305:CG2',\n",
       "   'LA301:CB',\n",
       "   'PHE302:CE2',\n",
       "   'LA228:CA',\n",
       "   'ILE305:CD1',\n",
       "   'MET298:CE'],\n",
       "  [9],\n",
       "  [10],\n",
       "  346),\n",
       " (None, 347),\n",
       " ([-0.2882],\n",
       "  ['TYR309:CE1',\n",
       "   'TRP231:CE3',\n",
       "   'PHE302:CE2',\n",
       "   'TYR309:CZ',\n",
       "   'TRP231:CZ3',\n",
       "   'TYR309:OH',\n",
       "   'PHE342:CB',\n",
       "   'PHE342:O',\n",
       "   'ILE305:CD1',\n",
       "   'LA228:CB'],\n",
       "  [10],\n",
       "  [10],\n",
       "  348),\n",
       " (None, 349),\n",
       " ([-0.35],\n",
       "  ['GLN772:CG',\n",
       "   'PHE302:CE1',\n",
       "   'PHE769:CB',\n",
       "   'GLN724:NE2',\n",
       "   'VAL990:CA',\n",
       "   'GLY773:CA',\n",
       "   'VAL990:CG1',\n",
       "   'PHE769:CE2',\n",
       "   'LA994:CB',\n",
       "   'MET298:CE',\n",
       "   'PHE993:CD2',\n",
       "   'VAL990:CG2',\n",
       "   'GLN772:C'],\n",
       "  [13],\n",
       "  [13],\n",
       "  350),\n",
       " ([-0.207],\n",
       "  ['LEU878:CD1',\n",
       "   'TRP231:CD2',\n",
       "   'LA301:CB',\n",
       "   'PHE982:CG',\n",
       "   'PHE982:CE1',\n",
       "   'TRP231:CZ2',\n",
       "   'ILE305:CD1',\n",
       "   'ILE339:CG2',\n",
       "   'TYR309:CE1',\n",
       "   'PHE342:CG',\n",
       "   'TRP231:CG',\n",
       "   'PHE302:CZ',\n",
       "   'TYR309:CZ',\n",
       "   'PHE982:CB',\n",
       "   'TYR309:OH'],\n",
       "  [15],\n",
       "  [13],\n",
       "  351),\n",
       " ([-0.2698],\n",
       "  ['PHE982:CD2',\n",
       "   'GLU874:CD',\n",
       "   'PHE727:CE2',\n",
       "   'PHE335:CE2',\n",
       "   'GLN346:CD',\n",
       "   'MET948:CE',\n",
       "   'PHE982:CE1',\n",
       "   'GLN724:OE1',\n",
       "   'LEU64:CD2',\n",
       "   'GLN346:OE1',\n",
       "   'PHE982:CE2',\n",
       "   'PHE982:CB'],\n",
       "  [12],\n",
       "  [13],\n",
       "  352),\n",
       " ([-0.2839],\n",
       "  ['VAL990:CG2',\n",
       "   'GLY773:CA',\n",
       "   'N295:ND2',\n",
       "   'PHE302:CE2',\n",
       "   'PHE769:CD2',\n",
       "   'PHE769:CB',\n",
       "   'MET298:CE',\n",
       "   'GLN772:CG',\n",
       "   'PHE302:CD2',\n",
       "   'GLN772:C',\n",
       "   'GLN724:NE2',\n",
       "   'LA833:CB',\n",
       "   'PHE769:CE2',\n",
       "   'GLN989:CB'],\n",
       "  [14],\n",
       "  [13],\n",
       "  353),\n",
       " ([-0.2929],\n",
       "  ['LEU878:CD1',\n",
       "   'PHE342:CG',\n",
       "   'TRP231:CG',\n",
       "   'GLN346:CA',\n",
       "   'LEU878:CD2',\n",
       "   'LEU235:CD2',\n",
       "   'GLN346:CB',\n",
       "   'TRP231:CZ3',\n",
       "   'ILE339:CB',\n",
       "   'LEU64:CD2',\n",
       "   'LA232:CB',\n",
       "   'LEU64:CB',\n",
       "   'PHE342:CB',\n",
       "   'GLN346:CG',\n",
       "   'LA232:CA',\n",
       "   'ILE305:CG2'],\n",
       "  [16],\n",
       "  [18],\n",
       "  354),\n",
       " ([-0.3],\n",
       "  ['PHE302:CE2',\n",
       "   'PHE342:CD1',\n",
       "   'PHE302:CZ',\n",
       "   'LEU64:CB',\n",
       "   'LA301:CB',\n",
       "   'LA301:C',\n",
       "   'TRP231:CD1'],\n",
       "  [7],\n",
       "  [5],\n",
       "  355),\n",
       " ([-0.2457],\n",
       "  ['PHE342:CB',\n",
       "   'ILE339:CG2',\n",
       "   'LA301:CB',\n",
       "   'PHE335:CE1',\n",
       "   'ILE305:CD1',\n",
       "   'PHE342:CD1',\n",
       "   'LEU878:CD1',\n",
       "   'PHE335:CG',\n",
       "   'PHE335:CD1',\n",
       "   'LEU338:CD2',\n",
       "   'LA301:C',\n",
       "   'ILE305:CG2',\n",
       "   'PHE335:CD2',\n",
       "   'TRP231:CZ3'],\n",
       "  [14],\n",
       "  [9],\n",
       "  356),\n",
       " ([-0.2875],\n",
       "  ['MET68:SD',\n",
       "   'PHE302:CZ',\n",
       "   'TRP231:CD2',\n",
       "   'PHE335:CE2',\n",
       "   'TRP231:CZ2',\n",
       "   'PHE982:CZ',\n",
       "   'LA301:CB',\n",
       "   'TRP231:CG',\n",
       "   'ILE339:CG2',\n",
       "   'TRP231:CE2',\n",
       "   'PHE335:CD2'],\n",
       "  [11],\n",
       "  [9],\n",
       "  357)]"
      ]
     },
     "execution_count": 9,
     "metadata": {},
     "output_type": "execute_result"
    }
   ],
   "source": [
    "SortedFP"
   ]
  },
  {
   "cell_type": "markdown",
   "id": "12b34fd4",
   "metadata": {},
   "source": [
    "### Looking for most common residues taking part in Interaction"
   ]
  },
  {
   "cell_type": "code",
   "execution_count": 10,
   "id": "81c061dc",
   "metadata": {},
   "outputs": [],
   "source": [
    "residues = []\n",
    "for i in SortedFP:\n",
    "    if i[0] == None:\n",
    "        continue\n",
    "    else:\n",
    "        residues.extend(i[1])"
   ]
  },
  {
   "cell_type": "code",
   "execution_count": 11,
   "id": "19154620",
   "metadata": {},
   "outputs": [],
   "source": [
    "from collections import Counter"
   ]
  },
  {
   "cell_type": "code",
   "execution_count": 12,
   "id": "a78eb3df",
   "metadata": {},
   "outputs": [],
   "source": [
    "sorted_residues = sorted(Counter(residues).items(),key=lambda y:y[-1],reverse=True)"
   ]
  },
  {
   "cell_type": "code",
   "execution_count": 13,
   "id": "aba21f16",
   "metadata": {},
   "outputs": [
    {
     "data": {
      "text/plain": [
       "['GLN346:CG', 'LEU878:CD1', 'PHE342:CD1', 'TRP231:CG', 'PHE342:CB', 'LA301:CB']"
      ]
     },
     "execution_count": 13,
     "metadata": {},
     "output_type": "execute_result"
    }
   ],
   "source": [
    "SortedFP[0][1]"
   ]
  },
  {
   "cell_type": "code",
   "execution_count": 14,
   "id": "4b9f4d1b",
   "metadata": {},
   "outputs": [],
   "source": [
    "def residueExtractor(res):\n",
    "    index = res.index(\":\")\n",
    "    residue = res[:index]\n",
    "    \n",
    "    return residue"
   ]
  },
  {
   "cell_type": "code",
   "execution_count": 15,
   "id": "9291d1ee",
   "metadata": {},
   "outputs": [],
   "source": [
    "resList = [ residueExtractor(i[0]) for i in sorted_residues]"
   ]
  },
  {
   "cell_type": "code",
   "execution_count": 16,
   "id": "2e8785c7",
   "metadata": {},
   "outputs": [
    {
     "data": {
      "text/plain": [
       "['PHE342',\n",
       " 'TRP231',\n",
       " 'ILE305',\n",
       " 'PHE302',\n",
       " 'PHE342',\n",
       " 'ILE305',\n",
       " 'TRP231',\n",
       " 'PHE302',\n",
       " 'LA301',\n",
       " 'VAL990',\n",
       " 'ILE339',\n",
       " 'LA228',\n",
       " 'MET298',\n",
       " 'PHE727',\n",
       " 'PHE727',\n",
       " 'PHE342',\n",
       " 'LEU878',\n",
       " 'TRP231',\n",
       " 'PHE769',\n",
       " 'LA228',\n",
       " 'LEU64',\n",
       " 'PHE993',\n",
       " 'PHE342',\n",
       " 'PHE982',\n",
       " 'GLN346',\n",
       " 'TRP231',\n",
       " 'N720',\n",
       " 'TRP231',\n",
       " 'TYR309',\n",
       " 'PHE342',\n",
       " 'PHE769',\n",
       " 'PHE302',\n",
       " 'PHE335',\n",
       " 'PHE982',\n",
       " 'PHE302',\n",
       " 'GLN724',\n",
       " 'PHE342',\n",
       " 'GLN346',\n",
       " 'PHE769',\n",
       " 'PHE342',\n",
       " 'TRP231',\n",
       " 'GLN724',\n",
       " 'GLN989',\n",
       " 'THR198',\n",
       " 'VAL990',\n",
       " 'PHE982',\n",
       " 'GLN989',\n",
       " 'PHE982',\n",
       " 'ILE339',\n",
       " 'PHE335',\n",
       " 'GLN989',\n",
       " 'GLN837',\n",
       " 'TYR309',\n",
       " 'GLN346',\n",
       " 'LA986',\n",
       " 'PHE982',\n",
       " 'TRP231',\n",
       " 'LEU338',\n",
       " 'PHE982',\n",
       " 'LEU878',\n",
       " 'GLN346',\n",
       " 'PHE993',\n",
       " 'TYR306',\n",
       " 'GLN772',\n",
       " 'TYR306',\n",
       " 'GLN724',\n",
       " 'LEU235',\n",
       " '343',\n",
       " 'PHE727',\n",
       " 'PHE727',\n",
       " 'LA232',\n",
       " 'GLY773',\n",
       " 'VAL990',\n",
       " 'LA994',\n",
       " 'PHE769',\n",
       " 'PHE342',\n",
       " 'PHE335',\n",
       " 'GLY345',\n",
       " 'LA301',\n",
       " 'LEU338',\n",
       " 'MET948',\n",
       " 'MET985',\n",
       " 'PRO349',\n",
       " 'TYR306',\n",
       " 'GLN346',\n",
       " 'TYR952',\n",
       " 'N720',\n",
       " 'GLU874',\n",
       " 'GLN772',\n",
       " 'LA986',\n",
       " 'GLN989',\n",
       " 'TRP231',\n",
       " 'PHE993',\n",
       " 'LEU64',\n",
       " 'MET68',\n",
       " 'TYR309',\n",
       " 'N720',\n",
       " 'GLN772',\n",
       " 'LA833',\n",
       " 'LEU723',\n",
       " 'GLN989',\n",
       " 'GLU874',\n",
       " 'TYR952',\n",
       " 'PHE71',\n",
       " 'PHE302',\n",
       " 'N295',\n",
       " 'ILE339',\n",
       " 'LEU723',\n",
       " 'PHE941',\n",
       " 'TYR306',\n",
       " 'TRP231',\n",
       " 'PHE71',\n",
       " 'LEU64',\n",
       " 'MET985',\n",
       " 'N720',\n",
       " 'PHE335',\n",
       " 'PHE982',\n",
       " 'PHE993',\n",
       " 'GLN837',\n",
       " 'N720',\n",
       " 'PHE302',\n",
       " 'ILE339',\n",
       " '765',\n",
       " 'THR198',\n",
       " 'PHE727',\n",
       " 'PHE993',\n",
       " 'TYR952',\n",
       " 'MET68',\n",
       " 'GLN945',\n",
       " 'TYR949',\n",
       " 'VAL990',\n",
       " 'GLN837',\n",
       " '765',\n",
       " 'PHE71',\n",
       " 'PHE941',\n",
       " 'PHE982',\n",
       " 'GLN346',\n",
       " 'GLN772',\n",
       " 'MET875',\n",
       " 'LA232',\n",
       " 'PHE727',\n",
       " 'PHE776',\n",
       " 'PHE731',\n",
       " 'PHE731',\n",
       " 'N350',\n",
       " 'LEU338',\n",
       " 'MET191',\n",
       " 'PHE335',\n",
       " 'LA994',\n",
       " 'N720',\n",
       " 'GLY773',\n",
       " 'MET985',\n",
       " 'MET67',\n",
       " 'GLN724',\n",
       " 'TRP231',\n",
       " 'PHE71',\n",
       " 'PHE71',\n",
       " '236',\n",
       " 'TYR309',\n",
       " 'PHE982',\n",
       " 'PHE335',\n",
       " 'N350',\n",
       " 'PHE769',\n",
       " 'VAL990',\n",
       " 'LA994',\n",
       " 'PHE982',\n",
       " 'GLN346',\n",
       " 'GLY345',\n",
       " 'ILE305',\n",
       " 'ILE339',\n",
       " 'LEU878',\n",
       " 'PHE342',\n",
       " 'TYR952',\n",
       " 'LEU878',\n",
       " 'GLU874',\n",
       " 'LA994',\n",
       " 'GLU874',\n",
       " 'MET948',\n",
       " 'TYR949',\n",
       " '227',\n",
       " 'PHE977',\n",
       " 'PHE977',\n",
       " 'GLN194',\n",
       " 'LEU878',\n",
       " '343',\n",
       " 'THR198',\n",
       " 'PHE776',\n",
       " '978',\n",
       " 'MET985',\n",
       " '728',\n",
       " '728',\n",
       " 'N350',\n",
       " 'GLN945',\n",
       " 'VAL990',\n",
       " 'GLN989',\n",
       " 'GLN346',\n",
       " 'GLN724',\n",
       " 'GLN724',\n",
       " 'GLN346',\n",
       " '343',\n",
       " 'MET985',\n",
       " 'LA986',\n",
       " 'TYR306',\n",
       " 'LA301',\n",
       " 'VAL834',\n",
       " 'GLN945',\n",
       " 'MET298',\n",
       " 'GLU874',\n",
       " 'LA232',\n",
       " 'LEU878',\n",
       " 'LEU878',\n",
       " 'LEU235',\n",
       " 'LYS188',\n",
       " 'PHE727',\n",
       " 'GLN837',\n",
       " 'N841',\n",
       " 'TYR949',\n",
       " 'GLN837',\n",
       " 'TYR952',\n",
       " 'PHE731',\n",
       " 'PHE335']"
      ]
     },
     "execution_count": 16,
     "metadata": {},
     "output_type": "execute_result"
    }
   ],
   "source": [
    "resList"
   ]
  },
  {
   "cell_type": "markdown",
   "id": "30bf70eb",
   "metadata": {},
   "source": [
    "#### PLotting Residues"
   ]
  },
  {
   "cell_type": "code",
   "execution_count": 30,
   "id": "8b28226b",
   "metadata": {},
   "outputs": [],
   "source": [
    "import matplotlib.pyplot as plt\n",
    "import seaborn as sns\n",
    "import numpy as np"
   ]
  },
  {
   "cell_type": "code",
   "execution_count": 44,
   "id": "4e737cd2",
   "metadata": {},
   "outputs": [
    {
     "data": {
      "text/plain": [
       "array([104, 100,  98,  92,  86,  85,  82,  75,  72,  66])"
      ]
     },
     "execution_count": 44,
     "metadata": {},
     "output_type": "execute_result"
    }
   ],
   "source": [
    "Top10rescount = [i[1] for i in sorted_residues][:10]\n",
    "Top10rescount = np.array(Top10rescount)\n",
    "Top10rescount"
   ]
  },
  {
   "cell_type": "code",
   "execution_count": 43,
   "id": "97361a26",
   "metadata": {},
   "outputs": [
    {
     "data": {
      "text/plain": [
       "array(['PHE342', 'TRP231', 'ILE305', 'PHE302', 'PHE342', 'ILE305',\n",
       "       'TRP231', 'PHE302', 'LA301', 'VAL990'], dtype='<U6')"
      ]
     },
     "execution_count": 43,
     "metadata": {},
     "output_type": "execute_result"
    }
   ],
   "source": [
    "Top10res = [i for i in resList][:10]\n",
    "Top10res = np.array(Top10res)\n",
    "Top10res"
   ]
  },
  {
   "cell_type": "code",
   "execution_count": 80,
   "id": "116b45d9",
   "metadata": {},
   "outputs": [
    {
     "name": "stderr",
     "output_type": "stream",
     "text": [
      "/home/saurav/anaconda3/envs/Jupyter_Dock/lib/python3.8/site-packages/seaborn/_decorators.py:36: FutureWarning: Pass the following variables as keyword args: x, y. From version 0.12, the only valid positional argument will be `data`, and passing other arguments without an explicit keyword will result in an error or misinterpretation.\n",
      "  warnings.warn(\n"
     ]
    },
    {
     "data": {
      "image/png": "[encoded data removed]",
      "text/plain": [
       "<Figure size 1500x800 with 1 Axes>"
      ]
     },
     "metadata": {},
     "output_type": "display_data"
    }
   ],
   "source": [
    "sns.set(rc = {'figure.figsize':(15,8)})\n",
    "plt.rcParams[\"font.weight\"] = \"bold\"\n",
    "sns.barplot(Top10rescount,Top10res,palette=\"Blues_d\",dodge=False,edgecolor=\".2\",orient=\"h\")\n",
    "plt.xlabel(\"Residue Count\",fontdict={\"weight\":'bold',\"size\":15})\n",
    "plt.ylabel(\"Residues\",fontdict={\"weight\":'bold',\"size\":15})\n",
    "plt.show()"
   ]
  },
  {
   "cell_type": "code",
   "execution_count": 81,
   "id": "7c2844d7",
   "metadata": {},
   "outputs": [
    {
     "data": {
      "text/plain": [
       "62"
      ]
     },
     "execution_count": 81,
     "metadata": {},
     "output_type": "execute_result"
    }
   ],
   "source": [
    "len(set(resList)) ### only 62 residues participate in this"
   ]
  },
  {
   "cell_type": "code",
   "execution_count": 82,
   "id": "0dbff117",
   "metadata": {},
   "outputs": [
    {
     "data": {
      "text/plain": [
       "{'227',\n",
       " '236',\n",
       " '343',\n",
       " '728',\n",
       " '765',\n",
       " '978',\n",
       " 'GLN194',\n",
       " 'GLN346',\n",
       " 'GLN724',\n",
       " 'GLN772',\n",
       " 'GLN837',\n",
       " 'GLN945',\n",
       " 'GLN989',\n",
       " 'GLU874',\n",
       " 'GLY345',\n",
       " 'GLY773',\n",
       " 'ILE305',\n",
       " 'ILE339',\n",
       " 'LA228',\n",
       " 'LA232',\n",
       " 'LA301',\n",
       " 'LA833',\n",
       " 'LA986',\n",
       " 'LA994',\n",
       " 'LEU235',\n",
       " 'LEU338',\n",
       " 'LEU64',\n",
       " 'LEU723',\n",
       " 'LEU878',\n",
       " 'LYS188',\n",
       " 'MET191',\n",
       " 'MET298',\n",
       " 'MET67',\n",
       " 'MET68',\n",
       " 'MET875',\n",
       " 'MET948',\n",
       " 'MET985',\n",
       " 'N295',\n",
       " 'N350',\n",
       " 'N720',\n",
       " 'N841',\n",
       " 'PHE302',\n",
       " 'PHE335',\n",
       " 'PHE342',\n",
       " 'PHE71',\n",
       " 'PHE727',\n",
       " 'PHE731',\n",
       " 'PHE769',\n",
       " 'PHE776',\n",
       " 'PHE941',\n",
       " 'PHE977',\n",
       " 'PHE982',\n",
       " 'PHE993',\n",
       " 'PRO349',\n",
       " 'THR198',\n",
       " 'TRP231',\n",
       " 'TYR306',\n",
       " 'TYR309',\n",
       " 'TYR949',\n",
       " 'TYR952',\n",
       " 'VAL834',\n",
       " 'VAL990'}"
      ]
     },
     "execution_count": 82,
     "metadata": {},
     "output_type": "execute_result"
    }
   ],
   "source": [
    "set(resList) ## Most Common Residues"
   ]
  },
  {
   "cell_type": "code",
   "execution_count": 151,
   "id": "33827ea8",
   "metadata": {},
   "outputs": [
    {
     "data": {
      "text/plain": [
       "([-0.2368],\n",
       " ['PHE342:O',\n",
       "  'PHE342:CB',\n",
       "  'ILE305:CG2',\n",
       "  'LA228:CB',\n",
       "  'TRP231:CE3',\n",
       "  'LEU64:CD2',\n",
       "  'PHE342:CD1'],\n",
       " [7],\n",
       " [7],\n",
       " 20)"
      ]
     },
     "execution_count": 151,
     "metadata": {},
     "output_type": "execute_result"
    }
   ],
   "source": [
    "FPArray[0]"
   ]
  },
  {
   "cell_type": "code",
   "execution_count": 83,
   "id": "5c332659",
   "metadata": {},
   "outputs": [],
   "source": [
    "import numpy as np"
   ]
  },
  {
   "cell_type": "code",
   "execution_count": 84,
   "id": "bf46d37f",
   "metadata": {},
   "outputs": [],
   "source": [
    "def residueExtractor(res):\n",
    "    if type(res) != int:\n",
    "        \n",
    "        index = res.index(\":\")\n",
    "        residue = res[:index]\n",
    "        \n",
    "        return residue\n",
    "    \n",
    "    else:\n",
    "        \n",
    "        return res"
   ]
  },
  {
   "cell_type": "code",
   "execution_count": 85,
   "id": "3134ec19",
   "metadata": {},
   "outputs": [],
   "source": [
    "def FingerprintGen(res):\n",
    "    \n",
    "    \"\"\"\n",
    "    Create Interaction Fingerprint\n",
    "    \n",
    "    input: Raw Residues Extracted from the data\n",
    "    \n",
    "    output: 62 bit array for the interaction Fingerprint\n",
    "    \n",
    "    \"\"\"\n",
    "    \n",
    "    ProteinResidues = {'227':0,'236':1,'343':2,'728':3,'765':4,'978':5,'GLN194':6,'GLN346':7,'GLN724':8,'GLN772':9,'GLN837':10,\n",
    "                     'GLN945':11,'GLN989':12,'GLU874':13,'GLY345':14,'GLY773':15,'ILE305':16,'ILE339':17,'LA228':18,'LA232':19,'LA301':20,\n",
    "                     'LA833':21,'LA986':22,'LA994':23,'LEU235':24,'LEU338':25,'LEU64':26,'LEU723':27,'LEU878':28,'LYS188':29,'MET191':30,\n",
    "                     'MET298':31,'MET67':32,'MET68':33,'MET875':34,'MET948':35,'MET985':36,'N295':37,'N350':38,'N720':39,'N841':40,'PHE302':41,\n",
    "                     'PHE335':42,'PHE342':43,'PHE71':44,'PHE727':45,'PHE731':46,'PHE769':47,'PHE776':48,'PHE941':49,'PHE977':50,'PHE982':51,\n",
    "                     'PHE993':52,'PRO349':53,'THR198':54,'TRP231':55,'TYR306':56,'TYR309':57,'TYR949':58,'TYR952':59,'VAL834':60,'VAL990':61}\n",
    "    \n",
    "    if res[0] == None:\n",
    "        return None\n",
    "    else:\n",
    "        residues = res[1]\n",
    "        \n",
    "        InteractionRes = [residueExtractor(i) for i in list(residues)]\n",
    "        FParray = np.zeros((62,))\n",
    "\n",
    "        for i in InteractionRes:\n",
    "            if ProteinResidues.get(i):\n",
    "                FParray[ProteinResidues.get(i)] = 1\n",
    "\n",
    "        return FParray  "
   ]
  },
  {
   "cell_type": "code",
   "execution_count": 86,
   "id": "fcce2b2e",
   "metadata": {},
   "outputs": [
    {
     "data": {
      "text/plain": [
       "([-0.2839],\n",
       " ['VAL990:CG2',\n",
       "  'GLY773:CA',\n",
       "  'N295:ND2',\n",
       "  'PHE302:CE2',\n",
       "  'PHE769:CD2',\n",
       "  'PHE769:CB',\n",
       "  'MET298:CE',\n",
       "  'GLN772:CG',\n",
       "  'PHE302:CD2',\n",
       "  'GLN772:C',\n",
       "  'GLN724:NE2',\n",
       "  'LA833:CB',\n",
       "  'PHE769:CE2',\n",
       "  'GLN989:CB'],\n",
       " [14],\n",
       " [13],\n",
       " 353)"
      ]
     },
     "execution_count": 86,
     "metadata": {},
     "output_type": "execute_result"
    }
   ],
   "source": [
    "FPArray[356]"
   ]
  },
  {
   "cell_type": "markdown",
   "id": "b014c0d8",
   "metadata": {},
   "source": [
    "##### Testing Fingerprint"
   ]
  },
  {
   "cell_type": "markdown",
   "id": "b6259c20",
   "metadata": {},
   "source": [
    "**Using docked drug data to generate residues which is interacting with P-gp molecule and then this residues are used to generate FIngerprint**"
   ]
  },
  {
   "cell_type": "code",
   "execution_count": 87,
   "id": "304a66bd",
   "metadata": {},
   "outputs": [],
   "source": [
    "### First generate the residues interaction"
   ]
  },
  {
   "cell_type": "code",
   "execution_count": 88,
   "id": "55c87b2d",
   "metadata": {},
   "outputs": [],
   "source": [
    "def VinaResult2(file):\n",
    "    datapath = f\"~/Desktop/ProLIF/Data/RefinedDocking/DockedPDBQT/{file}_out_out.pdbqt\"\n",
    "    if os.path.isfile(os.path.expanduser(datapath)):\n",
    "        os.system(f\"\"\"process_VinaResult.py -f {os.path.expanduser(datapath)} -r protein/6fn1_minimized.pdbqt -B -x 1 -p\"\"\")\n",
    "        return file\n",
    "    else:\n",
    "        return None"
   ]
  },
  {
   "cell_type": "code",
   "execution_count": 89,
   "id": "74dd19f6",
   "metadata": {},
   "outputs": [
    {
     "name": "stderr",
     "output_type": "stream",
     "text": [
      "1it [00:05,  5.51s/it]"
     ]
    },
    {
     "name": "stdout",
     "output_type": "stream",
     "text": [
      "26\n"
     ]
    },
    {
     "name": "stderr",
     "output_type": "stream",
     "text": [
      "\r",
      "2it [00:05,  2.42s/it]"
     ]
    },
    {
     "name": "stdout",
     "output_type": "stream",
     "text": [
      "3\n"
     ]
    },
    {
     "name": "stderr",
     "output_type": "stream",
     "text": [
      "5it [00:06,  1.42it/s]"
     ]
    },
    {
     "name": "stdout",
     "output_type": "stream",
     "text": [
      "20\n",
      "10\n",
      "17\n"
     ]
    },
    {
     "name": "stderr",
     "output_type": "stream",
     "text": [
      "8it [00:06,  3.10it/s]"
     ]
    },
    {
     "name": "stdout",
     "output_type": "stream",
     "text": [
      "23\n",
      "None\n",
      "28\n"
     ]
    },
    {
     "name": "stderr",
     "output_type": "stream",
     "text": [
      "15it [00:07,  6.97it/s]"
     ]
    },
    {
     "name": "stdout",
     "output_type": "stream",
     "text": [
      "15\n",
      "14\n",
      "None\n",
      "30\n",
      "2\n",
      "22\n",
      "13\n",
      "6\n",
      "5\n"
     ]
    },
    {
     "name": "stderr",
     "output_type": "stream",
     "text": [
      "\r",
      "18it [00:07,  8.52it/s]"
     ]
    },
    {
     "name": "stdout",
     "output_type": "stream",
     "text": [
      "27\n"
     ]
    },
    {
     "name": "stderr",
     "output_type": "stream",
     "text": [
      "\r",
      "20it [00:07,  7.65it/s]"
     ]
    },
    {
     "name": "stdout",
     "output_type": "stream",
     "text": [
      "1\n",
      "21\n"
     ]
    },
    {
     "name": "stderr",
     "output_type": "stream",
     "text": [
      "\r",
      "22it [00:08,  8.05it/s]"
     ]
    },
    {
     "name": "stdout",
     "output_type": "stream",
     "text": [
      "31\n",
      "24\n",
      "8\n"
     ]
    },
    {
     "name": "stderr",
     "output_type": "stream",
     "text": [
      "\r",
      "24it [00:08,  5.66it/s]"
     ]
    },
    {
     "name": "stdout",
     "output_type": "stream",
     "text": [
      "12\n",
      "4\n",
      "29\n"
     ]
    },
    {
     "name": "stderr",
     "output_type": "stream",
     "text": [
      "\r",
      "27it [00:09,  6.32it/s]"
     ]
    },
    {
     "name": "stdout",
     "output_type": "stream",
     "text": [
      "7\n"
     ]
    },
    {
     "name": "stderr",
     "output_type": "stream",
     "text": [
      "29it [00:09,  5.66it/s]"
     ]
    },
    {
     "name": "stdout",
     "output_type": "stream",
     "text": [
      "18\n",
      "0\n",
      "9\n"
     ]
    },
    {
     "name": "stderr",
     "output_type": "stream",
     "text": [
      "\r",
      "31it [00:10,  5.05it/s]"
     ]
    },
    {
     "name": "stdout",
     "output_type": "stream",
     "text": [
      "19\n",
      "25\n"
     ]
    },
    {
     "name": "stderr",
     "output_type": "stream",
     "text": [
      "\r",
      "33it [00:10,  5.66it/s]"
     ]
    },
    {
     "name": "stdout",
     "output_type": "stream",
     "text": [
      "11\n"
     ]
    },
    {
     "name": "stderr",
     "output_type": "stream",
     "text": [
      "\r",
      "34it [00:11,  3.22it/s]"
     ]
    },
    {
     "name": "stdout",
     "output_type": "stream",
     "text": [
      "45\n",
      "16\n"
     ]
    },
    {
     "name": "stderr",
     "output_type": "stream",
     "text": [
      "\r",
      "36it [00:11,  4.19it/s]"
     ]
    },
    {
     "name": "stdout",
     "output_type": "stream",
     "text": [
      "39\n"
     ]
    },
    {
     "name": "stderr",
     "output_type": "stream",
     "text": [
      "39it [00:11,  5.99it/s]"
     ]
    },
    {
     "name": "stdout",
     "output_type": "stream",
     "text": [
      "32\n",
      "51\n",
      "35\n"
     ]
    },
    {
     "name": "stderr",
     "output_type": "stream",
     "text": [
      "\r",
      "40it [00:12,  4.72it/s]"
     ]
    },
    {
     "name": "stdout",
     "output_type": "stream",
     "text": [
      "34\n"
     ]
    },
    {
     "name": "stderr",
     "output_type": "stream",
     "text": [
      "43it [00:12,  5.20it/s]"
     ]
    },
    {
     "name": "stdout",
     "output_type": "stream",
     "text": [
      "44\n",
      "48\n",
      "40\n",
      "38\n"
     ]
    },
    {
     "name": "stderr",
     "output_type": "stream",
     "text": [
      "\r",
      "45it [00:12,  7.01it/s]"
     ]
    },
    {
     "name": "stdout",
     "output_type": "stream",
     "text": [
      "46\n"
     ]
    },
    {
     "name": "stderr",
     "output_type": "stream",
     "text": [
      "\r",
      "47it [00:13,  7.09it/s]"
     ]
    },
    {
     "name": "stdout",
     "output_type": "stream",
     "text": [
      "59\n",
      "55\n"
     ]
    },
    {
     "name": "stderr",
     "output_type": "stream",
     "text": [
      "52it [00:13, 10.78it/s]"
     ]
    },
    {
     "name": "stdout",
     "output_type": "stream",
     "text": [
      "52\n",
      "None\n",
      "50\n",
      "33\n",
      "53\n",
      "61\n"
     ]
    },
    {
     "name": "stderr",
     "output_type": "stream",
     "text": [
      "56it [00:14,  8.88it/s]"
     ]
    },
    {
     "name": "stdout",
     "output_type": "stream",
     "text": [
      "36\n",
      "43\n",
      "54\n",
      "56\n"
     ]
    },
    {
     "name": "stderr",
     "output_type": "stream",
     "text": [
      "60it [00:14, 11.03it/s]"
     ]
    },
    {
     "name": "stdout",
     "output_type": "stream",
     "text": [
      "60\n",
      "42\n",
      "57\n",
      "47\n"
     ]
    },
    {
     "name": "stderr",
     "output_type": "stream",
     "text": [
      "63it [00:15,  4.52it/s]"
     ]
    },
    {
     "name": "stdout",
     "output_type": "stream",
     "text": [
      "49\n",
      "58\n"
     ]
    },
    {
     "name": "stderr",
     "output_type": "stream",
     "text": [
      "\r",
      "64it [00:15,  4.66it/s]"
     ]
    },
    {
     "name": "stdout",
     "output_type": "stream",
     "text": [
      "73\n"
     ]
    },
    {
     "name": "stderr",
     "output_type": "stream",
     "text": [
      "\r",
      "65it [00:16,  4.50it/s]"
     ]
    },
    {
     "name": "stdout",
     "output_type": "stream",
     "text": [
      "65\n"
     ]
    },
    {
     "name": "stderr",
     "output_type": "stream",
     "text": [
      "\r",
      "66it [00:16,  3.46it/s]"
     ]
    },
    {
     "name": "stdout",
     "output_type": "stream",
     "text": [
      "62\n"
     ]
    },
    {
     "name": "stderr",
     "output_type": "stream",
     "text": [
      "\r",
      "67it [00:16,  3.72it/s]"
     ]
    },
    {
     "name": "stdout",
     "output_type": "stream",
     "text": [
      "77\n",
      "69\n"
     ]
    },
    {
     "name": "stderr",
     "output_type": "stream",
     "text": [
      "\r",
      "69it [00:16,  5.03it/s]"
     ]
    },
    {
     "name": "stdout",
     "output_type": "stream",
     "text": [
      "67\n",
      "64\n",
      "88\n",
      "None\n"
     ]
    },
    {
     "name": "stderr",
     "output_type": "stream",
     "text": [
      "78it [00:17, 12.79it/s]"
     ]
    },
    {
     "name": "stdout",
     "output_type": "stream",
     "text": [
      "66\n",
      "78\n",
      "None\n",
      "71\n",
      "63\n",
      "74\n"
     ]
    },
    {
     "name": "stderr",
     "output_type": "stream",
     "text": [
      "\r",
      "80it [00:17,  7.66it/s]"
     ]
    },
    {
     "name": "stdout",
     "output_type": "stream",
     "text": [
      "76\n",
      "70\n",
      "82\n"
     ]
    },
    {
     "name": "stderr",
     "output_type": "stream",
     "text": [
      "83it [00:18,  6.95it/s]"
     ]
    },
    {
     "name": "stdout",
     "output_type": "stream",
     "text": [
      "84\n",
      "85\n"
     ]
    },
    {
     "name": "stderr",
     "output_type": "stream",
     "text": [
      "86it [00:18,  8.08it/s]"
     ]
    },
    {
     "name": "stdout",
     "output_type": "stream",
     "text": [
      "81\n",
      "68\n",
      "75\n"
     ]
    },
    {
     "name": "stderr",
     "output_type": "stream",
     "text": [
      "\r",
      "87it [00:19,  7.47it/s]"
     ]
    },
    {
     "name": "stdout",
     "output_type": "stream",
     "text": [
      "91\n"
     ]
    },
    {
     "name": "stderr",
     "output_type": "stream",
     "text": [
      "\r",
      "88it [00:19,  5.81it/s]"
     ]
    },
    {
     "name": "stdout",
     "output_type": "stream",
     "text": [
      "94\n"
     ]
    },
    {
     "name": "stderr",
     "output_type": "stream",
     "text": [
      "91it [00:19,  5.69it/s]"
     ]
    },
    {
     "name": "stdout",
     "output_type": "stream",
     "text": [
      "90\n",
      "72\n",
      "89\n"
     ]
    },
    {
     "name": "stderr",
     "output_type": "stream",
     "text": [
      "\r",
      "92it [00:20,  5.32it/s]"
     ]
    },
    {
     "name": "stdout",
     "output_type": "stream",
     "text": [
      "93\n"
     ]
    },
    {
     "name": "stderr",
     "output_type": "stream",
     "text": [
      "94it [00:20,  3.92it/s]"
     ]
    },
    {
     "name": "stdout",
     "output_type": "stream",
     "text": [
      "83\n",
      "92\n"
     ]
    },
    {
     "name": "stderr",
     "output_type": "stream",
     "text": [
      "97it [00:21,  4.91it/s]"
     ]
    },
    {
     "name": "stdout",
     "output_type": "stream",
     "text": [
      "100\n",
      "87\n",
      "98\n"
     ]
    },
    {
     "name": "stderr",
     "output_type": "stream",
     "text": [
      "\r",
      "98it [00:21,  3.87it/s]"
     ]
    },
    {
     "name": "stdout",
     "output_type": "stream",
     "text": [
      "99\n"
     ]
    },
    {
     "name": "stderr",
     "output_type": "stream",
     "text": [
      "101it [00:22,  4.47it/s]"
     ]
    },
    {
     "name": "stdout",
     "output_type": "stream",
     "text": [
      "80\n",
      "109\n",
      "108\n",
      "95\n"
     ]
    },
    {
     "name": "stderr",
     "output_type": "stream",
     "text": [
      "\r",
      "103it [00:22,  5.53it/s]"
     ]
    },
    {
     "name": "stdout",
     "output_type": "stream",
     "text": [
      "107\n"
     ]
    },
    {
     "name": "stderr",
     "output_type": "stream",
     "text": [
      "\r",
      "104it [00:23,  5.01it/s]"
     ]
    },
    {
     "name": "stdout",
     "output_type": "stream",
     "text": [
      "97\n",
      "86\n"
     ]
    },
    {
     "name": "stderr",
     "output_type": "stream",
     "text": [
      "\r",
      "106it [00:23,  6.06it/s]"
     ]
    },
    {
     "name": "stdout",
     "output_type": "stream",
     "text": [
      "111\n"
     ]
    },
    {
     "name": "stderr",
     "output_type": "stream",
     "text": [
      "\r",
      "107it [00:23,  5.74it/s]"
     ]
    },
    {
     "name": "stdout",
     "output_type": "stream",
     "text": [
      "101\n",
      "103\n"
     ]
    },
    {
     "name": "stderr",
     "output_type": "stream",
     "text": [
      "110it [00:23,  6.58it/s]"
     ]
    },
    {
     "name": "stdout",
     "output_type": "stream",
     "text": [
      "112\n",
      "110\n",
      "117\n"
     ]
    },
    {
     "name": "stderr",
     "output_type": "stream",
     "text": [
      "\r",
      "112it [00:24,  5.10it/s]"
     ]
    },
    {
     "name": "stdout",
     "output_type": "stream",
     "text": [
      "116\n",
      "106\n",
      "96\n"
     ]
    },
    {
     "name": "stderr",
     "output_type": "stream",
     "text": [
      "\r",
      "115it [00:24,  7.06it/s]"
     ]
    },
    {
     "name": "stdout",
     "output_type": "stream",
     "text": [
      "104\n",
      "118\n"
     ]
    },
    {
     "name": "stderr",
     "output_type": "stream",
     "text": [
      "118it [00:25,  6.27it/s]"
     ]
    },
    {
     "name": "stdout",
     "output_type": "stream",
     "text": [
      "114\n",
      "120\n",
      "None\n"
     ]
    },
    {
     "name": "stderr",
     "output_type": "stream",
     "text": [
      "\r",
      "120it [00:25,  7.66it/s]"
     ]
    },
    {
     "name": "stdout",
     "output_type": "stream",
     "text": [
      "121\n"
     ]
    },
    {
     "name": "stderr",
     "output_type": "stream",
     "text": [
      "\r",
      "121it [00:25,  6.67it/s]"
     ]
    },
    {
     "name": "stdout",
     "output_type": "stream",
     "text": [
      "125\n",
      "122\n",
      "115\n"
     ]
    },
    {
     "name": "stderr",
     "output_type": "stream",
     "text": [
      "\r",
      "124it [00:25,  8.12it/s]"
     ]
    },
    {
     "name": "stdout",
     "output_type": "stream",
     "text": [
      "113\n",
      "None\n"
     ]
    },
    {
     "name": "stderr",
     "output_type": "stream",
     "text": [
      "\r",
      "126it [00:26,  4.59it/s]"
     ]
    },
    {
     "name": "stdout",
     "output_type": "stream",
     "text": [
      "128\n"
     ]
    },
    {
     "name": "stderr",
     "output_type": "stream",
     "text": [
      "\r",
      "127it [00:27,  3.86it/s]"
     ]
    },
    {
     "name": "stdout",
     "output_type": "stream",
     "text": [
      "137\n",
      "119\n"
     ]
    },
    {
     "name": "stderr",
     "output_type": "stream",
     "text": [
      "131it [00:27,  4.96it/s]"
     ]
    },
    {
     "name": "stdout",
     "output_type": "stream",
     "text": [
      "145\n",
      "124\n",
      "127\n"
     ]
    },
    {
     "name": "stderr",
     "output_type": "stream",
     "text": [
      "\r",
      "132it [00:28,  5.40it/s]"
     ]
    },
    {
     "name": "stdout",
     "output_type": "stream",
     "text": [
      "140\n"
     ]
    },
    {
     "name": "stderr",
     "output_type": "stream",
     "text": [
      "134it [00:28,  5.46it/s]"
     ]
    },
    {
     "name": "stdout",
     "output_type": "stream",
     "text": [
      "142\n",
      "133\n",
      "144\n"
     ]
    },
    {
     "name": "stderr",
     "output_type": "stream",
     "text": [
      "138it [00:28,  7.49it/s]"
     ]
    },
    {
     "name": "stdout",
     "output_type": "stream",
     "text": [
      "131\n",
      "136\n",
      "134\n"
     ]
    },
    {
     "name": "stderr",
     "output_type": "stream",
     "text": [
      "140it [00:29,  6.30it/s]"
     ]
    },
    {
     "name": "stdout",
     "output_type": "stream",
     "text": [
      "130\n",
      "129\n"
     ]
    },
    {
     "name": "stderr",
     "output_type": "stream",
     "text": [
      "142it [00:29,  7.32it/s]"
     ]
    },
    {
     "name": "stdout",
     "output_type": "stream",
     "text": [
      "138\n",
      "123\n",
      "143\n"
     ]
    },
    {
     "name": "stderr",
     "output_type": "stream",
     "text": [
      "\r",
      "144it [00:29,  8.10it/s]"
     ]
    },
    {
     "name": "stdout",
     "output_type": "stream",
     "text": [
      "126\n"
     ]
    },
    {
     "name": "stderr",
     "output_type": "stream",
     "text": [
      "\r",
      "145it [00:30,  4.66it/s]"
     ]
    },
    {
     "name": "stdout",
     "output_type": "stream",
     "text": [
      "135\n",
      "147\n"
     ]
    },
    {
     "name": "stderr",
     "output_type": "stream",
     "text": [
      "148it [00:30,  5.51it/s]"
     ]
    },
    {
     "name": "stdout",
     "output_type": "stream",
     "text": [
      "132\n",
      "150\n"
     ]
    },
    {
     "name": "stderr",
     "output_type": "stream",
     "text": [
      "151it [00:31,  6.90it/s]"
     ]
    },
    {
     "name": "stdout",
     "output_type": "stream",
     "text": [
      "156\n",
      "153\n",
      "158\n"
     ]
    },
    {
     "name": "stderr",
     "output_type": "stream",
     "text": [
      "154it [00:31,  7.70it/s]"
     ]
    },
    {
     "name": "stdout",
     "output_type": "stream",
     "text": [
      "152\n",
      "141\n",
      "151\n"
     ]
    },
    {
     "name": "stderr",
     "output_type": "stream",
     "text": [
      "\r",
      "155it [00:31,  5.78it/s]"
     ]
    },
    {
     "name": "stdout",
     "output_type": "stream",
     "text": [
      "148\n"
     ]
    },
    {
     "name": "stderr",
     "output_type": "stream",
     "text": [
      "\r",
      "156it [00:32,  3.36it/s]"
     ]
    },
    {
     "name": "stdout",
     "output_type": "stream",
     "text": [
      "163\n",
      "154\n"
     ]
    },
    {
     "name": "stderr",
     "output_type": "stream",
     "text": [
      "\r",
      "158it [00:32,  4.29it/s]"
     ]
    },
    {
     "name": "stdout",
     "output_type": "stream",
     "text": [
      "168\n",
      "146\n"
     ]
    },
    {
     "name": "stderr",
     "output_type": "stream",
     "text": [
      "\r",
      "160it [00:32,  5.15it/s]"
     ]
    },
    {
     "name": "stdout",
     "output_type": "stream",
     "text": [
      "173\n"
     ]
    },
    {
     "name": "stderr",
     "output_type": "stream",
     "text": [
      "\r",
      "161it [00:33,  4.08it/s]"
     ]
    },
    {
     "name": "stdout",
     "output_type": "stream",
     "text": [
      "160\n",
      "172\n"
     ]
    },
    {
     "name": "stderr",
     "output_type": "stream",
     "text": [
      "\r",
      "163it [00:33,  5.08it/s]"
     ]
    },
    {
     "name": "stdout",
     "output_type": "stream",
     "text": [
      "139\n"
     ]
    },
    {
     "name": "stderr",
     "output_type": "stream",
     "text": [
      "168it [00:34,  7.32it/s]"
     ]
    },
    {
     "name": "stdout",
     "output_type": "stream",
     "text": [
      "165\n",
      "166\n",
      "177\n",
      "162\n",
      "157\n",
      "169\n"
     ]
    },
    {
     "name": "stderr",
     "output_type": "stream",
     "text": [
      "173it [00:34,  8.28it/s]"
     ]
    },
    {
     "name": "stdout",
     "output_type": "stream",
     "text": [
      "161\n",
      "None\n",
      "None\n",
      "183\n"
     ]
    },
    {
     "name": "stderr",
     "output_type": "stream",
     "text": [
      "\r",
      "175it [00:35,  8.05it/s]"
     ]
    },
    {
     "name": "stdout",
     "output_type": "stream",
     "text": [
      "164\n",
      "181\n",
      "182\n"
     ]
    },
    {
     "name": "stderr",
     "output_type": "stream",
     "text": [
      "180it [00:35, 11.54it/s]"
     ]
    },
    {
     "name": "stdout",
     "output_type": "stream",
     "text": [
      "178\n",
      "None\n",
      "175\n",
      "167\n",
      "174\n"
     ]
    },
    {
     "name": "stderr",
     "output_type": "stream",
     "text": [
      "\r",
      "182it [00:35, 10.40it/s]"
     ]
    },
    {
     "name": "stdout",
     "output_type": "stream",
     "text": [
      "176\n",
      "186\n"
     ]
    },
    {
     "name": "stderr",
     "output_type": "stream",
     "text": [
      "\r",
      "184it [00:35, 10.10it/s]"
     ]
    },
    {
     "name": "stdout",
     "output_type": "stream",
     "text": [
      "179\n"
     ]
    },
    {
     "name": "stderr",
     "output_type": "stream",
     "text": [
      "\r",
      "186it [00:36,  6.05it/s]"
     ]
    },
    {
     "name": "stdout",
     "output_type": "stream",
     "text": [
      "170\n",
      "171\n"
     ]
    },
    {
     "name": "stderr",
     "output_type": "stream",
     "text": [
      "\r",
      "187it [00:36,  5.64it/s]"
     ]
    },
    {
     "name": "stdout",
     "output_type": "stream",
     "text": [
      "159\n"
     ]
    },
    {
     "name": "stderr",
     "output_type": "stream",
     "text": [
      "\r",
      "188it [00:37,  4.89it/s]"
     ]
    },
    {
     "name": "stdout",
     "output_type": "stream",
     "text": [
      "185\n"
     ]
    },
    {
     "name": "stderr",
     "output_type": "stream",
     "text": [
      "\r",
      "189it [00:37,  3.87it/s]"
     ]
    },
    {
     "name": "stdout",
     "output_type": "stream",
     "text": [
      "196\n"
     ]
    },
    {
     "name": "stderr",
     "output_type": "stream",
     "text": [
      "191it [00:38,  4.20it/s]"
     ]
    },
    {
     "name": "stdout",
     "output_type": "stream",
     "text": [
      "188\n",
      "184\n",
      "180\n",
      "187\n"
     ]
    },
    {
     "name": "stderr",
     "output_type": "stream",
     "text": [
      "\r",
      "194it [00:38,  5.82it/s]"
     ]
    },
    {
     "name": "stdout",
     "output_type": "stream",
     "text": [
      "199\n",
      "209\n"
     ]
    },
    {
     "name": "stderr",
     "output_type": "stream",
     "text": [
      "\r",
      "196it [00:38,  5.23it/s]"
     ]
    },
    {
     "name": "stdout",
     "output_type": "stream",
     "text": [
      "191\n"
     ]
    },
    {
     "name": "stderr",
     "output_type": "stream",
     "text": [
      "\r",
      "197it [00:39,  5.03it/s]"
     ]
    },
    {
     "name": "stdout",
     "output_type": "stream",
     "text": [
      "193\n"
     ]
    },
    {
     "name": "stderr",
     "output_type": "stream",
     "text": [
      "\r",
      "198it [00:39,  3.73it/s]"
     ]
    },
    {
     "name": "stdout",
     "output_type": "stream",
     "text": [
      "216\n",
      "197\n",
      "194\n"
     ]
    },
    {
     "name": "stderr",
     "output_type": "stream",
     "text": [
      "\r",
      "201it [00:39,  5.26it/s]"
     ]
    },
    {
     "name": "stdout",
     "output_type": "stream",
     "text": [
      "190\n"
     ]
    },
    {
     "name": "stderr",
     "output_type": "stream",
     "text": [
      "\r",
      "202it [00:40,  4.66it/s]"
     ]
    },
    {
     "name": "stdout",
     "output_type": "stream",
     "text": [
      "195\n",
      "192\n"
     ]
    },
    {
     "name": "stderr",
     "output_type": "stream",
     "text": [
      "205it [00:40,  4.70it/s]"
     ]
    },
    {
     "name": "stdout",
     "output_type": "stream",
     "text": [
      "204\n",
      "214\n"
     ]
    },
    {
     "name": "stderr",
     "output_type": "stream",
     "text": [
      "208it [00:41,  6.24it/s]"
     ]
    },
    {
     "name": "stdout",
     "output_type": "stream",
     "text": [
      "210\n",
      "212\n",
      "189\n",
      "215\n"
     ]
    },
    {
     "name": "stderr",
     "output_type": "stream",
     "text": [
      "212it [00:41,  6.23it/s]"
     ]
    },
    {
     "name": "stdout",
     "output_type": "stream",
     "text": [
      "211\n",
      "205\n",
      "198\n"
     ]
    },
    {
     "name": "stderr",
     "output_type": "stream",
     "text": [
      "\r",
      "214it [00:42,  6.84it/s]"
     ]
    },
    {
     "name": "stdout",
     "output_type": "stream",
     "text": [
      "218\n",
      "213\n"
     ]
    },
    {
     "name": "stderr",
     "output_type": "stream",
     "text": [
      "\r",
      "215it [00:42,  4.28it/s]"
     ]
    },
    {
     "name": "stdout",
     "output_type": "stream",
     "text": [
      "221\n"
     ]
    },
    {
     "name": "stderr",
     "output_type": "stream",
     "text": [
      "217it [00:43,  4.35it/s]"
     ]
    },
    {
     "name": "stdout",
     "output_type": "stream",
     "text": [
      "220\n",
      "200\n",
      "217\n"
     ]
    },
    {
     "name": "stderr",
     "output_type": "stream",
     "text": [
      "221it [00:43,  7.06it/s]"
     ]
    },
    {
     "name": "stdout",
     "output_type": "stream",
     "text": [
      "230\n",
      "203\n",
      "224\n",
      "223\n"
     ]
    },
    {
     "name": "stderr",
     "output_type": "stream",
     "text": [
      "\r",
      "224it [00:43,  9.28it/s]"
     ]
    },
    {
     "name": "stdout",
     "output_type": "stream",
     "text": [
      "226\n",
      "222\n",
      "207\n"
     ]
    },
    {
     "name": "stderr",
     "output_type": "stream",
     "text": [
      "\r",
      "226it [00:44,  7.56it/s]"
     ]
    },
    {
     "name": "stdout",
     "output_type": "stream",
     "text": [
      "227\n",
      "206\n"
     ]
    },
    {
     "name": "stderr",
     "output_type": "stream",
     "text": [
      "\r",
      "228it [00:44,  6.91it/s]"
     ]
    },
    {
     "name": "stdout",
     "output_type": "stream",
     "text": [
      "219\n",
      "225\n"
     ]
    },
    {
     "name": "stderr",
     "output_type": "stream",
     "text": [
      "\r",
      "230it [00:45,  5.03it/s]"
     ]
    },
    {
     "name": "stdout",
     "output_type": "stream",
     "text": [
      "229\n"
     ]
    },
    {
     "name": "stderr",
     "output_type": "stream",
     "text": [
      "\r",
      "231it [00:45,  4.53it/s]"
     ]
    },
    {
     "name": "stdout",
     "output_type": "stream",
     "text": [
      "232\n",
      "228\n"
     ]
    },
    {
     "name": "stderr",
     "output_type": "stream",
     "text": [
      "\r",
      "233it [00:46,  4.12it/s]"
     ]
    },
    {
     "name": "stdout",
     "output_type": "stream",
     "text": [
      "240\n",
      "231\n",
      "None\n",
      "None\n",
      "234\n"
     ]
    },
    {
     "name": "stderr",
     "output_type": "stream",
     "text": [
      "\r",
      "238it [00:46,  6.02it/s]"
     ]
    },
    {
     "name": "stdout",
     "output_type": "stream",
     "text": [
      "249\n",
      "241\n",
      "254\n"
     ]
    },
    {
     "name": "stderr",
     "output_type": "stream",
     "text": [
      "243it [00:47,  7.78it/s]"
     ]
    },
    {
     "name": "stdout",
     "output_type": "stream",
     "text": [
      "238\n",
      "245\n",
      "237\n"
     ]
    },
    {
     "name": "stderr",
     "output_type": "stream",
     "text": [
      "245it [00:47,  5.24it/s]"
     ]
    },
    {
     "name": "stdout",
     "output_type": "stream",
     "text": [
      "246\n",
      "244\n"
     ]
    },
    {
     "name": "stderr",
     "output_type": "stream",
     "text": [
      "\r",
      "246it [00:47,  5.29it/s]"
     ]
    },
    {
     "name": "stdout",
     "output_type": "stream",
     "text": [
      "243\n"
     ]
    },
    {
     "name": "stderr",
     "output_type": "stream",
     "text": [
      "\r",
      "247it [00:48,  4.83it/s]"
     ]
    },
    {
     "name": "stdout",
     "output_type": "stream",
     "text": [
      "235\n"
     ]
    },
    {
     "name": "stderr",
     "output_type": "stream",
     "text": [
      "250it [00:48,  5.91it/s]"
     ]
    },
    {
     "name": "stdout",
     "output_type": "stream",
     "text": [
      "250\n",
      "236\n",
      "239\n"
     ]
    },
    {
     "name": "stderr",
     "output_type": "stream",
     "text": [
      "253it [00:49,  7.53it/s]"
     ]
    },
    {
     "name": "stdout",
     "output_type": "stream",
     "text": [
      "247\n",
      "None\n",
      "233\n"
     ]
    },
    {
     "name": "stderr",
     "output_type": "stream",
     "text": [
      "\r",
      "255it [00:49,  7.50it/s]"
     ]
    },
    {
     "name": "stdout",
     "output_type": "stream",
     "text": [
      "258\n",
      "253\n",
      "248\n",
      "None\n"
     ]
    },
    {
     "name": "stderr",
     "output_type": "stream",
     "text": [
      "\r",
      "258it [00:49,  8.86it/s]"
     ]
    },
    {
     "name": "stdout",
     "output_type": "stream",
     "text": [
      "242\n",
      "None\n",
      "255\n"
     ]
    },
    {
     "name": "stderr",
     "output_type": "stream",
     "text": [
      "262it [00:50,  6.17it/s]"
     ]
    },
    {
     "name": "stdout",
     "output_type": "stream",
     "text": [
      "260\n",
      "251\n",
      "252\n"
     ]
    },
    {
     "name": "stderr",
     "output_type": "stream",
     "text": [
      "266it [00:50,  6.99it/s]"
     ]
    },
    {
     "name": "stdout",
     "output_type": "stream",
     "text": [
      "272\n",
      "274\n",
      "276\n",
      "263\n"
     ]
    },
    {
     "name": "stderr",
     "output_type": "stream",
     "text": [
      "270it [00:51,  6.22it/s]"
     ]
    },
    {
     "name": "stdout",
     "output_type": "stream",
     "text": [
      "256\n",
      "257\n",
      "273\n"
     ]
    },
    {
     "name": "stderr",
     "output_type": "stream",
     "text": [
      "\r",
      "271it [00:51,  6.25it/s]"
     ]
    },
    {
     "name": "stdout",
     "output_type": "stream",
     "text": [
      "268\n",
      "283\n",
      "267\n"
     ]
    },
    {
     "name": "stderr",
     "output_type": "stream",
     "text": [
      "276it [00:52,  7.86it/s]"
     ]
    },
    {
     "name": "stdout",
     "output_type": "stream",
     "text": [
      "269\n",
      "264\n",
      "262\n"
     ]
    },
    {
     "name": "stderr",
     "output_type": "stream",
     "text": [
      "278it [00:52,  7.31it/s]"
     ]
    },
    {
     "name": "stdout",
     "output_type": "stream",
     "text": [
      "270\n",
      "271\n",
      "278\n"
     ]
    },
    {
     "name": "stderr",
     "output_type": "stream",
     "text": [
      "\r",
      "280it [00:52,  8.77it/s]"
     ]
    },
    {
     "name": "stdout",
     "output_type": "stream",
     "text": [
      "277\n",
      "259\n"
     ]
    },
    {
     "name": "stderr",
     "output_type": "stream",
     "text": [
      "283it [00:53,  7.14it/s]"
     ]
    },
    {
     "name": "stdout",
     "output_type": "stream",
     "text": [
      "292\n",
      "294\n"
     ]
    },
    {
     "name": "stderr",
     "output_type": "stream",
     "text": [
      "285it [00:53,  5.56it/s]"
     ]
    },
    {
     "name": "stdout",
     "output_type": "stream",
     "text": [
      "275\n",
      "298\n",
      "284\n"
     ]
    },
    {
     "name": "stderr",
     "output_type": "stream",
     "text": [
      "289it [00:54,  8.89it/s]"
     ]
    },
    {
     "name": "stdout",
     "output_type": "stream",
     "text": [
      "293\n",
      "285\n",
      "279\n"
     ]
    },
    {
     "name": "stderr",
     "output_type": "stream",
     "text": [
      "\r",
      "291it [00:54,  9.33it/s]"
     ]
    },
    {
     "name": "stdout",
     "output_type": "stream",
     "text": [
      "281\n",
      "280\n"
     ]
    },
    {
     "name": "stderr",
     "output_type": "stream",
     "text": [
      "\r",
      "293it [00:55,  5.42it/s]"
     ]
    },
    {
     "name": "stdout",
     "output_type": "stream",
     "text": [
      "286\n",
      "261\n"
     ]
    },
    {
     "name": "stderr",
     "output_type": "stream",
     "text": [
      "\r",
      "295it [00:55,  6.20it/s]"
     ]
    },
    {
     "name": "stdout",
     "output_type": "stream",
     "text": [
      "290\n",
      "288\n"
     ]
    },
    {
     "name": "stderr",
     "output_type": "stream",
     "text": [
      "\r",
      "296it [00:55,  5.42it/s]"
     ]
    },
    {
     "name": "stdout",
     "output_type": "stream",
     "text": [
      "309\n"
     ]
    },
    {
     "name": "stderr",
     "output_type": "stream",
     "text": [
      "\r",
      "297it [00:55,  4.91it/s]"
     ]
    },
    {
     "name": "stdout",
     "output_type": "stream",
     "text": [
      "291\n"
     ]
    },
    {
     "name": "stderr",
     "output_type": "stream",
     "text": [
      "\r",
      "298it [00:56,  4.51it/s]"
     ]
    },
    {
     "name": "stdout",
     "output_type": "stream",
     "text": [
      "297\n"
     ]
    },
    {
     "name": "stderr",
     "output_type": "stream",
     "text": [
      "\r",
      "299it [00:56,  4.20it/s]"
     ]
    },
    {
     "name": "stdout",
     "output_type": "stream",
     "text": [
      "304\n",
      "295\n",
      "308\n"
     ]
    },
    {
     "name": "stderr",
     "output_type": "stream",
     "text": [
      "\r",
      "302it [00:56,  5.44it/s]"
     ]
    },
    {
     "name": "stdout",
     "output_type": "stream",
     "text": [
      "300\n"
     ]
    },
    {
     "name": "stderr",
     "output_type": "stream",
     "text": [
      "\r",
      "303it [00:57,  4.55it/s]"
     ]
    },
    {
     "name": "stdout",
     "output_type": "stream",
     "text": [
      "296\n",
      "299\n"
     ]
    },
    {
     "name": "stderr",
     "output_type": "stream",
     "text": [
      "\r",
      "305it [00:57,  5.10it/s]"
     ]
    },
    {
     "name": "stdout",
     "output_type": "stream",
     "text": [
      "301\n"
     ]
    },
    {
     "name": "stderr",
     "output_type": "stream",
     "text": [
      "309it [00:57,  7.90it/s]"
     ]
    },
    {
     "name": "stdout",
     "output_type": "stream",
     "text": [
      "310\n",
      "322\n",
      "302\n",
      "321\n",
      "306\n"
     ]
    },
    {
     "name": "stderr",
     "output_type": "stream",
     "text": [
      "\r",
      "311it [00:58,  6.88it/s]"
     ]
    },
    {
     "name": "stdout",
     "output_type": "stream",
     "text": [
      "312\n"
     ]
    },
    {
     "name": "stderr",
     "output_type": "stream",
     "text": [
      "\r",
      "312it [00:58,  5.38it/s]"
     ]
    },
    {
     "name": "stdout",
     "output_type": "stream",
     "text": [
      "314\n"
     ]
    },
    {
     "name": "stderr",
     "output_type": "stream",
     "text": [
      "\r",
      "313it [00:58,  5.12it/s]"
     ]
    },
    {
     "name": "stdout",
     "output_type": "stream",
     "text": [
      "319\n"
     ]
    },
    {
     "name": "stderr",
     "output_type": "stream",
     "text": [
      "\r",
      "314it [00:59,  4.94it/s]"
     ]
    },
    {
     "name": "stdout",
     "output_type": "stream",
     "text": [
      "327\n",
      "311\n"
     ]
    },
    {
     "name": "stderr",
     "output_type": "stream",
     "text": [
      "317it [00:59,  4.49it/s]"
     ]
    },
    {
     "name": "stdout",
     "output_type": "stream",
     "text": [
      "318\n",
      "316\n"
     ]
    },
    {
     "name": "stderr",
     "output_type": "stream",
     "text": [
      "\r",
      "319it [00:59,  6.06it/s]"
     ]
    },
    {
     "name": "stdout",
     "output_type": "stream",
     "text": [
      "307\n",
      "315\n",
      "None\n",
      "305\n",
      "323\n"
     ]
    },
    {
     "name": "stderr",
     "output_type": "stream",
     "text": [
      "\r",
      "323it [01:00,  7.97it/s]"
     ]
    },
    {
     "name": "stdout",
     "output_type": "stream",
     "text": [
      "313\n"
     ]
    },
    {
     "name": "stderr",
     "output_type": "stream",
     "text": [
      "\r",
      "324it [01:00,  6.97it/s]"
     ]
    },
    {
     "name": "stdout",
     "output_type": "stream",
     "text": [
      "320\n",
      "338\n",
      "336\n",
      "340\n"
     ]
    },
    {
     "name": "stderr",
     "output_type": "stream",
     "text": [
      "\r",
      "328it [01:00,  8.60it/s]"
     ]
    },
    {
     "name": "stdout",
     "output_type": "stream",
     "text": [
      "341\n"
     ]
    },
    {
     "name": "stderr",
     "output_type": "stream",
     "text": [
      "\r",
      "329it [01:01,  7.00it/s]"
     ]
    },
    {
     "name": "stdout",
     "output_type": "stream",
     "text": [
      "329\n"
     ]
    },
    {
     "name": "stderr",
     "output_type": "stream",
     "text": [
      "\r",
      "330it [01:01,  6.11it/s]"
     ]
    },
    {
     "name": "stdout",
     "output_type": "stream",
     "text": [
      "326\n",
      "303\n",
      "None\n"
     ]
    },
    {
     "name": "stderr",
     "output_type": "stream",
     "text": [
      "336it [01:01,  9.29it/s]"
     ]
    },
    {
     "name": "stdout",
     "output_type": "stream",
     "text": [
      "334\n",
      "324\n",
      "317\n",
      "328\n"
     ]
    },
    {
     "name": "stderr",
     "output_type": "stream",
     "text": [
      "340it [01:02, 10.68it/s]"
     ]
    },
    {
     "name": "stdout",
     "output_type": "stream",
     "text": [
      "331\n",
      "335\n",
      "332\n",
      "346\n"
     ]
    },
    {
     "name": "stderr",
     "output_type": "stream",
     "text": [
      "\r",
      "342it [01:02,  6.78it/s]"
     ]
    },
    {
     "name": "stdout",
     "output_type": "stream",
     "text": [
      "333\n",
      "325\n",
      "None\n",
      "351\n"
     ]
    },
    {
     "name": "stderr",
     "output_type": "stream",
     "text": [
      "\r",
      "345it [01:03,  7.21it/s]"
     ]
    },
    {
     "name": "stdout",
     "output_type": "stream",
     "text": [
      "343\n"
     ]
    },
    {
     "name": "stderr",
     "output_type": "stream",
     "text": [
      "349it [01:03,  8.90it/s]"
     ]
    },
    {
     "name": "stdout",
     "output_type": "stream",
     "text": [
      "352\n",
      "337\n",
      "None\n",
      "347\n",
      "None\n"
     ]
    },
    {
     "name": "stderr",
     "output_type": "stream",
     "text": [
      "\r",
      "351it [01:03,  9.92it/s]"
     ]
    },
    {
     "name": "stdout",
     "output_type": "stream",
     "text": [
      "357\n",
      "342\n"
     ]
    },
    {
     "name": "stderr",
     "output_type": "stream",
     "text": [
      "\r",
      "353it [01:04,  6.22it/s]"
     ]
    },
    {
     "name": "stdout",
     "output_type": "stream",
     "text": [
      "344\n",
      "345\n"
     ]
    },
    {
     "name": "stderr",
     "output_type": "stream",
     "text": [
      "\r",
      "355it [01:04,  6.38it/s]"
     ]
    },
    {
     "name": "stdout",
     "output_type": "stream",
     "text": [
      "364\n"
     ]
    },
    {
     "name": "stderr",
     "output_type": "stream",
     "text": [
      "357it [01:05,  5.30it/s]"
     ]
    },
    {
     "name": "stdout",
     "output_type": "stream",
     "text": [
      "354\n",
      "348\n",
      "367\n",
      "330\n"
     ]
    },
    {
     "name": "stderr",
     "output_type": "stream",
     "text": [
      "\r",
      "360it [01:05,  6.24it/s]"
     ]
    },
    {
     "name": "stdout",
     "output_type": "stream",
     "text": [
      "353\n",
      "None\n"
     ]
    },
    {
     "name": "stderr",
     "output_type": "stream",
     "text": [
      "363it [01:06,  6.67it/s]"
     ]
    },
    {
     "name": "stdout",
     "output_type": "stream",
     "text": [
      "349\n",
      "359\n"
     ]
    },
    {
     "name": "stderr",
     "output_type": "stream",
     "text": [
      "\r",
      "365it [01:06,  8.59it/s]"
     ]
    },
    {
     "name": "stdout",
     "output_type": "stream",
     "text": [
      "339\n",
      "None\n",
      "361\n",
      "358\n"
     ]
    },
    {
     "name": "stderr",
     "output_type": "stream",
     "text": [
      "\r",
      "368it [01:06,  9.07it/s]"
     ]
    },
    {
     "name": "stdout",
     "output_type": "stream",
     "text": [
      "360\n"
     ]
    },
    {
     "name": "stderr",
     "output_type": "stream",
     "text": [
      "\r",
      "370it [01:06,  7.47it/s]"
     ]
    },
    {
     "name": "stdout",
     "output_type": "stream",
     "text": [
      "376\n",
      "366\n",
      "355\n"
     ]
    },
    {
     "name": "stderr",
     "output_type": "stream",
     "text": [
      "373it [01:07,  6.20it/s]"
     ]
    },
    {
     "name": "stdout",
     "output_type": "stream",
     "text": [
      "356\n",
      "374\n"
     ]
    },
    {
     "name": "stderr",
     "output_type": "stream",
     "text": [
      "\r",
      "374it [01:07,  5.70it/s]"
     ]
    },
    {
     "name": "stdout",
     "output_type": "stream",
     "text": [
      "377\n",
      "370\n"
     ]
    },
    {
     "name": "stderr",
     "output_type": "stream",
     "text": [
      "377it [01:08,  6.11it/s]"
     ]
    },
    {
     "name": "stdout",
     "output_type": "stream",
     "text": [
      "387\n",
      "368\n"
     ]
    },
    {
     "name": "stderr",
     "output_type": "stream",
     "text": [
      "379it [01:08,  5.89it/s]"
     ]
    },
    {
     "name": "stdout",
     "output_type": "stream",
     "text": [
      "371\n",
      "381\n"
     ]
    },
    {
     "name": "stderr",
     "output_type": "stream",
     "text": [
      "\r",
      "380it [01:08,  6.27it/s]"
     ]
    },
    {
     "name": "stdout",
     "output_type": "stream",
     "text": [
      "363\n"
     ]
    },
    {
     "name": "stderr",
     "output_type": "stream",
     "text": [
      "382it [01:09,  5.27it/s]"
     ]
    },
    {
     "name": "stdout",
     "output_type": "stream",
     "text": [
      "382\n",
      "375\n"
     ]
    },
    {
     "name": "stderr",
     "output_type": "stream",
     "text": [
      "384it [01:09,  6.09it/s]"
     ]
    },
    {
     "name": "stdout",
     "output_type": "stream",
     "text": [
      "379\n",
      "384\n",
      "365\n"
     ]
    },
    {
     "name": "stderr",
     "output_type": "stream",
     "text": [
      "\r",
      "386it [01:09,  4.97it/s]"
     ]
    },
    {
     "name": "stdout",
     "output_type": "stream",
     "text": [
      "399\n",
      "388\n",
      "372\n",
      "369\n"
     ]
    },
    {
     "name": "stderr",
     "output_type": "stream",
     "text": [
      "391it [01:10,  6.10it/s]"
     ]
    },
    {
     "name": "stdout",
     "output_type": "stream",
     "text": [
      "385\n",
      "383\n"
     ]
    },
    {
     "name": "stderr",
     "output_type": "stream",
     "text": [
      "395it [01:11,  6.60it/s]"
     ]
    },
    {
     "name": "stdout",
     "output_type": "stream",
     "text": [
      "398\n",
      "392\n",
      "386\n",
      "402\n"
     ]
    },
    {
     "name": "stderr",
     "output_type": "stream",
     "text": [
      "398it [01:11,  5.50it/s]"
     ]
    },
    {
     "name": "stdout",
     "output_type": "stream",
     "text": [
      "390\n",
      "389\n",
      "400\n",
      "393\n"
     ]
    },
    {
     "name": "stderr",
     "output_type": "stream",
     "text": [
      "402it [01:12,  8.15it/s]"
     ]
    },
    {
     "name": "stdout",
     "output_type": "stream",
     "text": [
      "396\n",
      "394\n",
      "412\n"
     ]
    },
    {
     "name": "stderr",
     "output_type": "stream",
     "text": [
      "\r",
      "404it [01:12,  8.71it/s]"
     ]
    },
    {
     "name": "stdout",
     "output_type": "stream",
     "text": [
      "397\n",
      "403\n"
     ]
    },
    {
     "name": "stderr",
     "output_type": "stream",
     "text": [
      "\r",
      "406it [01:12,  8.79it/s]"
     ]
    },
    {
     "name": "stdout",
     "output_type": "stream",
     "text": [
      "416\n",
      "410\n"
     ]
    },
    {
     "name": "stderr",
     "output_type": "stream",
     "text": [
      "\r",
      "408it [01:12,  8.23it/s]"
     ]
    },
    {
     "name": "stdout",
     "output_type": "stream",
     "text": [
      "404\n",
      "None\n"
     ]
    },
    {
     "name": "stderr",
     "output_type": "stream",
     "text": [
      "412it [01:13,  8.76it/s]"
     ]
    },
    {
     "name": "stdout",
     "output_type": "stream",
     "text": [
      "421\n",
      "None\n",
      "407\n",
      "411\n",
      "405\n"
     ]
    },
    {
     "name": "stderr",
     "output_type": "stream",
     "text": [
      "\r",
      "414it [01:14,  4.42it/s]"
     ]
    },
    {
     "name": "stdout",
     "output_type": "stream",
     "text": [
      "408\n"
     ]
    },
    {
     "name": "stderr",
     "output_type": "stream",
     "text": [
      "\r",
      "415it [01:14,  4.44it/s]"
     ]
    },
    {
     "name": "stdout",
     "output_type": "stream",
     "text": [
      "413\n"
     ]
    },
    {
     "name": "stderr",
     "output_type": "stream",
     "text": [
      "418it [01:15,  4.80it/s]"
     ]
    },
    {
     "name": "stdout",
     "output_type": "stream",
     "text": [
      "425\n",
      "424\n",
      "433\n"
     ]
    },
    {
     "name": "stderr",
     "output_type": "stream",
     "text": [
      "\r",
      "419it [01:15,  4.65it/s]"
     ]
    },
    {
     "name": "stdout",
     "output_type": "stream",
     "text": [
      "431\n"
     ]
    },
    {
     "name": "stderr",
     "output_type": "stream",
     "text": [
      "421it [01:15,  4.89it/s]"
     ]
    },
    {
     "name": "stdout",
     "output_type": "stream",
     "text": [
      "401\n",
      "420\n",
      "418\n"
     ]
    },
    {
     "name": "stderr",
     "output_type": "stream",
     "text": [
      "424it [01:16,  6.97it/s]"
     ]
    },
    {
     "name": "stdout",
     "output_type": "stream",
     "text": [
      "406\n",
      "415\n"
     ]
    },
    {
     "name": "stderr",
     "output_type": "stream",
     "text": [
      "\r",
      "425it [01:16,  6.38it/s]"
     ]
    },
    {
     "name": "stdout",
     "output_type": "stream",
     "text": [
      "423\n",
      "442\n"
     ]
    },
    {
     "name": "stderr",
     "output_type": "stream",
     "text": [
      "\r",
      "427it [01:16,  5.72it/s]"
     ]
    },
    {
     "name": "stdout",
     "output_type": "stream",
     "text": [
      "414\n",
      "None\n"
     ]
    },
    {
     "name": "stderr",
     "output_type": "stream",
     "text": [
      "\r",
      "429it [01:17,  4.68it/s]"
     ]
    },
    {
     "name": "stdout",
     "output_type": "stream",
     "text": [
      "427\n",
      "None\n",
      "428\n"
     ]
    },
    {
     "name": "stderr",
     "output_type": "stream",
     "text": [
      "\r",
      "432it [01:17,  5.24it/s]"
     ]
    },
    {
     "name": "stdout",
     "output_type": "stream",
     "text": [
      "417\n",
      "430\n",
      "446\n",
      "432\n",
      "429\n"
     ]
    },
    {
     "name": "stderr",
     "output_type": "stream",
     "text": [
      "438it [01:18,  7.79it/s]"
     ]
    },
    {
     "name": "stdout",
     "output_type": "stream",
     "text": [
      "449\n",
      "409\n"
     ]
    },
    {
     "name": "stderr",
     "output_type": "stream",
     "text": [
      "\r",
      "440it [01:18,  8.90it/s]"
     ]
    },
    {
     "name": "stdout",
     "output_type": "stream",
     "text": [
      "434\n",
      "435\n",
      "436\n",
      "450\n",
      "439\n",
      "None\n"
     ]
    },
    {
     "name": "stderr",
     "output_type": "stream",
     "text": [
      "\r",
      "445it [01:18, 12.50it/s]"
     ]
    },
    {
     "name": "stdout",
     "output_type": "stream",
     "text": [
      "419\n"
     ]
    },
    {
     "name": "stderr",
     "output_type": "stream",
     "text": [
      "\r",
      "447it [01:19, 10.27it/s]"
     ]
    },
    {
     "name": "stdout",
     "output_type": "stream",
     "text": [
      "453\n",
      "454\n",
      "426\n",
      "452\n",
      "437\n"
     ]
    },
    {
     "name": "stderr",
     "output_type": "stream",
     "text": [
      "\r",
      "451it [01:19,  8.35it/s]"
     ]
    },
    {
     "name": "stdout",
     "output_type": "stream",
     "text": [
      "422\n"
     ]
    },
    {
     "name": "stderr",
     "output_type": "stream",
     "text": [
      "453it [01:20,  5.74it/s]"
     ]
    },
    {
     "name": "stdout",
     "output_type": "stream",
     "text": [
      "444\n",
      "445\n"
     ]
    },
    {
     "name": "stderr",
     "output_type": "stream",
     "text": [
      "455it [01:21,  4.69it/s]"
     ]
    },
    {
     "name": "stdout",
     "output_type": "stream",
     "text": [
      "451\n",
      "447\n",
      "441\n"
     ]
    },
    {
     "name": "stderr",
     "output_type": "stream",
     "text": [
      "\r",
      "457it [01:21,  5.78it/s]"
     ]
    },
    {
     "name": "stdout",
     "output_type": "stream",
     "text": [
      "468\n"
     ]
    },
    {
     "name": "stderr",
     "output_type": "stream",
     "text": [
      "459it [01:21,  5.87it/s]"
     ]
    },
    {
     "name": "stdout",
     "output_type": "stream",
     "text": [
      "473\n",
      "457\n"
     ]
    },
    {
     "name": "stderr",
     "output_type": "stream",
     "text": [
      "462it [01:21,  7.48it/s]"
     ]
    },
    {
     "name": "stdout",
     "output_type": "stream",
     "text": [
      "476\n",
      "443\n",
      "456\n"
     ]
    },
    {
     "name": "stderr",
     "output_type": "stream",
     "text": [
      "465it [01:22,  6.32it/s]"
     ]
    },
    {
     "name": "stdout",
     "output_type": "stream",
     "text": [
      "459\n",
      "None\n",
      "455\n"
     ]
    },
    {
     "name": "stderr",
     "output_type": "stream",
     "text": [
      "\r",
      "466it [01:22,  4.83it/s]"
     ]
    },
    {
     "name": "stdout",
     "output_type": "stream",
     "text": [
      "469\n"
     ]
    },
    {
     "name": "stderr",
     "output_type": "stream",
     "text": [
      "\r",
      "467it [01:23,  4.49it/s]"
     ]
    },
    {
     "name": "stdout",
     "output_type": "stream",
     "text": [
      "470\n",
      "464\n"
     ]
    },
    {
     "name": "stderr",
     "output_type": "stream",
     "text": [
      "\r",
      "469it [01:23,  4.82it/s]"
     ]
    },
    {
     "name": "stdout",
     "output_type": "stream",
     "text": [
      "467\n"
     ]
    },
    {
     "name": "stderr",
     "output_type": "stream",
     "text": [
      "471it [01:24,  4.58it/s]"
     ]
    },
    {
     "name": "stdout",
     "output_type": "stream",
     "text": [
      "461\n",
      "488\n",
      "486\n"
     ]
    },
    {
     "name": "stderr",
     "output_type": "stream",
     "text": [
      "479it [01:24, 13.36it/s]"
     ]
    },
    {
     "name": "stdout",
     "output_type": "stream",
     "text": [
      "487\n",
      "471\n",
      "None\n",
      "462\n",
      "481\n",
      "None\n",
      "479\n"
     ]
    },
    {
     "name": "stderr",
     "output_type": "stream",
     "text": [
      "\r",
      "481it [01:24, 11.11it/s]"
     ]
    },
    {
     "name": "stdout",
     "output_type": "stream",
     "text": [
      "477\n",
      "489\n"
     ]
    },
    {
     "name": "stderr",
     "output_type": "stream",
     "text": [
      "\r",
      "483it [01:24, 10.92it/s]"
     ]
    },
    {
     "name": "stdout",
     "output_type": "stream",
     "text": [
      "448\n",
      "475\n"
     ]
    },
    {
     "name": "stderr",
     "output_type": "stream",
     "text": [
      "\r",
      "485it [01:25,  9.00it/s]"
     ]
    },
    {
     "name": "stdout",
     "output_type": "stream",
     "text": [
      "472\n",
      "478\n"
     ]
    },
    {
     "name": "stderr",
     "output_type": "stream",
     "text": [
      "\r",
      "487it [01:25,  8.50it/s]"
     ]
    },
    {
     "name": "stdout",
     "output_type": "stream",
     "text": [
      "466\n",
      "496\n"
     ]
    },
    {
     "name": "stderr",
     "output_type": "stream",
     "text": [
      "489it [01:26,  4.95it/s]"
     ]
    },
    {
     "name": "stdout",
     "output_type": "stream",
     "text": [
      "463\n",
      "480\n"
     ]
    },
    {
     "name": "stderr",
     "output_type": "stream",
     "text": [
      "491it [01:26,  4.63it/s]"
     ]
    },
    {
     "name": "stdout",
     "output_type": "stream",
     "text": [
      "491\n",
      "500\n",
      "483\n"
     ]
    },
    {
     "name": "stderr",
     "output_type": "stream",
     "text": [
      "494it [01:27,  4.78it/s]"
     ]
    },
    {
     "name": "stdout",
     "output_type": "stream",
     "text": [
      "484\n",
      "465\n"
     ]
    },
    {
     "name": "stderr",
     "output_type": "stream",
     "text": [
      "496it [01:27,  5.85it/s]"
     ]
    },
    {
     "name": "stdout",
     "output_type": "stream",
     "text": [
      "509\n",
      "492\n",
      "495\n",
      "512\n"
     ]
    },
    {
     "name": "stderr",
     "output_type": "stream",
     "text": [
      "\r",
      "499it [01:27,  8.90it/s]"
     ]
    },
    {
     "name": "stdout",
     "output_type": "stream",
     "text": [
      "501\n"
     ]
    },
    {
     "name": "stderr",
     "output_type": "stream",
     "text": [
      "\r",
      "500it [01:28,  6.89it/s]"
     ]
    },
    {
     "name": "stdout",
     "output_type": "stream",
     "text": [
      "510\n"
     ]
    },
    {
     "name": "stderr",
     "output_type": "stream",
     "text": [
      "\r",
      "501it [01:28,  4.02it/s]"
     ]
    },
    {
     "name": "stdout",
     "output_type": "stream",
     "text": [
      "490\n"
     ]
    },
    {
     "name": "stderr",
     "output_type": "stream",
     "text": [
      "503it [01:29,  3.78it/s]"
     ]
    },
    {
     "name": "stdout",
     "output_type": "stream",
     "text": [
      "497\n",
      "482\n"
     ]
    },
    {
     "name": "stderr",
     "output_type": "stream",
     "text": [
      "\r",
      "505it [01:29,  5.12it/s]"
     ]
    },
    {
     "name": "stdout",
     "output_type": "stream",
     "text": [
      "493\n",
      "503\n",
      "485\n"
     ]
    },
    {
     "name": "stderr",
     "output_type": "stream",
     "text": [
      "\r",
      "507it [01:29,  5.85it/s]"
     ]
    },
    {
     "name": "stdout",
     "output_type": "stream",
     "text": [
      "521\n",
      "None\n",
      "499\n"
     ]
    },
    {
     "name": "stderr",
     "output_type": "stream",
     "text": [
      "511it [01:30,  8.07it/s]"
     ]
    },
    {
     "name": "stdout",
     "output_type": "stream",
     "text": [
      "498\n",
      "506\n"
     ]
    },
    {
     "name": "stderr",
     "output_type": "stream",
     "text": [
      "\r",
      "512it [01:30,  6.60it/s]"
     ]
    },
    {
     "name": "stdout",
     "output_type": "stream",
     "text": [
      "511\n"
     ]
    },
    {
     "name": "stderr",
     "output_type": "stream",
     "text": [
      "\r",
      "513it [01:30,  4.93it/s]"
     ]
    },
    {
     "name": "stdout",
     "output_type": "stream",
     "text": [
      "507\n",
      "517\n",
      "514\n"
     ]
    },
    {
     "name": "stderr",
     "output_type": "stream",
     "text": [
      "517it [01:31,  6.89it/s]"
     ]
    },
    {
     "name": "stdout",
     "output_type": "stream",
     "text": [
      "502\n",
      "518\n"
     ]
    },
    {
     "name": "stderr",
     "output_type": "stream",
     "text": [
      "\r",
      "518it [01:31,  6.90it/s]"
     ]
    },
    {
     "name": "stdout",
     "output_type": "stream",
     "text": [
      "516\n",
      "None\n",
      "515\n"
     ]
    },
    {
     "name": "stderr",
     "output_type": "stream",
     "text": [
      "522it [01:31,  8.22it/s]"
     ]
    },
    {
     "name": "stdout",
     "output_type": "stream",
     "text": [
      "504\n",
      "513\n",
      "532\n"
     ]
    },
    {
     "name": "stderr",
     "output_type": "stream",
     "text": [
      "527it [01:32,  7.94it/s]"
     ]
    },
    {
     "name": "stdout",
     "output_type": "stream",
     "text": [
      "533\n",
      "None\n",
      "531\n",
      "537\n"
     ]
    },
    {
     "name": "stderr",
     "output_type": "stream",
     "text": [
      "\r",
      "530it [01:32,  9.96it/s]"
     ]
    },
    {
     "name": "stdout",
     "output_type": "stream",
     "text": [
      "None\n",
      "535\n",
      "522\n",
      "520\n"
     ]
    },
    {
     "name": "stderr",
     "output_type": "stream",
     "text": [
      "536it [01:33,  7.38it/s]"
     ]
    },
    {
     "name": "stdout",
     "output_type": "stream",
     "text": [
      "526\n",
      "528\n",
      "None\n",
      "543\n",
      "519\n",
      "542\n",
      "529\n",
      "523\n"
     ]
    },
    {
     "name": "stderr",
     "output_type": "stream",
     "text": [
      "\r",
      "540it [01:34, 10.31it/s]"
     ]
    },
    {
     "name": "stdout",
     "output_type": "stream",
     "text": [
      "544\n",
      "525\n"
     ]
    },
    {
     "name": "stderr",
     "output_type": "stream",
     "text": [
      "\r",
      "543it [01:34,  8.60it/s]"
     ]
    },
    {
     "name": "stdout",
     "output_type": "stream",
     "text": [
      "527\n",
      "524\n",
      "554\n"
     ]
    },
    {
     "name": "stderr",
     "output_type": "stream",
     "text": [
      "\r",
      "545it [01:35,  5.17it/s]"
     ]
    },
    {
     "name": "stdout",
     "output_type": "stream",
     "text": [
      "557\n",
      "541\n"
     ]
    },
    {
     "name": "stderr",
     "output_type": "stream",
     "text": [
      "\r",
      "547it [01:35,  5.75it/s]"
     ]
    },
    {
     "name": "stdout",
     "output_type": "stream",
     "text": [
      "540\n",
      "536\n"
     ]
    },
    {
     "name": "stderr",
     "output_type": "stream",
     "text": [
      "\r",
      "549it [01:36,  5.37it/s]"
     ]
    },
    {
     "name": "stdout",
     "output_type": "stream",
     "text": [
      "534\n"
     ]
    },
    {
     "name": "stderr",
     "output_type": "stream",
     "text": [
      "\r",
      "550it [01:36,  4.97it/s]"
     ]
    },
    {
     "name": "stdout",
     "output_type": "stream",
     "text": [
      "545\n",
      "539\n",
      "559\n"
     ]
    },
    {
     "name": "stderr",
     "output_type": "stream",
     "text": [
      "\r",
      "553it [01:36,  6.68it/s]"
     ]
    },
    {
     "name": "stdout",
     "output_type": "stream",
     "text": [
      "530\n"
     ]
    },
    {
     "name": "stderr",
     "output_type": "stream",
     "text": [
      "\r",
      "554it [01:36,  6.22it/s]"
     ]
    },
    {
     "name": "stdout",
     "output_type": "stream",
     "text": [
      "568\n"
     ]
    },
    {
     "name": "stderr",
     "output_type": "stream",
     "text": [
      "556it [01:37,  5.73it/s]"
     ]
    },
    {
     "name": "stdout",
     "output_type": "stream",
     "text": [
      "556\n",
      "571\n",
      "548\n"
     ]
    },
    {
     "name": "stderr",
     "output_type": "stream",
     "text": [
      "\r",
      "558it [01:37,  6.12it/s]"
     ]
    },
    {
     "name": "stdout",
     "output_type": "stream",
     "text": [
      "573\n",
      "552\n"
     ]
    },
    {
     "name": "stderr",
     "output_type": "stream",
     "text": [
      "\r",
      "560it [01:38,  5.21it/s]"
     ]
    },
    {
     "name": "stdout",
     "output_type": "stream",
     "text": [
      "550\n",
      "None\n"
     ]
    },
    {
     "name": "stderr",
     "output_type": "stream",
     "text": [
      "\r",
      "562it [01:38,  5.75it/s]"
     ]
    },
    {
     "name": "stdout",
     "output_type": "stream",
     "text": [
      "560\n"
     ]
    },
    {
     "name": "stderr",
     "output_type": "stream",
     "text": [
      "566it [01:38,  8.15it/s]"
     ]
    },
    {
     "name": "stdout",
     "output_type": "stream",
     "text": [
      "561\n",
      "546\n",
      "553\n",
      "566\n"
     ]
    },
    {
     "name": "stderr",
     "output_type": "stream",
     "text": [
      "\r",
      "568it [01:38,  7.99it/s]"
     ]
    },
    {
     "name": "stdout",
     "output_type": "stream",
     "text": [
      "547\n",
      "551\n"
     ]
    },
    {
     "name": "stderr",
     "output_type": "stream",
     "text": [
      "\r",
      "569it [01:39,  4.65it/s]"
     ]
    },
    {
     "name": "stdout",
     "output_type": "stream",
     "text": [
      "565\n",
      "581\n",
      "577\n"
     ]
    },
    {
     "name": "stderr",
     "output_type": "stream",
     "text": [
      "\r",
      "572it [01:39,  6.30it/s]"
     ]
    },
    {
     "name": "stdout",
     "output_type": "stream",
     "text": [
      "567\n",
      "562\n"
     ]
    },
    {
     "name": "stderr",
     "output_type": "stream",
     "text": [
      "\r",
      "574it [01:40,  6.01it/s]"
     ]
    },
    {
     "name": "stdout",
     "output_type": "stream",
     "text": [
      "563\n",
      "None\n",
      "None\n"
     ]
    },
    {
     "name": "stderr",
     "output_type": "stream",
     "text": [
      "580it [01:40, 10.08it/s]"
     ]
    },
    {
     "name": "stdout",
     "output_type": "stream",
     "text": [
      "574\n",
      "None\n",
      "572\n",
      "569\n",
      "570\n"
     ]
    },
    {
     "name": "stderr",
     "output_type": "stream",
     "text": [
      "586it [01:41,  7.03it/s]"
     ]
    },
    {
     "name": "stdout",
     "output_type": "stream",
     "text": [
      "580\n",
      "582\n",
      "595\n",
      "592\n",
      "576\n",
      "598\n"
     ]
    },
    {
     "name": "stderr",
     "output_type": "stream",
     "text": [
      "\r",
      "588it [01:42,  7.83it/s]"
     ]
    },
    {
     "name": "stdout",
     "output_type": "stream",
     "text": [
      "593\n",
      "579\n"
     ]
    },
    {
     "name": "stderr",
     "output_type": "stream",
     "text": [
      "592it [01:42,  8.05it/s]"
     ]
    },
    {
     "name": "stdout",
     "output_type": "stream",
     "text": [
      "585\n",
      "575\n",
      "586\n"
     ]
    },
    {
     "name": "stderr",
     "output_type": "stream",
     "text": [
      "\r",
      "594it [01:43,  5.61it/s]"
     ]
    },
    {
     "name": "stdout",
     "output_type": "stream",
     "text": [
      "588\n",
      "587\n",
      "None\n"
     ]
    },
    {
     "name": "stderr",
     "output_type": "stream",
     "text": [
      "598it [01:43,  6.82it/s]"
     ]
    },
    {
     "name": "stdout",
     "output_type": "stream",
     "text": [
      "590\n",
      "578\n",
      "589\n",
      "None\n"
     ]
    },
    {
     "name": "stderr",
     "output_type": "stream",
     "text": [
      "603it [01:44,  7.04it/s]"
     ]
    },
    {
     "name": "stdout",
     "output_type": "stream",
     "text": [
      "599\n",
      "None\n",
      "602\n",
      "583\n",
      "611\n",
      "None\n"
     ]
    },
    {
     "name": "stderr",
     "output_type": "stream",
     "text": [
      "\r",
      "606it [01:44,  9.62it/s]"
     ]
    },
    {
     "name": "stdout",
     "output_type": "stream",
     "text": [
      "584\n",
      "594\n"
     ]
    },
    {
     "name": "stderr",
     "output_type": "stream",
     "text": [
      "610it [01:45,  7.25it/s]"
     ]
    },
    {
     "name": "stdout",
     "output_type": "stream",
     "text": [
      "609\n",
      "596\n",
      "601\n",
      "615\n",
      "600\n",
      "597\n"
     ]
    },
    {
     "name": "stderr",
     "output_type": "stream",
     "text": [
      "\r",
      "614it [01:45,  7.42it/s]"
     ]
    },
    {
     "name": "stdout",
     "output_type": "stream",
     "text": [
      "603\n"
     ]
    },
    {
     "name": "stderr",
     "output_type": "stream",
     "text": [
      "\r",
      "616it [01:46,  6.33it/s]"
     ]
    },
    {
     "name": "stdout",
     "output_type": "stream",
     "text": [
      "607\n",
      "610\n"
     ]
    },
    {
     "name": "stderr",
     "output_type": "stream",
     "text": [
      "\r",
      "617it [01:46,  6.67it/s]"
     ]
    },
    {
     "name": "stdout",
     "output_type": "stream",
     "text": [
      "614\n",
      "None\n",
      "612\n"
     ]
    },
    {
     "name": "stderr",
     "output_type": "stream",
     "text": [
      "622it [01:47,  6.28it/s]"
     ]
    },
    {
     "name": "stdout",
     "output_type": "stream",
     "text": [
      "632\n",
      "604\n",
      "613\n"
     ]
    },
    {
     "name": "stderr",
     "output_type": "stream",
     "text": [
      "624it [01:47,  6.13it/s]"
     ]
    },
    {
     "name": "stdout",
     "output_type": "stream",
     "text": [
      "623\n",
      "618\n"
     ]
    },
    {
     "name": "stderr",
     "output_type": "stream",
     "text": [
      "\r",
      "626it [01:48,  4.99it/s]"
     ]
    },
    {
     "name": "stdout",
     "output_type": "stream",
     "text": [
      "616\n",
      "617\n",
      "622\n"
     ]
    },
    {
     "name": "stderr",
     "output_type": "stream",
     "text": [
      "632it [01:49,  6.58it/s]"
     ]
    },
    {
     "name": "stdout",
     "output_type": "stream",
     "text": [
      "620\n",
      "None\n",
      "628\n",
      "619\n",
      "624\n",
      "627\n",
      "None\n"
     ]
    },
    {
     "name": "stderr",
     "output_type": "stream",
     "text": [
      "\r",
      "635it [01:49,  8.28it/s]"
     ]
    },
    {
     "name": "stdout",
     "output_type": "stream",
     "text": [
      "642\n",
      "634\n"
     ]
    },
    {
     "name": "stderr",
     "output_type": "stream",
     "text": [
      "\r",
      "637it [01:49,  8.45it/s]"
     ]
    },
    {
     "name": "stdout",
     "output_type": "stream",
     "text": [
      "630\n",
      "633\n"
     ]
    },
    {
     "name": "stderr",
     "output_type": "stream",
     "text": [
      "640it [01:50,  4.93it/s]"
     ]
    },
    {
     "name": "stdout",
     "output_type": "stream",
     "text": [
      "621\n",
      "626\n"
     ]
    },
    {
     "name": "stderr",
     "output_type": "stream",
     "text": [
      "\r",
      "641it [01:50,  4.72it/s]"
     ]
    },
    {
     "name": "stdout",
     "output_type": "stream",
     "text": [
      "637\n",
      "647\n"
     ]
    },
    {
     "name": "stderr",
     "output_type": "stream",
     "text": [
      "646it [01:52,  5.36it/s]"
     ]
    },
    {
     "name": "stdout",
     "output_type": "stream",
     "text": [
      "661\n",
      "636\n",
      "655\n",
      "638\n"
     ]
    },
    {
     "name": "stderr",
     "output_type": "stream",
     "text": [
      "650it [01:52,  7.99it/s]"
     ]
    },
    {
     "name": "stdout",
     "output_type": "stream",
     "text": [
      "644\n",
      "639\n",
      "641\n",
      "640\n",
      "656\n"
     ]
    },
    {
     "name": "stderr",
     "output_type": "stream",
     "text": [
      "\r",
      "652it [01:52,  7.54it/s]"
     ]
    },
    {
     "name": "stdout",
     "output_type": "stream",
     "text": [
      "650\n"
     ]
    },
    {
     "name": "stderr",
     "output_type": "stream",
     "text": [
      "656it [01:53,  6.85it/s]"
     ]
    },
    {
     "name": "stdout",
     "output_type": "stream",
     "text": [
      "649\n",
      "654\n",
      "653\n",
      "645\n"
     ]
    },
    {
     "name": "stderr",
     "output_type": "stream",
     "text": [
      "\r",
      "658it [01:53,  7.64it/s]"
     ]
    },
    {
     "name": "stdout",
     "output_type": "stream",
     "text": [
      "643\n",
      "652\n",
      "662\n"
     ]
    },
    {
     "name": "stderr",
     "output_type": "stream",
     "text": [
      "\r",
      "660it [01:53,  6.16it/s]"
     ]
    },
    {
     "name": "stdout",
     "output_type": "stream",
     "text": [
      "646\n"
     ]
    },
    {
     "name": "stderr",
     "output_type": "stream",
     "text": [
      "\r",
      "661it [01:54,  4.60it/s]"
     ]
    },
    {
     "name": "stdout",
     "output_type": "stream",
     "text": [
      "658\n"
     ]
    },
    {
     "name": "stderr",
     "output_type": "stream",
     "text": [
      "663it [01:54,  4.21it/s]"
     ]
    },
    {
     "name": "stdout",
     "output_type": "stream",
     "text": [
      "660\n",
      "651\n",
      "677\n"
     ]
    },
    {
     "name": "stderr",
     "output_type": "stream",
     "text": [
      "667it [01:55,  5.94it/s]"
     ]
    },
    {
     "name": "stdout",
     "output_type": "stream",
     "text": [
      "665\n",
      "671\n",
      "680\n"
     ]
    },
    {
     "name": "stderr",
     "output_type": "stream",
     "text": [
      "\r",
      "669it [01:55,  6.90it/s]"
     ]
    },
    {
     "name": "stdout",
     "output_type": "stream",
     "text": [
      "666\n",
      "663\n"
     ]
    },
    {
     "name": "stderr",
     "output_type": "stream",
     "text": [
      "\r",
      "671it [01:55,  8.36it/s]"
     ]
    },
    {
     "name": "stdout",
     "output_type": "stream",
     "text": [
      "657\n",
      "668\n",
      "667\n"
     ]
    },
    {
     "name": "stderr",
     "output_type": "stream",
     "text": [
      "\r",
      "673it [01:56,  4.78it/s]"
     ]
    },
    {
     "name": "stdout",
     "output_type": "stream",
     "text": [
      "669\n"
     ]
    },
    {
     "name": "stderr",
     "output_type": "stream",
     "text": [
      "675it [01:57,  5.00it/s]"
     ]
    },
    {
     "name": "stdout",
     "output_type": "stream",
     "text": [
      "670\n",
      "673\n"
     ]
    },
    {
     "name": "stderr",
     "output_type": "stream",
     "text": [
      "\r",
      "677it [01:57,  6.18it/s]"
     ]
    },
    {
     "name": "stdout",
     "output_type": "stream",
     "text": [
      "691\n",
      "681\n"
     ]
    },
    {
     "name": "stderr",
     "output_type": "stream",
     "text": [
      "\r",
      "678it [01:57,  4.54it/s]"
     ]
    },
    {
     "name": "stdout",
     "output_type": "stream",
     "text": [
      "672\n",
      "674\n",
      "675\n",
      "None\n"
     ]
    },
    {
     "name": "stderr",
     "output_type": "stream",
     "text": [
      "\r",
      "682it [01:58,  6.93it/s]"
     ]
    },
    {
     "name": "stdout",
     "output_type": "stream",
     "text": [
      "676\n"
     ]
    },
    {
     "name": "stderr",
     "output_type": "stream",
     "text": [
      "685it [01:58,  7.32it/s]"
     ]
    },
    {
     "name": "stdout",
     "output_type": "stream",
     "text": [
      "686\n",
      "682\n",
      "678\n"
     ]
    },
    {
     "name": "stderr",
     "output_type": "stream",
     "text": [
      "\r",
      "686it [01:58,  7.21it/s]"
     ]
    },
    {
     "name": "stdout",
     "output_type": "stream",
     "text": [
      "679\n"
     ]
    },
    {
     "name": "stderr",
     "output_type": "stream",
     "text": [
      "\r",
      "687it [01:58,  6.02it/s]"
     ]
    },
    {
     "name": "stdout",
     "output_type": "stream",
     "text": [
      "687\n",
      "None\n"
     ]
    },
    {
     "name": "stderr",
     "output_type": "stream",
     "text": [
      "\r",
      "689it [01:59,  6.28it/s]"
     ]
    },
    {
     "name": "stdout",
     "output_type": "stream",
     "text": [
      "688\n"
     ]
    },
    {
     "name": "stderr",
     "output_type": "stream",
     "text": [
      "692it [01:59,  5.86it/s]"
     ]
    },
    {
     "name": "stdout",
     "output_type": "stream",
     "text": [
      "684\n",
      "689\n",
      "683\n"
     ]
    },
    {
     "name": "stderr",
     "output_type": "stream",
     "text": [
      "\r",
      "694it [01:59,  7.19it/s]"
     ]
    },
    {
     "name": "stdout",
     "output_type": "stream",
     "text": [
      "685\n",
      "690\n"
     ]
    },
    {
     "name": "stderr",
     "output_type": "stream",
     "text": [
      "\r",
      "695it [02:00,  6.38it/s]"
     ]
    },
    {
     "name": "stdout",
     "output_type": "stream",
     "text": [
      "707\n",
      "708\n"
     ]
    },
    {
     "name": "stderr",
     "output_type": "stream",
     "text": [
      "\r",
      "697it [02:00,  5.49it/s]"
     ]
    },
    {
     "name": "stdout",
     "output_type": "stream",
     "text": [
      "701\n"
     ]
    },
    {
     "name": "stderr",
     "output_type": "stream",
     "text": [
      "\r",
      "698it [02:01,  3.85it/s]"
     ]
    },
    {
     "name": "stdout",
     "output_type": "stream",
     "text": [
      "709\n",
      "693\n"
     ]
    },
    {
     "name": "stderr",
     "output_type": "stream",
     "text": [
      "701it [02:01,  4.71it/s]"
     ]
    },
    {
     "name": "stdout",
     "output_type": "stream",
     "text": [
      "697\n",
      "692\n",
      "None\n",
      "696\n"
     ]
    },
    {
     "name": "stderr",
     "output_type": "stream",
     "text": [
      "\r",
      "704it [02:01,  6.63it/s]"
     ]
    },
    {
     "name": "stdout",
     "output_type": "stream",
     "text": [
      "695\n"
     ]
    },
    {
     "name": "stderr",
     "output_type": "stream",
     "text": [
      "\r",
      "705it [02:02,  4.27it/s]"
     ]
    },
    {
     "name": "stdout",
     "output_type": "stream",
     "text": [
      "694\n"
     ]
    },
    {
     "name": "stderr",
     "output_type": "stream",
     "text": [
      "\r",
      "706it [02:02,  4.33it/s]"
     ]
    },
    {
     "name": "stdout",
     "output_type": "stream",
     "text": [
      "722\n",
      "702\n"
     ]
    },
    {
     "name": "stderr",
     "output_type": "stream",
     "text": [
      "\r",
      "708it [02:03,  5.18it/s]"
     ]
    },
    {
     "name": "stdout",
     "output_type": "stream",
     "text": [
      "706\n"
     ]
    },
    {
     "name": "stderr",
     "output_type": "stream",
     "text": [
      "\r",
      "709it [02:03,  4.96it/s]"
     ]
    },
    {
     "name": "stdout",
     "output_type": "stream",
     "text": [
      "699\n",
      "700\n"
     ]
    },
    {
     "name": "stderr",
     "output_type": "stream",
     "text": [
      "712it [02:03,  5.78it/s]"
     ]
    },
    {
     "name": "stdout",
     "output_type": "stream",
     "text": [
      "717\n",
      "710\n",
      "None\n"
     ]
    },
    {
     "name": "stderr",
     "output_type": "stream",
     "text": [
      "716it [02:04,  7.28it/s]"
     ]
    },
    {
     "name": "stdout",
     "output_type": "stream",
     "text": [
      "698\n",
      "713\n",
      "715\n"
     ]
    },
    {
     "name": "stderr",
     "output_type": "stream",
     "text": [
      "\r",
      "717it [02:04,  6.89it/s]"
     ]
    },
    {
     "name": "stdout",
     "output_type": "stream",
     "text": [
      "714\n"
     ]
    },
    {
     "name": "stderr",
     "output_type": "stream",
     "text": [
      "722it [02:04, 10.25it/s]"
     ]
    },
    {
     "name": "stdout",
     "output_type": "stream",
     "text": [
      "724\n",
      "733\n",
      "None\n",
      "704\n",
      "719\n"
     ]
    },
    {
     "name": "stderr",
     "output_type": "stream",
     "text": [
      "726it [02:05, 11.72it/s]"
     ]
    },
    {
     "name": "stdout",
     "output_type": "stream",
     "text": [
      "716\n",
      "703\n",
      "712\n",
      "726\n"
     ]
    },
    {
     "name": "stderr",
     "output_type": "stream",
     "text": [
      "\r",
      "728it [02:05,  9.21it/s]"
     ]
    },
    {
     "name": "stdout",
     "output_type": "stream",
     "text": [
      "721\n",
      "723\n",
      "None\n",
      "None\n"
     ]
    },
    {
     "name": "stderr",
     "output_type": "stream",
     "text": [
      "733it [02:05,  9.52it/s]"
     ]
    },
    {
     "name": "stdout",
     "output_type": "stream",
     "text": [
      "720\n",
      "705\n",
      "729\n",
      "None\n"
     ]
    },
    {
     "name": "stderr",
     "output_type": "stream",
     "text": [
      "736it [02:06,  6.64it/s]"
     ]
    },
    {
     "name": "stdout",
     "output_type": "stream",
     "text": [
      "727\n",
      "725\n"
     ]
    },
    {
     "name": "stderr",
     "output_type": "stream",
     "text": [
      "\r",
      "737it [02:06,  5.84it/s]"
     ]
    },
    {
     "name": "stdout",
     "output_type": "stream",
     "text": [
      "730\n"
     ]
    },
    {
     "name": "stderr",
     "output_type": "stream",
     "text": [
      "\r",
      "738it [02:07,  5.29it/s]"
     ]
    },
    {
     "name": "stdout",
     "output_type": "stream",
     "text": [
      "746\n",
      "None\n"
     ]
    },
    {
     "name": "stderr",
     "output_type": "stream",
     "text": [
      "742it [02:07,  7.54it/s]"
     ]
    },
    {
     "name": "stdout",
     "output_type": "stream",
     "text": [
      "731\n",
      "734\n",
      "736\n",
      "728\n",
      "None\n"
     ]
    },
    {
     "name": "stderr",
     "output_type": "stream",
     "text": [
      "\r",
      "745it [02:08,  4.79it/s]"
     ]
    },
    {
     "name": "stdout",
     "output_type": "stream",
     "text": [
      "737\n"
     ]
    },
    {
     "name": "stderr",
     "output_type": "stream",
     "text": [
      "\r",
      "746it [02:08,  3.83it/s]"
     ]
    },
    {
     "name": "stdout",
     "output_type": "stream",
     "text": [
      "744\n"
     ]
    },
    {
     "name": "stderr",
     "output_type": "stream",
     "text": [
      "749it [02:09,  3.92it/s]"
     ]
    },
    {
     "name": "stdout",
     "output_type": "stream",
     "text": [
      "747\n",
      "753\n",
      "741\n"
     ]
    },
    {
     "name": "stderr",
     "output_type": "stream",
     "text": [
      "\r",
      "750it [02:10,  4.20it/s]"
     ]
    },
    {
     "name": "stdout",
     "output_type": "stream",
     "text": [
      "739\n"
     ]
    },
    {
     "name": "stderr",
     "output_type": "stream",
     "text": [
      "753it [02:10,  4.92it/s]"
     ]
    },
    {
     "name": "stdout",
     "output_type": "stream",
     "text": [
      "756\n",
      "742\n",
      "749\n"
     ]
    },
    {
     "name": "stderr",
     "output_type": "stream",
     "text": [
      "755it [02:11,  5.13it/s]"
     ]
    },
    {
     "name": "stdout",
     "output_type": "stream",
     "text": [
      "745\n",
      "735\n",
      "748\n"
     ]
    },
    {
     "name": "stderr",
     "output_type": "stream",
     "text": [
      "761it [02:11, 12.19it/s]"
     ]
    },
    {
     "name": "stdout",
     "output_type": "stream",
     "text": [
      "758\n",
      "752\n",
      "761\n",
      "763\n",
      "740\n",
      "None\n",
      "772\n"
     ]
    },
    {
     "name": "stderr",
     "output_type": "stream",
     "text": [
      "766it [02:11, 14.83it/s]"
     ]
    },
    {
     "name": "stdout",
     "output_type": "stream",
     "text": [
      "773\n",
      "751\n",
      "765\n",
      "762\n"
     ]
    },
    {
     "name": "stderr",
     "output_type": "stream",
     "text": [
      "\r",
      "768it [02:12,  8.24it/s]"
     ]
    },
    {
     "name": "stdout",
     "output_type": "stream",
     "text": [
      "738\n",
      "775\n",
      "768\n"
     ]
    },
    {
     "name": "stderr",
     "output_type": "stream",
     "text": [
      "\r",
      "771it [02:12,  7.95it/s]"
     ]
    },
    {
     "name": "stdout",
     "output_type": "stream",
     "text": [
      "755\n",
      "754\n"
     ]
    },
    {
     "name": "stderr",
     "output_type": "stream",
     "text": [
      "\r",
      "773it [02:12,  7.62it/s]"
     ]
    },
    {
     "name": "stdout",
     "output_type": "stream",
     "text": [
      "767\n"
     ]
    },
    {
     "name": "stderr",
     "output_type": "stream",
     "text": [
      "\r",
      "775it [02:13,  7.09it/s]"
     ]
    },
    {
     "name": "stdout",
     "output_type": "stream",
     "text": [
      "766\n",
      "757\n",
      "None\n",
      "771\n"
     ]
    },
    {
     "name": "stderr",
     "output_type": "stream",
     "text": [
      "\r",
      "778it [02:14,  3.50it/s]"
     ]
    },
    {
     "name": "stdout",
     "output_type": "stream",
     "text": [
      "777\n"
     ]
    },
    {
     "name": "stderr",
     "output_type": "stream",
     "text": [
      "\r",
      "779it [02:14,  3.52it/s]"
     ]
    },
    {
     "name": "stdout",
     "output_type": "stream",
     "text": [
      "798\n",
      "799\n"
     ]
    },
    {
     "name": "stderr",
     "output_type": "stream",
     "text": [
      "784it [02:15,  5.95it/s]"
     ]
    },
    {
     "name": "stdout",
     "output_type": "stream",
     "text": [
      "800\n",
      "795\n",
      "788\n",
      "793\n",
      "784\n"
     ]
    },
    {
     "name": "stderr",
     "output_type": "stream",
     "text": [
      "\r",
      "786it [02:15,  6.81it/s]"
     ]
    },
    {
     "name": "stdout",
     "output_type": "stream",
     "text": [
      "780\n"
     ]
    },
    {
     "name": "stderr",
     "output_type": "stream",
     "text": [
      "789it [02:16,  6.12it/s]"
     ]
    },
    {
     "name": "stdout",
     "output_type": "stream",
     "text": [
      "782\n",
      "770\n",
      "776\n",
      "783\n"
     ]
    },
    {
     "name": "stderr",
     "output_type": "stream",
     "text": [
      "793it [02:16,  7.65it/s]"
     ]
    },
    {
     "name": "stdout",
     "output_type": "stream",
     "text": [
      "779\n",
      "785\n",
      "781\n",
      "789\n",
      "778\n"
     ]
    },
    {
     "name": "stderr",
     "output_type": "stream",
     "text": [
      "799it [02:17, 11.12it/s]"
     ]
    },
    {
     "name": "stdout",
     "output_type": "stream",
     "text": [
      "796\n",
      "787\n",
      "None\n",
      "790\n"
     ]
    },
    {
     "name": "stderr",
     "output_type": "stream",
     "text": [
      "\r",
      "801it [02:17,  7.36it/s]"
     ]
    },
    {
     "name": "stdout",
     "output_type": "stream",
     "text": [
      "794\n",
      "791\n"
     ]
    },
    {
     "name": "stderr",
     "output_type": "stream",
     "text": [
      "\r",
      "803it [02:17,  8.09it/s]"
     ]
    },
    {
     "name": "stdout",
     "output_type": "stream",
     "text": [
      "801\n",
      "804\n",
      "805\n"
     ]
    },
    {
     "name": "stderr",
     "output_type": "stream",
     "text": [
      "\r",
      "805it [02:17,  8.23it/s]"
     ]
    },
    {
     "name": "stdout",
     "output_type": "stream",
     "text": [
      "802\n",
      "786\n"
     ]
    },
    {
     "name": "stderr",
     "output_type": "stream",
     "text": [
      "\r",
      "807it [02:18,  7.97it/s]"
     ]
    },
    {
     "name": "stdout",
     "output_type": "stream",
     "text": [
      "797\n"
     ]
    },
    {
     "name": "stderr",
     "output_type": "stream",
     "text": [
      "\r",
      "808it [02:18,  6.09it/s]"
     ]
    },
    {
     "name": "stdout",
     "output_type": "stream",
     "text": [
      "817\n"
     ]
    },
    {
     "name": "stderr",
     "output_type": "stream",
     "text": [
      "811it [02:19,  5.70it/s]"
     ]
    },
    {
     "name": "stdout",
     "output_type": "stream",
     "text": [
      "819\n",
      "818\n",
      "803\n"
     ]
    },
    {
     "name": "stderr",
     "output_type": "stream",
     "text": [
      "813it [02:20,  3.27it/s]"
     ]
    },
    {
     "name": "stdout",
     "output_type": "stream",
     "text": [
      "809\n",
      "816\n"
     ]
    },
    {
     "name": "stderr",
     "output_type": "stream",
     "text": [
      "\r",
      "815it [02:20,  4.56it/s]"
     ]
    },
    {
     "name": "stdout",
     "output_type": "stream",
     "text": [
      "811\n",
      "808\n"
     ]
    },
    {
     "name": "stderr",
     "output_type": "stream",
     "text": [
      "\r",
      "816it [02:21,  3.03it/s]"
     ]
    },
    {
     "name": "stdout",
     "output_type": "stream",
     "text": [
      "807\n",
      "813\n"
     ]
    },
    {
     "name": "stderr",
     "output_type": "stream",
     "text": [
      "\r",
      "818it [02:21,  3.06it/s]"
     ]
    },
    {
     "name": "stdout",
     "output_type": "stream",
     "text": [
      "822\n",
      "824\n",
      "840\n",
      "820\n",
      "814\n",
      "None\n"
     ]
    },
    {
     "name": "stderr",
     "output_type": "stream",
     "text": [
      "826it [02:22,  7.09it/s]"
     ]
    },
    {
     "name": "stdout",
     "output_type": "stream",
     "text": [
      "810\n",
      "None\n",
      "823\n",
      "None\n"
     ]
    },
    {
     "name": "stderr",
     "output_type": "stream",
     "text": [
      "830it [02:22,  8.32it/s]"
     ]
    },
    {
     "name": "stdout",
     "output_type": "stream",
     "text": [
      "827\n",
      "830\n",
      "836\n"
     ]
    },
    {
     "name": "stderr",
     "output_type": "stream",
     "text": [
      "\r",
      "832it [02:23,  7.89it/s]"
     ]
    },
    {
     "name": "stdout",
     "output_type": "stream",
     "text": [
      "831\n",
      "832\n",
      "837\n"
     ]
    },
    {
     "name": "stderr",
     "output_type": "stream",
     "text": [
      "836it [02:23,  9.69it/s]"
     ]
    },
    {
     "name": "stdout",
     "output_type": "stream",
     "text": [
      "826\n",
      "838\n",
      "835\n"
     ]
    },
    {
     "name": "stderr",
     "output_type": "stream",
     "text": [
      "\r",
      "838it [02:23, 10.28it/s]"
     ]
    },
    {
     "name": "stdout",
     "output_type": "stream",
     "text": [
      "833\n",
      "825\n",
      "829\n"
     ]
    },
    {
     "name": "stderr",
     "output_type": "stream",
     "text": [
      "\r",
      "840it [02:23, 10.81it/s]"
     ]
    },
    {
     "name": "stdout",
     "output_type": "stream",
     "text": [
      "812\n",
      "834\n"
     ]
    },
    {
     "name": "stderr",
     "output_type": "stream",
     "text": [
      "\r",
      "842it [02:24,  5.15it/s]"
     ]
    },
    {
     "name": "stdout",
     "output_type": "stream",
     "text": [
      "815\n"
     ]
    },
    {
     "name": "stderr",
     "output_type": "stream",
     "text": [
      "\r",
      "843it [02:25,  3.07it/s]"
     ]
    },
    {
     "name": "stdout",
     "output_type": "stream",
     "text": [
      "846\n",
      "845\n"
     ]
    },
    {
     "name": "stderr",
     "output_type": "stream",
     "text": [
      "846it [02:26,  4.14it/s]"
     ]
    },
    {
     "name": "stdout",
     "output_type": "stream",
     "text": [
      "841\n",
      "842\n",
      "843\n"
     ]
    },
    {
     "name": "stderr",
     "output_type": "stream",
     "text": [
      "849it [02:26,  4.51it/s]"
     ]
    },
    {
     "name": "stdout",
     "output_type": "stream",
     "text": [
      "847\n",
      "839\n"
     ]
    },
    {
     "name": "stderr",
     "output_type": "stream",
     "text": [
      "\r",
      "851it [02:26,  6.29it/s]"
     ]
    },
    {
     "name": "stdout",
     "output_type": "stream",
     "text": [
      "844\n",
      "854\n"
     ]
    },
    {
     "name": "stderr",
     "output_type": "stream",
     "text": [
      "\r",
      "853it [02:26,  7.47it/s]"
     ]
    },
    {
     "name": "stdout",
     "output_type": "stream",
     "text": [
      "856\n",
      "None\n",
      "850\n"
     ]
    },
    {
     "name": "stderr",
     "output_type": "stream",
     "text": [
      "\r",
      "855it [02:27,  4.42it/s]"
     ]
    },
    {
     "name": "stdout",
     "output_type": "stream",
     "text": [
      "873\n"
     ]
    },
    {
     "name": "stderr",
     "output_type": "stream",
     "text": [
      "857it [02:28,  3.88it/s]"
     ]
    },
    {
     "name": "stdout",
     "output_type": "stream",
     "text": [
      "848\n",
      "852\n",
      "851\n"
     ]
    },
    {
     "name": "stderr",
     "output_type": "stream",
     "text": [
      "\r",
      "859it [02:28,  5.14it/s]"
     ]
    },
    {
     "name": "stdout",
     "output_type": "stream",
     "text": [
      "860\n",
      "871\n",
      "866\n",
      "863\n",
      "870\n",
      "849\n"
     ]
    },
    {
     "name": "stderr",
     "output_type": "stream",
     "text": [
      "867it [02:29, 10.46it/s]"
     ]
    },
    {
     "name": "stdout",
     "output_type": "stream",
     "text": [
      "864\n",
      "821\n",
      "869\n"
     ]
    },
    {
     "name": "stderr",
     "output_type": "stream",
     "text": [
      "\r",
      "870it [02:29, 13.00it/s]"
     ]
    },
    {
     "name": "stdout",
     "output_type": "stream",
     "text": [
      "862\n",
      "876\n",
      "865\n",
      "875\n"
     ]
    },
    {
     "name": "stderr",
     "output_type": "stream",
     "text": [
      "\r",
      "872it [02:29,  8.07it/s]"
     ]
    },
    {
     "name": "stdout",
     "output_type": "stream",
     "text": [
      "861\n",
      "872\n"
     ]
    },
    {
     "name": "stderr",
     "output_type": "stream",
     "text": [
      "\r",
      "874it [02:30,  7.73it/s]"
     ]
    },
    {
     "name": "stdout",
     "output_type": "stream",
     "text": [
      "858\n"
     ]
    },
    {
     "name": "stderr",
     "output_type": "stream",
     "text": [
      "\r",
      "876it [02:30,  4.83it/s]"
     ]
    },
    {
     "name": "stdout",
     "output_type": "stream",
     "text": [
      "882\n",
      "868\n",
      "877\n"
     ]
    },
    {
     "name": "stderr",
     "output_type": "stream",
     "text": [
      "879it [02:31,  4.84it/s]"
     ]
    },
    {
     "name": "stdout",
     "output_type": "stream",
     "text": [
      "880\n",
      "881\n"
     ]
    },
    {
     "name": "stderr",
     "output_type": "stream",
     "text": [
      "\r",
      "880it [02:31,  4.05it/s]"
     ]
    },
    {
     "name": "stdout",
     "output_type": "stream",
     "text": [
      "878\n",
      "867\n"
     ]
    },
    {
     "name": "stderr",
     "output_type": "stream",
     "text": [
      "883it [02:32,  4.88it/s]"
     ]
    },
    {
     "name": "stdout",
     "output_type": "stream",
     "text": [
      "859\n",
      "885\n"
     ]
    },
    {
     "name": "stderr",
     "output_type": "stream",
     "text": [
      "\r",
      "884it [02:33,  3.32it/s]"
     ]
    },
    {
     "name": "stdout",
     "output_type": "stream",
     "text": [
      "874\n"
     ]
    },
    {
     "name": "stderr",
     "output_type": "stream",
     "text": [
      "886it [02:33,  3.96it/s]"
     ]
    },
    {
     "name": "stdout",
     "output_type": "stream",
     "text": [
      "887\n",
      "879\n"
     ]
    },
    {
     "name": "stderr",
     "output_type": "stream",
     "text": [
      "\r",
      "887it [02:33,  3.72it/s]"
     ]
    },
    {
     "name": "stdout",
     "output_type": "stream",
     "text": [
      "884\n",
      "886\n",
      "None\n"
     ]
    },
    {
     "name": "stderr",
     "output_type": "stream",
     "text": [
      "893it [02:34,  6.64it/s]"
     ]
    },
    {
     "name": "stdout",
     "output_type": "stream",
     "text": [
      "889\n",
      "None\n",
      "891\n",
      "892\n"
     ]
    },
    {
     "name": "stderr",
     "output_type": "stream",
     "text": [
      "\r",
      "894it [02:34,  6.57it/s]"
     ]
    },
    {
     "name": "stdout",
     "output_type": "stream",
     "text": [
      "900\n",
      "895\n",
      "890\n"
     ]
    },
    {
     "name": "stderr",
     "output_type": "stream",
     "text": [
      "\r",
      "897it [02:34,  8.27it/s]"
     ]
    },
    {
     "name": "stdout",
     "output_type": "stream",
     "text": [
      "897\n"
     ]
    },
    {
     "name": "stderr",
     "output_type": "stream",
     "text": [
      "\r",
      "898it [02:35,  7.20it/s]"
     ]
    },
    {
     "name": "stdout",
     "output_type": "stream",
     "text": [
      "893\n"
     ]
    },
    {
     "name": "stderr",
     "output_type": "stream",
     "text": [
      "\r",
      "899it [02:35,  5.57it/s]"
     ]
    },
    {
     "name": "stdout",
     "output_type": "stream",
     "text": [
      "888\n",
      "899\n"
     ]
    },
    {
     "name": "stderr",
     "output_type": "stream",
     "text": [
      "\r",
      "901it [02:35,  5.37it/s]"
     ]
    },
    {
     "name": "stdout",
     "output_type": "stream",
     "text": [
      "902\n",
      "903\n"
     ]
    },
    {
     "name": "stderr",
     "output_type": "stream",
     "text": [
      "905it [02:36,  7.30it/s]"
     ]
    },
    {
     "name": "stdout",
     "output_type": "stream",
     "text": [
      "894\n",
      "901\n",
      "907\n"
     ]
    },
    {
     "name": "stderr",
     "output_type": "stream",
     "text": [
      "\r",
      "906it [02:36,  6.41it/s]"
     ]
    },
    {
     "name": "stdout",
     "output_type": "stream",
     "text": [
      "914\n"
     ]
    },
    {
     "name": "stderr",
     "output_type": "stream",
     "text": [
      "\r",
      "907it [02:36,  5.40it/s]"
     ]
    },
    {
     "name": "stdout",
     "output_type": "stream",
     "text": [
      "896\n",
      "908\n",
      "None\n",
      "None\n"
     ]
    },
    {
     "name": "stderr",
     "output_type": "stream",
     "text": [
      "912it [02:37,  7.47it/s]"
     ]
    },
    {
     "name": "stdout",
     "output_type": "stream",
     "text": [
      "906\n",
      "910\n"
     ]
    },
    {
     "name": "stderr",
     "output_type": "stream",
     "text": [
      "\r",
      "914it [02:37,  7.95it/s]"
     ]
    },
    {
     "name": "stdout",
     "output_type": "stream",
     "text": [
      "912\n",
      "898\n",
      "904\n"
     ]
    },
    {
     "name": "stderr",
     "output_type": "stream",
     "text": [
      "\r",
      "916it [02:38,  5.63it/s]"
     ]
    },
    {
     "name": "stdout",
     "output_type": "stream",
     "text": [
      "909\n"
     ]
    },
    {
     "name": "stderr",
     "output_type": "stream",
     "text": [
      "\r",
      "917it [02:38,  4.11it/s]"
     ]
    },
    {
     "name": "stdout",
     "output_type": "stream",
     "text": [
      "915\n",
      "None\n"
     ]
    },
    {
     "name": "stderr",
     "output_type": "stream",
     "text": [
      "\r",
      "919it [02:39,  4.12it/s]"
     ]
    },
    {
     "name": "stdout",
     "output_type": "stream",
     "text": [
      "905\n"
     ]
    },
    {
     "name": "stderr",
     "output_type": "stream",
     "text": [
      "921it [02:39,  4.04it/s]"
     ]
    },
    {
     "name": "stdout",
     "output_type": "stream",
     "text": [
      "918\n",
      "913\n"
     ]
    },
    {
     "name": "stderr",
     "output_type": "stream",
     "text": [
      "\r",
      "922it [02:39,  3.87it/s]"
     ]
    },
    {
     "name": "stdout",
     "output_type": "stream",
     "text": [
      "923\n",
      "938\n"
     ]
    },
    {
     "name": "stderr",
     "output_type": "stream",
     "text": [
      "\r",
      "924it [02:40,  4.60it/s]"
     ]
    },
    {
     "name": "stdout",
     "output_type": "stream",
     "text": [
      "926\n",
      "925\n",
      "911\n"
     ]
    },
    {
     "name": "stderr",
     "output_type": "stream",
     "text": [
      "\r",
      "927it [02:40,  6.65it/s]"
     ]
    },
    {
     "name": "stdout",
     "output_type": "stream",
     "text": [
      "920\n",
      "None\n",
      "917\n"
     ]
    },
    {
     "name": "stderr",
     "output_type": "stream",
     "text": [
      "933it [02:40,  9.33it/s]"
     ]
    },
    {
     "name": "stdout",
     "output_type": "stream",
     "text": [
      "935\n",
      "922\n",
      "916\n",
      "928\n"
     ]
    },
    {
     "name": "stderr",
     "output_type": "stream",
     "text": [
      "\r",
      "936it [02:41, 10.83it/s]"
     ]
    },
    {
     "name": "stdout",
     "output_type": "stream",
     "text": [
      "927\n",
      "933\n",
      "924\n",
      "None\n"
     ]
    },
    {
     "name": "stderr",
     "output_type": "stream",
     "text": [
      "\r",
      "938it [02:41, 12.10it/s]"
     ]
    },
    {
     "name": "stdout",
     "output_type": "stream",
     "text": [
      "929\n",
      "931\n"
     ]
    },
    {
     "name": "stderr",
     "output_type": "stream",
     "text": [
      "\r",
      "940it [02:41, 11.07it/s]"
     ]
    },
    {
     "name": "stdout",
     "output_type": "stream",
     "text": [
      "945\n"
     ]
    },
    {
     "name": "stderr",
     "output_type": "stream",
     "text": [
      "\r",
      "942it [02:42,  7.43it/s]"
     ]
    },
    {
     "name": "stdout",
     "output_type": "stream",
     "text": [
      "934\n",
      "930\n",
      "946\n"
     ]
    },
    {
     "name": "stderr",
     "output_type": "stream",
     "text": [
      "\r",
      "944it [02:42,  4.78it/s]"
     ]
    },
    {
     "name": "stdout",
     "output_type": "stream",
     "text": [
      "952\n",
      "936\n",
      "937\n"
     ]
    },
    {
     "name": "stderr",
     "output_type": "stream",
     "text": [
      "948it [02:43,  6.13it/s]"
     ]
    },
    {
     "name": "stdout",
     "output_type": "stream",
     "text": [
      "942\n",
      "932\n"
     ]
    },
    {
     "name": "stderr",
     "output_type": "stream",
     "text": [
      "950it [02:43,  4.59it/s]"
     ]
    },
    {
     "name": "stdout",
     "output_type": "stream",
     "text": [
      "943\n",
      "944\n"
     ]
    },
    {
     "name": "stderr",
     "output_type": "stream",
     "text": [
      "952it [02:44,  5.10it/s]"
     ]
    },
    {
     "name": "stdout",
     "output_type": "stream",
     "text": [
      "960\n",
      "947\n"
     ]
    },
    {
     "name": "stderr",
     "output_type": "stream",
     "text": [
      "\r",
      "953it [02:44,  5.40it/s]"
     ]
    },
    {
     "name": "stdout",
     "output_type": "stream",
     "text": [
      "964\n"
     ]
    },
    {
     "name": "stderr",
     "output_type": "stream",
     "text": [
      "955it [02:45,  4.31it/s]"
     ]
    },
    {
     "name": "stdout",
     "output_type": "stream",
     "text": [
      "950\n",
      "941\n",
      "None\n"
     ]
    },
    {
     "name": "stderr",
     "output_type": "stream",
     "text": [
      "\r",
      "957it [02:45,  6.35it/s]"
     ]
    },
    {
     "name": "stdout",
     "output_type": "stream",
     "text": [
      "957\n",
      "972\n"
     ]
    },
    {
     "name": "stderr",
     "output_type": "stream",
     "text": [
      "\r",
      "959it [02:45,  5.27it/s]"
     ]
    },
    {
     "name": "stdout",
     "output_type": "stream",
     "text": [
      "954\n"
     ]
    },
    {
     "name": "stderr",
     "output_type": "stream",
     "text": [
      "\r",
      "960it [02:46,  4.12it/s]"
     ]
    },
    {
     "name": "stdout",
     "output_type": "stream",
     "text": [
      "956\n"
     ]
    },
    {
     "name": "stderr",
     "output_type": "stream",
     "text": [
      "\r",
      "961it [02:46,  4.11it/s]"
     ]
    },
    {
     "name": "stdout",
     "output_type": "stream",
     "text": [
      "965\n",
      "949\n",
      "968\n",
      "961\n"
     ]
    },
    {
     "name": "stderr",
     "output_type": "stream",
     "text": [
      "\r",
      "965it [02:46,  6.12it/s]"
     ]
    },
    {
     "name": "stdout",
     "output_type": "stream",
     "text": [
      "953\n"
     ]
    },
    {
     "name": "stderr",
     "output_type": "stream",
     "text": [
      "968it [02:47,  6.90it/s]"
     ]
    },
    {
     "name": "stdout",
     "output_type": "stream",
     "text": [
      "980\n",
      "951\n",
      "962\n"
     ]
    },
    {
     "name": "stderr",
     "output_type": "stream",
     "text": [
      "\r",
      "969it [02:47,  6.72it/s]"
     ]
    },
    {
     "name": "stdout",
     "output_type": "stream",
     "text": [
      "970\n"
     ]
    },
    {
     "name": "stderr",
     "output_type": "stream",
     "text": [
      "\r",
      "970it [02:47,  5.64it/s]"
     ]
    },
    {
     "name": "stdout",
     "output_type": "stream",
     "text": [
      "963\n",
      "955\n"
     ]
    },
    {
     "name": "stderr",
     "output_type": "stream",
     "text": [
      "\r",
      "972it [02:47,  6.23it/s]"
     ]
    },
    {
     "name": "stdout",
     "output_type": "stream",
     "text": [
      "969\n",
      "977\n"
     ]
    },
    {
     "name": "stderr",
     "output_type": "stream",
     "text": [
      "\r",
      "974it [02:48,  6.27it/s]"
     ]
    },
    {
     "name": "stdout",
     "output_type": "stream",
     "text": [
      "971\n"
     ]
    },
    {
     "name": "stderr",
     "output_type": "stream",
     "text": [
      "\r",
      "975it [02:48,  4.26it/s]"
     ]
    },
    {
     "name": "stdout",
     "output_type": "stream",
     "text": [
      "975\n",
      "None\n",
      "974\n"
     ]
    },
    {
     "name": "stderr",
     "output_type": "stream",
     "text": [
      "\r",
      "978it [02:49,  5.68it/s]"
     ]
    },
    {
     "name": "stdout",
     "output_type": "stream",
     "text": [
      "959\n",
      "978\n"
     ]
    },
    {
     "name": "stderr",
     "output_type": "stream",
     "text": [
      "982it [02:49,  7.08it/s]"
     ]
    },
    {
     "name": "stdout",
     "output_type": "stream",
     "text": [
      "979\n",
      "982\n",
      "973\n"
     ]
    },
    {
     "name": "stderr",
     "output_type": "stream",
     "text": [
      "985it [02:49,  8.97it/s]"
     ]
    },
    {
     "name": "stdout",
     "output_type": "stream",
     "text": [
      "976\n",
      "995\n",
      "983\n"
     ]
    },
    {
     "name": "stderr",
     "output_type": "stream",
     "text": [
      "\r",
      "987it [02:50,  7.60it/s]"
     ]
    },
    {
     "name": "stdout",
     "output_type": "stream",
     "text": [
      "981\n",
      "985\n"
     ]
    },
    {
     "name": "stderr",
     "output_type": "stream",
     "text": [
      "989it [02:50,  6.15it/s]"
     ]
    },
    {
     "name": "stdout",
     "output_type": "stream",
     "text": [
      "984\n",
      "966\n"
     ]
    },
    {
     "name": "stderr",
     "output_type": "stream",
     "text": [
      "\r",
      "990it [02:51,  3.89it/s]"
     ]
    },
    {
     "name": "stdout",
     "output_type": "stream",
     "text": [
      "989\n"
     ]
    },
    {
     "name": "stderr",
     "output_type": "stream",
     "text": [
      "\r",
      "991it [02:51,  4.06it/s]"
     ]
    },
    {
     "name": "stdout",
     "output_type": "stream",
     "text": [
      "987\n"
     ]
    },
    {
     "name": "stderr",
     "output_type": "stream",
     "text": [
      "\r",
      "992it [02:51,  3.06it/s]"
     ]
    },
    {
     "name": "stdout",
     "output_type": "stream",
     "text": [
      "991\n"
     ]
    },
    {
     "name": "stderr",
     "output_type": "stream",
     "text": [
      "995it [02:52,  4.00it/s]"
     ]
    },
    {
     "name": "stdout",
     "output_type": "stream",
     "text": [
      "1009\n",
      "996\n",
      "992\n"
     ]
    },
    {
     "name": "stderr",
     "output_type": "stream",
     "text": [
      "998it [02:53,  5.16it/s]"
     ]
    },
    {
     "name": "stdout",
     "output_type": "stream",
     "text": [
      "999\n",
      "998\n",
      "990\n"
     ]
    },
    {
     "name": "stderr",
     "output_type": "stream",
     "text": [
      "\r",
      "999it [02:53,  5.06it/s]"
     ]
    },
    {
     "name": "stdout",
     "output_type": "stream",
     "text": [
      "1002\n"
     ]
    },
    {
     "name": "stderr",
     "output_type": "stream",
     "text": [
      "1003it [02:53,  7.02it/s]"
     ]
    },
    {
     "name": "stdout",
     "output_type": "stream",
     "text": [
      "1008\n",
      "997\n",
      "1004\n",
      "1001\n",
      "1003\n"
     ]
    },
    {
     "name": "stderr",
     "output_type": "stream",
     "text": [
      "\r",
      "1005it [02:54,  6.09it/s]"
     ]
    },
    {
     "name": "stdout",
     "output_type": "stream",
     "text": [
      "1000\n",
      "1005\n"
     ]
    },
    {
     "name": "stderr",
     "output_type": "stream",
     "text": [
      "1008it [02:54,  6.42it/s]"
     ]
    },
    {
     "name": "stdout",
     "output_type": "stream",
     "text": [
      "1020\n",
      "988\n",
      "1007\n",
      "None\n"
     ]
    },
    {
     "name": "stderr",
     "output_type": "stream",
     "text": [
      "1013it [02:55,  7.84it/s]"
     ]
    },
    {
     "name": "stdout",
     "output_type": "stream",
     "text": [
      "1011\n",
      "994\n",
      "1010\n",
      "1018\n",
      "1024\n"
     ]
    },
    {
     "name": "stderr",
     "output_type": "stream",
     "text": [
      "\r",
      "1016it [02:55,  7.79it/s]"
     ]
    },
    {
     "name": "stdout",
     "output_type": "stream",
     "text": [
      "1013\n"
     ]
    },
    {
     "name": "stderr",
     "output_type": "stream",
     "text": [
      "1023it [02:56, 13.26it/s]"
     ]
    },
    {
     "name": "stdout",
     "output_type": "stream",
     "text": [
      "1017\n",
      "1012\n",
      "1015\n",
      "None\n",
      "1016\n",
      "993\n",
      "1021\n",
      "1023\n"
     ]
    },
    {
     "name": "stderr",
     "output_type": "stream",
     "text": [
      "\r",
      "1026it [02:56,  8.25it/s]"
     ]
    },
    {
     "name": "stdout",
     "output_type": "stream",
     "text": [
      "1014\n",
      "1027\n"
     ]
    },
    {
     "name": "stderr",
     "output_type": "stream",
     "text": [
      "\r",
      "1028it [02:57,  6.06it/s]"
     ]
    },
    {
     "name": "stdout",
     "output_type": "stream",
     "text": [
      "1026\n",
      "1019\n"
     ]
    },
    {
     "name": "stderr",
     "output_type": "stream",
     "text": [
      "\r",
      "1030it [02:57,  5.19it/s]"
     ]
    },
    {
     "name": "stdout",
     "output_type": "stream",
     "text": [
      "1033\n",
      "1025\n"
     ]
    },
    {
     "name": "stderr",
     "output_type": "stream",
     "text": [
      "\r",
      "1032it [02:58,  4.72it/s]"
     ]
    },
    {
     "name": "stdout",
     "output_type": "stream",
     "text": [
      "1022\n",
      "1032\n"
     ]
    },
    {
     "name": "stderr",
     "output_type": "stream",
     "text": [
      "\r",
      "1033it [02:58,  4.60it/s]"
     ]
    },
    {
     "name": "stdout",
     "output_type": "stream",
     "text": [
      "1028\n",
      "1029\n",
      "1041\n"
     ]
    },
    {
     "name": "stderr",
     "output_type": "stream",
     "text": [
      "\r",
      "1036it [02:59,  5.13it/s]"
     ]
    },
    {
     "name": "stdout",
     "output_type": "stream",
     "text": [
      "1031\n"
     ]
    },
    {
     "name": "stderr",
     "output_type": "stream",
     "text": [
      "1038it [03:00,  3.66it/s]"
     ]
    },
    {
     "name": "stdout",
     "output_type": "stream",
     "text": [
      "1034\n",
      "1035\n",
      "1046\n"
     ]
    },
    {
     "name": "stderr",
     "output_type": "stream",
     "text": [
      "1041it [03:00,  5.07it/s]"
     ]
    },
    {
     "name": "stdout",
     "output_type": "stream",
     "text": [
      "1037\n",
      "1036\n"
     ]
    },
    {
     "name": "stderr",
     "output_type": "stream",
     "text": [
      "1043it [03:01,  4.72it/s]"
     ]
    },
    {
     "name": "stdout",
     "output_type": "stream",
     "text": [
      "1049\n",
      "1052\n"
     ]
    },
    {
     "name": "stderr",
     "output_type": "stream",
     "text": [
      "1045it [03:01,  5.27it/s]"
     ]
    },
    {
     "name": "stdout",
     "output_type": "stream",
     "text": [
      "1045\n",
      "1053\n",
      "1038\n"
     ]
    },
    {
     "name": "stderr",
     "output_type": "stream",
     "text": [
      "1048it [03:01,  6.82it/s]"
     ]
    },
    {
     "name": "stdout",
     "output_type": "stream",
     "text": [
      "1042\n",
      "1030\n"
     ]
    },
    {
     "name": "stderr",
     "output_type": "stream",
     "text": [
      "1050it [03:01,  7.08it/s]"
     ]
    },
    {
     "name": "stdout",
     "output_type": "stream",
     "text": [
      "1056\n",
      "1043\n"
     ]
    },
    {
     "name": "stderr",
     "output_type": "stream",
     "text": [
      "\r",
      "1051it [03:02,  5.39it/s]"
     ]
    },
    {
     "name": "stdout",
     "output_type": "stream",
     "text": [
      "1057\n",
      "None\n",
      "None\n",
      "1055\n",
      "None\n"
     ]
    },
    {
     "name": "stderr",
     "output_type": "stream",
     "text": [
      "\r",
      "1056it [03:02, 10.02it/s]"
     ]
    },
    {
     "name": "stdout",
     "output_type": "stream",
     "text": [
      "1039\n"
     ]
    },
    {
     "name": "stderr",
     "output_type": "stream",
     "text": [
      "1058it [03:02,  7.37it/s]"
     ]
    },
    {
     "name": "stdout",
     "output_type": "stream",
     "text": [
      "1048\n",
      "1059\n",
      "1062\n"
     ]
    },
    {
     "name": "stderr",
     "output_type": "stream",
     "text": [
      "\r",
      "1061it [03:03, 10.79it/s]"
     ]
    },
    {
     "name": "stdout",
     "output_type": "stream",
     "text": [
      "1047\n",
      "1058\n"
     ]
    },
    {
     "name": "stderr",
     "output_type": "stream",
     "text": [
      "\r",
      "1063it [03:03,  5.70it/s]"
     ]
    },
    {
     "name": "stdout",
     "output_type": "stream",
     "text": [
      "1061\n",
      "1051\n",
      "1044\n",
      "None\n",
      "None\n",
      "1064\n",
      "1060\n"
     ]
    },
    {
     "name": "stderr",
     "output_type": "stream",
     "text": [
      "\r",
      "1069it [03:04,  8.75it/s]"
     ]
    },
    {
     "name": "stdout",
     "output_type": "stream",
     "text": [
      "1054\n",
      "1070\n"
     ]
    },
    {
     "name": "stderr",
     "output_type": "stream",
     "text": [
      "1072it [03:05,  5.84it/s]"
     ]
    },
    {
     "name": "stdout",
     "output_type": "stream",
     "text": [
      "1063\n",
      "1071\n"
     ]
    },
    {
     "name": "stderr",
     "output_type": "stream",
     "text": [
      "1074it [03:06,  3.66it/s]"
     ]
    },
    {
     "name": "stdout",
     "output_type": "stream",
     "text": [
      "1076\n",
      "1072\n",
      "1068\n"
     ]
    },
    {
     "name": "stderr",
     "output_type": "stream",
     "text": [
      "1077it [03:06,  4.92it/s]"
     ]
    },
    {
     "name": "stdout",
     "output_type": "stream",
     "text": [
      "1066\n",
      "1075\n"
     ]
    },
    {
     "name": "stderr",
     "output_type": "stream",
     "text": [
      "1079it [03:07,  4.95it/s]"
     ]
    },
    {
     "name": "stdout",
     "output_type": "stream",
     "text": [
      "1067\n",
      "1081\n"
     ]
    },
    {
     "name": "stderr",
     "output_type": "stream",
     "text": [
      "\r",
      "1080it [03:07,  4.99it/s]"
     ]
    },
    {
     "name": "stdout",
     "output_type": "stream",
     "text": [
      "1079\n",
      "1074\n",
      "1065\n"
     ]
    },
    {
     "name": "stderr",
     "output_type": "stream",
     "text": [
      "\r",
      "1083it [03:07,  7.39it/s]"
     ]
    },
    {
     "name": "stdout",
     "output_type": "stream",
     "text": [
      "1086\n",
      "None\n",
      "1073\n"
     ]
    },
    {
     "name": "stderr",
     "output_type": "stream",
     "text": [
      "\r",
      "1086it [03:07,  8.80it/s]"
     ]
    },
    {
     "name": "stdout",
     "output_type": "stream",
     "text": [
      "1084\n",
      "None\n",
      "1077\n",
      "None\n"
     ]
    },
    {
     "name": "stderr",
     "output_type": "stream",
     "text": [
      "\r",
      "1090it [03:08, 10.44it/s]"
     ]
    },
    {
     "name": "stdout",
     "output_type": "stream",
     "text": [
      "1069\n",
      "1103\n"
     ]
    },
    {
     "name": "stderr",
     "output_type": "stream",
     "text": [
      "1093it [03:08,  9.13it/s]"
     ]
    },
    {
     "name": "stdout",
     "output_type": "stream",
     "text": [
      "1078\n",
      "1089\n"
     ]
    },
    {
     "name": "stderr",
     "output_type": "stream",
     "text": [
      "1096it [03:08,  8.06it/s]"
     ]
    },
    {
     "name": "stdout",
     "output_type": "stream",
     "text": [
      "1101\n",
      "1092\n",
      "1087\n"
     ]
    },
    {
     "name": "stderr",
     "output_type": "stream",
     "text": [
      "1100it [03:09,  8.94it/s]"
     ]
    },
    {
     "name": "stdout",
     "output_type": "stream",
     "text": [
      "1090\n",
      "1098\n",
      "1080\n",
      "1097\n",
      "1088\n",
      "1091\n"
     ]
    },
    {
     "name": "stderr",
     "output_type": "stream",
     "text": [
      "\r",
      "1103it [03:09,  7.47it/s]"
     ]
    },
    {
     "name": "stdout",
     "output_type": "stream",
     "text": [
      "1100\n"
     ]
    },
    {
     "name": "stderr",
     "output_type": "stream",
     "text": [
      "\r",
      "1104it [03:10,  6.85it/s]"
     ]
    },
    {
     "name": "stdout",
     "output_type": "stream",
     "text": [
      "1106\n",
      "1094\n"
     ]
    },
    {
     "name": "stderr",
     "output_type": "stream",
     "text": [
      "\r",
      "1106it [03:10,  6.03it/s]"
     ]
    },
    {
     "name": "stdout",
     "output_type": "stream",
     "text": [
      "1093\n",
      "None\n",
      "None\n"
     ]
    },
    {
     "name": "stderr",
     "output_type": "stream",
     "text": [
      "\r",
      "1109it [03:11,  4.83it/s]"
     ]
    },
    {
     "name": "stdout",
     "output_type": "stream",
     "text": [
      "1099\n",
      "1102\n"
     ]
    },
    {
     "name": "stderr",
     "output_type": "stream",
     "text": [
      "\r",
      "1111it [03:11,  4.71it/s]"
     ]
    },
    {
     "name": "stdout",
     "output_type": "stream",
     "text": [
      "1105\n"
     ]
    },
    {
     "name": "stderr",
     "output_type": "stream",
     "text": [
      "\r",
      "1112it [03:12,  4.16it/s]"
     ]
    },
    {
     "name": "stdout",
     "output_type": "stream",
     "text": [
      "1128\n",
      "1107\n"
     ]
    },
    {
     "name": "stderr",
     "output_type": "stream",
     "text": [
      "1117it [03:12,  7.05it/s]"
     ]
    },
    {
     "name": "stdout",
     "output_type": "stream",
     "text": [
      "1127\n",
      "1133\n",
      "None\n",
      "1112\n"
     ]
    },
    {
     "name": "stderr",
     "output_type": "stream",
     "text": [
      "1121it [03:12, 10.12it/s]"
     ]
    },
    {
     "name": "stdout",
     "output_type": "stream",
     "text": [
      "1129\n",
      "1108\n",
      "1124\n",
      "1116\n"
     ]
    },
    {
     "name": "stderr",
     "output_type": "stream",
     "text": [
      "\r",
      "1123it [03:12, 11.39it/s]"
     ]
    },
    {
     "name": "stdout",
     "output_type": "stream",
     "text": [
      "1131\n",
      "1134\n",
      "1135\n",
      "None\n"
     ]
    },
    {
     "name": "stderr",
     "output_type": "stream",
     "text": [
      "\r",
      "1126it [03:13,  9.87it/s]"
     ]
    },
    {
     "name": "stdout",
     "output_type": "stream",
     "text": [
      "1136\n",
      "1113\n"
     ]
    },
    {
     "name": "stderr",
     "output_type": "stream",
     "text": [
      "\r",
      "1128it [03:13,  9.58it/s]"
     ]
    },
    {
     "name": "stdout",
     "output_type": "stream",
     "text": [
      "1109\n",
      "1121\n"
     ]
    },
    {
     "name": "stderr",
     "output_type": "stream",
     "text": [
      "\r",
      "1130it [03:14,  7.09it/s]"
     ]
    },
    {
     "name": "stdout",
     "output_type": "stream",
     "text": [
      "1111\n"
     ]
    },
    {
     "name": "stderr",
     "output_type": "stream",
     "text": [
      "1132it [03:14,  5.91it/s]"
     ]
    },
    {
     "name": "stdout",
     "output_type": "stream",
     "text": [
      "1110\n",
      "1125\n",
      "1122\n",
      "1120\n"
     ]
    },
    {
     "name": "stderr",
     "output_type": "stream",
     "text": [
      "1137it [03:15,  7.46it/s]"
     ]
    },
    {
     "name": "stdout",
     "output_type": "stream",
     "text": [
      "1126\n",
      "1104\n",
      "1115\n",
      "None\n",
      "1130\n"
     ]
    },
    {
     "name": "stderr",
     "output_type": "stream",
     "text": [
      "\r",
      "1140it [03:15,  6.34it/s]"
     ]
    },
    {
     "name": "stdout",
     "output_type": "stream",
     "text": [
      "1132\n"
     ]
    },
    {
     "name": "stderr",
     "output_type": "stream",
     "text": [
      "1142it [03:16,  4.80it/s]"
     ]
    },
    {
     "name": "stdout",
     "output_type": "stream",
     "text": [
      "1139\n",
      "1118\n"
     ]
    },
    {
     "name": "stderr",
     "output_type": "stream",
     "text": [
      "\r",
      "1143it [03:16,  4.25it/s]"
     ]
    },
    {
     "name": "stdout",
     "output_type": "stream",
     "text": [
      "1123\n"
     ]
    },
    {
     "name": "stderr",
     "output_type": "stream",
     "text": [
      "\r",
      "1144it [03:17,  3.93it/s]"
     ]
    },
    {
     "name": "stdout",
     "output_type": "stream",
     "text": [
      "1145\n",
      "1141\n"
     ]
    },
    {
     "name": "stderr",
     "output_type": "stream",
     "text": [
      "\r",
      "1146it [03:17,  4.92it/s]"
     ]
    },
    {
     "name": "stdout",
     "output_type": "stream",
     "text": [
      "1164\n"
     ]
    },
    {
     "name": "stderr",
     "output_type": "stream",
     "text": [
      "1150it [03:17,  6.88it/s]"
     ]
    },
    {
     "name": "stdout",
     "output_type": "stream",
     "text": [
      "1140\n",
      "None\n",
      "1165\n",
      "1149\n",
      "1144\n",
      "1167\n",
      "None\n"
     ]
    },
    {
     "name": "stderr",
     "output_type": "stream",
     "text": [
      "\r",
      "1154it [03:18, 10.42it/s]"
     ]
    },
    {
     "name": "stdout",
     "output_type": "stream",
     "text": [
      "1148\n"
     ]
    },
    {
     "name": "stderr",
     "output_type": "stream",
     "text": [
      "\r",
      "1156it [03:18,  8.46it/s]"
     ]
    },
    {
     "name": "stdout",
     "output_type": "stream",
     "text": [
      "1151\n",
      "1152\n",
      "None\n",
      "1142\n",
      "None\n",
      "1156\n"
     ]
    },
    {
     "name": "stderr",
     "output_type": "stream",
     "text": [
      "\r",
      "1161it [03:18, 12.52it/s]"
     ]
    },
    {
     "name": "stdout",
     "output_type": "stream",
     "text": [
      "1150\n",
      "1154\n"
     ]
    },
    {
     "name": "stderr",
     "output_type": "stream",
     "text": [
      "\r",
      "1163it [03:19,  8.75it/s]"
     ]
    },
    {
     "name": "stdout",
     "output_type": "stream",
     "text": [
      "1147\n",
      "1153\n"
     ]
    },
    {
     "name": "stderr",
     "output_type": "stream",
     "text": [
      "1167it [03:19,  9.52it/s]"
     ]
    },
    {
     "name": "stdout",
     "output_type": "stream",
     "text": [
      "1163\n",
      "1143\n",
      "1160\n",
      "1158\n"
     ]
    },
    {
     "name": "stderr",
     "output_type": "stream",
     "text": [
      "\r",
      "1169it [03:19,  7.39it/s]"
     ]
    },
    {
     "name": "stdout",
     "output_type": "stream",
     "text": [
      "1173\n",
      "1159\n"
     ]
    },
    {
     "name": "stderr",
     "output_type": "stream",
     "text": [
      "\r",
      "1171it [03:20,  7.92it/s]"
     ]
    },
    {
     "name": "stdout",
     "output_type": "stream",
     "text": [
      "1157\n",
      "1162\n"
     ]
    },
    {
     "name": "stderr",
     "output_type": "stream",
     "text": [
      "\r",
      "1173it [03:20,  5.57it/s]"
     ]
    },
    {
     "name": "stdout",
     "output_type": "stream",
     "text": [
      "1161\n"
     ]
    },
    {
     "name": "stderr",
     "output_type": "stream",
     "text": [
      "\r",
      "1174it [03:21,  4.33it/s]"
     ]
    },
    {
     "name": "stdout",
     "output_type": "stream",
     "text": [
      "1182\n"
     ]
    },
    {
     "name": "stderr",
     "output_type": "stream",
     "text": [
      "\r",
      "1175it [03:21,  3.97it/s]"
     ]
    },
    {
     "name": "stdout",
     "output_type": "stream",
     "text": [
      "1169\n"
     ]
    },
    {
     "name": "stderr",
     "output_type": "stream",
     "text": [
      "\r",
      "1176it [03:21,  3.87it/s]"
     ]
    },
    {
     "name": "stdout",
     "output_type": "stream",
     "text": [
      "1166\n"
     ]
    },
    {
     "name": "stderr",
     "output_type": "stream",
     "text": [
      "1178it [03:22,  3.77it/s]"
     ]
    },
    {
     "name": "stdout",
     "output_type": "stream",
     "text": [
      "1186\n",
      "1175\n",
      "1174\n"
     ]
    },
    {
     "name": "stderr",
     "output_type": "stream",
     "text": [
      "\r",
      "1180it [03:22,  5.38it/s]"
     ]
    },
    {
     "name": "stdout",
     "output_type": "stream",
     "text": [
      "1196\n"
     ]
    },
    {
     "name": "stderr",
     "output_type": "stream",
     "text": [
      "\r",
      "1181it [03:23,  4.43it/s]"
     ]
    },
    {
     "name": "stdout",
     "output_type": "stream",
     "text": [
      "1171\n",
      "1170\n",
      "1172\n"
     ]
    },
    {
     "name": "stderr",
     "output_type": "stream",
     "text": [
      "1185it [03:23,  5.65it/s]"
     ]
    },
    {
     "name": "stdout",
     "output_type": "stream",
     "text": [
      "1180\n",
      "1179\n"
     ]
    },
    {
     "name": "stderr",
     "output_type": "stream",
     "text": [
      "\r",
      "1186it [03:23,  6.09it/s]"
     ]
    },
    {
     "name": "stdout",
     "output_type": "stream",
     "text": [
      "1176\n"
     ]
    },
    {
     "name": "stderr",
     "output_type": "stream",
     "text": [
      "1188it [03:24,  4.36it/s]"
     ]
    },
    {
     "name": "stdout",
     "output_type": "stream",
     "text": [
      "1181\n",
      "1193\n"
     ]
    },
    {
     "name": "stderr",
     "output_type": "stream",
     "text": [
      "\r",
      "1189it [03:24,  3.85it/s]"
     ]
    },
    {
     "name": "stdout",
     "output_type": "stream",
     "text": [
      "1194\n"
     ]
    },
    {
     "name": "stderr",
     "output_type": "stream",
     "text": [
      "1191it [03:25,  4.11it/s]"
     ]
    },
    {
     "name": "stdout",
     "output_type": "stream",
     "text": [
      "1188\n",
      "1199\n",
      "1185\n",
      "1184\n",
      "None\n"
     ]
    },
    {
     "name": "stderr",
     "output_type": "stream",
     "text": [
      "1197it [03:25,  7.58it/s]"
     ]
    },
    {
     "name": "stdout",
     "output_type": "stream",
     "text": [
      "1190\n",
      "1177\n",
      "1191\n"
     ]
    },
    {
     "name": "stderr",
     "output_type": "stream",
     "text": [
      "\r",
      "1199it [03:26,  7.31it/s]"
     ]
    },
    {
     "name": "stdout",
     "output_type": "stream",
     "text": [
      "1198\n",
      "1202\n"
     ]
    },
    {
     "name": "stderr",
     "output_type": "stream",
     "text": [
      "\r",
      "1200it [03:26,  6.53it/s]"
     ]
    },
    {
     "name": "stdout",
     "output_type": "stream",
     "text": [
      "1201\n"
     ]
    },
    {
     "name": "stderr",
     "output_type": "stream",
     "text": [
      "\r",
      "1201it [03:26,  5.10it/s]"
     ]
    },
    {
     "name": "stdout",
     "output_type": "stream",
     "text": [
      "1197\n",
      "None\n",
      "1200\n"
     ]
    },
    {
     "name": "stderr",
     "output_type": "stream",
     "text": [
      "1206it [03:27,  7.85it/s]"
     ]
    },
    {
     "name": "stdout",
     "output_type": "stream",
     "text": [
      "1192\n",
      "1195\n",
      "1203\n"
     ]
    },
    {
     "name": "stderr",
     "output_type": "stream",
     "text": [
      "\r",
      "1207it [03:27,  6.17it/s]"
     ]
    },
    {
     "name": "stdout",
     "output_type": "stream",
     "text": [
      "1206\n",
      "1204\n"
     ]
    },
    {
     "name": "stderr",
     "output_type": "stream",
     "text": [
      "\r",
      "1209it [03:28,  4.00it/s]"
     ]
    },
    {
     "name": "stdout",
     "output_type": "stream",
     "text": [
      "1210\n",
      "1208\n"
     ]
    },
    {
     "name": "stderr",
     "output_type": "stream",
     "text": [
      "\r",
      "1211it [03:28,  4.55it/s]"
     ]
    },
    {
     "name": "stdout",
     "output_type": "stream",
     "text": [
      "1211\n"
     ]
    },
    {
     "name": "stderr",
     "output_type": "stream",
     "text": [
      "\r",
      "1212it [03:29,  3.46it/s]"
     ]
    },
    {
     "name": "stdout",
     "output_type": "stream",
     "text": [
      "1228\n",
      "1217\n",
      "1205\n",
      "None\n",
      "1207\n",
      "1214\n"
     ]
    },
    {
     "name": "stderr",
     "output_type": "stream",
     "text": [
      "1220it [03:29,  8.52it/s]"
     ]
    },
    {
     "name": "stdout",
     "output_type": "stream",
     "text": [
      "1215\n",
      "1209\n",
      "1223\n",
      "1212\n"
     ]
    },
    {
     "name": "stderr",
     "output_type": "stream",
     "text": [
      "\r",
      "1222it [03:29,  7.09it/s]"
     ]
    },
    {
     "name": "stdout",
     "output_type": "stream",
     "text": [
      "1213\n"
     ]
    },
    {
     "name": "stderr",
     "output_type": "stream",
     "text": [
      "\r",
      "1224it [03:30,  5.34it/s]"
     ]
    },
    {
     "name": "stdout",
     "output_type": "stream",
     "text": [
      "1216\n",
      "1218\n"
     ]
    },
    {
     "name": "stderr",
     "output_type": "stream",
     "text": [
      "\r",
      "1225it [03:30,  5.18it/s]"
     ]
    },
    {
     "name": "stdout",
     "output_type": "stream",
     "text": [
      "1219\n",
      "None\n",
      "1221\n"
     ]
    },
    {
     "name": "stderr",
     "output_type": "stream",
     "text": [
      "\r",
      "1228it [03:31,  6.66it/s]"
     ]
    },
    {
     "name": "stdout",
     "output_type": "stream",
     "text": [
      "1229\n"
     ]
    },
    {
     "name": "stderr",
     "output_type": "stream",
     "text": [
      "1231it [03:31,  5.47it/s]"
     ]
    },
    {
     "name": "stdout",
     "output_type": "stream",
     "text": [
      "1225\n",
      "1220\n",
      "1222\n",
      "1227\n",
      "None\n",
      "1238\n"
     ]
    },
    {
     "name": "stderr",
     "output_type": "stream",
     "text": [
      "\r",
      "1235it [03:32,  9.15it/s]"
     ]
    },
    {
     "name": "stdout",
     "output_type": "stream",
     "text": [
      "1230\n"
     ]
    },
    {
     "name": "stderr",
     "output_type": "stream",
     "text": [
      "\r",
      "1237it [03:32,  7.58it/s]"
     ]
    },
    {
     "name": "stdout",
     "output_type": "stream",
     "text": [
      "1231\n",
      "1226\n",
      "1234\n"
     ]
    },
    {
     "name": "stderr",
     "output_type": "stream",
     "text": [
      "\r",
      "1239it [03:32,  6.27it/s]"
     ]
    },
    {
     "name": "stdout",
     "output_type": "stream",
     "text": [
      "1237\n",
      "1235\n"
     ]
    },
    {
     "name": "stderr",
     "output_type": "stream",
     "text": [
      "1243it [03:33,  8.27it/s]"
     ]
    },
    {
     "name": "stdout",
     "output_type": "stream",
     "text": [
      "1233\n",
      "1240\n",
      "1243\n",
      "1241\n"
     ]
    },
    {
     "name": "stderr",
     "output_type": "stream",
     "text": [
      "1248it [03:34,  6.27it/s]"
     ]
    },
    {
     "name": "stdout",
     "output_type": "stream",
     "text": [
      "1249\n",
      "1239\n",
      "1246\n",
      "1236\n",
      "None\n"
     ]
    },
    {
     "name": "stderr",
     "output_type": "stream",
     "text": [
      "\r",
      "1250it [03:34,  6.70it/s]"
     ]
    },
    {
     "name": "stdout",
     "output_type": "stream",
     "text": [
      "1252\n",
      "1255\n"
     ]
    },
    {
     "name": "stderr",
     "output_type": "stream",
     "text": [
      "\r",
      "1252it [03:35,  6.06it/s]"
     ]
    },
    {
     "name": "stdout",
     "output_type": "stream",
     "text": [
      "1248\n",
      "None\n"
     ]
    },
    {
     "name": "stderr",
     "output_type": "stream",
     "text": [
      "\r",
      "1254it [03:35,  6.50it/s]"
     ]
    },
    {
     "name": "stdout",
     "output_type": "stream",
     "text": [
      "1253\n",
      "1244\n"
     ]
    },
    {
     "name": "stderr",
     "output_type": "stream",
     "text": [
      "\r",
      "1256it [03:35,  6.86it/s]"
     ]
    },
    {
     "name": "stdout",
     "output_type": "stream",
     "text": [
      "1250\n",
      "None\n",
      "1242\n"
     ]
    },
    {
     "name": "stderr",
     "output_type": "stream",
     "text": [
      "\r",
      "1259it [03:35,  6.93it/s]"
     ]
    },
    {
     "name": "stdout",
     "output_type": "stream",
     "text": [
      "1257\n"
     ]
    },
    {
     "name": "stderr",
     "output_type": "stream",
     "text": [
      "\r",
      "1260it [03:36,  5.63it/s]"
     ]
    },
    {
     "name": "stdout",
     "output_type": "stream",
     "text": [
      "1247\n",
      "1259\n"
     ]
    },
    {
     "name": "stderr",
     "output_type": "stream",
     "text": [
      "1263it [03:36,  5.51it/s]"
     ]
    },
    {
     "name": "stdout",
     "output_type": "stream",
     "text": [
      "1251\n",
      "1258\n"
     ]
    },
    {
     "name": "stderr",
     "output_type": "stream",
     "text": [
      "\r",
      "1264it [03:36,  5.94it/s]"
     ]
    },
    {
     "name": "stdout",
     "output_type": "stream",
     "text": [
      "1271\n",
      "1261\n"
     ]
    },
    {
     "name": "stderr",
     "output_type": "stream",
     "text": [
      "1267it [03:37,  5.90it/s]"
     ]
    },
    {
     "name": "stdout",
     "output_type": "stream",
     "text": [
      "1260\n",
      "1262\n",
      "1266\n",
      "1264\n"
     ]
    },
    {
     "name": "stderr",
     "output_type": "stream",
     "text": [
      "\r",
      "1270it [03:37,  6.31it/s]"
     ]
    },
    {
     "name": "stdout",
     "output_type": "stream",
     "text": [
      "1268\n",
      "1269\n",
      "None\n"
     ]
    },
    {
     "name": "stderr",
     "output_type": "stream",
     "text": [
      "\r",
      "1273it [03:38,  8.11it/s]"
     ]
    },
    {
     "name": "stdout",
     "output_type": "stream",
     "text": [
      "1267\n",
      "1254\n",
      "1265\n"
     ]
    },
    {
     "name": "stderr",
     "output_type": "stream",
     "text": [
      "\r",
      "1276it [03:38,  8.36it/s]"
     ]
    },
    {
     "name": "stdout",
     "output_type": "stream",
     "text": [
      "1285\n"
     ]
    },
    {
     "name": "stderr",
     "output_type": "stream",
     "text": [
      "\r",
      "1277it [03:38,  6.53it/s]"
     ]
    },
    {
     "name": "stdout",
     "output_type": "stream",
     "text": [
      "1273\n",
      "None\n",
      "1270\n"
     ]
    },
    {
     "name": "stderr",
     "output_type": "stream",
     "text": [
      "\r",
      "1280it [03:39,  6.32it/s]"
     ]
    },
    {
     "name": "stdout",
     "output_type": "stream",
     "text": [
      "1272\n"
     ]
    },
    {
     "name": "stderr",
     "output_type": "stream",
     "text": [
      "1283it [03:40,  5.53it/s]"
     ]
    },
    {
     "name": "stdout",
     "output_type": "stream",
     "text": [
      "1277\n",
      "1275\n",
      "1282\n",
      "1280\n",
      "1274\n",
      "1276\n"
     ]
    },
    {
     "name": "stderr",
     "output_type": "stream",
     "text": [
      "\r",
      "1287it [03:40,  9.14it/s]"
     ]
    },
    {
     "name": "stdout",
     "output_type": "stream",
     "text": [
      "1281\n",
      "None\n",
      "None\n",
      "None\n",
      "None\n",
      "None\n",
      "None\n",
      "None\n",
      "None\n",
      "None\n"
     ]
    },
    {
     "name": "stderr",
     "output_type": "stream",
     "text": [
      "\r",
      "1297it [03:40, 11.99it/s]"
     ]
    },
    {
     "name": "stdout",
     "output_type": "stream",
     "text": [
      "1278\n"
     ]
    },
    {
     "name": "stderr",
     "output_type": "stream",
     "text": [
      "\r",
      "1299it [03:41,  9.29it/s]"
     ]
    },
    {
     "name": "stdout",
     "output_type": "stream",
     "text": [
      "1301\n",
      "1284\n",
      "1286\n"
     ]
    },
    {
     "name": "stderr",
     "output_type": "stream",
     "text": [
      "\r",
      "1301it [03:41,  9.52it/s]"
     ]
    },
    {
     "name": "stdout",
     "output_type": "stream",
     "text": [
      "1306\n",
      "1292\n"
     ]
    },
    {
     "name": "stderr",
     "output_type": "stream",
     "text": [
      "\r",
      "1303it [03:42,  6.99it/s]"
     ]
    },
    {
     "name": "stdout",
     "output_type": "stream",
     "text": [
      "1293\n"
     ]
    },
    {
     "name": "stderr",
     "output_type": "stream",
     "text": [
      "1305it [03:42,  6.40it/s]"
     ]
    },
    {
     "name": "stdout",
     "output_type": "stream",
     "text": [
      "1299\n",
      "1289\n"
     ]
    },
    {
     "name": "stderr",
     "output_type": "stream",
     "text": [
      "\r",
      "1306it [03:43,  4.68it/s]"
     ]
    },
    {
     "name": "stdout",
     "output_type": "stream",
     "text": [
      "1296\n",
      "1288\n",
      "1297\n",
      "None\n",
      "1303\n"
     ]
    },
    {
     "name": "stderr",
     "output_type": "stream",
     "text": [
      "1312it [03:43,  6.91it/s]"
     ]
    },
    {
     "name": "stdout",
     "output_type": "stream",
     "text": [
      "1294\n",
      "1291\n"
     ]
    },
    {
     "name": "stderr",
     "output_type": "stream",
     "text": [
      "\r",
      "1314it [03:43,  8.36it/s]"
     ]
    },
    {
     "name": "stdout",
     "output_type": "stream",
     "text": [
      "1298\n",
      "1304\n",
      "1305\n"
     ]
    },
    {
     "name": "stderr",
     "output_type": "stream",
     "text": [
      "\r",
      "1316it [03:44,  6.78it/s]"
     ]
    },
    {
     "name": "stdout",
     "output_type": "stream",
     "text": [
      "1300\n"
     ]
    },
    {
     "name": "stderr",
     "output_type": "stream",
     "text": [
      "\r",
      "1317it [03:44,  6.02it/s]"
     ]
    },
    {
     "name": "stdout",
     "output_type": "stream",
     "text": [
      "1295\n"
     ]
    },
    {
     "name": "stderr",
     "output_type": "stream",
     "text": [
      "1319it [03:45,  4.20it/s]"
     ]
    },
    {
     "name": "stdout",
     "output_type": "stream",
     "text": [
      "1327\n",
      "1311\n"
     ]
    },
    {
     "name": "stderr",
     "output_type": "stream",
     "text": [
      "\r",
      "1322it [03:45,  6.92it/s]"
     ]
    },
    {
     "name": "stdout",
     "output_type": "stream",
     "text": [
      "1290\n",
      "None\n",
      "1307\n",
      "1309\n"
     ]
    },
    {
     "name": "stderr",
     "output_type": "stream",
     "text": [
      "\r",
      "1324it [03:45,  7.72it/s]"
     ]
    },
    {
     "name": "stdout",
     "output_type": "stream",
     "text": [
      "1312\n",
      "1310\n"
     ]
    },
    {
     "name": "stderr",
     "output_type": "stream",
     "text": [
      "\r",
      "1326it [03:46,  4.11it/s]"
     ]
    },
    {
     "name": "stdout",
     "output_type": "stream",
     "text": [
      "1332\n",
      "1317\n"
     ]
    },
    {
     "name": "stderr",
     "output_type": "stream",
     "text": [
      "1331it [03:46,  6.96it/s]"
     ]
    },
    {
     "name": "stdout",
     "output_type": "stream",
     "text": [
      "1316\n",
      "None\n",
      "None\n",
      "1329\n",
      "1331\n"
     ]
    },
    {
     "name": "stderr",
     "output_type": "stream",
     "text": [
      "1335it [03:48,  4.86it/s]"
     ]
    },
    {
     "name": "stdout",
     "output_type": "stream",
     "text": [
      "1333\n",
      "1330\n",
      "1334\n"
     ]
    },
    {
     "name": "stderr",
     "output_type": "stream",
     "text": [
      "1340it [03:48,  7.63it/s]"
     ]
    },
    {
     "name": "stdout",
     "output_type": "stream",
     "text": [
      "1313\n",
      "None\n",
      "1337\n",
      "1328\n",
      "1315\n"
     ]
    },
    {
     "name": "stderr",
     "output_type": "stream",
     "text": [
      "\r",
      "1342it [03:48,  8.49it/s]"
     ]
    },
    {
     "name": "stdout",
     "output_type": "stream",
     "text": [
      "1314\n",
      "None\n",
      "None\n"
     ]
    },
    {
     "name": "stderr",
     "output_type": "stream",
     "text": [
      "1348it [03:49, 12.33it/s]"
     ]
    },
    {
     "name": "stdout",
     "output_type": "stream",
     "text": [
      "1342\n",
      "1356\n",
      "1336\n",
      "None\n",
      "1345\n",
      "1335\n"
     ]
    },
    {
     "name": "stderr",
     "output_type": "stream",
     "text": [
      "\r",
      "1350it [03:49,  6.27it/s]"
     ]
    },
    {
     "name": "stdout",
     "output_type": "stream",
     "text": [
      "1343\n",
      "1341\n"
     ]
    },
    {
     "name": "stderr",
     "output_type": "stream",
     "text": [
      "\r",
      "1352it [03:50,  6.79it/s]"
     ]
    },
    {
     "name": "stdout",
     "output_type": "stream",
     "text": [
      "1338\n"
     ]
    },
    {
     "name": "stderr",
     "output_type": "stream",
     "text": [
      "\r",
      "1354it [03:50,  4.71it/s]"
     ]
    },
    {
     "name": "stdout",
     "output_type": "stream",
     "text": [
      "1350\n",
      "1340\n"
     ]
    },
    {
     "name": "stderr",
     "output_type": "stream",
     "text": [
      "1356it [03:51,  4.76it/s]"
     ]
    },
    {
     "name": "stdout",
     "output_type": "stream",
     "text": [
      "1347\n",
      "1346\n",
      "None\n",
      "1348\n"
     ]
    },
    {
     "name": "stderr",
     "output_type": "stream",
     "text": [
      "\r",
      "1359it [03:51,  6.73it/s]"
     ]
    },
    {
     "name": "stdout",
     "output_type": "stream",
     "text": [
      "1354\n",
      "1352\n"
     ]
    },
    {
     "name": "stderr",
     "output_type": "stream",
     "text": [
      "1362it [03:52,  5.91it/s]"
     ]
    },
    {
     "name": "stdout",
     "output_type": "stream",
     "text": [
      "1357\n",
      "1349\n"
     ]
    },
    {
     "name": "stderr",
     "output_type": "stream",
     "text": [
      "\r",
      "1363it [03:52,  6.29it/s]"
     ]
    },
    {
     "name": "stdout",
     "output_type": "stream",
     "text": [
      "1353\n"
     ]
    },
    {
     "name": "stderr",
     "output_type": "stream",
     "text": [
      "1365it [03:52,  5.54it/s]"
     ]
    },
    {
     "name": "stdout",
     "output_type": "stream",
     "text": [
      "1344\n",
      "1382\n"
     ]
    },
    {
     "name": "stderr",
     "output_type": "stream",
     "text": [
      "\r",
      "1367it [03:52,  7.45it/s]"
     ]
    },
    {
     "name": "stdout",
     "output_type": "stream",
     "text": [
      "1358\n",
      "1362\n"
     ]
    },
    {
     "name": "stderr",
     "output_type": "stream",
     "text": [
      "1370it [03:53,  5.29it/s]"
     ]
    },
    {
     "name": "stdout",
     "output_type": "stream",
     "text": [
      "1365\n",
      "1374\n",
      "1364\n"
     ]
    },
    {
     "name": "stderr",
     "output_type": "stream",
     "text": [
      "\r",
      "1372it [03:53,  6.89it/s]"
     ]
    },
    {
     "name": "stdout",
     "output_type": "stream",
     "text": [
      "1366\n",
      "1368\n",
      "1361\n"
     ]
    },
    {
     "name": "stderr",
     "output_type": "stream",
     "text": [
      "\r",
      "1374it [03:54,  7.43it/s]"
     ]
    },
    {
     "name": "stdout",
     "output_type": "stream",
     "text": [
      "1378\n"
     ]
    },
    {
     "name": "stderr",
     "output_type": "stream",
     "text": [
      "1377it [03:54,  6.55it/s]"
     ]
    },
    {
     "name": "stdout",
     "output_type": "stream",
     "text": [
      "1371\n",
      "1381\n",
      "1370\n",
      "None\n",
      "None\n",
      "None\n"
     ]
    },
    {
     "name": "stderr",
     "output_type": "stream",
     "text": [
      "\r",
      "1381it [03:54, 11.18it/s]"
     ]
    },
    {
     "name": "stdout",
     "output_type": "stream",
     "text": [
      "1363\n",
      "None\n",
      "None\n",
      "None\n",
      "1376\n"
     ]
    },
    {
     "name": "stderr",
     "output_type": "stream",
     "text": [
      "\r",
      "1386it [03:55, 15.06it/s]"
     ]
    },
    {
     "name": "stdout",
     "output_type": "stream",
     "text": [
      "1380\n",
      "1355\n"
     ]
    },
    {
     "name": "stderr",
     "output_type": "stream",
     "text": [
      "1390it [03:55, 11.36it/s]"
     ]
    },
    {
     "name": "stdout",
     "output_type": "stream",
     "text": [
      "1375\n",
      "1379\n",
      "None\n",
      "None\n",
      "None\n",
      "None\n",
      "None\n",
      "None\n",
      "1390\n",
      "None\n"
     ]
    },
    {
     "name": "stderr",
     "output_type": "stream",
     "text": [
      "\r",
      "1398it [03:55, 14.70it/s]"
     ]
    },
    {
     "name": "stdout",
     "output_type": "stream",
     "text": [
      "1369\n"
     ]
    },
    {
     "name": "stderr",
     "output_type": "stream",
     "text": [
      "\r",
      "1400it [03:56, 11.25it/s]"
     ]
    },
    {
     "name": "stdout",
     "output_type": "stream",
     "text": [
      "1383\n",
      "1389\n",
      "1391\n"
     ]
    },
    {
     "name": "stderr",
     "output_type": "stream",
     "text": [
      "\r",
      "1402it [03:56, 10.29it/s]"
     ]
    },
    {
     "name": "stdout",
     "output_type": "stream",
     "text": [
      "1384\n",
      "1385\n"
     ]
    },
    {
     "name": "stderr",
     "output_type": "stream",
     "text": [
      "\r",
      "1404it [03:57,  5.71it/s]"
     ]
    },
    {
     "name": "stdout",
     "output_type": "stream",
     "text": [
      "1388\n",
      "1386\n"
     ]
    },
    {
     "name": "stderr",
     "output_type": "stream",
     "text": [
      "1407it [03:58,  5.51it/s]"
     ]
    },
    {
     "name": "stdout",
     "output_type": "stream",
     "text": [
      "1392\n",
      "1393\n"
     ]
    },
    {
     "name": "stderr",
     "output_type": "stream",
     "text": [
      "\r",
      "1408it [03:58,  5.70it/s]"
     ]
    },
    {
     "name": "stdout",
     "output_type": "stream",
     "text": [
      "1394\n"
     ]
    },
    {
     "name": "stderr",
     "output_type": "stream",
     "text": [
      "1411it [03:59,  4.36it/s]"
     ]
    },
    {
     "name": "stdout",
     "output_type": "stream",
     "text": [
      "1397\n",
      "1396\n",
      "1398\n",
      "None\n",
      "None\n",
      "None\n"
     ]
    },
    {
     "name": "stderr",
     "output_type": "stream",
     "text": [
      "\r",
      "1417it [03:59,  9.76it/s]"
     ]
    },
    {
     "name": "stdout",
     "output_type": "stream",
     "text": [
      "1401\n",
      "None\n",
      "1406\n"
     ]
    },
    {
     "name": "stderr",
     "output_type": "stream",
     "text": [
      "\r",
      "1419it [03:59,  8.63it/s]"
     ]
    },
    {
     "name": "stdout",
     "output_type": "stream",
     "text": [
      "1411\n",
      "None\n",
      "1400\n",
      "1395\n"
     ]
    },
    {
     "name": "stderr",
     "output_type": "stream",
     "text": [
      "1424it [04:00, 10.73it/s]"
     ]
    },
    {
     "name": "stdout",
     "output_type": "stream",
     "text": [
      "1404\n",
      "1430\n",
      "None\n"
     ]
    },
    {
     "name": "stderr",
     "output_type": "stream",
     "text": [
      "\r",
      "1426it [04:00,  8.75it/s]"
     ]
    },
    {
     "name": "stdout",
     "output_type": "stream",
     "text": [
      "1403\n",
      "1415\n",
      "1417\n"
     ]
    },
    {
     "name": "stderr",
     "output_type": "stream",
     "text": [
      "\r",
      "1428it [04:00,  6.54it/s]"
     ]
    },
    {
     "name": "stdout",
     "output_type": "stream",
     "text": [
      "1418\n",
      "1428\n"
     ]
    },
    {
     "name": "stderr",
     "output_type": "stream",
     "text": [
      "1433it [04:01,  9.50it/s]"
     ]
    },
    {
     "name": "stdout",
     "output_type": "stream",
     "text": [
      "1426\n",
      "1407\n",
      "1419\n",
      "1405\n",
      "None\n",
      "1402\n",
      "None\n",
      "None\n",
      "1399\n"
     ]
    },
    {
     "name": "stderr",
     "output_type": "stream",
     "text": [
      "\r",
      "1439it [04:01, 13.25it/s]"
     ]
    },
    {
     "name": "stdout",
     "output_type": "stream",
     "text": [
      "1416\n"
     ]
    },
    {
     "name": "stderr",
     "output_type": "stream",
     "text": [
      "\r",
      "1441it [04:01, 12.07it/s]"
     ]
    },
    {
     "name": "stdout",
     "output_type": "stream",
     "text": [
      "1429\n",
      "None\n",
      "None\n"
     ]
    },
    {
     "name": "stderr",
     "output_type": "stream",
     "text": [
      "\r",
      "1443it [04:02, 10.49it/s]"
     ]
    },
    {
     "name": "stdout",
     "output_type": "stream",
     "text": [
      "1434\n"
     ]
    },
    {
     "name": "stderr",
     "output_type": "stream",
     "text": [
      "\r",
      "1445it [04:02,  6.13it/s]"
     ]
    },
    {
     "name": "stdout",
     "output_type": "stream",
     "text": [
      "1431\n",
      "1436\n"
     ]
    },
    {
     "name": "stderr",
     "output_type": "stream",
     "text": [
      "1447it [04:03,  4.50it/s]"
     ]
    },
    {
     "name": "stdout",
     "output_type": "stream",
     "text": [
      "1432\n",
      "1437\n",
      "1452\n"
     ]
    },
    {
     "name": "stderr",
     "output_type": "stream",
     "text": [
      "1455it [04:04,  9.30it/s]"
     ]
    },
    {
     "name": "stdout",
     "output_type": "stream",
     "text": [
      "1438\n",
      "None\n",
      "1445\n",
      "None\n",
      "None\n",
      "None\n",
      "1439\n",
      "1433\n"
     ]
    },
    {
     "name": "stderr",
     "output_type": "stream",
     "text": [
      "\r",
      "1458it [04:04,  9.48it/s]"
     ]
    },
    {
     "name": "stdout",
     "output_type": "stream",
     "text": [
      "1456\n",
      "1435\n",
      "1457\n"
     ]
    },
    {
     "name": "stderr",
     "output_type": "stream",
     "text": [
      "1462it [04:05,  6.43it/s]"
     ]
    },
    {
     "name": "stdout",
     "output_type": "stream",
     "text": [
      "1441\n",
      "1448\n",
      "1453\n",
      "1447\n"
     ]
    },
    {
     "name": "stderr",
     "output_type": "stream",
     "text": [
      "\r",
      "1464it [04:06,  5.93it/s]"
     ]
    },
    {
     "name": "stdout",
     "output_type": "stream",
     "text": [
      "1440\n",
      "1463\n"
     ]
    },
    {
     "name": "stderr",
     "output_type": "stream",
     "text": [
      "\r",
      "1466it [04:06,  4.93it/s]"
     ]
    },
    {
     "name": "stdout",
     "output_type": "stream",
     "text": [
      "1462\n"
     ]
    },
    {
     "name": "stderr",
     "output_type": "stream",
     "text": [
      "1473it [04:07, 10.23it/s]"
     ]
    },
    {
     "name": "stdout",
     "output_type": "stream",
     "text": [
      "1465\n",
      "1469\n",
      "1455\n",
      "1451\n",
      "None\n",
      "1476\n",
      "1460\n",
      "1461\n",
      "1450\n"
     ]
    },
    {
     "name": "stderr",
     "output_type": "stream",
     "text": [
      "\r",
      "1476it [04:07,  7.68it/s]"
     ]
    },
    {
     "name": "stdout",
     "output_type": "stream",
     "text": [
      "1470\n",
      "1488\n",
      "1458\n"
     ]
    },
    {
     "name": "stderr",
     "output_type": "stream",
     "text": [
      "\r",
      "1479it [04:07,  8.32it/s]"
     ]
    },
    {
     "name": "stdout",
     "output_type": "stream",
     "text": [
      "1474\n"
     ]
    },
    {
     "name": "stderr",
     "output_type": "stream",
     "text": [
      "\r",
      "1481it [04:08,  7.34it/s]"
     ]
    },
    {
     "name": "stdout",
     "output_type": "stream",
     "text": [
      "1473\n",
      "None\n",
      "1486\n"
     ]
    },
    {
     "name": "stderr",
     "output_type": "stream",
     "text": [
      "\r",
      "1483it [04:08,  7.01it/s]"
     ]
    },
    {
     "name": "stdout",
     "output_type": "stream",
     "text": [
      "1468\n"
     ]
    },
    {
     "name": "stderr",
     "output_type": "stream",
     "text": [
      "\r",
      "1484it [04:09,  5.32it/s]"
     ]
    },
    {
     "name": "stdout",
     "output_type": "stream",
     "text": [
      "1478\n"
     ]
    },
    {
     "name": "stderr",
     "output_type": "stream",
     "text": [
      "\r",
      "1485it [04:09,  4.95it/s]"
     ]
    },
    {
     "name": "stdout",
     "output_type": "stream",
     "text": [
      "1477\n"
     ]
    },
    {
     "name": "stderr",
     "output_type": "stream",
     "text": [
      "\r",
      "1486it [04:09,  3.73it/s]"
     ]
    },
    {
     "name": "stdout",
     "output_type": "stream",
     "text": [
      "1479\n"
     ]
    },
    {
     "name": "stderr",
     "output_type": "stream",
     "text": [
      "1488it [04:10,  4.08it/s]"
     ]
    },
    {
     "name": "stdout",
     "output_type": "stream",
     "text": [
      "1504\n",
      "1481\n"
     ]
    },
    {
     "name": "stderr",
     "output_type": "stream",
     "text": [
      "1490it [04:10,  4.96it/s]"
     ]
    },
    {
     "name": "stdout",
     "output_type": "stream",
     "text": [
      "1459\n",
      "1491\n"
     ]
    },
    {
     "name": "stderr",
     "output_type": "stream",
     "text": [
      "\r",
      "1491it [04:10,  4.86it/s]"
     ]
    },
    {
     "name": "stdout",
     "output_type": "stream",
     "text": [
      "1489\n",
      "1492\n"
     ]
    },
    {
     "name": "stderr",
     "output_type": "stream",
     "text": [
      "\r",
      "1493it [04:11,  3.95it/s]"
     ]
    },
    {
     "name": "stdout",
     "output_type": "stream",
     "text": [
      "1487\n",
      "1495\n",
      "1496\n"
     ]
    },
    {
     "name": "stderr",
     "output_type": "stream",
     "text": [
      "1499it [04:12,  7.19it/s]"
     ]
    },
    {
     "name": "stdout",
     "output_type": "stream",
     "text": [
      "1494\n",
      "1475\n",
      "1507\n",
      "1485\n",
      "1505\n"
     ]
    },
    {
     "name": "stderr",
     "output_type": "stream",
     "text": [
      "1502it [04:13,  4.90it/s]"
     ]
    },
    {
     "name": "stdout",
     "output_type": "stream",
     "text": [
      "1508\n",
      "1497\n",
      "None\n",
      "1498\n",
      "None\n",
      "None\n",
      "None\n",
      "None\n",
      "1502\n"
     ]
    },
    {
     "name": "stderr",
     "output_type": "stream",
     "text": [
      "\r",
      "1510it [04:13, 10.17it/s]"
     ]
    },
    {
     "name": "stdout",
     "output_type": "stream",
     "text": [
      "1506\n",
      "1510\n",
      "1513\n"
     ]
    },
    {
     "name": "stderr",
     "output_type": "stream",
     "text": [
      "1515it [04:13, 10.15it/s]"
     ]
    },
    {
     "name": "stdout",
     "output_type": "stream",
     "text": [
      "1503\n",
      "1490\n",
      "1499\n",
      "None\n",
      "None\n",
      "None\n"
     ]
    },
    {
     "name": "stderr",
     "output_type": "stream",
     "text": [
      "\r",
      "1520it [04:14, 12.76it/s]"
     ]
    },
    {
     "name": "stdout",
     "output_type": "stream",
     "text": [
      "1515\n",
      "1514\n",
      "1523\n"
     ]
    },
    {
     "name": "stderr",
     "output_type": "stream",
     "text": [
      "\r",
      "1522it [04:14,  7.79it/s]"
     ]
    },
    {
     "name": "stdout",
     "output_type": "stream",
     "text": [
      "1512\n",
      "1500\n"
     ]
    },
    {
     "name": "stderr",
     "output_type": "stream",
     "text": [
      "\r",
      "1524it [04:15,  7.68it/s]"
     ]
    },
    {
     "name": "stdout",
     "output_type": "stream",
     "text": [
      "1493\n",
      "None\n",
      "1518\n",
      "None\n",
      "None\n"
     ]
    },
    {
     "name": "stderr",
     "output_type": "stream",
     "text": [
      "\r",
      "1529it [04:15,  8.97it/s]"
     ]
    },
    {
     "name": "stdout",
     "output_type": "stream",
     "text": [
      "1520\n",
      "1516\n"
     ]
    },
    {
     "name": "stderr",
     "output_type": "stream",
     "text": [
      "1533it [04:16,  9.19it/s]"
     ]
    },
    {
     "name": "stdout",
     "output_type": "stream",
     "text": [
      "1526\n",
      "1517\n",
      "1509\n"
     ]
    },
    {
     "name": "stderr",
     "output_type": "stream",
     "text": [
      "1537it [04:16, 10.16it/s]"
     ]
    },
    {
     "name": "stdout",
     "output_type": "stream",
     "text": [
      "1531\n",
      "1528\n",
      "1519\n",
      "None\n",
      "1541\n"
     ]
    },
    {
     "name": "stderr",
     "output_type": "stream",
     "text": [
      "\r",
      "1539it [04:16,  7.04it/s]"
     ]
    },
    {
     "name": "stdout",
     "output_type": "stream",
     "text": [
      "1539\n",
      "1522\n",
      "None\n"
     ]
    },
    {
     "name": "stderr",
     "output_type": "stream",
     "text": [
      "1547it [04:17, 14.06it/s]"
     ]
    },
    {
     "name": "stdout",
     "output_type": "stream",
     "text": [
      "1525\n",
      "None\n",
      "None\n",
      "None\n",
      "None\n",
      "1529\n",
      "1521\n"
     ]
    },
    {
     "name": "stderr",
     "output_type": "stream",
     "text": [
      "\r",
      "1550it [04:17, 15.92it/s]"
     ]
    },
    {
     "name": "stdout",
     "output_type": "stream",
     "text": [
      "1543\n",
      "None\n",
      "1527\n"
     ]
    },
    {
     "name": "stderr",
     "output_type": "stream",
     "text": [
      "\r",
      "1553it [04:17, 14.60it/s]"
     ]
    },
    {
     "name": "stdout",
     "output_type": "stream",
     "text": [
      "1532\n",
      "None\n",
      "1545\n"
     ]
    },
    {
     "name": "stderr",
     "output_type": "stream",
     "text": [
      "\r",
      "1555it [04:18,  6.13it/s]"
     ]
    },
    {
     "name": "stdout",
     "output_type": "stream",
     "text": [
      "1524\n"
     ]
    },
    {
     "name": "stderr",
     "output_type": "stream",
     "text": [
      "\r",
      "1557it [04:19,  4.90it/s]"
     ]
    },
    {
     "name": "stdout",
     "output_type": "stream",
     "text": [
      "1530\n",
      "1534\n",
      "None\n",
      "None\n"
     ]
    },
    {
     "name": "stderr",
     "output_type": "stream",
     "text": [
      "\r",
      "1560it [04:19,  5.82it/s]"
     ]
    },
    {
     "name": "stdout",
     "output_type": "stream",
     "text": [
      "1544\n",
      "1550\n",
      "None\n"
     ]
    },
    {
     "name": "stderr",
     "output_type": "stream",
     "text": [
      "1565it [04:20,  6.39it/s]"
     ]
    },
    {
     "name": "stdout",
     "output_type": "stream",
     "text": [
      "1564\n",
      "1553\n",
      "1540\n"
     ]
    },
    {
     "name": "stderr",
     "output_type": "stream",
     "text": [
      "\r",
      "1568it [04:20,  8.38it/s]"
     ]
    },
    {
     "name": "stdout",
     "output_type": "stream",
     "text": [
      "1561\n",
      "1542\n",
      "1552\n"
     ]
    },
    {
     "name": "stderr",
     "output_type": "stream",
     "text": [
      "\r",
      "1570it [04:20,  7.76it/s]"
     ]
    },
    {
     "name": "stdout",
     "output_type": "stream",
     "text": [
      "1560\n",
      "1549\n",
      "1554\n",
      "1559\n"
     ]
    },
    {
     "name": "stderr",
     "output_type": "stream",
     "text": [
      "1575it [04:21,  8.18it/s]"
     ]
    },
    {
     "name": "stdout",
     "output_type": "stream",
     "text": [
      "1581\n",
      "1569\n",
      "1563\n"
     ]
    },
    {
     "name": "stderr",
     "output_type": "stream",
     "text": [
      "\r",
      "1577it [04:21,  9.34it/s]"
     ]
    },
    {
     "name": "stdout",
     "output_type": "stream",
     "text": [
      "1562\n",
      "1570\n",
      "None\n"
     ]
    },
    {
     "name": "stderr",
     "output_type": "stream",
     "text": [
      "\r",
      "1579it [04:21,  9.05it/s]"
     ]
    },
    {
     "name": "stdout",
     "output_type": "stream",
     "text": [
      "1568\n"
     ]
    },
    {
     "name": "stderr",
     "output_type": "stream",
     "text": [
      "\r",
      "1581it [04:22,  4.52it/s]"
     ]
    },
    {
     "name": "stdout",
     "output_type": "stream",
     "text": [
      "1565\n",
      "1579\n"
     ]
    },
    {
     "name": "stderr",
     "output_type": "stream",
     "text": [
      "1583it [04:23,  4.40it/s]"
     ]
    },
    {
     "name": "stdout",
     "output_type": "stream",
     "text": [
      "1556\n",
      "1578\n"
     ]
    },
    {
     "name": "stderr",
     "output_type": "stream",
     "text": [
      "\r",
      "1584it [04:23,  3.29it/s]"
     ]
    },
    {
     "name": "stdout",
     "output_type": "stream",
     "text": [
      "1586\n",
      "1582\n",
      "1585\n"
     ]
    },
    {
     "name": "stderr",
     "output_type": "stream",
     "text": [
      "\r",
      "1587it [04:24,  4.70it/s]"
     ]
    },
    {
     "name": "stdout",
     "output_type": "stream",
     "text": [
      "1551\n"
     ]
    },
    {
     "name": "stderr",
     "output_type": "stream",
     "text": [
      "\r",
      "1588it [04:24,  4.49it/s]"
     ]
    },
    {
     "name": "stdout",
     "output_type": "stream",
     "text": [
      "1597\n",
      "1577\n"
     ]
    },
    {
     "name": "stderr",
     "output_type": "stream",
     "text": [
      "1591it [04:25,  4.02it/s]"
     ]
    },
    {
     "name": "stdout",
     "output_type": "stream",
     "text": [
      "1593\n",
      "1590\n"
     ]
    },
    {
     "name": "stderr",
     "output_type": "stream",
     "text": [
      "1593it [04:26,  3.66it/s]"
     ]
    },
    {
     "name": "stdout",
     "output_type": "stream",
     "text": [
      "1594\n",
      "1572\n"
     ]
    },
    {
     "name": "stderr",
     "output_type": "stream",
     "text": [
      "\r",
      "1594it [04:26,  4.16it/s]"
     ]
    },
    {
     "name": "stdout",
     "output_type": "stream",
     "text": [
      "1599\n",
      "1584\n"
     ]
    },
    {
     "name": "stderr",
     "output_type": "stream",
     "text": [
      "\r",
      "1596it [04:26,  3.57it/s]"
     ]
    },
    {
     "name": "stdout",
     "output_type": "stream",
     "text": [
      "1606\n",
      "1587\n",
      "1596\n"
     ]
    },
    {
     "name": "stderr",
     "output_type": "stream",
     "text": [
      "1601it [04:27,  6.77it/s]"
     ]
    },
    {
     "name": "stdout",
     "output_type": "stream",
     "text": [
      "1614\n",
      "1602\n",
      "1605\n",
      "None\n",
      "1604\n"
     ]
    },
    {
     "name": "stderr",
     "output_type": "stream",
     "text": [
      "\r",
      "1604it [04:27,  8.84it/s]"
     ]
    },
    {
     "name": "stdout",
     "output_type": "stream",
     "text": [
      "1609\n",
      "1603\n",
      "1598\n"
     ]
    },
    {
     "name": "stderr",
     "output_type": "stream",
     "text": [
      "1609it [04:27, 10.32it/s]"
     ]
    },
    {
     "name": "stdout",
     "output_type": "stream",
     "text": [
      "1600\n",
      "1566\n",
      "1610\n",
      "1612\n",
      "1591\n"
     ]
    },
    {
     "name": "stderr",
     "output_type": "stream",
     "text": [
      "\r",
      "1612it [04:28,  7.59it/s]"
     ]
    },
    {
     "name": "stdout",
     "output_type": "stream",
     "text": [
      "1611\n",
      "1613\n"
     ]
    },
    {
     "name": "stderr",
     "output_type": "stream",
     "text": [
      "\r",
      "1614it [04:28,  7.36it/s]"
     ]
    },
    {
     "name": "stdout",
     "output_type": "stream",
     "text": [
      "1595\n",
      "1607\n"
     ]
    },
    {
     "name": "stderr",
     "output_type": "stream",
     "text": [
      "\r",
      "1616it [04:28,  7.10it/s]"
     ]
    },
    {
     "name": "stdout",
     "output_type": "stream",
     "text": [
      "1601\n"
     ]
    },
    {
     "name": "stderr",
     "output_type": "stream",
     "text": [
      "1619it [04:29,  6.02it/s]"
     ]
    },
    {
     "name": "stdout",
     "output_type": "stream",
     "text": [
      "1619\n",
      "1617\n",
      "1618\n"
     ]
    },
    {
     "name": "stderr",
     "output_type": "stream",
     "text": [
      "\r",
      "1620it [04:29,  5.40it/s]"
     ]
    },
    {
     "name": "stdout",
     "output_type": "stream",
     "text": [
      "1616\n"
     ]
    },
    {
     "name": "stderr",
     "output_type": "stream",
     "text": [
      "\r",
      "1621it [04:30,  4.42it/s]"
     ]
    },
    {
     "name": "stdout",
     "output_type": "stream",
     "text": [
      "1620\n",
      "1615\n"
     ]
    },
    {
     "name": "stderr",
     "output_type": "stream",
     "text": [
      "\r",
      "1623it [04:32,  2.23it/s]"
     ]
    },
    {
     "name": "stdout",
     "output_type": "stream",
     "text": [
      "1631\n",
      "1642\n",
      "None\n",
      "None\n"
     ]
    },
    {
     "name": "stderr",
     "output_type": "stream",
     "text": [
      "1629it [04:32,  5.05it/s]"
     ]
    },
    {
     "name": "stdout",
     "output_type": "stream",
     "text": [
      "1643\n",
      "1630\n",
      "1625\n"
     ]
    },
    {
     "name": "stderr",
     "output_type": "stream",
     "text": [
      "1633it [04:32,  7.50it/s]"
     ]
    },
    {
     "name": "stdout",
     "output_type": "stream",
     "text": [
      "1633\n",
      "None\n",
      "1637\n",
      "1638\n"
     ]
    },
    {
     "name": "stderr",
     "output_type": "stream",
     "text": [
      "1637it [04:33,  7.96it/s]"
     ]
    },
    {
     "name": "stdout",
     "output_type": "stream",
     "text": [
      "1635\n",
      "1624\n",
      "1627\n",
      "1644\n"
     ]
    },
    {
     "name": "stderr",
     "output_type": "stream",
     "text": [
      "\r",
      "1639it [04:33,  9.60it/s]"
     ]
    },
    {
     "name": "stdout",
     "output_type": "stream",
     "text": [
      "1626\n",
      "1634\n",
      "1639\n",
      "1622\n"
     ]
    },
    {
     "name": "stderr",
     "output_type": "stream",
     "text": [
      "\r",
      "1642it [04:33, 10.35it/s]"
     ]
    },
    {
     "name": "stdout",
     "output_type": "stream",
     "text": [
      "1629\n",
      "1641\n",
      "None\n"
     ]
    },
    {
     "name": "stderr",
     "output_type": "stream",
     "text": [
      "\r",
      "1645it [04:33, 10.94it/s]"
     ]
    },
    {
     "name": "stdout",
     "output_type": "stream",
     "text": [
      "1645\n"
     ]
    },
    {
     "name": "stderr",
     "output_type": "stream",
     "text": [
      "\r",
      "1647it [04:34,  8.31it/s]"
     ]
    },
    {
     "name": "stdout",
     "output_type": "stream",
     "text": [
      "1646\n",
      "1621\n",
      "None\n"
     ]
    },
    {
     "name": "stderr",
     "output_type": "stream",
     "text": [
      "\r",
      "1649it [04:34,  9.74it/s]"
     ]
    },
    {
     "name": "stdout",
     "output_type": "stream",
     "text": [
      "1628\n",
      "1636\n"
     ]
    },
    {
     "name": "stderr",
     "output_type": "stream",
     "text": [
      "\r",
      "1651it [04:35,  5.16it/s]"
     ]
    },
    {
     "name": "stdout",
     "output_type": "stream",
     "text": [
      "1623\n"
     ]
    },
    {
     "name": "stderr",
     "output_type": "stream",
     "text": [
      "\r",
      "1652it [04:35,  4.47it/s]"
     ]
    },
    {
     "name": "stdout",
     "output_type": "stream",
     "text": [
      "1640\n"
     ]
    },
    {
     "name": "stderr",
     "output_type": "stream",
     "text": [
      "\r",
      "1653it [04:35,  4.28it/s]"
     ]
    },
    {
     "name": "stdout",
     "output_type": "stream",
     "text": [
      "1651\n",
      "None\n"
     ]
    },
    {
     "name": "stderr",
     "output_type": "stream",
     "text": [
      "\r",
      "1655it [04:36,  4.66it/s]"
     ]
    },
    {
     "name": "stdout",
     "output_type": "stream",
     "text": [
      "1648\n",
      "1652\n",
      "1653\n",
      "None\n",
      "None\n",
      "1649\n"
     ]
    },
    {
     "name": "stderr",
     "output_type": "stream",
     "text": [
      "1662it [04:36,  6.93it/s]"
     ]
    },
    {
     "name": "stdout",
     "output_type": "stream",
     "text": [
      "1647\n",
      "1650\n"
     ]
    },
    {
     "name": "stderr",
     "output_type": "stream",
     "text": [
      "\r",
      "1663it [04:36,  7.17it/s]"
     ]
    },
    {
     "name": "stdout",
     "output_type": "stream",
     "text": [
      "1666\n",
      "1658\n"
     ]
    },
    {
     "name": "stderr",
     "output_type": "stream",
     "text": [
      "\r",
      "1665it [04:37,  6.31it/s]"
     ]
    },
    {
     "name": "stdout",
     "output_type": "stream",
     "text": [
      "1677\n",
      "1664\n"
     ]
    },
    {
     "name": "stderr",
     "output_type": "stream",
     "text": [
      "\r",
      "1667it [04:37,  6.88it/s]"
     ]
    },
    {
     "name": "stdout",
     "output_type": "stream",
     "text": [
      "1657\n"
     ]
    },
    {
     "name": "stderr",
     "output_type": "stream",
     "text": [
      "\r",
      "1668it [04:37,  6.37it/s]"
     ]
    },
    {
     "name": "stdout",
     "output_type": "stream",
     "text": [
      "1665\n",
      "1660\n"
     ]
    },
    {
     "name": "stderr",
     "output_type": "stream",
     "text": [
      "1671it [04:38,  4.47it/s]"
     ]
    },
    {
     "name": "stdout",
     "output_type": "stream",
     "text": [
      "1659\n",
      "1667\n"
     ]
    },
    {
     "name": "stderr",
     "output_type": "stream",
     "text": [
      "1677it [04:39, 10.05it/s]"
     ]
    },
    {
     "name": "stdout",
     "output_type": "stream",
     "text": [
      "1672\n",
      "1663\n",
      "None\n",
      "None\n",
      "1670\n",
      "1669\n"
     ]
    },
    {
     "name": "stderr",
     "output_type": "stream",
     "text": [
      "\r",
      "1679it [04:39, 10.83it/s]"
     ]
    },
    {
     "name": "stdout",
     "output_type": "stream",
     "text": [
      "1675\n",
      "1680\n",
      "1679\n"
     ]
    },
    {
     "name": "stderr",
     "output_type": "stream",
     "text": [
      "\r",
      "1681it [04:39, 10.44it/s]"
     ]
    },
    {
     "name": "stdout",
     "output_type": "stream",
     "text": [
      "1654\n",
      "1673\n",
      "1668\n"
     ]
    },
    {
     "name": "stderr",
     "output_type": "stream",
     "text": [
      "\r",
      "1684it [04:39,  8.80it/s]"
     ]
    },
    {
     "name": "stdout",
     "output_type": "stream",
     "text": [
      "1662\n",
      "1676\n"
     ]
    },
    {
     "name": "stderr",
     "output_type": "stream",
     "text": [
      "1687it [04:40,  7.28it/s]"
     ]
    },
    {
     "name": "stdout",
     "output_type": "stream",
     "text": [
      "1683\n",
      "1681\n"
     ]
    },
    {
     "name": "stderr",
     "output_type": "stream",
     "text": [
      "\r",
      "1688it [04:41,  3.45it/s]"
     ]
    },
    {
     "name": "stdout",
     "output_type": "stream",
     "text": [
      "1682\n",
      "1671\n",
      "None\n"
     ]
    },
    {
     "name": "stderr",
     "output_type": "stream",
     "text": [
      "1693it [04:41,  5.79it/s]"
     ]
    },
    {
     "name": "stdout",
     "output_type": "stream",
     "text": [
      "1697\n",
      "1687\n",
      "1699\n"
     ]
    },
    {
     "name": "stderr",
     "output_type": "stream",
     "text": [
      "\r",
      "1694it [04:42,  5.67it/s]"
     ]
    },
    {
     "name": "stdout",
     "output_type": "stream",
     "text": [
      "1695\n"
     ]
    },
    {
     "name": "stderr",
     "output_type": "stream",
     "text": [
      "1696it [04:42,  5.56it/s]"
     ]
    },
    {
     "name": "stdout",
     "output_type": "stream",
     "text": [
      "1692\n",
      "1685\n",
      "1713\n",
      "1694\n",
      "1693\n"
     ]
    },
    {
     "name": "stderr",
     "output_type": "stream",
     "text": [
      "\r",
      "1700it [04:42,  6.90it/s]"
     ]
    },
    {
     "name": "stdout",
     "output_type": "stream",
     "text": [
      "1690\n",
      "None\n",
      "None\n",
      "None\n",
      "1696\n"
     ]
    },
    {
     "name": "stderr",
     "output_type": "stream",
     "text": [
      "\r",
      "1705it [04:43,  9.85it/s]"
     ]
    },
    {
     "name": "stdout",
     "output_type": "stream",
     "text": [
      "1698\n"
     ]
    },
    {
     "name": "stderr",
     "output_type": "stream",
     "text": [
      "\r",
      "1707it [04:43,  8.11it/s]"
     ]
    },
    {
     "name": "stdout",
     "output_type": "stream",
     "text": [
      "1701\n",
      "1700\n"
     ]
    },
    {
     "name": "stderr",
     "output_type": "stream",
     "text": [
      "\r",
      "1708it [04:43,  7.95it/s]"
     ]
    },
    {
     "name": "stdout",
     "output_type": "stream",
     "text": [
      "1710\n",
      "1686\n",
      "1707\n"
     ]
    },
    {
     "name": "stderr",
     "output_type": "stream",
     "text": [
      "\r",
      "1711it [04:44,  8.63it/s]"
     ]
    },
    {
     "name": "stdout",
     "output_type": "stream",
     "text": [
      "1706\n"
     ]
    },
    {
     "name": "stderr",
     "output_type": "stream",
     "text": [
      "1714it [04:45,  5.71it/s]"
     ]
    },
    {
     "name": "stdout",
     "output_type": "stream",
     "text": [
      "1709\n",
      "1708\n",
      "1702\n"
     ]
    },
    {
     "name": "stderr",
     "output_type": "stream",
     "text": [
      "1716it [04:45,  6.36it/s]"
     ]
    },
    {
     "name": "stdout",
     "output_type": "stream",
     "text": [
      "1703\n",
      "1715\n"
     ]
    },
    {
     "name": "stderr",
     "output_type": "stream",
     "text": [
      "\r",
      "1717it [04:45,  5.90it/s]"
     ]
    },
    {
     "name": "stdout",
     "output_type": "stream",
     "text": [
      "1714\n",
      "None\n"
     ]
    },
    {
     "name": "stderr",
     "output_type": "stream",
     "text": [
      "\r",
      "1719it [04:45,  6.14it/s]"
     ]
    },
    {
     "name": "stdout",
     "output_type": "stream",
     "text": [
      "1712\n"
     ]
    },
    {
     "name": "stderr",
     "output_type": "stream",
     "text": [
      "1721it [04:46,  6.04it/s]"
     ]
    },
    {
     "name": "stdout",
     "output_type": "stream",
     "text": [
      "1711\n",
      "1691\n"
     ]
    },
    {
     "name": "stderr",
     "output_type": "stream",
     "text": [
      "1723it [04:46,  6.55it/s]"
     ]
    },
    {
     "name": "stdout",
     "output_type": "stream",
     "text": [
      "1721\n",
      "1716\n"
     ]
    },
    {
     "name": "stderr",
     "output_type": "stream",
     "text": [
      "\r",
      "1724it [04:46,  4.01it/s]"
     ]
    },
    {
     "name": "stdout",
     "output_type": "stream",
     "text": [
      "1717\n"
     ]
    },
    {
     "name": "stderr",
     "output_type": "stream",
     "text": [
      "1728it [04:47,  6.64it/s]"
     ]
    },
    {
     "name": "stdout",
     "output_type": "stream",
     "text": [
      "1724\n",
      "1729\n",
      "1718\n",
      "1736\n",
      "1730\n"
     ]
    },
    {
     "name": "stderr",
     "output_type": "stream",
     "text": [
      "\r",
      "1730it [04:47,  6.84it/s]"
     ]
    },
    {
     "name": "stdout",
     "output_type": "stream",
     "text": [
      "1727\n",
      "1725\n",
      "1719\n"
     ]
    },
    {
     "name": "stderr",
     "output_type": "stream",
     "text": [
      "\r",
      "1733it [04:48,  7.41it/s]"
     ]
    },
    {
     "name": "stdout",
     "output_type": "stream",
     "text": [
      "1728\n"
     ]
    },
    {
     "name": "stderr",
     "output_type": "stream",
     "text": [
      "\r",
      "1734it [04:48,  6.51it/s]"
     ]
    },
    {
     "name": "stdout",
     "output_type": "stream",
     "text": [
      "1722\n"
     ]
    },
    {
     "name": "stderr",
     "output_type": "stream",
     "text": [
      "1737it [04:49,  4.59it/s]"
     ]
    },
    {
     "name": "stdout",
     "output_type": "stream",
     "text": [
      "1726\n",
      "1734\n",
      "1735\n"
     ]
    },
    {
     "name": "stderr",
     "output_type": "stream",
     "text": [
      "1740it [04:50,  4.97it/s]"
     ]
    },
    {
     "name": "stdout",
     "output_type": "stream",
     "text": [
      "1742\n",
      "1723\n",
      "1744\n",
      "None\n",
      "None\n"
     ]
    },
    {
     "name": "stderr",
     "output_type": "stream",
     "text": [
      "\r",
      "1743it [04:50,  7.50it/s]"
     ]
    },
    {
     "name": "stdout",
     "output_type": "stream",
     "text": [
      "1741\n",
      "None\n"
     ]
    },
    {
     "name": "stderr",
     "output_type": "stream",
     "text": [
      "1748it [04:50,  9.02it/s]"
     ]
    },
    {
     "name": "stdout",
     "output_type": "stream",
     "text": [
      "1739\n",
      "None\n",
      "1740\n",
      "1760\n"
     ]
    },
    {
     "name": "stderr",
     "output_type": "stream",
     "text": [
      "\r",
      "1750it [04:50,  9.65it/s]"
     ]
    },
    {
     "name": "stdout",
     "output_type": "stream",
     "text": [
      "1761\n",
      "1751\n"
     ]
    },
    {
     "name": "stderr",
     "output_type": "stream",
     "text": [
      "1756it [04:51, 12.73it/s]"
     ]
    },
    {
     "name": "stdout",
     "output_type": "stream",
     "text": [
      "1745\n",
      "None\n",
      "None\n",
      "None\n",
      "1753\n",
      "1747\n"
     ]
    },
    {
     "name": "stderr",
     "output_type": "stream",
     "text": [
      "\r",
      "1758it [04:51, 13.19it/s]"
     ]
    },
    {
     "name": "stdout",
     "output_type": "stream",
     "text": [
      "1749\n",
      "1750\n",
      "1743\n"
     ]
    },
    {
     "name": "stderr",
     "output_type": "stream",
     "text": [
      "\r",
      "1760it [04:51, 11.75it/s]"
     ]
    },
    {
     "name": "stdout",
     "output_type": "stream",
     "text": [
      "1754\n",
      "1746\n"
     ]
    },
    {
     "name": "stderr",
     "output_type": "stream",
     "text": [
      "\r",
      "1762it [04:52,  6.08it/s]"
     ]
    },
    {
     "name": "stdout",
     "output_type": "stream",
     "text": [
      "1766\n",
      "1737\n"
     ]
    },
    {
     "name": "stderr",
     "output_type": "stream",
     "text": [
      "1765it [04:53,  5.28it/s]"
     ]
    },
    {
     "name": "stdout",
     "output_type": "stream",
     "text": [
      "1758\n",
      "1752\n"
     ]
    },
    {
     "name": "stderr",
     "output_type": "stream",
     "text": [
      "1767it [04:53,  5.38it/s]"
     ]
    },
    {
     "name": "stdout",
     "output_type": "stream",
     "text": [
      "1759\n",
      "1755\n",
      "1738\n"
     ]
    },
    {
     "name": "stderr",
     "output_type": "stream",
     "text": [
      "\r",
      "1771it [04:53,  8.90it/s]"
     ]
    },
    {
     "name": "stdout",
     "output_type": "stream",
     "text": [
      "1763\n",
      "1757\n",
      "1756\n"
     ]
    },
    {
     "name": "stderr",
     "output_type": "stream",
     "text": [
      "\r",
      "1773it [04:54,  6.40it/s]"
     ]
    },
    {
     "name": "stdout",
     "output_type": "stream",
     "text": [
      "1765\n",
      "1786\n",
      "None\n",
      "1762\n"
     ]
    },
    {
     "name": "stderr",
     "output_type": "stream",
     "text": [
      "\r",
      "1776it [04:54,  5.90it/s]"
     ]
    },
    {
     "name": "stdout",
     "output_type": "stream",
     "text": [
      "1764\n"
     ]
    },
    {
     "name": "stderr",
     "output_type": "stream",
     "text": [
      "\r",
      "1777it [04:55,  4.19it/s]"
     ]
    },
    {
     "name": "stdout",
     "output_type": "stream",
     "text": [
      "1769\n",
      "1770\n",
      "1780\n"
     ]
    },
    {
     "name": "stderr",
     "output_type": "stream",
     "text": [
      "1781it [04:56,  5.11it/s]"
     ]
    },
    {
     "name": "stdout",
     "output_type": "stream",
     "text": [
      "1767\n",
      "1787\n"
     ]
    },
    {
     "name": "stderr",
     "output_type": "stream",
     "text": [
      "\r",
      "1782it [04:56,  5.45it/s]"
     ]
    },
    {
     "name": "stdout",
     "output_type": "stream",
     "text": [
      "1778\n"
     ]
    },
    {
     "name": "stderr",
     "output_type": "stream",
     "text": [
      "\r",
      "1783it [04:56,  5.23it/s]"
     ]
    },
    {
     "name": "stdout",
     "output_type": "stream",
     "text": [
      "1790\n"
     ]
    },
    {
     "name": "stderr",
     "output_type": "stream",
     "text": [
      "1789it [04:56, 10.03it/s]"
     ]
    },
    {
     "name": "stdout",
     "output_type": "stream",
     "text": [
      "1775\n",
      "1785\n",
      "1800\n",
      "1768\n",
      "1779\n",
      "1797\n",
      "1788\n"
     ]
    },
    {
     "name": "stderr",
     "output_type": "stream",
     "text": [
      "\r",
      "1791it [04:57,  8.82it/s]"
     ]
    },
    {
     "name": "stdout",
     "output_type": "stream",
     "text": [
      "1789\n"
     ]
    },
    {
     "name": "stderr",
     "output_type": "stream",
     "text": [
      "\r",
      "1793it [04:57,  6.21it/s]"
     ]
    },
    {
     "name": "stdout",
     "output_type": "stream",
     "text": [
      "1781\n",
      "1792\n"
     ]
    },
    {
     "name": "stderr",
     "output_type": "stream",
     "text": [
      "\r",
      "1795it [04:57,  7.63it/s]"
     ]
    },
    {
     "name": "stdout",
     "output_type": "stream",
     "text": [
      "1791\n",
      "1773\n",
      "1798\n"
     ]
    },
    {
     "name": "stderr",
     "output_type": "stream",
     "text": [
      "1798it [04:58,  5.18it/s]"
     ]
    },
    {
     "name": "stdout",
     "output_type": "stream",
     "text": [
      "1794\n",
      "1796\n",
      "1801\n",
      "1802\n"
     ]
    },
    {
     "name": "stderr",
     "output_type": "stream",
     "text": [
      "1803it [04:59,  8.48it/s]"
     ]
    },
    {
     "name": "stdout",
     "output_type": "stream",
     "text": [
      "1793\n",
      "1777\n",
      "1799\n"
     ]
    },
    {
     "name": "stderr",
     "output_type": "stream",
     "text": [
      "\r",
      "1805it [04:59,  7.15it/s]"
     ]
    },
    {
     "name": "stdout",
     "output_type": "stream",
     "text": [
      "1805\n",
      "1795\n",
      "1806\n"
     ]
    },
    {
     "name": "stderr",
     "output_type": "stream",
     "text": [
      "\r",
      "1807it [04:59,  8.21it/s]"
     ]
    },
    {
     "name": "stdout",
     "output_type": "stream",
     "text": [
      "1810\n",
      "1819\n"
     ]
    },
    {
     "name": "stderr",
     "output_type": "stream",
     "text": [
      "\r",
      "1809it [04:59,  8.23it/s]"
     ]
    },
    {
     "name": "stdout",
     "output_type": "stream",
     "text": [
      "1803\n",
      "None\n"
     ]
    },
    {
     "name": "stderr",
     "output_type": "stream",
     "text": [
      "\r",
      "1811it [05:00,  7.50it/s]"
     ]
    },
    {
     "name": "stdout",
     "output_type": "stream",
     "text": [
      "1809\n"
     ]
    },
    {
     "name": "stderr",
     "output_type": "stream",
     "text": [
      "\r",
      "1812it [05:00,  6.68it/s]"
     ]
    },
    {
     "name": "stdout",
     "output_type": "stream",
     "text": [
      "1822\n"
     ]
    },
    {
     "name": "stderr",
     "output_type": "stream",
     "text": [
      "\r",
      "1813it [05:00,  5.87it/s]"
     ]
    },
    {
     "name": "stdout",
     "output_type": "stream",
     "text": [
      "1808\n"
     ]
    },
    {
     "name": "stderr",
     "output_type": "stream",
     "text": [
      "\r",
      "1814it [05:01,  2.52it/s]"
     ]
    },
    {
     "name": "stdout",
     "output_type": "stream",
     "text": [
      "1807\n",
      "1826\n",
      "1812\n"
     ]
    },
    {
     "name": "stderr",
     "output_type": "stream",
     "text": [
      "\r",
      "1817it [05:02,  3.75it/s]"
     ]
    },
    {
     "name": "stdout",
     "output_type": "stream",
     "text": [
      "1811\n"
     ]
    },
    {
     "name": "stderr",
     "output_type": "stream",
     "text": [
      "\r",
      "1818it [05:02,  3.39it/s]"
     ]
    },
    {
     "name": "stdout",
     "output_type": "stream",
     "text": [
      "1830\n",
      "1821\n"
     ]
    },
    {
     "name": "stderr",
     "output_type": "stream",
     "text": [
      "1822it [05:02,  5.60it/s]"
     ]
    },
    {
     "name": "stdout",
     "output_type": "stream",
     "text": [
      "1831\n",
      "None\n",
      "1814\n",
      "1818\n"
     ]
    },
    {
     "name": "stderr",
     "output_type": "stream",
     "text": [
      "\r",
      "1824it [05:03,  5.34it/s]"
     ]
    },
    {
     "name": "stdout",
     "output_type": "stream",
     "text": [
      "1829\n",
      "1825\n"
     ]
    },
    {
     "name": "stderr",
     "output_type": "stream",
     "text": [
      "1828it [05:03,  6.22it/s]"
     ]
    },
    {
     "name": "stdout",
     "output_type": "stream",
     "text": [
      "1827\n",
      "1833\n",
      "1817\n"
     ]
    },
    {
     "name": "stderr",
     "output_type": "stream",
     "text": [
      "1830it [05:04,  6.47it/s]"
     ]
    },
    {
     "name": "stdout",
     "output_type": "stream",
     "text": [
      "1823\n",
      "1839\n"
     ]
    },
    {
     "name": "stderr",
     "output_type": "stream",
     "text": [
      "\r",
      "1831it [05:04,  6.99it/s]"
     ]
    },
    {
     "name": "stdout",
     "output_type": "stream",
     "text": [
      "1824\n"
     ]
    },
    {
     "name": "stderr",
     "output_type": "stream",
     "text": [
      "\r",
      "1832it [05:04,  5.76it/s]"
     ]
    },
    {
     "name": "stdout",
     "output_type": "stream",
     "text": [
      "1813\n"
     ]
    },
    {
     "name": "stderr",
     "output_type": "stream",
     "text": [
      "1835it [05:05,  6.74it/s]"
     ]
    },
    {
     "name": "stdout",
     "output_type": "stream",
     "text": [
      "1834\n",
      "1835\n",
      "1816\n"
     ]
    },
    {
     "name": "stderr",
     "output_type": "stream",
     "text": [
      "\r",
      "1837it [05:05,  8.40it/s]"
     ]
    },
    {
     "name": "stdout",
     "output_type": "stream",
     "text": [
      "1815\n",
      "1843\n",
      "1838\n"
     ]
    },
    {
     "name": "stderr",
     "output_type": "stream",
     "text": [
      "1840it [05:05,  7.75it/s]"
     ]
    },
    {
     "name": "stdout",
     "output_type": "stream",
     "text": [
      "1836\n",
      "1845\n",
      "1832\n"
     ]
    },
    {
     "name": "stderr",
     "output_type": "stream",
     "text": [
      "\r",
      "1843it [05:05, 10.81it/s]"
     ]
    },
    {
     "name": "stdout",
     "output_type": "stream",
     "text": [
      "1837\n",
      "1842\n"
     ]
    },
    {
     "name": "stderr",
     "output_type": "stream",
     "text": [
      "\r",
      "1845it [05:06,  8.90it/s]"
     ]
    },
    {
     "name": "stdout",
     "output_type": "stream",
     "text": [
      "1841\n",
      "1847\n",
      "1828\n"
     ]
    },
    {
     "name": "stderr",
     "output_type": "stream",
     "text": [
      "\r",
      "1847it [05:06,  6.13it/s]"
     ]
    },
    {
     "name": "stdout",
     "output_type": "stream",
     "text": [
      "1820\n"
     ]
    },
    {
     "name": "stderr",
     "output_type": "stream",
     "text": [
      "\r",
      "1848it [05:06,  5.37it/s]"
     ]
    },
    {
     "name": "stdout",
     "output_type": "stream",
     "text": [
      "1844\n"
     ]
    },
    {
     "name": "stderr",
     "output_type": "stream",
     "text": [
      "\r",
      "1849it [05:07,  4.49it/s]"
     ]
    },
    {
     "name": "stdout",
     "output_type": "stream",
     "text": [
      "1849\n",
      "1846\n"
     ]
    },
    {
     "name": "stderr",
     "output_type": "stream",
     "text": [
      "\r",
      "1851it [05:07,  4.41it/s]"
     ]
    },
    {
     "name": "stdout",
     "output_type": "stream",
     "text": [
      "1848\n",
      "1852\n"
     ]
    },
    {
     "name": "stderr",
     "output_type": "stream",
     "text": [
      "1854it [05:09,  3.23it/s]"
     ]
    },
    {
     "name": "stdout",
     "output_type": "stream",
     "text": [
      "1855\n",
      "1850\n"
     ]
    },
    {
     "name": "stderr",
     "output_type": "stream",
     "text": [
      "\r",
      "1855it [05:09,  2.85it/s]"
     ]
    },
    {
     "name": "stdout",
     "output_type": "stream",
     "text": [
      "1863\n"
     ]
    },
    {
     "name": "stderr",
     "output_type": "stream",
     "text": [
      "\r",
      "1856it [05:10,  2.69it/s]"
     ]
    },
    {
     "name": "stdout",
     "output_type": "stream",
     "text": [
      "1862\n",
      "1869\n"
     ]
    },
    {
     "name": "stderr",
     "output_type": "stream",
     "text": [
      "1860it [05:10,  5.21it/s]"
     ]
    },
    {
     "name": "stdout",
     "output_type": "stream",
     "text": [
      "1870\n",
      "1859\n",
      "1856\n"
     ]
    },
    {
     "name": "stderr",
     "output_type": "stream",
     "text": [
      "1862it [05:10,  5.19it/s]"
     ]
    },
    {
     "name": "stdout",
     "output_type": "stream",
     "text": [
      "1872\n",
      "1866\n",
      "1853\n"
     ]
    },
    {
     "name": "stderr",
     "output_type": "stream",
     "text": [
      "1866it [05:11,  6.79it/s]"
     ]
    },
    {
     "name": "stdout",
     "output_type": "stream",
     "text": [
      "1860\n",
      "1877\n",
      "1858\n"
     ]
    },
    {
     "name": "stderr",
     "output_type": "stream",
     "text": [
      "1868it [05:11,  4.98it/s]"
     ]
    },
    {
     "name": "stdout",
     "output_type": "stream",
     "text": [
      "1865\n",
      "1879\n",
      "1874\n",
      "1885\n"
     ]
    },
    {
     "name": "stderr",
     "output_type": "stream",
     "text": [
      "\r",
      "1871it [05:12,  6.82it/s]"
     ]
    },
    {
     "name": "stdout",
     "output_type": "stream",
     "text": [
      "1861\n",
      "1871\n"
     ]
    },
    {
     "name": "stderr",
     "output_type": "stream",
     "text": [
      "1875it [05:12,  8.01it/s]"
     ]
    },
    {
     "name": "stdout",
     "output_type": "stream",
     "text": [
      "1873\n",
      "1880\n",
      "1854\n",
      "1875\n",
      "1857\n"
     ]
    },
    {
     "name": "stderr",
     "output_type": "stream",
     "text": [
      "\r",
      "1878it [05:12,  9.41it/s]"
     ]
    },
    {
     "name": "stdout",
     "output_type": "stream",
     "text": [
      "1867\n",
      "1876\n"
     ]
    },
    {
     "name": "stderr",
     "output_type": "stream",
     "text": [
      "1882it [05:13,  9.98it/s]"
     ]
    },
    {
     "name": "stdout",
     "output_type": "stream",
     "text": [
      "1868\n",
      "1883\n",
      "1881\n"
     ]
    },
    {
     "name": "stderr",
     "output_type": "stream",
     "text": [
      "1885it [05:13,  8.96it/s]"
     ]
    },
    {
     "name": "stdout",
     "output_type": "stream",
     "text": [
      "1878\n",
      "None\n",
      "1882\n"
     ]
    },
    {
     "name": "stderr",
     "output_type": "stream",
     "text": [
      "\r",
      "1886it [05:14,  5.18it/s]"
     ]
    },
    {
     "name": "stdout",
     "output_type": "stream",
     "text": [
      "1864\n",
      "1897\n"
     ]
    },
    {
     "name": "stderr",
     "output_type": "stream",
     "text": [
      "1889it [05:14,  5.92it/s]"
     ]
    },
    {
     "name": "stdout",
     "output_type": "stream",
     "text": [
      "1886\n",
      "1884\n"
     ]
    },
    {
     "name": "stderr",
     "output_type": "stream",
     "text": [
      "\r",
      "1890it [05:14,  4.72it/s]"
     ]
    },
    {
     "name": "stdout",
     "output_type": "stream",
     "text": [
      "1888\n"
     ]
    },
    {
     "name": "stderr",
     "output_type": "stream",
     "text": [
      "1894it [05:15,  6.88it/s]"
     ]
    },
    {
     "name": "stdout",
     "output_type": "stream",
     "text": [
      "1890\n",
      "1900\n",
      "None\n",
      "1893\n",
      "1906\n"
     ]
    },
    {
     "name": "stderr",
     "output_type": "stream",
     "text": [
      "\r",
      "1896it [05:15,  8.00it/s]"
     ]
    },
    {
     "name": "stdout",
     "output_type": "stream",
     "text": [
      "1889\n"
     ]
    },
    {
     "name": "stderr",
     "output_type": "stream",
     "text": [
      "\r",
      "1898it [05:15,  8.23it/s]"
     ]
    },
    {
     "name": "stdout",
     "output_type": "stream",
     "text": [
      "1896\n",
      "None\n",
      "None\n",
      "None\n",
      "None\n",
      "None\n",
      "None\n",
      "None\n",
      "None\n",
      "None\n",
      "None\n",
      "None\n",
      "None\n",
      "None\n",
      "None\n"
     ]
    },
    {
     "name": "stderr",
     "output_type": "stream",
     "text": [
      "\r",
      "1912it [05:16, 20.44it/s]"
     ]
    },
    {
     "name": "stdout",
     "output_type": "stream",
     "text": [
      "1887\n"
     ]
    },
    {
     "name": "stderr",
     "output_type": "stream",
     "text": [
      "\r",
      "1914it [05:16, 15.75it/s]"
     ]
    },
    {
     "name": "stdout",
     "output_type": "stream",
     "text": [
      "1894\n",
      "1892\n",
      "1895\n"
     ]
    },
    {
     "name": "stderr",
     "output_type": "stream",
     "text": [
      "1918it [05:17,  8.13it/s]"
     ]
    },
    {
     "name": "stdout",
     "output_type": "stream",
     "text": [
      "1899\n",
      "1905\n",
      "1913\n"
     ]
    },
    {
     "name": "stderr",
     "output_type": "stream",
     "text": [
      "1923it [05:17, 11.39it/s]"
     ]
    },
    {
     "name": "stdout",
     "output_type": "stream",
     "text": [
      "1910\n",
      "1912\n",
      "1911\n",
      "1901\n",
      "None\n"
     ]
    },
    {
     "name": "stderr",
     "output_type": "stream",
     "text": [
      "\r",
      "1925it [05:18, 12.65it/s]"
     ]
    },
    {
     "name": "stdout",
     "output_type": "stream",
     "text": [
      "1898\n",
      "1903\n",
      "1904\n"
     ]
    },
    {
     "name": "stderr",
     "output_type": "stream",
     "text": [
      "\r",
      "1927it [05:18, 10.28it/s]"
     ]
    },
    {
     "name": "stdout",
     "output_type": "stream",
     "text": [
      "1891\n",
      "1902\n",
      "1908\n"
     ]
    },
    {
     "name": "stderr",
     "output_type": "stream",
     "text": [
      "\r",
      "1930it [05:18,  7.05it/s]"
     ]
    },
    {
     "name": "stdout",
     "output_type": "stream",
     "text": [
      "1924\n",
      "1915\n"
     ]
    },
    {
     "name": "stderr",
     "output_type": "stream",
     "text": [
      "\r",
      "1932it [05:19,  5.22it/s]"
     ]
    },
    {
     "name": "stdout",
     "output_type": "stream",
     "text": [
      "1909\n",
      "None\n",
      "1918\n"
     ]
    },
    {
     "name": "stderr",
     "output_type": "stream",
     "text": [
      "1937it [05:20,  7.20it/s]"
     ]
    },
    {
     "name": "stdout",
     "output_type": "stream",
     "text": [
      "1917\n",
      "1919\n",
      "1943\n"
     ]
    },
    {
     "name": "stderr",
     "output_type": "stream",
     "text": [
      "\r",
      "1939it [05:20,  6.21it/s]"
     ]
    },
    {
     "name": "stdout",
     "output_type": "stream",
     "text": [
      "1927\n",
      "1921\n"
     ]
    },
    {
     "name": "stderr",
     "output_type": "stream",
     "text": [
      "\r",
      "1940it [05:20,  5.53it/s]"
     ]
    },
    {
     "name": "stdout",
     "output_type": "stream",
     "text": [
      "1907\n"
     ]
    },
    {
     "name": "stderr",
     "output_type": "stream",
     "text": [
      "\r",
      "1941it [05:21,  4.61it/s]"
     ]
    },
    {
     "name": "stdout",
     "output_type": "stream",
     "text": [
      "1922\n"
     ]
    },
    {
     "name": "stderr",
     "output_type": "stream",
     "text": [
      "\r",
      "1942it [05:21,  4.40it/s]"
     ]
    },
    {
     "name": "stdout",
     "output_type": "stream",
     "text": [
      "1926\n"
     ]
    },
    {
     "name": "stderr",
     "output_type": "stream",
     "text": [
      "1945it [05:22,  4.25it/s]"
     ]
    },
    {
     "name": "stdout",
     "output_type": "stream",
     "text": [
      "1942\n",
      "1957\n",
      "1958\n"
     ]
    },
    {
     "name": "stderr",
     "output_type": "stream",
     "text": [
      "\r",
      "1946it [05:22,  4.25it/s]"
     ]
    },
    {
     "name": "stdout",
     "output_type": "stream",
     "text": [
      "1920\n",
      "1949\n"
     ]
    },
    {
     "name": "stderr",
     "output_type": "stream",
     "text": [
      "1950it [05:23,  6.05it/s]"
     ]
    },
    {
     "name": "stdout",
     "output_type": "stream",
     "text": [
      "1956\n",
      "1916\n",
      "1948\n"
     ]
    },
    {
     "name": "stderr",
     "output_type": "stream",
     "text": [
      "1955it [05:23,  9.35it/s]"
     ]
    },
    {
     "name": "stdout",
     "output_type": "stream",
     "text": [
      "1952\n",
      "1951\n",
      "1945\n",
      "1925\n",
      "1947\n"
     ]
    },
    {
     "name": "stderr",
     "output_type": "stream",
     "text": [
      "\r",
      "1957it [05:23,  9.98it/s]"
     ]
    },
    {
     "name": "stdout",
     "output_type": "stream",
     "text": [
      "1955\n",
      "1954\n"
     ]
    },
    {
     "name": "stderr",
     "output_type": "stream",
     "text": [
      "\r",
      "1959it [05:24,  6.22it/s]"
     ]
    },
    {
     "name": "stdout",
     "output_type": "stream",
     "text": [
      "1944\n",
      "1946\n"
     ]
    },
    {
     "name": "stderr",
     "output_type": "stream",
     "text": [
      "\r",
      "1960it [05:24,  6.09it/s]"
     ]
    },
    {
     "name": "stdout",
     "output_type": "stream",
     "text": [
      "1961\n"
     ]
    },
    {
     "name": "stderr",
     "output_type": "stream",
     "text": [
      "\r",
      "1961it [05:24,  5.41it/s]"
     ]
    },
    {
     "name": "stdout",
     "output_type": "stream",
     "text": [
      "1960\n",
      "1950\n"
     ]
    },
    {
     "name": "stderr",
     "output_type": "stream",
     "text": [
      "\r",
      "1963it [05:24,  6.41it/s]"
     ]
    },
    {
     "name": "stdout",
     "output_type": "stream",
     "text": [
      "1962\n"
     ]
    },
    {
     "name": "stderr",
     "output_type": "stream",
     "text": [
      "\r",
      "1964it [05:25,  5.15it/s]"
     ]
    },
    {
     "name": "stdout",
     "output_type": "stream",
     "text": [
      "1965\n",
      "1967\n"
     ]
    },
    {
     "name": "stderr",
     "output_type": "stream",
     "text": [
      "1967it [05:26,  3.84it/s]"
     ]
    },
    {
     "name": "stdout",
     "output_type": "stream",
     "text": [
      "1969\n",
      "1959\n"
     ]
    },
    {
     "name": "stderr",
     "output_type": "stream",
     "text": [
      "\r",
      "1968it [05:26,  4.32it/s]"
     ]
    },
    {
     "name": "stdout",
     "output_type": "stream",
     "text": [
      "1972\n",
      "1980\n",
      "1964\n"
     ]
    },
    {
     "name": "stderr",
     "output_type": "stream",
     "text": [
      "\r",
      "1971it [05:26,  6.41it/s]"
     ]
    },
    {
     "name": "stdout",
     "output_type": "stream",
     "text": [
      "1985\n",
      "None\n",
      "None\n",
      "1971\n",
      "1970\n"
     ]
    },
    {
     "name": "stderr",
     "output_type": "stream",
     "text": [
      "1978it [05:27, 11.43it/s]"
     ]
    },
    {
     "name": "stdout",
     "output_type": "stream",
     "text": [
      "1973\n",
      "1983\n",
      "1966\n",
      "None\n"
     ]
    },
    {
     "name": "stderr",
     "output_type": "stream",
     "text": [
      "\r",
      "1980it [05:27,  9.56it/s]"
     ]
    },
    {
     "name": "stdout",
     "output_type": "stream",
     "text": [
      "1976\n",
      "1975\n",
      "1990\n"
     ]
    },
    {
     "name": "stderr",
     "output_type": "stream",
     "text": [
      "\r",
      "1983it [05:27,  8.78it/s]"
     ]
    },
    {
     "name": "stdout",
     "output_type": "stream",
     "text": [
      "1968\n",
      "1991\n"
     ]
    },
    {
     "name": "stderr",
     "output_type": "stream",
     "text": [
      "\r",
      "1985it [05:28,  6.28it/s]"
     ]
    },
    {
     "name": "stdout",
     "output_type": "stream",
     "text": [
      "1988\n"
     ]
    },
    {
     "name": "stderr",
     "output_type": "stream",
     "text": [
      "1989it [05:28,  8.21it/s]"
     ]
    },
    {
     "name": "stdout",
     "output_type": "stream",
     "text": [
      "1979\n",
      "1986\n",
      "None\n",
      "1977\n",
      "1981\n"
     ]
    },
    {
     "name": "stderr",
     "output_type": "stream",
     "text": [
      "1993it [05:29,  7.97it/s]"
     ]
    },
    {
     "name": "stdout",
     "output_type": "stream",
     "text": [
      "1982\n",
      "1996\n",
      "1974\n"
     ]
    },
    {
     "name": "stderr",
     "output_type": "stream",
     "text": [
      "\r",
      "1995it [05:29,  5.92it/s]"
     ]
    },
    {
     "name": "stdout",
     "output_type": "stream",
     "text": [
      "1978\n",
      "1989\n"
     ]
    },
    {
     "name": "stderr",
     "output_type": "stream",
     "text": [
      "1999it [05:31,  4.71it/s]"
     ]
    },
    {
     "name": "stdout",
     "output_type": "stream",
     "text": [
      "1984\n",
      "1993\n",
      "2008\n",
      "1999\n",
      "1987\n"
     ]
    },
    {
     "name": "stderr",
     "output_type": "stream",
     "text": [
      "2003it [05:31,  5.92it/s]"
     ]
    },
    {
     "name": "stdout",
     "output_type": "stream",
     "text": [
      "1992\n",
      "1995\n",
      "2015\n",
      "2011\n"
     ]
    },
    {
     "name": "stderr",
     "output_type": "stream",
     "text": [
      "2006it [05:32,  4.72it/s]"
     ]
    },
    {
     "name": "stdout",
     "output_type": "stream",
     "text": [
      "2007\n",
      "2017\n",
      "1997\n",
      "None\n",
      "None\n"
     ]
    },
    {
     "name": "stderr",
     "output_type": "stream",
     "text": [
      "\r",
      "2010it [05:32,  8.02it/s]"
     ]
    },
    {
     "name": "stdout",
     "output_type": "stream",
     "text": [
      "2014\n",
      "2012\n"
     ]
    },
    {
     "name": "stderr",
     "output_type": "stream",
     "text": [
      "2014it [05:33,  8.76it/s]"
     ]
    },
    {
     "name": "stdout",
     "output_type": "stream",
     "text": [
      "1994\n",
      "2004\n",
      "2005\n",
      "2000\n"
     ]
    },
    {
     "name": "stderr",
     "output_type": "stream",
     "text": [
      "\r",
      "2016it [05:33,  5.64it/s]"
     ]
    },
    {
     "name": "stdout",
     "output_type": "stream",
     "text": [
      "2016\n",
      "2006\n"
     ]
    },
    {
     "name": "stderr",
     "output_type": "stream",
     "text": [
      "\r",
      "2018it [05:34,  5.46it/s]"
     ]
    },
    {
     "name": "stdout",
     "output_type": "stream",
     "text": [
      "2010\n",
      "2020\n",
      "None\n",
      "2001\n"
     ]
    },
    {
     "name": "stderr",
     "output_type": "stream",
     "text": [
      "2023it [05:34,  6.97it/s]"
     ]
    },
    {
     "name": "stdout",
     "output_type": "stream",
     "text": [
      "2013\n",
      "2022\n"
     ]
    },
    {
     "name": "stderr",
     "output_type": "stream",
     "text": [
      "\r",
      "2024it [05:35,  6.36it/s]"
     ]
    },
    {
     "name": "stdout",
     "output_type": "stream",
     "text": [
      "2021\n",
      "1998\n"
     ]
    },
    {
     "name": "stderr",
     "output_type": "stream",
     "text": [
      "2027it [05:35,  7.12it/s]"
     ]
    },
    {
     "name": "stdout",
     "output_type": "stream",
     "text": [
      "2023\n",
      "2025\n",
      "2026\n",
      "None\n"
     ]
    },
    {
     "name": "stderr",
     "output_type": "stream",
     "text": [
      "\r",
      "2030it [05:35,  9.58it/s]"
     ]
    },
    {
     "name": "stdout",
     "output_type": "stream",
     "text": [
      "2019\n",
      "2031\n"
     ]
    },
    {
     "name": "stderr",
     "output_type": "stream",
     "text": [
      "\r",
      "2032it [05:36,  5.00it/s]"
     ]
    },
    {
     "name": "stdout",
     "output_type": "stream",
     "text": [
      "2032\n",
      "2028\n",
      "2029\n"
     ]
    },
    {
     "name": "stderr",
     "output_type": "stream",
     "text": [
      "\r",
      "2035it [05:36,  6.43it/s]"
     ]
    },
    {
     "name": "stdout",
     "output_type": "stream",
     "text": [
      "2027\n",
      "2024\n"
     ]
    },
    {
     "name": "stderr",
     "output_type": "stream",
     "text": [
      "2038it [05:37,  5.65it/s]"
     ]
    },
    {
     "name": "stdout",
     "output_type": "stream",
     "text": [
      "2035\n",
      "2034\n"
     ]
    },
    {
     "name": "stderr",
     "output_type": "stream",
     "text": [
      "2040it [05:37,  4.76it/s]"
     ]
    },
    {
     "name": "stdout",
     "output_type": "stream",
     "text": [
      "2030\n",
      "2049\n",
      "2033\n"
     ]
    },
    {
     "name": "stderr",
     "output_type": "stream",
     "text": [
      "\r",
      "2042it [05:38,  6.51it/s]"
     ]
    },
    {
     "name": "stdout",
     "output_type": "stream",
     "text": [
      "2056\n"
     ]
    },
    {
     "name": "stderr",
     "output_type": "stream",
     "text": [
      "\r",
      "2043it [05:38,  5.87it/s]"
     ]
    },
    {
     "name": "stdout",
     "output_type": "stream",
     "text": [
      "2045\n"
     ]
    },
    {
     "name": "stderr",
     "output_type": "stream",
     "text": [
      "2046it [05:38,  6.97it/s]"
     ]
    },
    {
     "name": "stdout",
     "output_type": "stream",
     "text": [
      "2047\n",
      "2044\n",
      "2043\n"
     ]
    },
    {
     "name": "stderr",
     "output_type": "stream",
     "text": [
      "\r",
      "2047it [05:38,  5.91it/s]"
     ]
    },
    {
     "name": "stdout",
     "output_type": "stream",
     "text": [
      "2036\n"
     ]
    },
    {
     "name": "stderr",
     "output_type": "stream",
     "text": [
      "\r",
      "2048it [05:39,  5.39it/s]"
     ]
    },
    {
     "name": "stdout",
     "output_type": "stream",
     "text": [
      "2041\n",
      "2040\n",
      "2037\n"
     ]
    },
    {
     "name": "stderr",
     "output_type": "stream",
     "text": [
      "\r",
      "2051it [05:39,  4.61it/s]"
     ]
    },
    {
     "name": "stdout",
     "output_type": "stream",
     "text": [
      "2042\n"
     ]
    },
    {
     "name": "stderr",
     "output_type": "stream",
     "text": [
      "2053it [05:41,  3.21it/s]"
     ]
    },
    {
     "name": "stdout",
     "output_type": "stream",
     "text": [
      "2046\n",
      "2055\n",
      "2057\n",
      "2058\n"
     ]
    },
    {
     "name": "stderr",
     "output_type": "stream",
     "text": [
      "\r",
      "2057it [05:41,  6.00it/s]"
     ]
    },
    {
     "name": "stdout",
     "output_type": "stream",
     "text": [
      "2052\n",
      "2051\n"
     ]
    },
    {
     "name": "stderr",
     "output_type": "stream",
     "text": [
      "2062it [05:41, 10.69it/s]"
     ]
    },
    {
     "name": "stdout",
     "output_type": "stream",
     "text": [
      "2054\n",
      "None\n",
      "2064\n",
      "2053\n",
      "2065\n"
     ]
    },
    {
     "name": "stderr",
     "output_type": "stream",
     "text": [
      "\r",
      "2064it [05:42,  5.66it/s]"
     ]
    },
    {
     "name": "stdout",
     "output_type": "stream",
     "text": [
      "2072\n",
      "2066\n",
      "2060\n"
     ]
    },
    {
     "name": "stderr",
     "output_type": "stream",
     "text": [
      "\r",
      "2066it [05:42,  4.85it/s]"
     ]
    },
    {
     "name": "stdout",
     "output_type": "stream",
     "text": [
      "2068\n"
     ]
    },
    {
     "name": "stderr",
     "output_type": "stream",
     "text": [
      "\r",
      "2068it [05:43,  4.50it/s]"
     ]
    },
    {
     "name": "stdout",
     "output_type": "stream",
     "text": [
      "2074\n",
      "2063\n",
      "2048\n"
     ]
    },
    {
     "name": "stderr",
     "output_type": "stream",
     "text": [
      "2075it [05:44,  7.56it/s]"
     ]
    },
    {
     "name": "stdout",
     "output_type": "stream",
     "text": [
      "2084\n",
      "None\n",
      "2085\n",
      "None\n",
      "2062\n",
      "2069\n",
      "2071\n"
     ]
    },
    {
     "name": "stderr",
     "output_type": "stream",
     "text": [
      "2080it [05:44, 10.01it/s]"
     ]
    },
    {
     "name": "stdout",
     "output_type": "stream",
     "text": [
      "2061\n",
      "2070\n",
      "2067\n",
      "2077\n"
     ]
    },
    {
     "name": "stderr",
     "output_type": "stream",
     "text": [
      "\r",
      "2082it [05:44, 10.29it/s]"
     ]
    },
    {
     "name": "stdout",
     "output_type": "stream",
     "text": [
      "2076\n",
      "2073\n"
     ]
    },
    {
     "name": "stderr",
     "output_type": "stream",
     "text": [
      "2086it [05:44, 10.63it/s]"
     ]
    },
    {
     "name": "stdout",
     "output_type": "stream",
     "text": [
      "2080\n",
      "None\n",
      "None\n",
      "2075\n",
      "None\n"
     ]
    },
    {
     "name": "stderr",
     "output_type": "stream",
     "text": [
      "\r",
      "2088it [05:45,  9.51it/s]"
     ]
    },
    {
     "name": "stdout",
     "output_type": "stream",
     "text": [
      "2081\n",
      "2083\n"
     ]
    },
    {
     "name": "stderr",
     "output_type": "stream",
     "text": [
      "\r",
      "2090it [05:45,  9.53it/s]"
     ]
    },
    {
     "name": "stdout",
     "output_type": "stream",
     "text": [
      "2078\n"
     ]
    },
    {
     "name": "stderr",
     "output_type": "stream",
     "text": [
      "\r",
      "2092it [05:47,  2.95it/s]"
     ]
    },
    {
     "name": "stdout",
     "output_type": "stream",
     "text": [
      "2106\n",
      "2079\n",
      "2090\n"
     ]
    },
    {
     "name": "stderr",
     "output_type": "stream",
     "text": [
      "\r",
      "2094it [05:47,  3.84it/s]"
     ]
    },
    {
     "name": "stdout",
     "output_type": "stream",
     "text": [
      "2087\n",
      "2092\n"
     ]
    },
    {
     "name": "stderr",
     "output_type": "stream",
     "text": [
      "2098it [05:47,  5.51it/s]"
     ]
    },
    {
     "name": "stdout",
     "output_type": "stream",
     "text": [
      "2095\n",
      "2105\n",
      "2088\n",
      "2091\n"
     ]
    },
    {
     "name": "stderr",
     "output_type": "stream",
     "text": [
      "\r",
      "2100it [05:48,  4.37it/s]"
     ]
    },
    {
     "name": "stdout",
     "output_type": "stream",
     "text": [
      "2082\n",
      "None\n",
      "None\n",
      "None\n"
     ]
    },
    {
     "name": "stderr",
     "output_type": "stream",
     "text": [
      "2105it [05:49,  5.93it/s]"
     ]
    },
    {
     "name": "stdout",
     "output_type": "stream",
     "text": [
      "2107\n",
      "2100\n",
      "2094\n"
     ]
    },
    {
     "name": "stderr",
     "output_type": "stream",
     "text": [
      "\r",
      "2108it [05:49,  7.49it/s]"
     ]
    },
    {
     "name": "stdout",
     "output_type": "stream",
     "text": [
      "2097\n",
      "2109\n",
      "2099\n",
      "None\n"
     ]
    },
    {
     "name": "stderr",
     "output_type": "stream",
     "text": [
      "2113it [05:49,  8.80it/s]"
     ]
    },
    {
     "name": "stdout",
     "output_type": "stream",
     "text": [
      "2111\n",
      "2102\n",
      "2093\n",
      "None\n",
      "2096\n"
     ]
    },
    {
     "name": "stderr",
     "output_type": "stream",
     "text": [
      "\r",
      "2116it [05:50,  9.08it/s]"
     ]
    },
    {
     "name": "stdout",
     "output_type": "stream",
     "text": [
      "2098\n"
     ]
    },
    {
     "name": "stderr",
     "output_type": "stream",
     "text": [
      "\r",
      "2118it [05:50,  6.83it/s]"
     ]
    },
    {
     "name": "stdout",
     "output_type": "stream",
     "text": [
      "2104\n",
      "2110\n"
     ]
    },
    {
     "name": "stderr",
     "output_type": "stream",
     "text": [
      "\r",
      "2119it [05:50,  6.99it/s]"
     ]
    },
    {
     "name": "stdout",
     "output_type": "stream",
     "text": [
      "2120\n",
      "2108\n"
     ]
    },
    {
     "name": "stderr",
     "output_type": "stream",
     "text": [
      "\r",
      "2121it [05:51,  6.67it/s]"
     ]
    },
    {
     "name": "stdout",
     "output_type": "stream",
     "text": [
      "2116\n",
      "2113\n"
     ]
    },
    {
     "name": "stderr",
     "output_type": "stream",
     "text": [
      "\r",
      "2123it [05:51,  6.30it/s]"
     ]
    },
    {
     "name": "stdout",
     "output_type": "stream",
     "text": [
      "2118\n"
     ]
    },
    {
     "name": "stderr",
     "output_type": "stream",
     "text": [
      "2125it [05:51,  5.69it/s]"
     ]
    },
    {
     "name": "stdout",
     "output_type": "stream",
     "text": [
      "2128\n",
      "2119\n"
     ]
    },
    {
     "name": "stderr",
     "output_type": "stream",
     "text": [
      "\r",
      "2126it [05:52,  5.55it/s]"
     ]
    },
    {
     "name": "stdout",
     "output_type": "stream",
     "text": [
      "2112\n",
      "2086\n",
      "2139\n"
     ]
    },
    {
     "name": "stderr",
     "output_type": "stream",
     "text": [
      "\r",
      "2129it [05:52,  7.05it/s]"
     ]
    },
    {
     "name": "stdout",
     "output_type": "stream",
     "text": [
      "2121\n",
      "None\n"
     ]
    },
    {
     "name": "stderr",
     "output_type": "stream",
     "text": [
      "\r",
      "2131it [05:52,  6.76it/s]"
     ]
    },
    {
     "name": "stdout",
     "output_type": "stream",
     "text": [
      "2129\n"
     ]
    },
    {
     "name": "stderr",
     "output_type": "stream",
     "text": [
      "\r",
      "2132it [05:53,  5.08it/s]"
     ]
    },
    {
     "name": "stdout",
     "output_type": "stream",
     "text": [
      "2123\n",
      "2136\n"
     ]
    },
    {
     "name": "stderr",
     "output_type": "stream",
     "text": [
      "\r",
      "2134it [05:53,  4.95it/s]"
     ]
    },
    {
     "name": "stdout",
     "output_type": "stream",
     "text": [
      "2130\n"
     ]
    },
    {
     "name": "stderr",
     "output_type": "stream",
     "text": [
      "2137it [05:54,  5.49it/s]"
     ]
    },
    {
     "name": "stdout",
     "output_type": "stream",
     "text": [
      "2125\n",
      "2127\n",
      "2145\n"
     ]
    },
    {
     "name": "stderr",
     "output_type": "stream",
     "text": [
      "\r",
      "2138it [05:54,  5.98it/s]"
     ]
    },
    {
     "name": "stdout",
     "output_type": "stream",
     "text": [
      "2124\n"
     ]
    },
    {
     "name": "stderr",
     "output_type": "stream",
     "text": [
      "2140it [05:54,  5.18it/s]"
     ]
    },
    {
     "name": "stdout",
     "output_type": "stream",
     "text": [
      "2146\n",
      "2137\n"
     ]
    },
    {
     "name": "stderr",
     "output_type": "stream",
     "text": [
      "2145it [05:54, 10.02it/s]"
     ]
    },
    {
     "name": "stdout",
     "output_type": "stream",
     "text": [
      "2126\n",
      "None\n",
      "2152\n",
      "2143\n",
      "2135\n",
      "2153\n"
     ]
    },
    {
     "name": "stderr",
     "output_type": "stream",
     "text": [
      "2149it [05:55,  6.85it/s]"
     ]
    },
    {
     "name": "stdout",
     "output_type": "stream",
     "text": [
      "2159\n",
      "2122\n",
      "2138\n"
     ]
    },
    {
     "name": "stderr",
     "output_type": "stream",
     "text": [
      "2151it [05:56,  7.06it/s]"
     ]
    },
    {
     "name": "stdout",
     "output_type": "stream",
     "text": [
      "2147\n",
      "2148\n"
     ]
    },
    {
     "name": "stderr",
     "output_type": "stream",
     "text": [
      "\r",
      "2152it [05:56,  5.11it/s]"
     ]
    },
    {
     "name": "stdout",
     "output_type": "stream",
     "text": [
      "2151\n",
      "2134\n"
     ]
    },
    {
     "name": "stderr",
     "output_type": "stream",
     "text": [
      "\r",
      "2154it [05:56,  6.15it/s]"
     ]
    },
    {
     "name": "stdout",
     "output_type": "stream",
     "text": [
      "2141\n"
     ]
    },
    {
     "name": "stderr",
     "output_type": "stream",
     "text": [
      "2156it [05:57,  5.21it/s]"
     ]
    },
    {
     "name": "stdout",
     "output_type": "stream",
     "text": [
      "2156\n",
      "2142\n"
     ]
    },
    {
     "name": "stderr",
     "output_type": "stream",
     "text": [
      "\r",
      "2157it [05:57,  3.65it/s]"
     ]
    },
    {
     "name": "stdout",
     "output_type": "stream",
     "text": [
      "2158\n"
     ]
    },
    {
     "name": "stderr",
     "output_type": "stream",
     "text": [
      "\r",
      "2158it [05:58,  3.25it/s]"
     ]
    },
    {
     "name": "stdout",
     "output_type": "stream",
     "text": [
      "2149\n",
      "2155\n",
      "2161\n"
     ]
    },
    {
     "name": "stderr",
     "output_type": "stream",
     "text": [
      "\r",
      "2161it [05:58,  5.56it/s]"
     ]
    },
    {
     "name": "stdout",
     "output_type": "stream",
     "text": [
      "2157\n",
      "2163\n"
     ]
    },
    {
     "name": "stderr",
     "output_type": "stream",
     "text": [
      "2165it [05:58,  6.75it/s]"
     ]
    },
    {
     "name": "stdout",
     "output_type": "stream",
     "text": [
      "2171\n",
      "2162\n",
      "2164\n"
     ]
    },
    {
     "name": "stderr",
     "output_type": "stream",
     "text": [
      "\r",
      "2166it [05:59,  6.43it/s]"
     ]
    },
    {
     "name": "stdout",
     "output_type": "stream",
     "text": [
      "2154\n"
     ]
    },
    {
     "name": "stderr",
     "output_type": "stream",
     "text": [
      "\r",
      "2167it [05:59,  5.64it/s]"
     ]
    },
    {
     "name": "stdout",
     "output_type": "stream",
     "text": [
      "2165\n"
     ]
    },
    {
     "name": "stderr",
     "output_type": "stream",
     "text": [
      "\r",
      "2168it [05:59,  4.09it/s]"
     ]
    },
    {
     "name": "stdout",
     "output_type": "stream",
     "text": [
      "2150\n"
     ]
    },
    {
     "name": "stderr",
     "output_type": "stream",
     "text": [
      "2170it [06:00,  4.43it/s]"
     ]
    },
    {
     "name": "stdout",
     "output_type": "stream",
     "text": [
      "2166\n",
      "2180\n"
     ]
    },
    {
     "name": "stderr",
     "output_type": "stream",
     "text": [
      "2172it [06:00,  5.23it/s]"
     ]
    },
    {
     "name": "stdout",
     "output_type": "stream",
     "text": [
      "2173\n",
      "2175\n"
     ]
    },
    {
     "name": "stderr",
     "output_type": "stream",
     "text": [
      "2175it [06:00,  8.71it/s]"
     ]
    },
    {
     "name": "stdout",
     "output_type": "stream",
     "text": [
      "2167\n",
      "2178\n",
      "2186\n",
      "2169\n",
      "2177\n"
     ]
    },
    {
     "name": "stderr",
     "output_type": "stream",
     "text": [
      "\r",
      "2178it [06:00, 10.00it/s]"
     ]
    },
    {
     "name": "stdout",
     "output_type": "stream",
     "text": [
      "2176\n"
     ]
    },
    {
     "name": "stderr",
     "output_type": "stream",
     "text": [
      "\r",
      "2180it [06:01,  7.92it/s]"
     ]
    },
    {
     "name": "stdout",
     "output_type": "stream",
     "text": [
      "2170\n",
      "2174\n",
      "2183\n",
      "2168\n"
     ]
    },
    {
     "name": "stderr",
     "output_type": "stream",
     "text": [
      "\r",
      "2183it [06:01,  6.40it/s]"
     ]
    },
    {
     "name": "stdout",
     "output_type": "stream",
     "text": [
      "2182\n",
      "2181\n",
      "2184\n"
     ]
    },
    {
     "name": "stderr",
     "output_type": "stream",
     "text": [
      "2187it [06:02,  6.35it/s]"
     ]
    },
    {
     "name": "stdout",
     "output_type": "stream",
     "text": [
      "2179\n",
      "2187\n"
     ]
    },
    {
     "name": "stderr",
     "output_type": "stream",
     "text": [
      "2190it [06:03,  5.03it/s]"
     ]
    },
    {
     "name": "stdout",
     "output_type": "stream",
     "text": [
      "2185\n",
      "2188\n",
      "2190\n"
     ]
    },
    {
     "name": "stderr",
     "output_type": "stream",
     "text": [
      "\r",
      "2191it [06:03,  4.62it/s]"
     ]
    },
    {
     "name": "stdout",
     "output_type": "stream",
     "text": [
      "2189\n",
      "2195\n",
      "None\n"
     ]
    },
    {
     "name": "stderr",
     "output_type": "stream",
     "text": [
      "\r",
      "2194it [06:04,  6.20it/s]"
     ]
    },
    {
     "name": "stdout",
     "output_type": "stream",
     "text": [
      "2192\n",
      "2194\n",
      "2193\n"
     ]
    },
    {
     "name": "stderr",
     "output_type": "stream",
     "text": [
      "\r",
      "2197it [06:04,  6.06it/s]"
     ]
    },
    {
     "name": "stdout",
     "output_type": "stream",
     "text": [
      "2191\n"
     ]
    },
    {
     "name": "stderr",
     "output_type": "stream",
     "text": [
      "2199it [06:04,  6.05it/s]"
     ]
    },
    {
     "name": "stdout",
     "output_type": "stream",
     "text": [
      "2196\n",
      "2198\n"
     ]
    },
    {
     "name": "stderr",
     "output_type": "stream",
     "text": [
      "\r",
      "2200it [06:05,  5.06it/s]"
     ]
    },
    {
     "name": "stdout",
     "output_type": "stream",
     "text": [
      "2204\n"
     ]
    },
    {
     "name": "stderr",
     "output_type": "stream",
     "text": [
      "2203it [06:05,  5.56it/s]"
     ]
    },
    {
     "name": "stdout",
     "output_type": "stream",
     "text": [
      "2200\n",
      "2205\n",
      "2197\n"
     ]
    },
    {
     "name": "stderr",
     "output_type": "stream",
     "text": [
      "\r",
      "2205it [06:05,  6.49it/s]"
     ]
    },
    {
     "name": "stdout",
     "output_type": "stream",
     "text": [
      "2211\n",
      "2202\n"
     ]
    },
    {
     "name": "stderr",
     "output_type": "stream",
     "text": [
      "\r",
      "2208it [06:06,  9.68it/s]"
     ]
    },
    {
     "name": "stdout",
     "output_type": "stream",
     "text": [
      "2208\n",
      "2203\n",
      "2207\n",
      "2209\n"
     ]
    },
    {
     "name": "stderr",
     "output_type": "stream",
     "text": [
      "\r",
      "2210it [06:06,  7.15it/s]"
     ]
    },
    {
     "name": "stdout",
     "output_type": "stream",
     "text": [
      "2201\n",
      "2199\n"
     ]
    },
    {
     "name": "stderr",
     "output_type": "stream",
     "text": [
      "\r",
      "2212it [06:07,  4.68it/s]"
     ]
    },
    {
     "name": "stdout",
     "output_type": "stream",
     "text": [
      "2206\n"
     ]
    },
    {
     "name": "stderr",
     "output_type": "stream",
     "text": [
      "\r",
      "2213it [06:07,  4.13it/s]"
     ]
    },
    {
     "name": "stdout",
     "output_type": "stream",
     "text": [
      "2216\n"
     ]
    },
    {
     "name": "stderr",
     "output_type": "stream",
     "text": [
      "\r",
      "2214it [06:08,  3.90it/s]"
     ]
    },
    {
     "name": "stdout",
     "output_type": "stream",
     "text": [
      "2210\n"
     ]
    },
    {
     "name": "stderr",
     "output_type": "stream",
     "text": [
      "\r",
      "2215it [06:08,  3.87it/s]"
     ]
    },
    {
     "name": "stdout",
     "output_type": "stream",
     "text": [
      "2215\n",
      "2218\n"
     ]
    },
    {
     "name": "stderr",
     "output_type": "stream",
     "text": [
      "2218it [06:08,  4.77it/s]"
     ]
    },
    {
     "name": "stdout",
     "output_type": "stream",
     "text": [
      "2224\n",
      "2212\n"
     ]
    },
    {
     "name": "stderr",
     "output_type": "stream",
     "text": [
      "\r",
      "2220it [06:08,  6.44it/s]"
     ]
    },
    {
     "name": "stdout",
     "output_type": "stream",
     "text": [
      "2227\n",
      "2219\n",
      "2217\n"
     ]
    },
    {
     "name": "stderr",
     "output_type": "stream",
     "text": [
      "\r",
      "2222it [06:09,  6.02it/s]"
     ]
    },
    {
     "name": "stdout",
     "output_type": "stream",
     "text": [
      "2222\n"
     ]
    },
    {
     "name": "stderr",
     "output_type": "stream",
     "text": [
      "\r",
      "2223it [06:09,  4.73it/s]"
     ]
    },
    {
     "name": "stdout",
     "output_type": "stream",
     "text": [
      "2229\n",
      "2226\n"
     ]
    },
    {
     "name": "stderr",
     "output_type": "stream",
     "text": [
      "\r",
      "2225it [06:10,  3.67it/s]"
     ]
    },
    {
     "name": "stdout",
     "output_type": "stream",
     "text": [
      "2225\n"
     ]
    },
    {
     "name": "stderr",
     "output_type": "stream",
     "text": [
      "2227it [06:10,  3.83it/s]"
     ]
    },
    {
     "name": "stdout",
     "output_type": "stream",
     "text": [
      "2230\n",
      "2221\n"
     ]
    },
    {
     "name": "stderr",
     "output_type": "stream",
     "text": [
      "2231it [06:11,  6.64it/s]"
     ]
    },
    {
     "name": "stdout",
     "output_type": "stream",
     "text": [
      "2214\n",
      "2235\n",
      "2220\n",
      "2237\n"
     ]
    },
    {
     "name": "stderr",
     "output_type": "stream",
     "text": [
      "\r",
      "2232it [06:11,  6.10it/s]"
     ]
    },
    {
     "name": "stdout",
     "output_type": "stream",
     "text": [
      "2213\n",
      "2231\n",
      "2239\n"
     ]
    },
    {
     "name": "stderr",
     "output_type": "stream",
     "text": [
      "\r",
      "2235it [06:11,  7.40it/s]"
     ]
    },
    {
     "name": "stdout",
     "output_type": "stream",
     "text": [
      "2240\n"
     ]
    },
    {
     "name": "stderr",
     "output_type": "stream",
     "text": [
      "2237it [06:12,  5.47it/s]"
     ]
    },
    {
     "name": "stdout",
     "output_type": "stream",
     "text": [
      "2242\n",
      "2233\n",
      "2228\n"
     ]
    },
    {
     "name": "stderr",
     "output_type": "stream",
     "text": [
      "2240it [06:13,  5.10it/s]"
     ]
    },
    {
     "name": "stdout",
     "output_type": "stream",
     "text": [
      "2234\n",
      "2244\n"
     ]
    },
    {
     "name": "stderr",
     "output_type": "stream",
     "text": [
      "2242it [06:13,  3.89it/s]"
     ]
    },
    {
     "name": "stdout",
     "output_type": "stream",
     "text": [
      "2249\n",
      "2236\n"
     ]
    },
    {
     "name": "stderr",
     "output_type": "stream",
     "text": [
      "\r",
      "2244it [06:14,  4.76it/s]"
     ]
    },
    {
     "name": "stdout",
     "output_type": "stream",
     "text": [
      "2248\n",
      "2238\n"
     ]
    },
    {
     "name": "stderr",
     "output_type": "stream",
     "text": [
      "\r",
      "2245it [06:14,  4.05it/s]"
     ]
    },
    {
     "name": "stdout",
     "output_type": "stream",
     "text": [
      "2232\n"
     ]
    },
    {
     "name": "stderr",
     "output_type": "stream",
     "text": [
      "\r",
      "2246it [06:14,  4.24it/s]"
     ]
    },
    {
     "name": "stdout",
     "output_type": "stream",
     "text": [
      "2251\n",
      "2254\n",
      "2245\n",
      "2250\n",
      "2257\n",
      "2253\n"
     ]
    },
    {
     "name": "stderr",
     "output_type": "stream",
     "text": [
      "\r",
      "2252it [06:14,  9.72it/s]"
     ]
    },
    {
     "name": "stdout",
     "output_type": "stream",
     "text": [
      "2247\n",
      "2246\n"
     ]
    },
    {
     "name": "stderr",
     "output_type": "stream",
     "text": [
      "2255it [06:15,  8.26it/s]"
     ]
    },
    {
     "name": "stdout",
     "output_type": "stream",
     "text": [
      "2241\n",
      "2252\n"
     ]
    },
    {
     "name": "stderr",
     "output_type": "stream",
     "text": [
      "2257it [06:15,  7.55it/s]"
     ]
    },
    {
     "name": "stdout",
     "output_type": "stream",
     "text": [
      "2243\n",
      "2266\n"
     ]
    },
    {
     "name": "stderr",
     "output_type": "stream",
     "text": [
      "2260it [06:16,  8.98it/s]"
     ]
    },
    {
     "name": "stdout",
     "output_type": "stream",
     "text": [
      "2255\n",
      "2256\n",
      "2259\n"
     ]
    },
    {
     "name": "stderr",
     "output_type": "stream",
     "text": [
      "2262it [06:17,  4.12it/s]"
     ]
    },
    {
     "name": "stdout",
     "output_type": "stream",
     "text": [
      "2258\n",
      "2262\n",
      "2261\n"
     ]
    },
    {
     "name": "stderr",
     "output_type": "stream",
     "text": [
      "\r",
      "2265it [06:17,  6.90it/s]"
     ]
    },
    {
     "name": "stdout",
     "output_type": "stream",
     "text": [
      "2264\n",
      "2265\n"
     ]
    },
    {
     "name": "stderr",
     "output_type": "stream",
     "text": [
      "\r",
      "2267it [06:17,  6.02it/s]"
     ]
    },
    {
     "name": "stdout",
     "output_type": "stream",
     "text": [
      "2260\n",
      "2263\n"
     ]
    },
    {
     "name": "stderr",
     "output_type": "stream",
     "text": [
      "\r",
      "2268it [06:18,  2.69it/s]"
     ]
    },
    {
     "name": "stdout",
     "output_type": "stream",
     "text": [
      "2267\n"
     ]
    },
    {
     "name": "stderr",
     "output_type": "stream",
     "text": [
      "\r",
      "2269it [06:19,  2.38it/s]"
     ]
    },
    {
     "name": "stdout",
     "output_type": "stream",
     "text": [
      "2269\n"
     ]
    },
    {
     "name": "stderr",
     "output_type": "stream",
     "text": [
      "2275it [06:19,  6.19it/s]"
     ]
    },
    {
     "name": "stdout",
     "output_type": "stream",
     "text": [
      "2273\n",
      "2271\n",
      "2282\n",
      "2274\n",
      "2278\n",
      "2270\n",
      "2287\n"
     ]
    },
    {
     "name": "stderr",
     "output_type": "stream",
     "text": [
      "2280it [06:20,  7.92it/s]"
     ]
    },
    {
     "name": "stdout",
     "output_type": "stream",
     "text": [
      "2285\n",
      "2277\n",
      "2268\n",
      "2286\n",
      "2276\n"
     ]
    },
    {
     "name": "stderr",
     "output_type": "stream",
     "text": [
      "\r",
      "2282it [06:20,  8.06it/s]"
     ]
    },
    {
     "name": "stdout",
     "output_type": "stream",
     "text": [
      "2272\n"
     ]
    },
    {
     "name": "stderr",
     "output_type": "stream",
     "text": [
      "\r",
      "2284it [06:20,  7.89it/s]"
     ]
    },
    {
     "name": "stdout",
     "output_type": "stream",
     "text": [
      "2293\n",
      "2275\n"
     ]
    },
    {
     "name": "stderr",
     "output_type": "stream",
     "text": [
      "2288it [06:21,  9.85it/s]"
     ]
    },
    {
     "name": "stdout",
     "output_type": "stream",
     "text": [
      "2296\n",
      "2280\n",
      "2294\n",
      "2295\n",
      "2290\n",
      "2288\n"
     ]
    },
    {
     "name": "stderr",
     "output_type": "stream",
     "text": [
      "\r",
      "2291it [06:21, 10.95it/s]"
     ]
    },
    {
     "name": "stdout",
     "output_type": "stream",
     "text": [
      "2281\n",
      "2291\n",
      "2298\n"
     ]
    },
    {
     "name": "stderr",
     "output_type": "stream",
     "text": [
      "\r",
      "2294it [06:21, 11.87it/s]"
     ]
    },
    {
     "name": "stdout",
     "output_type": "stream",
     "text": [
      "2297\n"
     ]
    },
    {
     "name": "stderr",
     "output_type": "stream",
     "text": [
      "\r",
      "2296it [06:22,  8.17it/s]"
     ]
    },
    {
     "name": "stdout",
     "output_type": "stream",
     "text": [
      "2284\n",
      "2283\n"
     ]
    },
    {
     "name": "stderr",
     "output_type": "stream",
     "text": [
      "\r",
      "2298it [06:22,  5.47it/s]"
     ]
    },
    {
     "name": "stdout",
     "output_type": "stream",
     "text": [
      "2292\n",
      "2289\n",
      "2279\n"
     ]
    },
    {
     "name": "stderr",
     "output_type": "stream",
     "text": [
      "\r",
      "2300it [06:23,  5.89it/s]"
     ]
    },
    {
     "name": "stdout",
     "output_type": "stream",
     "text": [
      "2300\n"
     ]
    },
    {
     "name": "stderr",
     "output_type": "stream",
     "text": [
      "\r",
      "2301it [06:24,  3.14it/s]"
     ]
    },
    {
     "name": "stdout",
     "output_type": "stream",
     "text": [
      "2303\n"
     ]
    },
    {
     "name": "stderr",
     "output_type": "stream",
     "text": [
      "\r",
      "2302it [06:24,  2.77it/s]"
     ]
    },
    {
     "name": "stdout",
     "output_type": "stream",
     "text": [
      "2299\n"
     ]
    },
    {
     "name": "stderr",
     "output_type": "stream",
     "text": [
      "2305it [06:25,  3.51it/s]"
     ]
    },
    {
     "name": "stdout",
     "output_type": "stream",
     "text": [
      "2306\n",
      "2302\n",
      "2304\n",
      "2305\n"
     ]
    },
    {
     "name": "stderr",
     "output_type": "stream",
     "text": [
      "2310it [06:26,  5.69it/s]"
     ]
    },
    {
     "name": "stdout",
     "output_type": "stream",
     "text": [
      "2309\n",
      "2310\n",
      "2308\n",
      "2301\n",
      "2313\n"
     ]
    },
    {
     "name": "stderr",
     "output_type": "stream",
     "text": [
      "2315it [06:26,  7.30it/s]"
     ]
    },
    {
     "name": "stdout",
     "output_type": "stream",
     "text": [
      "2311\n",
      "2307\n",
      "2312\n",
      "2314\n",
      "2316\n"
     ]
    },
    {
     "name": "stderr",
     "output_type": "stream",
     "text": [
      "2319it [06:27,  6.88it/s]"
     ]
    },
    {
     "name": "stdout",
     "output_type": "stream",
     "text": [
      "2327\n",
      "2322\n",
      "2324\n",
      "2315\n"
     ]
    },
    {
     "name": "stderr",
     "output_type": "stream",
     "text": [
      "2322it [06:27,  6.65it/s]"
     ]
    },
    {
     "name": "stdout",
     "output_type": "stream",
     "text": [
      "2329\n",
      "2321\n"
     ]
    },
    {
     "name": "stderr",
     "output_type": "stream",
     "text": [
      "\r",
      "2323it [06:28,  6.47it/s]"
     ]
    },
    {
     "name": "stdout",
     "output_type": "stream",
     "text": [
      "2331\n",
      "2317\n"
     ]
    },
    {
     "name": "stderr",
     "output_type": "stream",
     "text": [
      "\r",
      "2325it [06:28,  7.25it/s]"
     ]
    },
    {
     "name": "stdout",
     "output_type": "stream",
     "text": [
      "2320\n",
      "2328\n",
      "2325\n"
     ]
    },
    {
     "name": "stderr",
     "output_type": "stream",
     "text": [
      "2329it [06:28,  6.64it/s]"
     ]
    },
    {
     "name": "stdout",
     "output_type": "stream",
     "text": [
      "2318\n",
      "2323\n"
     ]
    },
    {
     "name": "stderr",
     "output_type": "stream",
     "text": [
      "\r",
      "2330it [06:29,  6.63it/s]"
     ]
    },
    {
     "name": "stdout",
     "output_type": "stream",
     "text": [
      "2326\n"
     ]
    },
    {
     "name": "stderr",
     "output_type": "stream",
     "text": [
      "2332it [06:29,  6.06it/s]"
     ]
    },
    {
     "name": "stdout",
     "output_type": "stream",
     "text": [
      "2332\n",
      "2319\n"
     ]
    },
    {
     "name": "stderr",
     "output_type": "stream",
     "text": [
      "\r",
      "2333it [06:29,  6.09it/s]"
     ]
    },
    {
     "name": "stdout",
     "output_type": "stream",
     "text": [
      "2330\n"
     ]
    },
    {
     "name": "stderr",
     "output_type": "stream",
     "text": [
      "\r",
      "2334it [06:29,  4.62it/s]"
     ]
    },
    {
     "name": "stdout",
     "output_type": "stream",
     "text": [
      "2338\n"
     ]
    },
    {
     "name": "stderr",
     "output_type": "stream",
     "text": [
      "2336it [06:30,  3.14it/s]"
     ]
    },
    {
     "name": "stdout",
     "output_type": "stream",
     "text": [
      "2336\n",
      "2333\n"
     ]
    },
    {
     "name": "stderr",
     "output_type": "stream",
     "text": [
      "\r",
      "2337it [06:31,  3.73it/s]"
     ]
    },
    {
     "name": "stdout",
     "output_type": "stream",
     "text": [
      "2345\n"
     ]
    },
    {
     "name": "stderr",
     "output_type": "stream",
     "text": [
      "\r",
      "2338it [06:31,  4.01it/s]"
     ]
    },
    {
     "name": "stdout",
     "output_type": "stream",
     "text": [
      "2339\n",
      "2356\n"
     ]
    },
    {
     "name": "stderr",
     "output_type": "stream",
     "text": [
      "2341it [06:32,  4.09it/s]"
     ]
    },
    {
     "name": "stdout",
     "output_type": "stream",
     "text": [
      "2340\n",
      "2355\n"
     ]
    },
    {
     "name": "stderr",
     "output_type": "stream",
     "text": [
      "\r",
      "2342it [06:32,  3.91it/s]"
     ]
    },
    {
     "name": "stdout",
     "output_type": "stream",
     "text": [
      "2346\n",
      "2337\n"
     ]
    },
    {
     "name": "stderr",
     "output_type": "stream",
     "text": [
      "2346it [06:32,  6.52it/s]"
     ]
    },
    {
     "name": "stdout",
     "output_type": "stream",
     "text": [
      "2344\n",
      "2351\n",
      "2335\n"
     ]
    },
    {
     "name": "stderr",
     "output_type": "stream",
     "text": [
      "\r",
      "2348it [06:32,  7.86it/s]"
     ]
    },
    {
     "name": "stdout",
     "output_type": "stream",
     "text": [
      "2348\n",
      "2347\n",
      "2342\n"
     ]
    },
    {
     "name": "stderr",
     "output_type": "stream",
     "text": [
      "2352it [06:33,  9.08it/s]"
     ]
    },
    {
     "name": "stdout",
     "output_type": "stream",
     "text": [
      "2343\n",
      "2334\n",
      "2352\n"
     ]
    },
    {
     "name": "stderr",
     "output_type": "stream",
     "text": [
      "\r",
      "2353it [06:33,  8.97it/s]"
     ]
    },
    {
     "name": "stdout",
     "output_type": "stream",
     "text": [
      "2358\n"
     ]
    },
    {
     "name": "stderr",
     "output_type": "stream",
     "text": [
      "\r",
      "2354it [06:33,  4.90it/s]"
     ]
    },
    {
     "name": "stdout",
     "output_type": "stream",
     "text": [
      "2361\n",
      "None\n",
      "2341\n",
      "2353\n"
     ]
    },
    {
     "name": "stderr",
     "output_type": "stream",
     "text": [
      "\r",
      "2358it [06:34,  6.93it/s]"
     ]
    },
    {
     "name": "stdout",
     "output_type": "stream",
     "text": [
      "2350\n"
     ]
    },
    {
     "name": "stderr",
     "output_type": "stream",
     "text": [
      "2360it [06:34,  6.01it/s]"
     ]
    },
    {
     "name": "stdout",
     "output_type": "stream",
     "text": [
      "2354\n",
      "2349\n"
     ]
    },
    {
     "name": "stderr",
     "output_type": "stream",
     "text": [
      "2365it [06:35,  9.78it/s]"
     ]
    },
    {
     "name": "stdout",
     "output_type": "stream",
     "text": [
      "2360\n",
      "None\n",
      "None\n",
      "2362\n",
      "2363\n"
     ]
    },
    {
     "name": "stderr",
     "output_type": "stream",
     "text": [
      "2368it [06:35,  8.93it/s]"
     ]
    },
    {
     "name": "stdout",
     "output_type": "stream",
     "text": [
      "2364\n",
      "None\n",
      "2365\n"
     ]
    },
    {
     "name": "stderr",
     "output_type": "stream",
     "text": [
      "2370it [06:36,  5.67it/s]"
     ]
    },
    {
     "name": "stdout",
     "output_type": "stream",
     "text": [
      "2368\n",
      "2359\n",
      "2366\n"
     ]
    },
    {
     "name": "stderr",
     "output_type": "stream",
     "text": [
      "\r",
      "2372it [06:36,  5.82it/s]"
     ]
    },
    {
     "name": "stdout",
     "output_type": "stream",
     "text": [
      "2373\n"
     ]
    },
    {
     "name": "stderr",
     "output_type": "stream",
     "text": [
      "\r",
      "2373it [06:36,  5.26it/s]"
     ]
    },
    {
     "name": "stdout",
     "output_type": "stream",
     "text": [
      "2357\n",
      "2367\n",
      "2369\n"
     ]
    },
    {
     "name": "stderr",
     "output_type": "stream",
     "text": [
      "\r",
      "2376it [06:37,  5.23it/s]"
     ]
    },
    {
     "name": "stdout",
     "output_type": "stream",
     "text": [
      "2376\n",
      "2370\n"
     ]
    },
    {
     "name": "stderr",
     "output_type": "stream",
     "text": [
      "\r",
      "2378it [06:37,  5.31it/s]"
     ]
    },
    {
     "name": "stdout",
     "output_type": "stream",
     "text": [
      "2377\n",
      "2384\n"
     ]
    },
    {
     "name": "stderr",
     "output_type": "stream",
     "text": [
      "\r",
      "2380it [06:38,  5.53it/s]"
     ]
    },
    {
     "name": "stdout",
     "output_type": "stream",
     "text": [
      "2390\n"
     ]
    },
    {
     "name": "stderr",
     "output_type": "stream",
     "text": [
      "2382it [06:38,  5.13it/s]"
     ]
    },
    {
     "name": "stdout",
     "output_type": "stream",
     "text": [
      "2378\n",
      "2372\n"
     ]
    },
    {
     "name": "stderr",
     "output_type": "stream",
     "text": [
      "2384it [06:38,  5.78it/s]"
     ]
    },
    {
     "name": "stdout",
     "output_type": "stream",
     "text": [
      "2371\n",
      "2381\n"
     ]
    },
    {
     "name": "stderr",
     "output_type": "stream",
     "text": [
      "\r",
      "2386it [06:38,  8.14it/s]"
     ]
    },
    {
     "name": "stdout",
     "output_type": "stream",
     "text": [
      "2375\n",
      "2388\n",
      "2374\n"
     ]
    },
    {
     "name": "stderr",
     "output_type": "stream",
     "text": [
      "2389it [06:39,  5.86it/s]"
     ]
    },
    {
     "name": "stdout",
     "output_type": "stream",
     "text": [
      "2398\n",
      "2387\n"
     ]
    },
    {
     "name": "stderr",
     "output_type": "stream",
     "text": [
      "2392it [06:40,  6.43it/s]"
     ]
    },
    {
     "name": "stdout",
     "output_type": "stream",
     "text": [
      "2389\n",
      "2383\n",
      "2380\n"
     ]
    },
    {
     "name": "stderr",
     "output_type": "stream",
     "text": [
      "2394it [06:40,  4.68it/s]"
     ]
    },
    {
     "name": "stdout",
     "output_type": "stream",
     "text": [
      "2386\n",
      "2394\n"
     ]
    },
    {
     "name": "stderr",
     "output_type": "stream",
     "text": [
      "\r",
      "2395it [06:40,  5.27it/s]"
     ]
    },
    {
     "name": "stdout",
     "output_type": "stream",
     "text": [
      "2395\n"
     ]
    },
    {
     "name": "stderr",
     "output_type": "stream",
     "text": [
      "2397it [06:41,  4.86it/s]"
     ]
    },
    {
     "name": "stdout",
     "output_type": "stream",
     "text": [
      "2399\n",
      "2382\n",
      "2379\n"
     ]
    },
    {
     "name": "stderr",
     "output_type": "stream",
     "text": [
      "\r",
      "2399it [06:41,  4.64it/s]"
     ]
    },
    {
     "name": "stdout",
     "output_type": "stream",
     "text": [
      "2396\n",
      "2400\n"
     ]
    },
    {
     "name": "stderr",
     "output_type": "stream",
     "text": [
      "\r",
      "2401it [06:42,  4.25it/s]"
     ]
    },
    {
     "name": "stdout",
     "output_type": "stream",
     "text": [
      "2406\n",
      "2411\n",
      "None\n"
     ]
    },
    {
     "name": "stderr",
     "output_type": "stream",
     "text": [
      "\r",
      "2404it [06:42,  4.81it/s]"
     ]
    },
    {
     "name": "stdout",
     "output_type": "stream",
     "text": [
      "2407\n"
     ]
    },
    {
     "name": "stderr",
     "output_type": "stream",
     "text": [
      "2406it [06:43,  4.22it/s]"
     ]
    },
    {
     "name": "stdout",
     "output_type": "stream",
     "text": [
      "2401\n",
      "2410\n",
      "2413\n",
      "2404\n"
     ]
    },
    {
     "name": "stderr",
     "output_type": "stream",
     "text": [
      "\r",
      "2409it [06:43,  6.41it/s]"
     ]
    },
    {
     "name": "stdout",
     "output_type": "stream",
     "text": [
      "2408\n"
     ]
    },
    {
     "name": "stderr",
     "output_type": "stream",
     "text": [
      "2412it [06:44,  5.43it/s]"
     ]
    },
    {
     "name": "stdout",
     "output_type": "stream",
     "text": [
      "2405\n",
      "2422\n",
      "2418\n",
      "2416\n",
      "None\n"
     ]
    },
    {
     "name": "stderr",
     "output_type": "stream",
     "text": [
      "2417it [06:44,  7.49it/s]"
     ]
    },
    {
     "name": "stdout",
     "output_type": "stream",
     "text": [
      "2415\n",
      "2391\n",
      "2412\n",
      "2425\n"
     ]
    },
    {
     "name": "stderr",
     "output_type": "stream",
     "text": [
      "\r",
      "2419it [06:45,  5.63it/s]"
     ]
    },
    {
     "name": "stdout",
     "output_type": "stream",
     "text": [
      "2419\n"
     ]
    },
    {
     "name": "stderr",
     "output_type": "stream",
     "text": [
      "\r",
      "2420it [06:45,  5.38it/s]"
     ]
    },
    {
     "name": "stdout",
     "output_type": "stream",
     "text": [
      "2421\n"
     ]
    },
    {
     "name": "stderr",
     "output_type": "stream",
     "text": [
      "2422it [06:46,  5.00it/s]"
     ]
    },
    {
     "name": "stdout",
     "output_type": "stream",
     "text": [
      "2430\n",
      "2420\n"
     ]
    },
    {
     "name": "stderr",
     "output_type": "stream",
     "text": [
      "2424it [06:46,  6.00it/s]"
     ]
    },
    {
     "name": "stdout",
     "output_type": "stream",
     "text": [
      "2409\n",
      "2423\n"
     ]
    },
    {
     "name": "stderr",
     "output_type": "stream",
     "text": [
      "2427it [06:46,  7.73it/s]"
     ]
    },
    {
     "name": "stdout",
     "output_type": "stream",
     "text": [
      "2417\n",
      "None\n",
      "2429\n"
     ]
    },
    {
     "name": "stderr",
     "output_type": "stream",
     "text": [
      "2429it [06:47,  4.51it/s]"
     ]
    },
    {
     "name": "stdout",
     "output_type": "stream",
     "text": [
      "2437\n",
      "2426\n"
     ]
    },
    {
     "name": "stderr",
     "output_type": "stream",
     "text": [
      "2431it [06:48,  4.65it/s]"
     ]
    },
    {
     "name": "stdout",
     "output_type": "stream",
     "text": [
      "2427\n",
      "2438\n"
     ]
    },
    {
     "name": "stderr",
     "output_type": "stream",
     "text": [
      "\r",
      "2435it [06:48,  8.52it/s]"
     ]
    },
    {
     "name": "stdout",
     "output_type": "stream",
     "text": [
      "2434\n",
      "2424\n",
      "2414\n",
      "2432\n"
     ]
    },
    {
     "name": "stderr",
     "output_type": "stream",
     "text": [
      "\r",
      "2436it [06:48,  5.29it/s]"
     ]
    },
    {
     "name": "stdout",
     "output_type": "stream",
     "text": [
      "2451\n",
      "2431\n"
     ]
    },
    {
     "name": "stderr",
     "output_type": "stream",
     "text": [
      "\r",
      "2438it [06:49,  5.81it/s]"
     ]
    },
    {
     "name": "stdout",
     "output_type": "stream",
     "text": [
      "2452\n"
     ]
    },
    {
     "name": "stderr",
     "output_type": "stream",
     "text": [
      "2441it [06:49,  5.32it/s]"
     ]
    },
    {
     "name": "stdout",
     "output_type": "stream",
     "text": [
      "2428\n",
      "2439\n",
      "2447\n"
     ]
    },
    {
     "name": "stderr",
     "output_type": "stream",
     "text": [
      "2444it [06:50,  4.95it/s]"
     ]
    },
    {
     "name": "stdout",
     "output_type": "stream",
     "text": [
      "2450\n",
      "2440\n",
      "2446\n"
     ]
    },
    {
     "name": "stderr",
     "output_type": "stream",
     "text": [
      "2447it [06:50,  6.95it/s]"
     ]
    },
    {
     "name": "stdout",
     "output_type": "stream",
     "text": [
      "2436\n",
      "2435\n",
      "2443\n"
     ]
    },
    {
     "name": "stderr",
     "output_type": "stream",
     "text": [
      "\r",
      "2448it [06:51,  6.03it/s]"
     ]
    },
    {
     "name": "stdout",
     "output_type": "stream",
     "text": [
      "2449\n",
      "2455\n"
     ]
    },
    {
     "name": "stderr",
     "output_type": "stream",
     "text": [
      "2452it [06:51,  7.37it/s]"
     ]
    },
    {
     "name": "stdout",
     "output_type": "stream",
     "text": [
      "2441\n",
      "2402\n",
      "2457\n"
     ]
    },
    {
     "name": "stderr",
     "output_type": "stream",
     "text": [
      "2454it [06:52,  5.38it/s]"
     ]
    },
    {
     "name": "stdout",
     "output_type": "stream",
     "text": [
      "2453\n",
      "2445\n"
     ]
    },
    {
     "name": "stderr",
     "output_type": "stream",
     "text": [
      "\r",
      "2455it [06:52,  4.72it/s]"
     ]
    },
    {
     "name": "stdout",
     "output_type": "stream",
     "text": [
      "2448\n",
      "2459\n"
     ]
    },
    {
     "name": "stderr",
     "output_type": "stream",
     "text": [
      "2460it [06:52,  8.24it/s]"
     ]
    },
    {
     "name": "stdout",
     "output_type": "stream",
     "text": [
      "2458\n",
      "2454\n",
      "2471\n",
      "2461\n",
      "2442\n",
      "2403\n"
     ]
    },
    {
     "name": "stderr",
     "output_type": "stream",
     "text": [
      "2464it [06:53,  8.39it/s]"
     ]
    },
    {
     "name": "stdout",
     "output_type": "stream",
     "text": [
      "2460\n",
      "2470\n"
     ]
    },
    {
     "name": "stderr",
     "output_type": "stream",
     "text": [
      "2466it [06:53,  8.08it/s]"
     ]
    },
    {
     "name": "stdout",
     "output_type": "stream",
     "text": [
      "2472\n",
      "2475\n",
      "2462\n"
     ]
    },
    {
     "name": "stderr",
     "output_type": "stream",
     "text": [
      "\r",
      "2468it [06:53,  9.09it/s]"
     ]
    },
    {
     "name": "stdout",
     "output_type": "stream",
     "text": [
      "2463\n",
      "2464\n"
     ]
    },
    {
     "name": "stderr",
     "output_type": "stream",
     "text": [
      "\r",
      "2470it [06:53,  8.41it/s]"
     ]
    },
    {
     "name": "stdout",
     "output_type": "stream",
     "text": [
      "2468\n",
      "None\n"
     ]
    },
    {
     "name": "stderr",
     "output_type": "stream",
     "text": [
      "2474it [06:54,  6.48it/s]"
     ]
    },
    {
     "name": "stdout",
     "output_type": "stream",
     "text": [
      "2466\n",
      "2469\n",
      "2467\n"
     ]
    },
    {
     "name": "stderr",
     "output_type": "stream",
     "text": [
      "\r",
      "2475it [06:55,  5.06it/s]"
     ]
    },
    {
     "name": "stdout",
     "output_type": "stream",
     "text": [
      "2473\n"
     ]
    },
    {
     "name": "stderr",
     "output_type": "stream",
     "text": [
      "\r",
      "2476it [06:56,  2.90it/s]"
     ]
    },
    {
     "name": "stdout",
     "output_type": "stream",
     "text": [
      "2493\n",
      "2465\n",
      "2474\n"
     ]
    },
    {
     "name": "stderr",
     "output_type": "stream",
     "text": [
      "2480it [06:56,  3.94it/s]"
     ]
    },
    {
     "name": "stdout",
     "output_type": "stream",
     "text": [
      "2482\n",
      "2496\n"
     ]
    },
    {
     "name": "stderr",
     "output_type": "stream",
     "text": [
      "\r",
      "2481it [06:56,  4.33it/s]"
     ]
    },
    {
     "name": "stdout",
     "output_type": "stream",
     "text": [
      "2479\n"
     ]
    },
    {
     "name": "stderr",
     "output_type": "stream",
     "text": [
      "\r",
      "2482it [06:57,  3.92it/s]"
     ]
    },
    {
     "name": "stdout",
     "output_type": "stream",
     "text": [
      "2483\n",
      "2476\n"
     ]
    },
    {
     "name": "stderr",
     "output_type": "stream",
     "text": [
      "2486it [06:58,  5.03it/s]"
     ]
    },
    {
     "name": "stdout",
     "output_type": "stream",
     "text": [
      "2478\n",
      "2481\n",
      "2485\n"
     ]
    },
    {
     "name": "stderr",
     "output_type": "stream",
     "text": [
      "2489it [06:58,  6.70it/s]"
     ]
    },
    {
     "name": "stdout",
     "output_type": "stream",
     "text": [
      "2480\n",
      "None\n",
      "2500\n"
     ]
    },
    {
     "name": "stderr",
     "output_type": "stream",
     "text": [
      "\r",
      "2491it [06:58,  7.51it/s]"
     ]
    },
    {
     "name": "stdout",
     "output_type": "stream",
     "text": [
      "2487\n",
      "2490\n",
      "None\n"
     ]
    },
    {
     "name": "stderr",
     "output_type": "stream",
     "text": [
      "\r",
      "2493it [06:58,  8.37it/s]"
     ]
    },
    {
     "name": "stdout",
     "output_type": "stream",
     "text": [
      "2484\n",
      "None\n"
     ]
    },
    {
     "name": "stderr",
     "output_type": "stream",
     "text": [
      "\r",
      "2495it [06:59,  7.96it/s]"
     ]
    },
    {
     "name": "stdout",
     "output_type": "stream",
     "text": [
      "2486\n"
     ]
    },
    {
     "name": "stderr",
     "output_type": "stream",
     "text": [
      "2499it [06:59,  8.77it/s]"
     ]
    },
    {
     "name": "stdout",
     "output_type": "stream",
     "text": [
      "2495\n",
      "2494\n",
      "2489\n",
      "2491\n",
      "2497\n",
      "2477\n"
     ]
    },
    {
     "name": "stderr",
     "output_type": "stream",
     "text": [
      "\r",
      "2503it [06:59, 11.79it/s]"
     ]
    },
    {
     "name": "stdout",
     "output_type": "stream",
     "text": [
      "2502\n",
      "2499\n",
      "2498\n"
     ]
    },
    {
     "name": "stderr",
     "output_type": "stream",
     "text": [
      "\r",
      "2505it [07:00,  7.76it/s]"
     ]
    },
    {
     "name": "stdout",
     "output_type": "stream",
     "text": [
      "2492\n",
      "2505\n"
     ]
    },
    {
     "name": "stderr",
     "output_type": "stream",
     "text": [
      "\r",
      "2507it [07:00,  6.21it/s]"
     ]
    },
    {
     "name": "stdout",
     "output_type": "stream",
     "text": [
      "2504\n",
      "2510\n"
     ]
    },
    {
     "name": "stderr",
     "output_type": "stream",
     "text": [
      "2510it [07:01,  5.43it/s]"
     ]
    },
    {
     "name": "stdout",
     "output_type": "stream",
     "text": [
      "2513\n",
      "2506\n"
     ]
    },
    {
     "name": "stderr",
     "output_type": "stream",
     "text": [
      "\r",
      "2511it [07:01,  5.24it/s]"
     ]
    },
    {
     "name": "stdout",
     "output_type": "stream",
     "text": [
      "2509\n"
     ]
    },
    {
     "name": "stderr",
     "output_type": "stream",
     "text": [
      "\r",
      "2512it [07:01,  4.46it/s]"
     ]
    },
    {
     "name": "stdout",
     "output_type": "stream",
     "text": [
      "2507\n"
     ]
    },
    {
     "name": "stderr",
     "output_type": "stream",
     "text": [
      "2516it [07:02,  6.40it/s]"
     ]
    },
    {
     "name": "stdout",
     "output_type": "stream",
     "text": [
      "2511\n",
      "2508\n",
      "2514\n",
      "2488\n",
      "2523\n"
     ]
    },
    {
     "name": "stderr",
     "output_type": "stream",
     "text": [
      "\r",
      "2518it [07:02,  7.25it/s]"
     ]
    },
    {
     "name": "stdout",
     "output_type": "stream",
     "text": [
      "2515\n",
      "2503\n"
     ]
    },
    {
     "name": "stderr",
     "output_type": "stream",
     "text": [
      "2522it [07:03,  5.13it/s]"
     ]
    },
    {
     "name": "stdout",
     "output_type": "stream",
     "text": [
      "2516\n",
      "2536\n",
      "2519\n"
     ]
    },
    {
     "name": "stderr",
     "output_type": "stream",
     "text": [
      "\r",
      "2523it [07:03,  5.51it/s]"
     ]
    },
    {
     "name": "stdout",
     "output_type": "stream",
     "text": [
      "2528\n"
     ]
    },
    {
     "name": "stderr",
     "output_type": "stream",
     "text": [
      "\r",
      "2524it [07:04,  4.91it/s]"
     ]
    },
    {
     "name": "stdout",
     "output_type": "stream",
     "text": [
      "2527\n",
      "2521\n"
     ]
    },
    {
     "name": "stderr",
     "output_type": "stream",
     "text": [
      "\r",
      "2526it [07:04,  5.28it/s]"
     ]
    },
    {
     "name": "stdout",
     "output_type": "stream",
     "text": [
      "2531\n"
     ]
    },
    {
     "name": "stderr",
     "output_type": "stream",
     "text": [
      "\r",
      "2527it [07:04,  4.19it/s]"
     ]
    },
    {
     "name": "stdout",
     "output_type": "stream",
     "text": [
      "2520\n",
      "2526\n"
     ]
    },
    {
     "name": "stderr",
     "output_type": "stream",
     "text": [
      "\r",
      "2529it [07:05,  5.23it/s]"
     ]
    },
    {
     "name": "stdout",
     "output_type": "stream",
     "text": [
      "2512\n"
     ]
    },
    {
     "name": "stderr",
     "output_type": "stream",
     "text": [
      "2533it [07:05,  7.07it/s]"
     ]
    },
    {
     "name": "stdout",
     "output_type": "stream",
     "text": [
      "2525\n",
      "None\n",
      "2541\n",
      "2530\n"
     ]
    },
    {
     "name": "stderr",
     "output_type": "stream",
     "text": [
      "2535it [07:06,  6.15it/s]"
     ]
    },
    {
     "name": "stdout",
     "output_type": "stream",
     "text": [
      "2534\n",
      "2547\n"
     ]
    },
    {
     "name": "stderr",
     "output_type": "stream",
     "text": [
      "\r",
      "2536it [07:06,  4.67it/s]"
     ]
    },
    {
     "name": "stdout",
     "output_type": "stream",
     "text": [
      "2550\n",
      "2537\n"
     ]
    },
    {
     "name": "stderr",
     "output_type": "stream",
     "text": [
      "2540it [07:07,  5.90it/s]"
     ]
    },
    {
     "name": "stdout",
     "output_type": "stream",
     "text": [
      "2543\n",
      "2546\n",
      "2539\n"
     ]
    },
    {
     "name": "stderr",
     "output_type": "stream",
     "text": [
      "2543it [07:07,  7.53it/s]"
     ]
    },
    {
     "name": "stdout",
     "output_type": "stream",
     "text": [
      "2517\n",
      "2529\n",
      "2540\n",
      "None\n"
     ]
    },
    {
     "name": "stderr",
     "output_type": "stream",
     "text": [
      "\r",
      "2545it [07:07,  9.35it/s]"
     ]
    },
    {
     "name": "stdout",
     "output_type": "stream",
     "text": [
      "2535\n"
     ]
    },
    {
     "name": "stderr",
     "output_type": "stream",
     "text": [
      "\r",
      "2547it [07:08,  6.08it/s]"
     ]
    },
    {
     "name": "stdout",
     "output_type": "stream",
     "text": [
      "2532\n",
      "2544\n",
      "2548\n"
     ]
    },
    {
     "name": "stderr",
     "output_type": "stream",
     "text": [
      "\r",
      "2549it [07:08,  5.41it/s]"
     ]
    },
    {
     "name": "stdout",
     "output_type": "stream",
     "text": [
      "2549\n"
     ]
    },
    {
     "name": "stderr",
     "output_type": "stream",
     "text": [
      "\r",
      "2550it [07:09,  4.31it/s]"
     ]
    },
    {
     "name": "stdout",
     "output_type": "stream",
     "text": [
      "2538\n"
     ]
    },
    {
     "name": "stderr",
     "output_type": "stream",
     "text": [
      "\r",
      "2551it [07:09,  4.32it/s]"
     ]
    },
    {
     "name": "stdout",
     "output_type": "stream",
     "text": [
      "2551\n"
     ]
    },
    {
     "name": "stderr",
     "output_type": "stream",
     "text": [
      "2553it [07:09,  3.93it/s]"
     ]
    },
    {
     "name": "stdout",
     "output_type": "stream",
     "text": [
      "2533\n",
      "2553\n"
     ]
    },
    {
     "name": "stderr",
     "output_type": "stream",
     "text": [
      "\r",
      "2554it [07:10,  4.39it/s]"
     ]
    },
    {
     "name": "stdout",
     "output_type": "stream",
     "text": [
      "2542\n",
      "2555\n"
     ]
    },
    {
     "name": "stderr",
     "output_type": "stream",
     "text": [
      "\r",
      "2556it [07:10,  4.80it/s]"
     ]
    },
    {
     "name": "stdout",
     "output_type": "stream",
     "text": [
      "2564\n"
     ]
    },
    {
     "name": "stderr",
     "output_type": "stream",
     "text": [
      "\r",
      "2557it [07:10,  4.46it/s]"
     ]
    },
    {
     "name": "stdout",
     "output_type": "stream",
     "text": [
      "2552\n",
      "2557\n",
      "2545\n",
      "None\n",
      "2558\n"
     ]
    },
    {
     "name": "stderr",
     "output_type": "stream",
     "text": [
      "2564it [07:11,  7.63it/s]"
     ]
    },
    {
     "name": "stdout",
     "output_type": "stream",
     "text": [
      "2560\n",
      "None\n",
      "2563\n"
     ]
    },
    {
     "name": "stderr",
     "output_type": "stream",
     "text": [
      "2566it [07:11,  7.30it/s]"
     ]
    },
    {
     "name": "stdout",
     "output_type": "stream",
     "text": [
      "2554\n",
      "2566\n"
     ]
    },
    {
     "name": "stderr",
     "output_type": "stream",
     "text": [
      "\r",
      "2568it [07:11,  9.05it/s]"
     ]
    },
    {
     "name": "stdout",
     "output_type": "stream",
     "text": [
      "2556\n",
      "2565\n",
      "2562\n"
     ]
    },
    {
     "name": "stderr",
     "output_type": "stream",
     "text": [
      "\r",
      "2570it [07:12,  6.89it/s]"
     ]
    },
    {
     "name": "stdout",
     "output_type": "stream",
     "text": [
      "2567\n"
     ]
    },
    {
     "name": "stderr",
     "output_type": "stream",
     "text": [
      "2573it [07:12,  5.82it/s]"
     ]
    },
    {
     "name": "stdout",
     "output_type": "stream",
     "text": [
      "2570\n",
      "None\n",
      "2580\n",
      "2577\n",
      "2572\n",
      "2571\n"
     ]
    },
    {
     "name": "stderr",
     "output_type": "stream",
     "text": [
      "\r",
      "2577it [07:13,  8.49it/s]"
     ]
    },
    {
     "name": "stdout",
     "output_type": "stream",
     "text": [
      "2559\n"
     ]
    },
    {
     "name": "stderr",
     "output_type": "stream",
     "text": [
      "\r",
      "2579it [07:13,  7.36it/s]"
     ]
    },
    {
     "name": "stdout",
     "output_type": "stream",
     "text": [
      "2583\n",
      "2576\n"
     ]
    },
    {
     "name": "stderr",
     "output_type": "stream",
     "text": [
      "\r",
      "2580it [07:13,  7.45it/s]"
     ]
    },
    {
     "name": "stdout",
     "output_type": "stream",
     "text": [
      "2579\n",
      "2569\n",
      "None\n"
     ]
    },
    {
     "name": "stderr",
     "output_type": "stream",
     "text": [
      "2585it [07:14,  8.79it/s]"
     ]
    },
    {
     "name": "stdout",
     "output_type": "stream",
     "text": [
      "2585\n",
      "2586\n",
      "2581\n",
      "2575\n"
     ]
    },
    {
     "name": "stderr",
     "output_type": "stream",
     "text": [
      "\r",
      "2587it [07:14,  6.67it/s]"
     ]
    },
    {
     "name": "stdout",
     "output_type": "stream",
     "text": [
      "2584\n",
      "2582\n",
      "2568\n"
     ]
    },
    {
     "name": "stderr",
     "output_type": "stream",
     "text": [
      "\r",
      "2590it [07:15,  5.86it/s]"
     ]
    },
    {
     "name": "stdout",
     "output_type": "stream",
     "text": [
      "2601\n",
      "2578\n"
     ]
    },
    {
     "name": "stderr",
     "output_type": "stream",
     "text": [
      "\r",
      "2592it [07:15,  5.71it/s]"
     ]
    },
    {
     "name": "stdout",
     "output_type": "stream",
     "text": [
      "2573\n"
     ]
    },
    {
     "name": "stderr",
     "output_type": "stream",
     "text": [
      "\r",
      "2593it [07:16,  4.17it/s]"
     ]
    },
    {
     "name": "stdout",
     "output_type": "stream",
     "text": [
      "2589\n"
     ]
    },
    {
     "name": "stderr",
     "output_type": "stream",
     "text": [
      "\r",
      "2594it [07:16,  3.60it/s]"
     ]
    },
    {
     "name": "stdout",
     "output_type": "stream",
     "text": [
      "2600\n"
     ]
    },
    {
     "name": "stderr",
     "output_type": "stream",
     "text": [
      "2596it [07:17,  4.13it/s]"
     ]
    },
    {
     "name": "stdout",
     "output_type": "stream",
     "text": [
      "2592\n",
      "2587\n",
      "2595\n",
      "2588\n"
     ]
    },
    {
     "name": "stderr",
     "output_type": "stream",
     "text": [
      "2601it [07:18,  4.99it/s]"
     ]
    },
    {
     "name": "stdout",
     "output_type": "stream",
     "text": [
      "2597\n",
      "2599\n",
      "2603\n"
     ]
    },
    {
     "name": "stderr",
     "output_type": "stream",
     "text": [
      "\r",
      "2605it [07:18,  8.26it/s]"
     ]
    },
    {
     "name": "stdout",
     "output_type": "stream",
     "text": [
      "2591\n",
      "2604\n",
      "2596\n",
      "2598\n"
     ]
    },
    {
     "name": "stderr",
     "output_type": "stream",
     "text": [
      "\r",
      "2607it [07:18,  5.31it/s]"
     ]
    },
    {
     "name": "stdout",
     "output_type": "stream",
     "text": [
      "2605\n",
      "2594\n"
     ]
    },
    {
     "name": "stderr",
     "output_type": "stream",
     "text": [
      "2609it [07:19,  5.27it/s]"
     ]
    },
    {
     "name": "stdout",
     "output_type": "stream",
     "text": [
      "2607\n",
      "2608\n"
     ]
    },
    {
     "name": "stderr",
     "output_type": "stream",
     "text": [
      "2612it [07:19,  6.74it/s]"
     ]
    },
    {
     "name": "stdout",
     "output_type": "stream",
     "text": [
      "2611\n",
      "2618\n",
      "2615\n"
     ]
    },
    {
     "name": "stderr",
     "output_type": "stream",
     "text": [
      "\r",
      "2613it [07:20,  3.98it/s]"
     ]
    },
    {
     "name": "stdout",
     "output_type": "stream",
     "text": [
      "2619\n"
     ]
    },
    {
     "name": "stderr",
     "output_type": "stream",
     "text": [
      "\r",
      "2614it [07:20,  4.17it/s]"
     ]
    },
    {
     "name": "stdout",
     "output_type": "stream",
     "text": [
      "2617\n"
     ]
    },
    {
     "name": "stderr",
     "output_type": "stream",
     "text": [
      "2619it [07:21,  7.33it/s]"
     ]
    },
    {
     "name": "stdout",
     "output_type": "stream",
     "text": [
      "2613\n",
      "None\n",
      "2616\n",
      "2635\n",
      "2628\n",
      "2610\n",
      "2634\n",
      "2621\n"
     ]
    },
    {
     "name": "stderr",
     "output_type": "stream",
     "text": [
      "\r",
      "2623it [07:21,  8.81it/s]"
     ]
    },
    {
     "name": "stdout",
     "output_type": "stream",
     "text": [
      "2614\n"
     ]
    },
    {
     "name": "stderr",
     "output_type": "stream",
     "text": [
      "\r",
      "2625it [07:21,  8.50it/s]"
     ]
    },
    {
     "name": "stdout",
     "output_type": "stream",
     "text": [
      "2623\n",
      "2622\n"
     ]
    },
    {
     "name": "stderr",
     "output_type": "stream",
     "text": [
      "2627it [07:22,  5.55it/s]"
     ]
    },
    {
     "name": "stdout",
     "output_type": "stream",
     "text": [
      "2625\n",
      "2624\n"
     ]
    },
    {
     "name": "stderr",
     "output_type": "stream",
     "text": [
      "2629it [07:22,  4.72it/s]"
     ]
    },
    {
     "name": "stdout",
     "output_type": "stream",
     "text": [
      "2606\n",
      "2627\n"
     ]
    },
    {
     "name": "stderr",
     "output_type": "stream",
     "text": [
      "2631it [07:23,  4.00it/s]"
     ]
    },
    {
     "name": "stdout",
     "output_type": "stream",
     "text": [
      "2620\n",
      "2631\n"
     ]
    },
    {
     "name": "stderr",
     "output_type": "stream",
     "text": [
      "2633it [07:23,  4.99it/s]"
     ]
    },
    {
     "name": "stdout",
     "output_type": "stream",
     "text": [
      "2629\n",
      "2633\n"
     ]
    },
    {
     "name": "stderr",
     "output_type": "stream",
     "text": [
      "\r",
      "2634it [07:24,  4.97it/s]"
     ]
    },
    {
     "name": "stdout",
     "output_type": "stream",
     "text": [
      "2636\n",
      "None\n"
     ]
    },
    {
     "name": "stderr",
     "output_type": "stream",
     "text": [
      "2637it [07:24,  5.06it/s]"
     ]
    },
    {
     "name": "stdout",
     "output_type": "stream",
     "text": [
      "2609\n",
      "2630\n",
      "2639\n",
      "2651\n"
     ]
    },
    {
     "name": "stderr",
     "output_type": "stream",
     "text": [
      "2642it [07:25,  7.58it/s]"
     ]
    },
    {
     "name": "stdout",
     "output_type": "stream",
     "text": [
      "2644\n",
      "2626\n",
      "2641\n"
     ]
    },
    {
     "name": "stderr",
     "output_type": "stream",
     "text": [
      "\r",
      "2644it [07:25,  8.36it/s]"
     ]
    },
    {
     "name": "stdout",
     "output_type": "stream",
     "text": [
      "2643\n",
      "2637\n"
     ]
    },
    {
     "name": "stderr",
     "output_type": "stream",
     "text": [
      "\r",
      "2645it [07:25,  8.05it/s]"
     ]
    },
    {
     "name": "stdout",
     "output_type": "stream",
     "text": [
      "2638\n"
     ]
    },
    {
     "name": "stderr",
     "output_type": "stream",
     "text": [
      "2649it [07:26,  6.61it/s]"
     ]
    },
    {
     "name": "stdout",
     "output_type": "stream",
     "text": [
      "2648\n",
      "2649\n",
      "2642\n",
      "2657\n"
     ]
    },
    {
     "name": "stderr",
     "output_type": "stream",
     "text": [
      "\r",
      "2651it [07:26,  6.41it/s]"
     ]
    },
    {
     "name": "stdout",
     "output_type": "stream",
     "text": [
      "2652\n",
      "2650\n"
     ]
    },
    {
     "name": "stderr",
     "output_type": "stream",
     "text": [
      "\r",
      "2653it [07:26,  7.13it/s]"
     ]
    },
    {
     "name": "stdout",
     "output_type": "stream",
     "text": [
      "2640\n",
      "2660\n",
      "2663\n"
     ]
    },
    {
     "name": "stderr",
     "output_type": "stream",
     "text": [
      "\r",
      "2655it [07:27,  7.13it/s]"
     ]
    },
    {
     "name": "stdout",
     "output_type": "stream",
     "text": [
      "2647\n"
     ]
    },
    {
     "name": "stderr",
     "output_type": "stream",
     "text": [
      "\r",
      "2656it [07:27,  6.33it/s]"
     ]
    },
    {
     "name": "stdout",
     "output_type": "stream",
     "text": [
      "2656\n",
      "2658\n"
     ]
    },
    {
     "name": "stderr",
     "output_type": "stream",
     "text": [
      "\r",
      "2658it [07:27,  6.40it/s]"
     ]
    },
    {
     "name": "stdout",
     "output_type": "stream",
     "text": [
      "2668\n"
     ]
    },
    {
     "name": "stderr",
     "output_type": "stream",
     "text": [
      "\r",
      "2659it [07:28,  5.72it/s]"
     ]
    },
    {
     "name": "stdout",
     "output_type": "stream",
     "text": [
      "2666\n",
      "2632\n",
      "2655\n"
     ]
    },
    {
     "name": "stderr",
     "output_type": "stream",
     "text": [
      "\r",
      "2662it [07:28,  7.68it/s]"
     ]
    },
    {
     "name": "stdout",
     "output_type": "stream",
     "text": [
      "2669\n",
      "2653\n"
     ]
    },
    {
     "name": "stderr",
     "output_type": "stream",
     "text": [
      "2666it [07:28,  7.88it/s]"
     ]
    },
    {
     "name": "stdout",
     "output_type": "stream",
     "text": [
      "2675\n",
      "2676\n",
      "2645\n"
     ]
    },
    {
     "name": "stderr",
     "output_type": "stream",
     "text": [
      "\r",
      "2667it [07:29,  6.37it/s]"
     ]
    },
    {
     "name": "stdout",
     "output_type": "stream",
     "text": [
      "2659\n"
     ]
    },
    {
     "name": "stderr",
     "output_type": "stream",
     "text": [
      "\r",
      "2668it [07:29,  5.21it/s]"
     ]
    },
    {
     "name": "stdout",
     "output_type": "stream",
     "text": [
      "2679\n",
      "None\n",
      "2678\n"
     ]
    },
    {
     "name": "stderr",
     "output_type": "stream",
     "text": [
      "2672it [07:30,  5.37it/s]"
     ]
    },
    {
     "name": "stdout",
     "output_type": "stream",
     "text": [
      "2661\n",
      "2662\n"
     ]
    },
    {
     "name": "stderr",
     "output_type": "stream",
     "text": [
      "2675it [07:30,  7.26it/s]"
     ]
    },
    {
     "name": "stdout",
     "output_type": "stream",
     "text": [
      "2667\n",
      "2664\n",
      "2673\n"
     ]
    },
    {
     "name": "stderr",
     "output_type": "stream",
     "text": [
      "\r",
      "2676it [07:30,  6.04it/s]"
     ]
    },
    {
     "name": "stdout",
     "output_type": "stream",
     "text": [
      "2672\n",
      "2654\n"
     ]
    },
    {
     "name": "stderr",
     "output_type": "stream",
     "text": [
      "\r",
      "2678it [07:31,  4.76it/s]"
     ]
    },
    {
     "name": "stdout",
     "output_type": "stream",
     "text": [
      "2680\n"
     ]
    },
    {
     "name": "stderr",
     "output_type": "stream",
     "text": [
      "2681it [07:31,  5.58it/s]"
     ]
    },
    {
     "name": "stdout",
     "output_type": "stream",
     "text": [
      "2671\n",
      "2674\n",
      "2670\n"
     ]
    },
    {
     "name": "stderr",
     "output_type": "stream",
     "text": [
      "2683it [07:32,  5.99it/s]"
     ]
    },
    {
     "name": "stdout",
     "output_type": "stream",
     "text": [
      "2698\n",
      "2697\n"
     ]
    },
    {
     "name": "stderr",
     "output_type": "stream",
     "text": [
      "\r",
      "2684it [07:32,  6.13it/s]"
     ]
    },
    {
     "name": "stdout",
     "output_type": "stream",
     "text": [
      "2683\n",
      "2691\n",
      "2682\n"
     ]
    },
    {
     "name": "stderr",
     "output_type": "stream",
     "text": [
      "\r",
      "2687it [07:32,  6.25it/s]"
     ]
    },
    {
     "name": "stdout",
     "output_type": "stream",
     "text": [
      "2685\n",
      "2684\n"
     ]
    },
    {
     "name": "stderr",
     "output_type": "stream",
     "text": [
      "2690it [07:33,  7.19it/s]"
     ]
    },
    {
     "name": "stdout",
     "output_type": "stream",
     "text": [
      "2688\n",
      "2694\n",
      "2690\n"
     ]
    },
    {
     "name": "stderr",
     "output_type": "stream",
     "text": [
      "\r",
      "2692it [07:33,  8.45it/s]"
     ]
    },
    {
     "name": "stdout",
     "output_type": "stream",
     "text": [
      "2692\n",
      "2702\n"
     ]
    },
    {
     "name": "stderr",
     "output_type": "stream",
     "text": [
      "2695it [07:33,  8.26it/s]"
     ]
    },
    {
     "name": "stdout",
     "output_type": "stream",
     "text": [
      "2677\n",
      "2689\n",
      "2686\n"
     ]
    },
    {
     "name": "stderr",
     "output_type": "stream",
     "text": [
      "\r",
      "2697it [07:33,  7.23it/s]"
     ]
    },
    {
     "name": "stdout",
     "output_type": "stream",
     "text": [
      "2681\n",
      "2696\n"
     ]
    },
    {
     "name": "stderr",
     "output_type": "stream",
     "text": [
      "\r",
      "2699it [07:34,  6.97it/s]"
     ]
    },
    {
     "name": "stdout",
     "output_type": "stream",
     "text": [
      "2687\n",
      "2700\n"
     ]
    },
    {
     "name": "stderr",
     "output_type": "stream",
     "text": [
      "2702it [07:35,  4.95it/s]"
     ]
    },
    {
     "name": "stdout",
     "output_type": "stream",
     "text": [
      "2693\n",
      "2703\n"
     ]
    },
    {
     "name": "stderr",
     "output_type": "stream",
     "text": [
      "\r",
      "2703it [07:35,  4.57it/s]"
     ]
    },
    {
     "name": "stdout",
     "output_type": "stream",
     "text": [
      "2716\n"
     ]
    },
    {
     "name": "stderr",
     "output_type": "stream",
     "text": [
      "2705it [07:35,  4.24it/s]"
     ]
    },
    {
     "name": "stdout",
     "output_type": "stream",
     "text": [
      "2712\n",
      "2708\n"
     ]
    },
    {
     "name": "stderr",
     "output_type": "stream",
     "text": [
      "2707it [07:36,  5.33it/s]"
     ]
    },
    {
     "name": "stdout",
     "output_type": "stream",
     "text": [
      "2714\n",
      "2706\n"
     ]
    },
    {
     "name": "stderr",
     "output_type": "stream",
     "text": [
      "2709it [07:36,  5.94it/s]"
     ]
    },
    {
     "name": "stdout",
     "output_type": "stream",
     "text": [
      "2724\n",
      "2725\n",
      "2718\n",
      "None\n",
      "None\n",
      "None\n"
     ]
    },
    {
     "name": "stderr",
     "output_type": "stream",
     "text": [
      "\r",
      "2718it [07:36, 20.05it/s]"
     ]
    },
    {
     "name": "stdout",
     "output_type": "stream",
     "text": [
      "2723\n",
      "2701\n",
      "2695\n",
      "2719\n",
      "2726\n",
      "None\n",
      "2704\n"
     ]
    },
    {
     "name": "stderr",
     "output_type": "stream",
     "text": [
      "\r",
      "2721it [07:37, 14.53it/s]"
     ]
    },
    {
     "name": "stdout",
     "output_type": "stream",
     "text": [
      "2705\n"
     ]
    },
    {
     "name": "stderr",
     "output_type": "stream",
     "text": [
      "\r",
      "2723it [07:37, 12.12it/s]"
     ]
    },
    {
     "name": "stdout",
     "output_type": "stream",
     "text": [
      "2709\n",
      "None\n",
      "2710\n",
      "2715\n",
      "2731\n"
     ]
    },
    {
     "name": "stderr",
     "output_type": "stream",
     "text": [
      "\r",
      "2727it [07:37, 11.21it/s]"
     ]
    },
    {
     "name": "stdout",
     "output_type": "stream",
     "text": [
      "2727\n",
      "2711\n"
     ]
    },
    {
     "name": "stderr",
     "output_type": "stream",
     "text": [
      "2731it [07:38,  8.99it/s]"
     ]
    },
    {
     "name": "stdout",
     "output_type": "stream",
     "text": [
      "2717\n",
      "2720\n",
      "2713\n"
     ]
    },
    {
     "name": "stderr",
     "output_type": "stream",
     "text": [
      "\r",
      "2733it [07:38,  6.98it/s]"
     ]
    },
    {
     "name": "stdout",
     "output_type": "stream",
     "text": [
      "2728\n",
      "2707\n",
      "None\n"
     ]
    },
    {
     "name": "stderr",
     "output_type": "stream",
     "text": [
      "2736it [07:39,  5.65it/s]"
     ]
    },
    {
     "name": "stdout",
     "output_type": "stream",
     "text": [
      "2730\n",
      "2738\n",
      "2722\n",
      "2721\n"
     ]
    },
    {
     "name": "stderr",
     "output_type": "stream",
     "text": [
      "\r",
      "2739it [07:40,  4.88it/s]"
     ]
    },
    {
     "name": "stdout",
     "output_type": "stream",
     "text": [
      "2733\n",
      "2729\n"
     ]
    },
    {
     "name": "stderr",
     "output_type": "stream",
     "text": [
      "2743it [07:40,  6.30it/s]"
     ]
    },
    {
     "name": "stdout",
     "output_type": "stream",
     "text": [
      "2732\n",
      "2750\n",
      "2736\n"
     ]
    },
    {
     "name": "stderr",
     "output_type": "stream",
     "text": [
      "\r",
      "2744it [07:40,  6.03it/s]"
     ]
    },
    {
     "name": "stdout",
     "output_type": "stream",
     "text": [
      "2735\n"
     ]
    },
    {
     "name": "stderr",
     "output_type": "stream",
     "text": [
      "\r",
      "2745it [07:41,  3.49it/s]"
     ]
    },
    {
     "name": "stdout",
     "output_type": "stream",
     "text": [
      "2734\n"
     ]
    },
    {
     "name": "stderr",
     "output_type": "stream",
     "text": [
      "2748it [07:42,  4.86it/s]"
     ]
    },
    {
     "name": "stdout",
     "output_type": "stream",
     "text": [
      "2748\n",
      "2745\n",
      "2740\n"
     ]
    },
    {
     "name": "stderr",
     "output_type": "stream",
     "text": [
      "\r",
      "2749it [07:42,  5.16it/s]"
     ]
    },
    {
     "name": "stdout",
     "output_type": "stream",
     "text": [
      "2761\n"
     ]
    },
    {
     "name": "stderr",
     "output_type": "stream",
     "text": [
      "2751it [07:42,  5.16it/s]"
     ]
    },
    {
     "name": "stdout",
     "output_type": "stream",
     "text": [
      "2769\n",
      "2744\n"
     ]
    },
    {
     "name": "stderr",
     "output_type": "stream",
     "text": [
      "\r",
      "2752it [07:43,  4.72it/s]"
     ]
    },
    {
     "name": "stdout",
     "output_type": "stream",
     "text": [
      "2757\n",
      "2755\n"
     ]
    },
    {
     "name": "stderr",
     "output_type": "stream",
     "text": [
      "\r",
      "2754it [07:43,  5.77it/s]"
     ]
    },
    {
     "name": "stdout",
     "output_type": "stream",
     "text": [
      "2756\n"
     ]
    },
    {
     "name": "stderr",
     "output_type": "stream",
     "text": [
      "2758it [07:43,  7.52it/s]"
     ]
    },
    {
     "name": "stdout",
     "output_type": "stream",
     "text": [
      "2754\n",
      "None\n",
      "2762\n",
      "2773\n",
      "2758\n",
      "2765\n"
     ]
    },
    {
     "name": "stderr",
     "output_type": "stream",
     "text": [
      "2762it [07:44,  6.80it/s]"
     ]
    },
    {
     "name": "stdout",
     "output_type": "stream",
     "text": [
      "2737\n",
      "2752\n"
     ]
    },
    {
     "name": "stderr",
     "output_type": "stream",
     "text": [
      "\r",
      "2763it [07:44,  4.55it/s]"
     ]
    },
    {
     "name": "stdout",
     "output_type": "stream",
     "text": [
      "2760\n",
      "None\n",
      "2739"
     ]
    },
    {
     "name": "stderr",
     "output_type": "stream",
     "text": [
      "2767it [07:45,  6.79it/s]"
     ]
    },
    {
     "name": "stdout",
     "output_type": "stream",
     "text": [
      "\n",
      "2751\n",
      "2763\n"
     ]
    },
    {
     "name": "stderr",
     "output_type": "stream",
     "text": [
      "2769it [07:45,  7.29it/s]"
     ]
    },
    {
     "name": "stdout",
     "output_type": "stream",
     "text": [
      "2768\n",
      "2767\n"
     ]
    },
    {
     "name": "stderr",
     "output_type": "stream",
     "text": [
      "\r",
      "2770it [07:46,  4.96it/s]"
     ]
    },
    {
     "name": "stdout",
     "output_type": "stream",
     "text": [
      "2766\n"
     ]
    },
    {
     "name": "stderr",
     "output_type": "stream",
     "text": [
      "\r",
      "2771it [07:46,  3.41it/s]"
     ]
    },
    {
     "name": "stdout",
     "output_type": "stream",
     "text": [
      "2746\n"
     ]
    },
    {
     "name": "stderr",
     "output_type": "stream",
     "text": [
      "2775it [07:47,  5.80it/s]"
     ]
    },
    {
     "name": "stdout",
     "output_type": "stream",
     "text": [
      "2770\n",
      "2772\n",
      "None\n",
      "2784\n",
      "2778\n"
     ]
    },
    {
     "name": "stderr",
     "output_type": "stream",
     "text": [
      "\r",
      "2779it [07:47,  8.41it/s]"
     ]
    },
    {
     "name": "stdout",
     "output_type": "stream",
     "text": [
      "2759\n",
      "None\n",
      "2777\n"
     ]
    },
    {
     "name": "stderr",
     "output_type": "stream",
     "text": [
      "\r",
      "2781it [07:47,  8.23it/s]"
     ]
    },
    {
     "name": "stdout",
     "output_type": "stream",
     "text": [
      "2792\n",
      "2771\n",
      "2789\n",
      "None\n"
     ]
    },
    {
     "name": "stderr",
     "output_type": "stream",
     "text": [
      "\r",
      "2787it [07:47, 12.95it/s]"
     ]
    },
    {
     "name": "stdout",
     "output_type": "stream",
     "text": [
      "2775\n",
      "None\n",
      "None\n",
      "2782\n"
     ]
    },
    {
     "name": "stderr",
     "output_type": "stream",
     "text": [
      "\r",
      "2789it [07:47, 13.70it/s]"
     ]
    },
    {
     "name": "stdout",
     "output_type": "stream",
     "text": [
      "2747\n",
      "None\n",
      "2779\n"
     ]
    },
    {
     "name": "stderr",
     "output_type": "stream",
     "text": [
      "\r",
      "2791it [07:48, 11.47it/s]"
     ]
    },
    {
     "name": "stdout",
     "output_type": "stream",
     "text": [
      "2780\n"
     ]
    },
    {
     "name": "stderr",
     "output_type": "stream",
     "text": [
      "\r",
      "2793it [07:48,  8.87it/s]"
     ]
    },
    {
     "name": "stdout",
     "output_type": "stream",
     "text": [
      "2781\n",
      "2774\n",
      "2787\n"
     ]
    },
    {
     "name": "stderr",
     "output_type": "stream",
     "text": [
      "\r",
      "2795it [07:49,  5.51it/s]"
     ]
    },
    {
     "name": "stdout",
     "output_type": "stream",
     "text": [
      "2783\n"
     ]
    },
    {
     "name": "stderr",
     "output_type": "stream",
     "text": [
      "\r",
      "2796it [07:49,  5.16it/s]"
     ]
    },
    {
     "name": "stdout",
     "output_type": "stream",
     "text": [
      "2791\n",
      "2788\n"
     ]
    },
    {
     "name": "stderr",
     "output_type": "stream",
     "text": [
      "\r",
      "2798it [07:50,  4.29it/s]"
     ]
    },
    {
     "name": "stdout",
     "output_type": "stream",
     "text": [
      "2785\n"
     ]
    },
    {
     "name": "stderr",
     "output_type": "stream",
     "text": [
      "\r",
      "2799it [07:50,  4.37it/s]"
     ]
    },
    {
     "name": "stdout",
     "output_type": "stream",
     "text": [
      "2776\n"
     ]
    },
    {
     "name": "stderr",
     "output_type": "stream",
     "text": [
      "2801it [07:50,  5.01it/s]"
     ]
    },
    {
     "name": "stdout",
     "output_type": "stream",
     "text": [
      "2795\n",
      "2790\n",
      "2803\n"
     ]
    },
    {
     "name": "stderr",
     "output_type": "stream",
     "text": [
      "\r",
      "2803it [07:51,  5.71it/s]"
     ]
    },
    {
     "name": "stdout",
     "output_type": "stream",
     "text": [
      "2800\n",
      "2796\n",
      "2799\n"
     ]
    },
    {
     "name": "stderr",
     "output_type": "stream",
     "text": [
      "\r",
      "2806it [07:51,  5.61it/s]"
     ]
    },
    {
     "name": "stdout",
     "output_type": "stream",
     "text": [
      "2814\n",
      "2798\n"
     ]
    },
    {
     "name": "stderr",
     "output_type": "stream",
     "text": [
      "\r",
      "2808it [07:51,  5.89it/s]"
     ]
    },
    {
     "name": "stdout",
     "output_type": "stream",
     "text": [
      "2823\n",
      "2824\n",
      "2801\n"
     ]
    },
    {
     "name": "stderr",
     "output_type": "stream",
     "text": [
      "\r",
      "2811it [07:52,  7.09it/s]"
     ]
    },
    {
     "name": "stdout",
     "output_type": "stream",
     "text": [
      "2797\n"
     ]
    },
    {
     "name": "stderr",
     "output_type": "stream",
     "text": [
      "2813it [07:52,  6.25it/s]"
     ]
    },
    {
     "name": "stdout",
     "output_type": "stream",
     "text": [
      "2828\n",
      "2809\n",
      "2807\n",
      "2793\n"
     ]
    },
    {
     "name": "stderr",
     "output_type": "stream",
     "text": [
      "\r",
      "2816it [07:52,  8.76it/s]"
     ]
    },
    {
     "name": "stdout",
     "output_type": "stream",
     "text": [
      "2806\n",
      "2811\n"
     ]
    },
    {
     "name": "stderr",
     "output_type": "stream",
     "text": [
      "\r",
      "2818it [07:53,  5.14it/s]"
     ]
    },
    {
     "name": "stdout",
     "output_type": "stream",
     "text": [
      "2805\n"
     ]
    },
    {
     "name": "stderr",
     "output_type": "stream",
     "text": [
      "\r",
      "2819it [07:54,  4.15it/s]"
     ]
    },
    {
     "name": "stdout",
     "output_type": "stream",
     "text": [
      "2810\n",
      "2818\n"
     ]
    },
    {
     "name": "stderr",
     "output_type": "stream",
     "text": [
      "\r",
      "2821it [07:54,  4.32it/s]"
     ]
    },
    {
     "name": "stdout",
     "output_type": "stream",
     "text": [
      "2802\n"
     ]
    },
    {
     "name": "stderr",
     "output_type": "stream",
     "text": [
      "2823it [07:54,  4.40it/s]"
     ]
    },
    {
     "name": "stdout",
     "output_type": "stream",
     "text": [
      "2820\n",
      "2826\n",
      "2825\n"
     ]
    },
    {
     "name": "stderr",
     "output_type": "stream",
     "text": [
      "\r",
      "2825it [07:55,  3.60it/s]"
     ]
    },
    {
     "name": "stdout",
     "output_type": "stream",
     "text": [
      "2829\n"
     ]
    },
    {
     "name": "stderr",
     "output_type": "stream",
     "text": [
      "\r",
      "2826it [07:56,  3.09it/s]"
     ]
    },
    {
     "name": "stdout",
     "output_type": "stream",
     "text": [
      "2812\n",
      "2822\n",
      "2844\n",
      "2830\n"
     ]
    },
    {
     "name": "stderr",
     "output_type": "stream",
     "text": [
      "\r",
      "2830it [07:56,  5.55it/s]"
     ]
    },
    {
     "name": "stdout",
     "output_type": "stream",
     "text": [
      "2817\n"
     ]
    },
    {
     "name": "stderr",
     "output_type": "stream",
     "text": [
      "2832it [07:56,  5.55it/s]"
     ]
    },
    {
     "name": "stdout",
     "output_type": "stream",
     "text": [
      "2834\n",
      "2847\n"
     ]
    },
    {
     "name": "stderr",
     "output_type": "stream",
     "text": [
      "\r",
      "2833it [07:56,  5.55it/s]"
     ]
    },
    {
     "name": "stdout",
     "output_type": "stream",
     "text": [
      "2827\n"
     ]
    },
    {
     "name": "stderr",
     "output_type": "stream",
     "text": [
      "\r",
      "2834it [07:57,  5.07it/s]"
     ]
    },
    {
     "name": "stdout",
     "output_type": "stream",
     "text": [
      "2821\n"
     ]
    },
    {
     "name": "stderr",
     "output_type": "stream",
     "text": [
      "\r",
      "2835it [07:57,  4.96it/s]"
     ]
    },
    {
     "name": "stdout",
     "output_type": "stream",
     "text": [
      "2831\n",
      "2832\n",
      "None\n",
      "2835\n"
     ]
    },
    {
     "name": "stderr",
     "output_type": "stream",
     "text": [
      "2841it [07:57,  8.99it/s]"
     ]
    },
    {
     "name": "stdout",
     "output_type": "stream",
     "text": [
      "2837\n",
      "2845\n",
      "2836\n"
     ]
    },
    {
     "name": "stderr",
     "output_type": "stream",
     "text": [
      "2843it [07:58,  6.23it/s]"
     ]
    },
    {
     "name": "stdout",
     "output_type": "stream",
     "text": [
      "2833\n",
      "2839\n"
     ]
    },
    {
     "name": "stderr",
     "output_type": "stream",
     "text": [
      "\r",
      "2846it [07:58,  8.57it/s]"
     ]
    },
    {
     "name": "stdout",
     "output_type": "stream",
     "text": [
      "2846\n",
      "2841\n",
      "2855\n"
     ]
    },
    {
     "name": "stderr",
     "output_type": "stream",
     "text": [
      "\r",
      "2848it [07:58,  9.18it/s]"
     ]
    },
    {
     "name": "stdout",
     "output_type": "stream",
     "text": [
      "2840\n",
      "2838\n",
      "None\n"
     ]
    },
    {
     "name": "stderr",
     "output_type": "stream",
     "text": [
      "\r",
      "2850it [07:59,  7.75it/s]"
     ]
    },
    {
     "name": "stdout",
     "output_type": "stream",
     "text": [
      "2851\n",
      "None\n"
     ]
    },
    {
     "name": "stderr",
     "output_type": "stream",
     "text": [
      "\r",
      "2852it [07:59,  6.68it/s]"
     ]
    },
    {
     "name": "stdout",
     "output_type": "stream",
     "text": [
      "2856\n"
     ]
    },
    {
     "name": "stderr",
     "output_type": "stream",
     "text": [
      "\r",
      "2853it [08:00,  4.22it/s]"
     ]
    },
    {
     "name": "stdout",
     "output_type": "stream",
     "text": [
      "2849\n"
     ]
    },
    {
     "name": "stderr",
     "output_type": "stream",
     "text": [
      "2856it [08:00,  5.12it/s]"
     ]
    },
    {
     "name": "stdout",
     "output_type": "stream",
     "text": [
      "2850\n",
      "2843\n",
      "2854\n"
     ]
    },
    {
     "name": "stderr",
     "output_type": "stream",
     "text": [
      "\r",
      "2857it [08:01,  3.60it/s]"
     ]
    },
    {
     "name": "stdout",
     "output_type": "stream",
     "text": [
      "2853\n",
      "2859\n"
     ]
    },
    {
     "name": "stderr",
     "output_type": "stream",
     "text": [
      "2860it [08:01,  4.98it/s]"
     ]
    },
    {
     "name": "stdout",
     "output_type": "stream",
     "text": [
      "2865\n",
      "2866\n"
     ]
    },
    {
     "name": "stderr",
     "output_type": "stream",
     "text": [
      "2863it [08:01,  6.85it/s]"
     ]
    },
    {
     "name": "stdout",
     "output_type": "stream",
     "text": [
      "2842\n",
      "2864\n",
      "2858\n",
      "2857\n"
     ]
    },
    {
     "name": "stderr",
     "output_type": "stream",
     "text": [
      "\r",
      "2865it [08:02,  8.26it/s]"
     ]
    },
    {
     "name": "stdout",
     "output_type": "stream",
     "text": [
      "2871\n"
     ]
    },
    {
     "name": "stderr",
     "output_type": "stream",
     "text": [
      "\r",
      "2866it [08:02,  6.12it/s]"
     ]
    },
    {
     "name": "stdout",
     "output_type": "stream",
     "text": [
      "2868\n"
     ]
    },
    {
     "name": "stderr",
     "output_type": "stream",
     "text": [
      "2869it [08:02,  6.81it/s]"
     ]
    },
    {
     "name": "stdout",
     "output_type": "stream",
     "text": [
      "2883\n",
      "2860\n",
      "2852\n",
      "2863\n"
     ]
    },
    {
     "name": "stderr",
     "output_type": "stream",
     "text": [
      "\r",
      "2871it [08:03,  7.72it/s]"
     ]
    },
    {
     "name": "stdout",
     "output_type": "stream",
     "text": [
      "2861\n"
     ]
    },
    {
     "name": "stderr",
     "output_type": "stream",
     "text": [
      "\r",
      "2872it [08:03,  6.07it/s]"
     ]
    },
    {
     "name": "stdout",
     "output_type": "stream",
     "text": [
      "2870\n"
     ]
    },
    {
     "name": "stderr",
     "output_type": "stream",
     "text": [
      "\r",
      "2873it [08:03,  4.81it/s]"
     ]
    },
    {
     "name": "stdout",
     "output_type": "stream",
     "text": [
      "2872\n",
      "2869\n",
      "None\n"
     ]
    },
    {
     "name": "stderr",
     "output_type": "stream",
     "text": [
      "\r",
      "2876it [08:04,  6.65it/s]"
     ]
    },
    {
     "name": "stdout",
     "output_type": "stream",
     "text": [
      "2873\n"
     ]
    },
    {
     "name": "stderr",
     "output_type": "stream",
     "text": [
      "2878it [08:04,  5.49it/s]"
     ]
    },
    {
     "name": "stdout",
     "output_type": "stream",
     "text": [
      "2888\n",
      "2877\n"
     ]
    },
    {
     "name": "stderr",
     "output_type": "stream",
     "text": [
      "2880it [08:04,  5.85it/s]"
     ]
    },
    {
     "name": "stdout",
     "output_type": "stream",
     "text": [
      "2878\n",
      "2890\n",
      "2894\n"
     ]
    },
    {
     "name": "stderr",
     "output_type": "stream",
     "text": [
      "2884it [08:05,  8.54it/s]"
     ]
    },
    {
     "name": "stdout",
     "output_type": "stream",
     "text": [
      "2896\n",
      "2893\n",
      "2880\n",
      "None\n"
     ]
    },
    {
     "name": "stderr",
     "output_type": "stream",
     "text": [
      "2888it [08:05, 10.28it/s]"
     ]
    },
    {
     "name": "stdout",
     "output_type": "stream",
     "text": [
      "2862\n",
      "2889\n",
      "None\n"
     ]
    },
    {
     "name": "stderr",
     "output_type": "stream",
     "text": [
      "\r",
      "2890it [08:05,  8.42it/s]"
     ]
    },
    {
     "name": "stdout",
     "output_type": "stream",
     "text": [
      "2882\n",
      "2900\n",
      "2898\n",
      "2876\n"
     ]
    },
    {
     "name": "stderr",
     "output_type": "stream",
     "text": [
      "\r",
      "2893it [08:06, 10.23it/s]"
     ]
    },
    {
     "name": "stdout",
     "output_type": "stream",
     "text": [
      "2848\n",
      "2886\n"
     ]
    },
    {
     "name": "stderr",
     "output_type": "stream",
     "text": [
      "\r",
      "2895it [08:06,  5.18it/s]"
     ]
    },
    {
     "name": "stdout",
     "output_type": "stream",
     "text": [
      "2887\n"
     ]
    },
    {
     "name": "stderr",
     "output_type": "stream",
     "text": [
      "\r",
      "2896it [08:07,  5.01it/s]"
     ]
    },
    {
     "name": "stdout",
     "output_type": "stream",
     "text": [
      "2875\n"
     ]
    },
    {
     "name": "stderr",
     "output_type": "stream",
     "text": [
      "\r",
      "2897it [08:07,  4.63it/s]"
     ]
    },
    {
     "name": "stdout",
     "output_type": "stream",
     "text": [
      "2891\n"
     ]
    },
    {
     "name": "stderr",
     "output_type": "stream",
     "text": [
      "\r",
      "2898it [08:08,  2.99it/s]"
     ]
    },
    {
     "name": "stdout",
     "output_type": "stream",
     "text": [
      "2874\n",
      "2902\n"
     ]
    },
    {
     "name": "stderr",
     "output_type": "stream",
     "text": [
      "2901it [08:08,  3.78it/s]"
     ]
    },
    {
     "name": "stdout",
     "output_type": "stream",
     "text": [
      "2919\n",
      "2903\n"
     ]
    },
    {
     "name": "stderr",
     "output_type": "stream",
     "text": [
      "\r",
      "2902it [08:09,  3.56it/s]"
     ]
    },
    {
     "name": "stdout",
     "output_type": "stream",
     "text": [
      "2899\n"
     ]
    },
    {
     "name": "stderr",
     "output_type": "stream",
     "text": [
      "\r",
      "2903it [08:09,  3.65it/s]"
     ]
    },
    {
     "name": "stdout",
     "output_type": "stream",
     "text": [
      "2901\n",
      "None\n",
      "2910\n"
     ]
    },
    {
     "name": "stderr",
     "output_type": "stream",
     "text": [
      "\r",
      "2906it [08:09,  5.80it/s]"
     ]
    },
    {
     "name": "stdout",
     "output_type": "stream",
     "text": [
      "2895\n",
      "2892\n"
     ]
    },
    {
     "name": "stderr",
     "output_type": "stream",
     "text": [
      "\r",
      "2908it [08:09,  6.21it/s]"
     ]
    },
    {
     "name": "stdout",
     "output_type": "stream",
     "text": [
      "2926\n",
      "2924\n",
      "2885\n"
     ]
    },
    {
     "name": "stderr",
     "output_type": "stream",
     "text": [
      "\r",
      "2911it [08:10,  8.00it/s]"
     ]
    },
    {
     "name": "stdout",
     "output_type": "stream",
     "text": [
      "2884\n",
      "2909\n"
     ]
    },
    {
     "name": "stderr",
     "output_type": "stream",
     "text": [
      "\r",
      "2913it [08:10,  7.83it/s]"
     ]
    },
    {
     "name": "stdout",
     "output_type": "stream",
     "text": [
      "2907\n"
     ]
    },
    {
     "name": "stderr",
     "output_type": "stream",
     "text": [
      "2915it [08:10,  6.63it/s]"
     ]
    },
    {
     "name": "stdout",
     "output_type": "stream",
     "text": [
      "2906\n",
      "2904\n",
      "2917\n"
     ]
    },
    {
     "name": "stderr",
     "output_type": "stream",
     "text": [
      "\r",
      "2917it [08:11,  7.31it/s]"
     ]
    },
    {
     "name": "stdout",
     "output_type": "stream",
     "text": [
      "2897\n",
      "2911\n"
     ]
    },
    {
     "name": "stderr",
     "output_type": "stream",
     "text": [
      "2920it [08:11,  7.05it/s]"
     ]
    },
    {
     "name": "stdout",
     "output_type": "stream",
     "text": [
      "2916\n",
      "2914\n"
     ]
    },
    {
     "name": "stderr",
     "output_type": "stream",
     "text": [
      "\r",
      "2922it [08:11,  7.70it/s]"
     ]
    },
    {
     "name": "stdout",
     "output_type": "stream",
     "text": [
      "2912\n",
      "2922\n"
     ]
    },
    {
     "name": "stderr",
     "output_type": "stream",
     "text": [
      "2924it [08:12,  4.40it/s]"
     ]
    },
    {
     "name": "stdout",
     "output_type": "stream",
     "text": [
      "2913\n",
      "2908\n",
      "2920\n"
     ]
    },
    {
     "name": "stderr",
     "output_type": "stream",
     "text": [
      "\r",
      "2926it [08:13,  3.66it/s]"
     ]
    },
    {
     "name": "stdout",
     "output_type": "stream",
     "text": [
      "2923\n",
      "None\n"
     ]
    },
    {
     "name": "stderr",
     "output_type": "stream",
     "text": [
      "\r",
      "2928it [08:13,  4.40it/s]"
     ]
    },
    {
     "name": "stdout",
     "output_type": "stream",
     "text": [
      "2933\n",
      "2925\n"
     ]
    },
    {
     "name": "stderr",
     "output_type": "stream",
     "text": [
      "\r",
      "2930it [08:13,  4.74it/s]"
     ]
    },
    {
     "name": "stdout",
     "output_type": "stream",
     "text": [
      "2944\n"
     ]
    },
    {
     "name": "stderr",
     "output_type": "stream",
     "text": [
      "2932it [08:14,  4.58it/s]"
     ]
    },
    {
     "name": "stdout",
     "output_type": "stream",
     "text": [
      "2932\n",
      "2948\n"
     ]
    },
    {
     "name": "stderr",
     "output_type": "stream",
     "text": [
      "\r",
      "2934it [08:14,  6.07it/s]"
     ]
    },
    {
     "name": "stdout",
     "output_type": "stream",
     "text": [
      "2929\n",
      "2927\n"
     ]
    },
    {
     "name": "stderr",
     "output_type": "stream",
     "text": [
      "\r",
      "2935it [08:14,  5.75it/s]"
     ]
    },
    {
     "name": "stdout",
     "output_type": "stream",
     "text": [
      "2953\n"
     ]
    },
    {
     "name": "stderr",
     "output_type": "stream",
     "text": [
      "\r",
      "2936it [08:15,  4.68it/s]"
     ]
    },
    {
     "name": "stdout",
     "output_type": "stream",
     "text": [
      "2928\n",
      "2921\n",
      "None\n"
     ]
    },
    {
     "name": "stderr",
     "output_type": "stream",
     "text": [
      "\r",
      "2939it [08:15,  6.61it/s]"
     ]
    },
    {
     "name": "stdout",
     "output_type": "stream",
     "text": [
      "2938\n"
     ]
    },
    {
     "name": "stderr",
     "output_type": "stream",
     "text": [
      "\r",
      "2940it [08:15,  5.74it/s]"
     ]
    },
    {
     "name": "stdout",
     "output_type": "stream",
     "text": [
      "2930\n",
      "2939\n"
     ]
    },
    {
     "name": "stderr",
     "output_type": "stream",
     "text": [
      "\r",
      "2942it [08:16,  5.30it/s]"
     ]
    },
    {
     "name": "stdout",
     "output_type": "stream",
     "text": [
      "2943\n",
      "2935\n"
     ]
    },
    {
     "name": "stderr",
     "output_type": "stream",
     "text": [
      "\r",
      "2944it [08:16,  6.06it/s]"
     ]
    },
    {
     "name": "stdout",
     "output_type": "stream",
     "text": [
      "2945\n"
     ]
    },
    {
     "name": "stderr",
     "output_type": "stream",
     "text": [
      "2950it [08:16, 10.25it/s]"
     ]
    },
    {
     "name": "stdout",
     "output_type": "stream",
     "text": [
      "2947\n",
      "None\n",
      "2940\n",
      "2936\n",
      "2952\n",
      "2937\n"
     ]
    },
    {
     "name": "stderr",
     "output_type": "stream",
     "text": [
      "\r",
      "2952it [08:16, 11.51it/s]"
     ]
    },
    {
     "name": "stdout",
     "output_type": "stream",
     "text": [
      "2950\n",
      "2941\n"
     ]
    },
    {
     "name": "stderr",
     "output_type": "stream",
     "text": [
      "\r",
      "2954it [08:17,  7.01it/s]"
     ]
    },
    {
     "name": "stdout",
     "output_type": "stream",
     "text": [
      "2946\n",
      "2949\n",
      "2951\n"
     ]
    },
    {
     "name": "stderr",
     "output_type": "stream",
     "text": [
      "\r",
      "2956it [08:17,  7.44it/s]"
     ]
    },
    {
     "name": "stdout",
     "output_type": "stream",
     "text": [
      "2956\n",
      "2942\n"
     ]
    },
    {
     "name": "stderr",
     "output_type": "stream",
     "text": [
      "\r",
      "2958it [08:18,  5.95it/s]"
     ]
    },
    {
     "name": "stdout",
     "output_type": "stream",
     "text": [
      "2955\n",
      "2931\n"
     ]
    },
    {
     "name": "stderr",
     "output_type": "stream",
     "text": [
      "\r",
      "2960it [08:19,  4.15it/s]"
     ]
    },
    {
     "name": "stdout",
     "output_type": "stream",
     "text": [
      "2960\n",
      "None\n"
     ]
    },
    {
     "name": "stderr",
     "output_type": "stream",
     "text": [
      "2963it [08:20,  3.49it/s]"
     ]
    },
    {
     "name": "stdout",
     "output_type": "stream",
     "text": [
      "2969\n",
      "2963\n"
     ]
    },
    {
     "name": "stderr",
     "output_type": "stream",
     "text": [
      "\r",
      "2964it [08:20,  3.94it/s]"
     ]
    },
    {
     "name": "stdout",
     "output_type": "stream",
     "text": [
      "2959\n",
      "2967\n"
     ]
    },
    {
     "name": "stderr",
     "output_type": "stream",
     "text": [
      "\r",
      "2966it [08:20,  4.81it/s]"
     ]
    },
    {
     "name": "stdout",
     "output_type": "stream",
     "text": [
      "2954\n",
      "2988\n",
      "2961\n"
     ]
    },
    {
     "name": "stderr",
     "output_type": "stream",
     "text": [
      "\r",
      "2969it [08:20,  6.47it/s]"
     ]
    },
    {
     "name": "stdout",
     "output_type": "stream",
     "text": [
      "2975\n",
      "None\n",
      "2987\n",
      "2972\n",
      "2980\n"
     ]
    },
    {
     "name": "stderr",
     "output_type": "stream",
     "text": [
      "\r",
      "2974it [08:21,  8.88it/s]"
     ]
    },
    {
     "name": "stdout",
     "output_type": "stream",
     "text": [
      "2964\n",
      "2966\n"
     ]
    },
    {
     "name": "stderr",
     "output_type": "stream",
     "text": [
      "\r",
      "2976it [08:21,  5.77it/s]"
     ]
    },
    {
     "name": "stdout",
     "output_type": "stream",
     "text": [
      "2973\n"
     ]
    },
    {
     "name": "stderr",
     "output_type": "stream",
     "text": [
      "2979it [08:22,  6.53it/s]"
     ]
    },
    {
     "name": "stdout",
     "output_type": "stream",
     "text": [
      "2970\n",
      "2974\n",
      "2979\n",
      "2962\n"
     ]
    },
    {
     "name": "stderr",
     "output_type": "stream",
     "text": [
      "\r",
      "2981it [08:22,  6.70it/s]"
     ]
    },
    {
     "name": "stdout",
     "output_type": "stream",
     "text": [
      "2977\n",
      "None\n",
      "2978\n",
      "2982\n"
     ]
    },
    {
     "name": "stderr",
     "output_type": "stream",
     "text": [
      "2987it [08:23,  9.40it/s]"
     ]
    },
    {
     "name": "stdout",
     "output_type": "stream",
     "text": [
      "2971\n",
      "2984\n",
      "2965\n",
      "None\n",
      "2990\n"
     ]
    },
    {
     "name": "stderr",
     "output_type": "stream",
     "text": [
      "\r",
      "2990it [08:23, 12.13it/s]"
     ]
    },
    {
     "name": "stdout",
     "output_type": "stream",
     "text": [
      "2958\n",
      "2986\n"
     ]
    },
    {
     "name": "stderr",
     "output_type": "stream",
     "text": [
      "\r",
      "2992it [08:25,  3.50it/s]"
     ]
    },
    {
     "name": "stdout",
     "output_type": "stream",
     "text": [
      "2985\n",
      "2995\n"
     ]
    },
    {
     "name": "stderr",
     "output_type": "stream",
     "text": [
      "2996it [08:25,  5.10it/s]"
     ]
    },
    {
     "name": "stdout",
     "output_type": "stream",
     "text": [
      "3005\n",
      "2992\n",
      "2981\n",
      "2983\n"
     ]
    },
    {
     "name": "stderr",
     "output_type": "stream",
     "text": [
      "\r",
      "2998it [08:26,  3.47it/s]"
     ]
    },
    {
     "name": "stdout",
     "output_type": "stream",
     "text": [
      "2998\n"
     ]
    },
    {
     "name": "stderr",
     "output_type": "stream",
     "text": [
      "\r",
      "2999it [08:27,  2.94it/s]"
     ]
    },
    {
     "name": "stdout",
     "output_type": "stream",
     "text": [
      "3007\n",
      "3001\n",
      "3006\n"
     ]
    },
    {
     "name": "stderr",
     "output_type": "stream",
     "text": [
      "\r",
      "3002it [08:27,  4.10it/s]"
     ]
    },
    {
     "name": "stdout",
     "output_type": "stream",
     "text": [
      "2993\n"
     ]
    },
    {
     "name": "stderr",
     "output_type": "stream",
     "text": [
      "3006it [08:27,  6.07it/s]"
     ]
    },
    {
     "name": "stdout",
     "output_type": "stream",
     "text": [
      "3010\n",
      "2994\n",
      "3002\n",
      "3003\n",
      "2989\n"
     ]
    },
    {
     "name": "stderr",
     "output_type": "stream",
     "text": [
      "3010it [08:28,  6.48it/s]"
     ]
    },
    {
     "name": "stdout",
     "output_type": "stream",
     "text": [
      "2996\n",
      "3027\n",
      "2997\n",
      "3014\n",
      "3009\n",
      "None\n"
     ]
    },
    {
     "name": "stderr",
     "output_type": "stream",
     "text": [
      "3018it [08:28, 11.91it/s]"
     ]
    },
    {
     "name": "stdout",
     "output_type": "stream",
     "text": [
      "3026\n",
      "3008\n",
      "3023\n",
      "3004\n",
      "3011\n",
      "2999\n"
     ]
    },
    {
     "name": "stderr",
     "output_type": "stream",
     "text": [
      "\r",
      "3020it [08:29,  9.84it/s]"
     ]
    },
    {
     "name": "stdout",
     "output_type": "stream",
     "text": [
      "3017\n",
      "3016\n"
     ]
    },
    {
     "name": "stderr",
     "output_type": "stream",
     "text": [
      "\r",
      "3022it [08:30,  5.48it/s]"
     ]
    },
    {
     "name": "stdout",
     "output_type": "stream",
     "text": [
      "3022\n",
      "3015\n",
      "3020\n"
     ]
    },
    {
     "name": "stderr",
     "output_type": "stream",
     "text": [
      "\r",
      "3025it [08:30,  6.53it/s]"
     ]
    },
    {
     "name": "stdout",
     "output_type": "stream",
     "text": [
      "3021\n"
     ]
    },
    {
     "name": "stderr",
     "output_type": "stream",
     "text": [
      "3027it [08:30,  5.67it/s]"
     ]
    },
    {
     "name": "stdout",
     "output_type": "stream",
     "text": [
      "3025\n",
      "3013\n"
     ]
    },
    {
     "name": "stderr",
     "output_type": "stream",
     "text": [
      "3029it [08:31,  5.64it/s]"
     ]
    },
    {
     "name": "stdout",
     "output_type": "stream",
     "text": [
      "3034\n",
      "3028\n"
     ]
    },
    {
     "name": "stderr",
     "output_type": "stream",
     "text": [
      "3031it [08:31,  6.10it/s]"
     ]
    },
    {
     "name": "stdout",
     "output_type": "stream",
     "text": [
      "3040\n",
      "3032\n",
      "3019\n",
      "3039\n"
     ]
    },
    {
     "name": "stderr",
     "output_type": "stream",
     "text": [
      "\r",
      "3034it [08:31,  7.54it/s]"
     ]
    },
    {
     "name": "stdout",
     "output_type": "stream",
     "text": [
      "3045\n",
      "3046\n"
     ]
    },
    {
     "name": "stderr",
     "output_type": "stream",
     "text": [
      "\r",
      "3036it [08:32,  7.72it/s]"
     ]
    },
    {
     "name": "stdout",
     "output_type": "stream",
     "text": [
      "3035\n",
      "3029\n"
     ]
    },
    {
     "name": "stderr",
     "output_type": "stream",
     "text": [
      "3039it [08:32,  7.08it/s]"
     ]
    },
    {
     "name": "stdout",
     "output_type": "stream",
     "text": [
      "3041\n",
      "3047\n",
      "3037\n"
     ]
    },
    {
     "name": "stderr",
     "output_type": "stream",
     "text": [
      "\r",
      "3041it [08:32,  7.84it/s]"
     ]
    },
    {
     "name": "stdout",
     "output_type": "stream",
     "text": [
      "3024\n"
     ]
    },
    {
     "name": "stderr",
     "output_type": "stream",
     "text": [
      "\r",
      "3042it [08:32,  6.66it/s]"
     ]
    },
    {
     "name": "stdout",
     "output_type": "stream",
     "text": [
      "3038\n"
     ]
    },
    {
     "name": "stderr",
     "output_type": "stream",
     "text": [
      "3045it [08:33,  4.59it/s]"
     ]
    },
    {
     "name": "stdout",
     "output_type": "stream",
     "text": [
      "3042\n",
      "3030\n",
      "3031\n"
     ]
    },
    {
     "name": "stderr",
     "output_type": "stream",
     "text": [
      "\r",
      "3048it [08:34,  7.03it/s]"
     ]
    },
    {
     "name": "stdout",
     "output_type": "stream",
     "text": [
      "3050\n",
      "3049\n",
      "3033\n"
     ]
    },
    {
     "name": "stderr",
     "output_type": "stream",
     "text": [
      "\r",
      "3050it [08:34,  5.44it/s]"
     ]
    },
    {
     "name": "stdout",
     "output_type": "stream",
     "text": [
      "3036\n",
      "3048\n"
     ]
    },
    {
     "name": "stderr",
     "output_type": "stream",
     "text": [
      "\r",
      "3051it [08:34,  5.17it/s]"
     ]
    },
    {
     "name": "stdout",
     "output_type": "stream",
     "text": [
      "3053\n",
      "3051\n",
      "3055\n"
     ]
    },
    {
     "name": "stderr",
     "output_type": "stream",
     "text": [
      "\r",
      "3054it [08:35,  6.76it/s]"
     ]
    },
    {
     "name": "stdout",
     "output_type": "stream",
     "text": [
      "3044\n"
     ]
    },
    {
     "name": "stderr",
     "output_type": "stream",
     "text": [
      "3057it [08:35,  6.24it/s]"
     ]
    },
    {
     "name": "stdout",
     "output_type": "stream",
     "text": [
      "3071\n",
      "3061\n",
      "3052\n"
     ]
    },
    {
     "name": "stderr",
     "output_type": "stream",
     "text": [
      "3059it [08:36,  5.55it/s]"
     ]
    },
    {
     "name": "stdout",
     "output_type": "stream",
     "text": [
      "3056\n",
      "3068\n"
     ]
    },
    {
     "name": "stderr",
     "output_type": "stream",
     "text": [
      "\r",
      "3060it [08:36,  5.61it/s]"
     ]
    },
    {
     "name": "stdout",
     "output_type": "stream",
     "text": [
      "3062\n",
      "3054\n",
      "3073\n"
     ]
    },
    {
     "name": "stderr",
     "output_type": "stream",
     "text": [
      "\r",
      "3063it [08:36,  5.94it/s]"
     ]
    },
    {
     "name": "stdout",
     "output_type": "stream",
     "text": [
      "3059\n"
     ]
    },
    {
     "name": "stderr",
     "output_type": "stream",
     "text": [
      "\r",
      "3064it [08:37,  4.90it/s]"
     ]
    },
    {
     "name": "stdout",
     "output_type": "stream",
     "text": [
      "3060\n"
     ]
    },
    {
     "name": "stderr",
     "output_type": "stream",
     "text": [
      "3066it [08:38,  3.57it/s]"
     ]
    },
    {
     "name": "stdout",
     "output_type": "stream",
     "text": [
      "3067\n",
      "3058\n",
      "3057\n"
     ]
    },
    {
     "name": "stderr",
     "output_type": "stream",
     "text": [
      "\r",
      "3068it [08:38,  4.44it/s]"
     ]
    },
    {
     "name": "stdout",
     "output_type": "stream",
     "text": [
      "3063\n"
     ]
    },
    {
     "name": "stderr",
     "output_type": "stream",
     "text": [
      "3071it [08:38,  6.31it/s]"
     ]
    },
    {
     "name": "stdout",
     "output_type": "stream",
     "text": [
      "3072\n",
      "None\n",
      "3075\n",
      "3086\n"
     ]
    },
    {
     "name": "stderr",
     "output_type": "stream",
     "text": [
      "3077it [08:39,  7.86it/s]"
     ]
    },
    {
     "name": "stdout",
     "output_type": "stream",
     "text": [
      "3065\n",
      "None\n",
      "None\n",
      "3077\n",
      "3090\n",
      "3064\n"
     ]
    },
    {
     "name": "stderr",
     "output_type": "stream",
     "text": [
      "3082it [08:39, 12.18it/s]"
     ]
    },
    {
     "name": "stdout",
     "output_type": "stream",
     "text": [
      "3084\n",
      "None\n",
      "3087\n",
      "3069\n"
     ]
    },
    {
     "name": "stderr",
     "output_type": "stream",
     "text": [
      "3087it [08:40, 15.79it/s]"
     ]
    },
    {
     "name": "stdout",
     "output_type": "stream",
     "text": [
      "3066\n",
      "3088\n",
      "3081\n",
      "None\n",
      "3094\n",
      "3074\n",
      "3093\n"
     ]
    },
    {
     "name": "stderr",
     "output_type": "stream",
     "text": [
      "3094it [08:40, 13.98it/s]"
     ]
    },
    {
     "name": "stdout",
     "output_type": "stream",
     "text": [
      "3082\n",
      "None\n",
      "None\n",
      "3092\n",
      "3076\n"
     ]
    },
    {
     "name": "stderr",
     "output_type": "stream",
     "text": [
      "\r",
      "3097it [08:41, 10.77it/s]"
     ]
    },
    {
     "name": "stdout",
     "output_type": "stream",
     "text": [
      "3070\n",
      "3080\n",
      "3079\n",
      "3078\n"
     ]
    },
    {
     "name": "stderr",
     "output_type": "stream",
     "text": [
      "\r",
      "3099it [08:41,  9.49it/s]"
     ]
    },
    {
     "name": "stdout",
     "output_type": "stream",
     "text": [
      "3085\n",
      "None\n"
     ]
    },
    {
     "name": "stderr",
     "output_type": "stream",
     "text": [
      "3103it [08:42,  7.92it/s]"
     ]
    },
    {
     "name": "stdout",
     "output_type": "stream",
     "text": [
      "3096\n",
      "3099\n",
      "3089\n",
      "None\n"
     ]
    },
    {
     "name": "stderr",
     "output_type": "stream",
     "text": [
      "3106it [08:42,  5.83it/s]"
     ]
    },
    {
     "name": "stdout",
     "output_type": "stream",
     "text": [
      "3095\n",
      "3103\n",
      "3083\n"
     ]
    },
    {
     "name": "stderr",
     "output_type": "stream",
     "text": [
      "\r",
      "3108it [08:43,  5.74it/s]"
     ]
    },
    {
     "name": "stdout",
     "output_type": "stream",
     "text": [
      "3091\n"
     ]
    },
    {
     "name": "stderr",
     "output_type": "stream",
     "text": [
      "\r",
      "3109it [08:43,  4.71it/s]"
     ]
    },
    {
     "name": "stdout",
     "output_type": "stream",
     "text": [
      "3102\n"
     ]
    },
    {
     "name": "stderr",
     "output_type": "stream",
     "text": [
      "\r",
      "3110it [08:43,  4.57it/s]"
     ]
    },
    {
     "name": "stdout",
     "output_type": "stream",
     "text": [
      "3098\n"
     ]
    },
    {
     "name": "stderr",
     "output_type": "stream",
     "text": [
      "\r",
      "3111it [08:44,  3.11it/s]"
     ]
    },
    {
     "name": "stdout",
     "output_type": "stream",
     "text": [
      "3114\n"
     ]
    },
    {
     "name": "stderr",
     "output_type": "stream",
     "text": [
      "3115it [08:45,  4.84it/s]"
     ]
    },
    {
     "name": "stdout",
     "output_type": "stream",
     "text": [
      "3108\n",
      "3127\n",
      "3106\n",
      "3113\n"
     ]
    },
    {
     "name": "stderr",
     "output_type": "stream",
     "text": [
      "\r",
      "3116it [08:45,  5.39it/s]"
     ]
    },
    {
     "name": "stdout",
     "output_type": "stream",
     "text": [
      "3111\n",
      "3124\n",
      "3101\n",
      "None\n",
      "3117\n"
     ]
    },
    {
     "name": "stderr",
     "output_type": "stream",
     "text": [
      "3122it [08:45,  7.19it/s]"
     ]
    },
    {
     "name": "stdout",
     "output_type": "stream",
     "text": [
      "3119\n",
      "3120\n"
     ]
    },
    {
     "name": "stderr",
     "output_type": "stream",
     "text": [
      "\r",
      "3124it [08:46,  8.53it/s]"
     ]
    },
    {
     "name": "stdout",
     "output_type": "stream",
     "text": [
      "3118\n",
      "3123\n"
     ]
    },
    {
     "name": "stderr",
     "output_type": "stream",
     "text": [
      "\r",
      "3126it [08:46,  6.98it/s]"
     ]
    },
    {
     "name": "stdout",
     "output_type": "stream",
     "text": [
      "3097\n",
      "3139\n"
     ]
    },
    {
     "name": "stderr",
     "output_type": "stream",
     "text": [
      "\r",
      "3127it [08:46,  6.40it/s]"
     ]
    },
    {
     "name": "stdout",
     "output_type": "stream",
     "text": [
      "3107\n",
      "3141\n"
     ]
    },
    {
     "name": "stderr",
     "output_type": "stream",
     "text": [
      "\r",
      "3129it [08:46,  7.11it/s]"
     ]
    },
    {
     "name": "stdout",
     "output_type": "stream",
     "text": [
      "3131\n",
      "3128\n",
      "None\n",
      "None\n",
      "3140\n",
      "3112\n",
      "None\n"
     ]
    },
    {
     "name": "stderr",
     "output_type": "stream",
     "text": [
      "\r",
      "3136it [08:47, 13.97it/s]"
     ]
    },
    {
     "name": "stdout",
     "output_type": "stream",
     "text": [
      "3109\n",
      "3132\n"
     ]
    },
    {
     "name": "stderr",
     "output_type": "stream",
     "text": [
      "3142it [08:47, 12.19it/s]"
     ]
    },
    {
     "name": "stdout",
     "output_type": "stream",
     "text": [
      "3138\n",
      "3115\n",
      "None\n",
      "None\n",
      "3125\n",
      "3135\n"
     ]
    },
    {
     "name": "stderr",
     "output_type": "stream",
     "text": [
      "\r",
      "3144it [08:48,  7.33it/s]"
     ]
    },
    {
     "name": "stdout",
     "output_type": "stream",
     "text": [
      "3129\n",
      "3143\n"
     ]
    },
    {
     "name": "stderr",
     "output_type": "stream",
     "text": [
      "3148it [08:49,  5.81it/s]"
     ]
    },
    {
     "name": "stdout",
     "output_type": "stream",
     "text": [
      "3126\n",
      "None\n",
      "3142\n"
     ]
    },
    {
     "name": "stderr",
     "output_type": "stream",
     "text": [
      "\r",
      "3150it [08:49,  5.97it/s]"
     ]
    },
    {
     "name": "stdout",
     "output_type": "stream",
     "text": [
      "3144\n",
      "3163\n",
      "3136\n"
     ]
    },
    {
     "name": "stderr",
     "output_type": "stream",
     "text": [
      "\r",
      "3152it [08:50,  4.82it/s]"
     ]
    },
    {
     "name": "stdout",
     "output_type": "stream",
     "text": [
      "3137\n",
      "3133\n"
     ]
    },
    {
     "name": "stderr",
     "output_type": "stream",
     "text": [
      "\r",
      "3154it [08:50,  5.49it/s]"
     ]
    },
    {
     "name": "stdout",
     "output_type": "stream",
     "text": [
      "3152\n",
      "3164\n"
     ]
    },
    {
     "name": "stderr",
     "output_type": "stream",
     "text": [
      "3158it [08:51,  6.51it/s]"
     ]
    },
    {
     "name": "stdout",
     "output_type": "stream",
     "text": [
      "3147\n",
      "3150\n",
      "3151\n",
      "3146\n"
     ]
    },
    {
     "name": "stderr",
     "output_type": "stream",
     "text": [
      "3161it [08:51,  5.87it/s]"
     ]
    },
    {
     "name": "stdout",
     "output_type": "stream",
     "text": [
      "3153\n",
      "3145\n"
     ]
    },
    {
     "name": "stderr",
     "output_type": "stream",
     "text": [
      "\r",
      "3163it [08:51,  7.07it/s]"
     ]
    },
    {
     "name": "stdout",
     "output_type": "stream",
     "text": [
      "3154\n",
      "3155\n"
     ]
    },
    {
     "name": "stderr",
     "output_type": "stream",
     "text": [
      "\r",
      "3164it [08:52,  6.49it/s]"
     ]
    },
    {
     "name": "stdout",
     "output_type": "stream",
     "text": [
      "3176\n",
      "3160\n",
      "3156\n"
     ]
    },
    {
     "name": "stderr",
     "output_type": "stream",
     "text": [
      "3168it [08:52,  7.79it/s]"
     ]
    },
    {
     "name": "stdout",
     "output_type": "stream",
     "text": [
      "3166\n",
      "3148\n",
      "3159\n",
      "None\n"
     ]
    },
    {
     "name": "stderr",
     "output_type": "stream",
     "text": [
      "\r",
      "3171it [08:52,  8.31it/s]"
     ]
    },
    {
     "name": "stdout",
     "output_type": "stream",
     "text": [
      "3168\n"
     ]
    },
    {
     "name": "stderr",
     "output_type": "stream",
     "text": [
      "\r",
      "3172it [08:53,  7.33it/s]"
     ]
    },
    {
     "name": "stdout",
     "output_type": "stream",
     "text": [
      "3175\n"
     ]
    },
    {
     "name": "stderr",
     "output_type": "stream",
     "text": [
      "\r",
      "3173it [08:53,  6.49it/s]"
     ]
    },
    {
     "name": "stdout",
     "output_type": "stream",
     "text": [
      "3172\n"
     ]
    },
    {
     "name": "stderr",
     "output_type": "stream",
     "text": [
      "\r",
      "3174it [08:53,  5.54it/s]"
     ]
    },
    {
     "name": "stdout",
     "output_type": "stream",
     "text": [
      "3178\n",
      "3169\n"
     ]
    },
    {
     "name": "stderr",
     "output_type": "stream",
     "text": [
      "\r",
      "3176it [08:53,  6.42it/s]"
     ]
    },
    {
     "name": "stdout",
     "output_type": "stream",
     "text": [
      "3157\n"
     ]
    },
    {
     "name": "stderr",
     "output_type": "stream",
     "text": [
      "3178it [08:54,  4.79it/s]"
     ]
    },
    {
     "name": "stdout",
     "output_type": "stream",
     "text": [
      "3158\n",
      "3181\n",
      "None\n",
      "3173\n"
     ]
    },
    {
     "name": "stderr",
     "output_type": "stream",
     "text": [
      "\r",
      "3181it [08:54,  5.84it/s]"
     ]
    },
    {
     "name": "stdout",
     "output_type": "stream",
     "text": [
      "3167\n"
     ]
    },
    {
     "name": "stderr",
     "output_type": "stream",
     "text": [
      "\r",
      "3182it [08:55,  3.00it/s]"
     ]
    },
    {
     "name": "stdout",
     "output_type": "stream",
     "text": [
      "3180\n",
      "3182\n"
     ]
    },
    {
     "name": "stderr",
     "output_type": "stream",
     "text": [
      "3185it [08:56,  3.75it/s]"
     ]
    },
    {
     "name": "stdout",
     "output_type": "stream",
     "text": [
      "3174\n",
      "3179\n"
     ]
    },
    {
     "name": "stderr",
     "output_type": "stream",
     "text": [
      "3189it [08:57,  5.85it/s]"
     ]
    },
    {
     "name": "stdout",
     "output_type": "stream",
     "text": [
      "3183\n",
      "3190\n",
      "3188\n",
      "3185\n"
     ]
    },
    {
     "name": "stderr",
     "output_type": "stream",
     "text": [
      "\r",
      "3190it [08:57,  5.18it/s]"
     ]
    },
    {
     "name": "stdout",
     "output_type": "stream",
     "text": [
      "3197\n",
      "3189\n",
      "3187\n",
      "None\n"
     ]
    },
    {
     "name": "stderr",
     "output_type": "stream",
     "text": [
      "\r",
      "3194it [08:57,  6.87it/s]"
     ]
    },
    {
     "name": "stdout",
     "output_type": "stream",
     "text": [
      "3192\n"
     ]
    },
    {
     "name": "stderr",
     "output_type": "stream",
     "text": [
      "\r",
      "3195it [08:57,  6.47it/s]"
     ]
    },
    {
     "name": "stdout",
     "output_type": "stream",
     "text": [
      "3194\n"
     ]
    },
    {
     "name": "stderr",
     "output_type": "stream",
     "text": [
      "3198it [08:58,  7.37it/s]"
     ]
    },
    {
     "name": "stdout",
     "output_type": "stream",
     "text": [
      "3186\n",
      "3196\n",
      "3208\n"
     ]
    },
    {
     "name": "stderr",
     "output_type": "stream",
     "text": [
      "\r",
      "3199it [08:58,  7.49it/s]"
     ]
    },
    {
     "name": "stdout",
     "output_type": "stream",
     "text": [
      "3193\n"
     ]
    },
    {
     "name": "stderr",
     "output_type": "stream",
     "text": [
      "3202it [08:58,  7.97it/s]"
     ]
    },
    {
     "name": "stdout",
     "output_type": "stream",
     "text": [
      "3191\n",
      "3195\n",
      "3204\n"
     ]
    },
    {
     "name": "stderr",
     "output_type": "stream",
     "text": [
      "3205it [08:59,  7.43it/s]"
     ]
    },
    {
     "name": "stdout",
     "output_type": "stream",
     "text": [
      "3198\n",
      "3205\n",
      "3184\n",
      "3199\n",
      "3206\n"
     ]
    },
    {
     "name": "stderr",
     "output_type": "stream",
     "text": [
      "\r",
      "3208it [08:59, 10.30it/s]"
     ]
    },
    {
     "name": "stdout",
     "output_type": "stream",
     "text": [
      "3202\n",
      "3211\n"
     ]
    },
    {
     "name": "stderr",
     "output_type": "stream",
     "text": [
      "3212it [09:00,  7.22it/s]"
     ]
    },
    {
     "name": "stdout",
     "output_type": "stream",
     "text": [
      "3212\n",
      "3207\n",
      "3201\n"
     ]
    },
    {
     "name": "stderr",
     "output_type": "stream",
     "text": [
      "\r",
      "3214it [09:01,  3.74it/s]"
     ]
    },
    {
     "name": "stdout",
     "output_type": "stream",
     "text": [
      "3214\n",
      "3210\n",
      "3203\n"
     ]
    },
    {
     "name": "stderr",
     "output_type": "stream",
     "text": [
      "\r",
      "3216it [09:01,  4.38it/s]"
     ]
    },
    {
     "name": "stdout",
     "output_type": "stream",
     "text": [
      "3213\n"
     ]
    },
    {
     "name": "stderr",
     "output_type": "stream",
     "text": [
      "\r",
      "3217it [09:02,  3.75it/s]"
     ]
    },
    {
     "name": "stdout",
     "output_type": "stream",
     "text": [
      "3215\n",
      "3219\n",
      "3216\n"
     ]
    },
    {
     "name": "stderr",
     "output_type": "stream",
     "text": [
      "\r",
      "3220it [09:03,  3.17it/s]"
     ]
    },
    {
     "name": "stdout",
     "output_type": "stream",
     "text": [
      "3240\n",
      "3220\n"
     ]
    },
    {
     "name": "stderr",
     "output_type": "stream",
     "text": [
      "\r",
      "3222it [09:03,  3.72it/s]"
     ]
    },
    {
     "name": "stdout",
     "output_type": "stream",
     "text": [
      "3231\n",
      "None\n"
     ]
    },
    {
     "name": "stderr",
     "output_type": "stream",
     "text": [
      "\r",
      "3224it [09:03,  4.42it/s]"
     ]
    },
    {
     "name": "stdout",
     "output_type": "stream",
     "text": [
      "3233\n"
     ]
    },
    {
     "name": "stderr",
     "output_type": "stream",
     "text": [
      "3226it [09:04,  4.84it/s]"
     ]
    },
    {
     "name": "stdout",
     "output_type": "stream",
     "text": [
      "3235\n",
      "3232\n",
      "3229\n"
     ]
    },
    {
     "name": "stderr",
     "output_type": "stream",
     "text": [
      "\r",
      "3228it [09:04,  6.66it/s]"
     ]
    },
    {
     "name": "stdout",
     "output_type": "stream",
     "text": [
      "3241\n",
      "3221\n"
     ]
    },
    {
     "name": "stderr",
     "output_type": "stream",
     "text": [
      "3233it [09:04, 10.51it/s]"
     ]
    },
    {
     "name": "stdout",
     "output_type": "stream",
     "text": [
      "3225\n",
      "3228\n",
      "3234\n",
      "3218\n"
     ]
    },
    {
     "name": "stderr",
     "output_type": "stream",
     "text": [
      "\r",
      "3235it [09:04,  9.51it/s]"
     ]
    },
    {
     "name": "stdout",
     "output_type": "stream",
     "text": [
      "3224\n",
      "3222\n"
     ]
    },
    {
     "name": "stderr",
     "output_type": "stream",
     "text": [
      "3239it [09:05, 12.27it/s]"
     ]
    },
    {
     "name": "stdout",
     "output_type": "stream",
     "text": [
      "3238\n",
      "3230\n",
      "3236\n",
      "3226\n"
     ]
    },
    {
     "name": "stderr",
     "output_type": "stream",
     "text": [
      "\r",
      "3241it [09:05,  9.17it/s]"
     ]
    },
    {
     "name": "stdout",
     "output_type": "stream",
     "text": [
      "3239\n",
      "None\n"
     ]
    },
    {
     "name": "stderr",
     "output_type": "stream",
     "text": [
      "\r",
      "3243it [09:05,  7.72it/s]"
     ]
    },
    {
     "name": "stdout",
     "output_type": "stream",
     "text": [
      "3242\n",
      "3217\n",
      "3245\n"
     ]
    },
    {
     "name": "stderr",
     "output_type": "stream",
     "text": [
      "\r",
      "3245it [09:06,  5.25it/s]"
     ]
    },
    {
     "name": "stdout",
     "output_type": "stream",
     "text": [
      "3237\n",
      "3227\n"
     ]
    },
    {
     "name": "stderr",
     "output_type": "stream",
     "text": [
      "\r",
      "3247it [09:06,  5.14it/s]"
     ]
    },
    {
     "name": "stdout",
     "output_type": "stream",
     "text": [
      "3243\n",
      "3244\n"
     ]
    },
    {
     "name": "stderr",
     "output_type": "stream",
     "text": [
      "\r",
      "3249it [09:07,  5.78it/s]"
     ]
    },
    {
     "name": "stdout",
     "output_type": "stream",
     "text": [
      "3259\n"
     ]
    },
    {
     "name": "stderr",
     "output_type": "stream",
     "text": [
      "\r",
      "3250it [09:07,  5.44it/s]"
     ]
    },
    {
     "name": "stdout",
     "output_type": "stream",
     "text": [
      "3246\n"
     ]
    },
    {
     "name": "stderr",
     "output_type": "stream",
     "text": [
      "3252it [09:07,  5.14it/s]"
     ]
    },
    {
     "name": "stdout",
     "output_type": "stream",
     "text": [
      "3255\n",
      "3248\n"
     ]
    },
    {
     "name": "stderr",
     "output_type": "stream",
     "text": [
      "3254it [09:08,  5.67it/s]"
     ]
    },
    {
     "name": "stdout",
     "output_type": "stream",
     "text": [
      "3249\n",
      "3247\n"
     ]
    },
    {
     "name": "stderr",
     "output_type": "stream",
     "text": [
      "3256it [09:08,  3.61it/s]"
     ]
    },
    {
     "name": "stdout",
     "output_type": "stream",
     "text": [
      "3265\n",
      "3250\n"
     ]
    },
    {
     "name": "stderr",
     "output_type": "stream",
     "text": [
      "\r",
      "3257it [09:09,  3.21it/s]"
     ]
    },
    {
     "name": "stdout",
     "output_type": "stream",
     "text": [
      "3276\n",
      "3256\n",
      "None\n"
     ]
    },
    {
     "name": "stderr",
     "output_type": "stream",
     "text": [
      "\r",
      "3260it [09:09,  5.54it/s]"
     ]
    },
    {
     "name": "stdout",
     "output_type": "stream",
     "text": [
      "3263\n",
      "3254\n",
      "3262\n",
      "3258\n"
     ]
    },
    {
     "name": "stderr",
     "output_type": "stream",
     "text": [
      "\r",
      "3264it [09:09,  7.62it/s]"
     ]
    },
    {
     "name": "stdout",
     "output_type": "stream",
     "text": [
      "3257\n",
      "3267\n",
      "3269\n",
      "3251\n"
     ]
    },
    {
     "name": "stderr",
     "output_type": "stream",
     "text": [
      "\r",
      "3268it [09:10,  8.72it/s]"
     ]
    },
    {
     "name": "stdout",
     "output_type": "stream",
     "text": [
      "3277\n"
     ]
    },
    {
     "name": "stderr",
     "output_type": "stream",
     "text": [
      "3271it [09:10,  8.38it/s]"
     ]
    },
    {
     "name": "stdout",
     "output_type": "stream",
     "text": [
      "3268\n",
      "3274\n",
      "3270\n"
     ]
    },
    {
     "name": "stderr",
     "output_type": "stream",
     "text": [
      "\r",
      "3273it [09:10,  8.89it/s]"
     ]
    },
    {
     "name": "stdout",
     "output_type": "stream",
     "text": [
      "3283\n",
      "3272\n"
     ]
    },
    {
     "name": "stderr",
     "output_type": "stream",
     "text": [
      "\r",
      "3274it [09:11,  5.89it/s]"
     ]
    },
    {
     "name": "stdout",
     "output_type": "stream",
     "text": [
      "3261\n",
      "3266\n"
     ]
    },
    {
     "name": "stderr",
     "output_type": "stream",
     "text": [
      "\r",
      "3276it [09:11,  5.48it/s]"
     ]
    },
    {
     "name": "stdout",
     "output_type": "stream",
     "text": [
      "3275\n",
      "3252\n"
     ]
    },
    {
     "name": "stderr",
     "output_type": "stream",
     "text": [
      "3279it [09:12,  6.47it/s]"
     ]
    },
    {
     "name": "stdout",
     "output_type": "stream",
     "text": [
      "3264\n",
      "3260\n"
     ]
    },
    {
     "name": "stderr",
     "output_type": "stream",
     "text": [
      "\r",
      "3280it [09:12,  3.89it/s]"
     ]
    },
    {
     "name": "stdout",
     "output_type": "stream",
     "text": [
      "3279\n"
     ]
    },
    {
     "name": "stderr",
     "output_type": "stream",
     "text": [
      "\r",
      "3281it [09:13,  3.14it/s]"
     ]
    },
    {
     "name": "stdout",
     "output_type": "stream",
     "text": [
      "3273\n"
     ]
    },
    {
     "name": "stderr",
     "output_type": "stream",
     "text": [
      "3283it [09:13,  3.44it/s]"
     ]
    },
    {
     "name": "stdout",
     "output_type": "stream",
     "text": [
      "3286\n",
      "3278\n",
      "3280\n",
      "3287\n"
     ]
    },
    {
     "name": "stderr",
     "output_type": "stream",
     "text": [
      "\r",
      "3286it [09:14,  5.12it/s]"
     ]
    },
    {
     "name": "stdout",
     "output_type": "stream",
     "text": [
      "3285\n"
     ]
    },
    {
     "name": "stderr",
     "output_type": "stream",
     "text": [
      "3290it [09:14,  6.78it/s]"
     ]
    },
    {
     "name": "stdout",
     "output_type": "stream",
     "text": [
      "3301\n",
      "3292\n",
      "None\n",
      "3295\n"
     ]
    },
    {
     "name": "stderr",
     "output_type": "stream",
     "text": [
      "3294it [09:14,  9.57it/s]"
     ]
    },
    {
     "name": "stdout",
     "output_type": "stream",
     "text": [
      "3282\n",
      "3281\n",
      "3288\n",
      "3284\n"
     ]
    },
    {
     "name": "stderr",
     "output_type": "stream",
     "text": [
      "\r",
      "3296it [09:15,  9.56it/s]"
     ]
    },
    {
     "name": "stdout",
     "output_type": "stream",
     "text": [
      "3296\n",
      "3299\n"
     ]
    },
    {
     "name": "stderr",
     "output_type": "stream",
     "text": [
      "3299it [09:15,  7.50it/s]"
     ]
    },
    {
     "name": "stdout",
     "output_type": "stream",
     "text": [
      "3291\n",
      "None\n",
      "3304\n"
     ]
    },
    {
     "name": "stderr",
     "output_type": "stream",
     "text": [
      "3302it [09:15,  8.88it/s]"
     ]
    },
    {
     "name": "stdout",
     "output_type": "stream",
     "text": [
      "3293\n",
      "3294\n",
      "3297\n"
     ]
    },
    {
     "name": "stderr",
     "output_type": "stream",
     "text": [
      "\r",
      "3304it [09:16,  8.13it/s]"
     ]
    },
    {
     "name": "stdout",
     "output_type": "stream",
     "text": [
      "3298\n",
      "3300\n"
     ]
    },
    {
     "name": "stderr",
     "output_type": "stream",
     "text": [
      "3307it [09:16,  6.34it/s]"
     ]
    },
    {
     "name": "stdout",
     "output_type": "stream",
     "text": [
      "3290\n",
      "3309\n",
      "3306\n"
     ]
    },
    {
     "name": "stderr",
     "output_type": "stream",
     "text": [
      "\r",
      "3308it [09:17,  5.86it/s]"
     ]
    },
    {
     "name": "stdout",
     "output_type": "stream",
     "text": [
      "3312\n",
      "3302\n"
     ]
    },
    {
     "name": "stderr",
     "output_type": "stream",
     "text": [
      "\r",
      "3310it [09:17,  5.08it/s]"
     ]
    },
    {
     "name": "stdout",
     "output_type": "stream",
     "text": [
      "3307\n",
      "3315\n"
     ]
    },
    {
     "name": "stderr",
     "output_type": "stream",
     "text": [
      "\r",
      "3312it [09:17,  5.83it/s]"
     ]
    },
    {
     "name": "stdout",
     "output_type": "stream",
     "text": [
      "3303\n",
      "3321\n"
     ]
    },
    {
     "name": "stderr",
     "output_type": "stream",
     "text": [
      "3318it [09:18,  9.44it/s]"
     ]
    },
    {
     "name": "stdout",
     "output_type": "stream",
     "text": [
      "3308\n",
      "3305\n",
      "3310\n",
      "3311\n",
      "3314\n",
      "3313\n"
     ]
    },
    {
     "name": "stderr",
     "output_type": "stream",
     "text": [
      "\r",
      "3320it [09:18,  9.18it/s]"
     ]
    },
    {
     "name": "stdout",
     "output_type": "stream",
     "text": [
      "3318\n",
      "3323\n"
     ]
    },
    {
     "name": "stderr",
     "output_type": "stream",
     "text": [
      "3324it [09:19,  6.49it/s]"
     ]
    },
    {
     "name": "stdout",
     "output_type": "stream",
     "text": [
      "3316\n",
      "3324\n",
      "3320\n",
      "3322\n"
     ]
    },
    {
     "name": "stderr",
     "output_type": "stream",
     "text": [
      "\r",
      "3326it [09:19,  7.68it/s]"
     ]
    },
    {
     "name": "stdout",
     "output_type": "stream",
     "text": [
      "3329\n",
      "3326\n"
     ]
    },
    {
     "name": "stderr",
     "output_type": "stream",
     "text": [
      "\r",
      "3328it [09:20,  7.17it/s]"
     ]
    },
    {
     "name": "stdout",
     "output_type": "stream",
     "text": [
      "3325\n"
     ]
    },
    {
     "name": "stderr",
     "output_type": "stream",
     "text": [
      "3330it [09:20,  5.94it/s]"
     ]
    },
    {
     "name": "stdout",
     "output_type": "stream",
     "text": [
      "3317\n",
      "3327\n"
     ]
    },
    {
     "name": "stderr",
     "output_type": "stream",
     "text": [
      "\n"
     ]
    }
   ],
   "source": [
    "ResArray = []\n",
    "with concurrent.futures.ProcessPoolExecutor() as executor:\n",
    "    out = {executor.submit(VinaResult2,i): i for i in range(3330)}\n",
    "    for future in tqdm(concurrent.futures.as_completed(out)):\n",
    "        fp = future.result()\n",
    "        print(fp)\n",
    "        ResArray.append(fp)  "
   ]
  },
  {
   "cell_type": "code",
   "execution_count": 93,
   "id": "699cd0e7",
   "metadata": {},
   "outputs": [],
   "source": [
    "datapath = \"~/Desktop/ProLIF/Data/RefinedDocking/DockedPDBQT/\""
   ]
  },
  {
   "cell_type": "code",
   "execution_count": 94,
   "id": "341a8e21",
   "metadata": {},
   "outputs": [
    {
     "name": "stderr",
     "output_type": "stream",
     "text": [
      "348it [00:00, 1480.80it/s]"
     ]
    },
    {
     "name": "stdout",
     "output_type": "stream",
     "text": [
      "1\n",
      "2\n",
      "0\n",
      "3\n",
      "4\n",
      "8\n",
      "7\n",
      "5\n",
      "6\n",
      "9\n",
      "10\n",
      "13\n",
      "15\n",
      "14\n",
      "16\n",
      "11\n",
      "26\n",
      "28\n",
      "12\n",
      "29\n",
      "30\n",
      "25\n",
      "18\n",
      "17\n",
      "19\n",
      "33\n",
      "22\n",
      "20\n",
      "21\n",
      "23\n",
      "24\n",
      "31\n",
      "34\n",
      "32\n",
      "27\n",
      "35\n",
      "36\n",
      "37\n",
      "38\n",
      "39\n",
      "40\n",
      "43\n",
      "52\n",
      "42\n",
      "53\n",
      "55\n",
      "45\n",
      "60\n",
      "50\n",
      "59\n",
      "64\n",
      "61\n",
      "67\n",
      "48\n",
      "47\n",
      "66\n",
      "58\n",
      "57\n",
      "62\n",
      "76\n",
      "71\n",
      "44\n",
      "78\n",
      "51\n",
      "75\n",
      "63\n",
      "41\n",
      "65\n",
      "70\n",
      "74\n",
      "83\n",
      "69\n",
      "85\n",
      "54\n",
      "77\n",
      "56\n",
      "81\n",
      "72\n",
      "82\n",
      "46\n",
      "84\n",
      "73\n",
      "79\n",
      "80\n",
      "86\n",
      "49\n",
      "68\n",
      "88\n",
      "90\n",
      "89\n",
      "92\n",
      "91\n",
      "98\n",
      "104\n",
      "102\n",
      "94\n",
      "99\n",
      "96\n",
      "101\n",
      "93\n",
      "110\n",
      "115\n",
      "113\n",
      "100\n",
      "118\n",
      "97\n",
      "105\n",
      "120\n",
      "112\n",
      "109\n",
      "106\n",
      "114\n",
      "95\n",
      "107\n",
      "108\n",
      "111\n",
      "116\n",
      "117\n",
      "119\n",
      "127\n",
      "125\n",
      "124\n",
      "130\n",
      "126\n",
      "134\n",
      "143\n",
      "123\n",
      "136\n",
      "121\n",
      "144\n",
      "138\n",
      "128\n",
      "103\n",
      "149\n",
      "122\n",
      "151\n",
      "146\n",
      "137\n",
      "140\n",
      "129\n",
      "153\n",
      "87\n",
      "135\n",
      "147\n",
      "131\n",
      "139\n",
      "133\n",
      "132\n",
      "152\n",
      "148\n",
      "141\n",
      "145\n",
      "142\n",
      "150\n",
      "154\n",
      "156\n",
      "155\n",
      "168\n",
      "169\n",
      "160\n",
      "172\n",
      "157\n",
      "163\n",
      "161\n",
      "159\n",
      "162\n",
      "173\n",
      "164\n",
      "166\n",
      "158\n",
      "165\n",
      "170\n",
      "171\n",
      "167\n",
      "174\n",
      "177\n",
      "178\n",
      "180\n",
      "175\n",
      "182\n",
      "176\n",
      "190\n",
      "183\n",
      "187\n",
      "186\n",
      "185\n",
      "179\n",
      "202\n",
      "184\n",
      "203\n",
      "192\n",
      "189\n",
      "193\n",
      "191\n",
      "188\n",
      "199\n",
      "198\n",
      "200\n",
      "195\n",
      "201\n",
      "206\n",
      "196\n",
      "205\n",
      "197\n",
      "204\n",
      "194\n",
      "207\n",
      "181\n",
      "208\n",
      "213\n",
      "218\n",
      "210\n",
      "220\n",
      "211\n",
      "214\n",
      "225\n",
      "227\n",
      "217\n",
      "216\n",
      "215\n",
      "219\n",
      "224\n",
      "212\n",
      "222\n",
      "223\n",
      "221\n",
      "209\n",
      "234\n",
      "226\n",
      "236\n",
      "230\n",
      "228\n",
      "231\n",
      "233\n",
      "241\n",
      "237\n",
      "232\n",
      "239\n",
      "229\n",
      "240\n",
      "242\n",
      "238\n",
      "235\n",
      "243\n",
      "244\n",
      "245\n",
      "246\n",
      "250\n",
      "262\n",
      "263\n",
      "253\n",
      "266\n",
      "267\n",
      "255\n",
      "251\n",
      "249\n",
      "254\n",
      "256\n",
      "247\n",
      "248\n",
      "274\n",
      "252\n",
      "260\n",
      "259\n",
      "258\n",
      "257\n",
      "271\n",
      "272\n",
      "265\n",
      "268\n",
      "264\n",
      "261\n",
      "275\n",
      "276\n",
      "269\n",
      "270\n",
      "273\n",
      "277\n",
      "278\n",
      "285\n",
      "288\n",
      "281\n",
      "279\n",
      "294\n",
      "295\n",
      "297\n",
      "299\n",
      "283\n",
      "298\n",
      "289\n",
      "280\n",
      "300\n",
      "284\n",
      "282\n",
      "302\n",
      "304\n",
      "292\n",
      "309\n",
      "286\n",
      "287\n",
      "293\n",
      "291\n",
      "296\n",
      "306\n",
      "301\n",
      "303\n",
      "290\n",
      "308\n",
      "311\n",
      "305\n",
      "310\n",
      "307\n",
      "312\n",
      "314\n",
      "313\n",
      "315\n",
      "316\n",
      "317\n",
      "319\n",
      "320\n",
      "321\n",
      "326\n",
      "318\n",
      "329\n",
      "330\n",
      "323\n",
      "334\n",
      "335\n",
      "322\n",
      "325\n",
      "324\n",
      "331\n",
      "343\n",
      "328\n",
      "340\n",
      "332\n",
      "336\n",
      "345\n",
      "333\n",
      "327\n",
      "337\n",
      "341\n",
      "344\n",
      "338\n",
      "339\n",
      "346\n",
      "342\n",
      "347\n"
     ]
    },
    {
     "name": "stderr",
     "output_type": "stream",
     "text": [
      "829it [00:00, 1953.18it/s]"
     ]
    },
    {
     "name": "stdout",
     "output_type": "stream",
     "text": [
      "349\n",
      "358\n",
      "359\n",
      "360\n",
      "361\n",
      "363\n",
      "353\n",
      "362\n",
      "352\n",
      "348\n",
      "350\n",
      "367\n",
      "364\n",
      "365\n",
      "354\n",
      "351\n",
      "372\n",
      "374\n",
      "373\n",
      "370\n",
      "366\n",
      "375\n",
      "357\n",
      "368\n",
      "369\n",
      "376\n",
      "377\n",
      "371\n",
      "355\n",
      "356\n",
      "378\n",
      "379\n",
      "380\n",
      "381\n",
      "382\n",
      "383\n",
      "384\n",
      "386\n",
      "385\n",
      "387\n",
      "389\n",
      "390\n",
      "388\n",
      "391\n",
      "392\n",
      "394\n",
      "393\n",
      "396\n",
      "395\n",
      "397\n",
      "398\n",
      "400\n",
      "399\n",
      "402\n",
      "401\n",
      "403\n",
      "405\n",
      "404\n",
      "406\n",
      "408\n",
      "407\n",
      "409\n",
      "411\n",
      "410\n",
      "412\n",
      "413\n",
      "414\n",
      "417\n",
      "416\n",
      "415\n",
      "420\n",
      "418\n",
      "419\n",
      "422\n",
      "421\n",
      "423\n",
      "424\n",
      "425\n",
      "426\n",
      "428\n",
      "427\n",
      "430\n",
      "429\n",
      "431\n",
      "432\n",
      "434\n",
      "433\n",
      "435\n",
      "436\n",
      "437\n",
      "438\n",
      "440\n",
      "439\n",
      "443\n",
      "441\n",
      "442\n",
      "445\n",
      "444\n",
      "447\n",
      "446\n",
      "449\n",
      "448\n",
      "450\n",
      "452\n",
      "453\n",
      "451\n",
      "456\n",
      "457\n",
      "454\n",
      "455\n",
      "458\n",
      "460\n",
      "461\n",
      "459\n",
      "462\n",
      "463\n",
      "465\n",
      "464\n",
      "466\n",
      "468\n",
      "467\n",
      "469\n",
      "470\n",
      "471\n",
      "472\n",
      "473\n",
      "475\n",
      "474\n",
      "476\n",
      "479\n",
      "478\n",
      "477\n",
      "481\n",
      "480\n",
      "482\n",
      "484\n",
      "483\n",
      "485\n",
      "487\n",
      "486\n",
      "489\n",
      "488\n",
      "492\n",
      "490\n",
      "491\n",
      "494\n",
      "493\n",
      "496\n",
      "495\n",
      "498\n",
      "497\n",
      "499\n",
      "502\n",
      "501\n",
      "500\n",
      "504\n",
      "503\n",
      "505\n",
      "507\n",
      "508\n",
      "506\n",
      "509\n",
      "513\n",
      "510\n",
      "514\n",
      "515\n",
      "511\n",
      "516\n",
      "512\n",
      "517\n",
      "521\n",
      "522\n",
      "520\n",
      "518\n",
      "519\n",
      "523\n",
      "524\n",
      "525\n",
      "526\n",
      "529\n",
      "527\n",
      "528\n",
      "531\n",
      "530\n",
      "532\n",
      "533\n",
      "535\n",
      "536\n",
      "534\n",
      "537\n",
      "539\n",
      "540\n",
      "538\n",
      "541\n",
      "543\n",
      "542\n",
      "545\n",
      "547\n",
      "546\n",
      "544\n",
      "549\n",
      "548\n",
      "550\n",
      "551\n",
      "553\n",
      "554\n",
      "552\n",
      "555\n",
      "556\n",
      "557\n",
      "558\n",
      "559\n",
      "560\n",
      "562\n",
      "561\n",
      "563\n",
      "564\n",
      "566\n",
      "567\n",
      "565\n",
      "569\n",
      "568\n",
      "571\n",
      "570\n",
      "574\n",
      "573\n",
      "572\n",
      "575\n",
      "577\n",
      "578\n",
      "579\n",
      "576\n",
      "580\n",
      "582\n",
      "581\n",
      "584\n",
      "585\n",
      "583\n",
      "587\n",
      "586\n",
      "588\n",
      "589\n",
      "590\n",
      "591\n",
      "592\n",
      "594\n",
      "593\n",
      "595\n",
      "596\n",
      "597\n",
      "598\n",
      "599\n",
      "602\n",
      "600\n",
      "601\n",
      "604\n",
      "603\n",
      "606\n",
      "605\n",
      "607\n",
      "608\n",
      "609\n",
      "611\n",
      "610\n",
      "612\n",
      "614\n",
      "613\n",
      "615\n",
      "616\n",
      "617\n",
      "618\n",
      "619\n",
      "620\n",
      "621\n",
      "622\n",
      "623\n",
      "624\n",
      "625\n",
      "626\n",
      "627\n",
      "628\n",
      "630\n",
      "629\n",
      "632\n",
      "634\n",
      "631\n",
      "633\n",
      "635\n",
      "636\n",
      "639\n",
      "637\n",
      "640\n",
      "641\n",
      "638\n",
      "643\n",
      "642\n",
      "645\n",
      "647\n",
      "646\n",
      "644\n",
      "649\n",
      "648\n",
      "650\n",
      "651\n",
      "652\n",
      "654\n",
      "653\n",
      "655\n",
      "656\n",
      "658\n",
      "657\n",
      "659\n",
      "661\n",
      "660\n",
      "662\n",
      "664\n",
      "663\n",
      "665\n",
      "666\n",
      "667\n",
      "668\n",
      "669\n",
      "670\n",
      "671\n",
      "672\n",
      "674\n",
      "673\n",
      "676\n",
      "677\n",
      "678\n",
      "675\n",
      "680\n",
      "679\n",
      "682\n",
      "681\n",
      "684\n",
      "683\n",
      "686\n",
      "685\n",
      "687\n",
      "688\n",
      "689\n",
      "690\n",
      "692\n",
      "691\n",
      "695\n",
      "694\n",
      "693\n",
      "696\n",
      "697\n",
      "698\n",
      "700\n",
      "699\n",
      "703\n",
      "701\n",
      "702\n",
      "704\n",
      "706\n",
      "705\n",
      "707\n",
      "708\n",
      "709\n",
      "711\n",
      "710\n",
      "713\n",
      "712\n",
      "716\n",
      "714\n",
      "715\n",
      "717\n",
      "719\n",
      "721\n",
      "722\n",
      "723\n",
      "720\n",
      "718\n",
      "724\n",
      "725\n",
      "726\n",
      "728\n",
      "727\n",
      "729\n",
      "730\n",
      "731\n",
      "732\n",
      "733\n",
      "734\n",
      "735\n",
      "737\n",
      "738\n",
      "741\n",
      "740\n",
      "739\n",
      "736\n",
      "742\n",
      "743\n",
      "744\n",
      "745\n",
      "746\n",
      "747\n",
      "749\n",
      "748\n",
      "750\n",
      "752\n",
      "751\n",
      "755\n",
      "753\n",
      "754\n",
      "757\n",
      "758\n",
      "756\n",
      "759\n",
      "761\n",
      "760\n",
      "763\n",
      "762\n",
      "764\n",
      "766\n",
      "765\n",
      "768\n",
      "767\n",
      "769\n",
      "771\n",
      "770\n",
      "772\n",
      "774\n",
      "773\n",
      "775\n",
      "776\n",
      "777\n",
      "778\n",
      "779\n",
      "781\n",
      "780\n",
      "782\n",
      "784\n",
      "786\n",
      "785\n",
      "783\n",
      "788\n",
      "787\n",
      "789\n",
      "790\n",
      "791\n",
      "792\n",
      "794\n",
      "793\n",
      "795\n",
      "796\n",
      "797\n",
      "798\n",
      "799\n",
      "800\n",
      "802\n",
      "803\n",
      "801\n",
      "804\n",
      "805\n",
      "807\n",
      "806\n",
      "808\n",
      "809\n",
      "810\n",
      "811\n",
      "812\n",
      "813\n",
      "815\n",
      "814\n",
      "816\n",
      "817\n",
      "819\n",
      "818\n",
      "820\n",
      "821\n",
      "823\n",
      "824\n",
      "825\n",
      "822\n",
      "827\n",
      "828\n",
      "829\n"
     ]
    },
    {
     "name": "stderr",
     "output_type": "stream",
     "text": [
      "1295it [00:00, 2156.08it/s]"
     ]
    },
    {
     "name": "stdout",
     "output_type": "stream",
     "text": [
      "826\n",
      "832\n",
      "830\n",
      "831\n",
      "833\n",
      "835\n",
      "838\n",
      "837\n",
      "834\n",
      "836\n",
      "841\n",
      "839\n",
      "840\n",
      "842\n",
      "843\n",
      "845\n",
      "846\n",
      "844\n",
      "847\n",
      "848\n",
      "850\n",
      "849\n",
      "851\n",
      "853\n",
      "852\n",
      "855\n",
      "854\n",
      "856\n",
      "859\n",
      "860\n",
      "858\n",
      "857\n",
      "862\n",
      "861\n",
      "863\n",
      "864\n",
      "867\n",
      "865\n",
      "868\n",
      "866\n",
      "869\n",
      "872\n",
      "870\n",
      "871\n",
      "873\n",
      "874\n",
      "875\n",
      "876\n",
      "877\n",
      "878\n",
      "879\n",
      "880\n",
      "882\n",
      "881\n",
      "883\n",
      "886\n",
      "884\n",
      "885\n",
      "888\n",
      "887\n",
      "889\n",
      "890\n",
      "891\n",
      "892\n",
      "893\n",
      "894\n",
      "895\n",
      "896\n",
      "897\n",
      "898\n",
      "899\n",
      "900\n",
      "901\n",
      "903\n",
      "902\n",
      "904\n",
      "906\n",
      "905\n",
      "907\n",
      "908\n",
      "910\n",
      "909\n",
      "911\n",
      "912\n",
      "914\n",
      "913\n",
      "915\n",
      "918\n",
      "917\n",
      "919\n",
      "916\n",
      "921\n",
      "920\n",
      "924\n",
      "922\n",
      "923\n",
      "926\n",
      "925\n",
      "927\n",
      "928\n",
      "930\n",
      "929\n",
      "931\n",
      "932\n",
      "933\n",
      "934\n",
      "936\n",
      "937\n",
      "938\n",
      "935\n",
      "939\n",
      "940\n",
      "941\n",
      "943\n",
      "942\n",
      "945\n",
      "944\n",
      "947\n",
      "946\n",
      "948\n",
      "950\n",
      "949\n",
      "951\n",
      "953\n",
      "952\n",
      "955\n",
      "954\n",
      "957\n",
      "956\n",
      "959\n",
      "960\n",
      "958\n",
      "962\n",
      "963\n",
      "961\n",
      "966\n",
      "964\n",
      "965\n",
      "967\n",
      "968\n",
      "969\n",
      "970\n",
      "971\n",
      "972\n",
      "973\n",
      "974\n",
      "975\n",
      "977\n",
      "976\n",
      "978\n",
      "979\n",
      "980\n",
      "981\n",
      "983\n",
      "982\n",
      "984\n",
      "986\n",
      "987\n",
      "985\n",
      "988\n",
      "989\n",
      "990\n",
      "991\n",
      "992\n",
      "993\n",
      "994\n",
      "995\n",
      "996\n",
      "998\n",
      "997\n",
      "1000\n",
      "1002\n",
      "999\n",
      "1001\n",
      "1003\n",
      "1004\n",
      "1005\n",
      "1006\n",
      "1007\n",
      "1008\n",
      "1009\n",
      "1010\n",
      "1011\n",
      "1012\n",
      "1013\n",
      "1014\n",
      "1015\n",
      "1016\n",
      "1017\n",
      "1018\n",
      "1020\n",
      "1019\n",
      "1023\n",
      "1022\n",
      "1021\n",
      "1025\n",
      "1024\n",
      "1026\n",
      "1028\n",
      "1027\n",
      "1031\n",
      "1030\n",
      "1029\n",
      "1032\n",
      "1034\n",
      "1036\n",
      "1033\n",
      "1035\n",
      "1039\n",
      "1038\n",
      "1037\n",
      "1041\n",
      "1042\n",
      "1040\n",
      "1043\n",
      "1044\n",
      "1045\n",
      "1046\n",
      "1048\n",
      "1047\n",
      "1051\n",
      "1050\n",
      "1053\n",
      "1049\n",
      "1055\n",
      "1052\n",
      "1054\n",
      "1056\n",
      "1058\n",
      "1057\n",
      "1059\n",
      "1061\n",
      "1062\n",
      "1060\n",
      "1065\n",
      "1063\n",
      "1064\n",
      "1066\n",
      "1067\n",
      "1068\n",
      "1069\n",
      "1071\n",
      "1072\n",
      "1073\n",
      "1070\n",
      "1074\n",
      "1075\n",
      "1076\n",
      "1078\n",
      "1077\n",
      "1079\n",
      "1080\n",
      "1081\n",
      "1083\n",
      "1084\n",
      "1085\n",
      "1082\n",
      "1088\n",
      "1087\n",
      "1086\n",
      "1090\n",
      "1089\n",
      "1092\n",
      "1093\n",
      "1091\n",
      "1094\n",
      "1096\n",
      "1095\n",
      "1098\n",
      "1100\n",
      "1099\n",
      "1097\n",
      "1101\n",
      "1102\n",
      "1103\n",
      "1104\n",
      "1105\n",
      "1106\n",
      "1107\n",
      "1108\n",
      "1109\n",
      "1110\n",
      "1112\n",
      "1111\n",
      "1113\n",
      "1115\n",
      "1114\n",
      "1117\n",
      "1116\n",
      "1119\n",
      "1122\n",
      "1118\n",
      "1121\n",
      "1120\n",
      "1124\n",
      "1123\n",
      "1125\n",
      "1126\n",
      "1128\n",
      "1127\n",
      "1129\n",
      "1130\n",
      "1132\n",
      "1134\n",
      "1135\n",
      "1133\n",
      "1137\n",
      "1131\n",
      "1136\n",
      "1138\n",
      "1139\n",
      "1140\n",
      "1141\n",
      "1142\n",
      "1143\n",
      "1144\n",
      "1145\n",
      "1146\n",
      "1147\n",
      "1148\n",
      "1149\n",
      "1150\n",
      "1151\n",
      "1152\n",
      "1153\n",
      "1154\n",
      "1155\n",
      "1156\n",
      "1157\n",
      "1158\n",
      "1159\n",
      "1160\n",
      "1161\n",
      "1162\n",
      "1164\n",
      "1163\n",
      "1165\n",
      "1166\n",
      "1167\n",
      "1169\n",
      "1168\n",
      "1172\n",
      "1171\n",
      "1170\n",
      "1174\n",
      "1175\n",
      "1173\n",
      "1177\n",
      "1176\n",
      "1178\n",
      "1179\n",
      "1181\n",
      "1180\n",
      "1183\n",
      "1182\n",
      "1185\n",
      "1184\n",
      "1187\n",
      "1186\n",
      "1188\n",
      "1189\n",
      "1190\n",
      "1191\n",
      "1193\n",
      "1194\n",
      "1192\n",
      "1195\n",
      "1196\n",
      "1197\n",
      "1199\n",
      "1198\n",
      "1200\n",
      "1202\n",
      "1201\n",
      "1203\n",
      "1205\n",
      "1204\n",
      "1207\n",
      "1208\n",
      "1206\n",
      "1209\n",
      "1210\n",
      "1212\n",
      "1211\n",
      "1214\n",
      "1213\n",
      "1215\n",
      "1216\n",
      "1218\n",
      "1217\n",
      "1219\n",
      "1220\n",
      "1221\n",
      "1222\n",
      "1223\n",
      "1224\n",
      "1226\n",
      "1227\n",
      "1225\n",
      "1228\n",
      "1231\n",
      "1232\n",
      "1229\n",
      "1230\n",
      "1234\n",
      "1233\n",
      "1235\n",
      "1236\n",
      "1237\n",
      "1238\n",
      "1241\n",
      "1239\n",
      "1240\n",
      "1244\n",
      "1243\n",
      "1242\n",
      "1245\n",
      "1248\n",
      "1246\n",
      "1247\n",
      "1249\n",
      "1250\n",
      "1251\n",
      "1252\n",
      "1253\n",
      "1254\n",
      "1255\n",
      "1256\n",
      "1257\n",
      "1258\n",
      "1259\n",
      "1260\n",
      "1262\n",
      "1263\n",
      "1261\n",
      "1264\n",
      "1265\n",
      "1266\n",
      "1267\n",
      "1270\n",
      "1269\n",
      "1268\n",
      "1273\n",
      "1271\n",
      "1272\n",
      "1276\n",
      "1275\n",
      "1274\n",
      "1277\n",
      "1278\n",
      "1280\n",
      "1281\n",
      "1279\n",
      "1282\n",
      "1283\n",
      "1285\n",
      "1286\n",
      "1284\n",
      "1287\n",
      "1288\n",
      "1290\n",
      "1289\n",
      "1292\n",
      "1293\n",
      "1291\n",
      "1295\n",
      "1296\n",
      "1294\n",
      "1298\n",
      "1299\n",
      "1297\n",
      "1302\n",
      "1301\n",
      "1300\n",
      "1303\n",
      "1305\n",
      "1304\n",
      "1306\n",
      "1308\n",
      "1309\n",
      "1310\n",
      "1307\n",
      "1312\n",
      "1313\n",
      "1311\n",
      "1314\n",
      "1315\n",
      "1316\n",
      "1317\n",
      "1318\n",
      "1320\n",
      "1319\n",
      "1321\n",
      "1322\n",
      "1324\n",
      "1323\n",
      "1326\n",
      "1325\n",
      "1327\n",
      "1328\n",
      "1329\n",
      "1330\n",
      "1331\n",
      "1332\n",
      "1333\n",
      "1334\n",
      "1336\n",
      "1335\n",
      "1337\n",
      "1339\n",
      "1338\n",
      "1342\n",
      "1340\n",
      "1341\n",
      "1344\n",
      "1343\n",
      "1345\n",
      "1346\n",
      "1347\n",
      "1348\n",
      "1349\n",
      "1350\n",
      "1351\n",
      "1352\n",
      "1353\n",
      "1354\n",
      "1355\n",
      "1356\n",
      "1357\n",
      "1358\n",
      "1359\n"
     ]
    },
    {
     "name": "stderr",
     "output_type": "stream",
     "text": [
      "1809it [00:00, 2317.08it/s]"
     ]
    },
    {
     "name": "stdout",
     "output_type": "stream",
     "text": [
      "1360\n",
      "1361\n",
      "1362\n",
      "1363\n",
      "1364\n",
      "1365\n",
      "1366\n",
      "1367\n",
      "1368\n",
      "1369\n",
      "1370\n",
      "1371\n",
      "1373\n",
      "1375\n",
      "1372\n",
      "1374\n",
      "1377\n",
      "1376\n",
      "1379\n",
      "1380\n",
      "1378\n",
      "1381\n",
      "1382\n",
      "1384\n",
      "1383\n",
      "1387\n",
      "1385\n",
      "1388\n",
      "1389\n",
      "1390\n",
      "1386\n",
      "1392\n",
      "1393\n",
      "1391\n",
      "1395\n",
      "1394\n",
      "1396\n",
      "1399\n",
      "1398\n",
      "1397\n",
      "1400\n",
      "1401\n",
      "1402\n",
      "1403\n",
      "1404\n",
      "1405\n",
      "1406\n",
      "1407\n",
      "1408\n",
      "1409\n",
      "1410\n",
      "1411\n",
      "1412\n",
      "1413\n",
      "1414\n",
      "1415\n",
      "1417\n",
      "1416\n",
      "1418\n",
      "1421\n",
      "1419\n",
      "1420\n",
      "1423\n",
      "1422\n",
      "1425\n",
      "1426\n",
      "1424\n",
      "1429\n",
      "1427\n",
      "1431\n",
      "1428\n",
      "1432\n",
      "1430\n",
      "1433\n",
      "1434\n",
      "1436\n",
      "1435\n",
      "1437\n",
      "1439\n",
      "1438\n",
      "1442\n",
      "1440\n",
      "1444\n",
      "1443\n",
      "1441\n",
      "1446\n",
      "1445\n",
      "1447\n",
      "1448\n",
      "1449\n",
      "1451\n",
      "1453\n",
      "1452\n",
      "1450\n",
      "1455\n",
      "1454\n",
      "1457\n",
      "1456\n",
      "1458\n",
      "1459\n",
      "1460\n",
      "1463\n",
      "1461\n",
      "1462\n",
      "1464\n",
      "1466\n",
      "1465\n",
      "1467\n",
      "1469\n",
      "1470\n",
      "1468\n",
      "1473\n",
      "1472\n",
      "1471\n",
      "1474\n",
      "1475\n",
      "1476\n",
      "1478\n",
      "1477\n",
      "1480\n",
      "1479\n",
      "1481\n",
      "1483\n",
      "1482\n",
      "1484\n",
      "1485\n",
      "1487\n",
      "1486\n",
      "1489\n",
      "1488\n",
      "1490\n",
      "1493\n",
      "1492\n",
      "1491\n",
      "1495\n",
      "1494\n",
      "1497\n",
      "1496\n",
      "1499\n",
      "1500\n",
      "1498\n",
      "1502\n",
      "1501\n",
      "1504\n",
      "1503\n",
      "1506\n",
      "1505\n",
      "1507\n",
      "1508\n",
      "1509\n",
      "1510\n",
      "1511\n",
      "1512\n",
      "1513\n",
      "1514\n",
      "1516\n",
      "1515\n",
      "1518\n",
      "1519\n",
      "1517\n",
      "1520\n",
      "1521\n",
      "1522\n",
      "1523\n",
      "1524\n",
      "1525\n",
      "1527\n",
      "1526\n",
      "1529\n",
      "1530\n",
      "1528\n",
      "1533\n",
      "1532\n",
      "1531\n",
      "1534\n",
      "1536\n",
      "1535\n",
      "1537\n",
      "1539\n",
      "1540\n",
      "1538\n",
      "1541\n",
      "1542\n",
      "1544\n",
      "1546\n",
      "1545\n",
      "1543\n",
      "1547\n",
      "1548\n",
      "1549\n",
      "1551\n",
      "1552\n",
      "1550\n",
      "1554\n",
      "1553\n",
      "1555\n",
      "1558\n",
      "1557\n",
      "1556\n",
      "1560\n",
      "1561\n",
      "1559\n",
      "1563\n",
      "1564\n",
      "1562\n",
      "1566\n",
      "1565\n",
      "1567\n",
      "1568\n",
      "1569\n",
      "1570\n",
      "1571\n",
      "1572\n",
      "1573\n",
      "1574\n",
      "1575\n",
      "1576\n",
      "1577\n",
      "1578\n",
      "1579\n",
      "1580\n",
      "1581\n",
      "1582\n",
      "1583\n",
      "1584\n",
      "1585\n",
      "1586\n",
      "1588\n",
      "1587\n",
      "1590\n",
      "1589\n",
      "1592\n",
      "1593\n",
      "1591\n",
      "1594\n",
      "1596\n",
      "1595\n",
      "1597\n",
      "1598\n",
      "1599\n",
      "1600\n",
      "1601\n",
      "1602\n",
      "1603\n",
      "1605\n",
      "1604\n",
      "1606\n",
      "1607\n",
      "1608\n",
      "1609\n",
      "1610\n",
      "1611\n",
      "1612\n",
      "1613\n",
      "1615\n",
      "1614\n",
      "1617\n",
      "1616\n",
      "1619\n",
      "1618\n",
      "1620\n",
      "1622\n",
      "1621\n",
      "1625\n",
      "1624\n",
      "1627\n",
      "1623\n",
      "1628\n",
      "1626\n",
      "1629\n",
      "1630\n",
      "1631\n",
      "1632\n",
      "1633\n",
      "1634\n",
      "1635\n",
      "1636\n",
      "1637\n",
      "1638\n",
      "1639\n",
      "1640\n",
      "1641\n",
      "1642\n",
      "1643\n",
      "1644\n",
      "1645\n",
      "1646\n",
      "1647\n",
      "1648\n",
      "1649\n",
      "1650\n",
      "1651\n",
      "1652\n",
      "1653\n",
      "1654\n",
      "1655\n",
      "1657\n",
      "1658\n",
      "1656\n",
      "1659\n",
      "1660\n",
      "1661\n",
      "1662\n",
      "1663\n",
      "1664\n",
      "1666\n",
      "1667\n",
      "1665\n",
      "1670\n",
      "1668\n",
      "1669\n",
      "1672\n",
      "1674\n",
      "1675\n",
      "1671\n",
      "1673\n",
      "1676\n",
      "1677\n",
      "1678\n",
      "1679\n",
      "1680\n",
      "1682\n",
      "1681\n",
      "1683\n",
      "1684\n",
      "1685\n",
      "1686\n",
      "1687\n",
      "1688\n",
      "1689\n",
      "1690\n",
      "1691\n",
      "1694\n",
      "1692\n",
      "1693\n",
      "1695\n",
      "1696\n",
      "1697\n",
      "1698\n",
      "1700\n",
      "1699\n",
      "1701\n",
      "1702\n",
      "1705\n",
      "1703\n",
      "1704\n",
      "1706\n",
      "1707\n",
      "1708\n",
      "1709\n",
      "1710\n",
      "1711\n",
      "1712\n",
      "1713\n",
      "1715\n",
      "1714\n",
      "1716\n",
      "1717\n",
      "1718\n",
      "1719\n",
      "1720\n",
      "1721\n",
      "1723\n",
      "1725\n",
      "1722\n",
      "1726\n",
      "1724\n",
      "1728\n",
      "1729\n",
      "1730\n",
      "1727\n",
      "1732\n",
      "1733\n",
      "1731\n",
      "1734\n",
      "1735\n",
      "1738\n",
      "1737\n",
      "1736\n",
      "1739\n",
      "1740\n",
      "1741\n",
      "1742\n",
      "1743\n",
      "1745\n",
      "1746\n",
      "1744\n",
      "1747\n",
      "1748\n",
      "1749\n",
      "1750\n",
      "1751\n",
      "1752\n",
      "1753\n",
      "1755\n",
      "1754\n",
      "1756\n",
      "1759\n",
      "1758\n",
      "1760\n",
      "1761\n",
      "1757\n",
      "1762\n",
      "1763\n",
      "1765\n",
      "1767\n",
      "1766\n",
      "1768\n",
      "1769\n",
      "1764\n",
      "1770\n",
      "1771\n",
      "1772\n",
      "1773\n",
      "1774\n",
      "1775\n",
      "1776\n",
      "1777\n",
      "1778\n",
      "1779\n",
      "1780\n",
      "1781\n",
      "1782\n",
      "1783\n",
      "1784\n",
      "1786\n",
      "1785\n",
      "1788\n",
      "1789\n",
      "1787\n",
      "1790\n",
      "1791\n",
      "1792\n",
      "1793\n",
      "1795\n",
      "1794\n",
      "1796\n",
      "1797\n",
      "1798\n",
      "1799\n",
      "1800\n",
      "1801\n",
      "1802\n",
      "1803\n",
      "1805\n",
      "1806\n",
      "1804\n",
      "1807\n",
      "1808\n",
      "1809"
     ]
    },
    {
     "name": "stderr",
     "output_type": "stream",
     "text": [
      "\r",
      "2042it [00:00, 2226.10it/s]"
     ]
    },
    {
     "name": "stdout",
     "output_type": "stream",
     "text": [
      "\n",
      "1810\n",
      "1811\n",
      "1812\n",
      "1813\n",
      "1814\n",
      "1815\n",
      "1816\n",
      "1817\n",
      "1818\n",
      "1819\n",
      "1820\n",
      "1821\n",
      "1822\n",
      "1823\n",
      "1824\n",
      "1826\n",
      "1827\n",
      "1825\n",
      "1829\n",
      "1828\n",
      "1831\n",
      "1832\n",
      "1830\n",
      "1833\n",
      "1834\n",
      "1836\n",
      "1838\n",
      "1837\n",
      "1835\n",
      "1840\n",
      "1839\n",
      "1841\n",
      "1842\n",
      "1843\n",
      "1845\n",
      "1844\n",
      "1847\n",
      "1846\n",
      "1848\n",
      "1849\n",
      "1850\n",
      "1851\n",
      "1852\n",
      "1853\n",
      "1854\n",
      "1855\n",
      "1856\n",
      "1857\n",
      "1858\n",
      "1859\n",
      "1860\n",
      "1861\n",
      "1862\n",
      "1863\n",
      "1864\n",
      "1865\n",
      "1866\n",
      "1867\n",
      "1868\n",
      "1869\n",
      "1871\n",
      "1870\n",
      "1872\n",
      "1873\n",
      "1874\n",
      "1875\n",
      "1876\n",
      "1879\n",
      "1880\n",
      "1877\n",
      "1878\n",
      "1881\n",
      "1884\n",
      "1882\n",
      "1885\n",
      "1883\n",
      "1886\n",
      "1887\n",
      "1889\n",
      "1888\n",
      "1890\n",
      "1891\n",
      "1892\n",
      "1894\n",
      "1893\n",
      "1895\n",
      "1896\n",
      "1897\n",
      "1898\n",
      "1899\n",
      "1900\n",
      "1902\n",
      "1904\n",
      "1901\n",
      "1903\n",
      "1905\n",
      "1907\n",
      "1909\n",
      "1906\n",
      "1908\n",
      "1911\n",
      "1910\n",
      "1912\n",
      "1914\n",
      "1916\n",
      "1913\n",
      "1915\n",
      "1918\n",
      "1917\n",
      "1920\n",
      "1919\n",
      "1921\n",
      "1924\n",
      "1922\n",
      "1923\n",
      "1926\n",
      "1925\n",
      "1927\n",
      "1928\n",
      "1929\n",
      "1930\n",
      "1931\n",
      "1932\n",
      "1933\n",
      "1934\n",
      "1935\n",
      "1936\n",
      "1937\n",
      "1938\n",
      "1939\n",
      "1940\n",
      "1941\n",
      "1942\n",
      "1943\n",
      "1944\n",
      "1945\n",
      "1946\n",
      "1947\n",
      "1948\n",
      "1949\n",
      "1951\n",
      "1950\n",
      "1952\n",
      "1955\n",
      "1954\n",
      "1956\n",
      "1953\n",
      "1958\n",
      "1957\n",
      "1960\n",
      "1961\n",
      "1962\n",
      "1964\n",
      "1959\n",
      "1965\n",
      "1963\n",
      "1966\n",
      "1967\n",
      "1968\n",
      "1969\n",
      "1970\n",
      "1972\n",
      "1973\n",
      "1971\n",
      "1974\n",
      "1975\n",
      "1976\n",
      "1977\n",
      "1978\n",
      "1979\n",
      "1980\n",
      "1981\n",
      "1982\n",
      "1983\n",
      "1985\n",
      "1984\n",
      "1987\n",
      "1988\n",
      "1990\n",
      "1986\n",
      "1992\n",
      "1989\n",
      "1991\n",
      "1994\n",
      "1993\n",
      "1995\n",
      "1996\n",
      "1997\n",
      "1998\n",
      "1999\n",
      "2002\n",
      "2001\n",
      "2000\n",
      "2004\n",
      "2003\n",
      "2006\n",
      "2005\n",
      "2009\n",
      "2007\n",
      "2010\n",
      "2012\n",
      "2008\n",
      "2011\n",
      "2014\n",
      "2013\n",
      "2015\n",
      "2016\n",
      "2017\n",
      "2018\n",
      "2019\n",
      "2020\n",
      "2022\n",
      "2023\n",
      "2021\n",
      "2024\n",
      "2025\n",
      "2026\n",
      "2027\n",
      "2028\n",
      "2029\n",
      "2031\n",
      "2030\n",
      "2034\n",
      "2032\n",
      "2033\n",
      "2035\n",
      "2037\n",
      "2036\n",
      "2039\n",
      "2038\n",
      "2041\n",
      "2040\n",
      "2042\n",
      "2044\n",
      "2043\n",
      "2045\n",
      "2047\n",
      "2046\n",
      "2048\n",
      "2049\n",
      "2050\n",
      "2051\n",
      "2052\n",
      "2054\n",
      "2053\n",
      "2055\n",
      "2056\n",
      "2058\n",
      "2057\n",
      "2059\n",
      "2061\n",
      "2060\n",
      "2062\n",
      "2064\n",
      "2063\n",
      "2065\n",
      "2068\n",
      "2067\n",
      "2069\n",
      "2066\n",
      "2070\n",
      "2071\n",
      "2072\n",
      "2075\n",
      "2074\n",
      "2073\n",
      "2077\n",
      "2078\n",
      "2076\n",
      "2079\n",
      "2080\n",
      "2081\n",
      "2082\n",
      "2085\n",
      "2084\n",
      "2083\n",
      "2087\n",
      "2086\n",
      "2088\n",
      "2090\n",
      "2089\n",
      "2091\n",
      "2092\n",
      "2093\n",
      "2094\n",
      "2095\n",
      "2096\n",
      "2097\n",
      "2099\n",
      "2100\n",
      "2098\n",
      "2101\n",
      "2104\n",
      "2103\n",
      "2102\n",
      "2107\n",
      "2105\n",
      "2108\n",
      "2110\n",
      "2106\n",
      "2113\n",
      "2109\n",
      "2111\n",
      "2112\n",
      "2114\n",
      "2115\n",
      "2116\n",
      "2117\n",
      "2119\n",
      "2118\n",
      "2121\n",
      "2120\n",
      "2124\n",
      "2122\n",
      "2123\n",
      "2125\n",
      "2127\n",
      "2129\n",
      "2128\n",
      "2126\n",
      "2130\n",
      "2132\n",
      "2135\n",
      "2131\n",
      "2134\n",
      "2137\n",
      "2133\n",
      "2136\n",
      "2139\n",
      "2141\n",
      "2140\n",
      "2138\n",
      "2144\n",
      "2143\n",
      "2142\n",
      "2145\n",
      "2146\n",
      "2147\n",
      "2149\n",
      "2148\n",
      "2151\n",
      "2150\n",
      "2152\n",
      "2154\n",
      "2153\n",
      "2157\n",
      "2155\n",
      "2156\n",
      "2158\n",
      "2160\n",
      "2161\n",
      "2162\n",
      "2159\n",
      "2164\n",
      "2165\n",
      "2163\n",
      "2166\n",
      "2167\n",
      "2168\n",
      "2170\n",
      "2169\n",
      "2171\n",
      "2172\n",
      "2174\n",
      "2173\n",
      "2175\n",
      "2176\n",
      "2177\n",
      "2178\n",
      "2179\n",
      "2180\n",
      "2181\n",
      "2182\n",
      "2183\n",
      "2184\n",
      "2186\n",
      "2185\n",
      "2187\n",
      "2190\n",
      "2189\n",
      "2188\n",
      "2192\n",
      "2193\n",
      "2191\n",
      "2195\n",
      "2197\n",
      "2196\n",
      "2194\n",
      "2198\n",
      "2200\n",
      "2199\n",
      "2201\n",
      "2203\n",
      "2202\n",
      "2204\n",
      "2205\n",
      "2206\n",
      "2208\n",
      "2207\n",
      "2210\n",
      "2209\n",
      "2211\n",
      "2212\n",
      "2213\n"
     ]
    },
    {
     "name": "stderr",
     "output_type": "stream",
     "text": [
      "2614it [00:01, 2396.36it/s]"
     ]
    },
    {
     "name": "stdout",
     "output_type": "stream",
     "text": [
      "2214\n",
      "2215\n",
      "2216\n",
      "2217\n",
      "2219\n",
      "2218\n",
      "2220\n",
      "2222\n",
      "2221\n",
      "2225\n",
      "2224\n",
      "2223\n",
      "2228\n",
      "2227\n",
      "2226\n",
      "2229\n",
      "2230\n",
      "2231\n",
      "2232\n",
      "2234\n",
      "2236\n",
      "2235\n",
      "2233\n",
      "2237\n",
      "2238\n",
      "2239\n",
      "2240\n",
      "2241\n",
      "2242\n",
      "2243\n",
      "2244\n",
      "2245\n",
      "2246\n",
      "2247\n",
      "2249\n",
      "2248\n",
      "2250\n",
      "2252\n",
      "2251\n",
      "2253\n",
      "2255\n",
      "2257\n",
      "2254\n",
      "2256\n",
      "2258\n",
      "2260\n",
      "2262\n",
      "2259\n",
      "2261\n",
      "2264\n",
      "2265\n",
      "2263\n",
      "2268\n",
      "2267\n",
      "2266\n",
      "2269\n",
      "2271\n",
      "2273\n",
      "2270\n",
      "2274\n",
      "2275\n",
      "2272\n",
      "2277\n",
      "2276\n",
      "2278\n",
      "2279\n",
      "2280\n",
      "2281\n",
      "2282\n",
      "2283\n",
      "2284\n",
      "2285\n",
      "2286\n",
      "2287\n",
      "2289\n",
      "2288\n",
      "2290\n",
      "2291\n",
      "2292\n",
      "2293\n",
      "2294\n",
      "2295\n",
      "2296\n",
      "2298\n",
      "2297\n",
      "2299\n",
      "2300\n",
      "2301\n",
      "2302\n",
      "2304\n",
      "2303\n",
      "2305\n",
      "2306\n",
      "2307\n",
      "2309\n",
      "2308\n",
      "2310\n",
      "2311\n",
      "2313\n",
      "2312\n",
      "2316\n",
      "2315\n",
      "2314\n",
      "2317\n",
      "2318\n",
      "2319\n",
      "2320\n",
      "2322\n",
      "2321\n",
      "2324\n",
      "2325\n",
      "2326\n",
      "2323\n",
      "2327\n",
      "2328\n",
      "2329\n",
      "2330\n",
      "2331\n",
      "2333\n",
      "2332\n",
      "2335\n",
      "2334\n",
      "2336\n",
      "2338\n",
      "2339\n",
      "2337\n",
      "2342\n",
      "2340\n",
      "2343\n",
      "2341\n",
      "2345\n",
      "2347\n",
      "2344\n",
      "2346\n",
      "2349\n",
      "2348\n",
      "2351\n",
      "2352\n",
      "2354\n",
      "2353\n",
      "2350\n",
      "2355\n",
      "2356\n",
      "2357\n",
      "2358\n",
      "2361\n",
      "2360\n",
      "2359\n",
      "2362\n",
      "2364\n",
      "2363\n",
      "2365\n",
      "2366\n",
      "2367\n",
      "2368\n",
      "2369\n",
      "2370\n",
      "2371\n",
      "2372\n",
      "2375\n",
      "2373\n",
      "2374\n",
      "2376\n",
      "2378\n",
      "2377\n",
      "2379\n",
      "2380\n",
      "2381\n",
      "2382\n",
      "2385\n",
      "2383\n",
      "2384\n",
      "2386\n",
      "2387\n",
      "2388\n",
      "2389\n",
      "2390\n",
      "2391\n",
      "2393\n",
      "2392\n",
      "2395\n",
      "2394\n",
      "2396\n",
      "2397\n",
      "2398\n",
      "2400\n",
      "2399\n",
      "2402\n",
      "2401\n",
      "2405\n",
      "2403\n",
      "2404\n",
      "2407\n",
      "2406\n",
      "2408\n",
      "2409\n",
      "2410\n",
      "2412\n",
      "2411\n",
      "2414\n",
      "2413\n",
      "2415\n",
      "2417\n",
      "2416\n",
      "2418\n",
      "2420\n",
      "2419\n",
      "2423\n",
      "2422\n",
      "2424\n",
      "2421\n",
      "2425\n",
      "2426\n",
      "2427\n",
      "2428\n",
      "2429\n",
      "2430\n",
      "2431\n",
      "2432\n",
      "2433\n",
      "2435\n",
      "2434\n",
      "2437\n",
      "2436\n",
      "2438\n",
      "2440\n",
      "2441\n",
      "2439\n",
      "2443\n",
      "2442\n",
      "2445\n",
      "2444\n",
      "2446\n",
      "2448\n",
      "2447\n",
      "2449\n",
      "2450\n",
      "2452\n",
      "2451\n",
      "2453\n",
      "2454\n",
      "2455\n",
      "2456\n",
      "2457\n",
      "2460\n",
      "2458\n",
      "2462\n",
      "2459\n",
      "2461\n",
      "2463\n",
      "2464\n",
      "2465\n",
      "2466\n",
      "2468\n",
      "2467\n",
      "2469\n",
      "2471\n",
      "2470\n",
      "2473\n",
      "2472\n",
      "2475\n",
      "2476\n",
      "2477\n",
      "2474\n",
      "2478\n",
      "2481\n",
      "2480\n",
      "2479\n",
      "2482\n",
      "2484\n",
      "2485\n",
      "2483\n",
      "2487\n",
      "2486\n",
      "2488\n",
      "2489\n",
      "2490\n",
      "2492\n",
      "2493\n",
      "2494\n",
      "2491\n",
      "2496\n",
      "2495\n",
      "2498\n",
      "2497\n",
      "2499\n",
      "2500\n",
      "2501\n",
      "2502\n",
      "2503\n",
      "2504\n",
      "2505\n",
      "2507\n",
      "2506\n",
      "2508\n",
      "2510\n",
      "2509\n",
      "2511\n",
      "2512\n",
      "2513\n",
      "2514\n",
      "2516\n",
      "2517\n",
      "2518\n",
      "2515\n",
      "2519\n",
      "2522\n",
      "2520\n",
      "2521\n",
      "2525\n",
      "2523\n",
      "2526\n",
      "2524\n",
      "2527\n",
      "2529\n",
      "2528\n",
      "2530\n",
      "2531\n",
      "2532\n",
      "2533\n",
      "2534\n",
      "2535\n",
      "2536\n",
      "2537\n",
      "2538\n",
      "2539\n",
      "2540\n",
      "2543\n",
      "2542\n",
      "2541\n",
      "2544\n",
      "2546\n",
      "2545\n",
      "2548\n",
      "2547\n",
      "2549\n",
      "2550\n",
      "2551\n",
      "2552\n",
      "2553\n",
      "2554\n",
      "2556\n",
      "2555\n",
      "2559\n",
      "2557\n",
      "2558\n",
      "2560\n",
      "2562\n",
      "2561\n",
      "2563\n",
      "2565\n",
      "2564\n",
      "2566\n",
      "2567\n",
      "2568\n",
      "2569\n",
      "2570\n",
      "2571\n",
      "2572\n",
      "2574\n",
      "2573\n",
      "2575\n",
      "2576\n",
      "2578\n",
      "2577\n",
      "2581\n",
      "2582\n",
      "2579\n",
      "2580\n",
      "2583\n",
      "2584\n",
      "2585\n",
      "2586\n",
      "2587\n",
      "2588\n",
      "2589\n",
      "2590\n",
      "2591\n",
      "2592\n",
      "2594\n",
      "2593\n",
      "2595\n",
      "2597\n",
      "2596\n",
      "2598\n",
      "2599\n",
      "2602\n",
      "2600\n",
      "2601\n",
      "2604\n",
      "2603\n",
      "2606\n",
      "2607\n",
      "2605\n",
      "2608\n",
      "2610\n",
      "2611\n",
      "2609\n",
      "2612\n",
      "2613\n",
      "2614\n",
      "2615\n",
      "2616\n",
      "2617\n",
      "2618\n",
      "2619\n",
      "2620\n",
      "2621\n",
      "2622\n",
      "2623\n",
      "2624\n",
      "2626\n",
      "2625\n",
      "2627\n",
      "2629\n",
      "2631\n",
      "2628\n",
      "2630\n",
      "2632\n",
      "2633\n",
      "2634\n",
      "2635\n",
      "2637\n",
      "2636\n",
      "2638\n",
      "2639\n",
      "2640\n",
      "2641\n",
      "2642\n",
      "2643\n",
      "2644\n",
      "2645\n",
      "2647\n",
      "2646\n",
      "2648\n",
      "2651\n",
      "2649\n",
      "2650\n",
      "2652\n",
      "2653\n",
      "2654\n",
      "2655\n",
      "2656\n",
      "2657\n",
      "2659\n",
      "2658\n",
      "2660\n",
      "2662\n",
      "2663\n",
      "2661\n",
      "2665\n",
      "2667\n",
      "2664\n",
      "2666\n",
      "2669\n",
      "2670\n",
      "2671\n",
      "2668\n",
      "2673\n",
      "2672\n",
      "2675\n",
      "2674\n",
      "2676\n",
      "2677\n",
      "2678\n",
      "2679\n",
      "2681\n",
      "2680\n",
      "2682\n",
      "2683\n",
      "2684\n",
      "2685\n",
      "2687\n",
      "2686\n",
      "2688\n",
      "2690\n",
      "2691\n",
      "2692\n",
      "2689\n",
      "2694\n",
      "2693\n",
      "2695\n",
      "2696\n",
      "2697\n",
      "2698\n",
      "2700\n",
      "2699\n",
      "2701\n",
      "2703\n",
      "2702\n",
      "2704\n",
      "2706\n",
      "2705\n",
      "2707\n",
      "2708\n",
      "2709\n",
      "2710\n",
      "2712\n",
      "2711\n",
      "2713\n",
      "2714\n",
      "2715\n",
      "2716\n",
      "2717\n",
      "2719\n",
      "2718\n",
      "2720\n",
      "2721\n",
      "2722\n",
      "2723\n",
      "2724\n",
      "2725\n",
      "2726\n",
      "2729\n",
      "2727\n",
      "2728\n",
      "2730\n",
      "2731\n",
      "2732\n",
      "2733\n",
      "2734\n",
      "2737\n",
      "2736\n",
      "2735\n",
      "2740\n",
      "2738\n",
      "2739\n",
      "2741\n",
      "2742\n",
      "2743\n",
      "2744\n",
      "2745\n",
      "2746\n",
      "2747\n",
      "2748\n",
      "2749\n",
      "2750\n",
      "2752\n",
      "2751\n",
      "2753\n",
      "2756\n",
      "2754\n",
      "2755\n",
      "2758\n",
      "2757\n",
      "2759\n",
      "2760\n",
      "2763\n",
      "2762\n",
      "2761\n",
      "2764\n",
      "2765\n",
      "2766\n",
      "2767\n",
      "2768\n",
      "2770\n",
      "2769\n",
      "2771\n",
      "2772\n",
      "2775\n",
      "2774\n",
      "2773\n",
      "2776\n",
      "2777\n",
      "2778\n",
      "2779\n",
      "2780\n",
      "2781\n",
      "2782\n",
      "2783\n",
      "2784\n",
      "2785\n",
      "2786\n",
      "2787\n",
      "2789\n",
      "2788\n",
      "2791\n",
      "2790\n",
      "2792\n",
      "2795\n",
      "2793\n",
      "2794\n",
      "2798\n",
      "2797\n",
      "2796\n",
      "2800\n",
      "2801\n",
      "2799\n",
      "2803\n",
      "2804\n",
      "2805\n",
      "2802\n",
      "2806\n",
      "2807\n",
      "2808\n",
      "2809\n",
      "2810\n",
      "2811\n",
      "2812\n",
      "2813\n",
      "2814\n",
      "2815\n",
      "2816\n",
      "2817\n",
      "2818\n",
      "2819\n",
      "2820\n",
      "2821\n",
      "2822\n",
      "2823\n",
      "2824\n",
      "2825\n",
      "2827\n",
      "2826\n",
      "2829\n",
      "2828\n",
      "2830\n",
      "2831\n",
      "2832\n",
      "2833\n",
      "2834\n",
      "2836\n",
      "2835\n",
      "2838\n",
      "2837\n",
      "2839\n",
      "2840\n",
      "2841\n",
      "2842\n",
      "2843\n",
      "2845\n",
      "2844\n",
      "2848\n",
      "2847\n",
      "2846\n",
      "2849\n",
      "2851\n",
      "2850\n",
      "2852\n",
      "2854\n",
      "2853\n",
      "2855\n",
      "2856\n",
      "2857\n",
      "2858\n",
      "2859\n",
      "2860\n",
      "2861\n",
      "2862\n",
      "2864\n",
      "2863\n",
      "2866\n",
      "2867\n",
      "2865\n",
      "2869\n",
      "2868\n",
      "2870\n",
      "2871\n",
      "2872\n",
      "2873\n",
      "2874\n",
      "2875\n",
      "2876\n",
      "2877\n",
      "2878\n",
      "2879\n",
      "2880\n",
      "2881\n",
      "2882\n",
      "2883\n",
      "2884\n",
      "2885\n",
      "2886\n",
      "2887\n",
      "2888\n",
      "2889\n",
      "2890\n",
      "2891\n",
      "2892\n",
      "2893\n",
      "2894\n",
      "2895\n",
      "2896\n",
      "2897\n",
      "2898\n",
      "2899\n",
      "2900\n",
      "2901\n",
      "2902\n",
      "2903\n",
      "2904\n",
      "2905\n",
      "2906\n",
      "2907\n",
      "2908\n",
      "2909\n",
      "2910\n",
      "2911\n",
      "2914\n",
      "2913\n",
      "2912\n",
      "2915\n",
      "2916\n",
      "2917\n",
      "2918\n",
      "2921\n",
      "2920\n"
     ]
    },
    {
     "name": "stderr",
     "output_type": "stream",
     "text": [
      "3330it [00:01, 2300.06it/s]"
     ]
    },
    {
     "name": "stdout",
     "output_type": "stream",
     "text": [
      "2919\n",
      "2922\n",
      "2924\n",
      "2923\n",
      "2925\n",
      "2926\n",
      "2927\n",
      "2928\n",
      "2930\n",
      "2929\n",
      "2931\n",
      "2932\n",
      "2933\n",
      "2934\n",
      "2935\n",
      "2936\n",
      "2937\n",
      "2938\n",
      "2939\n",
      "2940\n",
      "2941\n",
      "2942\n",
      "2943\n",
      "2944\n",
      "2945\n",
      "2946\n",
      "2947\n",
      "2948\n",
      "2949\n",
      "2950\n",
      "2951\n",
      "2952\n",
      "2953\n",
      "2954\n",
      "2956\n",
      "2957\n",
      "2955\n",
      "2958\n",
      "2960\n",
      "2959\n",
      "2961\n",
      "2963\n",
      "2962\n",
      "2964\n",
      "2966\n",
      "2968\n",
      "2967\n",
      "2965\n",
      "2969\n",
      "2970\n",
      "2972\n",
      "2971\n",
      "2975\n",
      "2974\n",
      "2973\n",
      "2976\n",
      "2977\n",
      "2978\n",
      "2979\n",
      "2981\n",
      "2980\n",
      "2982\n",
      "2984\n",
      "2983\n",
      "2985\n",
      "2986\n",
      "2987\n",
      "2988\n",
      "2989\n",
      "2990\n",
      "2991\n",
      "2993\n",
      "2992\n",
      "2996\n",
      "2994\n",
      "2995\n",
      "2997\n",
      "2999\n",
      "2998\n",
      "3001\n",
      "3002\n",
      "3003\n",
      "3000\n",
      "3004\n",
      "3005\n",
      "3006\n",
      "3007\n",
      "3008\n",
      "3009\n",
      "3011\n",
      "3010\n",
      "3012\n",
      "3014\n",
      "3013\n",
      "3015\n",
      "3017\n",
      "3018\n",
      "3016\n",
      "3020\n",
      "3019\n",
      "3022\n",
      "3021\n",
      "3023\n",
      "3024\n",
      "3025\n",
      "3028\n",
      "3026\n",
      "3027\n",
      "3030\n",
      "3029\n",
      "3031\n",
      "3032\n",
      "3034\n",
      "3035\n",
      "3036\n",
      "3037\n",
      "3033\n",
      "3039\n",
      "3040\n",
      "3038\n",
      "3042\n",
      "3041\n",
      "3044\n",
      "3045\n",
      "3043\n",
      "3046\n",
      "3047\n",
      "3048\n",
      "3049\n",
      "3050\n",
      "3053\n",
      "3052\n",
      "3051\n",
      "3055\n",
      "3057\n",
      "3054\n",
      "3056\n",
      "3058\n",
      "3059\n",
      "3060\n",
      "3061\n",
      "3062\n",
      "3063\n",
      "3064\n",
      "3065\n",
      "3066\n",
      "3067\n",
      "3068\n",
      "3070\n",
      "3069\n",
      "3071\n",
      "3073\n",
      "3072\n",
      "3074\n",
      "3075\n",
      "3076\n",
      "3077\n",
      "3078\n",
      "3079\n",
      "3080\n",
      "3081\n",
      "3083\n",
      "3082\n",
      "3086\n",
      "3085\n",
      "3088\n",
      "3090\n",
      "3087\n",
      "3084\n",
      "3089\n",
      "3091\n",
      "3093\n",
      "3092\n",
      "3094\n",
      "3095\n",
      "3097\n",
      "3096\n",
      "3098\n",
      "3100\n",
      "3099\n",
      "3101\n",
      "3102\n",
      "3103\n",
      "3105\n",
      "3106\n",
      "3104\n",
      "3107\n",
      "3108\n",
      "3109\n",
      "3110\n",
      "3111\n",
      "3113\n",
      "3112\n",
      "3115\n",
      "3114\n",
      "3117\n",
      "3118\n",
      "3116\n",
      "3119\n",
      "3121\n",
      "3120\n",
      "3123\n",
      "3122\n",
      "3124\n",
      "3126\n",
      "3125\n",
      "3127\n",
      "3129\n",
      "3128\n",
      "3130\n",
      "3131\n",
      "3132\n",
      "3133\n",
      "3134\n",
      "3136\n",
      "3135\n",
      "3137\n",
      "3139\n",
      "3138\n",
      "3140\n",
      "3141\n",
      "3142\n",
      "3143\n",
      "3144\n",
      "3145\n",
      "3146\n",
      "3147\n",
      "3148\n",
      "3149\n",
      "3151\n",
      "3152\n",
      "3150\n",
      "3153\n",
      "3154\n",
      "3155\n",
      "3156\n",
      "3157\n",
      "3159\n",
      "3160\n",
      "3161\n",
      "3163\n",
      "3158\n",
      "3162\n",
      "3164\n",
      "3165\n",
      "3167\n",
      "3166\n",
      "3169\n",
      "3168\n",
      "3170\n",
      "3171\n",
      "3172\n",
      "3175\n",
      "3174\n",
      "3173\n",
      "3177\n",
      "3176\n",
      "3178\n",
      "3179\n",
      "3180\n",
      "3182\n",
      "3181\n",
      "3184\n",
      "3183\n",
      "3185\n",
      "3186\n",
      "3187\n",
      "3188\n",
      "3190\n",
      "3189\n",
      "3192\n",
      "3191\n",
      "3193\n",
      "3194\n",
      "3195\n",
      "3196\n",
      "3197\n",
      "3198\n",
      "3199\n",
      "3200\n",
      "3201\n",
      "3202\n",
      "3203\n",
      "3204\n",
      "3205\n",
      "3206\n",
      "3207\n",
      "3209\n",
      "3208\n",
      "3211\n",
      "3210\n",
      "3213\n",
      "3212\n",
      "3214\n",
      "3215\n",
      "3216\n",
      "3217\n",
      "3219\n",
      "3218\n",
      "3221\n",
      "3222\n",
      "3220\n",
      "3225\n",
      "3224\n",
      "3226\n",
      "3223\n",
      "3229\n",
      "3227\n",
      "3228\n",
      "3230\n",
      "3231\n",
      "3232\n",
      "3234\n",
      "3233\n",
      "3235\n",
      "3236\n",
      "3237\n",
      "3238\n",
      "3239\n",
      "3240\n",
      "3241\n",
      "3244\n",
      "3245\n",
      "3243\n",
      "3242\n",
      "3248\n",
      "3247\n",
      "3246\n",
      "3250\n",
      "3249\n",
      "3252\n",
      "3251\n",
      "3253\n",
      "3254\n",
      "3256\n",
      "3255\n",
      "3257\n",
      "3259\n",
      "3258\n",
      "3262\n",
      "3260\n",
      "3261\n",
      "3265\n",
      "3263\n",
      "3264\n",
      "3267\n",
      "3266\n",
      "3268\n",
      "3269\n",
      "3270\n",
      "3271\n",
      "3272\n",
      "3273\n",
      "3274\n",
      "3276\n",
      "3277\n",
      "3275\n",
      "3278\n",
      "3279\n",
      "3280\n",
      "3281\n",
      "3282\n",
      "3283\n",
      "3284\n",
      "3285\n",
      "3286\n",
      "3287\n",
      "3289\n",
      "3288\n",
      "3290\n",
      "3291\n",
      "3293\n",
      "3294\n",
      "3292\n",
      "3296\n",
      "3298\n",
      "3297\n",
      "3295\n",
      "3299\n",
      "3300\n",
      "3301\n",
      "3302\n",
      "3303\n",
      "3305\n",
      "3306\n",
      "3304\n",
      "3308\n",
      "3307\n",
      "3309\n",
      "3310\n",
      "3311\n",
      "3312\n",
      "3314\n",
      "3313\n",
      "3315\n",
      "3316\n",
      "3317\n",
      "3318\n",
      "3319\n",
      "3320\n",
      "3322\n",
      "3321\n",
      "3324\n",
      "3323\n",
      "3325\n",
      "3326\n",
      "3327\n",
      "3328\n",
      "3329\n"
     ]
    },
    {
     "name": "stderr",
     "output_type": "stream",
     "text": [
      "\n"
     ]
    }
   ],
   "source": [
    "FPArray2 = []\n",
    "with concurrent.futures.ProcessPoolExecutor() as executor:\n",
    "    out = {executor.submit(interactionMapper,i): i for i in range(3330)}\n",
    "    for future in tqdm(concurrent.futures.as_completed(out)):\n",
    "        fp = future.result()\n",
    "        print(fp[-1])\n",
    "        FPArray2.append(fp)  "
   ]
  },
  {
   "cell_type": "markdown",
   "id": "e001c904",
   "metadata": {},
   "source": [
    "###### All the drug molecule with interaction data is stored in DrugVinaRes database"
   ]
  },
  {
   "cell_type": "markdown",
   "id": "2853883e",
   "metadata": {},
   "source": [
    "#### Resiudes to be extracted"
   ]
  },
  {
   "cell_type": "code",
   "execution_count": 95,
   "id": "941b20f7",
   "metadata": {},
   "outputs": [],
   "source": [
    "def interactionMapper2(file_num):\n",
    "    efficiency = []\n",
    "    nInteraction = []\n",
    "    Iresidues= []\n",
    "    LigandAtomNum = []\n",
    "    \n",
    "    if os.path.isfile(f\"DrugVinaRes/{file_num}_out_out_model1.pdbqt\"):\n",
    "        \n",
    "        with open(f\"DrugVinaRes/{file_num}_out_out_model1.pdbqt\",\"r\") as file:\n",
    "            lines = file.readlines()\n",
    "\n",
    "        for i in lines:\n",
    "            if re.findall(\"ligand efficiency\",i):\n",
    "                efficiency.append(float(i.strip(\"USER  AD>  ligand efficiency  \",).strip(\"\\n\")))\n",
    "\n",
    "            if re.findall(\"macro_close_ats\",i):\n",
    "                Iresidues.append(int(i.strip(\"USER  AD> macro_close_ats: \",).strip(\"\\n\")))\n",
    "\n",
    "            if re.findall(\"AD> 6fn1_minimized:\",i):\n",
    "                nInteraction.append(i.strip(\"USER  AD> 6fn1_minimized: :\",).strip(\"\\n\"))\n",
    "\n",
    "            if re.findall(\"lig_close_ats\",i):\n",
    "                LigandAtomNum.append(int(i.strip(\"USER  AD> lig_close_ats: \",).strip(\"\\n\")))\n",
    "\n",
    "        return (efficiency,nInteraction,Iresidues,LigandAtomNum,file_num)\n",
    "    else:\n",
    "        return (None,file_num)"
   ]
  },
  {
   "cell_type": "code",
   "execution_count": 96,
   "id": "8a794c3c",
   "metadata": {},
   "outputs": [
    {
     "name": "stderr",
     "output_type": "stream",
     "text": [
      "161it [00:00, 821.65it/s]"
     ]
    },
    {
     "name": "stdout",
     "output_type": "stream",
     "text": [
      "0\n",
      "22\n",
      "1\n",
      "21\n",
      "11\n",
      "13\n",
      "31\n",
      "33\n",
      "24\n",
      "7\n",
      "17\n",
      "9\n",
      "16\n",
      "26\n",
      "14\n",
      "37\n",
      "36\n",
      "41\n",
      "38\n",
      "35\n",
      "18\n",
      "10\n",
      "48\n",
      "43\n",
      "54\n",
      "49\n",
      "46\n",
      "2\n",
      "47\n",
      "15\n",
      "40\n",
      "59\n",
      "61\n",
      "62\n",
      "55\n",
      "66\n",
      "45\n",
      "42\n",
      "67\n",
      "58\n",
      "70\n",
      "69\n",
      "30\n",
      "74\n",
      "51\n",
      "72\n",
      "53\n",
      "8\n",
      "76\n",
      "79\n",
      "4\n",
      "81\n",
      "82\n",
      "78\n",
      "63\n",
      "83\n",
      "64\n",
      "5\n",
      "84\n",
      "86\n",
      "88\n",
      "32\n",
      "91\n",
      "90\n",
      "94\n",
      "29\n",
      "95\n",
      "98\n",
      "44\n",
      "56\n",
      "25\n",
      "100\n",
      "99\n",
      "102\n",
      "105\n",
      "101\n",
      "107\n",
      "87\n",
      "106\n",
      "65\n",
      "39\n",
      "6\n",
      "12\n",
      "109\n",
      "113\n",
      "73\n",
      "71\n",
      "116\n",
      "115\n",
      "103\n",
      "117\n",
      "118\n",
      "120\n",
      "119\n",
      "108\n",
      "110\n",
      "121\n",
      "125\n",
      "124\n",
      "122\n",
      "123\n",
      "111\n",
      "126\n",
      "127\n",
      "128\n",
      "133\n",
      "131\n",
      "97\n",
      "135\n",
      "138\n",
      "136\n",
      "139\n",
      "114\n",
      "143\n",
      "141\n",
      "144\n",
      "142\n",
      "132\n",
      "149\n",
      "145\n",
      "148\n",
      "104\n",
      "150\n",
      "152\n",
      "153\n",
      "155\n",
      "154\n",
      "52\n",
      "75\n",
      "147\n",
      "92\n",
      "151\n",
      "158\n",
      "19\n",
      "112\n",
      "146\n",
      "80\n",
      "28\n",
      "168\n",
      "161\n",
      "163\n",
      "164\n",
      "165\n",
      "162\n",
      "160\n",
      "167\n",
      "172\n",
      "171\n",
      "176\n",
      "170\n",
      "137\n",
      "177\n",
      "134\n",
      "175\n",
      "130\n",
      "68\n",
      "173\n",
      "27\n",
      "3\n",
      "181\n",
      "180\n",
      "182\n",
      "178\n",
      "183\n",
      "190\n",
      "188\n",
      "60\n",
      "93\n",
      "169\n",
      "85\n",
      "201\n",
      "140\n",
      "191\n",
      "202\n",
      "129\n",
      "20\n",
      "196\n",
      "208\n",
      "192\n",
      "199\n",
      "197\n",
      "204\n",
      "193\n",
      "207\n",
      "205\n",
      "203\n",
      "206\n",
      "77\n",
      "210\n",
      "209\n",
      "89\n",
      "217\n",
      "218\n",
      "34\n",
      "220\n",
      "219\n",
      "96\n",
      "186\n",
      "189\n",
      "221\n",
      "159\n",
      "224\n",
      "226\n",
      "229\n",
      "157\n",
      "231\n",
      "234\n",
      "233\n",
      "232\n",
      "166\n",
      "237\n",
      "238\n",
      "240\n",
      "215\n",
      "174\n",
      "242\n",
      "244\n",
      "245\n",
      "246\n",
      "243\n"
     ]
    },
    {
     "name": "stderr",
     "output_type": "stream",
     "text": [
      "540it [00:00, 1522.40it/s]"
     ]
    },
    {
     "name": "stdout",
     "output_type": "stream",
     "text": [
      "216\n",
      "247\n",
      "248\n",
      "249\n",
      "195\n",
      "251\n",
      "250\n",
      "254\n",
      "253\n",
      "252\n",
      "255\n",
      "256\n",
      "185\n",
      "257\n",
      "258\n",
      "265\n",
      "259\n",
      "266\n",
      "260\n",
      "264\n",
      "262\n",
      "211\n",
      "267\n",
      "270\n",
      "268\n",
      "273\n",
      "214\n",
      "274\n",
      "276\n",
      "275\n",
      "279\n",
      "278\n",
      "280\n",
      "282\n",
      "281\n",
      "198\n",
      "213\n",
      "287\n",
      "289\n",
      "212\n",
      "283\n",
      "285\n",
      "286\n",
      "290\n",
      "288\n",
      "271\n",
      "292\n",
      "291\n",
      "294\n",
      "295\n",
      "296\n",
      "179\n",
      "298\n",
      "156\n",
      "297\n",
      "301\n",
      "299\n",
      "300\n",
      "227\n",
      "302\n",
      "225\n",
      "309\n",
      "308\n",
      "305\n",
      "312\n",
      "307\n",
      "310\n",
      "311\n",
      "272\n",
      "314\n",
      "284\n",
      "318\n",
      "317\n",
      "319\n",
      "321\n",
      "322\n",
      "320\n",
      "323\n",
      "326\n",
      "235\n",
      "222\n",
      "324\n",
      "325\n",
      "329\n",
      "331\n",
      "187\n",
      "194\n",
      "200\n",
      "332\n",
      "334\n",
      "239\n",
      "223\n",
      "236\n",
      "341\n",
      "335\n",
      "241\n",
      "344\n",
      "261\n",
      "339\n",
      "350\n",
      "346\n",
      "316\n",
      "345\n",
      "340\n",
      "303\n",
      "349\n",
      "347\n",
      "351\n",
      "352\n",
      "353\n",
      "355\n",
      "358\n",
      "362\n",
      "359\n",
      "306\n",
      "360\n",
      "277\n",
      "361\n",
      "327\n",
      "369\n",
      "370\n",
      "337\n",
      "373\n",
      "342\n",
      "372\n",
      "374\n",
      "375\n",
      "378\n",
      "377\n",
      "380\n",
      "379\n",
      "313\n",
      "333\n",
      "338\n",
      "336\n",
      "348\n",
      "328\n",
      "356\n",
      "343\n",
      "381\n",
      "387\n",
      "391\n",
      "384\n",
      "388\n",
      "383\n",
      "382\n",
      "385\n",
      "395\n",
      "389\n",
      "390\n",
      "304\n",
      "399\n",
      "393\n",
      "402\n",
      "397\n",
      "400\n",
      "398\n",
      "401\n",
      "403\n",
      "404\n",
      "405\n",
      "184\n",
      "228\n",
      "315\n",
      "406\n",
      "407\n",
      "411\n",
      "412\n",
      "413\n",
      "416\n",
      "408\n",
      "414\n",
      "415\n",
      "269\n",
      "418\n",
      "421\n",
      "263\n",
      "420\n",
      "422\n",
      "419\n",
      "425\n",
      "424\n",
      "427\n",
      "426\n",
      "354\n",
      "431\n",
      "428\n",
      "438\n",
      "435\n",
      "434\n",
      "440\n",
      "429\n",
      "430\n",
      "386\n",
      "432\n",
      "439\n",
      "443\n",
      "441\n",
      "445\n",
      "371\n",
      "450\n",
      "447\n",
      "448\n",
      "423\n",
      "364\n",
      "392\n",
      "394\n",
      "458\n",
      "396\n",
      "460\n",
      "449\n",
      "410\n",
      "442\n",
      "451\n",
      "456\n",
      "455\n",
      "459\n",
      "464\n",
      "461\n",
      "462\n",
      "463\n",
      "433\n",
      "468\n",
      "474\n",
      "465\n",
      "469\n",
      "467\n",
      "436\n",
      "473\n",
      "475\n",
      "466\n",
      "472\n",
      "477\n",
      "476\n",
      "471\n",
      "479\n",
      "478\n",
      "366\n",
      "437\n",
      "480\n",
      "417\n",
      "330\n",
      "454\n",
      "470\n",
      "444\n",
      "452\n",
      "481\n",
      "409\n",
      "482\n",
      "494\n",
      "486\n",
      "484\n",
      "487\n",
      "483\n",
      "505\n",
      "500\n",
      "490\n",
      "492\n",
      "485\n",
      "493\n",
      "498\n",
      "496\n",
      "508\n",
      "499\n",
      "491\n",
      "497\n",
      "489\n",
      "457\n",
      "488\n",
      "503\n",
      "501\n",
      "509\n",
      "506\n",
      "507\n",
      "504\n",
      "502\n",
      "357\n",
      "512\n",
      "367\n",
      "376\n",
      "511\n",
      "365\n",
      "510\n",
      "513\n",
      "293\n",
      "514\n",
      "446\n",
      "515\n",
      "516\n",
      "517\n",
      "538\n",
      "521\n",
      "50\n",
      "519\n",
      "525\n",
      "518\n",
      "520\n",
      "533\n",
      "532\n",
      "526\n",
      "531\n",
      "524\n",
      "534\n",
      "523\n",
      "529\n",
      "57\n",
      "535\n",
      "536\n",
      "528\n",
      "549\n",
      "522\n",
      "555\n",
      "558\n",
      "539\n",
      "537\n",
      "530\n",
      "564\n",
      "23\n",
      "544\n",
      "543\n",
      "545\n",
      "546\n",
      "548\n",
      "554\n",
      "559\n",
      "550\n",
      "553\n",
      "547\n",
      "556\n",
      "560\n",
      "567\n",
      "568\n",
      "569\n",
      "571\n",
      "552\n",
      "551\n",
      "565\n",
      "562\n",
      "563\n",
      "541\n",
      "591\n",
      "573\n",
      "572\n",
      "574\n",
      "581\n",
      "576\n",
      "578\n",
      "592\n",
      "577\n",
      "584\n",
      "580\n",
      "575\n",
      "594\n",
      "579\n",
      "586\n",
      "587\n",
      "585\n",
      "589\n",
      "605\n",
      "590\n",
      "606\n",
      "608\n",
      "561\n",
      "598\n",
      "599\n",
      "604\n",
      "607\n",
      "614\n",
      "603\n",
      "602\n",
      "610\n",
      "609\n",
      "612\n",
      "613\n",
      "625\n",
      "540\n",
      "615\n",
      "622\n",
      "617\n",
      "616\n",
      "619\n",
      "629\n",
      "618\n",
      "621\n",
      "631\n",
      "635\n",
      "624\n",
      "620\n",
      "626\n",
      "527\n",
      "630\n",
      "628\n",
      "634\n",
      "637\n",
      "638\n",
      "596\n",
      "640\n",
      "648\n",
      "636\n",
      "642\n",
      "644\n",
      "641\n",
      "643\n",
      "647\n",
      "646\n",
      "593\n",
      "645\n",
      "650\n",
      "582\n",
      "659\n",
      "655\n",
      "649\n",
      "652\n",
      "653\n",
      "656\n",
      "664\n",
      "662\n",
      "665\n",
      "663\n",
      "657\n",
      "666\n",
      "668\n",
      "597\n",
      "671\n",
      "672\n"
     ]
    },
    {
     "name": "stderr",
     "output_type": "stream",
     "text": [
      "903it [00:00, 1651.43it/s]"
     ]
    },
    {
     "name": "stdout",
     "output_type": "stream",
     "text": [
      "623\n",
      "673\n",
      "674\n",
      "661\n",
      "678\n",
      "680\n",
      "675\n",
      "676\n",
      "677\n",
      "679\n",
      "583\n",
      "681\n",
      "683\n",
      "686\n",
      "685\n",
      "670\n",
      "687\n",
      "688\n",
      "691\n",
      "689\n",
      "690\n",
      "682\n",
      "695\n",
      "692\n",
      "696\n",
      "694\n",
      "693\n",
      "697\n",
      "542\n",
      "557\n",
      "699\n",
      "702\n",
      "700\n",
      "600\n",
      "703\n",
      "711\n",
      "601\n",
      "611\n",
      "707\n",
      "708\n",
      "710\n",
      "627\n",
      "704\n",
      "718\n",
      "639\n",
      "651\n",
      "715\n",
      "716\n",
      "717\n",
      "698\n",
      "719\n",
      "722\n",
      "720\n",
      "723\n",
      "725\n",
      "724\n",
      "732\n",
      "726\n",
      "588\n",
      "727\n",
      "570\n",
      "729\n",
      "731\n",
      "730\n",
      "736\n",
      "735\n",
      "669\n",
      "706\n",
      "743\n",
      "738\n",
      "739\n",
      "733\n",
      "744\n",
      "746\n",
      "750\n",
      "745\n",
      "742\n",
      "749\n",
      "751\n",
      "752\n",
      "734\n",
      "712\n",
      "756\n",
      "755\n",
      "753\n",
      "759\n",
      "760\n",
      "737\n",
      "758\n",
      "757\n",
      "764\n",
      "728\n",
      "740\n",
      "769\n",
      "765\n",
      "763\n",
      "761\n",
      "767\n",
      "762\n",
      "774\n",
      "709\n",
      "768\n",
      "772\n",
      "771\n",
      "773\n",
      "777\n",
      "775\n",
      "776\n",
      "684\n",
      "781\n",
      "780\n",
      "779\n",
      "782\n",
      "778\n",
      "784\n",
      "783\n",
      "792\n",
      "595\n",
      "632\n",
      "786\n",
      "788\n",
      "790\n",
      "793\n",
      "660\n",
      "654\n",
      "701\n",
      "658\n",
      "667\n",
      "787\n",
      "633\n",
      "794\n",
      "705\n",
      "806\n",
      "795\n",
      "798\n",
      "799\n",
      "797\n",
      "800\n",
      "804\n",
      "801\n",
      "803\n",
      "808\n",
      "805\n",
      "809\n",
      "810\n",
      "785\n",
      "789\n",
      "802\n",
      "811\n",
      "817\n",
      "818\n",
      "816\n",
      "813\n",
      "815\n",
      "823\n",
      "824\n",
      "820\n",
      "825\n",
      "822\n",
      "821\n",
      "791\n",
      "812\n",
      "796\n",
      "819\n",
      "828\n",
      "714\n",
      "721\n",
      "830\n",
      "832\n",
      "834\n",
      "840\n",
      "838\n",
      "839\n",
      "837\n",
      "835\n",
      "833\n",
      "847\n",
      "843\n",
      "846\n",
      "848\n",
      "853\n",
      "855\n",
      "857\n",
      "850\n",
      "852\n",
      "851\n",
      "856\n",
      "836\n",
      "861\n",
      "860\n",
      "859\n",
      "831\n",
      "854\n",
      "863\n",
      "866\n",
      "867\n",
      "865\n",
      "864\n",
      "747\n",
      "870\n",
      "748\n",
      "871\n",
      "807\n",
      "874\n",
      "873\n",
      "868\n",
      "869\n",
      "826\n",
      "883\n",
      "877\n",
      "876\n",
      "875\n",
      "879\n",
      "880\n",
      "878\n",
      "885\n",
      "881\n",
      "884\n",
      "230\n",
      "888\n",
      "892\n",
      "894\n",
      "453\n",
      "368\n",
      "893\n",
      "495\n",
      "889\n",
      "363\n",
      "754\n",
      "766\n",
      "566\n",
      "882\n",
      "842\n",
      "741\n",
      "713\n",
      "770\n",
      "862\n",
      "814\n",
      "896\n",
      "895\n",
      "897\n",
      "906\n",
      "899\n",
      "919\n",
      "914\n",
      "912\n",
      "900\n",
      "902\n",
      "921\n",
      "908\n",
      "909\n",
      "904\n",
      "903\n",
      "907\n",
      "910\n",
      "911\n",
      "841\n",
      "827\n",
      "844\n",
      "918\n",
      "922\n",
      "915\n",
      "917\n",
      "926\n",
      "939\n",
      "920\n",
      "916\n",
      "930\n",
      "933\n",
      "927\n",
      "935\n",
      "923\n",
      "940\n",
      "934\n",
      "928\n",
      "924\n",
      "948\n",
      "932\n",
      "938\n",
      "891\n",
      "936\n",
      "944\n",
      "947\n",
      "942\n",
      "941\n",
      "958\n",
      "886\n",
      "949\n",
      "951\n",
      "953\n",
      "946\n",
      "954\n",
      "952\n",
      "955\n",
      "961\n",
      "959\n",
      "887\n",
      "913\n",
      "943\n",
      "937\n",
      "967\n",
      "945\n",
      "963\n",
      "965\n",
      "972\n",
      "966\n",
      "974\n",
      "968\n",
      "971\n",
      "973\n",
      "978\n",
      "970\n",
      "975\n",
      "986\n",
      "964\n",
      "845\n",
      "849\n",
      "981\n",
      "979\n",
      "858\n",
      "982\n",
      "983\n",
      "985\n",
      "990\n",
      "994\n",
      "991\n",
      "997\n",
      "995\n",
      "988\n",
      "987\n",
      "989\n",
      "993\n",
      "1006\n",
      "992\n",
      "996\n",
      "956\n",
      "1001\n",
      "998\n",
      "1000\n",
      "1005\n",
      "1004\n",
      "1009\n",
      "931\n",
      "1003\n",
      "1011\n",
      "1002\n",
      "1008\n",
      "1010\n",
      "1007\n",
      "1012\n",
      "1014\n",
      "1017\n",
      "1016\n",
      "1015\n",
      "1013\n",
      "1018\n",
      "1019\n",
      "976\n",
      "1023\n",
      "1027\n",
      "1030\n",
      "1024\n",
      "1028\n",
      "1025\n",
      "1022\n",
      "1021\n",
      "1040\n",
      "1033\n",
      "1031\n",
      "1032\n",
      "1036\n",
      "1035\n",
      "1038\n"
     ]
    },
    {
     "name": "stderr",
     "output_type": "stream",
     "text": [
      "1342it [00:00, 1801.41it/s]"
     ]
    },
    {
     "name": "stdout",
     "output_type": "stream",
     "text": [
      "1039\n",
      "1041\n",
      "1050\n",
      "1042\n",
      "1043\n",
      "1052\n",
      "1045\n",
      "1047\n",
      "1048\n",
      "829\n",
      "890\n",
      "1046\n",
      "901\n",
      "1049\n",
      "1029\n",
      "1044\n",
      "872\n",
      "1053\n",
      "957\n",
      "1051\n",
      "950\n",
      "1055\n",
      "1057\n",
      "1059\n",
      "1056\n",
      "1060\n",
      "1062\n",
      "1058\n",
      "1064\n",
      "1068\n",
      "1075\n",
      "1072\n",
      "1063\n",
      "1073\n",
      "1070\n",
      "1076\n",
      "1069\n",
      "1083\n",
      "1082\n",
      "1085\n",
      "969\n",
      "1066\n",
      "1067\n",
      "1077\n",
      "1087\n",
      "1078\n",
      "1081\n",
      "1086\n",
      "1095\n",
      "1079\n",
      "1096\n",
      "1091\n",
      "1080\n",
      "1090\n",
      "1092\n",
      "1034\n",
      "1097\n",
      "1103\n",
      "1101\n",
      "1100\n",
      "1089\n",
      "1099\n",
      "1102\n",
      "1061\n",
      "1094\n",
      "1106\n",
      "1105\n",
      "1113\n",
      "1108\n",
      "1112\n",
      "1109\n",
      "1111\n",
      "1110\n",
      "1114\n",
      "1074\n",
      "1093\n",
      "1054\n",
      "898\n",
      "925\n",
      "977\n",
      "905\n",
      "962\n",
      "1098\n",
      "984\n",
      "929\n",
      "1037\n",
      "1088\n",
      "1104\n",
      "1117\n",
      "1119\n",
      "1115\n",
      "1116\n",
      "1138\n",
      "1137\n",
      "960\n",
      "980\n",
      "1118\n",
      "1129\n",
      "1125\n",
      "1146\n",
      "1131\n",
      "1124\n",
      "1126\n",
      "1121\n",
      "1123\n",
      "1130\n",
      "1132\n",
      "1155\n",
      "1133\n",
      "1135\n",
      "1140\n",
      "1134\n",
      "1136\n",
      "1149\n",
      "1144\n",
      "1142\n",
      "1141\n",
      "1147\n",
      "1139\n",
      "1151\n",
      "1148\n",
      "1153\n",
      "1157\n",
      "1156\n",
      "1168\n",
      "1160\n",
      "1122\n",
      "1164\n",
      "1166\n",
      "1167\n",
      "1169\n",
      "1175\n",
      "1170\n",
      "1176\n",
      "1172\n",
      "1174\n",
      "1178\n",
      "1127\n",
      "1177\n",
      "1107\n",
      "1128\n",
      "1179\n",
      "1152\n",
      "1150\n",
      "1158\n",
      "1171\n",
      "1162\n",
      "1181\n",
      "1183\n",
      "1163\n",
      "1182\n",
      "1161\n",
      "1145\n",
      "1071\n",
      "1184\n",
      "1185\n",
      "1173\n",
      "1187\n",
      "1186\n",
      "1143\n",
      "1159\n",
      "1188\n",
      "1189\n",
      "1020\n",
      "999\n",
      "1065\n",
      "1026\n",
      "1193\n",
      "1191\n",
      "1190\n",
      "1120\n",
      "1192\n",
      "1180\n",
      "1084\n",
      "1165\n",
      "1224\n",
      "1195\n",
      "1199\n",
      "1194\n",
      "1202\n",
      "1196\n",
      "1208\n",
      "1201\n",
      "1203\n",
      "1215\n",
      "1198\n",
      "1205\n",
      "1200\n",
      "1197\n",
      "1232\n",
      "1204\n",
      "1210\n",
      "1206\n",
      "1214\n",
      "1217\n",
      "1220\n",
      "1216\n",
      "1209\n",
      "1211\n",
      "1213\n",
      "1207\n",
      "1212\n",
      "1245\n",
      "1218\n",
      "1219\n",
      "1228\n",
      "1227\n",
      "1221\n",
      "1229\n",
      "1236\n",
      "1238\n",
      "1222\n",
      "1154\n",
      "1226\n",
      "1225\n",
      "1233\n",
      "1231\n",
      "1246\n",
      "1223\n",
      "1249\n",
      "1263\n",
      "1242\n",
      "1235\n",
      "1237\n",
      "1248\n",
      "1234\n",
      "1240\n",
      "1243\n",
      "1247\n",
      "1230\n",
      "1239\n",
      "1256\n",
      "1241\n",
      "1279\n",
      "1250\n",
      "1251\n",
      "1254\n",
      "1255\n",
      "1253\n",
      "1252\n",
      "1257\n",
      "1264\n",
      "1265\n",
      "1269\n",
      "1244\n",
      "1259\n",
      "1268\n",
      "1258\n",
      "1266\n",
      "1261\n",
      "1276\n",
      "1274\n",
      "1260\n",
      "1275\n",
      "1270\n",
      "1262\n",
      "1267\n",
      "1273\n",
      "1272\n",
      "1281\n",
      "1277\n",
      "1278\n",
      "1280\n",
      "1283\n",
      "1271\n",
      "1282\n",
      "1284\n",
      "1287\n",
      "1285\n",
      "1286\n",
      "1292\n",
      "1293\n",
      "1291\n",
      "1302\n",
      "1290\n",
      "1296\n",
      "1299\n",
      "1288\n",
      "1297\n",
      "1294\n",
      "1308\n",
      "1298\n",
      "1289\n",
      "1300\n",
      "1295\n",
      "1318\n",
      "1303\n",
      "1301\n",
      "1305\n",
      "1309\n",
      "1304\n",
      "1311\n",
      "1306\n",
      "1312\n",
      "1316\n",
      "1315\n",
      "1314\n",
      "1310\n",
      "1313\n",
      "1307\n",
      "1319\n",
      "1320\n",
      "1321\n",
      "1322\n",
      "1323\n",
      "1324\n",
      "1325\n",
      "1326\n",
      "1339\n",
      "1351\n",
      "1327\n",
      "1317\n",
      "1330\n",
      "1333\n",
      "1337\n",
      "1329\n",
      "1335\n",
      "1331\n",
      "1345\n",
      "1334\n",
      "1338\n",
      "1353\n",
      "1342\n",
      "1347\n",
      "1348\n",
      "1340\n",
      "1350\n",
      "1346\n",
      "1349\n",
      "1341\n",
      "1344\n",
      "1352\n",
      "1343\n",
      "1354\n",
      "1355\n",
      "1359\n",
      "1360\n",
      "1367\n",
      "1372\n",
      "1373\n",
      "1377\n",
      "1387\n",
      "1364\n",
      "1357\n",
      "1328\n",
      "1365\n",
      "1332\n",
      "1368\n",
      "1363\n",
      "1378\n",
      "1369\n",
      "1371\n",
      "1374\n",
      "1361\n",
      "1384\n",
      "1382\n",
      "1358\n",
      "1376\n",
      "1375\n",
      "1362\n",
      "1370\n",
      "1386\n",
      "1380\n",
      "1379\n",
      "1366\n",
      "1388\n",
      "1385\n",
      "1408\n",
      "1409\n",
      "1410\n",
      "1412\n",
      "1413\n",
      "1414\n",
      "1421\n",
      "1422\n",
      "1420\n",
      "1423\n"
     ]
    },
    {
     "name": "stderr",
     "output_type": "stream",
     "text": [
      "1731it [00:01, 1844.11it/s]"
     ]
    },
    {
     "name": "stdout",
     "output_type": "stream",
     "text": [
      "1424\n",
      "1425\n",
      "1427\n",
      "1389\n",
      "1394\n",
      "1392\n",
      "1391\n",
      "1393\n",
      "1406\n",
      "1411\n",
      "1418\n",
      "1415\n",
      "1405\n",
      "1416\n",
      "1417\n",
      "1426\n",
      "1400\n",
      "1419\n",
      "1401\n",
      "1404\n",
      "1403\n",
      "1402\n",
      "1398\n",
      "1407\n",
      "1446\n",
      "1429\n",
      "1444\n",
      "1428\n",
      "1430\n",
      "1442\n",
      "1443\n",
      "1395\n",
      "1449\n",
      "1454\n",
      "1381\n",
      "1434\n",
      "1436\n",
      "1431\n",
      "1437\n",
      "1439\n",
      "1336\n",
      "1445\n",
      "1441\n",
      "1464\n",
      "1432\n",
      "1433\n",
      "1448\n",
      "1440\n",
      "1467\n",
      "1450\n",
      "1466\n",
      "1383\n",
      "1447\n",
      "1471\n",
      "1472\n",
      "1452\n",
      "1451\n",
      "1480\n",
      "1482\n",
      "1484\n",
      "1483\n",
      "1456\n",
      "1453\n",
      "1390\n",
      "1435\n",
      "1462\n",
      "1460\n",
      "1469\n",
      "1455\n",
      "1463\n",
      "1459\n",
      "1477\n",
      "1474\n",
      "1458\n",
      "1468\n",
      "1473\n",
      "1465\n",
      "1461\n",
      "1457\n",
      "1488\n",
      "1479\n",
      "1476\n",
      "1478\n",
      "1470\n",
      "1489\n",
      "1491\n",
      "1501\n",
      "1481\n",
      "1511\n",
      "1475\n",
      "1485\n",
      "1487\n",
      "1494\n",
      "1492\n",
      "1486\n",
      "1490\n",
      "1438\n",
      "1397\n",
      "1495\n",
      "1496\n",
      "1504\n",
      "1505\n",
      "1500\n",
      "1506\n",
      "1512\n",
      "1507\n",
      "1513\n",
      "1515\n",
      "1514\n",
      "1509\n",
      "1519\n",
      "1502\n",
      "1533\n",
      "1523\n",
      "1535\n",
      "1536\n",
      "1517\n",
      "1537\n",
      "1538\n",
      "1527\n",
      "1526\n",
      "1546\n",
      "1516\n",
      "1518\n",
      "1547\n",
      "1548\n",
      "1521\n",
      "1520\n",
      "1508\n",
      "1522\n",
      "1555\n",
      "1531\n",
      "1493\n",
      "1529\n",
      "1528\n",
      "1503\n",
      "1396\n",
      "1543\n",
      "1534\n",
      "1545\n",
      "1539\n",
      "1540\n",
      "1549\n",
      "1544\n",
      "1542\n",
      "1530\n",
      "1553\n",
      "1552\n",
      "1551\n",
      "1556\n",
      "1557\n",
      "1558\n",
      "1399\n",
      "1498\n",
      "1559\n",
      "1560\n",
      "1562\n",
      "1567\n",
      "1571\n",
      "1573\n",
      "1574\n",
      "1575\n",
      "1576\n",
      "1580\n",
      "1583\n",
      "1588\n",
      "1589\n",
      "1592\n",
      "1356\n",
      "1564\n",
      "1565\n",
      "1581\n",
      "1569\n",
      "1577\n",
      "1578\n",
      "1579\n",
      "1585\n",
      "1586\n",
      "1584\n",
      "1566\n",
      "1587\n",
      "1594\n",
      "1591\n",
      "1608\n",
      "1595\n",
      "1596\n",
      "1497\n",
      "1598\n",
      "1541\n",
      "1603\n",
      "1525\n",
      "1550\n",
      "1554\n",
      "1611\n",
      "1524\n",
      "1532\n",
      "1610\n",
      "1601\n",
      "1605\n",
      "1607\n",
      "1614\n",
      "1613\n",
      "1612\n",
      "1617\n",
      "1616\n",
      "1618\n",
      "1572\n",
      "1632\n",
      "1568\n",
      "1597\n",
      "1619\n",
      "1628\n",
      "1622\n",
      "1624\n",
      "1633\n",
      "1620\n",
      "1563\n",
      "1602\n",
      "1629\n",
      "1636\n",
      "1635\n",
      "1639\n",
      "1638\n",
      "1637\n",
      "1634\n",
      "1641\n",
      "1640\n",
      "1644\n",
      "1645\n",
      "1582\n",
      "1590\n",
      "1642\n",
      "1655\n",
      "1656\n",
      "1643\n",
      "1661\n",
      "1646\n",
      "1649\n",
      "1653\n",
      "1657\n",
      "1651\n",
      "1654\n",
      "1625\n",
      "1659\n",
      "1658\n",
      "1665\n",
      "1663\n",
      "1660\n",
      "1666\n",
      "1674\n",
      "1670\n",
      "1671\n",
      "1668\n",
      "1664\n",
      "1678\n",
      "1675\n",
      "1676\n",
      "1677\n",
      "1673\n",
      "1672\n",
      "1684\n",
      "1623\n",
      "1621\n",
      "1688\n",
      "1689\n",
      "1669\n",
      "1679\n",
      "1681\n",
      "1683\n",
      "1680\n",
      "1687\n",
      "1692\n",
      "1682\n",
      "1685\n",
      "1690\n",
      "1693\n",
      "1694\n",
      "1695\n",
      "1650\n",
      "1700\n",
      "1704\n",
      "1705\n",
      "1698\n",
      "1701\n",
      "1699\n",
      "1696\n",
      "1647\n",
      "1706\n",
      "1707\n",
      "1710\n",
      "1711\n",
      "1702\n",
      "1709\n",
      "1713\n",
      "1712\n",
      "1720\n",
      "1697\n",
      "1714\n",
      "1715\n",
      "1717\n",
      "1716\n",
      "1721\n",
      "1723\n",
      "1718\n",
      "1719\n",
      "1731\n",
      "1732\n",
      "1733\n",
      "1724\n",
      "1600\n",
      "1725\n",
      "1728\n",
      "1615\n",
      "1727\n",
      "1730\n",
      "1626\n",
      "1734\n",
      "1667\n",
      "1736\n",
      "1735\n",
      "1739\n",
      "1737\n",
      "1744\n",
      "1748\n",
      "1742\n",
      "1743\n",
      "1648\n",
      "1746\n",
      "1745\n",
      "1747\n",
      "1751\n",
      "1749\n",
      "1752\n",
      "1750\n",
      "1729\n",
      "1722\n",
      "1753\n",
      "1754\n",
      "1755\n",
      "1756\n",
      "1726\n",
      "1738\n",
      "1761\n",
      "1760\n",
      "1766\n",
      "1759\n",
      "1758\n",
      "1771\n",
      "1763\n",
      "1765\n",
      "1772\n",
      "1767\n",
      "1774\n",
      "1776\n",
      "1762\n",
      "1768\n",
      "1782\n",
      "1783\n",
      "1784\n",
      "1570\n",
      "1769\n",
      "1770\n",
      "1780\n",
      "1778\n",
      "1775\n",
      "1786\n",
      "1787\n",
      "1788\n",
      "1789\n",
      "1764\n",
      "1791\n",
      "1781\n",
      "1792\n",
      "1796\n",
      "1793\n",
      "1795\n",
      "1797\n",
      "1794\n",
      "1799\n",
      "1804\n",
      "1800\n",
      "1798\n",
      "1703\n",
      "1806\n",
      "1691\n",
      "1741\n",
      "1807\n",
      "1809\n",
      "1808\n",
      "1812\n",
      "1810\n",
      "1811\n",
      "1606\n",
      "1609\n",
      "1813\n",
      "1604\n",
      "1627\n",
      "1631\n",
      "1662\n",
      "1815\n",
      "1818\n",
      "1708\n",
      "1816\n",
      "1814\n",
      "1740\n",
      "1817\n",
      "1819\n",
      "1803\n"
     ]
    },
    {
     "name": "stderr",
     "output_type": "stream",
     "text": [
      "2124it [00:01, 1899.12it/s]"
     ]
    },
    {
     "name": "stdout",
     "output_type": "stream",
     "text": [
      "1821\n",
      "1826\n",
      "1827\n",
      "1825\n",
      "1829\n",
      "1820\n",
      "1823\n",
      "1828\n",
      "1830\n",
      "1822\n",
      "1840\n",
      "1831\n",
      "1836\n",
      "1832\n",
      "1834\n",
      "1835\n",
      "1790\n",
      "1779\n",
      "1785\n",
      "1805\n",
      "1851\n",
      "1773\n",
      "1801\n",
      "1824\n",
      "1841\n",
      "1843\n",
      "1839\n",
      "1838\n",
      "1845\n",
      "1837\n",
      "1847\n",
      "1842\n",
      "1848\n",
      "1844\n",
      "1852\n",
      "1858\n",
      "1849\n",
      "1854\n",
      "1846\n",
      "1850\n",
      "1856\n",
      "1630\n",
      "1860\n",
      "1862\n",
      "1859\n",
      "1863\n",
      "1866\n",
      "1777\n",
      "1864\n",
      "1865\n",
      "1855\n",
      "1853\n",
      "1869\n",
      "1867\n",
      "1872\n",
      "1875\n",
      "1870\n",
      "1879\n",
      "1878\n",
      "1881\n",
      "1880\n",
      "1886\n",
      "1885\n",
      "1877\n",
      "1874\n",
      "1876\n",
      "1871\n",
      "1884\n",
      "1887\n",
      "1833\n",
      "1890\n",
      "1892\n",
      "1891\n",
      "1895\n",
      "1897\n",
      "1896\n",
      "1894\n",
      "1857\n",
      "1873\n",
      "1903\n",
      "1906\n",
      "1914\n",
      "1900\n",
      "1905\n",
      "1902\n",
      "1910\n",
      "1904\n",
      "1907\n",
      "1908\n",
      "1899\n",
      "1923\n",
      "1909\n",
      "1901\n",
      "1915\n",
      "1912\n",
      "1918\n",
      "1928\n",
      "1861\n",
      "1916\n",
      "1922\n",
      "1911\n",
      "1882\n",
      "1921\n",
      "1933\n",
      "1930\n",
      "1913\n",
      "1929\n",
      "1927\n",
      "1938\n",
      "1917\n",
      "1924\n",
      "1934\n",
      "1935\n",
      "1931\n",
      "1920\n",
      "1936\n",
      "1932\n",
      "1898\n",
      "1939\n",
      "1925\n",
      "1937\n",
      "1953\n",
      "1941\n",
      "1926\n",
      "1940\n",
      "1893\n",
      "1947\n",
      "1944\n",
      "1948\n",
      "1943\n",
      "1949\n",
      "1954\n",
      "1942\n",
      "1957\n",
      "1963\n",
      "1956\n",
      "1945\n",
      "1889\n",
      "1950\n",
      "1951\n",
      "1946\n",
      "1919\n",
      "1959\n",
      "1952\n",
      "1958\n",
      "1955\n",
      "1961\n",
      "1960\n",
      "1976\n",
      "1969\n",
      "1972\n",
      "1970\n",
      "1966\n",
      "1971\n",
      "1964\n",
      "1974\n",
      "1980\n",
      "1968\n",
      "1965\n",
      "1977\n",
      "1979\n",
      "1978\n",
      "1975\n",
      "1982\n",
      "1499\n",
      "1985\n",
      "1990\n",
      "1981\n",
      "1988\n",
      "1510\n",
      "1992\n",
      "1993\n",
      "1987\n",
      "1593\n",
      "1757\n",
      "1561\n",
      "1686\n",
      "1984\n",
      "1802\n",
      "1599\n",
      "1652\n",
      "1996\n",
      "1973\n",
      "1986\n",
      "1983\n",
      "1883\n",
      "1868\n",
      "1888\n",
      "1994\n",
      "2002\n",
      "2003\n",
      "2009\n",
      "2018\n",
      "1962\n",
      "1997\n",
      "1999\n",
      "1967\n",
      "1991\n",
      "2011\n",
      "2010\n",
      "2012\n",
      "2007\n",
      "2000\n",
      "2005\n",
      "2008\n",
      "2017\n",
      "2001\n",
      "2014\n",
      "2006\n",
      "2038\n",
      "2016\n",
      "2015\n",
      "2023\n",
      "2021\n",
      "2039\n",
      "2013\n",
      "1998\n",
      "2032\n",
      "2027\n",
      "2025\n",
      "2022\n",
      "2030\n",
      "2034\n",
      "2019\n",
      "2035\n",
      "2050\n",
      "2040\n",
      "2028\n",
      "2024\n",
      "2059\n",
      "2020\n",
      "2033\n",
      "2026\n",
      "2037\n",
      "2031\n",
      "2042\n",
      "2041\n",
      "2044\n",
      "2045\n",
      "2051\n",
      "2052\n",
      "2049\n",
      "2046\n",
      "2056\n",
      "2043\n",
      "2053\n",
      "2055\n",
      "1989\n",
      "2058\n",
      "2065\n",
      "2075\n",
      "2064\n",
      "2057\n",
      "2070\n",
      "2067\n",
      "2069\n",
      "2074\n",
      "2063\n",
      "2080\n",
      "2079\n",
      "2077\n",
      "2071\n",
      "2062\n",
      "2089\n",
      "2060\n",
      "2076\n",
      "2078\n",
      "2082\n",
      "2029\n",
      "2085\n",
      "2084\n",
      "2083\n",
      "2087\n",
      "2092\n",
      "2090\n",
      "2088\n",
      "2095\n",
      "2094\n",
      "2093\n",
      "1995\n",
      "2004\n",
      "2073\n",
      "2097\n",
      "2100\n",
      "2101\n",
      "2054\n",
      "2061\n",
      "2103\n",
      "2099\n",
      "2102\n",
      "2036\n",
      "2104\n",
      "2048\n",
      "2086\n",
      "2091\n",
      "2105\n",
      "2068\n",
      "2066\n",
      "2106\n",
      "2107\n",
      "2114\n",
      "2115\n",
      "2117\n",
      "2132\n",
      "2131\n",
      "2133\n",
      "2047\n",
      "2081\n",
      "2119\n",
      "2113\n",
      "2098\n",
      "2116\n",
      "2123\n",
      "2128\n",
      "2127\n",
      "2121\n",
      "2120\n",
      "2140\n",
      "2111\n",
      "2112\n",
      "2144\n",
      "2137\n",
      "2136\n",
      "2125\n",
      "2124\n",
      "2129\n",
      "2138\n",
      "2122\n",
      "2134\n",
      "2126\n",
      "2135\n",
      "2160\n",
      "2139\n",
      "2143\n",
      "2141\n",
      "2142\n",
      "2145\n",
      "2146\n",
      "2159\n",
      "2152\n",
      "2153\n",
      "2157\n",
      "2147\n",
      "2161\n",
      "2162\n",
      "2163\n",
      "2151\n",
      "2164\n",
      "2156\n",
      "2158\n",
      "2165\n",
      "2169\n",
      "2170\n",
      "2154\n",
      "2166\n",
      "2150\n",
      "2172\n",
      "2118\n",
      "2175\n",
      "2176\n",
      "2179\n",
      "2174\n",
      "2187\n",
      "2183\n",
      "2177\n",
      "2185\n",
      "2178\n",
      "2190\n",
      "2192\n",
      "2189\n",
      "2188\n",
      "2191\n",
      "2167\n",
      "2198\n",
      "2195\n",
      "2194\n",
      "2202\n",
      "2197\n",
      "2204\n",
      "2201\n",
      "2196\n",
      "2203\n",
      "2207\n",
      "2206\n",
      "2205\n",
      "2072\n",
      "2208\n",
      "2211\n",
      "2209\n",
      "2214\n",
      "2223\n",
      "2216\n",
      "2212\n",
      "2220\n",
      "2210\n",
      "2219\n",
      "2218\n",
      "2217\n",
      "2182\n",
      "2222\n",
      "2224\n",
      "2226\n",
      "2228\n",
      "2227\n",
      "2229\n",
      "2230\n",
      "2231\n"
     ]
    },
    {
     "name": "stderr",
     "output_type": "stream",
     "text": [
      "2523it [00:01, 1784.60it/s]"
     ]
    },
    {
     "name": "stdout",
     "output_type": "stream",
     "text": [
      "2232\n",
      "2171\n",
      "2237\n",
      "2235\n",
      "2238\n",
      "2221\n",
      "2245\n",
      "2244\n",
      "2243\n",
      "2246\n",
      "2242\n",
      "2240\n",
      "2239\n",
      "2247\n",
      "2241\n",
      "2180\n",
      "2248\n",
      "2249\n",
      "2254\n",
      "2253\n",
      "2255\n",
      "2251\n",
      "2236\n",
      "2250\n",
      "2225\n",
      "2259\n",
      "2258\n",
      "2262\n",
      "2260\n",
      "2256\n",
      "2261\n",
      "2266\n",
      "2265\n",
      "2252\n",
      "2267\n",
      "2268\n",
      "2272\n",
      "2271\n",
      "2148\n",
      "2130\n",
      "2276\n",
      "2275\n",
      "2200\n",
      "2234\n",
      "2168\n",
      "2282\n",
      "2280\n",
      "2285\n",
      "2283\n",
      "2284\n",
      "2281\n",
      "2278\n",
      "2279\n",
      "2287\n",
      "2286\n",
      "2096\n",
      "2290\n",
      "2109\n",
      "2291\n",
      "2186\n",
      "2288\n",
      "2108\n",
      "2292\n",
      "2173\n",
      "2294\n",
      "2233\n",
      "2149\n",
      "2277\n",
      "2289\n",
      "2293\n",
      "2264\n",
      "2273\n",
      "2215\n",
      "2263\n",
      "2296\n",
      "2300\n",
      "2298\n",
      "2297\n",
      "2299\n",
      "2304\n",
      "2310\n",
      "2312\n",
      "2303\n",
      "2309\n",
      "2305\n",
      "2306\n",
      "2302\n",
      "2315\n",
      "2295\n",
      "2316\n",
      "2313\n",
      "2318\n",
      "2317\n",
      "2321\n",
      "2323\n",
      "2325\n",
      "2326\n",
      "2328\n",
      "2319\n",
      "2324\n",
      "2332\n",
      "2329\n",
      "2327\n",
      "2333\n",
      "2330\n",
      "2301\n",
      "2339\n",
      "2338\n",
      "2342\n",
      "2346\n",
      "2335\n",
      "2345\n",
      "2347\n",
      "2341\n",
      "2340\n",
      "2337\n",
      "2343\n",
      "2334\n",
      "2350\n",
      "2351\n",
      "2348\n",
      "2349\n",
      "2354\n",
      "2356\n",
      "2358\n",
      "2357\n",
      "2363\n",
      "2359\n",
      "2344\n",
      "2366\n",
      "2364\n",
      "2362\n",
      "2367\n",
      "2368\n",
      "2331\n",
      "2360\n",
      "2369\n",
      "2370\n",
      "2372\n",
      "2371\n",
      "2375\n",
      "2377\n",
      "2381\n",
      "2379\n",
      "2380\n",
      "2385\n",
      "2336\n",
      "2383\n",
      "2376\n",
      "2386\n",
      "2388\n",
      "2384\n",
      "2387\n",
      "2392\n",
      "2389\n",
      "2393\n",
      "2397\n",
      "2352\n",
      "2396\n",
      "2394\n",
      "2399\n",
      "2395\n",
      "2390\n",
      "2398\n",
      "2391\n",
      "2361\n",
      "2400\n",
      "2401\n",
      "2404\n",
      "2405\n",
      "2406\n",
      "2407\n",
      "2403\n",
      "2110\n",
      "2410\n",
      "2409\n",
      "2408\n",
      "2413\n",
      "2412\n",
      "2414\n",
      "2411\n",
      "2184\n",
      "2417\n",
      "2421\n",
      "2418\n",
      "2181\n",
      "2422\n",
      "2420\n",
      "2213\n",
      "2308\n",
      "2257\n",
      "2419\n",
      "2415\n",
      "2353\n",
      "2314\n",
      "2433\n",
      "2424\n",
      "2430\n",
      "2425\n",
      "2429\n",
      "2427\n",
      "2426\n",
      "2423\n",
      "2428\n",
      "2431\n",
      "2444\n",
      "2432\n",
      "2402\n",
      "2155\n",
      "2199\n",
      "2193\n",
      "2382\n",
      "2378\n",
      "2307\n",
      "2269\n",
      "2365\n",
      "2456\n",
      "2438\n",
      "2437\n",
      "2435\n",
      "2434\n",
      "2436\n",
      "2441\n",
      "2450\n",
      "2452\n",
      "2443\n",
      "2446\n",
      "2440\n",
      "2449\n",
      "2451\n",
      "2445\n",
      "2447\n",
      "2454\n",
      "2442\n",
      "2455\n",
      "2457\n",
      "2460\n",
      "2458\n",
      "2461\n",
      "2311\n",
      "2416\n",
      "2373\n",
      "2374\n",
      "2274\n",
      "2463\n",
      "2270\n",
      "2462\n",
      "2320\n",
      "2322\n",
      "2355\n",
      "2448\n",
      "2464\n",
      "2439\n",
      "2469\n",
      "2470\n",
      "2467\n",
      "2466\n",
      "2459\n",
      "2468\n",
      "2465\n",
      "2501\n",
      "2473\n",
      "2472\n",
      "2474\n",
      "2471\n",
      "2485\n",
      "2475\n",
      "2478\n",
      "2479\n",
      "2483\n",
      "2488\n",
      "2484\n",
      "2490\n",
      "2477\n",
      "2496\n",
      "2497\n",
      "2494\n",
      "2505\n",
      "2495\n",
      "2498\n",
      "2487\n",
      "2504\n",
      "2491\n",
      "2502\n",
      "2489\n",
      "2492\n",
      "2503\n",
      "2453\n",
      "2509\n",
      "2493\n",
      "2506\n",
      "2507\n",
      "2511\n",
      "2508\n",
      "2512\n",
      "2510\n",
      "2518\n",
      "2522\n",
      "2524\n",
      "2476\n",
      "2515\n",
      "2520\n",
      "2523\n",
      "2516\n",
      "2514\n",
      "2526\n",
      "2521\n",
      "2527\n",
      "2519\n",
      "2525\n",
      "2513\n",
      "2535\n",
      "2531\n",
      "2540\n",
      "2541\n",
      "2530\n",
      "2528\n",
      "2529\n",
      "2517\n",
      "2534\n",
      "2539\n",
      "2537\n",
      "2538\n",
      "2561\n",
      "2533\n",
      "2481\n",
      "2543\n",
      "2480\n",
      "2542\n",
      "2544\n",
      "2486\n",
      "2547\n",
      "2549\n",
      "2551\n",
      "2574\n",
      "2545\n",
      "2555\n",
      "2550\n",
      "2548\n",
      "2553\n",
      "2552\n",
      "2566\n",
      "2556\n",
      "2560\n",
      "2562\n",
      "2565\n",
      "2576\n",
      "2559\n",
      "2564\n",
      "2557\n",
      "2570\n",
      "2567\n",
      "2558\n",
      "2563\n",
      "2590\n",
      "2573\n",
      "2593\n",
      "2575\n",
      "2568\n",
      "2577\n",
      "2569\n",
      "2572\n",
      "2578\n",
      "2571\n",
      "2532\n",
      "2583\n",
      "2584\n",
      "2579\n",
      "2585\n",
      "2580\n",
      "2582\n",
      "2581\n",
      "2588\n",
      "2597\n",
      "2592\n",
      "2589\n",
      "2587\n",
      "2598\n",
      "2596\n"
     ]
    },
    {
     "name": "stderr",
     "output_type": "stream",
     "text": [
      "2889it [00:01, 1800.90it/s]"
     ]
    },
    {
     "name": "stdout",
     "output_type": "stream",
     "text": [
      "2594\n",
      "2595\n",
      "2591\n",
      "2500\n",
      "2600\n",
      "2602\n",
      "2612\n",
      "2586\n",
      "2604\n",
      "2554\n",
      "2605\n",
      "2601\n",
      "2607\n",
      "2611\n",
      "2603\n",
      "2618\n",
      "2608\n",
      "2610\n",
      "2613\n",
      "2606\n",
      "2625\n",
      "2614\n",
      "2615\n",
      "2622\n",
      "2617\n",
      "2623\n",
      "2616\n",
      "2621\n",
      "2619\n",
      "2620\n",
      "2624\n",
      "2499\n",
      "2628\n",
      "2627\n",
      "2631\n",
      "2626\n",
      "2633\n",
      "2635\n",
      "2482\n",
      "2634\n",
      "2546\n",
      "2536\n",
      "2630\n",
      "2599\n",
      "2636\n",
      "2609\n",
      "2637\n",
      "2638\n",
      "2629\n",
      "2639\n",
      "2641\n",
      "2640\n",
      "2632\n",
      "2646\n",
      "2642\n",
      "2648\n",
      "2649\n",
      "2644\n",
      "2647\n",
      "2645\n",
      "2665\n",
      "2655\n",
      "2656\n",
      "2658\n",
      "2643\n",
      "2657\n",
      "2652\n",
      "2660\n",
      "2651\n",
      "2650\n",
      "2654\n",
      "2653\n",
      "2668\n",
      "2666\n",
      "2679\n",
      "2662\n",
      "2661\n",
      "2672\n",
      "2669\n",
      "2667\n",
      "2680\n",
      "2678\n",
      "2682\n",
      "2675\n",
      "2664\n",
      "2673\n",
      "2671\n",
      "2676\n",
      "2670\n",
      "2685\n",
      "2687\n",
      "2681\n",
      "2691\n",
      "2683\n",
      "2686\n",
      "2677\n",
      "2688\n",
      "2689\n",
      "2698\n",
      "2699\n",
      "2693\n",
      "2694\n",
      "2700\n",
      "2692\n",
      "2674\n",
      "2697\n",
      "2695\n",
      "2696\n",
      "2701\n",
      "2706\n",
      "2704\n",
      "2708\n",
      "2705\n",
      "2707\n",
      "2709\n",
      "2703\n",
      "2712\n",
      "2714\n",
      "2710\n",
      "2711\n",
      "2716\n",
      "2719\n",
      "2725\n",
      "2741\n",
      "2715\n",
      "2713\n",
      "2718\n",
      "2720\n",
      "2730\n",
      "2724\n",
      "2717\n",
      "2728\n",
      "2734\n",
      "2722\n",
      "2726\n",
      "2729\n",
      "2732\n",
      "2721\n",
      "2731\n",
      "2733\n",
      "2736\n",
      "2663\n",
      "2740\n",
      "2738\n",
      "2659\n",
      "2735\n",
      "2764\n",
      "2737\n",
      "2684\n",
      "2723\n",
      "2742\n",
      "2743\n",
      "2749\n",
      "2753\n",
      "2727\n",
      "2745\n",
      "2748\n",
      "2750\n",
      "2744\n",
      "2756\n",
      "2754\n",
      "2758\n",
      "2757\n",
      "2755\n",
      "2752\n",
      "2747\n",
      "2702\n",
      "2690\n",
      "2751\n",
      "2786\n",
      "2761\n",
      "2765\n",
      "2768\n",
      "2769\n",
      "2767\n",
      "2762\n",
      "2760\n",
      "2794\n",
      "2772\n",
      "2779\n",
      "2763\n",
      "2778\n",
      "2782\n",
      "2773\n",
      "2775\n",
      "2789\n",
      "2770\n",
      "2771\n",
      "2780\n",
      "2777\n",
      "2808\n",
      "2784\n",
      "2790\n",
      "2787\n",
      "2791\n",
      "2774\n",
      "2788\n",
      "2776\n",
      "2759\n",
      "2781\n",
      "2816\n",
      "2746\n",
      "2792\n",
      "2766\n",
      "2739\n",
      "2796\n",
      "2795\n",
      "2800\n",
      "2799\n",
      "2803\n",
      "2797\n",
      "2801\n",
      "2807\n",
      "2805\n",
      "2793\n",
      "2802\n",
      "2783\n",
      "2813\n",
      "2815\n",
      "2804\n",
      "2819\n",
      "2809\n",
      "2798\n",
      "2785\n",
      "2811\n",
      "2814\n",
      "2824\n",
      "2818\n",
      "2817\n",
      "2820\n",
      "2821\n",
      "2822\n",
      "2806\n",
      "2810\n",
      "2812\n",
      "2830\n",
      "2826\n",
      "2828\n",
      "2829\n",
      "2823\n",
      "2825\n",
      "2832\n",
      "2831\n",
      "2835\n",
      "2837\n",
      "2844\n",
      "2834\n",
      "2846\n",
      "2836\n",
      "2867\n",
      "2854\n",
      "2838\n",
      "2839\n",
      "2845\n",
      "2853\n",
      "2851\n",
      "2840\n",
      "2842\n",
      "2852\n",
      "2850\n",
      "2833\n",
      "2856\n",
      "2859\n",
      "2858\n",
      "2881\n",
      "2855\n",
      "2827\n",
      "2860\n",
      "2865\n",
      "2868\n",
      "2869\n",
      "2862\n",
      "2864\n",
      "2861\n",
      "2863\n",
      "2866\n",
      "2857\n",
      "2879\n",
      "2841\n",
      "2843\n",
      "2870\n",
      "2873\n",
      "2880\n",
      "2876\n",
      "2882\n",
      "2878\n",
      "2883\n",
      "2877\n",
      "2872\n",
      "2885\n",
      "2884\n",
      "2847\n",
      "2849\n",
      "2888\n",
      "2908\n",
      "2891\n",
      "2887\n",
      "2915\n",
      "2894\n",
      "2896\n",
      "2918\n",
      "2893\n",
      "2898\n",
      "2895\n",
      "2892\n",
      "2905\n",
      "2900\n",
      "2902\n",
      "2903\n",
      "2875\n",
      "2910\n",
      "2909\n",
      "2848\n",
      "2911\n",
      "2897\n",
      "2934\n",
      "2912\n",
      "2907\n",
      "2904\n",
      "2906\n",
      "2874\n",
      "2886\n",
      "2899\n",
      "2890\n",
      "2914\n",
      "2922\n",
      "2917\n",
      "2920\n",
      "2926\n",
      "2916\n",
      "2927\n",
      "2928\n",
      "2923\n",
      "2921\n",
      "2925\n",
      "2924\n",
      "2929\n",
      "2913\n",
      "2901\n",
      "2871\n",
      "2933\n",
      "2931\n",
      "2937\n",
      "2943\n",
      "2935\n",
      "2936\n",
      "2940\n",
      "2930\n",
      "2942\n",
      "2941\n",
      "2939\n",
      "2919\n",
      "2957\n",
      "2968\n",
      "2949\n",
      "2956\n",
      "2946\n",
      "2945\n",
      "2976\n",
      "2953\n",
      "2944\n",
      "2950\n",
      "2952\n",
      "2947\n",
      "2961\n",
      "2951\n",
      "2963\n",
      "2967\n",
      "2969\n",
      "2955\n",
      "2962\n",
      "2958\n",
      "2965\n",
      "2964\n",
      "2960\n",
      "2959\n",
      "2966\n",
      "2954\n",
      "2948\n",
      "2991\n",
      "3000\n",
      "2972\n",
      "2932\n",
      "2975\n",
      "2938\n",
      "2889\n",
      "2973\n",
      "2970\n",
      "2974\n",
      "2979\n",
      "2971\n",
      "2977\n",
      "2988\n",
      "2987\n",
      "2982\n",
      "2992\n",
      "2984\n",
      "2986\n",
      "2980\n",
      "2990\n",
      "2998\n",
      "3001\n",
      "2995\n",
      "2993\n",
      "2981\n",
      "3002\n",
      "2994\n",
      "2985\n",
      "2996\n",
      "2997\n",
      "3019\n",
      "2989\n",
      "2999\n",
      "3012\n",
      "3018\n",
      "3007\n",
      "3003\n",
      "3006\n",
      "3008\n",
      "3005\n",
      "3010\n",
      "3017\n",
      "2978\n",
      "3009\n",
      "3043\n",
      "3004\n",
      "3015\n",
      "3016\n",
      "3011\n",
      "3013\n"
     ]
    },
    {
     "name": "stderr",
     "output_type": "stream",
     "text": [
      "3330it [00:01, 1769.19it/s]\n"
     ]
    },
    {
     "name": "stdout",
     "output_type": "stream",
     "text": [
      "3020\n",
      "2983\n",
      "3014\n",
      "3027\n",
      "3022\n",
      "3023\n",
      "3034\n",
      "3028\n",
      "3031\n",
      "3037\n",
      "3026\n",
      "3029\n",
      "3042\n",
      "3025\n",
      "3021\n",
      "3044\n",
      "3024\n",
      "3047\n",
      "3036\n",
      "3048\n",
      "3038\n",
      "3035\n",
      "3049\n",
      "3033\n",
      "3040\n",
      "3046\n",
      "3032\n",
      "3053\n",
      "3050\n",
      "3045\n",
      "3055\n",
      "3062\n",
      "3051\n",
      "3052\n",
      "3059\n",
      "3063\n",
      "3058\n",
      "3060\n",
      "3056\n",
      "3054\n",
      "3067\n",
      "3061\n",
      "3075\n",
      "3071\n",
      "3066\n",
      "3076\n",
      "3077\n",
      "3065\n",
      "3073\n",
      "3068\n",
      "3079\n",
      "3072\n",
      "3064\n",
      "3074\n",
      "3039\n",
      "3070\n",
      "3041\n",
      "3030\n",
      "3078\n",
      "3082\n",
      "3080\n",
      "3087\n",
      "3110\n",
      "3084\n",
      "3093\n",
      "3081\n",
      "3086\n",
      "3090\n",
      "3116\n",
      "3091\n",
      "3085\n",
      "3088\n",
      "3089\n",
      "3100\n",
      "3121\n",
      "3105\n",
      "3095\n",
      "3098\n",
      "3096\n",
      "3099\n",
      "3057\n",
      "3069\n",
      "3102\n",
      "3130\n",
      "3094\n",
      "3097\n",
      "3108\n",
      "3106\n",
      "3112\n",
      "3113\n",
      "3109\n",
      "3117\n",
      "3104\n",
      "3103\n",
      "3134\n",
      "3111\n",
      "3107\n",
      "3101\n",
      "3114\n",
      "3092\n",
      "3083\n",
      "3149\n",
      "3118\n",
      "3120\n",
      "3123\n",
      "3124\n",
      "3119\n",
      "3126\n",
      "3125\n",
      "3131\n",
      "3147\n",
      "3115\n",
      "3135\n",
      "3139\n",
      "3140\n",
      "3138\n",
      "3133\n",
      "3165\n",
      "3142\n",
      "3141\n",
      "3143\n",
      "3144\n",
      "3170\n",
      "3122\n",
      "3146\n",
      "3128\n",
      "3161\n",
      "3152\n",
      "3150\n",
      "3132\n",
      "3153\n",
      "3154\n",
      "3129\n",
      "3155\n",
      "3156\n",
      "3159\n",
      "3157\n",
      "3160\n",
      "3162\n",
      "3137\n",
      "3127\n",
      "3171\n",
      "3177\n",
      "3164\n",
      "3151\n",
      "3163\n",
      "3166\n",
      "3145\n",
      "3168\n",
      "3169\n",
      "3175\n",
      "3173\n",
      "3172\n",
      "3200\n",
      "3176\n",
      "3178\n",
      "3180\n",
      "3182\n",
      "3189\n",
      "3174\n",
      "3195\n",
      "3187\n",
      "3194\n",
      "3188\n",
      "3191\n",
      "3181\n",
      "3183\n",
      "3193\n",
      "3186\n",
      "3192\n",
      "3196\n",
      "3190\n",
      "3167\n",
      "3209\n",
      "3179\n",
      "3198\n",
      "3136\n",
      "3223\n",
      "3204\n",
      "3202\n",
      "3205\n",
      "3206\n",
      "3201\n",
      "3184\n",
      "3207\n",
      "3203\n",
      "3199\n",
      "3211\n",
      "3208\n",
      "3213\n",
      "3215\n",
      "3212\n",
      "3214\n",
      "3219\n",
      "3210\n",
      "3225\n",
      "3217\n",
      "3224\n",
      "3218\n",
      "3226\n",
      "3228\n",
      "3227\n",
      "3185\n",
      "3158\n",
      "3216\n",
      "3148\n",
      "3220\n",
      "3229\n",
      "3231\n",
      "3232\n",
      "3235\n",
      "3234\n",
      "3230\n",
      "3236\n",
      "3233\n",
      "3197\n",
      "3253\n",
      "3238\n",
      "3241\n",
      "3240\n",
      "3246\n",
      "3237\n",
      "3245\n",
      "3242\n",
      "3243\n",
      "3251\n",
      "3249\n",
      "3254\n",
      "3263\n",
      "3250\n",
      "3258\n",
      "3255\n",
      "3256\n",
      "3257\n",
      "3248\n",
      "3265\n",
      "3261\n",
      "3259\n",
      "3264\n",
      "3267\n",
      "3244\n",
      "3252\n",
      "3247\n",
      "3262\n",
      "3266\n",
      "3269\n",
      "3221\n",
      "3260\n",
      "3222\n",
      "3271\n",
      "3239\n",
      "3268\n",
      "3276\n",
      "3272\n",
      "3274\n",
      "3275\n",
      "3270\n",
      "3277\n",
      "3278\n",
      "3273\n",
      "3279\n",
      "3280\n",
      "3281\n",
      "3289\n",
      "3282\n",
      "3283\n",
      "3285\n",
      "3284\n",
      "3286\n",
      "3292\n",
      "3287\n",
      "3288\n",
      "3290\n",
      "3293\n",
      "3294\n",
      "3297\n",
      "3299\n",
      "3295\n",
      "3300\n",
      "3298\n",
      "3301\n",
      "3303\n",
      "3319\n",
      "3302\n",
      "3304\n",
      "3307\n",
      "3306\n",
      "3309\n",
      "3328\n",
      "3314\n",
      "3305\n",
      "3308\n",
      "3310\n",
      "3311\n",
      "3318\n",
      "3315\n",
      "3312\n",
      "3313\n",
      "3321\n",
      "3322\n",
      "3316\n",
      "3320\n",
      "3325\n",
      "3317\n",
      "3323\n",
      "3324\n",
      "3329\n",
      "3326\n",
      "3327\n",
      "3296\n",
      "3291\n"
     ]
    }
   ],
   "source": [
    "FPArray = []\n",
    "with concurrent.futures.ProcessPoolExecutor() as executor:\n",
    "    out = {executor.submit(interactionMapper2,i): i for i in range(3330)}\n",
    "    for future in tqdm(concurrent.futures.as_completed(out)):\n",
    "        fp = future.result()\n",
    "        print(fp[-1])\n",
    "        FPArray.append(fp)  "
   ]
  },
  {
   "cell_type": "code",
   "execution_count": 97,
   "id": "4066c082",
   "metadata": {},
   "outputs": [],
   "source": [
    "SortedFP= sorted(FPArray,key=lambda x:x[-1])"
   ]
  },
  {
   "cell_type": "code",
   "execution_count": 98,
   "id": "93adae12",
   "metadata": {},
   "outputs": [
    {
     "data": {
      "text/plain": [
       "(None, 37)"
      ]
     },
     "execution_count": 98,
     "metadata": {},
     "output_type": "execute_result"
    }
   ],
   "source": [
    "SortedFP[37]"
   ]
  },
  {
   "cell_type": "markdown",
   "id": "97394cb2",
   "metadata": {},
   "source": [
    "#### Fingeprint Array Formation"
   ]
  },
  {
   "cell_type": "code",
   "execution_count": 99,
   "id": "3224f1fe",
   "metadata": {},
   "outputs": [],
   "source": [
    "AbsentIndex = []\n",
    "FParray = []\n",
    "for idx,i in enumerate(SortedFP):\n",
    "    \n",
    "    try:\n",
    "        FingerprintGen(i).any()\n",
    "    except AttributeError:\n",
    "        AbsentIndex.append(idx)\n",
    "        continue\n",
    "        \n",
    "    FParray.append(FingerprintGen(i))"
   ]
  },
  {
   "cell_type": "code",
   "execution_count": 100,
   "id": "d3f5a7df",
   "metadata": {},
   "outputs": [
    {
     "data": {
      "text/plain": [
       "[37,\n",
       " 41,\n",
       " 79,\n",
       " 102,\n",
       " 105,\n",
       " 149,\n",
       " 155,\n",
       " 201,\n",
       " 202,\n",
       " 208,\n",
       " 265,\n",
       " 266,\n",
       " 282,\n",
       " 287,\n",
       " 289,\n",
       " 350,\n",
       " 362,\n",
       " 373,\n",
       " 378,\n",
       " 380,\n",
       " 391,\n",
       " 395,\n",
       " 438,\n",
       " 440,\n",
       " 458,\n",
       " 460,\n",
       " 474,\n",
       " 494,\n",
       " 505,\n",
       " 508,\n",
       " 538,\n",
       " 549,\n",
       " 555,\n",
       " 558,\n",
       " 564,\n",
       " 591,\n",
       " 605,\n",
       " 606,\n",
       " 608,\n",
       " 625,\n",
       " 629,\n",
       " 631,\n",
       " 635,\n",
       " 648,\n",
       " 659,\n",
       " 664,\n",
       " 711,\n",
       " 718,\n",
       " 732,\n",
       " 743,\n",
       " 750,\n",
       " 759,\n",
       " 760,\n",
       " 764,\n",
       " 769,\n",
       " 774,\n",
       " 792,\n",
       " 806,\n",
       " 828,\n",
       " 853,\n",
       " 855,\n",
       " 857,\n",
       " 883,\n",
       " 919,\n",
       " 921,\n",
       " 939,\n",
       " 940,\n",
       " 948,\n",
       " 958,\n",
       " 967,\n",
       " 986,\n",
       " 1006,\n",
       " 1040,\n",
       " 1050,\n",
       " 1082,\n",
       " 1083,\n",
       " 1085,\n",
       " 1095,\n",
       " 1096,\n",
       " 1114,\n",
       " 1117,\n",
       " 1119,\n",
       " 1137,\n",
       " 1138,\n",
       " 1146,\n",
       " 1155,\n",
       " 1168,\n",
       " 1178,\n",
       " 1183,\n",
       " 1187,\n",
       " 1189,\n",
       " 1224,\n",
       " 1232,\n",
       " 1245,\n",
       " 1256,\n",
       " 1263,\n",
       " 1279,\n",
       " 1283,\n",
       " 1287,\n",
       " 1302,\n",
       " 1308,\n",
       " 1318,\n",
       " 1319,\n",
       " 1320,\n",
       " 1321,\n",
       " 1322,\n",
       " 1323,\n",
       " 1324,\n",
       " 1325,\n",
       " 1326,\n",
       " 1339,\n",
       " 1351,\n",
       " 1359,\n",
       " 1360,\n",
       " 1367,\n",
       " 1372,\n",
       " 1373,\n",
       " 1377,\n",
       " 1387,\n",
       " 1408,\n",
       " 1409,\n",
       " 1410,\n",
       " 1412,\n",
       " 1413,\n",
       " 1414,\n",
       " 1420,\n",
       " 1421,\n",
       " 1422,\n",
       " 1423,\n",
       " 1424,\n",
       " 1425,\n",
       " 1427,\n",
       " 1442,\n",
       " 1443,\n",
       " 1444,\n",
       " 1446,\n",
       " 1449,\n",
       " 1454,\n",
       " 1464,\n",
       " 1466,\n",
       " 1467,\n",
       " 1471,\n",
       " 1472,\n",
       " 1480,\n",
       " 1482,\n",
       " 1483,\n",
       " 1484,\n",
       " 1501,\n",
       " 1511,\n",
       " 1533,\n",
       " 1535,\n",
       " 1536,\n",
       " 1537,\n",
       " 1538,\n",
       " 1546,\n",
       " 1547,\n",
       " 1548,\n",
       " 1555,\n",
       " 1557,\n",
       " 1558,\n",
       " 1567,\n",
       " 1571,\n",
       " 1573,\n",
       " 1574,\n",
       " 1575,\n",
       " 1576,\n",
       " 1580,\n",
       " 1583,\n",
       " 1588,\n",
       " 1589,\n",
       " 1592,\n",
       " 1608,\n",
       " 1632,\n",
       " 1655,\n",
       " 1656,\n",
       " 1661,\n",
       " 1674,\n",
       " 1678,\n",
       " 1684,\n",
       " 1688,\n",
       " 1689,\n",
       " 1704,\n",
       " 1705,\n",
       " 1720,\n",
       " 1731,\n",
       " 1732,\n",
       " 1733,\n",
       " 1748,\n",
       " 1771,\n",
       " 1772,\n",
       " 1774,\n",
       " 1776,\n",
       " 1782,\n",
       " 1783,\n",
       " 1784,\n",
       " 1804,\n",
       " 1840,\n",
       " 1851,\n",
       " 1914,\n",
       " 1923,\n",
       " 1928,\n",
       " 1929,\n",
       " 1930,\n",
       " 1931,\n",
       " 1932,\n",
       " 1933,\n",
       " 1934,\n",
       " 1935,\n",
       " 1936,\n",
       " 1937,\n",
       " 1938,\n",
       " 1939,\n",
       " 1940,\n",
       " 1941,\n",
       " 1953,\n",
       " 1963,\n",
       " 2002,\n",
       " 2003,\n",
       " 2009,\n",
       " 2018,\n",
       " 2038,\n",
       " 2039,\n",
       " 2050,\n",
       " 2059,\n",
       " 2089,\n",
       " 2101,\n",
       " 2103,\n",
       " 2114,\n",
       " 2115,\n",
       " 2117,\n",
       " 2131,\n",
       " 2132,\n",
       " 2133,\n",
       " 2140,\n",
       " 2144,\n",
       " 2160,\n",
       " 2172,\n",
       " 2223,\n",
       " 2385,\n",
       " 2392,\n",
       " 2393,\n",
       " 2397,\n",
       " 2433,\n",
       " 2444,\n",
       " 2456,\n",
       " 2501,\n",
       " 2518,\n",
       " 2522,\n",
       " 2524,\n",
       " 2561,\n",
       " 2574,\n",
       " 2590,\n",
       " 2593,\n",
       " 2602,\n",
       " 2612,\n",
       " 2646,\n",
       " 2665,\n",
       " 2699,\n",
       " 2741,\n",
       " 2742,\n",
       " 2743,\n",
       " 2749,\n",
       " 2753,\n",
       " 2764,\n",
       " 2786,\n",
       " 2794,\n",
       " 2804,\n",
       " 2808,\n",
       " 2813,\n",
       " 2815,\n",
       " 2816,\n",
       " 2819,\n",
       " 2867,\n",
       " 2879,\n",
       " 2881,\n",
       " 2905,\n",
       " 2915,\n",
       " 2918,\n",
       " 2934,\n",
       " 2957,\n",
       " 2968,\n",
       " 2976,\n",
       " 2991,\n",
       " 3000,\n",
       " 3012,\n",
       " 3018,\n",
       " 3043,\n",
       " 3100,\n",
       " 3104,\n",
       " 3105,\n",
       " 3110,\n",
       " 3116,\n",
       " 3121,\n",
       " 3122,\n",
       " 3130,\n",
       " 3134,\n",
       " 3149,\n",
       " 3161,\n",
       " 3162,\n",
       " 3165,\n",
       " 3170,\n",
       " 3171,\n",
       " 3177,\n",
       " 3200,\n",
       " 3209,\n",
       " 3223,\n",
       " 3253,\n",
       " 3271,\n",
       " 3289,\n",
       " 3319,\n",
       " 3328]"
      ]
     },
     "execution_count": 100,
     "metadata": {},
     "output_type": "execute_result"
    }
   ],
   "source": [
    "AbsentIndex"
   ]
  },
  {
   "cell_type": "code",
   "execution_count": 121,
   "id": "a578490f",
   "metadata": {},
   "outputs": [],
   "source": [
    "import pandas as pd\n",
    "FP = pd.DataFrame(FParray)"
   ]
  },
  {
   "cell_type": "code",
   "execution_count": 122,
   "id": "44c28271",
   "metadata": {},
   "outputs": [
    {
     "data": {
      "text/html": [
       "<div>\n",
       "<style scoped>\n",
       "    .dataframe tbody tr th:only-of-type {\n",
       "        vertical-align: middle;\n",
       "    }\n",
       "\n",
       "    .dataframe tbody tr th {\n",
       "        vertical-align: top;\n",
       "    }\n",
       "\n",
       "    .dataframe thead th {\n",
       "        text-align: right;\n",
       "    }\n",
       "</style>\n",
       "<table border=\"1\" class=\"dataframe\">\n",
       "  <thead>\n",
       "    <tr style=\"text-align: right;\">\n",
       "      <th></th>\n",
       "      <th>0</th>\n",
       "      <th>1</th>\n",
       "      <th>2</th>\n",
       "      <th>3</th>\n",
       "      <th>4</th>\n",
       "      <th>5</th>\n",
       "      <th>6</th>\n",
       "      <th>7</th>\n",
       "      <th>8</th>\n",
       "      <th>9</th>\n",
       "      <th>...</th>\n",
       "      <th>52</th>\n",
       "      <th>53</th>\n",
       "      <th>54</th>\n",
       "      <th>55</th>\n",
       "      <th>56</th>\n",
       "      <th>57</th>\n",
       "      <th>58</th>\n",
       "      <th>59</th>\n",
       "      <th>60</th>\n",
       "      <th>61</th>\n",
       "    </tr>\n",
       "  </thead>\n",
       "  <tbody>\n",
       "    <tr>\n",
       "      <th>0</th>\n",
       "      <td>0.0</td>\n",
       "      <td>0.0</td>\n",
       "      <td>0.0</td>\n",
       "      <td>0.0</td>\n",
       "      <td>0.0</td>\n",
       "      <td>0.0</td>\n",
       "      <td>0.0</td>\n",
       "      <td>1.0</td>\n",
       "      <td>0.0</td>\n",
       "      <td>0.0</td>\n",
       "      <td>...</td>\n",
       "      <td>0.0</td>\n",
       "      <td>1.0</td>\n",
       "      <td>0.0</td>\n",
       "      <td>1.0</td>\n",
       "      <td>0.0</td>\n",
       "      <td>0.0</td>\n",
       "      <td>0.0</td>\n",
       "      <td>0.0</td>\n",
       "      <td>0.0</td>\n",
       "      <td>0.0</td>\n",
       "    </tr>\n",
       "    <tr>\n",
       "      <th>1</th>\n",
       "      <td>0.0</td>\n",
       "      <td>0.0</td>\n",
       "      <td>0.0</td>\n",
       "      <td>0.0</td>\n",
       "      <td>0.0</td>\n",
       "      <td>0.0</td>\n",
       "      <td>0.0</td>\n",
       "      <td>0.0</td>\n",
       "      <td>1.0</td>\n",
       "      <td>0.0</td>\n",
       "      <td>...</td>\n",
       "      <td>0.0</td>\n",
       "      <td>0.0</td>\n",
       "      <td>0.0</td>\n",
       "      <td>0.0</td>\n",
       "      <td>0.0</td>\n",
       "      <td>0.0</td>\n",
       "      <td>0.0</td>\n",
       "      <td>0.0</td>\n",
       "      <td>0.0</td>\n",
       "      <td>0.0</td>\n",
       "    </tr>\n",
       "    <tr>\n",
       "      <th>2</th>\n",
       "      <td>0.0</td>\n",
       "      <td>0.0</td>\n",
       "      <td>0.0</td>\n",
       "      <td>0.0</td>\n",
       "      <td>0.0</td>\n",
       "      <td>0.0</td>\n",
       "      <td>0.0</td>\n",
       "      <td>0.0</td>\n",
       "      <td>0.0</td>\n",
       "      <td>0.0</td>\n",
       "      <td>...</td>\n",
       "      <td>1.0</td>\n",
       "      <td>0.0</td>\n",
       "      <td>0.0</td>\n",
       "      <td>0.0</td>\n",
       "      <td>0.0</td>\n",
       "      <td>0.0</td>\n",
       "      <td>0.0</td>\n",
       "      <td>0.0</td>\n",
       "      <td>0.0</td>\n",
       "      <td>1.0</td>\n",
       "    </tr>\n",
       "    <tr>\n",
       "      <th>3</th>\n",
       "      <td>0.0</td>\n",
       "      <td>0.0</td>\n",
       "      <td>0.0</td>\n",
       "      <td>0.0</td>\n",
       "      <td>0.0</td>\n",
       "      <td>0.0</td>\n",
       "      <td>0.0</td>\n",
       "      <td>0.0</td>\n",
       "      <td>1.0</td>\n",
       "      <td>1.0</td>\n",
       "      <td>...</td>\n",
       "      <td>0.0</td>\n",
       "      <td>0.0</td>\n",
       "      <td>0.0</td>\n",
       "      <td>0.0</td>\n",
       "      <td>0.0</td>\n",
       "      <td>0.0</td>\n",
       "      <td>0.0</td>\n",
       "      <td>0.0</td>\n",
       "      <td>0.0</td>\n",
       "      <td>1.0</td>\n",
       "    </tr>\n",
       "    <tr>\n",
       "      <th>4</th>\n",
       "      <td>0.0</td>\n",
       "      <td>0.0</td>\n",
       "      <td>1.0</td>\n",
       "      <td>0.0</td>\n",
       "      <td>0.0</td>\n",
       "      <td>0.0</td>\n",
       "      <td>0.0</td>\n",
       "      <td>1.0</td>\n",
       "      <td>0.0</td>\n",
       "      <td>0.0</td>\n",
       "      <td>...</td>\n",
       "      <td>0.0</td>\n",
       "      <td>0.0</td>\n",
       "      <td>1.0</td>\n",
       "      <td>1.0</td>\n",
       "      <td>0.0</td>\n",
       "      <td>0.0</td>\n",
       "      <td>0.0</td>\n",
       "      <td>0.0</td>\n",
       "      <td>0.0</td>\n",
       "      <td>0.0</td>\n",
       "    </tr>\n",
       "    <tr>\n",
       "      <th>...</th>\n",
       "      <td>...</td>\n",
       "      <td>...</td>\n",
       "      <td>...</td>\n",
       "      <td>...</td>\n",
       "      <td>...</td>\n",
       "      <td>...</td>\n",
       "      <td>...</td>\n",
       "      <td>...</td>\n",
       "      <td>...</td>\n",
       "      <td>...</td>\n",
       "      <td>...</td>\n",
       "      <td>...</td>\n",
       "      <td>...</td>\n",
       "      <td>...</td>\n",
       "      <td>...</td>\n",
       "      <td>...</td>\n",
       "      <td>...</td>\n",
       "      <td>...</td>\n",
       "      <td>...</td>\n",
       "      <td>...</td>\n",
       "      <td>...</td>\n",
       "    </tr>\n",
       "    <tr>\n",
       "      <th>3014</th>\n",
       "      <td>0.0</td>\n",
       "      <td>0.0</td>\n",
       "      <td>0.0</td>\n",
       "      <td>0.0</td>\n",
       "      <td>1.0</td>\n",
       "      <td>0.0</td>\n",
       "      <td>0.0</td>\n",
       "      <td>0.0</td>\n",
       "      <td>0.0</td>\n",
       "      <td>0.0</td>\n",
       "      <td>...</td>\n",
       "      <td>0.0</td>\n",
       "      <td>0.0</td>\n",
       "      <td>0.0</td>\n",
       "      <td>0.0</td>\n",
       "      <td>1.0</td>\n",
       "      <td>0.0</td>\n",
       "      <td>0.0</td>\n",
       "      <td>0.0</td>\n",
       "      <td>0.0</td>\n",
       "      <td>0.0</td>\n",
       "    </tr>\n",
       "    <tr>\n",
       "      <th>3015</th>\n",
       "      <td>0.0</td>\n",
       "      <td>0.0</td>\n",
       "      <td>0.0</td>\n",
       "      <td>0.0</td>\n",
       "      <td>0.0</td>\n",
       "      <td>0.0</td>\n",
       "      <td>0.0</td>\n",
       "      <td>0.0</td>\n",
       "      <td>0.0</td>\n",
       "      <td>0.0</td>\n",
       "      <td>...</td>\n",
       "      <td>0.0</td>\n",
       "      <td>0.0</td>\n",
       "      <td>0.0</td>\n",
       "      <td>1.0</td>\n",
       "      <td>0.0</td>\n",
       "      <td>0.0</td>\n",
       "      <td>0.0</td>\n",
       "      <td>0.0</td>\n",
       "      <td>0.0</td>\n",
       "      <td>0.0</td>\n",
       "    </tr>\n",
       "    <tr>\n",
       "      <th>3016</th>\n",
       "      <td>0.0</td>\n",
       "      <td>0.0</td>\n",
       "      <td>0.0</td>\n",
       "      <td>0.0</td>\n",
       "      <td>0.0</td>\n",
       "      <td>0.0</td>\n",
       "      <td>0.0</td>\n",
       "      <td>1.0</td>\n",
       "      <td>0.0</td>\n",
       "      <td>0.0</td>\n",
       "      <td>...</td>\n",
       "      <td>0.0</td>\n",
       "      <td>0.0</td>\n",
       "      <td>0.0</td>\n",
       "      <td>1.0</td>\n",
       "      <td>0.0</td>\n",
       "      <td>0.0</td>\n",
       "      <td>0.0</td>\n",
       "      <td>0.0</td>\n",
       "      <td>0.0</td>\n",
       "      <td>0.0</td>\n",
       "    </tr>\n",
       "    <tr>\n",
       "      <th>3017</th>\n",
       "      <td>0.0</td>\n",
       "      <td>0.0</td>\n",
       "      <td>0.0</td>\n",
       "      <td>0.0</td>\n",
       "      <td>0.0</td>\n",
       "      <td>0.0</td>\n",
       "      <td>0.0</td>\n",
       "      <td>0.0</td>\n",
       "      <td>0.0</td>\n",
       "      <td>0.0</td>\n",
       "      <td>...</td>\n",
       "      <td>0.0</td>\n",
       "      <td>0.0</td>\n",
       "      <td>0.0</td>\n",
       "      <td>1.0</td>\n",
       "      <td>0.0</td>\n",
       "      <td>1.0</td>\n",
       "      <td>0.0</td>\n",
       "      <td>0.0</td>\n",
       "      <td>0.0</td>\n",
       "      <td>0.0</td>\n",
       "    </tr>\n",
       "    <tr>\n",
       "      <th>3018</th>\n",
       "      <td>0.0</td>\n",
       "      <td>0.0</td>\n",
       "      <td>0.0</td>\n",
       "      <td>0.0</td>\n",
       "      <td>0.0</td>\n",
       "      <td>0.0</td>\n",
       "      <td>0.0</td>\n",
       "      <td>0.0</td>\n",
       "      <td>0.0</td>\n",
       "      <td>0.0</td>\n",
       "      <td>...</td>\n",
       "      <td>0.0</td>\n",
       "      <td>0.0</td>\n",
       "      <td>0.0</td>\n",
       "      <td>0.0</td>\n",
       "      <td>1.0</td>\n",
       "      <td>0.0</td>\n",
       "      <td>0.0</td>\n",
       "      <td>0.0</td>\n",
       "      <td>0.0</td>\n",
       "      <td>0.0</td>\n",
       "    </tr>\n",
       "  </tbody>\n",
       "</table>\n",
       "<p>3019 rows × 62 columns</p>\n",
       "</div>"
      ],
      "text/plain": [
       "       0    1    2    3    4    5    6    7    8    9   ...   52   53   54  \\\n",
       "0     0.0  0.0  0.0  0.0  0.0  0.0  0.0  1.0  0.0  0.0  ...  0.0  1.0  0.0   \n",
       "1     0.0  0.0  0.0  0.0  0.0  0.0  0.0  0.0  1.0  0.0  ...  0.0  0.0  0.0   \n",
       "2     0.0  0.0  0.0  0.0  0.0  0.0  0.0  0.0  0.0  0.0  ...  1.0  0.0  0.0   \n",
       "3     0.0  0.0  0.0  0.0  0.0  0.0  0.0  0.0  1.0  1.0  ...  0.0  0.0  0.0   \n",
       "4     0.0  0.0  1.0  0.0  0.0  0.0  0.0  1.0  0.0  0.0  ...  0.0  0.0  1.0   \n",
       "...   ...  ...  ...  ...  ...  ...  ...  ...  ...  ...  ...  ...  ...  ...   \n",
       "3014  0.0  0.0  0.0  0.0  1.0  0.0  0.0  0.0  0.0  0.0  ...  0.0  0.0  0.0   \n",
       "3015  0.0  0.0  0.0  0.0  0.0  0.0  0.0  0.0  0.0  0.0  ...  0.0  0.0  0.0   \n",
       "3016  0.0  0.0  0.0  0.0  0.0  0.0  0.0  1.0  0.0  0.0  ...  0.0  0.0  0.0   \n",
       "3017  0.0  0.0  0.0  0.0  0.0  0.0  0.0  0.0  0.0  0.0  ...  0.0  0.0  0.0   \n",
       "3018  0.0  0.0  0.0  0.0  0.0  0.0  0.0  0.0  0.0  0.0  ...  0.0  0.0  0.0   \n",
       "\n",
       "       55   56   57   58   59   60   61  \n",
       "0     1.0  0.0  0.0  0.0  0.0  0.0  0.0  \n",
       "1     0.0  0.0  0.0  0.0  0.0  0.0  0.0  \n",
       "2     0.0  0.0  0.0  0.0  0.0  0.0  1.0  \n",
       "3     0.0  0.0  0.0  0.0  0.0  0.0  1.0  \n",
       "4     1.0  0.0  0.0  0.0  0.0  0.0  0.0  \n",
       "...   ...  ...  ...  ...  ...  ...  ...  \n",
       "3014  0.0  1.0  0.0  0.0  0.0  0.0  0.0  \n",
       "3015  1.0  0.0  0.0  0.0  0.0  0.0  0.0  \n",
       "3016  1.0  0.0  0.0  0.0  0.0  0.0  0.0  \n",
       "3017  1.0  0.0  1.0  0.0  0.0  0.0  0.0  \n",
       "3018  0.0  1.0  0.0  0.0  0.0  0.0  0.0  \n",
       "\n",
       "[3019 rows x 62 columns]"
      ]
     },
     "execution_count": 122,
     "metadata": {},
     "output_type": "execute_result"
    }
   ],
   "source": [
    "FP"
   ]
  },
  {
   "cell_type": "code",
   "execution_count": 105,
   "id": "88ebaf8a",
   "metadata": {},
   "outputs": [],
   "source": [
    "### only docked error molecules"
   ]
  },
  {
   "cell_type": "code",
   "execution_count": 123,
   "id": "64e67316",
   "metadata": {},
   "outputs": [],
   "source": [
    "datapath = f\"~/Desktop/ProLIF/Data/RefinedDocking/DockedPDBQT/{i}_out_out.pdbqt\""
   ]
  },
  {
   "cell_type": "code",
   "execution_count": 124,
   "id": "5b5f00f7",
   "metadata": {},
   "outputs": [],
   "source": [
    "### Docked file count\n",
    "absentDocked = []\n",
    "for i in range(3330):\n",
    "    datapath = f\"~/Desktop/ProLIF/Data/RefinedDocking/DockedPDBQT/{i}_out_out.pdbqt\"\n",
    "    if not os.path.isfile(os.path.expanduser(datapath)):\n",
    "        absentDocked.append(i)\n",
    "        "
   ]
  },
  {
   "cell_type": "code",
   "execution_count": 125,
   "id": "d31fdb56",
   "metadata": {},
   "outputs": [
    {
     "data": {
      "text/plain": [
       "[37,\n",
       " 41,\n",
       " 79,\n",
       " 102,\n",
       " 105,\n",
       " 149,\n",
       " 155,\n",
       " 201,\n",
       " 202,\n",
       " 208,\n",
       " 265,\n",
       " 266,\n",
       " 282,\n",
       " 287,\n",
       " 289,\n",
       " 350,\n",
       " 362,\n",
       " 373,\n",
       " 378,\n",
       " 380,\n",
       " 391,\n",
       " 395,\n",
       " 438,\n",
       " 440,\n",
       " 458,\n",
       " 460,\n",
       " 474,\n",
       " 494,\n",
       " 505,\n",
       " 508,\n",
       " 538,\n",
       " 549,\n",
       " 555,\n",
       " 558,\n",
       " 564,\n",
       " 591,\n",
       " 605,\n",
       " 606,\n",
       " 608,\n",
       " 625,\n",
       " 629,\n",
       " 631,\n",
       " 635,\n",
       " 648,\n",
       " 659,\n",
       " 664,\n",
       " 711,\n",
       " 718,\n",
       " 732,\n",
       " 743,\n",
       " 750,\n",
       " 759,\n",
       " 760,\n",
       " 764,\n",
       " 769,\n",
       " 774,\n",
       " 792,\n",
       " 806,\n",
       " 828,\n",
       " 853,\n",
       " 855,\n",
       " 857,\n",
       " 883,\n",
       " 919,\n",
       " 921,\n",
       " 939,\n",
       " 940,\n",
       " 948,\n",
       " 958,\n",
       " 967,\n",
       " 986,\n",
       " 1006,\n",
       " 1040,\n",
       " 1050,\n",
       " 1082,\n",
       " 1083,\n",
       " 1085,\n",
       " 1095,\n",
       " 1096,\n",
       " 1114,\n",
       " 1117,\n",
       " 1119,\n",
       " 1137,\n",
       " 1138,\n",
       " 1146,\n",
       " 1155,\n",
       " 1168,\n",
       " 1178,\n",
       " 1183,\n",
       " 1187,\n",
       " 1189,\n",
       " 1224,\n",
       " 1232,\n",
       " 1245,\n",
       " 1256,\n",
       " 1263,\n",
       " 1279,\n",
       " 1283,\n",
       " 1287,\n",
       " 1302,\n",
       " 1308,\n",
       " 1318,\n",
       " 1319,\n",
       " 1320,\n",
       " 1321,\n",
       " 1322,\n",
       " 1323,\n",
       " 1324,\n",
       " 1325,\n",
       " 1326,\n",
       " 1339,\n",
       " 1351,\n",
       " 1359,\n",
       " 1360,\n",
       " 1367,\n",
       " 1372,\n",
       " 1373,\n",
       " 1377,\n",
       " 1387,\n",
       " 1408,\n",
       " 1409,\n",
       " 1410,\n",
       " 1412,\n",
       " 1413,\n",
       " 1414,\n",
       " 1420,\n",
       " 1421,\n",
       " 1422,\n",
       " 1423,\n",
       " 1424,\n",
       " 1425,\n",
       " 1427,\n",
       " 1442,\n",
       " 1443,\n",
       " 1444,\n",
       " 1446,\n",
       " 1449,\n",
       " 1454,\n",
       " 1464,\n",
       " 1466,\n",
       " 1467,\n",
       " 1471,\n",
       " 1472,\n",
       " 1480,\n",
       " 1482,\n",
       " 1483,\n",
       " 1484,\n",
       " 1501,\n",
       " 1511,\n",
       " 1533,\n",
       " 1535,\n",
       " 1536,\n",
       " 1537,\n",
       " 1538,\n",
       " 1546,\n",
       " 1547,\n",
       " 1548,\n",
       " 1555,\n",
       " 1557,\n",
       " 1558,\n",
       " 1567,\n",
       " 1571,\n",
       " 1573,\n",
       " 1574,\n",
       " 1575,\n",
       " 1576,\n",
       " 1580,\n",
       " 1583,\n",
       " 1588,\n",
       " 1589,\n",
       " 1592,\n",
       " 1608,\n",
       " 1632,\n",
       " 1655,\n",
       " 1656,\n",
       " 1661,\n",
       " 1674,\n",
       " 1678,\n",
       " 1684,\n",
       " 1688,\n",
       " 1689,\n",
       " 1704,\n",
       " 1705,\n",
       " 1720,\n",
       " 1731,\n",
       " 1732,\n",
       " 1733,\n",
       " 1748,\n",
       " 1771,\n",
       " 1772,\n",
       " 1774,\n",
       " 1776,\n",
       " 1782,\n",
       " 1783,\n",
       " 1784,\n",
       " 1804,\n",
       " 1840,\n",
       " 1851,\n",
       " 1914,\n",
       " 1923,\n",
       " 1928,\n",
       " 1929,\n",
       " 1930,\n",
       " 1931,\n",
       " 1932,\n",
       " 1933,\n",
       " 1934,\n",
       " 1935,\n",
       " 1936,\n",
       " 1937,\n",
       " 1938,\n",
       " 1939,\n",
       " 1940,\n",
       " 1941,\n",
       " 1953,\n",
       " 1963,\n",
       " 2002,\n",
       " 2003,\n",
       " 2009,\n",
       " 2018,\n",
       " 2038,\n",
       " 2039,\n",
       " 2050,\n",
       " 2059,\n",
       " 2089,\n",
       " 2101,\n",
       " 2103,\n",
       " 2114,\n",
       " 2115,\n",
       " 2117,\n",
       " 2131,\n",
       " 2132,\n",
       " 2133,\n",
       " 2140,\n",
       " 2144,\n",
       " 2160,\n",
       " 2172,\n",
       " 2223,\n",
       " 2385,\n",
       " 2392,\n",
       " 2393,\n",
       " 2397,\n",
       " 2433,\n",
       " 2444,\n",
       " 2456,\n",
       " 2501,\n",
       " 2518,\n",
       " 2522,\n",
       " 2524,\n",
       " 2561,\n",
       " 2574,\n",
       " 2590,\n",
       " 2593,\n",
       " 2602,\n",
       " 2612,\n",
       " 2646,\n",
       " 2665,\n",
       " 2699,\n",
       " 2741,\n",
       " 2742,\n",
       " 2743,\n",
       " 2749,\n",
       " 2753,\n",
       " 2764,\n",
       " 2786,\n",
       " 2794,\n",
       " 2804,\n",
       " 2808,\n",
       " 2813,\n",
       " 2815,\n",
       " 2816,\n",
       " 2819,\n",
       " 2867,\n",
       " 2879,\n",
       " 2881,\n",
       " 2905,\n",
       " 2915,\n",
       " 2918,\n",
       " 2934,\n",
       " 2957,\n",
       " 2968,\n",
       " 2976,\n",
       " 2991,\n",
       " 3000,\n",
       " 3012,\n",
       " 3018,\n",
       " 3043,\n",
       " 3100,\n",
       " 3104,\n",
       " 3105,\n",
       " 3110,\n",
       " 3116,\n",
       " 3121,\n",
       " 3122,\n",
       " 3130,\n",
       " 3134,\n",
       " 3149,\n",
       " 3161,\n",
       " 3162,\n",
       " 3165,\n",
       " 3170,\n",
       " 3171,\n",
       " 3177,\n",
       " 3200,\n",
       " 3209,\n",
       " 3223,\n",
       " 3253,\n",
       " 3271,\n",
       " 3289,\n",
       " 3319,\n",
       " 3328]"
      ]
     },
     "execution_count": 125,
     "metadata": {},
     "output_type": "execute_result"
    }
   ],
   "source": [
    "absentDocked"
   ]
  },
  {
   "cell_type": "code",
   "execution_count": 126,
   "id": "e78fd6dd",
   "metadata": {},
   "outputs": [],
   "source": [
    "### Raw Data"
   ]
  },
  {
   "cell_type": "code",
   "execution_count": 127,
   "id": "02ad06fe",
   "metadata": {},
   "outputs": [],
   "source": [
    "raw_path =f\"~/Desktop/ProLIF/Data/data.csv\""
   ]
  },
  {
   "cell_type": "code",
   "execution_count": 128,
   "id": "c442c8ab",
   "metadata": {},
   "outputs": [],
   "source": [
    "RawData = pd.read_csv(os.path.expanduser(raw_path))"
   ]
  },
  {
   "cell_type": "code",
   "execution_count": 129,
   "id": "d0f2a270",
   "metadata": {},
   "outputs": [
    {
     "data": {
      "text/html": [
       "<div>\n",
       "<style scoped>\n",
       "    .dataframe tbody tr th:only-of-type {\n",
       "        vertical-align: middle;\n",
       "    }\n",
       "\n",
       "    .dataframe tbody tr th {\n",
       "        vertical-align: top;\n",
       "    }\n",
       "\n",
       "    .dataframe thead th {\n",
       "        text-align: right;\n",
       "    }\n",
       "</style>\n",
       "<table border=\"1\" class=\"dataframe\">\n",
       "  <thead>\n",
       "    <tr style=\"text-align: right;\">\n",
       "      <th></th>\n",
       "      <th>Unnamed: 0</th>\n",
       "      <th>SMILES</th>\n",
       "      <th>LABELS</th>\n",
       "      <th>Isit</th>\n",
       "    </tr>\n",
       "  </thead>\n",
       "  <tbody>\n",
       "    <tr>\n",
       "      <th>0</th>\n",
       "      <td>0</td>\n",
       "      <td>OC(=O)c1cc(ccc1O)N=Nc1ccc(cc1)S(=O)(=O)Nc1ccccn1</td>\n",
       "      <td>0</td>\n",
       "      <td>0</td>\n",
       "    </tr>\n",
       "    <tr>\n",
       "      <th>1</th>\n",
       "      <td>1</td>\n",
       "      <td>COC1(NC(=O)C(C(O)=O)c2ccc(O)cc2)C2OCC(CSc3nnnn...</td>\n",
       "      <td>0</td>\n",
       "      <td>0</td>\n",
       "    </tr>\n",
       "    <tr>\n",
       "      <th>2</th>\n",
       "      <td>2</td>\n",
       "      <td>Oc1c(I)cc(Cl)c2cccnc12</td>\n",
       "      <td>0</td>\n",
       "      <td>0</td>\n",
       "    </tr>\n",
       "    <tr>\n",
       "      <th>3</th>\n",
       "      <td>3</td>\n",
       "      <td>CCNC(NC#N)=NCCSCc1ncccc1Br</td>\n",
       "      <td>0</td>\n",
       "      <td>0</td>\n",
       "    </tr>\n",
       "    <tr>\n",
       "      <th>4</th>\n",
       "      <td>4</td>\n",
       "      <td>CN1CC[C@@]23[C@H]4Oc5c2c(C[C@@H]1[C@@H]3C=C[C@...</td>\n",
       "      <td>0</td>\n",
       "      <td>0</td>\n",
       "    </tr>\n",
       "    <tr>\n",
       "      <th>...</th>\n",
       "      <td>...</td>\n",
       "      <td>...</td>\n",
       "      <td>...</td>\n",
       "      <td>...</td>\n",
       "    </tr>\n",
       "    <tr>\n",
       "      <th>3325</th>\n",
       "      <td>3332</td>\n",
       "      <td>[O-][S+](CCC1C(=O)N(N(C1=O)c1ccccc1)c1ccccc1)c...</td>\n",
       "      <td>0</td>\n",
       "      <td>0</td>\n",
       "    </tr>\n",
       "    <tr>\n",
       "      <th>3326</th>\n",
       "      <td>3333</td>\n",
       "      <td>Clc1ccc2N=C3NC(=O)CN3Cc2c1Cl</td>\n",
       "      <td>0</td>\n",
       "      <td>0</td>\n",
       "    </tr>\n",
       "    <tr>\n",
       "      <th>3327</th>\n",
       "      <td>3334</td>\n",
       "      <td>Oc1ccc2c(Oc3cc(O)ccc3C22OC(=O)c3ccccc23)c1</td>\n",
       "      <td>0</td>\n",
       "      <td>0</td>\n",
       "    </tr>\n",
       "    <tr>\n",
       "      <th>3328</th>\n",
       "      <td>3335</td>\n",
       "      <td>CN1CCC(CC1)=C1c2ccsc2C(=O)Cc2ccccc12</td>\n",
       "      <td>1</td>\n",
       "      <td>0</td>\n",
       "    </tr>\n",
       "    <tr>\n",
       "      <th>3329</th>\n",
       "      <td>3336</td>\n",
       "      <td>Nc1cc(c[nH]c1=O)-c1ccncc1</td>\n",
       "      <td>0</td>\n",
       "      <td>0</td>\n",
       "    </tr>\n",
       "  </tbody>\n",
       "</table>\n",
       "<p>3330 rows × 4 columns</p>\n",
       "</div>"
      ],
      "text/plain": [
       "      Unnamed: 0                                             SMILES  LABELS  \\\n",
       "0              0   OC(=O)c1cc(ccc1O)N=Nc1ccc(cc1)S(=O)(=O)Nc1ccccn1       0   \n",
       "1              1  COC1(NC(=O)C(C(O)=O)c2ccc(O)cc2)C2OCC(CSc3nnnn...       0   \n",
       "2              2                             Oc1c(I)cc(Cl)c2cccnc12       0   \n",
       "3              3                         CCNC(NC#N)=NCCSCc1ncccc1Br       0   \n",
       "4              4  CN1CC[C@@]23[C@H]4Oc5c2c(C[C@@H]1[C@@H]3C=C[C@...       0   \n",
       "...          ...                                                ...     ...   \n",
       "3325        3332  [O-][S+](CCC1C(=O)N(N(C1=O)c1ccccc1)c1ccccc1)c...       0   \n",
       "3326        3333                       Clc1ccc2N=C3NC(=O)CN3Cc2c1Cl       0   \n",
       "3327        3334         Oc1ccc2c(Oc3cc(O)ccc3C22OC(=O)c3ccccc23)c1       0   \n",
       "3328        3335               CN1CCC(CC1)=C1c2ccsc2C(=O)Cc2ccccc12       1   \n",
       "3329        3336                          Nc1cc(c[nH]c1=O)-c1ccncc1       0   \n",
       "\n",
       "      Isit  \n",
       "0        0  \n",
       "1        0  \n",
       "2        0  \n",
       "3        0  \n",
       "4        0  \n",
       "...    ...  \n",
       "3325     0  \n",
       "3326     0  \n",
       "3327     0  \n",
       "3328     0  \n",
       "3329     0  \n",
       "\n",
       "[3330 rows x 4 columns]"
      ]
     },
     "execution_count": 129,
     "metadata": {},
     "output_type": "execute_result"
    }
   ],
   "source": [
    "RawData"
   ]
  },
  {
   "cell_type": "code",
   "execution_count": 130,
   "id": "b4214f91",
   "metadata": {},
   "outputs": [],
   "source": [
    "#### exluding undocked"
   ]
  },
  {
   "cell_type": "code",
   "execution_count": 131,
   "id": "6ce3ff38",
   "metadata": {},
   "outputs": [],
   "source": [
    "fdata = RawData.drop(RawData.iloc[absentDocked].index,)"
   ]
  },
  {
   "cell_type": "code",
   "execution_count": 132,
   "id": "88d37f5c",
   "metadata": {},
   "outputs": [
    {
     "data": {
      "text/html": [
       "<div>\n",
       "<style scoped>\n",
       "    .dataframe tbody tr th:only-of-type {\n",
       "        vertical-align: middle;\n",
       "    }\n",
       "\n",
       "    .dataframe tbody tr th {\n",
       "        vertical-align: top;\n",
       "    }\n",
       "\n",
       "    .dataframe thead th {\n",
       "        text-align: right;\n",
       "    }\n",
       "</style>\n",
       "<table border=\"1\" class=\"dataframe\">\n",
       "  <thead>\n",
       "    <tr style=\"text-align: right;\">\n",
       "      <th></th>\n",
       "      <th>Unnamed: 0</th>\n",
       "      <th>SMILES</th>\n",
       "      <th>LABELS</th>\n",
       "      <th>Isit</th>\n",
       "    </tr>\n",
       "  </thead>\n",
       "  <tbody>\n",
       "    <tr>\n",
       "      <th>0</th>\n",
       "      <td>0</td>\n",
       "      <td>OC(=O)c1cc(ccc1O)N=Nc1ccc(cc1)S(=O)(=O)Nc1ccccn1</td>\n",
       "      <td>0</td>\n",
       "      <td>0</td>\n",
       "    </tr>\n",
       "    <tr>\n",
       "      <th>1</th>\n",
       "      <td>1</td>\n",
       "      <td>COC1(NC(=O)C(C(O)=O)c2ccc(O)cc2)C2OCC(CSc3nnnn...</td>\n",
       "      <td>0</td>\n",
       "      <td>0</td>\n",
       "    </tr>\n",
       "    <tr>\n",
       "      <th>2</th>\n",
       "      <td>2</td>\n",
       "      <td>Oc1c(I)cc(Cl)c2cccnc12</td>\n",
       "      <td>0</td>\n",
       "      <td>0</td>\n",
       "    </tr>\n",
       "    <tr>\n",
       "      <th>3</th>\n",
       "      <td>3</td>\n",
       "      <td>CCNC(NC#N)=NCCSCc1ncccc1Br</td>\n",
       "      <td>0</td>\n",
       "      <td>0</td>\n",
       "    </tr>\n",
       "    <tr>\n",
       "      <th>4</th>\n",
       "      <td>4</td>\n",
       "      <td>CN1CC[C@@]23[C@H]4Oc5c2c(C[C@@H]1[C@@H]3C=C[C@...</td>\n",
       "      <td>0</td>\n",
       "      <td>0</td>\n",
       "    </tr>\n",
       "    <tr>\n",
       "      <th>...</th>\n",
       "      <td>...</td>\n",
       "      <td>...</td>\n",
       "      <td>...</td>\n",
       "      <td>...</td>\n",
       "    </tr>\n",
       "    <tr>\n",
       "      <th>3324</th>\n",
       "      <td>3331</td>\n",
       "      <td>OC(=O)c1cccnc1</td>\n",
       "      <td>0</td>\n",
       "      <td>0</td>\n",
       "    </tr>\n",
       "    <tr>\n",
       "      <th>3325</th>\n",
       "      <td>3332</td>\n",
       "      <td>[O-][S+](CCC1C(=O)N(N(C1=O)c1ccccc1)c1ccccc1)c...</td>\n",
       "      <td>0</td>\n",
       "      <td>0</td>\n",
       "    </tr>\n",
       "    <tr>\n",
       "      <th>3326</th>\n",
       "      <td>3333</td>\n",
       "      <td>Clc1ccc2N=C3NC(=O)CN3Cc2c1Cl</td>\n",
       "      <td>0</td>\n",
       "      <td>0</td>\n",
       "    </tr>\n",
       "    <tr>\n",
       "      <th>3327</th>\n",
       "      <td>3334</td>\n",
       "      <td>Oc1ccc2c(Oc3cc(O)ccc3C22OC(=O)c3ccccc23)c1</td>\n",
       "      <td>0</td>\n",
       "      <td>0</td>\n",
       "    </tr>\n",
       "    <tr>\n",
       "      <th>3329</th>\n",
       "      <td>3336</td>\n",
       "      <td>Nc1cc(c[nH]c1=O)-c1ccncc1</td>\n",
       "      <td>0</td>\n",
       "      <td>0</td>\n",
       "    </tr>\n",
       "  </tbody>\n",
       "</table>\n",
       "<p>3019 rows × 4 columns</p>\n",
       "</div>"
      ],
      "text/plain": [
       "      Unnamed: 0                                             SMILES  LABELS  \\\n",
       "0              0   OC(=O)c1cc(ccc1O)N=Nc1ccc(cc1)S(=O)(=O)Nc1ccccn1       0   \n",
       "1              1  COC1(NC(=O)C(C(O)=O)c2ccc(O)cc2)C2OCC(CSc3nnnn...       0   \n",
       "2              2                             Oc1c(I)cc(Cl)c2cccnc12       0   \n",
       "3              3                         CCNC(NC#N)=NCCSCc1ncccc1Br       0   \n",
       "4              4  CN1CC[C@@]23[C@H]4Oc5c2c(C[C@@H]1[C@@H]3C=C[C@...       0   \n",
       "...          ...                                                ...     ...   \n",
       "3324        3331                                     OC(=O)c1cccnc1       0   \n",
       "3325        3332  [O-][S+](CCC1C(=O)N(N(C1=O)c1ccccc1)c1ccccc1)c...       0   \n",
       "3326        3333                       Clc1ccc2N=C3NC(=O)CN3Cc2c1Cl       0   \n",
       "3327        3334         Oc1ccc2c(Oc3cc(O)ccc3C22OC(=O)c3ccccc23)c1       0   \n",
       "3329        3336                          Nc1cc(c[nH]c1=O)-c1ccncc1       0   \n",
       "\n",
       "      Isit  \n",
       "0        0  \n",
       "1        0  \n",
       "2        0  \n",
       "3        0  \n",
       "4        0  \n",
       "...    ...  \n",
       "3324     0  \n",
       "3325     0  \n",
       "3326     0  \n",
       "3327     0  \n",
       "3329     0  \n",
       "\n",
       "[3019 rows x 4 columns]"
      ]
     },
     "execution_count": 132,
     "metadata": {},
     "output_type": "execute_result"
    }
   ],
   "source": [
    "fdata"
   ]
  },
  {
   "cell_type": "code",
   "execution_count": 116,
   "id": "88d88374",
   "metadata": {},
   "outputs": [],
   "source": [
    "### Merging fingerprint with clear data"
   ]
  },
  {
   "cell_type": "code",
   "execution_count": 133,
   "id": "da8fe5e8",
   "metadata": {},
   "outputs": [
    {
     "data": {
      "text/html": [
       "<div>\n",
       "<style scoped>\n",
       "    .dataframe tbody tr th:only-of-type {\n",
       "        vertical-align: middle;\n",
       "    }\n",
       "\n",
       "    .dataframe tbody tr th {\n",
       "        vertical-align: top;\n",
       "    }\n",
       "\n",
       "    .dataframe thead th {\n",
       "        text-align: right;\n",
       "    }\n",
       "</style>\n",
       "<table border=\"1\" class=\"dataframe\">\n",
       "  <thead>\n",
       "    <tr style=\"text-align: right;\">\n",
       "      <th></th>\n",
       "      <th>0</th>\n",
       "      <th>1</th>\n",
       "      <th>2</th>\n",
       "      <th>3</th>\n",
       "      <th>4</th>\n",
       "      <th>5</th>\n",
       "      <th>6</th>\n",
       "      <th>7</th>\n",
       "      <th>8</th>\n",
       "      <th>9</th>\n",
       "      <th>...</th>\n",
       "      <th>52</th>\n",
       "      <th>53</th>\n",
       "      <th>54</th>\n",
       "      <th>55</th>\n",
       "      <th>56</th>\n",
       "      <th>57</th>\n",
       "      <th>58</th>\n",
       "      <th>59</th>\n",
       "      <th>60</th>\n",
       "      <th>61</th>\n",
       "    </tr>\n",
       "  </thead>\n",
       "  <tbody>\n",
       "    <tr>\n",
       "      <th>0</th>\n",
       "      <td>0.0</td>\n",
       "      <td>0.0</td>\n",
       "      <td>0.0</td>\n",
       "      <td>0.0</td>\n",
       "      <td>0.0</td>\n",
       "      <td>0.0</td>\n",
       "      <td>0.0</td>\n",
       "      <td>1.0</td>\n",
       "      <td>0.0</td>\n",
       "      <td>0.0</td>\n",
       "      <td>...</td>\n",
       "      <td>0.0</td>\n",
       "      <td>1.0</td>\n",
       "      <td>0.0</td>\n",
       "      <td>1.0</td>\n",
       "      <td>0.0</td>\n",
       "      <td>0.0</td>\n",
       "      <td>0.0</td>\n",
       "      <td>0.0</td>\n",
       "      <td>0.0</td>\n",
       "      <td>0.0</td>\n",
       "    </tr>\n",
       "    <tr>\n",
       "      <th>1</th>\n",
       "      <td>0.0</td>\n",
       "      <td>0.0</td>\n",
       "      <td>0.0</td>\n",
       "      <td>0.0</td>\n",
       "      <td>0.0</td>\n",
       "      <td>0.0</td>\n",
       "      <td>0.0</td>\n",
       "      <td>0.0</td>\n",
       "      <td>1.0</td>\n",
       "      <td>0.0</td>\n",
       "      <td>...</td>\n",
       "      <td>0.0</td>\n",
       "      <td>0.0</td>\n",
       "      <td>0.0</td>\n",
       "      <td>0.0</td>\n",
       "      <td>0.0</td>\n",
       "      <td>0.0</td>\n",
       "      <td>0.0</td>\n",
       "      <td>0.0</td>\n",
       "      <td>0.0</td>\n",
       "      <td>0.0</td>\n",
       "    </tr>\n",
       "    <tr>\n",
       "      <th>2</th>\n",
       "      <td>0.0</td>\n",
       "      <td>0.0</td>\n",
       "      <td>0.0</td>\n",
       "      <td>0.0</td>\n",
       "      <td>0.0</td>\n",
       "      <td>0.0</td>\n",
       "      <td>0.0</td>\n",
       "      <td>0.0</td>\n",
       "      <td>0.0</td>\n",
       "      <td>0.0</td>\n",
       "      <td>...</td>\n",
       "      <td>1.0</td>\n",
       "      <td>0.0</td>\n",
       "      <td>0.0</td>\n",
       "      <td>0.0</td>\n",
       "      <td>0.0</td>\n",
       "      <td>0.0</td>\n",
       "      <td>0.0</td>\n",
       "      <td>0.0</td>\n",
       "      <td>0.0</td>\n",
       "      <td>1.0</td>\n",
       "    </tr>\n",
       "    <tr>\n",
       "      <th>3</th>\n",
       "      <td>0.0</td>\n",
       "      <td>0.0</td>\n",
       "      <td>0.0</td>\n",
       "      <td>0.0</td>\n",
       "      <td>0.0</td>\n",
       "      <td>0.0</td>\n",
       "      <td>0.0</td>\n",
       "      <td>0.0</td>\n",
       "      <td>1.0</td>\n",
       "      <td>1.0</td>\n",
       "      <td>...</td>\n",
       "      <td>0.0</td>\n",
       "      <td>0.0</td>\n",
       "      <td>0.0</td>\n",
       "      <td>0.0</td>\n",
       "      <td>0.0</td>\n",
       "      <td>0.0</td>\n",
       "      <td>0.0</td>\n",
       "      <td>0.0</td>\n",
       "      <td>0.0</td>\n",
       "      <td>1.0</td>\n",
       "    </tr>\n",
       "    <tr>\n",
       "      <th>4</th>\n",
       "      <td>0.0</td>\n",
       "      <td>0.0</td>\n",
       "      <td>1.0</td>\n",
       "      <td>0.0</td>\n",
       "      <td>0.0</td>\n",
       "      <td>0.0</td>\n",
       "      <td>0.0</td>\n",
       "      <td>1.0</td>\n",
       "      <td>0.0</td>\n",
       "      <td>0.0</td>\n",
       "      <td>...</td>\n",
       "      <td>0.0</td>\n",
       "      <td>0.0</td>\n",
       "      <td>1.0</td>\n",
       "      <td>1.0</td>\n",
       "      <td>0.0</td>\n",
       "      <td>0.0</td>\n",
       "      <td>0.0</td>\n",
       "      <td>0.0</td>\n",
       "      <td>0.0</td>\n",
       "      <td>0.0</td>\n",
       "    </tr>\n",
       "    <tr>\n",
       "      <th>...</th>\n",
       "      <td>...</td>\n",
       "      <td>...</td>\n",
       "      <td>...</td>\n",
       "      <td>...</td>\n",
       "      <td>...</td>\n",
       "      <td>...</td>\n",
       "      <td>...</td>\n",
       "      <td>...</td>\n",
       "      <td>...</td>\n",
       "      <td>...</td>\n",
       "      <td>...</td>\n",
       "      <td>...</td>\n",
       "      <td>...</td>\n",
       "      <td>...</td>\n",
       "      <td>...</td>\n",
       "      <td>...</td>\n",
       "      <td>...</td>\n",
       "      <td>...</td>\n",
       "      <td>...</td>\n",
       "      <td>...</td>\n",
       "      <td>...</td>\n",
       "    </tr>\n",
       "    <tr>\n",
       "      <th>3014</th>\n",
       "      <td>0.0</td>\n",
       "      <td>0.0</td>\n",
       "      <td>0.0</td>\n",
       "      <td>0.0</td>\n",
       "      <td>1.0</td>\n",
       "      <td>0.0</td>\n",
       "      <td>0.0</td>\n",
       "      <td>0.0</td>\n",
       "      <td>0.0</td>\n",
       "      <td>0.0</td>\n",
       "      <td>...</td>\n",
       "      <td>0.0</td>\n",
       "      <td>0.0</td>\n",
       "      <td>0.0</td>\n",
       "      <td>0.0</td>\n",
       "      <td>1.0</td>\n",
       "      <td>0.0</td>\n",
       "      <td>0.0</td>\n",
       "      <td>0.0</td>\n",
       "      <td>0.0</td>\n",
       "      <td>0.0</td>\n",
       "    </tr>\n",
       "    <tr>\n",
       "      <th>3015</th>\n",
       "      <td>0.0</td>\n",
       "      <td>0.0</td>\n",
       "      <td>0.0</td>\n",
       "      <td>0.0</td>\n",
       "      <td>0.0</td>\n",
       "      <td>0.0</td>\n",
       "      <td>0.0</td>\n",
       "      <td>0.0</td>\n",
       "      <td>0.0</td>\n",
       "      <td>0.0</td>\n",
       "      <td>...</td>\n",
       "      <td>0.0</td>\n",
       "      <td>0.0</td>\n",
       "      <td>0.0</td>\n",
       "      <td>1.0</td>\n",
       "      <td>0.0</td>\n",
       "      <td>0.0</td>\n",
       "      <td>0.0</td>\n",
       "      <td>0.0</td>\n",
       "      <td>0.0</td>\n",
       "      <td>0.0</td>\n",
       "    </tr>\n",
       "    <tr>\n",
       "      <th>3016</th>\n",
       "      <td>0.0</td>\n",
       "      <td>0.0</td>\n",
       "      <td>0.0</td>\n",
       "      <td>0.0</td>\n",
       "      <td>0.0</td>\n",
       "      <td>0.0</td>\n",
       "      <td>0.0</td>\n",
       "      <td>1.0</td>\n",
       "      <td>0.0</td>\n",
       "      <td>0.0</td>\n",
       "      <td>...</td>\n",
       "      <td>0.0</td>\n",
       "      <td>0.0</td>\n",
       "      <td>0.0</td>\n",
       "      <td>1.0</td>\n",
       "      <td>0.0</td>\n",
       "      <td>0.0</td>\n",
       "      <td>0.0</td>\n",
       "      <td>0.0</td>\n",
       "      <td>0.0</td>\n",
       "      <td>0.0</td>\n",
       "    </tr>\n",
       "    <tr>\n",
       "      <th>3017</th>\n",
       "      <td>0.0</td>\n",
       "      <td>0.0</td>\n",
       "      <td>0.0</td>\n",
       "      <td>0.0</td>\n",
       "      <td>0.0</td>\n",
       "      <td>0.0</td>\n",
       "      <td>0.0</td>\n",
       "      <td>0.0</td>\n",
       "      <td>0.0</td>\n",
       "      <td>0.0</td>\n",
       "      <td>...</td>\n",
       "      <td>0.0</td>\n",
       "      <td>0.0</td>\n",
       "      <td>0.0</td>\n",
       "      <td>1.0</td>\n",
       "      <td>0.0</td>\n",
       "      <td>1.0</td>\n",
       "      <td>0.0</td>\n",
       "      <td>0.0</td>\n",
       "      <td>0.0</td>\n",
       "      <td>0.0</td>\n",
       "    </tr>\n",
       "    <tr>\n",
       "      <th>3018</th>\n",
       "      <td>0.0</td>\n",
       "      <td>0.0</td>\n",
       "      <td>0.0</td>\n",
       "      <td>0.0</td>\n",
       "      <td>0.0</td>\n",
       "      <td>0.0</td>\n",
       "      <td>0.0</td>\n",
       "      <td>0.0</td>\n",
       "      <td>0.0</td>\n",
       "      <td>0.0</td>\n",
       "      <td>...</td>\n",
       "      <td>0.0</td>\n",
       "      <td>0.0</td>\n",
       "      <td>0.0</td>\n",
       "      <td>0.0</td>\n",
       "      <td>1.0</td>\n",
       "      <td>0.0</td>\n",
       "      <td>0.0</td>\n",
       "      <td>0.0</td>\n",
       "      <td>0.0</td>\n",
       "      <td>0.0</td>\n",
       "    </tr>\n",
       "  </tbody>\n",
       "</table>\n",
       "<p>3019 rows × 62 columns</p>\n",
       "</div>"
      ],
      "text/plain": [
       "       0    1    2    3    4    5    6    7    8    9   ...   52   53   54  \\\n",
       "0     0.0  0.0  0.0  0.0  0.0  0.0  0.0  1.0  0.0  0.0  ...  0.0  1.0  0.0   \n",
       "1     0.0  0.0  0.0  0.0  0.0  0.0  0.0  0.0  1.0  0.0  ...  0.0  0.0  0.0   \n",
       "2     0.0  0.0  0.0  0.0  0.0  0.0  0.0  0.0  0.0  0.0  ...  1.0  0.0  0.0   \n",
       "3     0.0  0.0  0.0  0.0  0.0  0.0  0.0  0.0  1.0  1.0  ...  0.0  0.0  0.0   \n",
       "4     0.0  0.0  1.0  0.0  0.0  0.0  0.0  1.0  0.0  0.0  ...  0.0  0.0  1.0   \n",
       "...   ...  ...  ...  ...  ...  ...  ...  ...  ...  ...  ...  ...  ...  ...   \n",
       "3014  0.0  0.0  0.0  0.0  1.0  0.0  0.0  0.0  0.0  0.0  ...  0.0  0.0  0.0   \n",
       "3015  0.0  0.0  0.0  0.0  0.0  0.0  0.0  0.0  0.0  0.0  ...  0.0  0.0  0.0   \n",
       "3016  0.0  0.0  0.0  0.0  0.0  0.0  0.0  1.0  0.0  0.0  ...  0.0  0.0  0.0   \n",
       "3017  0.0  0.0  0.0  0.0  0.0  0.0  0.0  0.0  0.0  0.0  ...  0.0  0.0  0.0   \n",
       "3018  0.0  0.0  0.0  0.0  0.0  0.0  0.0  0.0  0.0  0.0  ...  0.0  0.0  0.0   \n",
       "\n",
       "       55   56   57   58   59   60   61  \n",
       "0     1.0  0.0  0.0  0.0  0.0  0.0  0.0  \n",
       "1     0.0  0.0  0.0  0.0  0.0  0.0  0.0  \n",
       "2     0.0  0.0  0.0  0.0  0.0  0.0  1.0  \n",
       "3     0.0  0.0  0.0  0.0  0.0  0.0  1.0  \n",
       "4     1.0  0.0  0.0  0.0  0.0  0.0  0.0  \n",
       "...   ...  ...  ...  ...  ...  ...  ...  \n",
       "3014  0.0  1.0  0.0  0.0  0.0  0.0  0.0  \n",
       "3015  1.0  0.0  0.0  0.0  0.0  0.0  0.0  \n",
       "3016  1.0  0.0  0.0  0.0  0.0  0.0  0.0  \n",
       "3017  1.0  0.0  1.0  0.0  0.0  0.0  0.0  \n",
       "3018  0.0  1.0  0.0  0.0  0.0  0.0  0.0  \n",
       "\n",
       "[3019 rows x 62 columns]"
      ]
     },
     "execution_count": 133,
     "metadata": {},
     "output_type": "execute_result"
    }
   ],
   "source": [
    "FP"
   ]
  },
  {
   "cell_type": "code",
   "execution_count": 134,
   "id": "e34b707e",
   "metadata": {},
   "outputs": [
    {
     "data": {
      "text/plain": [
       "0       0\n",
       "1       0\n",
       "2       0\n",
       "3       0\n",
       "4       0\n",
       "       ..\n",
       "3014    0\n",
       "3015    0\n",
       "3016    0\n",
       "3017    0\n",
       "3018    0\n",
       "Name: LABELS, Length: 3019, dtype: int64"
      ]
     },
     "execution_count": 134,
     "metadata": {},
     "output_type": "execute_result"
    }
   ],
   "source": [
    "fdata.LABELS.reset_index(drop=True)"
   ]
  },
  {
   "cell_type": "code",
   "execution_count": 135,
   "id": "a72dc8e3",
   "metadata": {},
   "outputs": [],
   "source": [
    "trainingData =  pd.concat([FP,fdata.LABELS.reset_index(drop=True)],axis=1)"
   ]
  },
  {
   "cell_type": "code",
   "execution_count": 136,
   "id": "865220b3",
   "metadata": {},
   "outputs": [
    {
     "data": {
      "text/html": [
       "<div>\n",
       "<style scoped>\n",
       "    .dataframe tbody tr th:only-of-type {\n",
       "        vertical-align: middle;\n",
       "    }\n",
       "\n",
       "    .dataframe tbody tr th {\n",
       "        vertical-align: top;\n",
       "    }\n",
       "\n",
       "    .dataframe thead th {\n",
       "        text-align: right;\n",
       "    }\n",
       "</style>\n",
       "<table border=\"1\" class=\"dataframe\">\n",
       "  <thead>\n",
       "    <tr style=\"text-align: right;\">\n",
       "      <th></th>\n",
       "      <th>0</th>\n",
       "      <th>1</th>\n",
       "      <th>2</th>\n",
       "      <th>3</th>\n",
       "      <th>4</th>\n",
       "      <th>5</th>\n",
       "      <th>6</th>\n",
       "      <th>7</th>\n",
       "      <th>8</th>\n",
       "      <th>9</th>\n",
       "      <th>...</th>\n",
       "      <th>53</th>\n",
       "      <th>54</th>\n",
       "      <th>55</th>\n",
       "      <th>56</th>\n",
       "      <th>57</th>\n",
       "      <th>58</th>\n",
       "      <th>59</th>\n",
       "      <th>60</th>\n",
       "      <th>61</th>\n",
       "      <th>LABELS</th>\n",
       "    </tr>\n",
       "  </thead>\n",
       "  <tbody>\n",
       "    <tr>\n",
       "      <th>0</th>\n",
       "      <td>0.0</td>\n",
       "      <td>0.0</td>\n",
       "      <td>0.0</td>\n",
       "      <td>0.0</td>\n",
       "      <td>0.0</td>\n",
       "      <td>0.0</td>\n",
       "      <td>0.0</td>\n",
       "      <td>1.0</td>\n",
       "      <td>0.0</td>\n",
       "      <td>0.0</td>\n",
       "      <td>...</td>\n",
       "      <td>1.0</td>\n",
       "      <td>0.0</td>\n",
       "      <td>1.0</td>\n",
       "      <td>0.0</td>\n",
       "      <td>0.0</td>\n",
       "      <td>0.0</td>\n",
       "      <td>0.0</td>\n",
       "      <td>0.0</td>\n",
       "      <td>0.0</td>\n",
       "      <td>0</td>\n",
       "    </tr>\n",
       "    <tr>\n",
       "      <th>1</th>\n",
       "      <td>0.0</td>\n",
       "      <td>0.0</td>\n",
       "      <td>0.0</td>\n",
       "      <td>0.0</td>\n",
       "      <td>0.0</td>\n",
       "      <td>0.0</td>\n",
       "      <td>0.0</td>\n",
       "      <td>0.0</td>\n",
       "      <td>1.0</td>\n",
       "      <td>0.0</td>\n",
       "      <td>...</td>\n",
       "      <td>0.0</td>\n",
       "      <td>0.0</td>\n",
       "      <td>0.0</td>\n",
       "      <td>0.0</td>\n",
       "      <td>0.0</td>\n",
       "      <td>0.0</td>\n",
       "      <td>0.0</td>\n",
       "      <td>0.0</td>\n",
       "      <td>0.0</td>\n",
       "      <td>0</td>\n",
       "    </tr>\n",
       "    <tr>\n",
       "      <th>2</th>\n",
       "      <td>0.0</td>\n",
       "      <td>0.0</td>\n",
       "      <td>0.0</td>\n",
       "      <td>0.0</td>\n",
       "      <td>0.0</td>\n",
       "      <td>0.0</td>\n",
       "      <td>0.0</td>\n",
       "      <td>0.0</td>\n",
       "      <td>0.0</td>\n",
       "      <td>0.0</td>\n",
       "      <td>...</td>\n",
       "      <td>0.0</td>\n",
       "      <td>0.0</td>\n",
       "      <td>0.0</td>\n",
       "      <td>0.0</td>\n",
       "      <td>0.0</td>\n",
       "      <td>0.0</td>\n",
       "      <td>0.0</td>\n",
       "      <td>0.0</td>\n",
       "      <td>1.0</td>\n",
       "      <td>0</td>\n",
       "    </tr>\n",
       "    <tr>\n",
       "      <th>3</th>\n",
       "      <td>0.0</td>\n",
       "      <td>0.0</td>\n",
       "      <td>0.0</td>\n",
       "      <td>0.0</td>\n",
       "      <td>0.0</td>\n",
       "      <td>0.0</td>\n",
       "      <td>0.0</td>\n",
       "      <td>0.0</td>\n",
       "      <td>1.0</td>\n",
       "      <td>1.0</td>\n",
       "      <td>...</td>\n",
       "      <td>0.0</td>\n",
       "      <td>0.0</td>\n",
       "      <td>0.0</td>\n",
       "      <td>0.0</td>\n",
       "      <td>0.0</td>\n",
       "      <td>0.0</td>\n",
       "      <td>0.0</td>\n",
       "      <td>0.0</td>\n",
       "      <td>1.0</td>\n",
       "      <td>0</td>\n",
       "    </tr>\n",
       "    <tr>\n",
       "      <th>4</th>\n",
       "      <td>0.0</td>\n",
       "      <td>0.0</td>\n",
       "      <td>1.0</td>\n",
       "      <td>0.0</td>\n",
       "      <td>0.0</td>\n",
       "      <td>0.0</td>\n",
       "      <td>0.0</td>\n",
       "      <td>1.0</td>\n",
       "      <td>0.0</td>\n",
       "      <td>0.0</td>\n",
       "      <td>...</td>\n",
       "      <td>0.0</td>\n",
       "      <td>1.0</td>\n",
       "      <td>1.0</td>\n",
       "      <td>0.0</td>\n",
       "      <td>0.0</td>\n",
       "      <td>0.0</td>\n",
       "      <td>0.0</td>\n",
       "      <td>0.0</td>\n",
       "      <td>0.0</td>\n",
       "      <td>0</td>\n",
       "    </tr>\n",
       "    <tr>\n",
       "      <th>...</th>\n",
       "      <td>...</td>\n",
       "      <td>...</td>\n",
       "      <td>...</td>\n",
       "      <td>...</td>\n",
       "      <td>...</td>\n",
       "      <td>...</td>\n",
       "      <td>...</td>\n",
       "      <td>...</td>\n",
       "      <td>...</td>\n",
       "      <td>...</td>\n",
       "      <td>...</td>\n",
       "      <td>...</td>\n",
       "      <td>...</td>\n",
       "      <td>...</td>\n",
       "      <td>...</td>\n",
       "      <td>...</td>\n",
       "      <td>...</td>\n",
       "      <td>...</td>\n",
       "      <td>...</td>\n",
       "      <td>...</td>\n",
       "      <td>...</td>\n",
       "    </tr>\n",
       "    <tr>\n",
       "      <th>3014</th>\n",
       "      <td>0.0</td>\n",
       "      <td>0.0</td>\n",
       "      <td>0.0</td>\n",
       "      <td>0.0</td>\n",
       "      <td>1.0</td>\n",
       "      <td>0.0</td>\n",
       "      <td>0.0</td>\n",
       "      <td>0.0</td>\n",
       "      <td>0.0</td>\n",
       "      <td>0.0</td>\n",
       "      <td>...</td>\n",
       "      <td>0.0</td>\n",
       "      <td>0.0</td>\n",
       "      <td>0.0</td>\n",
       "      <td>1.0</td>\n",
       "      <td>0.0</td>\n",
       "      <td>0.0</td>\n",
       "      <td>0.0</td>\n",
       "      <td>0.0</td>\n",
       "      <td>0.0</td>\n",
       "      <td>0</td>\n",
       "    </tr>\n",
       "    <tr>\n",
       "      <th>3015</th>\n",
       "      <td>0.0</td>\n",
       "      <td>0.0</td>\n",
       "      <td>0.0</td>\n",
       "      <td>0.0</td>\n",
       "      <td>0.0</td>\n",
       "      <td>0.0</td>\n",
       "      <td>0.0</td>\n",
       "      <td>0.0</td>\n",
       "      <td>0.0</td>\n",
       "      <td>0.0</td>\n",
       "      <td>...</td>\n",
       "      <td>0.0</td>\n",
       "      <td>0.0</td>\n",
       "      <td>1.0</td>\n",
       "      <td>0.0</td>\n",
       "      <td>0.0</td>\n",
       "      <td>0.0</td>\n",
       "      <td>0.0</td>\n",
       "      <td>0.0</td>\n",
       "      <td>0.0</td>\n",
       "      <td>0</td>\n",
       "    </tr>\n",
       "    <tr>\n",
       "      <th>3016</th>\n",
       "      <td>0.0</td>\n",
       "      <td>0.0</td>\n",
       "      <td>0.0</td>\n",
       "      <td>0.0</td>\n",
       "      <td>0.0</td>\n",
       "      <td>0.0</td>\n",
       "      <td>0.0</td>\n",
       "      <td>1.0</td>\n",
       "      <td>0.0</td>\n",
       "      <td>0.0</td>\n",
       "      <td>...</td>\n",
       "      <td>0.0</td>\n",
       "      <td>0.0</td>\n",
       "      <td>1.0</td>\n",
       "      <td>0.0</td>\n",
       "      <td>0.0</td>\n",
       "      <td>0.0</td>\n",
       "      <td>0.0</td>\n",
       "      <td>0.0</td>\n",
       "      <td>0.0</td>\n",
       "      <td>0</td>\n",
       "    </tr>\n",
       "    <tr>\n",
       "      <th>3017</th>\n",
       "      <td>0.0</td>\n",
       "      <td>0.0</td>\n",
       "      <td>0.0</td>\n",
       "      <td>0.0</td>\n",
       "      <td>0.0</td>\n",
       "      <td>0.0</td>\n",
       "      <td>0.0</td>\n",
       "      <td>0.0</td>\n",
       "      <td>0.0</td>\n",
       "      <td>0.0</td>\n",
       "      <td>...</td>\n",
       "      <td>0.0</td>\n",
       "      <td>0.0</td>\n",
       "      <td>1.0</td>\n",
       "      <td>0.0</td>\n",
       "      <td>1.0</td>\n",
       "      <td>0.0</td>\n",
       "      <td>0.0</td>\n",
       "      <td>0.0</td>\n",
       "      <td>0.0</td>\n",
       "      <td>0</td>\n",
       "    </tr>\n",
       "    <tr>\n",
       "      <th>3018</th>\n",
       "      <td>0.0</td>\n",
       "      <td>0.0</td>\n",
       "      <td>0.0</td>\n",
       "      <td>0.0</td>\n",
       "      <td>0.0</td>\n",
       "      <td>0.0</td>\n",
       "      <td>0.0</td>\n",
       "      <td>0.0</td>\n",
       "      <td>0.0</td>\n",
       "      <td>0.0</td>\n",
       "      <td>...</td>\n",
       "      <td>0.0</td>\n",
       "      <td>0.0</td>\n",
       "      <td>0.0</td>\n",
       "      <td>1.0</td>\n",
       "      <td>0.0</td>\n",
       "      <td>0.0</td>\n",
       "      <td>0.0</td>\n",
       "      <td>0.0</td>\n",
       "      <td>0.0</td>\n",
       "      <td>0</td>\n",
       "    </tr>\n",
       "  </tbody>\n",
       "</table>\n",
       "<p>3019 rows × 63 columns</p>\n",
       "</div>"
      ],
      "text/plain": [
       "        0    1    2    3    4    5    6    7    8    9  ...   53   54   55  \\\n",
       "0     0.0  0.0  0.0  0.0  0.0  0.0  0.0  1.0  0.0  0.0  ...  1.0  0.0  1.0   \n",
       "1     0.0  0.0  0.0  0.0  0.0  0.0  0.0  0.0  1.0  0.0  ...  0.0  0.0  0.0   \n",
       "2     0.0  0.0  0.0  0.0  0.0  0.0  0.0  0.0  0.0  0.0  ...  0.0  0.0  0.0   \n",
       "3     0.0  0.0  0.0  0.0  0.0  0.0  0.0  0.0  1.0  1.0  ...  0.0  0.0  0.0   \n",
       "4     0.0  0.0  1.0  0.0  0.0  0.0  0.0  1.0  0.0  0.0  ...  0.0  1.0  1.0   \n",
       "...   ...  ...  ...  ...  ...  ...  ...  ...  ...  ...  ...  ...  ...  ...   \n",
       "3014  0.0  0.0  0.0  0.0  1.0  0.0  0.0  0.0  0.0  0.0  ...  0.0  0.0  0.0   \n",
       "3015  0.0  0.0  0.0  0.0  0.0  0.0  0.0  0.0  0.0  0.0  ...  0.0  0.0  1.0   \n",
       "3016  0.0  0.0  0.0  0.0  0.0  0.0  0.0  1.0  0.0  0.0  ...  0.0  0.0  1.0   \n",
       "3017  0.0  0.0  0.0  0.0  0.0  0.0  0.0  0.0  0.0  0.0  ...  0.0  0.0  1.0   \n",
       "3018  0.0  0.0  0.0  0.0  0.0  0.0  0.0  0.0  0.0  0.0  ...  0.0  0.0  0.0   \n",
       "\n",
       "       56   57   58   59   60   61  LABELS  \n",
       "0     0.0  0.0  0.0  0.0  0.0  0.0       0  \n",
       "1     0.0  0.0  0.0  0.0  0.0  0.0       0  \n",
       "2     0.0  0.0  0.0  0.0  0.0  1.0       0  \n",
       "3     0.0  0.0  0.0  0.0  0.0  1.0       0  \n",
       "4     0.0  0.0  0.0  0.0  0.0  0.0       0  \n",
       "...   ...  ...  ...  ...  ...  ...     ...  \n",
       "3014  1.0  0.0  0.0  0.0  0.0  0.0       0  \n",
       "3015  0.0  0.0  0.0  0.0  0.0  0.0       0  \n",
       "3016  0.0  0.0  0.0  0.0  0.0  0.0       0  \n",
       "3017  0.0  1.0  0.0  0.0  0.0  0.0       0  \n",
       "3018  1.0  0.0  0.0  0.0  0.0  0.0       0  \n",
       "\n",
       "[3019 rows x 63 columns]"
      ]
     },
     "execution_count": 136,
     "metadata": {},
     "output_type": "execute_result"
    }
   ],
   "source": [
    "trainingData"
   ]
  },
  {
   "cell_type": "code",
   "execution_count": 137,
   "id": "ecc3fa74",
   "metadata": {},
   "outputs": [],
   "source": [
    "import pandas as pd\n",
    "import sklearn\n",
    "from sklearn import svm"
   ]
  },
  {
   "cell_type": "code",
   "execution_count": 139,
   "id": "88b6e779",
   "metadata": {},
   "outputs": [],
   "source": [
    "df =  trainingData"
   ]
  },
  {
   "cell_type": "code",
   "execution_count": 140,
   "id": "25527864",
   "metadata": {},
   "outputs": [],
   "source": [
    "from sklearn.model_selection import train_test_split\n",
    "from sklearn.metrics import accuracy_score,f1_score,recall_score,precision_score\n",
    "\n",
    "# X_train, X_test, y_train, y_test = train_test_split(trainingData.drop(\"LABELS\",axis=1), trainingData[\"LABELS\"], test_size=0.33, random_state=42,shuffle=True,stratify=trainingData.LABELS)\n",
    "\n",
    "X = df.drop(\"LABELS\",axis=1).to_numpy()\n",
    "y = df[\"LABELS\"].to_numpy()"
   ]
  },
  {
   "cell_type": "markdown",
   "id": "eba37c63",
   "metadata": {},
   "source": [
    "### Metrics"
   ]
  },
  {
   "cell_type": "code",
   "execution_count": 141,
   "id": "756956ab",
   "metadata": {},
   "outputs": [],
   "source": [
    "def Metrics(model,x,y):\n",
    "    y_predicted = model.predict(x)\n",
    "    \n",
    "    ##accuracy\n",
    "    accuracy = accuracy_score(y,y_predicted)\n",
    "    \n",
    "    ##Precision\n",
    "    precision = precision_score(y,y_predicted)\n",
    "    \n",
    "    ##Recall\n",
    "    recall = recall_score(y,y_predicted)\n",
    "    \n",
    "    ##F1 score\n",
    "    f1 = f1_score(y,y_predicted)\n",
    "    \n",
    "    return (accuracy,precision,recall,f1)"
   ]
  },
  {
   "cell_type": "markdown",
   "id": "b7ec43f0",
   "metadata": {},
   "source": [
    "### Train Loop"
   ]
  },
  {
   "cell_type": "code",
   "execution_count": 240,
   "id": "fd439c65",
   "metadata": {},
   "outputs": [],
   "source": [
    "from sklearn.model_selection import StratifiedKFold\n",
    "\n",
    "\n",
    "def trainLoop(clf,X,y):\n",
    "    \n",
    "    ### Train\n",
    "    acc_tr = []\n",
    "    pre_tr = []\n",
    "    rec_tr = []\n",
    "    f1_tr  = []\n",
    "\n",
    "\n",
    "    ### Test\n",
    "    acc_te = []\n",
    "    pre_te = []\n",
    "    rec_te = []\n",
    "    f1_te  = []\n",
    "\n",
    "\n",
    "    ## Stratified loop\n",
    "    skf = StratifiedKFold(n_splits=5,shuffle=True)\n",
    "    \n",
    "    for train_index, test_index in skf.split(X,y):\n",
    "        \n",
    "        #### Dataset splitting\n",
    "        X_train, X_test = X[train_index], X[test_index]\n",
    "        y_train, y_test = y[train_index], y[test_index]\n",
    "        \n",
    "        ### classifier fitting\n",
    "        clf.fit(X_train, y_train)\n",
    "        \n",
    "        ## metrics\n",
    "        train_metric = Metrics(clf,X_train,y_train)\n",
    "        test_metric = Metrics(clf,X_test,y_test)\n",
    "        \n",
    "        ## Appending all metrics\n",
    "        acc_tr.append(train_metric[0])\n",
    "        pre_tr.append(train_metric[1])\n",
    "        rec_tr.append(train_metric[2])\n",
    "        f1_tr.append(train_metric[3])\n",
    "        \n",
    "        \n",
    "        acc_te.append(test_metric[0])\n",
    "        pre_te.append(test_metric[1])\n",
    "        rec_te.append(test_metric[2])\n",
    "        f1_te.append(test_metric[3])\n",
    "\n",
    "        print(f\"\"\"Training metrics: accuracy:- {train_metric[0]}, precision:- {train_metric[1]}, Recall:- {train_metric[2]}, f1_score:- {train_metric[3]} \"\"\")\n",
    "        print()\n",
    "        print()\n",
    "        print(f\"\"\"Testing metrics: accuracy:- {test_metric[0]}, precision:- {test_metric[1]}, Recall:- {test_metric[2]}, f1_score:- {test_metric[3]} \"\"\")\n",
    "        \n",
    "    \n",
    "    ###  train average score \n",
    "    avg_train_acc = np.array(acc_tr).mean()\n",
    "    avg_train_pre = np.array(pre_tr).mean()\n",
    "    avg_train_rec = np.array(rec_tr).mean()\n",
    "    avg_train_f1  = np.array(f1_tr).mean()\n",
    "    \n",
    "    train_avg_score = (avg_train_acc,avg_train_pre,avg_train_rec,avg_train_f1)\n",
    "    \n",
    "    \n",
    "    ###  test average score \n",
    "    avg_test_acc = np.array(acc_te).mean()\n",
    "    avg_test_pre = np.array(pre_te).mean()\n",
    "    avg_test_rec = np.array(rec_te).mean()\n",
    "    avg_test_f1  = np.array(f1_te).mean()\n",
    "    \n",
    "    test_avg_score = (avg_test_acc,avg_test_pre,avg_test_rec,avg_test_f1)\n",
    "    \n",
    "    \n",
    "    return (train_avg_score,test_avg_score,(acc_te,pre_te,rec_te,f1_te))"
   ]
  },
  {
   "cell_type": "markdown",
   "id": "f89c223a",
   "metadata": {},
   "source": [
    "### Training with dummy classifier only"
   ]
  },
  {
   "cell_type": "code",
   "execution_count": 144,
   "id": "45c47200",
   "metadata": {},
   "outputs": [],
   "source": [
    "from sklearn.dummy import DummyClassifier"
   ]
  },
  {
   "cell_type": "code",
   "execution_count": 145,
   "id": "29a82cb3",
   "metadata": {},
   "outputs": [],
   "source": [
    "dummy_clf = DummyClassifier(strategy=\"uniform\",random_state=444)"
   ]
  },
  {
   "cell_type": "code",
   "execution_count": 146,
   "id": "e6592bdb",
   "metadata": {},
   "outputs": [
    {
     "name": "stdout",
     "output_type": "stream",
     "text": [
      "Training metrics: accuracy:- 0.5126293995859214, precision:- 0.6177703269069572, Recall:- 0.5054869684499315, f1_score:- 0.5560165975103735 \n",
      "\n",
      "\n",
      "Testing metrics: accuracy:- 0.5033112582781457, precision:- 0.608843537414966, Recall:- 0.49175824175824173, f1_score:- 0.5440729483282675 \n",
      "Training metrics: accuracy:- 0.5126293995859214, precision:- 0.6177703269069572, Recall:- 0.5054869684499315, f1_score:- 0.5560165975103735 \n",
      "\n",
      "\n",
      "Testing metrics: accuracy:- 0.5264900662251656, precision:- 0.6326530612244898, Recall:- 0.510989010989011, f1_score:- 0.5653495440729484 \n",
      "Training metrics: accuracy:- 0.5014492753623189, precision:- 0.606035205364627, Recall:- 0.4962251201098147, f1_score:- 0.5456603773584906 \n",
      "\n",
      "\n",
      "Testing metrics: accuracy:- 0.5215231788079471, precision:- 0.6292517006802721, Recall:- 0.5068493150684932, f1_score:- 0.5614567526555386 \n",
      "Training metrics: accuracy:- 0.5014492753623189, precision:- 0.606035205364627, Recall:- 0.4962251201098147, f1_score:- 0.5456603773584906 \n",
      "\n",
      "\n",
      "Testing metrics: accuracy:- 0.4817880794701987, precision:- 0.5884353741496599, Recall:- 0.473972602739726, f1_score:- 0.5250379362670713 \n",
      "Training metrics: accuracy:- 0.5016556291390728, precision:- 0.6063651591289783, Recall:- 0.49657064471879286, f1_score:- 0.5460030165912519 \n",
      "\n",
      "\n",
      "Testing metrics: accuracy:- 0.5107794361525705, precision:- 0.6177474402730375, Recall:- 0.49725274725274726, f1_score:- 0.5509893455098934 \n",
      "----------------------------------------------------\n",
      " training metrics: accuracy:- 0.5059625958071107, precision:- 0.6107952447344294, Recall:- 0.499998964367657, F1 score:- 0.549871393265796  \n",
      "\n",
      "\n",
      " Test metrics: accuracy:- 0.5087784037868055, precision:- 0.6153862227484851, Recall:- 0.4961643835616439, F1 score:- 0.5493813053667438  \n"
     ]
    }
   ],
   "source": [
    "res = trainLoop(dummy_clf,X,y)\n",
    "print(\"----------------------------------------------------\")\n",
    "print(f\"\"\" training metrics: accuracy:- {res[0][0]}, precision:- {res[0][1]}, Recall:- {res[0][2]}, F1 score:- {res[0][3]}  \"\"\")\n",
    "print()\n",
    "print()\n",
    "print(f\"\"\" Test metrics: accuracy:- {res[1][0]}, precision:- {res[1][1]}, Recall:- {res[1][2]}, F1 score:- {res[1][3]}  \"\"\")"
   ]
  },
  {
   "cell_type": "markdown",
   "id": "4cccccf4",
   "metadata": {},
   "source": [
    "### With SVM"
   ]
  },
  {
   "cell_type": "code",
   "execution_count": 147,
   "id": "5626a027",
   "metadata": {},
   "outputs": [],
   "source": [
    "### SVM classifier with default parameters\n",
    "clf = svm.SVC()"
   ]
  },
  {
   "cell_type": "code",
   "execution_count": 148,
   "id": "cebf5fc5",
   "metadata": {},
   "outputs": [
    {
     "name": "stdout",
     "output_type": "stream",
     "text": [
      "Training metrics: accuracy:- 0.7171842650103519, precision:- 0.6952141057934509, Recall:- 0.9465020576131687, f1_score:- 0.801626488527447 \n",
      "\n",
      "\n",
      "Testing metrics: accuracy:- 0.6374172185430463, precision:- 0.6476578411405295, Recall:- 0.8736263736263736, f1_score:- 0.743859649122807 \n",
      "Training metrics: accuracy:- 0.713871635610766, precision:- 0.7008905185961236, Recall:- 0.9176954732510288, f1_score:- 0.7947727947727948 \n",
      "\n",
      "\n",
      "Testing metrics: accuracy:- 0.6208609271523179, precision:- 0.6331360946745562, Recall:- 0.8818681318681318, f1_score:- 0.7370838117106774 \n",
      "Training metrics: accuracy:- 0.7076604554865424, precision:- 0.6932578486875965, Recall:- 0.9245024021962938, f1_score:- 0.7923529411764707 \n",
      "\n",
      "\n",
      "Testing metrics: accuracy:- 0.6109271523178808, precision:- 0.6331967213114754, Recall:- 0.8465753424657534, f1_score:- 0.7245017584994138 \n",
      "Training metrics: accuracy:- 0.7167701863354037, precision:- 0.6960933536276002, Recall:- 0.9416609471516816, f1_score:- 0.8004667444574096 \n",
      "\n",
      "\n",
      "Testing metrics: accuracy:- 0.6572847682119205, precision:- 0.658, Recall:- 0.9013698630136986, f1_score:- 0.7606936416184971 \n",
      "Training metrics: accuracy:- 0.7255794701986755, precision:- 0.7054263565891473, Recall:- 0.9362139917695473, f1_score:- 0.8045977011494254 \n",
      "\n",
      "\n",
      "Testing metrics: accuracy:- 0.648424543946932, precision:- 0.6583333333333333, Recall:- 0.8681318681318682, f1_score:- 0.7488151658767772 \n",
      "----------------------------------------------------\n",
      " training metrics: accuracy:- 0.7162132025283479, precision:- 0.6981764366587837, Recall:- 0.933314974396344, F1 score:- 0.7987633340167095  \n",
      "\n",
      "\n",
      " Test metrics: accuracy:- 0.6349829220344196, precision:- 0.6460647980919789, Recall:- 0.8743143158211651, F1 score:- 0.7429908053656346  \n"
     ]
    }
   ],
   "source": [
    "res = trainLoop(clf,X,y)\n",
    "print(\"----------------------------------------------------\")\n",
    "print(f\"\"\" training metrics: accuracy:- {res[0][0]}, precision:- {res[0][1]}, Recall:- {res[0][2]}, F1 score:- {res[0][3]}  \"\"\")\n",
    "print()\n",
    "print()\n",
    "print(f\"\"\" Test metrics: accuracy:- {res[1][0]}, precision:- {res[1][1]}, Recall:- {res[1][2]}, F1 score:- {res[1][3]}  \"\"\")"
   ]
  },
  {
   "cell_type": "markdown",
   "id": "6f2157df",
   "metadata": {},
   "source": [
    "#### With random Forest"
   ]
  },
  {
   "cell_type": "code",
   "execution_count": 152,
   "id": "70932397",
   "metadata": {},
   "outputs": [],
   "source": [
    "from sklearn.ensemble import RandomForestClassifier"
   ]
  },
  {
   "cell_type": "code",
   "execution_count": 153,
   "id": "bbcc945a",
   "metadata": {},
   "outputs": [],
   "source": [
    "clf = RandomForestClassifier()"
   ]
  },
  {
   "cell_type": "code",
   "execution_count": 154,
   "id": "d76ca151",
   "metadata": {},
   "outputs": [
    {
     "name": "stdout",
     "output_type": "stream",
     "text": [
      "Training metrics: accuracy:- 0.9118012422360249, precision:- 0.907128842380641, Recall:- 0.9513031550068587, f1_score:- 0.928690994308671 \n",
      "\n",
      "\n",
      "Testing metrics: accuracy:- 0.6192052980132451, precision:- 0.6700507614213198, Recall:- 0.7252747252747253, f1_score:- 0.6965699208443272 \n",
      "Training metrics: accuracy:- 0.9113871635610766, precision:- 0.8976982097186701, Recall:- 0.9629629629629629, f1_score:- 0.9291859695565852 \n",
      "\n",
      "\n",
      "Testing metrics: accuracy:- 0.5943708609271523, precision:- 0.6380510440835266, Recall:- 0.7554945054945055, f1_score:- 0.6918238993710693 \n",
      "Training metrics: accuracy:- 0.9101449275362319, precision:- 0.8979460847240052, Recall:- 0.9601921757035004, f1_score:- 0.9280265339966832 \n",
      "\n",
      "\n",
      "Testing metrics: accuracy:- 0.5943708609271523, precision:- 0.6363636363636364, Recall:- 0.7671232876712328, f1_score:- 0.6956521739130435 \n",
      "Training metrics: accuracy:- 0.9130434782608695, precision:- 0.908316961362148, Recall:- 0.9519560741249142, f1_score:- 0.9296246648793566 \n",
      "\n",
      "\n",
      "Testing metrics: accuracy:- 0.5761589403973509, precision:- 0.6288416075650118, Recall:- 0.7287671232876712, f1_score:- 0.6751269035532994 \n",
      "Training metrics: accuracy:- 0.9072847682119205, precision:- 0.908068783068783, Recall:- 0.9417009602194787, f1_score:- 0.9245791245791245 \n",
      "\n",
      "\n",
      "Testing metrics: accuracy:- 0.6053067993366501, precision:- 0.6575, Recall:- 0.7225274725274725, f1_score:- 0.6884816753926702 \n",
      "----------------------------------------------------\n",
      " training metrics: accuracy:- 0.9107323159612246, precision:- 0.9038317762508494, Recall:- 0.953623065603543, F1 score:- 0.928021457464084  \n",
      "\n",
      "\n",
      " Test metrics: accuracy:- 0.5978825519203103, precision:- 0.6461614098866988, Recall:- 0.7398374228511215, F1 score:- 0.6895309146148818  \n"
     ]
    }
   ],
   "source": [
    "res = trainLoop(clf,X,y)\n",
    "print(\"----------------------------------------------------\")\n",
    "print(f\"\"\" training metrics: accuracy:- {res[0][0]}, precision:- {res[0][1]}, Recall:- {res[0][2]}, F1 score:- {res[0][3]}  \"\"\")\n",
    "print()\n",
    "print()\n",
    "print(f\"\"\" Test metrics: accuracy:- {res[1][0]}, precision:- {res[1][1]}, Recall:- {res[1][2]}, F1 score:- {res[1][3]}  \"\"\")"
   ]
  },
  {
   "cell_type": "markdown",
   "id": "d72a559a",
   "metadata": {},
   "source": [
    "### With Naive Byes"
   ]
  },
  {
   "cell_type": "code",
   "execution_count": 156,
   "id": "029700e2",
   "metadata": {},
   "outputs": [],
   "source": [
    "from sklearn.naive_bayes import BernoulliNB\n",
    "## Model\n",
    "clf = BernoulliNB()"
   ]
  },
  {
   "cell_type": "code",
   "execution_count": 157,
   "id": "4177a1fc",
   "metadata": {},
   "outputs": [
    {
     "name": "stdout",
     "output_type": "stream",
     "text": [
      "Training metrics: accuracy:- 0.6107660455486542, precision:- 0.6651785714285714, Recall:- 0.7153635116598079, f1_score:- 0.689358889623265 \n",
      "\n",
      "\n",
      "Testing metrics: accuracy:- 0.5993377483443708, precision:- 0.6532663316582915, Recall:- 0.7142857142857143, f1_score:- 0.6824146981627297 \n",
      "Training metrics: accuracy:- 0.6057971014492753, precision:- 0.6642857142857143, Recall:- 0.7016460905349794, f1_score:- 0.6824549699799866 \n",
      "\n",
      "\n",
      "Testing metrics: accuracy:- 0.5513245033112583, precision:- 0.624, Recall:- 0.6428571428571429, f1_score:- 0.6332882273342355 \n",
      "Training metrics: accuracy:- 0.6236024844720497, precision:- 0.6495633187772926, Recall:- 0.8167467398764585, f1_score:- 0.7236242018850714 \n",
      "\n",
      "\n",
      "Testing metrics: accuracy:- 0.6341059602649006, precision:- 0.6592920353982301, Recall:- 0.8164383561643835, f1_score:- 0.7294981640146879 \n",
      "Training metrics: accuracy:- 0.6169772256728778, precision:- 0.654292343387471, Recall:- 0.7741935483870968, f1_score:- 0.7092109399559886 \n",
      "\n",
      "\n",
      "Testing metrics: accuracy:- 0.6291390728476821, precision:- 0.6577181208053692, Recall:- 0.8054794520547945, f1_score:- 0.7241379310344827 \n",
      "Training metrics: accuracy:- 0.617135761589404, precision:- 0.6658369632856254, Recall:- 0.7338820301783264, f1_score:- 0.6982055464926591 \n",
      "\n",
      "\n",
      "Testing metrics: accuracy:- 0.5887230514096186, precision:- 0.6400966183574879, Recall:- 0.728021978021978, f1_score:- 0.6812339331619537 \n",
      "----------------------------------------------------\n",
      " training metrics: accuracy:- 0.6148557237464523, precision:- 0.6598313822329349, Recall:- 0.7483663841273338, F1 score:- 0.7005709095873941  \n",
      "\n",
      "\n",
      " Test metrics: accuracy:- 0.6005260672355661, precision:- 0.6468746212438757, Recall:- 0.7414165286768026, F1 score:- 0.690114590741618  \n"
     ]
    }
   ],
   "source": [
    "res = trainLoop(clf,X,y)\n",
    "print(\"----------------------------------------------------\")\n",
    "print(f\"\"\" training metrics: accuracy:- {res[0][0]}, precision:- {res[0][1]}, Recall:- {res[0][2]}, F1 score:- {res[0][3]}  \"\"\")\n",
    "print()\n",
    "print()\n",
    "print(f\"\"\" Test metrics: accuracy:- {res[1][0]}, precision:- {res[1][1]}, Recall:- {res[1][2]}, F1 score:- {res[1][3]}  \"\"\")"
   ]
  },
  {
   "cell_type": "markdown",
   "id": "c996b686",
   "metadata": {},
   "source": [
    "### With MorganFingerprint and InteractionFingerprint"
   ]
  },
  {
   "cell_type": "code",
   "execution_count": 241,
   "id": "fe6651cd",
   "metadata": {},
   "outputs": [],
   "source": [
    "import rdkit\n",
    "from rdkit.Chem import MolFromSmiles\n",
    "from rdkit.Chem.AllChem import GetMorganFingerprintAsBitVect"
   ]
  },
  {
   "cell_type": "code",
   "execution_count": 242,
   "id": "83ebbe6f",
   "metadata": {},
   "outputs": [],
   "source": [
    "def fp_gen(smi):\n",
    "    return GetMorganFingerprintAsBitVect(MolFromSmiles(smi),2,nBits=1024)"
   ]
  },
  {
   "cell_type": "code",
   "execution_count": 243,
   "id": "e3f08118",
   "metadata": {},
   "outputs": [],
   "source": [
    "fdata[\"fingerprint\"] =fdata.SMILES.apply(fp_gen)"
   ]
  },
  {
   "cell_type": "code",
   "execution_count": 244,
   "id": "38cc2aaf",
   "metadata": {},
   "outputs": [],
   "source": [
    "fp_array = []\n",
    "for i in fdata.fingerprint:\n",
    "    fp_array.append(list(i))"
   ]
  },
  {
   "cell_type": "code",
   "execution_count": 245,
   "id": "c6326419",
   "metadata": {},
   "outputs": [],
   "source": [
    "fp = pd.DataFrame(fp_array)"
   ]
  },
  {
   "cell_type": "code",
   "execution_count": 246,
   "id": "890e780a",
   "metadata": {},
   "outputs": [
    {
     "data": {
      "text/html": [
       "<div>\n",
       "<style scoped>\n",
       "    .dataframe tbody tr th:only-of-type {\n",
       "        vertical-align: middle;\n",
       "    }\n",
       "\n",
       "    .dataframe tbody tr th {\n",
       "        vertical-align: top;\n",
       "    }\n",
       "\n",
       "    .dataframe thead th {\n",
       "        text-align: right;\n",
       "    }\n",
       "</style>\n",
       "<table border=\"1\" class=\"dataframe\">\n",
       "  <thead>\n",
       "    <tr style=\"text-align: right;\">\n",
       "      <th></th>\n",
       "      <th>0</th>\n",
       "      <th>1</th>\n",
       "      <th>2</th>\n",
       "      <th>3</th>\n",
       "      <th>4</th>\n",
       "      <th>5</th>\n",
       "      <th>6</th>\n",
       "      <th>7</th>\n",
       "      <th>8</th>\n",
       "      <th>9</th>\n",
       "      <th>...</th>\n",
       "      <th>1014</th>\n",
       "      <th>1015</th>\n",
       "      <th>1016</th>\n",
       "      <th>1017</th>\n",
       "      <th>1018</th>\n",
       "      <th>1019</th>\n",
       "      <th>1020</th>\n",
       "      <th>1021</th>\n",
       "      <th>1022</th>\n",
       "      <th>1023</th>\n",
       "    </tr>\n",
       "  </thead>\n",
       "  <tbody>\n",
       "    <tr>\n",
       "      <th>0</th>\n",
       "      <td>0</td>\n",
       "      <td>0</td>\n",
       "      <td>0</td>\n",
       "      <td>0</td>\n",
       "      <td>1</td>\n",
       "      <td>0</td>\n",
       "      <td>0</td>\n",
       "      <td>0</td>\n",
       "      <td>0</td>\n",
       "      <td>0</td>\n",
       "      <td>...</td>\n",
       "      <td>0</td>\n",
       "      <td>0</td>\n",
       "      <td>0</td>\n",
       "      <td>0</td>\n",
       "      <td>0</td>\n",
       "      <td>0</td>\n",
       "      <td>0</td>\n",
       "      <td>0</td>\n",
       "      <td>0</td>\n",
       "      <td>0</td>\n",
       "    </tr>\n",
       "    <tr>\n",
       "      <th>1</th>\n",
       "      <td>0</td>\n",
       "      <td>1</td>\n",
       "      <td>0</td>\n",
       "      <td>0</td>\n",
       "      <td>0</td>\n",
       "      <td>0</td>\n",
       "      <td>0</td>\n",
       "      <td>0</td>\n",
       "      <td>0</td>\n",
       "      <td>0</td>\n",
       "      <td>...</td>\n",
       "      <td>0</td>\n",
       "      <td>0</td>\n",
       "      <td>0</td>\n",
       "      <td>0</td>\n",
       "      <td>0</td>\n",
       "      <td>1</td>\n",
       "      <td>0</td>\n",
       "      <td>0</td>\n",
       "      <td>0</td>\n",
       "      <td>0</td>\n",
       "    </tr>\n",
       "    <tr>\n",
       "      <th>2</th>\n",
       "      <td>0</td>\n",
       "      <td>0</td>\n",
       "      <td>0</td>\n",
       "      <td>0</td>\n",
       "      <td>0</td>\n",
       "      <td>0</td>\n",
       "      <td>0</td>\n",
       "      <td>0</td>\n",
       "      <td>0</td>\n",
       "      <td>0</td>\n",
       "      <td>...</td>\n",
       "      <td>0</td>\n",
       "      <td>0</td>\n",
       "      <td>0</td>\n",
       "      <td>0</td>\n",
       "      <td>0</td>\n",
       "      <td>0</td>\n",
       "      <td>0</td>\n",
       "      <td>1</td>\n",
       "      <td>0</td>\n",
       "      <td>0</td>\n",
       "    </tr>\n",
       "    <tr>\n",
       "      <th>3</th>\n",
       "      <td>0</td>\n",
       "      <td>0</td>\n",
       "      <td>0</td>\n",
       "      <td>0</td>\n",
       "      <td>0</td>\n",
       "      <td>0</td>\n",
       "      <td>0</td>\n",
       "      <td>0</td>\n",
       "      <td>0</td>\n",
       "      <td>0</td>\n",
       "      <td>...</td>\n",
       "      <td>0</td>\n",
       "      <td>0</td>\n",
       "      <td>0</td>\n",
       "      <td>0</td>\n",
       "      <td>0</td>\n",
       "      <td>0</td>\n",
       "      <td>0</td>\n",
       "      <td>0</td>\n",
       "      <td>0</td>\n",
       "      <td>0</td>\n",
       "    </tr>\n",
       "    <tr>\n",
       "      <th>4</th>\n",
       "      <td>0</td>\n",
       "      <td>0</td>\n",
       "      <td>0</td>\n",
       "      <td>0</td>\n",
       "      <td>0</td>\n",
       "      <td>0</td>\n",
       "      <td>0</td>\n",
       "      <td>0</td>\n",
       "      <td>0</td>\n",
       "      <td>0</td>\n",
       "      <td>...</td>\n",
       "      <td>0</td>\n",
       "      <td>0</td>\n",
       "      <td>0</td>\n",
       "      <td>0</td>\n",
       "      <td>0</td>\n",
       "      <td>1</td>\n",
       "      <td>0</td>\n",
       "      <td>0</td>\n",
       "      <td>0</td>\n",
       "      <td>0</td>\n",
       "    </tr>\n",
       "    <tr>\n",
       "      <th>...</th>\n",
       "      <td>...</td>\n",
       "      <td>...</td>\n",
       "      <td>...</td>\n",
       "      <td>...</td>\n",
       "      <td>...</td>\n",
       "      <td>...</td>\n",
       "      <td>...</td>\n",
       "      <td>...</td>\n",
       "      <td>...</td>\n",
       "      <td>...</td>\n",
       "      <td>...</td>\n",
       "      <td>...</td>\n",
       "      <td>...</td>\n",
       "      <td>...</td>\n",
       "      <td>...</td>\n",
       "      <td>...</td>\n",
       "      <td>...</td>\n",
       "      <td>...</td>\n",
       "      <td>...</td>\n",
       "      <td>...</td>\n",
       "      <td>...</td>\n",
       "    </tr>\n",
       "    <tr>\n",
       "      <th>3014</th>\n",
       "      <td>0</td>\n",
       "      <td>0</td>\n",
       "      <td>0</td>\n",
       "      <td>0</td>\n",
       "      <td>0</td>\n",
       "      <td>0</td>\n",
       "      <td>0</td>\n",
       "      <td>0</td>\n",
       "      <td>0</td>\n",
       "      <td>0</td>\n",
       "      <td>...</td>\n",
       "      <td>0</td>\n",
       "      <td>0</td>\n",
       "      <td>0</td>\n",
       "      <td>0</td>\n",
       "      <td>0</td>\n",
       "      <td>0</td>\n",
       "      <td>0</td>\n",
       "      <td>0</td>\n",
       "      <td>0</td>\n",
       "      <td>0</td>\n",
       "    </tr>\n",
       "    <tr>\n",
       "      <th>3015</th>\n",
       "      <td>0</td>\n",
       "      <td>0</td>\n",
       "      <td>0</td>\n",
       "      <td>0</td>\n",
       "      <td>0</td>\n",
       "      <td>1</td>\n",
       "      <td>0</td>\n",
       "      <td>0</td>\n",
       "      <td>0</td>\n",
       "      <td>0</td>\n",
       "      <td>...</td>\n",
       "      <td>0</td>\n",
       "      <td>0</td>\n",
       "      <td>0</td>\n",
       "      <td>0</td>\n",
       "      <td>0</td>\n",
       "      <td>1</td>\n",
       "      <td>0</td>\n",
       "      <td>0</td>\n",
       "      <td>0</td>\n",
       "      <td>0</td>\n",
       "    </tr>\n",
       "    <tr>\n",
       "      <th>3016</th>\n",
       "      <td>0</td>\n",
       "      <td>0</td>\n",
       "      <td>0</td>\n",
       "      <td>0</td>\n",
       "      <td>0</td>\n",
       "      <td>0</td>\n",
       "      <td>0</td>\n",
       "      <td>0</td>\n",
       "      <td>0</td>\n",
       "      <td>0</td>\n",
       "      <td>...</td>\n",
       "      <td>0</td>\n",
       "      <td>0</td>\n",
       "      <td>0</td>\n",
       "      <td>0</td>\n",
       "      <td>0</td>\n",
       "      <td>0</td>\n",
       "      <td>0</td>\n",
       "      <td>0</td>\n",
       "      <td>0</td>\n",
       "      <td>0</td>\n",
       "    </tr>\n",
       "    <tr>\n",
       "      <th>3017</th>\n",
       "      <td>0</td>\n",
       "      <td>0</td>\n",
       "      <td>0</td>\n",
       "      <td>0</td>\n",
       "      <td>0</td>\n",
       "      <td>0</td>\n",
       "      <td>0</td>\n",
       "      <td>0</td>\n",
       "      <td>0</td>\n",
       "      <td>0</td>\n",
       "      <td>...</td>\n",
       "      <td>0</td>\n",
       "      <td>0</td>\n",
       "      <td>0</td>\n",
       "      <td>0</td>\n",
       "      <td>0</td>\n",
       "      <td>0</td>\n",
       "      <td>0</td>\n",
       "      <td>0</td>\n",
       "      <td>0</td>\n",
       "      <td>0</td>\n",
       "    </tr>\n",
       "    <tr>\n",
       "      <th>3018</th>\n",
       "      <td>0</td>\n",
       "      <td>0</td>\n",
       "      <td>0</td>\n",
       "      <td>0</td>\n",
       "      <td>0</td>\n",
       "      <td>0</td>\n",
       "      <td>0</td>\n",
       "      <td>0</td>\n",
       "      <td>0</td>\n",
       "      <td>0</td>\n",
       "      <td>...</td>\n",
       "      <td>0</td>\n",
       "      <td>0</td>\n",
       "      <td>0</td>\n",
       "      <td>0</td>\n",
       "      <td>0</td>\n",
       "      <td>0</td>\n",
       "      <td>0</td>\n",
       "      <td>0</td>\n",
       "      <td>0</td>\n",
       "      <td>0</td>\n",
       "    </tr>\n",
       "  </tbody>\n",
       "</table>\n",
       "<p>3019 rows × 1024 columns</p>\n",
       "</div>"
      ],
      "text/plain": [
       "      0     1     2     3     4     5     6     7     8     9     ...  1014  \\\n",
       "0        0     0     0     0     1     0     0     0     0     0  ...     0   \n",
       "1        0     1     0     0     0     0     0     0     0     0  ...     0   \n",
       "2        0     0     0     0     0     0     0     0     0     0  ...     0   \n",
       "3        0     0     0     0     0     0     0     0     0     0  ...     0   \n",
       "4        0     0     0     0     0     0     0     0     0     0  ...     0   \n",
       "...    ...   ...   ...   ...   ...   ...   ...   ...   ...   ...  ...   ...   \n",
       "3014     0     0     0     0     0     0     0     0     0     0  ...     0   \n",
       "3015     0     0     0     0     0     1     0     0     0     0  ...     0   \n",
       "3016     0     0     0     0     0     0     0     0     0     0  ...     0   \n",
       "3017     0     0     0     0     0     0     0     0     0     0  ...     0   \n",
       "3018     0     0     0     0     0     0     0     0     0     0  ...     0   \n",
       "\n",
       "      1015  1016  1017  1018  1019  1020  1021  1022  1023  \n",
       "0        0     0     0     0     0     0     0     0     0  \n",
       "1        0     0     0     0     1     0     0     0     0  \n",
       "2        0     0     0     0     0     0     1     0     0  \n",
       "3        0     0     0     0     0     0     0     0     0  \n",
       "4        0     0     0     0     1     0     0     0     0  \n",
       "...    ...   ...   ...   ...   ...   ...   ...   ...   ...  \n",
       "3014     0     0     0     0     0     0     0     0     0  \n",
       "3015     0     0     0     0     1     0     0     0     0  \n",
       "3016     0     0     0     0     0     0     0     0     0  \n",
       "3017     0     0     0     0     0     0     0     0     0  \n",
       "3018     0     0     0     0     0     0     0     0     0  \n",
       "\n",
       "[3019 rows x 1024 columns]"
      ]
     },
     "execution_count": 246,
     "metadata": {},
     "output_type": "execute_result"
    }
   ],
   "source": [
    "fp #### Morgan Fingerprint"
   ]
  },
  {
   "cell_type": "code",
   "execution_count": 247,
   "id": "9564e82a",
   "metadata": {},
   "outputs": [],
   "source": [
    " ### Interaction FP"
   ]
  },
  {
   "cell_type": "code",
   "execution_count": 248,
   "id": "d3378f9e",
   "metadata": {},
   "outputs": [
    {
     "data": {
      "text/html": [
       "<div>\n",
       "<style scoped>\n",
       "    .dataframe tbody tr th:only-of-type {\n",
       "        vertical-align: middle;\n",
       "    }\n",
       "\n",
       "    .dataframe tbody tr th {\n",
       "        vertical-align: top;\n",
       "    }\n",
       "\n",
       "    .dataframe thead th {\n",
       "        text-align: right;\n",
       "    }\n",
       "</style>\n",
       "<table border=\"1\" class=\"dataframe\">\n",
       "  <thead>\n",
       "    <tr style=\"text-align: right;\">\n",
       "      <th></th>\n",
       "      <th>0</th>\n",
       "      <th>1</th>\n",
       "      <th>2</th>\n",
       "      <th>3</th>\n",
       "      <th>4</th>\n",
       "      <th>5</th>\n",
       "      <th>6</th>\n",
       "      <th>7</th>\n",
       "      <th>8</th>\n",
       "      <th>9</th>\n",
       "      <th>...</th>\n",
       "      <th>52</th>\n",
       "      <th>53</th>\n",
       "      <th>54</th>\n",
       "      <th>55</th>\n",
       "      <th>56</th>\n",
       "      <th>57</th>\n",
       "      <th>58</th>\n",
       "      <th>59</th>\n",
       "      <th>60</th>\n",
       "      <th>61</th>\n",
       "    </tr>\n",
       "  </thead>\n",
       "  <tbody>\n",
       "    <tr>\n",
       "      <th>0</th>\n",
       "      <td>0.0</td>\n",
       "      <td>0.0</td>\n",
       "      <td>0.0</td>\n",
       "      <td>0.0</td>\n",
       "      <td>0.0</td>\n",
       "      <td>0.0</td>\n",
       "      <td>0.0</td>\n",
       "      <td>1.0</td>\n",
       "      <td>0.0</td>\n",
       "      <td>0.0</td>\n",
       "      <td>...</td>\n",
       "      <td>0.0</td>\n",
       "      <td>1.0</td>\n",
       "      <td>0.0</td>\n",
       "      <td>1.0</td>\n",
       "      <td>0.0</td>\n",
       "      <td>0.0</td>\n",
       "      <td>0.0</td>\n",
       "      <td>0.0</td>\n",
       "      <td>0.0</td>\n",
       "      <td>0.0</td>\n",
       "    </tr>\n",
       "    <tr>\n",
       "      <th>1</th>\n",
       "      <td>0.0</td>\n",
       "      <td>0.0</td>\n",
       "      <td>0.0</td>\n",
       "      <td>0.0</td>\n",
       "      <td>0.0</td>\n",
       "      <td>0.0</td>\n",
       "      <td>0.0</td>\n",
       "      <td>0.0</td>\n",
       "      <td>1.0</td>\n",
       "      <td>0.0</td>\n",
       "      <td>...</td>\n",
       "      <td>0.0</td>\n",
       "      <td>0.0</td>\n",
       "      <td>0.0</td>\n",
       "      <td>0.0</td>\n",
       "      <td>0.0</td>\n",
       "      <td>0.0</td>\n",
       "      <td>0.0</td>\n",
       "      <td>0.0</td>\n",
       "      <td>0.0</td>\n",
       "      <td>0.0</td>\n",
       "    </tr>\n",
       "    <tr>\n",
       "      <th>2</th>\n",
       "      <td>0.0</td>\n",
       "      <td>0.0</td>\n",
       "      <td>0.0</td>\n",
       "      <td>0.0</td>\n",
       "      <td>0.0</td>\n",
       "      <td>0.0</td>\n",
       "      <td>0.0</td>\n",
       "      <td>0.0</td>\n",
       "      <td>0.0</td>\n",
       "      <td>0.0</td>\n",
       "      <td>...</td>\n",
       "      <td>1.0</td>\n",
       "      <td>0.0</td>\n",
       "      <td>0.0</td>\n",
       "      <td>0.0</td>\n",
       "      <td>0.0</td>\n",
       "      <td>0.0</td>\n",
       "      <td>0.0</td>\n",
       "      <td>0.0</td>\n",
       "      <td>0.0</td>\n",
       "      <td>1.0</td>\n",
       "    </tr>\n",
       "    <tr>\n",
       "      <th>3</th>\n",
       "      <td>0.0</td>\n",
       "      <td>0.0</td>\n",
       "      <td>0.0</td>\n",
       "      <td>0.0</td>\n",
       "      <td>0.0</td>\n",
       "      <td>0.0</td>\n",
       "      <td>0.0</td>\n",
       "      <td>0.0</td>\n",
       "      <td>1.0</td>\n",
       "      <td>1.0</td>\n",
       "      <td>...</td>\n",
       "      <td>0.0</td>\n",
       "      <td>0.0</td>\n",
       "      <td>0.0</td>\n",
       "      <td>0.0</td>\n",
       "      <td>0.0</td>\n",
       "      <td>0.0</td>\n",
       "      <td>0.0</td>\n",
       "      <td>0.0</td>\n",
       "      <td>0.0</td>\n",
       "      <td>1.0</td>\n",
       "    </tr>\n",
       "    <tr>\n",
       "      <th>4</th>\n",
       "      <td>0.0</td>\n",
       "      <td>0.0</td>\n",
       "      <td>1.0</td>\n",
       "      <td>0.0</td>\n",
       "      <td>0.0</td>\n",
       "      <td>0.0</td>\n",
       "      <td>0.0</td>\n",
       "      <td>1.0</td>\n",
       "      <td>0.0</td>\n",
       "      <td>0.0</td>\n",
       "      <td>...</td>\n",
       "      <td>0.0</td>\n",
       "      <td>0.0</td>\n",
       "      <td>1.0</td>\n",
       "      <td>1.0</td>\n",
       "      <td>0.0</td>\n",
       "      <td>0.0</td>\n",
       "      <td>0.0</td>\n",
       "      <td>0.0</td>\n",
       "      <td>0.0</td>\n",
       "      <td>0.0</td>\n",
       "    </tr>\n",
       "    <tr>\n",
       "      <th>...</th>\n",
       "      <td>...</td>\n",
       "      <td>...</td>\n",
       "      <td>...</td>\n",
       "      <td>...</td>\n",
       "      <td>...</td>\n",
       "      <td>...</td>\n",
       "      <td>...</td>\n",
       "      <td>...</td>\n",
       "      <td>...</td>\n",
       "      <td>...</td>\n",
       "      <td>...</td>\n",
       "      <td>...</td>\n",
       "      <td>...</td>\n",
       "      <td>...</td>\n",
       "      <td>...</td>\n",
       "      <td>...</td>\n",
       "      <td>...</td>\n",
       "      <td>...</td>\n",
       "      <td>...</td>\n",
       "      <td>...</td>\n",
       "      <td>...</td>\n",
       "    </tr>\n",
       "    <tr>\n",
       "      <th>3014</th>\n",
       "      <td>0.0</td>\n",
       "      <td>0.0</td>\n",
       "      <td>0.0</td>\n",
       "      <td>0.0</td>\n",
       "      <td>1.0</td>\n",
       "      <td>0.0</td>\n",
       "      <td>0.0</td>\n",
       "      <td>0.0</td>\n",
       "      <td>0.0</td>\n",
       "      <td>0.0</td>\n",
       "      <td>...</td>\n",
       "      <td>0.0</td>\n",
       "      <td>0.0</td>\n",
       "      <td>0.0</td>\n",
       "      <td>0.0</td>\n",
       "      <td>1.0</td>\n",
       "      <td>0.0</td>\n",
       "      <td>0.0</td>\n",
       "      <td>0.0</td>\n",
       "      <td>0.0</td>\n",
       "      <td>0.0</td>\n",
       "    </tr>\n",
       "    <tr>\n",
       "      <th>3015</th>\n",
       "      <td>0.0</td>\n",
       "      <td>0.0</td>\n",
       "      <td>0.0</td>\n",
       "      <td>0.0</td>\n",
       "      <td>0.0</td>\n",
       "      <td>0.0</td>\n",
       "      <td>0.0</td>\n",
       "      <td>0.0</td>\n",
       "      <td>0.0</td>\n",
       "      <td>0.0</td>\n",
       "      <td>...</td>\n",
       "      <td>0.0</td>\n",
       "      <td>0.0</td>\n",
       "      <td>0.0</td>\n",
       "      <td>1.0</td>\n",
       "      <td>0.0</td>\n",
       "      <td>0.0</td>\n",
       "      <td>0.0</td>\n",
       "      <td>0.0</td>\n",
       "      <td>0.0</td>\n",
       "      <td>0.0</td>\n",
       "    </tr>\n",
       "    <tr>\n",
       "      <th>3016</th>\n",
       "      <td>0.0</td>\n",
       "      <td>0.0</td>\n",
       "      <td>0.0</td>\n",
       "      <td>0.0</td>\n",
       "      <td>0.0</td>\n",
       "      <td>0.0</td>\n",
       "      <td>0.0</td>\n",
       "      <td>1.0</td>\n",
       "      <td>0.0</td>\n",
       "      <td>0.0</td>\n",
       "      <td>...</td>\n",
       "      <td>0.0</td>\n",
       "      <td>0.0</td>\n",
       "      <td>0.0</td>\n",
       "      <td>1.0</td>\n",
       "      <td>0.0</td>\n",
       "      <td>0.0</td>\n",
       "      <td>0.0</td>\n",
       "      <td>0.0</td>\n",
       "      <td>0.0</td>\n",
       "      <td>0.0</td>\n",
       "    </tr>\n",
       "    <tr>\n",
       "      <th>3017</th>\n",
       "      <td>0.0</td>\n",
       "      <td>0.0</td>\n",
       "      <td>0.0</td>\n",
       "      <td>0.0</td>\n",
       "      <td>0.0</td>\n",
       "      <td>0.0</td>\n",
       "      <td>0.0</td>\n",
       "      <td>0.0</td>\n",
       "      <td>0.0</td>\n",
       "      <td>0.0</td>\n",
       "      <td>...</td>\n",
       "      <td>0.0</td>\n",
       "      <td>0.0</td>\n",
       "      <td>0.0</td>\n",
       "      <td>1.0</td>\n",
       "      <td>0.0</td>\n",
       "      <td>1.0</td>\n",
       "      <td>0.0</td>\n",
       "      <td>0.0</td>\n",
       "      <td>0.0</td>\n",
       "      <td>0.0</td>\n",
       "    </tr>\n",
       "    <tr>\n",
       "      <th>3018</th>\n",
       "      <td>0.0</td>\n",
       "      <td>0.0</td>\n",
       "      <td>0.0</td>\n",
       "      <td>0.0</td>\n",
       "      <td>0.0</td>\n",
       "      <td>0.0</td>\n",
       "      <td>0.0</td>\n",
       "      <td>0.0</td>\n",
       "      <td>0.0</td>\n",
       "      <td>0.0</td>\n",
       "      <td>...</td>\n",
       "      <td>0.0</td>\n",
       "      <td>0.0</td>\n",
       "      <td>0.0</td>\n",
       "      <td>0.0</td>\n",
       "      <td>1.0</td>\n",
       "      <td>0.0</td>\n",
       "      <td>0.0</td>\n",
       "      <td>0.0</td>\n",
       "      <td>0.0</td>\n",
       "      <td>0.0</td>\n",
       "    </tr>\n",
       "  </tbody>\n",
       "</table>\n",
       "<p>3019 rows × 62 columns</p>\n",
       "</div>"
      ],
      "text/plain": [
       "       0    1    2    3    4    5    6    7    8    9   ...   52   53   54  \\\n",
       "0     0.0  0.0  0.0  0.0  0.0  0.0  0.0  1.0  0.0  0.0  ...  0.0  1.0  0.0   \n",
       "1     0.0  0.0  0.0  0.0  0.0  0.0  0.0  0.0  1.0  0.0  ...  0.0  0.0  0.0   \n",
       "2     0.0  0.0  0.0  0.0  0.0  0.0  0.0  0.0  0.0  0.0  ...  1.0  0.0  0.0   \n",
       "3     0.0  0.0  0.0  0.0  0.0  0.0  0.0  0.0  1.0  1.0  ...  0.0  0.0  0.0   \n",
       "4     0.0  0.0  1.0  0.0  0.0  0.0  0.0  1.0  0.0  0.0  ...  0.0  0.0  1.0   \n",
       "...   ...  ...  ...  ...  ...  ...  ...  ...  ...  ...  ...  ...  ...  ...   \n",
       "3014  0.0  0.0  0.0  0.0  1.0  0.0  0.0  0.0  0.0  0.0  ...  0.0  0.0  0.0   \n",
       "3015  0.0  0.0  0.0  0.0  0.0  0.0  0.0  0.0  0.0  0.0  ...  0.0  0.0  0.0   \n",
       "3016  0.0  0.0  0.0  0.0  0.0  0.0  0.0  1.0  0.0  0.0  ...  0.0  0.0  0.0   \n",
       "3017  0.0  0.0  0.0  0.0  0.0  0.0  0.0  0.0  0.0  0.0  ...  0.0  0.0  0.0   \n",
       "3018  0.0  0.0  0.0  0.0  0.0  0.0  0.0  0.0  0.0  0.0  ...  0.0  0.0  0.0   \n",
       "\n",
       "       55   56   57   58   59   60   61  \n",
       "0     1.0  0.0  0.0  0.0  0.0  0.0  0.0  \n",
       "1     0.0  0.0  0.0  0.0  0.0  0.0  0.0  \n",
       "2     0.0  0.0  0.0  0.0  0.0  0.0  1.0  \n",
       "3     0.0  0.0  0.0  0.0  0.0  0.0  1.0  \n",
       "4     1.0  0.0  0.0  0.0  0.0  0.0  0.0  \n",
       "...   ...  ...  ...  ...  ...  ...  ...  \n",
       "3014  0.0  1.0  0.0  0.0  0.0  0.0  0.0  \n",
       "3015  1.0  0.0  0.0  0.0  0.0  0.0  0.0  \n",
       "3016  1.0  0.0  0.0  0.0  0.0  0.0  0.0  \n",
       "3017  1.0  0.0  1.0  0.0  0.0  0.0  0.0  \n",
       "3018  0.0  1.0  0.0  0.0  0.0  0.0  0.0  \n",
       "\n",
       "[3019 rows x 62 columns]"
      ]
     },
     "execution_count": 248,
     "metadata": {},
     "output_type": "execute_result"
    }
   ],
   "source": [
    "FP"
   ]
  },
  {
   "cell_type": "code",
   "execution_count": 249,
   "id": "9e20a1d5",
   "metadata": {},
   "outputs": [],
   "source": [
    "#### Combining morgan fingerprint with Interaction FP to improve predictive power\n",
    "final_fp = pd.concat([fp,FP,fdata.LABELS.reset_index(drop=True)],axis=1)"
   ]
  },
  {
   "cell_type": "code",
   "execution_count": 250,
   "id": "d31e267f",
   "metadata": {},
   "outputs": [
    {
     "data": {
      "text/html": [
       "<div>\n",
       "<style scoped>\n",
       "    .dataframe tbody tr th:only-of-type {\n",
       "        vertical-align: middle;\n",
       "    }\n",
       "\n",
       "    .dataframe tbody tr th {\n",
       "        vertical-align: top;\n",
       "    }\n",
       "\n",
       "    .dataframe thead th {\n",
       "        text-align: right;\n",
       "    }\n",
       "</style>\n",
       "<table border=\"1\" class=\"dataframe\">\n",
       "  <thead>\n",
       "    <tr style=\"text-align: right;\">\n",
       "      <th></th>\n",
       "      <th>0</th>\n",
       "      <th>1</th>\n",
       "      <th>2</th>\n",
       "      <th>3</th>\n",
       "      <th>4</th>\n",
       "      <th>5</th>\n",
       "      <th>6</th>\n",
       "      <th>7</th>\n",
       "      <th>8</th>\n",
       "      <th>9</th>\n",
       "      <th>...</th>\n",
       "      <th>53</th>\n",
       "      <th>54</th>\n",
       "      <th>55</th>\n",
       "      <th>56</th>\n",
       "      <th>57</th>\n",
       "      <th>58</th>\n",
       "      <th>59</th>\n",
       "      <th>60</th>\n",
       "      <th>61</th>\n",
       "      <th>LABELS</th>\n",
       "    </tr>\n",
       "  </thead>\n",
       "  <tbody>\n",
       "    <tr>\n",
       "      <th>0</th>\n",
       "      <td>0</td>\n",
       "      <td>0</td>\n",
       "      <td>0</td>\n",
       "      <td>0</td>\n",
       "      <td>1</td>\n",
       "      <td>0</td>\n",
       "      <td>0</td>\n",
       "      <td>0</td>\n",
       "      <td>0</td>\n",
       "      <td>0</td>\n",
       "      <td>...</td>\n",
       "      <td>1.0</td>\n",
       "      <td>0.0</td>\n",
       "      <td>1.0</td>\n",
       "      <td>0.0</td>\n",
       "      <td>0.0</td>\n",
       "      <td>0.0</td>\n",
       "      <td>0.0</td>\n",
       "      <td>0.0</td>\n",
       "      <td>0.0</td>\n",
       "      <td>0</td>\n",
       "    </tr>\n",
       "    <tr>\n",
       "      <th>1</th>\n",
       "      <td>0</td>\n",
       "      <td>1</td>\n",
       "      <td>0</td>\n",
       "      <td>0</td>\n",
       "      <td>0</td>\n",
       "      <td>0</td>\n",
       "      <td>0</td>\n",
       "      <td>0</td>\n",
       "      <td>0</td>\n",
       "      <td>0</td>\n",
       "      <td>...</td>\n",
       "      <td>0.0</td>\n",
       "      <td>0.0</td>\n",
       "      <td>0.0</td>\n",
       "      <td>0.0</td>\n",
       "      <td>0.0</td>\n",
       "      <td>0.0</td>\n",
       "      <td>0.0</td>\n",
       "      <td>0.0</td>\n",
       "      <td>0.0</td>\n",
       "      <td>0</td>\n",
       "    </tr>\n",
       "    <tr>\n",
       "      <th>2</th>\n",
       "      <td>0</td>\n",
       "      <td>0</td>\n",
       "      <td>0</td>\n",
       "      <td>0</td>\n",
       "      <td>0</td>\n",
       "      <td>0</td>\n",
       "      <td>0</td>\n",
       "      <td>0</td>\n",
       "      <td>0</td>\n",
       "      <td>0</td>\n",
       "      <td>...</td>\n",
       "      <td>0.0</td>\n",
       "      <td>0.0</td>\n",
       "      <td>0.0</td>\n",
       "      <td>0.0</td>\n",
       "      <td>0.0</td>\n",
       "      <td>0.0</td>\n",
       "      <td>0.0</td>\n",
       "      <td>0.0</td>\n",
       "      <td>1.0</td>\n",
       "      <td>0</td>\n",
       "    </tr>\n",
       "    <tr>\n",
       "      <th>3</th>\n",
       "      <td>0</td>\n",
       "      <td>0</td>\n",
       "      <td>0</td>\n",
       "      <td>0</td>\n",
       "      <td>0</td>\n",
       "      <td>0</td>\n",
       "      <td>0</td>\n",
       "      <td>0</td>\n",
       "      <td>0</td>\n",
       "      <td>0</td>\n",
       "      <td>...</td>\n",
       "      <td>0.0</td>\n",
       "      <td>0.0</td>\n",
       "      <td>0.0</td>\n",
       "      <td>0.0</td>\n",
       "      <td>0.0</td>\n",
       "      <td>0.0</td>\n",
       "      <td>0.0</td>\n",
       "      <td>0.0</td>\n",
       "      <td>1.0</td>\n",
       "      <td>0</td>\n",
       "    </tr>\n",
       "    <tr>\n",
       "      <th>4</th>\n",
       "      <td>0</td>\n",
       "      <td>0</td>\n",
       "      <td>0</td>\n",
       "      <td>0</td>\n",
       "      <td>0</td>\n",
       "      <td>0</td>\n",
       "      <td>0</td>\n",
       "      <td>0</td>\n",
       "      <td>0</td>\n",
       "      <td>0</td>\n",
       "      <td>...</td>\n",
       "      <td>0.0</td>\n",
       "      <td>1.0</td>\n",
       "      <td>1.0</td>\n",
       "      <td>0.0</td>\n",
       "      <td>0.0</td>\n",
       "      <td>0.0</td>\n",
       "      <td>0.0</td>\n",
       "      <td>0.0</td>\n",
       "      <td>0.0</td>\n",
       "      <td>0</td>\n",
       "    </tr>\n",
       "    <tr>\n",
       "      <th>...</th>\n",
       "      <td>...</td>\n",
       "      <td>...</td>\n",
       "      <td>...</td>\n",
       "      <td>...</td>\n",
       "      <td>...</td>\n",
       "      <td>...</td>\n",
       "      <td>...</td>\n",
       "      <td>...</td>\n",
       "      <td>...</td>\n",
       "      <td>...</td>\n",
       "      <td>...</td>\n",
       "      <td>...</td>\n",
       "      <td>...</td>\n",
       "      <td>...</td>\n",
       "      <td>...</td>\n",
       "      <td>...</td>\n",
       "      <td>...</td>\n",
       "      <td>...</td>\n",
       "      <td>...</td>\n",
       "      <td>...</td>\n",
       "      <td>...</td>\n",
       "    </tr>\n",
       "    <tr>\n",
       "      <th>3014</th>\n",
       "      <td>0</td>\n",
       "      <td>0</td>\n",
       "      <td>0</td>\n",
       "      <td>0</td>\n",
       "      <td>0</td>\n",
       "      <td>0</td>\n",
       "      <td>0</td>\n",
       "      <td>0</td>\n",
       "      <td>0</td>\n",
       "      <td>0</td>\n",
       "      <td>...</td>\n",
       "      <td>0.0</td>\n",
       "      <td>0.0</td>\n",
       "      <td>0.0</td>\n",
       "      <td>1.0</td>\n",
       "      <td>0.0</td>\n",
       "      <td>0.0</td>\n",
       "      <td>0.0</td>\n",
       "      <td>0.0</td>\n",
       "      <td>0.0</td>\n",
       "      <td>0</td>\n",
       "    </tr>\n",
       "    <tr>\n",
       "      <th>3015</th>\n",
       "      <td>0</td>\n",
       "      <td>0</td>\n",
       "      <td>0</td>\n",
       "      <td>0</td>\n",
       "      <td>0</td>\n",
       "      <td>1</td>\n",
       "      <td>0</td>\n",
       "      <td>0</td>\n",
       "      <td>0</td>\n",
       "      <td>0</td>\n",
       "      <td>...</td>\n",
       "      <td>0.0</td>\n",
       "      <td>0.0</td>\n",
       "      <td>1.0</td>\n",
       "      <td>0.0</td>\n",
       "      <td>0.0</td>\n",
       "      <td>0.0</td>\n",
       "      <td>0.0</td>\n",
       "      <td>0.0</td>\n",
       "      <td>0.0</td>\n",
       "      <td>0</td>\n",
       "    </tr>\n",
       "    <tr>\n",
       "      <th>3016</th>\n",
       "      <td>0</td>\n",
       "      <td>0</td>\n",
       "      <td>0</td>\n",
       "      <td>0</td>\n",
       "      <td>0</td>\n",
       "      <td>0</td>\n",
       "      <td>0</td>\n",
       "      <td>0</td>\n",
       "      <td>0</td>\n",
       "      <td>0</td>\n",
       "      <td>...</td>\n",
       "      <td>0.0</td>\n",
       "      <td>0.0</td>\n",
       "      <td>1.0</td>\n",
       "      <td>0.0</td>\n",
       "      <td>0.0</td>\n",
       "      <td>0.0</td>\n",
       "      <td>0.0</td>\n",
       "      <td>0.0</td>\n",
       "      <td>0.0</td>\n",
       "      <td>0</td>\n",
       "    </tr>\n",
       "    <tr>\n",
       "      <th>3017</th>\n",
       "      <td>0</td>\n",
       "      <td>0</td>\n",
       "      <td>0</td>\n",
       "      <td>0</td>\n",
       "      <td>0</td>\n",
       "      <td>0</td>\n",
       "      <td>0</td>\n",
       "      <td>0</td>\n",
       "      <td>0</td>\n",
       "      <td>0</td>\n",
       "      <td>...</td>\n",
       "      <td>0.0</td>\n",
       "      <td>0.0</td>\n",
       "      <td>1.0</td>\n",
       "      <td>0.0</td>\n",
       "      <td>1.0</td>\n",
       "      <td>0.0</td>\n",
       "      <td>0.0</td>\n",
       "      <td>0.0</td>\n",
       "      <td>0.0</td>\n",
       "      <td>0</td>\n",
       "    </tr>\n",
       "    <tr>\n",
       "      <th>3018</th>\n",
       "      <td>0</td>\n",
       "      <td>0</td>\n",
       "      <td>0</td>\n",
       "      <td>0</td>\n",
       "      <td>0</td>\n",
       "      <td>0</td>\n",
       "      <td>0</td>\n",
       "      <td>0</td>\n",
       "      <td>0</td>\n",
       "      <td>0</td>\n",
       "      <td>...</td>\n",
       "      <td>0.0</td>\n",
       "      <td>0.0</td>\n",
       "      <td>0.0</td>\n",
       "      <td>1.0</td>\n",
       "      <td>0.0</td>\n",
       "      <td>0.0</td>\n",
       "      <td>0.0</td>\n",
       "      <td>0.0</td>\n",
       "      <td>0.0</td>\n",
       "      <td>0</td>\n",
       "    </tr>\n",
       "  </tbody>\n",
       "</table>\n",
       "<p>3019 rows × 1087 columns</p>\n",
       "</div>"
      ],
      "text/plain": [
       "      0  1  2  3  4  5  6  7  8  9  ...   53   54   55   56   57   58   59  \\\n",
       "0     0  0  0  0  1  0  0  0  0  0  ...  1.0  0.0  1.0  0.0  0.0  0.0  0.0   \n",
       "1     0  1  0  0  0  0  0  0  0  0  ...  0.0  0.0  0.0  0.0  0.0  0.0  0.0   \n",
       "2     0  0  0  0  0  0  0  0  0  0  ...  0.0  0.0  0.0  0.0  0.0  0.0  0.0   \n",
       "3     0  0  0  0  0  0  0  0  0  0  ...  0.0  0.0  0.0  0.0  0.0  0.0  0.0   \n",
       "4     0  0  0  0  0  0  0  0  0  0  ...  0.0  1.0  1.0  0.0  0.0  0.0  0.0   \n",
       "...  .. .. .. .. .. .. .. .. .. ..  ...  ...  ...  ...  ...  ...  ...  ...   \n",
       "3014  0  0  0  0  0  0  0  0  0  0  ...  0.0  0.0  0.0  1.0  0.0  0.0  0.0   \n",
       "3015  0  0  0  0  0  1  0  0  0  0  ...  0.0  0.0  1.0  0.0  0.0  0.0  0.0   \n",
       "3016  0  0  0  0  0  0  0  0  0  0  ...  0.0  0.0  1.0  0.0  0.0  0.0  0.0   \n",
       "3017  0  0  0  0  0  0  0  0  0  0  ...  0.0  0.0  1.0  0.0  1.0  0.0  0.0   \n",
       "3018  0  0  0  0  0  0  0  0  0  0  ...  0.0  0.0  0.0  1.0  0.0  0.0  0.0   \n",
       "\n",
       "       60   61  LABELS  \n",
       "0     0.0  0.0       0  \n",
       "1     0.0  0.0       0  \n",
       "2     0.0  1.0       0  \n",
       "3     0.0  1.0       0  \n",
       "4     0.0  0.0       0  \n",
       "...   ...  ...     ...  \n",
       "3014  0.0  0.0       0  \n",
       "3015  0.0  0.0       0  \n",
       "3016  0.0  0.0       0  \n",
       "3017  0.0  0.0       0  \n",
       "3018  0.0  0.0       0  \n",
       "\n",
       "[3019 rows x 1087 columns]"
      ]
     },
     "execution_count": 250,
     "metadata": {},
     "output_type": "execute_result"
    }
   ],
   "source": [
    "final_fp"
   ]
  },
  {
   "cell_type": "code",
   "execution_count": 251,
   "id": "01242152",
   "metadata": {},
   "outputs": [],
   "source": [
    "final_fp.columns = [i for i in range(1087)]"
   ]
  },
  {
   "cell_type": "code",
   "execution_count": 252,
   "id": "310bc4a7",
   "metadata": {},
   "outputs": [
    {
     "data": {
      "text/html": [
       "<div>\n",
       "<style scoped>\n",
       "    .dataframe tbody tr th:only-of-type {\n",
       "        vertical-align: middle;\n",
       "    }\n",
       "\n",
       "    .dataframe tbody tr th {\n",
       "        vertical-align: top;\n",
       "    }\n",
       "\n",
       "    .dataframe thead th {\n",
       "        text-align: right;\n",
       "    }\n",
       "</style>\n",
       "<table border=\"1\" class=\"dataframe\">\n",
       "  <thead>\n",
       "    <tr style=\"text-align: right;\">\n",
       "      <th></th>\n",
       "      <th>0</th>\n",
       "      <th>1</th>\n",
       "      <th>2</th>\n",
       "      <th>3</th>\n",
       "      <th>4</th>\n",
       "      <th>5</th>\n",
       "      <th>6</th>\n",
       "      <th>7</th>\n",
       "      <th>8</th>\n",
       "      <th>9</th>\n",
       "      <th>...</th>\n",
       "      <th>1077</th>\n",
       "      <th>1078</th>\n",
       "      <th>1079</th>\n",
       "      <th>1080</th>\n",
       "      <th>1081</th>\n",
       "      <th>1082</th>\n",
       "      <th>1083</th>\n",
       "      <th>1084</th>\n",
       "      <th>1085</th>\n",
       "      <th>1086</th>\n",
       "    </tr>\n",
       "  </thead>\n",
       "  <tbody>\n",
       "    <tr>\n",
       "      <th>0</th>\n",
       "      <td>0</td>\n",
       "      <td>0</td>\n",
       "      <td>0</td>\n",
       "      <td>0</td>\n",
       "      <td>1</td>\n",
       "      <td>0</td>\n",
       "      <td>0</td>\n",
       "      <td>0</td>\n",
       "      <td>0</td>\n",
       "      <td>0</td>\n",
       "      <td>...</td>\n",
       "      <td>1.0</td>\n",
       "      <td>0.0</td>\n",
       "      <td>1.0</td>\n",
       "      <td>0.0</td>\n",
       "      <td>0.0</td>\n",
       "      <td>0.0</td>\n",
       "      <td>0.0</td>\n",
       "      <td>0.0</td>\n",
       "      <td>0.0</td>\n",
       "      <td>0</td>\n",
       "    </tr>\n",
       "    <tr>\n",
       "      <th>1</th>\n",
       "      <td>0</td>\n",
       "      <td>1</td>\n",
       "      <td>0</td>\n",
       "      <td>0</td>\n",
       "      <td>0</td>\n",
       "      <td>0</td>\n",
       "      <td>0</td>\n",
       "      <td>0</td>\n",
       "      <td>0</td>\n",
       "      <td>0</td>\n",
       "      <td>...</td>\n",
       "      <td>0.0</td>\n",
       "      <td>0.0</td>\n",
       "      <td>0.0</td>\n",
       "      <td>0.0</td>\n",
       "      <td>0.0</td>\n",
       "      <td>0.0</td>\n",
       "      <td>0.0</td>\n",
       "      <td>0.0</td>\n",
       "      <td>0.0</td>\n",
       "      <td>0</td>\n",
       "    </tr>\n",
       "    <tr>\n",
       "      <th>2</th>\n",
       "      <td>0</td>\n",
       "      <td>0</td>\n",
       "      <td>0</td>\n",
       "      <td>0</td>\n",
       "      <td>0</td>\n",
       "      <td>0</td>\n",
       "      <td>0</td>\n",
       "      <td>0</td>\n",
       "      <td>0</td>\n",
       "      <td>0</td>\n",
       "      <td>...</td>\n",
       "      <td>0.0</td>\n",
       "      <td>0.0</td>\n",
       "      <td>0.0</td>\n",
       "      <td>0.0</td>\n",
       "      <td>0.0</td>\n",
       "      <td>0.0</td>\n",
       "      <td>0.0</td>\n",
       "      <td>0.0</td>\n",
       "      <td>1.0</td>\n",
       "      <td>0</td>\n",
       "    </tr>\n",
       "    <tr>\n",
       "      <th>3</th>\n",
       "      <td>0</td>\n",
       "      <td>0</td>\n",
       "      <td>0</td>\n",
       "      <td>0</td>\n",
       "      <td>0</td>\n",
       "      <td>0</td>\n",
       "      <td>0</td>\n",
       "      <td>0</td>\n",
       "      <td>0</td>\n",
       "      <td>0</td>\n",
       "      <td>...</td>\n",
       "      <td>0.0</td>\n",
       "      <td>0.0</td>\n",
       "      <td>0.0</td>\n",
       "      <td>0.0</td>\n",
       "      <td>0.0</td>\n",
       "      <td>0.0</td>\n",
       "      <td>0.0</td>\n",
       "      <td>0.0</td>\n",
       "      <td>1.0</td>\n",
       "      <td>0</td>\n",
       "    </tr>\n",
       "    <tr>\n",
       "      <th>4</th>\n",
       "      <td>0</td>\n",
       "      <td>0</td>\n",
       "      <td>0</td>\n",
       "      <td>0</td>\n",
       "      <td>0</td>\n",
       "      <td>0</td>\n",
       "      <td>0</td>\n",
       "      <td>0</td>\n",
       "      <td>0</td>\n",
       "      <td>0</td>\n",
       "      <td>...</td>\n",
       "      <td>0.0</td>\n",
       "      <td>1.0</td>\n",
       "      <td>1.0</td>\n",
       "      <td>0.0</td>\n",
       "      <td>0.0</td>\n",
       "      <td>0.0</td>\n",
       "      <td>0.0</td>\n",
       "      <td>0.0</td>\n",
       "      <td>0.0</td>\n",
       "      <td>0</td>\n",
       "    </tr>\n",
       "    <tr>\n",
       "      <th>...</th>\n",
       "      <td>...</td>\n",
       "      <td>...</td>\n",
       "      <td>...</td>\n",
       "      <td>...</td>\n",
       "      <td>...</td>\n",
       "      <td>...</td>\n",
       "      <td>...</td>\n",
       "      <td>...</td>\n",
       "      <td>...</td>\n",
       "      <td>...</td>\n",
       "      <td>...</td>\n",
       "      <td>...</td>\n",
       "      <td>...</td>\n",
       "      <td>...</td>\n",
       "      <td>...</td>\n",
       "      <td>...</td>\n",
       "      <td>...</td>\n",
       "      <td>...</td>\n",
       "      <td>...</td>\n",
       "      <td>...</td>\n",
       "      <td>...</td>\n",
       "    </tr>\n",
       "    <tr>\n",
       "      <th>3014</th>\n",
       "      <td>0</td>\n",
       "      <td>0</td>\n",
       "      <td>0</td>\n",
       "      <td>0</td>\n",
       "      <td>0</td>\n",
       "      <td>0</td>\n",
       "      <td>0</td>\n",
       "      <td>0</td>\n",
       "      <td>0</td>\n",
       "      <td>0</td>\n",
       "      <td>...</td>\n",
       "      <td>0.0</td>\n",
       "      <td>0.0</td>\n",
       "      <td>0.0</td>\n",
       "      <td>1.0</td>\n",
       "      <td>0.0</td>\n",
       "      <td>0.0</td>\n",
       "      <td>0.0</td>\n",
       "      <td>0.0</td>\n",
       "      <td>0.0</td>\n",
       "      <td>0</td>\n",
       "    </tr>\n",
       "    <tr>\n",
       "      <th>3015</th>\n",
       "      <td>0</td>\n",
       "      <td>0</td>\n",
       "      <td>0</td>\n",
       "      <td>0</td>\n",
       "      <td>0</td>\n",
       "      <td>1</td>\n",
       "      <td>0</td>\n",
       "      <td>0</td>\n",
       "      <td>0</td>\n",
       "      <td>0</td>\n",
       "      <td>...</td>\n",
       "      <td>0.0</td>\n",
       "      <td>0.0</td>\n",
       "      <td>1.0</td>\n",
       "      <td>0.0</td>\n",
       "      <td>0.0</td>\n",
       "      <td>0.0</td>\n",
       "      <td>0.0</td>\n",
       "      <td>0.0</td>\n",
       "      <td>0.0</td>\n",
       "      <td>0</td>\n",
       "    </tr>\n",
       "    <tr>\n",
       "      <th>3016</th>\n",
       "      <td>0</td>\n",
       "      <td>0</td>\n",
       "      <td>0</td>\n",
       "      <td>0</td>\n",
       "      <td>0</td>\n",
       "      <td>0</td>\n",
       "      <td>0</td>\n",
       "      <td>0</td>\n",
       "      <td>0</td>\n",
       "      <td>0</td>\n",
       "      <td>...</td>\n",
       "      <td>0.0</td>\n",
       "      <td>0.0</td>\n",
       "      <td>1.0</td>\n",
       "      <td>0.0</td>\n",
       "      <td>0.0</td>\n",
       "      <td>0.0</td>\n",
       "      <td>0.0</td>\n",
       "      <td>0.0</td>\n",
       "      <td>0.0</td>\n",
       "      <td>0</td>\n",
       "    </tr>\n",
       "    <tr>\n",
       "      <th>3017</th>\n",
       "      <td>0</td>\n",
       "      <td>0</td>\n",
       "      <td>0</td>\n",
       "      <td>0</td>\n",
       "      <td>0</td>\n",
       "      <td>0</td>\n",
       "      <td>0</td>\n",
       "      <td>0</td>\n",
       "      <td>0</td>\n",
       "      <td>0</td>\n",
       "      <td>...</td>\n",
       "      <td>0.0</td>\n",
       "      <td>0.0</td>\n",
       "      <td>1.0</td>\n",
       "      <td>0.0</td>\n",
       "      <td>1.0</td>\n",
       "      <td>0.0</td>\n",
       "      <td>0.0</td>\n",
       "      <td>0.0</td>\n",
       "      <td>0.0</td>\n",
       "      <td>0</td>\n",
       "    </tr>\n",
       "    <tr>\n",
       "      <th>3018</th>\n",
       "      <td>0</td>\n",
       "      <td>0</td>\n",
       "      <td>0</td>\n",
       "      <td>0</td>\n",
       "      <td>0</td>\n",
       "      <td>0</td>\n",
       "      <td>0</td>\n",
       "      <td>0</td>\n",
       "      <td>0</td>\n",
       "      <td>0</td>\n",
       "      <td>...</td>\n",
       "      <td>0.0</td>\n",
       "      <td>0.0</td>\n",
       "      <td>0.0</td>\n",
       "      <td>1.0</td>\n",
       "      <td>0.0</td>\n",
       "      <td>0.0</td>\n",
       "      <td>0.0</td>\n",
       "      <td>0.0</td>\n",
       "      <td>0.0</td>\n",
       "      <td>0</td>\n",
       "    </tr>\n",
       "  </tbody>\n",
       "</table>\n",
       "<p>3019 rows × 1087 columns</p>\n",
       "</div>"
      ],
      "text/plain": [
       "      0     1     2     3     4     5     6     7     8     9     ...  1077  \\\n",
       "0        0     0     0     0     1     0     0     0     0     0  ...   1.0   \n",
       "1        0     1     0     0     0     0     0     0     0     0  ...   0.0   \n",
       "2        0     0     0     0     0     0     0     0     0     0  ...   0.0   \n",
       "3        0     0     0     0     0     0     0     0     0     0  ...   0.0   \n",
       "4        0     0     0     0     0     0     0     0     0     0  ...   0.0   \n",
       "...    ...   ...   ...   ...   ...   ...   ...   ...   ...   ...  ...   ...   \n",
       "3014     0     0     0     0     0     0     0     0     0     0  ...   0.0   \n",
       "3015     0     0     0     0     0     1     0     0     0     0  ...   0.0   \n",
       "3016     0     0     0     0     0     0     0     0     0     0  ...   0.0   \n",
       "3017     0     0     0     0     0     0     0     0     0     0  ...   0.0   \n",
       "3018     0     0     0     0     0     0     0     0     0     0  ...   0.0   \n",
       "\n",
       "      1078  1079  1080  1081  1082  1083  1084  1085  1086  \n",
       "0      0.0   1.0   0.0   0.0   0.0   0.0   0.0   0.0     0  \n",
       "1      0.0   0.0   0.0   0.0   0.0   0.0   0.0   0.0     0  \n",
       "2      0.0   0.0   0.0   0.0   0.0   0.0   0.0   1.0     0  \n",
       "3      0.0   0.0   0.0   0.0   0.0   0.0   0.0   1.0     0  \n",
       "4      1.0   1.0   0.0   0.0   0.0   0.0   0.0   0.0     0  \n",
       "...    ...   ...   ...   ...   ...   ...   ...   ...   ...  \n",
       "3014   0.0   0.0   1.0   0.0   0.0   0.0   0.0   0.0     0  \n",
       "3015   0.0   1.0   0.0   0.0   0.0   0.0   0.0   0.0     0  \n",
       "3016   0.0   1.0   0.0   0.0   0.0   0.0   0.0   0.0     0  \n",
       "3017   0.0   1.0   0.0   1.0   0.0   0.0   0.0   0.0     0  \n",
       "3018   0.0   0.0   1.0   0.0   0.0   0.0   0.0   0.0     0  \n",
       "\n",
       "[3019 rows x 1087 columns]"
      ]
     },
     "execution_count": 252,
     "metadata": {},
     "output_type": "execute_result"
    }
   ],
   "source": [
    "final_fp"
   ]
  },
  {
   "cell_type": "code",
   "execution_count": 253,
   "id": "f810a624",
   "metadata": {},
   "outputs": [],
   "source": [
    "X = final_fp.drop(1086,axis=1).to_numpy()\n",
    "y = final_fp[1086].to_numpy()"
   ]
  },
  {
   "cell_type": "code",
   "execution_count": 254,
   "id": "099f8999",
   "metadata": {},
   "outputs": [],
   "source": [
    "#X_train, X_test, y_train, y_test = train_test_split(final_fp.drop(1086,axis=1), final_fp[1086], test_size=0.33, random_state=42,shuffle=True,stratify=final_fp[1086])"
   ]
  },
  {
   "cell_type": "markdown",
   "id": "ff06f450",
   "metadata": {},
   "source": [
    "##### Model score container"
   ]
  },
  {
   "cell_type": "code",
   "execution_count": 328,
   "id": "936aff2f",
   "metadata": {},
   "outputs": [],
   "source": [
    "model_score = []"
   ]
  },
  {
   "cell_type": "code",
   "execution_count": 329,
   "id": "c04c8b91",
   "metadata": {},
   "outputs": [
    {
     "data": {
      "text/plain": [
       "[]"
      ]
     },
     "execution_count": 329,
     "metadata": {},
     "output_type": "execute_result"
    }
   ],
   "source": [
    "model_score"
   ]
  },
  {
   "cell_type": "code",
   "execution_count": 330,
   "id": "76884900",
   "metadata": {},
   "outputs": [],
   "source": [
    "from sklearn.dummy import DummyClassifier"
   ]
  },
  {
   "cell_type": "code",
   "execution_count": 331,
   "id": "65fb240d",
   "metadata": {},
   "outputs": [],
   "source": [
    "dummy_clf = DummyClassifier(strategy=\"uniform\",random_state=444)"
   ]
  },
  {
   "cell_type": "code",
   "execution_count": 332,
   "id": "3a579c28",
   "metadata": {},
   "outputs": [
    {
     "name": "stdout",
     "output_type": "stream",
     "text": [
      "Training metrics: accuracy:- 0.5134575569358178, precision:- 0.6186085498742665, Recall:- 0.5061728395061729, f1_score:- 0.5567710298000753 \n",
      "\n",
      "\n",
      "Testing metrics: accuracy:- 0.5231788079470199, precision:- 0.6292517006802721, Recall:- 0.5082417582417582, f1_score:- 0.5623100303951368 \n",
      "Training metrics: accuracy:- 0.4977225672877847, precision:- 0.6026823134953898, Recall:- 0.49314128943758573, f1_score:- 0.5424368162957375 \n",
      "\n",
      "\n",
      "Testing metrics: accuracy:- 0.5033112582781457, precision:- 0.608843537414966, Recall:- 0.49175824175824173, f1_score:- 0.5440729483282675 \n",
      "Training metrics: accuracy:- 0.5064182194616977, precision:- 0.6110645431684828, Recall:- 0.5003431708991077, f1_score:- 0.5501886792452829 \n",
      "\n",
      "\n",
      "Testing metrics: accuracy:- 0.4817880794701987, precision:- 0.5884353741496599, Recall:- 0.473972602739726, f1_score:- 0.5250379362670713 \n",
      "Training metrics: accuracy:- 0.5097308488612836, precision:- 0.6144174350377201, Recall:- 0.5030885380919699, f1_score:- 0.5532075471698114 \n",
      "\n",
      "\n",
      "Testing metrics: accuracy:- 0.49503311258278143, precision:- 0.6020408163265306, Recall:- 0.4849315068493151, f1_score:- 0.5371775417298938 \n",
      "Training metrics: accuracy:- 0.4925496688741722, precision:- 0.5971524288107203, Recall:- 0.4890260631001372, f1_score:- 0.5377073906485672 \n",
      "\n",
      "\n",
      "Testing metrics: accuracy:- 0.5339966832504146, precision:- 0.6416382252559727, Recall:- 0.5164835164835165, f1_score:- 0.5722983257229832 \n",
      "----------------------------------------------------\n",
      " training metrics: accuracy:- 0.5039757722841512, precision:- 0.6087850540773159, Recall:- 0.49835438020699463, F1 score:- 0.5480622926318949  \n",
      "\n",
      "\n",
      " Test metrics: accuracy:- 0.5074615883057121, precision:- 0.6140419307654803, Recall:- 0.4950775252145115, F1 score:- 0.5481793564886706  \n"
     ]
    }
   ],
   "source": [
    "res = trainLoop(dummy_clf,X,y)\n",
    "print(\"----------------------------------------------------\")\n",
    "print(f\"\"\" training metrics: accuracy:- {res[0][0]}, precision:- {res[0][1]}, Recall:- {res[0][2]}, F1 score:- {res[0][3]}  \"\"\")\n",
    "print()\n",
    "print()\n",
    "print(f\"\"\" Test metrics: accuracy:- {res[1][0]}, precision:- {res[1][1]}, Recall:- {res[1][2]}, F1 score:- {res[1][3]}  \"\"\")\n",
    "model_score.append(res[2])"
   ]
  },
  {
   "cell_type": "markdown",
   "id": "3cbe2394",
   "metadata": {},
   "source": [
    "#### with SVM"
   ]
  },
  {
   "cell_type": "code",
   "execution_count": 333,
   "id": "9d88d5c0",
   "metadata": {},
   "outputs": [],
   "source": [
    "clf = svm.SVC()"
   ]
  },
  {
   "cell_type": "code",
   "execution_count": 334,
   "id": "8a2682c0",
   "metadata": {},
   "outputs": [
    {
     "name": "stdout",
     "output_type": "stream",
     "text": [
      "Training metrics: accuracy:- 0.9267080745341615, precision:- 0.9118971061093247, Recall:- 0.9725651577503429, f1_score:- 0.9412545635579157 \n",
      "\n",
      "\n",
      "Testing metrics: accuracy:- 0.8062913907284768, precision:- 0.8034398034398035, Recall:- 0.8983516483516484, f1_score:- 0.8482490272373541 \n",
      "Training metrics: accuracy:- 0.9300207039337474, precision:- 0.9198697068403909, Recall:- 0.9684499314128944, f1_score:- 0.9435349148012028 \n",
      "\n",
      "\n",
      "Testing metrics: accuracy:- 0.7566225165562914, precision:- 0.7614457831325301, Recall:- 0.8681318681318682, f1_score:- 0.8112965340179717 \n",
      "Training metrics: accuracy:- 0.929192546583851, precision:- 0.9197127937336814, Recall:- 0.9670555936856554, f1_score:- 0.942790230846437 \n",
      "\n",
      "\n",
      "Testing metrics: accuracy:- 0.7417218543046358, precision:- 0.7593052109181141, Recall:- 0.8383561643835616, f1_score:- 0.796875 \n",
      "Training metrics: accuracy:- 0.9296066252587992, precision:- 0.9159663865546218, Recall:- 0.9725463280713795, f1_score:- 0.9434087882822902 \n",
      "\n",
      "\n",
      "Testing metrics: accuracy:- 0.7698675496688742, precision:- 0.775609756097561, Recall:- 0.8712328767123287, f1_score:- 0.8206451612903226 \n",
      "Training metrics: accuracy:- 0.9250827814569537, precision:- 0.9127343244990304, Recall:- 0.9684499314128944, f1_score:- 0.9397670549084859 \n",
      "\n",
      "\n",
      "Testing metrics: accuracy:- 0.7446102819237148, precision:- 0.7511961722488039, Recall:- 0.8626373626373627, f1_score:- 0.80306905370844 \n",
      "----------------------------------------------------\n",
      " training metrics: accuracy:- 0.9281221463535025, precision:- 0.9160360635474099, Recall:- 0.9698133884666333, F1 score:- 0.9421511104792664  \n",
      "\n",
      "\n",
      " Test metrics: accuracy:- 0.7638227186363986, precision:- 0.7701993451673624, Recall:- 0.867741984043354, F1 score:- 0.8160269552508177  \n"
     ]
    }
   ],
   "source": [
    "res = trainLoop(clf,X,y)\n",
    "print(\"----------------------------------------------------\")\n",
    "print(f\"\"\" training metrics: accuracy:- {res[0][0]}, precision:- {res[0][1]}, Recall:- {res[0][2]}, F1 score:- {res[0][3]}  \"\"\")\n",
    "print()\n",
    "print()\n",
    "print(f\"\"\" Test metrics: accuracy:- {res[1][0]}, precision:- {res[1][1]}, Recall:- {res[1][2]}, F1 score:- {res[1][3]}  \"\"\")\n",
    "\n",
    "### Appending score\n",
    "\n",
    "model_score.append(res[2])"
   ]
  },
  {
   "cell_type": "markdown",
   "id": "4b35bcf9",
   "metadata": {},
   "source": [
    "#### With Random Forest"
   ]
  },
  {
   "cell_type": "code",
   "execution_count": 335,
   "id": "ae2a0daa",
   "metadata": {},
   "outputs": [],
   "source": [
    "from sklearn.ensemble import RandomForestClassifier"
   ]
  },
  {
   "cell_type": "code",
   "execution_count": 336,
   "id": "a2117e4a",
   "metadata": {},
   "outputs": [],
   "source": [
    "clf = RandomForestClassifier(n_estimators=100)"
   ]
  },
  {
   "cell_type": "code",
   "execution_count": 337,
   "id": "7984bcac",
   "metadata": {},
   "outputs": [
    {
     "name": "stdout",
     "output_type": "stream",
     "text": [
      "Training metrics: accuracy:- 1.0, precision:- 1.0, Recall:- 1.0, f1_score:- 1.0 \n",
      "\n",
      "\n",
      "Testing metrics: accuracy:- 0.7847682119205298, precision:- 0.78125, Recall:- 0.8928571428571429, f1_score:- 0.8333333333333334 \n",
      "Training metrics: accuracy:- 0.9995859213250518, precision:- 1.0, Recall:- 0.9993141289437586, f1_score:- 0.9996569468267582 \n",
      "\n",
      "\n",
      "Testing metrics: accuracy:- 0.7516556291390728, precision:- 0.7523584905660378, Recall:- 0.8763736263736264, f1_score:- 0.8096446700507615 \n",
      "Training metrics: accuracy:- 1.0, precision:- 1.0, Recall:- 1.0, f1_score:- 1.0 \n",
      "\n",
      "\n",
      "Testing metrics: accuracy:- 0.7781456953642384, precision:- 0.7717647058823529, Recall:- 0.8986301369863013, f1_score:- 0.8303797468354429 \n",
      "Training metrics: accuracy:- 1.0, precision:- 1.0, Recall:- 1.0, f1_score:- 1.0 \n",
      "\n",
      "\n",
      "Testing metrics: accuracy:- 0.7251655629139073, precision:- 0.7409200968523002, Recall:- 0.8383561643835616, f1_score:- 0.7866323907455012 \n",
      "Training metrics: accuracy:- 1.0, precision:- 1.0, Recall:- 1.0, f1_score:- 1.0 \n",
      "\n",
      "\n",
      "Testing metrics: accuracy:- 0.7429519071310116, precision:- 0.7518072289156627, Recall:- 0.8571428571428571, f1_score:- 0.8010269576379975 \n",
      "----------------------------------------------------\n",
      " training metrics: accuracy:- 0.9999171842650103, precision:- 1.0, Recall:- 0.9998628257887517, F1 score:- 0.9999313893653516  \n",
      "\n",
      "\n",
      " Test metrics: accuracy:- 0.756537401293752, precision:- 0.7596201044432707, Recall:- 0.8726719855486978, F1 score:- 0.8122034197206073  \n"
     ]
    }
   ],
   "source": [
    "res = trainLoop(clf,X,y)\n",
    "print(\"----------------------------------------------------\")\n",
    "print(f\"\"\" training metrics: accuracy:- {res[0][0]}, precision:- {res[0][1]}, Recall:- {res[0][2]}, F1 score:- {res[0][3]}  \"\"\")\n",
    "print()\n",
    "print()\n",
    "print(f\"\"\" Test metrics: accuracy:- {res[1][0]}, precision:- {res[1][1]}, Recall:- {res[1][2]}, F1 score:- {res[1][3]}  \"\"\")\n",
    "\n",
    "### Appending score\n",
    "\n",
    "model_score.append(res[2])"
   ]
  },
  {
   "cell_type": "markdown",
   "id": "55a12507",
   "metadata": {},
   "source": [
    "#### With Naive Byes"
   ]
  },
  {
   "cell_type": "code",
   "execution_count": 338,
   "id": "939f8bed",
   "metadata": {},
   "outputs": [],
   "source": [
    "from sklearn.naive_bayes import BernoulliNB\n",
    "## Model\n",
    "clf = BernoulliNB()"
   ]
  },
  {
   "cell_type": "code",
   "execution_count": 339,
   "id": "cac9664a",
   "metadata": {},
   "outputs": [
    {
     "name": "stdout",
     "output_type": "stream",
     "text": [
      "Training metrics: accuracy:- 0.7693581780538302, precision:- 0.7860317460317461, Recall:- 0.8491083676268861, f1_score:- 0.8163534454335641 \n",
      "\n",
      "\n",
      "Testing metrics: accuracy:- 0.7185430463576159, precision:- 0.7400990099009901, Recall:- 0.8214285714285714, f1_score:- 0.7786458333333333 \n",
      "Training metrics: accuracy:- 0.7714285714285715, precision:- 0.7911311053984575, Recall:- 0.8443072702331962, f1_score:- 0.8168546781685468 \n",
      "\n",
      "\n",
      "Testing metrics: accuracy:- 0.7268211920529801, precision:- 0.7597911227154047, Recall:- 0.7994505494505495, f1_score:- 0.7791164658634538 \n",
      "Training metrics: accuracy:- 0.767287784679089, precision:- 0.7841269841269841, Recall:- 0.8476321207961565, f1_score:- 0.8146437994722955 \n",
      "\n",
      "\n",
      "Testing metrics: accuracy:- 0.7367549668874173, precision:- 0.7627551020408163, Recall:- 0.8191780821917808, f1_score:- 0.7899603698811096 \n",
      "Training metrics: accuracy:- 0.7681159420289855, precision:- 0.7865814696485623, Recall:- 0.8448867536032945, f1_score:- 0.814692256783587 \n",
      "\n",
      "\n",
      "Testing metrics: accuracy:- 0.7185430463576159, precision:- 0.7395577395577395, Recall:- 0.8246575342465754, f1_score:- 0.7797927461139896 \n",
      "Training metrics: accuracy:- 0.7682119205298014, precision:- 0.7841772151898734, Recall:- 0.8497942386831275, f1_score:- 0.815668202764977 \n",
      "\n",
      "\n",
      "Testing metrics: accuracy:- 0.7396351575456053, precision:- 0.7660668380462725, Recall:- 0.8186813186813187, f1_score:- 0.7915006640106242 \n",
      "----------------------------------------------------\n",
      " training metrics: accuracy:- 0.7688804793440555, precision:- 0.7864097040791247, Recall:- 0.8471457501885322, F1 score:- 0.8156424765245941  \n",
      "\n",
      "\n",
      " Test metrics: accuracy:- 0.7280594818402469, precision:- 0.7536539624522446, Recall:- 0.8166792111997591, F1 score:- 0.7838032158405022  \n"
     ]
    }
   ],
   "source": [
    "res = trainLoop(clf,X,y)\n",
    "print(\"----------------------------------------------------\")\n",
    "print(f\"\"\" training metrics: accuracy:- {res[0][0]}, precision:- {res[0][1]}, Recall:- {res[0][2]}, F1 score:- {res[0][3]}  \"\"\")\n",
    "print()\n",
    "print()\n",
    "print(f\"\"\" Test metrics: accuracy:- {res[1][0]}, precision:- {res[1][1]}, Recall:- {res[1][2]}, F1 score:- {res[1][3]}  \"\"\")\n",
    "\n",
    "### Appending score\n",
    "\n",
    "model_score.append(res[2])"
   ]
  },
  {
   "cell_type": "code",
   "execution_count": 340,
   "id": "c643d0fc",
   "metadata": {},
   "outputs": [],
   "source": [
    "x_name = [\"Dummy Classifier\",\"SVM\",\"Random Forest\",\"Niave Byes\"]"
   ]
  },
  {
   "cell_type": "code",
   "execution_count": 351,
   "id": "9a950ead",
   "metadata": {},
   "outputs": [],
   "source": [
    "score = [i[0] for i in model_score]"
   ]
  },
  {
   "cell_type": "code",
   "execution_count": 352,
   "id": "17efb9d4",
   "metadata": {},
   "outputs": [],
   "source": [
    "score_res = pd.DataFrame(score).T"
   ]
  },
  {
   "cell_type": "code",
   "execution_count": 353,
   "id": "e8fea279",
   "metadata": {},
   "outputs": [],
   "source": [
    "score_res.rename(columns={0:\"Dummy classifier\",1:\"svm\",2:\"RandomForest\",3:\"Naive Byes\"},inplace=True)"
   ]
  },
  {
   "cell_type": "code",
   "execution_count": 355,
   "id": "38db80d1",
   "metadata": {},
   "outputs": [
    {
     "data": {
      "image/png": "[encoded data removed]",
      "text/plain": [
       "<Figure size 1500x800 with 1 Axes>"
      ]
     },
     "metadata": {},
     "output_type": "display_data"
    }
   ],
   "source": [
    "df = pd.DataFrame(data=score_res,)\n",
    "sns.boxplot(x=\"variable\", y=\"value\", data=pd.melt(df), )\n",
    "plt.xlabel(\"Models\",fontdict={\"weight\":\"bold\",\"fontsize\":14})\n",
    "plt.ylabel(\"Accuracy\",fontdict={\"weight\":\"bold\",\"fontsize\":14})\n",
    "plt.title(\"DockedFP-2 + MorganFP result comparision\",fontdict={\"weight\":\"bold\",\"fontsize\":14})\n",
    "plt.show()"
   ]
  },
  {
   "cell_type": "markdown",
   "id": "539d1255",
   "metadata": {},
   "source": [
    "# Without Interaction Fingerprint"
   ]
  },
  {
   "cell_type": "code",
   "execution_count": 188,
   "id": "0a2f0604",
   "metadata": {},
   "outputs": [],
   "source": [
    "final_fp = pd.concat([fp,fdata.LABELS.reset_index(drop=True)],axis=1)"
   ]
  },
  {
   "cell_type": "code",
   "execution_count": 189,
   "id": "7250971a",
   "metadata": {},
   "outputs": [
    {
     "data": {
      "text/html": [
       "<div>\n",
       "<style scoped>\n",
       "    .dataframe tbody tr th:only-of-type {\n",
       "        vertical-align: middle;\n",
       "    }\n",
       "\n",
       "    .dataframe tbody tr th {\n",
       "        vertical-align: top;\n",
       "    }\n",
       "\n",
       "    .dataframe thead th {\n",
       "        text-align: right;\n",
       "    }\n",
       "</style>\n",
       "<table border=\"1\" class=\"dataframe\">\n",
       "  <thead>\n",
       "    <tr style=\"text-align: right;\">\n",
       "      <th></th>\n",
       "      <th>0</th>\n",
       "      <th>1</th>\n",
       "      <th>2</th>\n",
       "      <th>3</th>\n",
       "      <th>4</th>\n",
       "      <th>5</th>\n",
       "      <th>6</th>\n",
       "      <th>7</th>\n",
       "      <th>8</th>\n",
       "      <th>9</th>\n",
       "      <th>...</th>\n",
       "      <th>1015</th>\n",
       "      <th>1016</th>\n",
       "      <th>1017</th>\n",
       "      <th>1018</th>\n",
       "      <th>1019</th>\n",
       "      <th>1020</th>\n",
       "      <th>1021</th>\n",
       "      <th>1022</th>\n",
       "      <th>1023</th>\n",
       "      <th>LABELS</th>\n",
       "    </tr>\n",
       "  </thead>\n",
       "  <tbody>\n",
       "    <tr>\n",
       "      <th>0</th>\n",
       "      <td>0</td>\n",
       "      <td>0</td>\n",
       "      <td>0</td>\n",
       "      <td>0</td>\n",
       "      <td>1</td>\n",
       "      <td>0</td>\n",
       "      <td>0</td>\n",
       "      <td>0</td>\n",
       "      <td>0</td>\n",
       "      <td>0</td>\n",
       "      <td>...</td>\n",
       "      <td>0</td>\n",
       "      <td>0</td>\n",
       "      <td>0</td>\n",
       "      <td>0</td>\n",
       "      <td>0</td>\n",
       "      <td>0</td>\n",
       "      <td>0</td>\n",
       "      <td>0</td>\n",
       "      <td>0</td>\n",
       "      <td>0</td>\n",
       "    </tr>\n",
       "    <tr>\n",
       "      <th>1</th>\n",
       "      <td>0</td>\n",
       "      <td>1</td>\n",
       "      <td>0</td>\n",
       "      <td>0</td>\n",
       "      <td>0</td>\n",
       "      <td>0</td>\n",
       "      <td>0</td>\n",
       "      <td>0</td>\n",
       "      <td>0</td>\n",
       "      <td>0</td>\n",
       "      <td>...</td>\n",
       "      <td>0</td>\n",
       "      <td>0</td>\n",
       "      <td>0</td>\n",
       "      <td>0</td>\n",
       "      <td>1</td>\n",
       "      <td>0</td>\n",
       "      <td>0</td>\n",
       "      <td>0</td>\n",
       "      <td>0</td>\n",
       "      <td>0</td>\n",
       "    </tr>\n",
       "    <tr>\n",
       "      <th>2</th>\n",
       "      <td>0</td>\n",
       "      <td>0</td>\n",
       "      <td>0</td>\n",
       "      <td>0</td>\n",
       "      <td>0</td>\n",
       "      <td>0</td>\n",
       "      <td>0</td>\n",
       "      <td>0</td>\n",
       "      <td>0</td>\n",
       "      <td>0</td>\n",
       "      <td>...</td>\n",
       "      <td>0</td>\n",
       "      <td>0</td>\n",
       "      <td>0</td>\n",
       "      <td>0</td>\n",
       "      <td>0</td>\n",
       "      <td>0</td>\n",
       "      <td>1</td>\n",
       "      <td>0</td>\n",
       "      <td>0</td>\n",
       "      <td>0</td>\n",
       "    </tr>\n",
       "    <tr>\n",
       "      <th>3</th>\n",
       "      <td>0</td>\n",
       "      <td>0</td>\n",
       "      <td>0</td>\n",
       "      <td>0</td>\n",
       "      <td>0</td>\n",
       "      <td>0</td>\n",
       "      <td>0</td>\n",
       "      <td>0</td>\n",
       "      <td>0</td>\n",
       "      <td>0</td>\n",
       "      <td>...</td>\n",
       "      <td>0</td>\n",
       "      <td>0</td>\n",
       "      <td>0</td>\n",
       "      <td>0</td>\n",
       "      <td>0</td>\n",
       "      <td>0</td>\n",
       "      <td>0</td>\n",
       "      <td>0</td>\n",
       "      <td>0</td>\n",
       "      <td>0</td>\n",
       "    </tr>\n",
       "    <tr>\n",
       "      <th>4</th>\n",
       "      <td>0</td>\n",
       "      <td>0</td>\n",
       "      <td>0</td>\n",
       "      <td>0</td>\n",
       "      <td>0</td>\n",
       "      <td>0</td>\n",
       "      <td>0</td>\n",
       "      <td>0</td>\n",
       "      <td>0</td>\n",
       "      <td>0</td>\n",
       "      <td>...</td>\n",
       "      <td>0</td>\n",
       "      <td>0</td>\n",
       "      <td>0</td>\n",
       "      <td>0</td>\n",
       "      <td>1</td>\n",
       "      <td>0</td>\n",
       "      <td>0</td>\n",
       "      <td>0</td>\n",
       "      <td>0</td>\n",
       "      <td>0</td>\n",
       "    </tr>\n",
       "    <tr>\n",
       "      <th>...</th>\n",
       "      <td>...</td>\n",
       "      <td>...</td>\n",
       "      <td>...</td>\n",
       "      <td>...</td>\n",
       "      <td>...</td>\n",
       "      <td>...</td>\n",
       "      <td>...</td>\n",
       "      <td>...</td>\n",
       "      <td>...</td>\n",
       "      <td>...</td>\n",
       "      <td>...</td>\n",
       "      <td>...</td>\n",
       "      <td>...</td>\n",
       "      <td>...</td>\n",
       "      <td>...</td>\n",
       "      <td>...</td>\n",
       "      <td>...</td>\n",
       "      <td>...</td>\n",
       "      <td>...</td>\n",
       "      <td>...</td>\n",
       "      <td>...</td>\n",
       "    </tr>\n",
       "    <tr>\n",
       "      <th>3014</th>\n",
       "      <td>0</td>\n",
       "      <td>0</td>\n",
       "      <td>0</td>\n",
       "      <td>0</td>\n",
       "      <td>0</td>\n",
       "      <td>0</td>\n",
       "      <td>0</td>\n",
       "      <td>0</td>\n",
       "      <td>0</td>\n",
       "      <td>0</td>\n",
       "      <td>...</td>\n",
       "      <td>0</td>\n",
       "      <td>0</td>\n",
       "      <td>0</td>\n",
       "      <td>0</td>\n",
       "      <td>0</td>\n",
       "      <td>0</td>\n",
       "      <td>0</td>\n",
       "      <td>0</td>\n",
       "      <td>0</td>\n",
       "      <td>0</td>\n",
       "    </tr>\n",
       "    <tr>\n",
       "      <th>3015</th>\n",
       "      <td>0</td>\n",
       "      <td>0</td>\n",
       "      <td>0</td>\n",
       "      <td>0</td>\n",
       "      <td>0</td>\n",
       "      <td>1</td>\n",
       "      <td>0</td>\n",
       "      <td>0</td>\n",
       "      <td>0</td>\n",
       "      <td>0</td>\n",
       "      <td>...</td>\n",
       "      <td>0</td>\n",
       "      <td>0</td>\n",
       "      <td>0</td>\n",
       "      <td>0</td>\n",
       "      <td>1</td>\n",
       "      <td>0</td>\n",
       "      <td>0</td>\n",
       "      <td>0</td>\n",
       "      <td>0</td>\n",
       "      <td>0</td>\n",
       "    </tr>\n",
       "    <tr>\n",
       "      <th>3016</th>\n",
       "      <td>0</td>\n",
       "      <td>0</td>\n",
       "      <td>0</td>\n",
       "      <td>0</td>\n",
       "      <td>0</td>\n",
       "      <td>0</td>\n",
       "      <td>0</td>\n",
       "      <td>0</td>\n",
       "      <td>0</td>\n",
       "      <td>0</td>\n",
       "      <td>...</td>\n",
       "      <td>0</td>\n",
       "      <td>0</td>\n",
       "      <td>0</td>\n",
       "      <td>0</td>\n",
       "      <td>0</td>\n",
       "      <td>0</td>\n",
       "      <td>0</td>\n",
       "      <td>0</td>\n",
       "      <td>0</td>\n",
       "      <td>0</td>\n",
       "    </tr>\n",
       "    <tr>\n",
       "      <th>3017</th>\n",
       "      <td>0</td>\n",
       "      <td>0</td>\n",
       "      <td>0</td>\n",
       "      <td>0</td>\n",
       "      <td>0</td>\n",
       "      <td>0</td>\n",
       "      <td>0</td>\n",
       "      <td>0</td>\n",
       "      <td>0</td>\n",
       "      <td>0</td>\n",
       "      <td>...</td>\n",
       "      <td>0</td>\n",
       "      <td>0</td>\n",
       "      <td>0</td>\n",
       "      <td>0</td>\n",
       "      <td>0</td>\n",
       "      <td>0</td>\n",
       "      <td>0</td>\n",
       "      <td>0</td>\n",
       "      <td>0</td>\n",
       "      <td>0</td>\n",
       "    </tr>\n",
       "    <tr>\n",
       "      <th>3018</th>\n",
       "      <td>0</td>\n",
       "      <td>0</td>\n",
       "      <td>0</td>\n",
       "      <td>0</td>\n",
       "      <td>0</td>\n",
       "      <td>0</td>\n",
       "      <td>0</td>\n",
       "      <td>0</td>\n",
       "      <td>0</td>\n",
       "      <td>0</td>\n",
       "      <td>...</td>\n",
       "      <td>0</td>\n",
       "      <td>0</td>\n",
       "      <td>0</td>\n",
       "      <td>0</td>\n",
       "      <td>0</td>\n",
       "      <td>0</td>\n",
       "      <td>0</td>\n",
       "      <td>0</td>\n",
       "      <td>0</td>\n",
       "      <td>0</td>\n",
       "    </tr>\n",
       "  </tbody>\n",
       "</table>\n",
       "<p>3019 rows × 1025 columns</p>\n",
       "</div>"
      ],
      "text/plain": [
       "      0  1  2  3  4  5  6  7  8  9  ...  1015  1016  1017  1018  1019  1020  \\\n",
       "0     0  0  0  0  1  0  0  0  0  0  ...     0     0     0     0     0     0   \n",
       "1     0  1  0  0  0  0  0  0  0  0  ...     0     0     0     0     1     0   \n",
       "2     0  0  0  0  0  0  0  0  0  0  ...     0     0     0     0     0     0   \n",
       "3     0  0  0  0  0  0  0  0  0  0  ...     0     0     0     0     0     0   \n",
       "4     0  0  0  0  0  0  0  0  0  0  ...     0     0     0     0     1     0   \n",
       "...  .. .. .. .. .. .. .. .. .. ..  ...   ...   ...   ...   ...   ...   ...   \n",
       "3014  0  0  0  0  0  0  0  0  0  0  ...     0     0     0     0     0     0   \n",
       "3015  0  0  0  0  0  1  0  0  0  0  ...     0     0     0     0     1     0   \n",
       "3016  0  0  0  0  0  0  0  0  0  0  ...     0     0     0     0     0     0   \n",
       "3017  0  0  0  0  0  0  0  0  0  0  ...     0     0     0     0     0     0   \n",
       "3018  0  0  0  0  0  0  0  0  0  0  ...     0     0     0     0     0     0   \n",
       "\n",
       "      1021  1022  1023  LABELS  \n",
       "0        0     0     0       0  \n",
       "1        0     0     0       0  \n",
       "2        1     0     0       0  \n",
       "3        0     0     0       0  \n",
       "4        0     0     0       0  \n",
       "...    ...   ...   ...     ...  \n",
       "3014     0     0     0       0  \n",
       "3015     0     0     0       0  \n",
       "3016     0     0     0       0  \n",
       "3017     0     0     0       0  \n",
       "3018     0     0     0       0  \n",
       "\n",
       "[3019 rows x 1025 columns]"
      ]
     },
     "execution_count": 189,
     "metadata": {},
     "output_type": "execute_result"
    }
   ],
   "source": [
    "final_fp"
   ]
  },
  {
   "cell_type": "code",
   "execution_count": 190,
   "id": "a74ff134",
   "metadata": {},
   "outputs": [],
   "source": [
    "#X_train, X_test, y_train, y_test = train_test_split(final_fp.drop(\"LABELS\",axis=1), final_fp[\"LABELS\"], test_size=0.33, random_state=42,shuffle=True,stratify=final_fp.LABELS)"
   ]
  },
  {
   "cell_type": "code",
   "execution_count": 191,
   "id": "ddf825a4",
   "metadata": {},
   "outputs": [],
   "source": [
    "df = final_fp"
   ]
  },
  {
   "cell_type": "code",
   "execution_count": 192,
   "id": "cfb4482c",
   "metadata": {},
   "outputs": [],
   "source": [
    "X = df.drop(\"LABELS\",axis=1).to_numpy()\n",
    "y = df[\"LABELS\"].to_numpy()"
   ]
  },
  {
   "cell_type": "markdown",
   "id": "9787b32f",
   "metadata": {},
   "source": [
    "#### With SVM"
   ]
  },
  {
   "cell_type": "code",
   "execution_count": 194,
   "id": "82d091b0",
   "metadata": {},
   "outputs": [],
   "source": [
    "clf = svm.SVC()"
   ]
  },
  {
   "cell_type": "code",
   "execution_count": 195,
   "id": "020bd177",
   "metadata": {},
   "outputs": [
    {
     "name": "stdout",
     "output_type": "stream",
     "text": [
      "Training metrics: accuracy:- 0.9217391304347826, precision:- 0.9038828771483132, Recall:- 0.9739368998628258, f1_score:- 0.937603169362826 \n",
      "\n",
      "\n",
      "Testing metrics: accuracy:- 0.7483443708609272, precision:- 0.7465116279069768, Recall:- 0.8818681318681318, f1_score:- 0.8085642317380353 \n",
      "Training metrics: accuracy:- 0.9233954451345756, precision:- 0.9146579804560261, Recall:- 0.9629629629629629, f1_score:- 0.9381891079184764 \n",
      "\n",
      "\n",
      "Testing metrics: accuracy:- 0.7615894039735099, precision:- 0.7806122448979592, Recall:- 0.8406593406593407, f1_score:- 0.8095238095238095 \n",
      "Training metrics: accuracy:- 0.929192546583851, precision:- 0.9208115183246073, Recall:- 0.9656829100892245, f1_score:- 0.9427135678391959 \n",
      "\n",
      "\n",
      "Testing metrics: accuracy:- 0.7466887417218543, precision:- 0.7511848341232228, Recall:- 0.8684931506849315, f1_score:- 0.8055908513341804 \n",
      "Training metrics: accuracy:- 0.9283643892339545, precision:- 0.9158031088082902, Recall:- 0.970487302676733, f1_score:- 0.9423525491502833 \n",
      "\n",
      "\n",
      "Testing metrics: accuracy:- 0.7715231788079471, precision:- 0.7788697788697788, Recall:- 0.8684931506849315, f1_score:- 0.8212435233160622 \n",
      "Training metrics: accuracy:- 0.9259105960264901, precision:- 0.9210006583278473, Recall:- 0.9595336076817559, f1_score:- 0.9398723547195164 \n",
      "\n",
      "\n",
      "Testing metrics: accuracy:- 0.7810945273631841, precision:- 0.7857142857142857, Recall:- 0.8763736263736264, f1_score:- 0.8285714285714286 \n",
      "----------------------------------------------------\n",
      " training metrics: accuracy:- 0.9257204214827308, precision:- 0.9152312286130169, Recall:- 0.9665207366547003, F1 score:- 0.9401461497980597  \n",
      "\n",
      "\n",
      " Test metrics: accuracy:- 0.7618480445454845, precision:- 0.7685785543024446, Recall:- 0.8671774800541925, F1 score:- 0.8146987688967032  \n"
     ]
    }
   ],
   "source": [
    "res = trainLoop(clf,X,y)\n",
    "print(\"----------------------------------------------------\")\n",
    "print(f\"\"\" training metrics: accuracy:- {res[0][0]}, precision:- {res[0][1]}, Recall:- {res[0][2]}, F1 score:- {res[0][3]}  \"\"\")\n",
    "print()\n",
    "print()\n",
    "print(f\"\"\" Test metrics: accuracy:- {res[1][0]}, precision:- {res[1][1]}, Recall:- {res[1][2]}, F1 score:- {res[1][3]}  \"\"\")"
   ]
  },
  {
   "cell_type": "code",
   "execution_count": 205,
   "id": "8be20d2f",
   "metadata": {},
   "outputs": [
    {
     "data": {
      "text/plain": [
       "((0.9257204214827308,\n",
       "  0.9152312286130169,\n",
       "  0.9665207366547003,\n",
       "  0.9401461497980597),\n",
       " (0.7618480445454845,\n",
       "  0.7685785543024446,\n",
       "  0.8671774800541925,\n",
       "  0.8146987688967032))"
      ]
     },
     "execution_count": 205,
     "metadata": {},
     "output_type": "execute_result"
    }
   ],
   "source": [
    "res"
   ]
  },
  {
   "cell_type": "code",
   "execution_count": 203,
   "id": "c5a5513f",
   "metadata": {},
   "outputs": [],
   "source": [
    "test = [0.5,0.6,0.7,0.9]\n",
    "test2 = [0.4,0.8,0.2,0.1]"
   ]
  },
  {
   "cell_type": "code",
   "execution_count": 209,
   "id": "1d47516d",
   "metadata": {},
   "outputs": [
    {
     "data": {
      "text/plain": [
       "[0.9257204214827308,\n",
       " 0.9152312286130169,\n",
       " 0.9665207366547003,\n",
       " 0.9401461497980597]"
      ]
     },
     "execution_count": 209,
     "metadata": {},
     "output_type": "execute_result"
    }
   ],
   "source": [
    "list(res[0])"
   ]
  },
  {
   "cell_type": "code",
   "execution_count": 211,
   "id": "a89acc4c",
   "metadata": {},
   "outputs": [
    {
     "name": "stderr",
     "output_type": "stream",
     "text": [
      "/home/saurav/anaconda3/envs/Jupyter_Dock/lib/python3.8/site-packages/seaborn/_core.py:1319: UserWarning: Horizontal orientation ignored with only `y` specified.\n",
      "  warnings.warn(single_var_warning.format(\"Horizontal\", \"y\"))\n",
      "/home/saurav/anaconda3/envs/Jupyter_Dock/lib/python3.8/site-packages/seaborn/_core.py:1319: UserWarning: Horizontal orientation ignored with only `y` specified.\n",
      "  warnings.warn(single_var_warning.format(\"Horizontal\", \"y\"))\n"
     ]
    },
    {
     "data": {
      "image/png": "[encoded data removed]",
      "text/plain": [
       "<Figure size 1500x800 with 1 Axes>"
      ]
     },
     "metadata": {},
     "output_type": "display_data"
    }
   ],
   "source": [
    "sns.boxplot(y = list(res[0]),orient=\"h\")\n",
    "sns.boxplot(y = list(res[1]),orient=\"h\",color=\"orange\")\n",
    "plt.show()"
   ]
  },
  {
   "cell_type": "code",
   "execution_count": null,
   "id": "15171c94",
   "metadata": {},
   "outputs": [],
   "source": []
  },
  {
   "cell_type": "code",
   "execution_count": null,
   "id": "ac77927b",
   "metadata": {},
   "outputs": [],
   "source": []
  },
  {
   "cell_type": "code",
   "execution_count": null,
   "id": "b9cadcd8",
   "metadata": {},
   "outputs": [],
   "source": []
  },
  {
   "cell_type": "code",
   "execution_count": null,
   "id": "89e42c91",
   "metadata": {},
   "outputs": [],
   "source": []
  },
  {
   "cell_type": "markdown",
   "id": "04eed24b",
   "metadata": {},
   "source": [
    "#### With Random Forest"
   ]
  },
  {
   "cell_type": "code",
   "execution_count": 621,
   "id": "ca9ea14c",
   "metadata": {},
   "outputs": [],
   "source": [
    "from sklearn.ensemble import RandomForestClassifier"
   ]
  },
  {
   "cell_type": "code",
   "execution_count": 622,
   "id": "462b5775",
   "metadata": {},
   "outputs": [
    {
     "data": {
      "text/html": [
       "<style>#sk-container-id-31 {color: black;background-color: white;}#sk-container-id-31 pre{padding: 0;}#sk-container-id-31 div.sk-toggleable {background-color: white;}#sk-container-id-31 label.sk-toggleable__label {cursor: pointer;display: block;width: 100%;margin-bottom: 0;padding: 0.3em;box-sizing: border-box;text-align: center;}#sk-container-id-31 label.sk-toggleable__label-arrow:before {content: \"▸\";float: left;margin-right: 0.25em;color: #696969;}#sk-container-id-31 label.sk-toggleable__label-arrow:hover:before {color: black;}#sk-container-id-31 div.sk-estimator:hover label.sk-toggleable__label-arrow:before {color: black;}#sk-container-id-31 div.sk-toggleable__content {max-height: 0;max-width: 0;overflow: hidden;text-align: left;background-color: #f0f8ff;}#sk-container-id-31 div.sk-toggleable__content pre {margin: 0.2em;color: black;border-radius: 0.25em;background-color: #f0f8ff;}#sk-container-id-31 input.sk-toggleable__control:checked~div.sk-toggleable__content {max-height: 200px;max-width: 100%;overflow: auto;}#sk-container-id-31 input.sk-toggleable__control:checked~label.sk-toggleable__label-arrow:before {content: \"▾\";}#sk-container-id-31 div.sk-estimator input.sk-toggleable__control:checked~label.sk-toggleable__label {background-color: #d4ebff;}#sk-container-id-31 div.sk-label input.sk-toggleable__control:checked~label.sk-toggleable__label {background-color: #d4ebff;}#sk-container-id-31 input.sk-hidden--visually {border: 0;clip: rect(1px 1px 1px 1px);clip: rect(1px, 1px, 1px, 1px);height: 1px;margin: -1px;overflow: hidden;padding: 0;position: absolute;width: 1px;}#sk-container-id-31 div.sk-estimator {font-family: monospace;background-color: #f0f8ff;border: 1px dotted black;border-radius: 0.25em;box-sizing: border-box;margin-bottom: 0.5em;}#sk-container-id-31 div.sk-estimator:hover {background-color: #d4ebff;}#sk-container-id-31 div.sk-parallel-item::after {content: \"\";width: 100%;border-bottom: 1px solid gray;flex-grow: 1;}#sk-container-id-31 div.sk-label:hover label.sk-toggleable__label {background-color: #d4ebff;}#sk-container-id-31 div.sk-serial::before {content: \"\";position: absolute;border-left: 1px solid gray;box-sizing: border-box;top: 0;bottom: 0;left: 50%;z-index: 0;}#sk-container-id-31 div.sk-serial {display: flex;flex-direction: column;align-items: center;background-color: white;padding-right: 0.2em;padding-left: 0.2em;position: relative;}#sk-container-id-31 div.sk-item {position: relative;z-index: 1;}#sk-container-id-31 div.sk-parallel {display: flex;align-items: stretch;justify-content: center;background-color: white;position: relative;}#sk-container-id-31 div.sk-item::before, #sk-container-id-31 div.sk-parallel-item::before {content: \"\";position: absolute;border-left: 1px solid gray;box-sizing: border-box;top: 0;bottom: 0;left: 50%;z-index: -1;}#sk-container-id-31 div.sk-parallel-item {display: flex;flex-direction: column;z-index: 1;position: relative;background-color: white;}#sk-container-id-31 div.sk-parallel-item:first-child::after {align-self: flex-end;width: 50%;}#sk-container-id-31 div.sk-parallel-item:last-child::after {align-self: flex-start;width: 50%;}#sk-container-id-31 div.sk-parallel-item:only-child::after {width: 0;}#sk-container-id-31 div.sk-dashed-wrapped {border: 1px dashed gray;margin: 0 0.4em 0.5em 0.4em;box-sizing: border-box;padding-bottom: 0.4em;background-color: white;}#sk-container-id-31 div.sk-label label {font-family: monospace;font-weight: bold;display: inline-block;line-height: 1.2em;}#sk-container-id-31 div.sk-label-container {text-align: center;}#sk-container-id-31 div.sk-container {/* jupyter's `normalize.less` sets `[hidden] { display: none; }` but bootstrap.min.css set `[hidden] { display: none !important; }` so we also need the `!important` here to be able to override the default hidden behavior on the sphinx rendered scikit-learn.org. See: https://github.com/scikit-learn/scikit-learn/issues/21755 */display: inline-block !important;position: relative;}#sk-container-id-31 div.sk-text-repr-fallback {display: none;}</style><div id=\"sk-container-id-31\" class=\"sk-top-container\"><div class=\"sk-text-repr-fallback\"><pre>RandomForestClassifier()</pre><b>In a Jupyter environment, please rerun this cell to show the HTML representation or trust the notebook. <br />On GitHub, the HTML representation is unable to render, please try loading this page with nbviewer.org.</b></div><div class=\"sk-container\" hidden><div class=\"sk-item\"><div class=\"sk-estimator sk-toggleable\"><input class=\"sk-toggleable__control sk-hidden--visually\" id=\"sk-estimator-id-31\" type=\"checkbox\" checked><label for=\"sk-estimator-id-31\" class=\"sk-toggleable__label sk-toggleable__label-arrow\">RandomForestClassifier</label><div class=\"sk-toggleable__content\"><pre>RandomForestClassifier()</pre></div></div></div></div></div>"
      ],
      "text/plain": [
       "RandomForestClassifier()"
      ]
     },
     "execution_count": 622,
     "metadata": {},
     "output_type": "execute_result"
    }
   ],
   "source": [
    "clf = RandomForestClassifier()\n",
    "clf.fit(X_train, y_train)"
   ]
  },
  {
   "cell_type": "code",
   "execution_count": 623,
   "id": "a230aecb",
   "metadata": {},
   "outputs": [
    {
     "data": {
      "text/plain": [
       "1.0"
      ]
     },
     "execution_count": 623,
     "metadata": {},
     "output_type": "execute_result"
    }
   ],
   "source": [
    "y_pred = clf.predict(X_train)\n",
    "accuracy_score(y_train,y_pred) ### great score"
   ]
  },
  {
   "cell_type": "code",
   "execution_count": 624,
   "id": "ea5d0a3f",
   "metadata": {},
   "outputs": [
    {
     "data": {
      "text/plain": [
       "0.7412236710130391"
      ]
     },
     "execution_count": 624,
     "metadata": {},
     "output_type": "execute_result"
    }
   ],
   "source": [
    "y_pred2 = clf.predict(X_test)\n",
    "accuracy_score(y_test,y_pred2) "
   ]
  },
  {
   "cell_type": "markdown",
   "id": "f04bafea",
   "metadata": {},
   "source": [
    "#### With Logistic Regression"
   ]
  },
  {
   "cell_type": "code",
   "execution_count": 625,
   "id": "112e7696",
   "metadata": {},
   "outputs": [],
   "source": [
    "from sklearn.linear_model import LogisticRegression"
   ]
  },
  {
   "cell_type": "code",
   "execution_count": 626,
   "id": "543603f2",
   "metadata": {},
   "outputs": [
    {
     "data": {
      "text/html": [
       "<style>#sk-container-id-32 {color: black;background-color: white;}#sk-container-id-32 pre{padding: 0;}#sk-container-id-32 div.sk-toggleable {background-color: white;}#sk-container-id-32 label.sk-toggleable__label {cursor: pointer;display: block;width: 100%;margin-bottom: 0;padding: 0.3em;box-sizing: border-box;text-align: center;}#sk-container-id-32 label.sk-toggleable__label-arrow:before {content: \"▸\";float: left;margin-right: 0.25em;color: #696969;}#sk-container-id-32 label.sk-toggleable__label-arrow:hover:before {color: black;}#sk-container-id-32 div.sk-estimator:hover label.sk-toggleable__label-arrow:before {color: black;}#sk-container-id-32 div.sk-toggleable__content {max-height: 0;max-width: 0;overflow: hidden;text-align: left;background-color: #f0f8ff;}#sk-container-id-32 div.sk-toggleable__content pre {margin: 0.2em;color: black;border-radius: 0.25em;background-color: #f0f8ff;}#sk-container-id-32 input.sk-toggleable__control:checked~div.sk-toggleable__content {max-height: 200px;max-width: 100%;overflow: auto;}#sk-container-id-32 input.sk-toggleable__control:checked~label.sk-toggleable__label-arrow:before {content: \"▾\";}#sk-container-id-32 div.sk-estimator input.sk-toggleable__control:checked~label.sk-toggleable__label {background-color: #d4ebff;}#sk-container-id-32 div.sk-label input.sk-toggleable__control:checked~label.sk-toggleable__label {background-color: #d4ebff;}#sk-container-id-32 input.sk-hidden--visually {border: 0;clip: rect(1px 1px 1px 1px);clip: rect(1px, 1px, 1px, 1px);height: 1px;margin: -1px;overflow: hidden;padding: 0;position: absolute;width: 1px;}#sk-container-id-32 div.sk-estimator {font-family: monospace;background-color: #f0f8ff;border: 1px dotted black;border-radius: 0.25em;box-sizing: border-box;margin-bottom: 0.5em;}#sk-container-id-32 div.sk-estimator:hover {background-color: #d4ebff;}#sk-container-id-32 div.sk-parallel-item::after {content: \"\";width: 100%;border-bottom: 1px solid gray;flex-grow: 1;}#sk-container-id-32 div.sk-label:hover label.sk-toggleable__label {background-color: #d4ebff;}#sk-container-id-32 div.sk-serial::before {content: \"\";position: absolute;border-left: 1px solid gray;box-sizing: border-box;top: 0;bottom: 0;left: 50%;z-index: 0;}#sk-container-id-32 div.sk-serial {display: flex;flex-direction: column;align-items: center;background-color: white;padding-right: 0.2em;padding-left: 0.2em;position: relative;}#sk-container-id-32 div.sk-item {position: relative;z-index: 1;}#sk-container-id-32 div.sk-parallel {display: flex;align-items: stretch;justify-content: center;background-color: white;position: relative;}#sk-container-id-32 div.sk-item::before, #sk-container-id-32 div.sk-parallel-item::before {content: \"\";position: absolute;border-left: 1px solid gray;box-sizing: border-box;top: 0;bottom: 0;left: 50%;z-index: -1;}#sk-container-id-32 div.sk-parallel-item {display: flex;flex-direction: column;z-index: 1;position: relative;background-color: white;}#sk-container-id-32 div.sk-parallel-item:first-child::after {align-self: flex-end;width: 50%;}#sk-container-id-32 div.sk-parallel-item:last-child::after {align-self: flex-start;width: 50%;}#sk-container-id-32 div.sk-parallel-item:only-child::after {width: 0;}#sk-container-id-32 div.sk-dashed-wrapped {border: 1px dashed gray;margin: 0 0.4em 0.5em 0.4em;box-sizing: border-box;padding-bottom: 0.4em;background-color: white;}#sk-container-id-32 div.sk-label label {font-family: monospace;font-weight: bold;display: inline-block;line-height: 1.2em;}#sk-container-id-32 div.sk-label-container {text-align: center;}#sk-container-id-32 div.sk-container {/* jupyter's `normalize.less` sets `[hidden] { display: none; }` but bootstrap.min.css set `[hidden] { display: none !important; }` so we also need the `!important` here to be able to override the default hidden behavior on the sphinx rendered scikit-learn.org. See: https://github.com/scikit-learn/scikit-learn/issues/21755 */display: inline-block !important;position: relative;}#sk-container-id-32 div.sk-text-repr-fallback {display: none;}</style><div id=\"sk-container-id-32\" class=\"sk-top-container\"><div class=\"sk-text-repr-fallback\"><pre>LogisticRegression()</pre><b>In a Jupyter environment, please rerun this cell to show the HTML representation or trust the notebook. <br />On GitHub, the HTML representation is unable to render, please try loading this page with nbviewer.org.</b></div><div class=\"sk-container\" hidden><div class=\"sk-item\"><div class=\"sk-estimator sk-toggleable\"><input class=\"sk-toggleable__control sk-hidden--visually\" id=\"sk-estimator-id-32\" type=\"checkbox\" checked><label for=\"sk-estimator-id-32\" class=\"sk-toggleable__label sk-toggleable__label-arrow\">LogisticRegression</label><div class=\"sk-toggleable__content\"><pre>LogisticRegression()</pre></div></div></div></div></div>"
      ],
      "text/plain": [
       "LogisticRegression()"
      ]
     },
     "execution_count": 626,
     "metadata": {},
     "output_type": "execute_result"
    }
   ],
   "source": [
    "clf = LogisticRegression()\n",
    "clf.fit(X_train, y_train)"
   ]
  },
  {
   "cell_type": "code",
   "execution_count": 627,
   "id": "5603c6e6",
   "metadata": {},
   "outputs": [
    {
     "data": {
      "text/plain": [
       "0.9421364985163204"
      ]
     },
     "execution_count": 627,
     "metadata": {},
     "output_type": "execute_result"
    }
   ],
   "source": [
    "y_pred = clf.predict(X_train)\n",
    "accuracy_score(y_train,y_pred) ### great score"
   ]
  },
  {
   "cell_type": "code",
   "execution_count": 628,
   "id": "cacc2406",
   "metadata": {},
   "outputs": [
    {
     "data": {
      "text/plain": [
       "0.7101303911735206"
      ]
     },
     "execution_count": 628,
     "metadata": {},
     "output_type": "execute_result"
    }
   ],
   "source": [
    "y_pred2 = clf.predict(X_test)\n",
    "accuracy_score(y_test,y_pred2) "
   ]
  },
  {
   "cell_type": "markdown",
   "id": "1f7a78f1",
   "metadata": {},
   "source": [
    "## With Descriptors"
   ]
  },
  {
   "cell_type": "code",
   "execution_count": 642,
   "id": "3bc387df",
   "metadata": {},
   "outputs": [],
   "source": [
    "from rdkit import ML\n",
    "import rdkit.Chem.Descriptors as D\n",
    "import rdkit.ML.Descriptors.MoleculeDescriptors as rml"
   ]
  },
  {
   "cell_type": "code",
   "execution_count": 643,
   "id": "43ae1633",
   "metadata": {},
   "outputs": [],
   "source": [
    "l = [\"ExactMolWt\",\"MolLogP\",\"MolMR\",\"TPSA\",\"NumHAcceptors\",\"NumHDonors\",\"NumAromaticRings\",\"NumRotatableBonds\",\n",
    "    ]\n",
    "s = rml.MolecularDescriptorCalculator(l)"
   ]
  },
  {
   "cell_type": "code",
   "execution_count": 644,
   "id": "ef20765b",
   "metadata": {},
   "outputs": [],
   "source": [
    "def descripCalc(smi):\n",
    "    mol = MolFromSmiles(smi)\n",
    "    return s.CalcDescriptors(mol)"
   ]
  },
  {
   "cell_type": "code",
   "execution_count": 645,
   "id": "38f353a6",
   "metadata": {},
   "outputs": [],
   "source": [
    "fdata[\"Descriptors\"] =  fdata.SMILES.apply(descripCalc)"
   ]
  },
  {
   "cell_type": "code",
   "execution_count": 646,
   "id": "deca2dcf",
   "metadata": {},
   "outputs": [],
   "source": [
    "desArray = []\n",
    "for i in fdata.Descriptors:\n",
    "    desArray.append(list(i))"
   ]
  },
  {
   "cell_type": "code",
   "execution_count": 647,
   "id": "1665fc9b",
   "metadata": {},
   "outputs": [],
   "source": [
    "scalarData = pd.DataFrame(desArray)"
   ]
  },
  {
   "cell_type": "code",
   "execution_count": 648,
   "id": "248ee5bb",
   "metadata": {},
   "outputs": [
    {
     "data": {
      "text/html": [
       "<div>\n",
       "<style scoped>\n",
       "    .dataframe tbody tr th:only-of-type {\n",
       "        vertical-align: middle;\n",
       "    }\n",
       "\n",
       "    .dataframe tbody tr th {\n",
       "        vertical-align: top;\n",
       "    }\n",
       "\n",
       "    .dataframe thead th {\n",
       "        text-align: right;\n",
       "    }\n",
       "</style>\n",
       "<table border=\"1\" class=\"dataframe\">\n",
       "  <thead>\n",
       "    <tr style=\"text-align: right;\">\n",
       "      <th></th>\n",
       "      <th>0</th>\n",
       "      <th>1</th>\n",
       "      <th>2</th>\n",
       "      <th>3</th>\n",
       "      <th>4</th>\n",
       "      <th>5</th>\n",
       "      <th>6</th>\n",
       "      <th>7</th>\n",
       "    </tr>\n",
       "  </thead>\n",
       "  <tbody>\n",
       "    <tr>\n",
       "      <th>0</th>\n",
       "      <td>398.068491</td>\n",
       "      <td>3.70160</td>\n",
       "      <td>100.7296</td>\n",
       "      <td>141.31</td>\n",
       "      <td>7</td>\n",
       "      <td>3</td>\n",
       "      <td>3</td>\n",
       "      <td>6</td>\n",
       "    </tr>\n",
       "    <tr>\n",
       "      <th>1</th>\n",
       "      <td>520.101247</td>\n",
       "      <td>-1.12770</td>\n",
       "      <td>117.1361</td>\n",
       "      <td>206.30</td>\n",
       "      <td>12</td>\n",
       "      <td>4</td>\n",
       "      <td>2</td>\n",
       "      <td>9</td>\n",
       "    </tr>\n",
       "    <tr>\n",
       "      <th>2</th>\n",
       "      <td>304.910439</td>\n",
       "      <td>3.19840</td>\n",
       "      <td>61.1348</td>\n",
       "      <td>33.12</td>\n",
       "      <td>2</td>\n",
       "      <td>1</td>\n",
       "      <td>2</td>\n",
       "      <td>0</td>\n",
       "    </tr>\n",
       "    <tr>\n",
       "      <th>3</th>\n",
       "      <td>341.030979</td>\n",
       "      <td>2.11348</td>\n",
       "      <td>82.8264</td>\n",
       "      <td>73.10</td>\n",
       "      <td>4</td>\n",
       "      <td>2</td>\n",
       "      <td>1</td>\n",
       "      <td>6</td>\n",
       "    </tr>\n",
       "    <tr>\n",
       "      <th>4</th>\n",
       "      <td>461.168581</td>\n",
       "      <td>-1.23650</td>\n",
       "      <td>110.8570</td>\n",
       "      <td>149.15</td>\n",
       "      <td>9</td>\n",
       "      <td>5</td>\n",
       "      <td>1</td>\n",
       "      <td>3</td>\n",
       "    </tr>\n",
       "    <tr>\n",
       "      <th>...</th>\n",
       "      <td>...</td>\n",
       "      <td>...</td>\n",
       "      <td>...</td>\n",
       "      <td>...</td>\n",
       "      <td>...</td>\n",
       "      <td>...</td>\n",
       "      <td>...</td>\n",
       "      <td>...</td>\n",
       "    </tr>\n",
       "    <tr>\n",
       "      <th>3014</th>\n",
       "      <td>123.032028</td>\n",
       "      <td>0.77980</td>\n",
       "      <td>31.1963</td>\n",
       "      <td>50.19</td>\n",
       "      <td>2</td>\n",
       "      <td>1</td>\n",
       "      <td>1</td>\n",
       "      <td>1</td>\n",
       "    </tr>\n",
       "    <tr>\n",
       "      <th>3015</th>\n",
       "      <td>404.119463</td>\n",
       "      <td>3.79550</td>\n",
       "      <td>113.6804</td>\n",
       "      <td>63.68</td>\n",
       "      <td>3</td>\n",
       "      <td>0</td>\n",
       "      <td>3</td>\n",
       "      <td>6</td>\n",
       "    </tr>\n",
       "    <tr>\n",
       "      <th>3016</th>\n",
       "      <td>254.996617</td>\n",
       "      <td>1.92630</td>\n",
       "      <td>62.1097</td>\n",
       "      <td>44.70</td>\n",
       "      <td>3</td>\n",
       "      <td>1</td>\n",
       "      <td>1</td>\n",
       "      <td>0</td>\n",
       "    </tr>\n",
       "    <tr>\n",
       "      <th>3017</th>\n",
       "      <td>332.068473</td>\n",
       "      <td>3.66580</td>\n",
       "      <td>88.0271</td>\n",
       "      <td>75.99</td>\n",
       "      <td>5</td>\n",
       "      <td>2</td>\n",
       "      <td>3</td>\n",
       "      <td>0</td>\n",
       "    </tr>\n",
       "    <tr>\n",
       "      <th>3018</th>\n",
       "      <td>187.074562</td>\n",
       "      <td>1.01910</td>\n",
       "      <td>54.7061</td>\n",
       "      <td>71.77</td>\n",
       "      <td>3</td>\n",
       "      <td>2</td>\n",
       "      <td>2</td>\n",
       "      <td>1</td>\n",
       "    </tr>\n",
       "  </tbody>\n",
       "</table>\n",
       "<p>3019 rows × 8 columns</p>\n",
       "</div>"
      ],
      "text/plain": [
       "               0        1         2       3   4  5  6  7\n",
       "0     398.068491  3.70160  100.7296  141.31   7  3  3  6\n",
       "1     520.101247 -1.12770  117.1361  206.30  12  4  2  9\n",
       "2     304.910439  3.19840   61.1348   33.12   2  1  2  0\n",
       "3     341.030979  2.11348   82.8264   73.10   4  2  1  6\n",
       "4     461.168581 -1.23650  110.8570  149.15   9  5  1  3\n",
       "...          ...      ...       ...     ...  .. .. .. ..\n",
       "3014  123.032028  0.77980   31.1963   50.19   2  1  1  1\n",
       "3015  404.119463  3.79550  113.6804   63.68   3  0  3  6\n",
       "3016  254.996617  1.92630   62.1097   44.70   3  1  1  0\n",
       "3017  332.068473  3.66580   88.0271   75.99   5  2  3  0\n",
       "3018  187.074562  1.01910   54.7061   71.77   3  2  2  1\n",
       "\n",
       "[3019 rows x 8 columns]"
      ]
     },
     "execution_count": 648,
     "metadata": {},
     "output_type": "execute_result"
    }
   ],
   "source": [
    "scalarData"
   ]
  },
  {
   "cell_type": "code",
   "execution_count": 649,
   "id": "eed9458d",
   "metadata": {},
   "outputs": [],
   "source": [
    "from sklearn.preprocessing import StandardScaler\n",
    "scaler = StandardScaler()"
   ]
  },
  {
   "cell_type": "code",
   "execution_count": 650,
   "id": "e6c1ac0f",
   "metadata": {},
   "outputs": [],
   "source": [
    "scaledData = scaler.fit_transform(scalarData[[0,1,2,3]])"
   ]
  },
  {
   "cell_type": "code",
   "execution_count": 651,
   "id": "e74307da",
   "metadata": {},
   "outputs": [
    {
     "data": {
      "text/html": [
       "<div>\n",
       "<style scoped>\n",
       "    .dataframe tbody tr th:only-of-type {\n",
       "        vertical-align: middle;\n",
       "    }\n",
       "\n",
       "    .dataframe tbody tr th {\n",
       "        vertical-align: top;\n",
       "    }\n",
       "\n",
       "    .dataframe thead th {\n",
       "        text-align: right;\n",
       "    }\n",
       "</style>\n",
       "<table border=\"1\" class=\"dataframe\">\n",
       "  <thead>\n",
       "    <tr style=\"text-align: right;\">\n",
       "      <th></th>\n",
       "      <th>0</th>\n",
       "      <th>1</th>\n",
       "      <th>2</th>\n",
       "      <th>3</th>\n",
       "    </tr>\n",
       "  </thead>\n",
       "  <tbody>\n",
       "    <tr>\n",
       "      <th>0</th>\n",
       "      <td>0.337033</td>\n",
       "      <td>0.554799</td>\n",
       "      <td>0.212864</td>\n",
       "      <td>1.188705</td>\n",
       "    </tr>\n",
       "    <tr>\n",
       "      <th>1</th>\n",
       "      <td>1.217783</td>\n",
       "      <td>-1.649828</td>\n",
       "      <td>0.668521</td>\n",
       "      <td>2.374951</td>\n",
       "    </tr>\n",
       "    <tr>\n",
       "      <th>2</th>\n",
       "      <td>-0.335318</td>\n",
       "      <td>0.325082</td>\n",
       "      <td>-0.886800</td>\n",
       "      <td>-0.786060</td>\n",
       "    </tr>\n",
       "    <tr>\n",
       "      <th>3</th>\n",
       "      <td>-0.074624</td>\n",
       "      <td>-0.170195</td>\n",
       "      <td>-0.284360</td>\n",
       "      <td>-0.056315</td>\n",
       "    </tr>\n",
       "    <tr>\n",
       "      <th>4</th>\n",
       "      <td>0.792447</td>\n",
       "      <td>-1.699496</td>\n",
       "      <td>0.494132</td>\n",
       "      <td>1.331807</td>\n",
       "    </tr>\n",
       "    <tr>\n",
       "      <th>...</th>\n",
       "      <td>...</td>\n",
       "      <td>...</td>\n",
       "      <td>...</td>\n",
       "      <td>...</td>\n",
       "    </tr>\n",
       "    <tr>\n",
       "      <th>3014</th>\n",
       "      <td>-1.647992</td>\n",
       "      <td>-0.779034</td>\n",
       "      <td>-1.718280</td>\n",
       "      <td>-0.474486</td>\n",
       "    </tr>\n",
       "    <tr>\n",
       "      <th>3015</th>\n",
       "      <td>0.380705</td>\n",
       "      <td>0.597665</td>\n",
       "      <td>0.572546</td>\n",
       "      <td>-0.228256</td>\n",
       "    </tr>\n",
       "    <tr>\n",
       "      <th>3016</th>\n",
       "      <td>-0.695562</td>\n",
       "      <td>-0.255645</td>\n",
       "      <td>-0.859724</td>\n",
       "      <td>-0.574693</td>\n",
       "    </tr>\n",
       "    <tr>\n",
       "      <th>3017</th>\n",
       "      <td>-0.139310</td>\n",
       "      <td>0.538455</td>\n",
       "      <td>-0.139922</td>\n",
       "      <td>-0.003565</td>\n",
       "    </tr>\n",
       "    <tr>\n",
       "      <th>3018</th>\n",
       "      <td>-1.185777</td>\n",
       "      <td>-0.669791</td>\n",
       "      <td>-1.065344</td>\n",
       "      <td>-0.080591</td>\n",
       "    </tr>\n",
       "  </tbody>\n",
       "</table>\n",
       "<p>3019 rows × 4 columns</p>\n",
       "</div>"
      ],
      "text/plain": [
       "             0         1         2         3\n",
       "0     0.337033  0.554799  0.212864  1.188705\n",
       "1     1.217783 -1.649828  0.668521  2.374951\n",
       "2    -0.335318  0.325082 -0.886800 -0.786060\n",
       "3    -0.074624 -0.170195 -0.284360 -0.056315\n",
       "4     0.792447 -1.699496  0.494132  1.331807\n",
       "...        ...       ...       ...       ...\n",
       "3014 -1.647992 -0.779034 -1.718280 -0.474486\n",
       "3015  0.380705  0.597665  0.572546 -0.228256\n",
       "3016 -0.695562 -0.255645 -0.859724 -0.574693\n",
       "3017 -0.139310  0.538455 -0.139922 -0.003565\n",
       "3018 -1.185777 -0.669791 -1.065344 -0.080591\n",
       "\n",
       "[3019 rows x 4 columns]"
      ]
     },
     "execution_count": 651,
     "metadata": {},
     "output_type": "execute_result"
    }
   ],
   "source": [
    "pd.DataFrame(scaledData)"
   ]
  },
  {
   "cell_type": "code",
   "execution_count": 652,
   "id": "7b35e06c",
   "metadata": {},
   "outputs": [],
   "source": [
    "scalarData[[0,1,2,3]] = pd.DataFrame(scaledData)"
   ]
  },
  {
   "cell_type": "code",
   "execution_count": 653,
   "id": "4502c5ab",
   "metadata": {},
   "outputs": [
    {
     "data": {
      "text/html": [
       "<div>\n",
       "<style scoped>\n",
       "    .dataframe tbody tr th:only-of-type {\n",
       "        vertical-align: middle;\n",
       "    }\n",
       "\n",
       "    .dataframe tbody tr th {\n",
       "        vertical-align: top;\n",
       "    }\n",
       "\n",
       "    .dataframe thead th {\n",
       "        text-align: right;\n",
       "    }\n",
       "</style>\n",
       "<table border=\"1\" class=\"dataframe\">\n",
       "  <thead>\n",
       "    <tr style=\"text-align: right;\">\n",
       "      <th></th>\n",
       "      <th>0</th>\n",
       "      <th>1</th>\n",
       "      <th>2</th>\n",
       "      <th>3</th>\n",
       "      <th>4</th>\n",
       "      <th>5</th>\n",
       "      <th>6</th>\n",
       "      <th>7</th>\n",
       "    </tr>\n",
       "  </thead>\n",
       "  <tbody>\n",
       "    <tr>\n",
       "      <th>0</th>\n",
       "      <td>0.337033</td>\n",
       "      <td>0.554799</td>\n",
       "      <td>0.212864</td>\n",
       "      <td>1.188705</td>\n",
       "      <td>7</td>\n",
       "      <td>3</td>\n",
       "      <td>3</td>\n",
       "      <td>6</td>\n",
       "    </tr>\n",
       "    <tr>\n",
       "      <th>1</th>\n",
       "      <td>1.217783</td>\n",
       "      <td>-1.649828</td>\n",
       "      <td>0.668521</td>\n",
       "      <td>2.374951</td>\n",
       "      <td>12</td>\n",
       "      <td>4</td>\n",
       "      <td>2</td>\n",
       "      <td>9</td>\n",
       "    </tr>\n",
       "    <tr>\n",
       "      <th>2</th>\n",
       "      <td>-0.335318</td>\n",
       "      <td>0.325082</td>\n",
       "      <td>-0.886800</td>\n",
       "      <td>-0.786060</td>\n",
       "      <td>2</td>\n",
       "      <td>1</td>\n",
       "      <td>2</td>\n",
       "      <td>0</td>\n",
       "    </tr>\n",
       "    <tr>\n",
       "      <th>3</th>\n",
       "      <td>-0.074624</td>\n",
       "      <td>-0.170195</td>\n",
       "      <td>-0.284360</td>\n",
       "      <td>-0.056315</td>\n",
       "      <td>4</td>\n",
       "      <td>2</td>\n",
       "      <td>1</td>\n",
       "      <td>6</td>\n",
       "    </tr>\n",
       "    <tr>\n",
       "      <th>4</th>\n",
       "      <td>0.792447</td>\n",
       "      <td>-1.699496</td>\n",
       "      <td>0.494132</td>\n",
       "      <td>1.331807</td>\n",
       "      <td>9</td>\n",
       "      <td>5</td>\n",
       "      <td>1</td>\n",
       "      <td>3</td>\n",
       "    </tr>\n",
       "    <tr>\n",
       "      <th>...</th>\n",
       "      <td>...</td>\n",
       "      <td>...</td>\n",
       "      <td>...</td>\n",
       "      <td>...</td>\n",
       "      <td>...</td>\n",
       "      <td>...</td>\n",
       "      <td>...</td>\n",
       "      <td>...</td>\n",
       "    </tr>\n",
       "    <tr>\n",
       "      <th>3014</th>\n",
       "      <td>-1.647992</td>\n",
       "      <td>-0.779034</td>\n",
       "      <td>-1.718280</td>\n",
       "      <td>-0.474486</td>\n",
       "      <td>2</td>\n",
       "      <td>1</td>\n",
       "      <td>1</td>\n",
       "      <td>1</td>\n",
       "    </tr>\n",
       "    <tr>\n",
       "      <th>3015</th>\n",
       "      <td>0.380705</td>\n",
       "      <td>0.597665</td>\n",
       "      <td>0.572546</td>\n",
       "      <td>-0.228256</td>\n",
       "      <td>3</td>\n",
       "      <td>0</td>\n",
       "      <td>3</td>\n",
       "      <td>6</td>\n",
       "    </tr>\n",
       "    <tr>\n",
       "      <th>3016</th>\n",
       "      <td>-0.695562</td>\n",
       "      <td>-0.255645</td>\n",
       "      <td>-0.859724</td>\n",
       "      <td>-0.574693</td>\n",
       "      <td>3</td>\n",
       "      <td>1</td>\n",
       "      <td>1</td>\n",
       "      <td>0</td>\n",
       "    </tr>\n",
       "    <tr>\n",
       "      <th>3017</th>\n",
       "      <td>-0.139310</td>\n",
       "      <td>0.538455</td>\n",
       "      <td>-0.139922</td>\n",
       "      <td>-0.003565</td>\n",
       "      <td>5</td>\n",
       "      <td>2</td>\n",
       "      <td>3</td>\n",
       "      <td>0</td>\n",
       "    </tr>\n",
       "    <tr>\n",
       "      <th>3018</th>\n",
       "      <td>-1.185777</td>\n",
       "      <td>-0.669791</td>\n",
       "      <td>-1.065344</td>\n",
       "      <td>-0.080591</td>\n",
       "      <td>3</td>\n",
       "      <td>2</td>\n",
       "      <td>2</td>\n",
       "      <td>1</td>\n",
       "    </tr>\n",
       "  </tbody>\n",
       "</table>\n",
       "<p>3019 rows × 8 columns</p>\n",
       "</div>"
      ],
      "text/plain": [
       "             0         1         2         3   4  5  6  7\n",
       "0     0.337033  0.554799  0.212864  1.188705   7  3  3  6\n",
       "1     1.217783 -1.649828  0.668521  2.374951  12  4  2  9\n",
       "2    -0.335318  0.325082 -0.886800 -0.786060   2  1  2  0\n",
       "3    -0.074624 -0.170195 -0.284360 -0.056315   4  2  1  6\n",
       "4     0.792447 -1.699496  0.494132  1.331807   9  5  1  3\n",
       "...        ...       ...       ...       ...  .. .. .. ..\n",
       "3014 -1.647992 -0.779034 -1.718280 -0.474486   2  1  1  1\n",
       "3015  0.380705  0.597665  0.572546 -0.228256   3  0  3  6\n",
       "3016 -0.695562 -0.255645 -0.859724 -0.574693   3  1  1  0\n",
       "3017 -0.139310  0.538455 -0.139922 -0.003565   5  2  3  0\n",
       "3018 -1.185777 -0.669791 -1.065344 -0.080591   3  2  2  1\n",
       "\n",
       "[3019 rows x 8 columns]"
      ]
     },
     "execution_count": 653,
     "metadata": {},
     "output_type": "execute_result"
    }
   ],
   "source": [
    "scalarData"
   ]
  },
  {
   "cell_type": "code",
   "execution_count": 657,
   "id": "50c1ab56",
   "metadata": {},
   "outputs": [],
   "source": [
    "final_df = pd.concat([scalarData,fdata.LABELS.reset_index(drop=True)],axis=1)"
   ]
  },
  {
   "cell_type": "code",
   "execution_count": 658,
   "id": "1994b100",
   "metadata": {},
   "outputs": [
    {
     "data": {
      "text/html": [
       "<div>\n",
       "<style scoped>\n",
       "    .dataframe tbody tr th:only-of-type {\n",
       "        vertical-align: middle;\n",
       "    }\n",
       "\n",
       "    .dataframe tbody tr th {\n",
       "        vertical-align: top;\n",
       "    }\n",
       "\n",
       "    .dataframe thead th {\n",
       "        text-align: right;\n",
       "    }\n",
       "</style>\n",
       "<table border=\"1\" class=\"dataframe\">\n",
       "  <thead>\n",
       "    <tr style=\"text-align: right;\">\n",
       "      <th></th>\n",
       "      <th>0</th>\n",
       "      <th>1</th>\n",
       "      <th>2</th>\n",
       "      <th>3</th>\n",
       "      <th>4</th>\n",
       "      <th>5</th>\n",
       "      <th>6</th>\n",
       "      <th>7</th>\n",
       "      <th>LABELS</th>\n",
       "    </tr>\n",
       "  </thead>\n",
       "  <tbody>\n",
       "    <tr>\n",
       "      <th>0</th>\n",
       "      <td>0.337033</td>\n",
       "      <td>0.554799</td>\n",
       "      <td>0.212864</td>\n",
       "      <td>1.188705</td>\n",
       "      <td>7</td>\n",
       "      <td>3</td>\n",
       "      <td>3</td>\n",
       "      <td>6</td>\n",
       "      <td>0</td>\n",
       "    </tr>\n",
       "    <tr>\n",
       "      <th>1</th>\n",
       "      <td>1.217783</td>\n",
       "      <td>-1.649828</td>\n",
       "      <td>0.668521</td>\n",
       "      <td>2.374951</td>\n",
       "      <td>12</td>\n",
       "      <td>4</td>\n",
       "      <td>2</td>\n",
       "      <td>9</td>\n",
       "      <td>0</td>\n",
       "    </tr>\n",
       "    <tr>\n",
       "      <th>2</th>\n",
       "      <td>-0.335318</td>\n",
       "      <td>0.325082</td>\n",
       "      <td>-0.886800</td>\n",
       "      <td>-0.786060</td>\n",
       "      <td>2</td>\n",
       "      <td>1</td>\n",
       "      <td>2</td>\n",
       "      <td>0</td>\n",
       "      <td>0</td>\n",
       "    </tr>\n",
       "    <tr>\n",
       "      <th>3</th>\n",
       "      <td>-0.074624</td>\n",
       "      <td>-0.170195</td>\n",
       "      <td>-0.284360</td>\n",
       "      <td>-0.056315</td>\n",
       "      <td>4</td>\n",
       "      <td>2</td>\n",
       "      <td>1</td>\n",
       "      <td>6</td>\n",
       "      <td>0</td>\n",
       "    </tr>\n",
       "    <tr>\n",
       "      <th>4</th>\n",
       "      <td>0.792447</td>\n",
       "      <td>-1.699496</td>\n",
       "      <td>0.494132</td>\n",
       "      <td>1.331807</td>\n",
       "      <td>9</td>\n",
       "      <td>5</td>\n",
       "      <td>1</td>\n",
       "      <td>3</td>\n",
       "      <td>0</td>\n",
       "    </tr>\n",
       "    <tr>\n",
       "      <th>...</th>\n",
       "      <td>...</td>\n",
       "      <td>...</td>\n",
       "      <td>...</td>\n",
       "      <td>...</td>\n",
       "      <td>...</td>\n",
       "      <td>...</td>\n",
       "      <td>...</td>\n",
       "      <td>...</td>\n",
       "      <td>...</td>\n",
       "    </tr>\n",
       "    <tr>\n",
       "      <th>3014</th>\n",
       "      <td>-1.647992</td>\n",
       "      <td>-0.779034</td>\n",
       "      <td>-1.718280</td>\n",
       "      <td>-0.474486</td>\n",
       "      <td>2</td>\n",
       "      <td>1</td>\n",
       "      <td>1</td>\n",
       "      <td>1</td>\n",
       "      <td>0</td>\n",
       "    </tr>\n",
       "    <tr>\n",
       "      <th>3015</th>\n",
       "      <td>0.380705</td>\n",
       "      <td>0.597665</td>\n",
       "      <td>0.572546</td>\n",
       "      <td>-0.228256</td>\n",
       "      <td>3</td>\n",
       "      <td>0</td>\n",
       "      <td>3</td>\n",
       "      <td>6</td>\n",
       "      <td>0</td>\n",
       "    </tr>\n",
       "    <tr>\n",
       "      <th>3016</th>\n",
       "      <td>-0.695562</td>\n",
       "      <td>-0.255645</td>\n",
       "      <td>-0.859724</td>\n",
       "      <td>-0.574693</td>\n",
       "      <td>3</td>\n",
       "      <td>1</td>\n",
       "      <td>1</td>\n",
       "      <td>0</td>\n",
       "      <td>0</td>\n",
       "    </tr>\n",
       "    <tr>\n",
       "      <th>3017</th>\n",
       "      <td>-0.139310</td>\n",
       "      <td>0.538455</td>\n",
       "      <td>-0.139922</td>\n",
       "      <td>-0.003565</td>\n",
       "      <td>5</td>\n",
       "      <td>2</td>\n",
       "      <td>3</td>\n",
       "      <td>0</td>\n",
       "      <td>0</td>\n",
       "    </tr>\n",
       "    <tr>\n",
       "      <th>3018</th>\n",
       "      <td>-1.185777</td>\n",
       "      <td>-0.669791</td>\n",
       "      <td>-1.065344</td>\n",
       "      <td>-0.080591</td>\n",
       "      <td>3</td>\n",
       "      <td>2</td>\n",
       "      <td>2</td>\n",
       "      <td>1</td>\n",
       "      <td>0</td>\n",
       "    </tr>\n",
       "  </tbody>\n",
       "</table>\n",
       "<p>3019 rows × 9 columns</p>\n",
       "</div>"
      ],
      "text/plain": [
       "             0         1         2         3   4  5  6  7  LABELS\n",
       "0     0.337033  0.554799  0.212864  1.188705   7  3  3  6       0\n",
       "1     1.217783 -1.649828  0.668521  2.374951  12  4  2  9       0\n",
       "2    -0.335318  0.325082 -0.886800 -0.786060   2  1  2  0       0\n",
       "3    -0.074624 -0.170195 -0.284360 -0.056315   4  2  1  6       0\n",
       "4     0.792447 -1.699496  0.494132  1.331807   9  5  1  3       0\n",
       "...        ...       ...       ...       ...  .. .. .. ..     ...\n",
       "3014 -1.647992 -0.779034 -1.718280 -0.474486   2  1  1  1       0\n",
       "3015  0.380705  0.597665  0.572546 -0.228256   3  0  3  6       0\n",
       "3016 -0.695562 -0.255645 -0.859724 -0.574693   3  1  1  0       0\n",
       "3017 -0.139310  0.538455 -0.139922 -0.003565   5  2  3  0       0\n",
       "3018 -1.185777 -0.669791 -1.065344 -0.080591   3  2  2  1       0\n",
       "\n",
       "[3019 rows x 9 columns]"
      ]
     },
     "execution_count": 658,
     "metadata": {},
     "output_type": "execute_result"
    }
   ],
   "source": [
    "final_df"
   ]
  },
  {
   "cell_type": "code",
   "execution_count": 659,
   "id": "422c5c60",
   "metadata": {},
   "outputs": [],
   "source": [
    "X_train, X_test, y_train, y_test = train_test_split(final_df.drop(\"LABELS\",axis=1), final_df[\"LABELS\"], test_size=0.33, random_state=42,shuffle=True,stratify=final_df.LABELS)"
   ]
  },
  {
   "cell_type": "code",
   "execution_count": 660,
   "id": "9f936308",
   "metadata": {},
   "outputs": [
    {
     "data": {
      "text/html": [
       "<style>#sk-container-id-35 {color: black;background-color: white;}#sk-container-id-35 pre{padding: 0;}#sk-container-id-35 div.sk-toggleable {background-color: white;}#sk-container-id-35 label.sk-toggleable__label {cursor: pointer;display: block;width: 100%;margin-bottom: 0;padding: 0.3em;box-sizing: border-box;text-align: center;}#sk-container-id-35 label.sk-toggleable__label-arrow:before {content: \"▸\";float: left;margin-right: 0.25em;color: #696969;}#sk-container-id-35 label.sk-toggleable__label-arrow:hover:before {color: black;}#sk-container-id-35 div.sk-estimator:hover label.sk-toggleable__label-arrow:before {color: black;}#sk-container-id-35 div.sk-toggleable__content {max-height: 0;max-width: 0;overflow: hidden;text-align: left;background-color: #f0f8ff;}#sk-container-id-35 div.sk-toggleable__content pre {margin: 0.2em;color: black;border-radius: 0.25em;background-color: #f0f8ff;}#sk-container-id-35 input.sk-toggleable__control:checked~div.sk-toggleable__content {max-height: 200px;max-width: 100%;overflow: auto;}#sk-container-id-35 input.sk-toggleable__control:checked~label.sk-toggleable__label-arrow:before {content: \"▾\";}#sk-container-id-35 div.sk-estimator input.sk-toggleable__control:checked~label.sk-toggleable__label {background-color: #d4ebff;}#sk-container-id-35 div.sk-label input.sk-toggleable__control:checked~label.sk-toggleable__label {background-color: #d4ebff;}#sk-container-id-35 input.sk-hidden--visually {border: 0;clip: rect(1px 1px 1px 1px);clip: rect(1px, 1px, 1px, 1px);height: 1px;margin: -1px;overflow: hidden;padding: 0;position: absolute;width: 1px;}#sk-container-id-35 div.sk-estimator {font-family: monospace;background-color: #f0f8ff;border: 1px dotted black;border-radius: 0.25em;box-sizing: border-box;margin-bottom: 0.5em;}#sk-container-id-35 div.sk-estimator:hover {background-color: #d4ebff;}#sk-container-id-35 div.sk-parallel-item::after {content: \"\";width: 100%;border-bottom: 1px solid gray;flex-grow: 1;}#sk-container-id-35 div.sk-label:hover label.sk-toggleable__label {background-color: #d4ebff;}#sk-container-id-35 div.sk-serial::before {content: \"\";position: absolute;border-left: 1px solid gray;box-sizing: border-box;top: 0;bottom: 0;left: 50%;z-index: 0;}#sk-container-id-35 div.sk-serial {display: flex;flex-direction: column;align-items: center;background-color: white;padding-right: 0.2em;padding-left: 0.2em;position: relative;}#sk-container-id-35 div.sk-item {position: relative;z-index: 1;}#sk-container-id-35 div.sk-parallel {display: flex;align-items: stretch;justify-content: center;background-color: white;position: relative;}#sk-container-id-35 div.sk-item::before, #sk-container-id-35 div.sk-parallel-item::before {content: \"\";position: absolute;border-left: 1px solid gray;box-sizing: border-box;top: 0;bottom: 0;left: 50%;z-index: -1;}#sk-container-id-35 div.sk-parallel-item {display: flex;flex-direction: column;z-index: 1;position: relative;background-color: white;}#sk-container-id-35 div.sk-parallel-item:first-child::after {align-self: flex-end;width: 50%;}#sk-container-id-35 div.sk-parallel-item:last-child::after {align-self: flex-start;width: 50%;}#sk-container-id-35 div.sk-parallel-item:only-child::after {width: 0;}#sk-container-id-35 div.sk-dashed-wrapped {border: 1px dashed gray;margin: 0 0.4em 0.5em 0.4em;box-sizing: border-box;padding-bottom: 0.4em;background-color: white;}#sk-container-id-35 div.sk-label label {font-family: monospace;font-weight: bold;display: inline-block;line-height: 1.2em;}#sk-container-id-35 div.sk-label-container {text-align: center;}#sk-container-id-35 div.sk-container {/* jupyter's `normalize.less` sets `[hidden] { display: none; }` but bootstrap.min.css set `[hidden] { display: none !important; }` so we also need the `!important` here to be able to override the default hidden behavior on the sphinx rendered scikit-learn.org. See: https://github.com/scikit-learn/scikit-learn/issues/21755 */display: inline-block !important;position: relative;}#sk-container-id-35 div.sk-text-repr-fallback {display: none;}</style><div id=\"sk-container-id-35\" class=\"sk-top-container\"><div class=\"sk-text-repr-fallback\"><pre>SVC()</pre><b>In a Jupyter environment, please rerun this cell to show the HTML representation or trust the notebook. <br />On GitHub, the HTML representation is unable to render, please try loading this page with nbviewer.org.</b></div><div class=\"sk-container\" hidden><div class=\"sk-item\"><div class=\"sk-estimator sk-toggleable\"><input class=\"sk-toggleable__control sk-hidden--visually\" id=\"sk-estimator-id-35\" type=\"checkbox\" checked><label for=\"sk-estimator-id-35\" class=\"sk-toggleable__label sk-toggleable__label-arrow\">SVC</label><div class=\"sk-toggleable__content\"><pre>SVC()</pre></div></div></div></div></div>"
      ],
      "text/plain": [
       "SVC()"
      ]
     },
     "execution_count": 660,
     "metadata": {},
     "output_type": "execute_result"
    }
   ],
   "source": [
    "clf = svm.SVC()\n",
    "clf.fit(X_train, y_train.values)"
   ]
  },
  {
   "cell_type": "code",
   "execution_count": 661,
   "id": "c36c05d0",
   "metadata": {},
   "outputs": [],
   "source": [
    "y_pred = clf.predict(X_train)"
   ]
  },
  {
   "cell_type": "code",
   "execution_count": 662,
   "id": "19a50107",
   "metadata": {},
   "outputs": [
    {
     "data": {
      "text/plain": [
       "0.7329376854599406"
      ]
     },
     "execution_count": 662,
     "metadata": {},
     "output_type": "execute_result"
    }
   ],
   "source": [
    "accuracy_score(y_train,y_pred) ### great score"
   ]
  },
  {
   "cell_type": "markdown",
   "id": "bf38dfda",
   "metadata": {},
   "source": [
    "### With InteractionFP + Descriptors"
   ]
  },
  {
   "cell_type": "code",
   "execution_count": 673,
   "id": "71538a91",
   "metadata": {},
   "outputs": [],
   "source": [
    "final_df = pd.concat([scalarData,FP,fdata.LABELS.reset_index(drop=True)],axis=1)"
   ]
  },
  {
   "cell_type": "code",
   "execution_count": 674,
   "id": "f9bd60b6",
   "metadata": {},
   "outputs": [
    {
     "data": {
      "text/html": [
       "<div>\n",
       "<style scoped>\n",
       "    .dataframe tbody tr th:only-of-type {\n",
       "        vertical-align: middle;\n",
       "    }\n",
       "\n",
       "    .dataframe tbody tr th {\n",
       "        vertical-align: top;\n",
       "    }\n",
       "\n",
       "    .dataframe thead th {\n",
       "        text-align: right;\n",
       "    }\n",
       "</style>\n",
       "<table border=\"1\" class=\"dataframe\">\n",
       "  <thead>\n",
       "    <tr style=\"text-align: right;\">\n",
       "      <th></th>\n",
       "      <th>0</th>\n",
       "      <th>1</th>\n",
       "      <th>2</th>\n",
       "      <th>3</th>\n",
       "      <th>4</th>\n",
       "      <th>5</th>\n",
       "      <th>6</th>\n",
       "      <th>7</th>\n",
       "      <th>0</th>\n",
       "      <th>1</th>\n",
       "      <th>...</th>\n",
       "      <th>53</th>\n",
       "      <th>54</th>\n",
       "      <th>55</th>\n",
       "      <th>56</th>\n",
       "      <th>57</th>\n",
       "      <th>58</th>\n",
       "      <th>59</th>\n",
       "      <th>60</th>\n",
       "      <th>61</th>\n",
       "      <th>LABELS</th>\n",
       "    </tr>\n",
       "  </thead>\n",
       "  <tbody>\n",
       "    <tr>\n",
       "      <th>0</th>\n",
       "      <td>0.337033</td>\n",
       "      <td>0.554799</td>\n",
       "      <td>0.212864</td>\n",
       "      <td>1.188705</td>\n",
       "      <td>7</td>\n",
       "      <td>3</td>\n",
       "      <td>3</td>\n",
       "      <td>6</td>\n",
       "      <td>0.0</td>\n",
       "      <td>0.0</td>\n",
       "      <td>...</td>\n",
       "      <td>1.0</td>\n",
       "      <td>0.0</td>\n",
       "      <td>1.0</td>\n",
       "      <td>0.0</td>\n",
       "      <td>0.0</td>\n",
       "      <td>0.0</td>\n",
       "      <td>0.0</td>\n",
       "      <td>0.0</td>\n",
       "      <td>0.0</td>\n",
       "      <td>0</td>\n",
       "    </tr>\n",
       "    <tr>\n",
       "      <th>1</th>\n",
       "      <td>1.217783</td>\n",
       "      <td>-1.649828</td>\n",
       "      <td>0.668521</td>\n",
       "      <td>2.374951</td>\n",
       "      <td>12</td>\n",
       "      <td>4</td>\n",
       "      <td>2</td>\n",
       "      <td>9</td>\n",
       "      <td>0.0</td>\n",
       "      <td>0.0</td>\n",
       "      <td>...</td>\n",
       "      <td>0.0</td>\n",
       "      <td>0.0</td>\n",
       "      <td>0.0</td>\n",
       "      <td>0.0</td>\n",
       "      <td>0.0</td>\n",
       "      <td>0.0</td>\n",
       "      <td>0.0</td>\n",
       "      <td>0.0</td>\n",
       "      <td>0.0</td>\n",
       "      <td>0</td>\n",
       "    </tr>\n",
       "    <tr>\n",
       "      <th>2</th>\n",
       "      <td>-0.335318</td>\n",
       "      <td>0.325082</td>\n",
       "      <td>-0.886800</td>\n",
       "      <td>-0.786060</td>\n",
       "      <td>2</td>\n",
       "      <td>1</td>\n",
       "      <td>2</td>\n",
       "      <td>0</td>\n",
       "      <td>0.0</td>\n",
       "      <td>0.0</td>\n",
       "      <td>...</td>\n",
       "      <td>0.0</td>\n",
       "      <td>0.0</td>\n",
       "      <td>0.0</td>\n",
       "      <td>0.0</td>\n",
       "      <td>0.0</td>\n",
       "      <td>0.0</td>\n",
       "      <td>0.0</td>\n",
       "      <td>0.0</td>\n",
       "      <td>1.0</td>\n",
       "      <td>0</td>\n",
       "    </tr>\n",
       "    <tr>\n",
       "      <th>3</th>\n",
       "      <td>-0.074624</td>\n",
       "      <td>-0.170195</td>\n",
       "      <td>-0.284360</td>\n",
       "      <td>-0.056315</td>\n",
       "      <td>4</td>\n",
       "      <td>2</td>\n",
       "      <td>1</td>\n",
       "      <td>6</td>\n",
       "      <td>0.0</td>\n",
       "      <td>0.0</td>\n",
       "      <td>...</td>\n",
       "      <td>0.0</td>\n",
       "      <td>0.0</td>\n",
       "      <td>0.0</td>\n",
       "      <td>0.0</td>\n",
       "      <td>0.0</td>\n",
       "      <td>0.0</td>\n",
       "      <td>0.0</td>\n",
       "      <td>0.0</td>\n",
       "      <td>1.0</td>\n",
       "      <td>0</td>\n",
       "    </tr>\n",
       "    <tr>\n",
       "      <th>4</th>\n",
       "      <td>0.792447</td>\n",
       "      <td>-1.699496</td>\n",
       "      <td>0.494132</td>\n",
       "      <td>1.331807</td>\n",
       "      <td>9</td>\n",
       "      <td>5</td>\n",
       "      <td>1</td>\n",
       "      <td>3</td>\n",
       "      <td>0.0</td>\n",
       "      <td>0.0</td>\n",
       "      <td>...</td>\n",
       "      <td>0.0</td>\n",
       "      <td>1.0</td>\n",
       "      <td>1.0</td>\n",
       "      <td>0.0</td>\n",
       "      <td>0.0</td>\n",
       "      <td>0.0</td>\n",
       "      <td>0.0</td>\n",
       "      <td>0.0</td>\n",
       "      <td>0.0</td>\n",
       "      <td>0</td>\n",
       "    </tr>\n",
       "    <tr>\n",
       "      <th>...</th>\n",
       "      <td>...</td>\n",
       "      <td>...</td>\n",
       "      <td>...</td>\n",
       "      <td>...</td>\n",
       "      <td>...</td>\n",
       "      <td>...</td>\n",
       "      <td>...</td>\n",
       "      <td>...</td>\n",
       "      <td>...</td>\n",
       "      <td>...</td>\n",
       "      <td>...</td>\n",
       "      <td>...</td>\n",
       "      <td>...</td>\n",
       "      <td>...</td>\n",
       "      <td>...</td>\n",
       "      <td>...</td>\n",
       "      <td>...</td>\n",
       "      <td>...</td>\n",
       "      <td>...</td>\n",
       "      <td>...</td>\n",
       "      <td>...</td>\n",
       "    </tr>\n",
       "    <tr>\n",
       "      <th>3014</th>\n",
       "      <td>-1.647992</td>\n",
       "      <td>-0.779034</td>\n",
       "      <td>-1.718280</td>\n",
       "      <td>-0.474486</td>\n",
       "      <td>2</td>\n",
       "      <td>1</td>\n",
       "      <td>1</td>\n",
       "      <td>1</td>\n",
       "      <td>0.0</td>\n",
       "      <td>0.0</td>\n",
       "      <td>...</td>\n",
       "      <td>0.0</td>\n",
       "      <td>0.0</td>\n",
       "      <td>0.0</td>\n",
       "      <td>1.0</td>\n",
       "      <td>0.0</td>\n",
       "      <td>0.0</td>\n",
       "      <td>0.0</td>\n",
       "      <td>0.0</td>\n",
       "      <td>0.0</td>\n",
       "      <td>0</td>\n",
       "    </tr>\n",
       "    <tr>\n",
       "      <th>3015</th>\n",
       "      <td>0.380705</td>\n",
       "      <td>0.597665</td>\n",
       "      <td>0.572546</td>\n",
       "      <td>-0.228256</td>\n",
       "      <td>3</td>\n",
       "      <td>0</td>\n",
       "      <td>3</td>\n",
       "      <td>6</td>\n",
       "      <td>0.0</td>\n",
       "      <td>0.0</td>\n",
       "      <td>...</td>\n",
       "      <td>0.0</td>\n",
       "      <td>0.0</td>\n",
       "      <td>1.0</td>\n",
       "      <td>0.0</td>\n",
       "      <td>0.0</td>\n",
       "      <td>0.0</td>\n",
       "      <td>0.0</td>\n",
       "      <td>0.0</td>\n",
       "      <td>0.0</td>\n",
       "      <td>0</td>\n",
       "    </tr>\n",
       "    <tr>\n",
       "      <th>3016</th>\n",
       "      <td>-0.695562</td>\n",
       "      <td>-0.255645</td>\n",
       "      <td>-0.859724</td>\n",
       "      <td>-0.574693</td>\n",
       "      <td>3</td>\n",
       "      <td>1</td>\n",
       "      <td>1</td>\n",
       "      <td>0</td>\n",
       "      <td>0.0</td>\n",
       "      <td>0.0</td>\n",
       "      <td>...</td>\n",
       "      <td>0.0</td>\n",
       "      <td>0.0</td>\n",
       "      <td>1.0</td>\n",
       "      <td>0.0</td>\n",
       "      <td>0.0</td>\n",
       "      <td>0.0</td>\n",
       "      <td>0.0</td>\n",
       "      <td>0.0</td>\n",
       "      <td>0.0</td>\n",
       "      <td>0</td>\n",
       "    </tr>\n",
       "    <tr>\n",
       "      <th>3017</th>\n",
       "      <td>-0.139310</td>\n",
       "      <td>0.538455</td>\n",
       "      <td>-0.139922</td>\n",
       "      <td>-0.003565</td>\n",
       "      <td>5</td>\n",
       "      <td>2</td>\n",
       "      <td>3</td>\n",
       "      <td>0</td>\n",
       "      <td>0.0</td>\n",
       "      <td>0.0</td>\n",
       "      <td>...</td>\n",
       "      <td>0.0</td>\n",
       "      <td>0.0</td>\n",
       "      <td>1.0</td>\n",
       "      <td>0.0</td>\n",
       "      <td>1.0</td>\n",
       "      <td>0.0</td>\n",
       "      <td>0.0</td>\n",
       "      <td>0.0</td>\n",
       "      <td>0.0</td>\n",
       "      <td>0</td>\n",
       "    </tr>\n",
       "    <tr>\n",
       "      <th>3018</th>\n",
       "      <td>-1.185777</td>\n",
       "      <td>-0.669791</td>\n",
       "      <td>-1.065344</td>\n",
       "      <td>-0.080591</td>\n",
       "      <td>3</td>\n",
       "      <td>2</td>\n",
       "      <td>2</td>\n",
       "      <td>1</td>\n",
       "      <td>0.0</td>\n",
       "      <td>0.0</td>\n",
       "      <td>...</td>\n",
       "      <td>0.0</td>\n",
       "      <td>0.0</td>\n",
       "      <td>0.0</td>\n",
       "      <td>1.0</td>\n",
       "      <td>0.0</td>\n",
       "      <td>0.0</td>\n",
       "      <td>0.0</td>\n",
       "      <td>0.0</td>\n",
       "      <td>0.0</td>\n",
       "      <td>0</td>\n",
       "    </tr>\n",
       "  </tbody>\n",
       "</table>\n",
       "<p>3019 rows × 71 columns</p>\n",
       "</div>"
      ],
      "text/plain": [
       "             0         1         2         3   4  5  6  7    0    1  ...   53  \\\n",
       "0     0.337033  0.554799  0.212864  1.188705   7  3  3  6  0.0  0.0  ...  1.0   \n",
       "1     1.217783 -1.649828  0.668521  2.374951  12  4  2  9  0.0  0.0  ...  0.0   \n",
       "2    -0.335318  0.325082 -0.886800 -0.786060   2  1  2  0  0.0  0.0  ...  0.0   \n",
       "3    -0.074624 -0.170195 -0.284360 -0.056315   4  2  1  6  0.0  0.0  ...  0.0   \n",
       "4     0.792447 -1.699496  0.494132  1.331807   9  5  1  3  0.0  0.0  ...  0.0   \n",
       "...        ...       ...       ...       ...  .. .. .. ..  ...  ...  ...  ...   \n",
       "3014 -1.647992 -0.779034 -1.718280 -0.474486   2  1  1  1  0.0  0.0  ...  0.0   \n",
       "3015  0.380705  0.597665  0.572546 -0.228256   3  0  3  6  0.0  0.0  ...  0.0   \n",
       "3016 -0.695562 -0.255645 -0.859724 -0.574693   3  1  1  0  0.0  0.0  ...  0.0   \n",
       "3017 -0.139310  0.538455 -0.139922 -0.003565   5  2  3  0  0.0  0.0  ...  0.0   \n",
       "3018 -1.185777 -0.669791 -1.065344 -0.080591   3  2  2  1  0.0  0.0  ...  0.0   \n",
       "\n",
       "       54   55   56   57   58   59   60   61  LABELS  \n",
       "0     0.0  1.0  0.0  0.0  0.0  0.0  0.0  0.0       0  \n",
       "1     0.0  0.0  0.0  0.0  0.0  0.0  0.0  0.0       0  \n",
       "2     0.0  0.0  0.0  0.0  0.0  0.0  0.0  1.0       0  \n",
       "3     0.0  0.0  0.0  0.0  0.0  0.0  0.0  1.0       0  \n",
       "4     1.0  1.0  0.0  0.0  0.0  0.0  0.0  0.0       0  \n",
       "...   ...  ...  ...  ...  ...  ...  ...  ...     ...  \n",
       "3014  0.0  0.0  1.0  0.0  0.0  0.0  0.0  0.0       0  \n",
       "3015  0.0  1.0  0.0  0.0  0.0  0.0  0.0  0.0       0  \n",
       "3016  0.0  1.0  0.0  0.0  0.0  0.0  0.0  0.0       0  \n",
       "3017  0.0  1.0  0.0  1.0  0.0  0.0  0.0  0.0       0  \n",
       "3018  0.0  0.0  1.0  0.0  0.0  0.0  0.0  0.0       0  \n",
       "\n",
       "[3019 rows x 71 columns]"
      ]
     },
     "execution_count": 674,
     "metadata": {},
     "output_type": "execute_result"
    }
   ],
   "source": [
    "final_df"
   ]
  },
  {
   "cell_type": "code",
   "execution_count": 675,
   "id": "e16649d7",
   "metadata": {},
   "outputs": [],
   "source": [
    "X_train, X_test, y_train, y_test = train_test_split(final_df.drop(\"LABELS\",axis=1), final_df[\"LABELS\"], test_size=0.33, random_state=42,shuffle=True,stratify=final_df.LABELS)"
   ]
  },
  {
   "cell_type": "code",
   "execution_count": 676,
   "id": "6b20aa38",
   "metadata": {},
   "outputs": [
    {
     "data": {
      "text/html": [
       "<style>#sk-container-id-37 {color: black;background-color: white;}#sk-container-id-37 pre{padding: 0;}#sk-container-id-37 div.sk-toggleable {background-color: white;}#sk-container-id-37 label.sk-toggleable__label {cursor: pointer;display: block;width: 100%;margin-bottom: 0;padding: 0.3em;box-sizing: border-box;text-align: center;}#sk-container-id-37 label.sk-toggleable__label-arrow:before {content: \"▸\";float: left;margin-right: 0.25em;color: #696969;}#sk-container-id-37 label.sk-toggleable__label-arrow:hover:before {color: black;}#sk-container-id-37 div.sk-estimator:hover label.sk-toggleable__label-arrow:before {color: black;}#sk-container-id-37 div.sk-toggleable__content {max-height: 0;max-width: 0;overflow: hidden;text-align: left;background-color: #f0f8ff;}#sk-container-id-37 div.sk-toggleable__content pre {margin: 0.2em;color: black;border-radius: 0.25em;background-color: #f0f8ff;}#sk-container-id-37 input.sk-toggleable__control:checked~div.sk-toggleable__content {max-height: 200px;max-width: 100%;overflow: auto;}#sk-container-id-37 input.sk-toggleable__control:checked~label.sk-toggleable__label-arrow:before {content: \"▾\";}#sk-container-id-37 div.sk-estimator input.sk-toggleable__control:checked~label.sk-toggleable__label {background-color: #d4ebff;}#sk-container-id-37 div.sk-label input.sk-toggleable__control:checked~label.sk-toggleable__label {background-color: #d4ebff;}#sk-container-id-37 input.sk-hidden--visually {border: 0;clip: rect(1px 1px 1px 1px);clip: rect(1px, 1px, 1px, 1px);height: 1px;margin: -1px;overflow: hidden;padding: 0;position: absolute;width: 1px;}#sk-container-id-37 div.sk-estimator {font-family: monospace;background-color: #f0f8ff;border: 1px dotted black;border-radius: 0.25em;box-sizing: border-box;margin-bottom: 0.5em;}#sk-container-id-37 div.sk-estimator:hover {background-color: #d4ebff;}#sk-container-id-37 div.sk-parallel-item::after {content: \"\";width: 100%;border-bottom: 1px solid gray;flex-grow: 1;}#sk-container-id-37 div.sk-label:hover label.sk-toggleable__label {background-color: #d4ebff;}#sk-container-id-37 div.sk-serial::before {content: \"\";position: absolute;border-left: 1px solid gray;box-sizing: border-box;top: 0;bottom: 0;left: 50%;z-index: 0;}#sk-container-id-37 div.sk-serial {display: flex;flex-direction: column;align-items: center;background-color: white;padding-right: 0.2em;padding-left: 0.2em;position: relative;}#sk-container-id-37 div.sk-item {position: relative;z-index: 1;}#sk-container-id-37 div.sk-parallel {display: flex;align-items: stretch;justify-content: center;background-color: white;position: relative;}#sk-container-id-37 div.sk-item::before, #sk-container-id-37 div.sk-parallel-item::before {content: \"\";position: absolute;border-left: 1px solid gray;box-sizing: border-box;top: 0;bottom: 0;left: 50%;z-index: -1;}#sk-container-id-37 div.sk-parallel-item {display: flex;flex-direction: column;z-index: 1;position: relative;background-color: white;}#sk-container-id-37 div.sk-parallel-item:first-child::after {align-self: flex-end;width: 50%;}#sk-container-id-37 div.sk-parallel-item:last-child::after {align-self: flex-start;width: 50%;}#sk-container-id-37 div.sk-parallel-item:only-child::after {width: 0;}#sk-container-id-37 div.sk-dashed-wrapped {border: 1px dashed gray;margin: 0 0.4em 0.5em 0.4em;box-sizing: border-box;padding-bottom: 0.4em;background-color: white;}#sk-container-id-37 div.sk-label label {font-family: monospace;font-weight: bold;display: inline-block;line-height: 1.2em;}#sk-container-id-37 div.sk-label-container {text-align: center;}#sk-container-id-37 div.sk-container {/* jupyter's `normalize.less` sets `[hidden] { display: none; }` but bootstrap.min.css set `[hidden] { display: none !important; }` so we also need the `!important` here to be able to override the default hidden behavior on the sphinx rendered scikit-learn.org. See: https://github.com/scikit-learn/scikit-learn/issues/21755 */display: inline-block !important;position: relative;}#sk-container-id-37 div.sk-text-repr-fallback {display: none;}</style><div id=\"sk-container-id-37\" class=\"sk-top-container\"><div class=\"sk-text-repr-fallback\"><pre>SVC()</pre><b>In a Jupyter environment, please rerun this cell to show the HTML representation or trust the notebook. <br />On GitHub, the HTML representation is unable to render, please try loading this page with nbviewer.org.</b></div><div class=\"sk-container\" hidden><div class=\"sk-item\"><div class=\"sk-estimator sk-toggleable\"><input class=\"sk-toggleable__control sk-hidden--visually\" id=\"sk-estimator-id-37\" type=\"checkbox\" checked><label for=\"sk-estimator-id-37\" class=\"sk-toggleable__label sk-toggleable__label-arrow\">SVC</label><div class=\"sk-toggleable__content\"><pre>SVC()</pre></div></div></div></div></div>"
      ],
      "text/plain": [
       "SVC()"
      ]
     },
     "execution_count": 676,
     "metadata": {},
     "output_type": "execute_result"
    }
   ],
   "source": [
    "clf = svm.SVC()\n",
    "clf.fit(X_train, y_train.values)"
   ]
  },
  {
   "cell_type": "code",
   "execution_count": 677,
   "id": "50c37607",
   "metadata": {},
   "outputs": [
    {
     "data": {
      "text/plain": [
       "0.7359050445103857"
      ]
     },
     "execution_count": 677,
     "metadata": {},
     "output_type": "execute_result"
    }
   ],
   "source": [
    "y_pred = clf.predict(X_train)\n",
    "accuracy_score(y_train,y_pred)"
   ]
  },
  {
   "cell_type": "code",
   "execution_count": 678,
   "id": "47173549",
   "metadata": {},
   "outputs": [
    {
     "data": {
      "text/plain": [
       "0.7251755265797393"
      ]
     },
     "execution_count": 678,
     "metadata": {},
     "output_type": "execute_result"
    }
   ],
   "source": [
    "y_pred2 = clf.predict(X_test)\n",
    "accuracy_score(y_test,y_pred2)"
   ]
  },
  {
   "cell_type": "code",
   "execution_count": null,
   "id": "5c437eec",
   "metadata": {},
   "outputs": [],
   "source": []
  }
 ],
 "metadata": {
  "kernelspec": {
   "display_name": "Python 3 (ipykernel)",
   "language": "python",
   "name": "python3"
  },
  "language_info": {
   "codemirror_mode": {
    "name": "ipython",
    "version": 3
   },
   "file_extension": ".py",
   "mimetype": "text/x-python",
   "name": "python",
   "nbconvert_exporter": "python",
   "pygments_lexer": "ipython3",
   "version": "3.9.7"
  }
 },
 "nbformat": 4,
 "nbformat_minor": 5
}
